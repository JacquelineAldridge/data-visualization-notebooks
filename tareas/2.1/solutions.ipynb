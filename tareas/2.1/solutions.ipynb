{
 "cells": [
  {
   "cell_type": "code",
   "execution_count": 1,
   "id": "9eaa365a",
   "metadata": {},
   "outputs": [],
   "source": [
    "import polars as pl\n",
    "from polars import selectors as cs"
   ]
  },
  {
   "cell_type": "markdown",
   "id": "cd266984",
   "metadata": {},
   "source": [
    "## 2.1."
   ]
  },
  {
   "cell_type": "code",
   "execution_count": 3,
   "id": "0a3218f1",
   "metadata": {},
   "outputs": [
    {
     "data": {
      "text/html": [
       "<div><style>\n",
       ".dataframe > thead > tr,\n",
       ".dataframe > tbody > tr {\n",
       "  text-align: right;\n",
       "  white-space: pre-wrap;\n",
       "}\n",
       "</style>\n",
       "<small>shape: (6, 4)</small><table border=\"1\" class=\"dataframe\"><thead><tr><th>nombre</th><th>edad</th><th>ciudad</th><th>salario</th></tr><tr><td>str</td><td>i64</td><td>str</td><td>i64</td></tr></thead><tbody><tr><td>&quot;Juan&quot;</td><td>25</td><td>&quot;Madrid&quot;</td><td>45000</td></tr><tr><td>&quot;María&quot;</td><td>30</td><td>&quot;Barcelona&quot;</td><td>52000</td></tr><tr><td>&quot;Pedro&quot;</td><td>35</td><td>&quot;Valencia&quot;</td><td>48000</td></tr><tr><td>&quot;Ana&quot;</td><td>28</td><td>&quot;Sevilla&quot;</td><td>46000</td></tr><tr><td>&quot;Luis&quot;</td><td>42</td><td>&quot;Bilbao&quot;</td><td>55000</td></tr><tr><td>&quot;Carmen&quot;</td><td>38</td><td>&quot;Zaragoza&quot;</td><td>49000</td></tr></tbody></table></div>"
      ],
      "text/plain": [
       "shape: (6, 4)\n",
       "┌────────┬──────┬───────────┬─────────┐\n",
       "│ nombre ┆ edad ┆ ciudad    ┆ salario │\n",
       "│ ---    ┆ ---  ┆ ---       ┆ ---     │\n",
       "│ str    ┆ i64  ┆ str       ┆ i64     │\n",
       "╞════════╪══════╪═══════════╪═════════╡\n",
       "│ Juan   ┆ 25   ┆ Madrid    ┆ 45000   │\n",
       "│ María  ┆ 30   ┆ Barcelona ┆ 52000   │\n",
       "│ Pedro  ┆ 35   ┆ Valencia  ┆ 48000   │\n",
       "│ Ana    ┆ 28   ┆ Sevilla   ┆ 46000   │\n",
       "│ Luis   ┆ 42   ┆ Bilbao    ┆ 55000   │\n",
       "│ Carmen ┆ 38   ┆ Zaragoza  ┆ 49000   │\n",
       "└────────┴──────┴───────────┴─────────┘"
      ]
     },
     "execution_count": 3,
     "metadata": {},
     "output_type": "execute_result"
    }
   ],
   "source": [
    "df_empleados = pl.read_csv(\"datos/empleados.csv\", separator=\";\")\n",
    "df_empleados"
   ]
  },
  {
   "cell_type": "code",
   "execution_count": 7,
   "id": "e6ca13cc",
   "metadata": {},
   "outputs": [
    {
     "data": {
      "text/html": [
       "<div><style>\n",
       ".dataframe > thead > tr,\n",
       ".dataframe > tbody > tr {\n",
       "  text-align: right;\n",
       "  white-space: pre-wrap;\n",
       "}\n",
       "</style>\n",
       "<small>shape: (6, 5)</small><table border=\"1\" class=\"dataframe\"><thead><tr><th>index</th><th>nombre</th><th>categoría</th><th>precio</th><th>cantidad</th></tr><tr><td>i64</td><td>str</td><td>str</td><td>f64</td><td>i64</td></tr></thead><tbody><tr><td>1</td><td>&quot;Tablet&quot;</td><td>&quot;Electronics&quot;</td><td>299.99</td><td>150</td></tr><tr><td>2</td><td>&quot;Laptop&quot;</td><td>&quot;Electronics&quot;</td><td>899.99</td><td>75</td></tr><tr><td>3</td><td>&quot;Chair&quot;</td><td>&quot;Furniture&quot;</td><td>199.99</td><td>200</td></tr><tr><td>4</td><td>&quot;Desk&quot;</td><td>&quot;Furniture&quot;</td><td>349.99</td><td>100</td></tr><tr><td>5</td><td>&quot;Phone&quot;</td><td>&quot;Electronics&quot;</td><td>599.99</td><td>300</td></tr><tr><td>6</td><td>&quot;Lamp&quot;</td><td>&quot;Furniture&quot;</td><td>89.99</td><td>150</td></tr></tbody></table></div>"
      ],
      "text/plain": [
       "shape: (6, 5)\n",
       "┌───────┬────────┬─────────────┬────────┬──────────┐\n",
       "│ index ┆ nombre ┆ categoría   ┆ precio ┆ cantidad │\n",
       "│ ---   ┆ ---    ┆ ---         ┆ ---    ┆ ---      │\n",
       "│ i64   ┆ str    ┆ str         ┆ f64    ┆ i64      │\n",
       "╞═══════╪════════╪═════════════╪════════╪══════════╡\n",
       "│ 1     ┆ Tablet ┆ Electronics ┆ 299.99 ┆ 150      │\n",
       "│ 2     ┆ Laptop ┆ Electronics ┆ 899.99 ┆ 75       │\n",
       "│ 3     ┆ Chair  ┆ Furniture   ┆ 199.99 ┆ 200      │\n",
       "│ 4     ┆ Desk   ┆ Furniture   ┆ 349.99 ┆ 100      │\n",
       "│ 5     ┆ Phone  ┆ Electronics ┆ 599.99 ┆ 300      │\n",
       "│ 6     ┆ Lamp   ┆ Furniture   ┆ 89.99  ┆ 150      │\n",
       "└───────┴────────┴─────────────┴────────┴──────────┘"
      ]
     },
     "execution_count": 7,
     "metadata": {},
     "output_type": "execute_result"
    }
   ],
   "source": [
    "df_productos = pl.read_csv(\n",
    "    \"datos/productos.csv\",\n",
    "    has_header=False,\n",
    "    new_columns=[\"index\", \"nombre\", \"categoría\", \"precio\", \"cantidad\"]\n",
    ")\n",
    "df_productos"
   ]
  },
  {
   "cell_type": "code",
   "execution_count": 15,
   "id": "9f6373f0",
   "metadata": {},
   "outputs": [
    {
     "data": {
      "text/html": [
       "<div><style>\n",
       ".dataframe > thead > tr,\n",
       ".dataframe > tbody > tr {\n",
       "  text-align: right;\n",
       "  white-space: pre-wrap;\n",
       "}\n",
       "</style>\n",
       "<small>shape: (105, 4)</small><table border=\"1\" class=\"dataframe\"><thead><tr><th>id</th><th>medicion_a</th><th>medicion_b</th><th>medicion_c</th></tr><tr><td>i64</td><td>f64</td><td>f64</td><td>f64</td></tr></thead><tbody><tr><td>1</td><td>10.0</td><td>20.0</td><td>30.0</td></tr><tr><td>2</td><td>15.0</td><td>25.0</td><td>35.0</td></tr><tr><td>3</td><td>8.0</td><td>18.0</td><td>28.0</td></tr><tr><td>4</td><td>12.0</td><td>22.0</td><td>32.0</td></tr><tr><td>5</td><td>9.0</td><td>19.0</td><td>29.0</td></tr><tr><td>&hellip;</td><td>&hellip;</td><td>&hellip;</td><td>&hellip;</td></tr><tr><td>101</td><td>108.5</td><td>118.7</td><td>128.9</td></tr><tr><td>102</td><td>109.8</td><td>119.1</td><td>129.3</td></tr><tr><td>103</td><td>110.2</td><td>120.4</td><td>130.6</td></tr><tr><td>104</td><td>111.5</td><td>121.7</td><td>131.9</td></tr><tr><td>105</td><td>112.8</td><td>123.0</td><td>133.2</td></tr></tbody></table></div>"
      ],
      "text/plain": [
       "shape: (105, 4)\n",
       "┌─────┬────────────┬────────────┬────────────┐\n",
       "│ id  ┆ medicion_a ┆ medicion_b ┆ medicion_c │\n",
       "│ --- ┆ ---        ┆ ---        ┆ ---        │\n",
       "│ i64 ┆ f64        ┆ f64        ┆ f64        │\n",
       "╞═════╪════════════╪════════════╪════════════╡\n",
       "│ 1   ┆ 10.0       ┆ 20.0       ┆ 30.0       │\n",
       "│ 2   ┆ 15.0       ┆ 25.0       ┆ 35.0       │\n",
       "│ 3   ┆ 8.0        ┆ 18.0       ┆ 28.0       │\n",
       "│ 4   ┆ 12.0       ┆ 22.0       ┆ 32.0       │\n",
       "│ 5   ┆ 9.0        ┆ 19.0       ┆ 29.0       │\n",
       "│ …   ┆ …          ┆ …          ┆ …          │\n",
       "│ 101 ┆ 108.5      ┆ 118.7      ┆ 128.9      │\n",
       "│ 102 ┆ 109.8      ┆ 119.1      ┆ 129.3      │\n",
       "│ 103 ┆ 110.2      ┆ 120.4      ┆ 130.6      │\n",
       "│ 104 ┆ 111.5      ┆ 121.7      ┆ 131.9      │\n",
       "│ 105 ┆ 112.8      ┆ 123.0      ┆ 133.2      │\n",
       "└─────┴────────────┴────────────┴────────────┘"
      ]
     },
     "execution_count": 15,
     "metadata": {},
     "output_type": "execute_result"
    }
   ],
   "source": [
    "# df_experimento = pl.read_csv(\n",
    "#     \"datos/experimento.csv\",\n",
    "#     infer_schema_length=101\n",
    "# )\n",
    "df_experimento = pl.read_csv(\n",
    "    \"datos/experimento.csv\",\n",
    "    schema_overrides={\n",
    "        \"medicion_a\": pl.Float64,\n",
    "        \"medicion_b\": pl.Float64,\n",
    "        \"medicion_c\": pl.Float64,\n",
    "    }\n",
    ")\n",
    "df_experimento"
   ]
  },
  {
   "cell_type": "code",
   "execution_count": 18,
   "id": "a7adc591",
   "metadata": {},
   "outputs": [
    {
     "data": {
      "text/html": [
       "<div><style>\n",
       ".dataframe > thead > tr,\n",
       ".dataframe > tbody > tr {\n",
       "  text-align: right;\n",
       "  white-space: pre-wrap;\n",
       "}\n",
       "</style>\n",
       "<small>shape: (9, 4)</small><table border=\"1\" class=\"dataframe\"><thead><tr><th>mes</th><th>producto</th><th>ventas</th><th>precio_unitario</th></tr><tr><td>str</td><td>str</td><td>i64</td><td>f64</td></tr></thead><tbody><tr><td>&quot;enero&quot;</td><td>&quot;A&quot;</td><td>100</td><td>25.5</td></tr><tr><td>&quot;febrero&quot;</td><td>&quot;A&quot;</td><td>120</td><td>25.5</td></tr><tr><td>&quot;marzo&quot;</td><td>&quot;A&quot;</td><td>95</td><td>26.0</td></tr><tr><td>&quot;enero&quot;</td><td>&quot;B&quot;</td><td>80</td><td>15.75</td></tr><tr><td>&quot;febrero&quot;</td><td>&quot;B&quot;</td><td>90</td><td>15.75</td></tr><tr><td>&quot;marzo&quot;</td><td>&quot;B&quot;</td><td>85</td><td>16.0</td></tr><tr><td>&quot;enero&quot;</td><td>&quot;C&quot;</td><td>150</td><td>30.0</td></tr><tr><td>&quot;febrero&quot;</td><td>&quot;C&quot;</td><td>160</td><td>30.0</td></tr><tr><td>&quot;marzo&quot;</td><td>&quot;C&quot;</td><td>140</td><td>31.5</td></tr></tbody></table></div>"
      ],
      "text/plain": [
       "shape: (9, 4)\n",
       "┌─────────┬──────────┬────────┬─────────────────┐\n",
       "│ mes     ┆ producto ┆ ventas ┆ precio_unitario │\n",
       "│ ---     ┆ ---      ┆ ---    ┆ ---             │\n",
       "│ str     ┆ str      ┆ i64    ┆ f64             │\n",
       "╞═════════╪══════════╪════════╪═════════════════╡\n",
       "│ enero   ┆ A        ┆ 100    ┆ 25.5            │\n",
       "│ febrero ┆ A        ┆ 120    ┆ 25.5            │\n",
       "│ marzo   ┆ A        ┆ 95     ┆ 26.0            │\n",
       "│ enero   ┆ B        ┆ 80     ┆ 15.75           │\n",
       "│ febrero ┆ B        ┆ 90     ┆ 15.75           │\n",
       "│ marzo   ┆ B        ┆ 85     ┆ 16.0            │\n",
       "│ enero   ┆ C        ┆ 150    ┆ 30.0            │\n",
       "│ febrero ┆ C        ┆ 160    ┆ 30.0            │\n",
       "│ marzo   ┆ C        ┆ 140    ┆ 31.5            │\n",
       "└─────────┴──────────┴────────┴─────────────────┘"
      ]
     },
     "execution_count": 18,
     "metadata": {},
     "output_type": "execute_result"
    }
   ],
   "source": [
    "df_ventas = pl.read_csv(\n",
    "    \"datos/ventas_mensual.csv\",\n",
    "    comment_prefix=\"#\"\n",
    ")\n",
    "df_ventas"
   ]
  },
  {
   "cell_type": "code",
   "execution_count": 22,
   "id": "b43d0ced",
   "metadata": {},
   "outputs": [],
   "source": [
    "df_inventario_semanal = pl.read_csv(\n",
    "    \"datos/inventario_semanal.csv\",\n",
    "    skip_rows=5\n",
    ")"
   ]
  },
  {
   "cell_type": "markdown",
   "id": "87dc8adb",
   "metadata": {},
   "source": [
    "## 2.2."
   ]
  },
  {
   "cell_type": "code",
   "execution_count": 23,
   "id": "9a7ce632",
   "metadata": {},
   "outputs": [],
   "source": [
    "df_datos = pl.read_csv(\"../../class_working/data/dataset.csv\")"
   ]
  },
  {
   "cell_type": "code",
   "execution_count": 34,
   "id": "915f2cfc",
   "metadata": {},
   "outputs": [
    {
     "data": {
      "text/html": [
       "<div><style>\n",
       ".dataframe > thead > tr,\n",
       ".dataframe > tbody > tr {\n",
       "  text-align: right;\n",
       "  white-space: pre-wrap;\n",
       "}\n",
       "</style>\n",
       "<small>shape: (22_083, 45)</small><table border=\"1\" class=\"dataframe\"><thead><tr><th>Patient Id</th><th>Patient Age</th><th>Genes in mother&#x27;s side</th><th>Inherited from father</th><th>Maternal gene</th><th>Paternal gene</th><th>Blood cell count (mcL)</th><th>Patient First Name</th><th>Family Name</th><th>Father&#x27;s name</th><th>Mother&#x27;s age</th><th>Father&#x27;s age</th><th>Institute Name</th><th>Location of Institute</th><th>Status</th><th>Respiratory Rate (breaths/min)</th><th>Heart Rate (rates/min</th><th>Test 1</th><th>Test 2</th><th>Test 3</th><th>Test 4</th><th>Test 5</th><th>Parental consent</th><th>Follow-up</th><th>Gender</th><th>Birth asphyxia</th><th>Autopsy shows birth defect (if applicable)</th><th>Place of birth</th><th>Folic acid details (peri-conceptional)</th><th>H/O serious maternal illness</th><th>H/O radiation exposure (x-ray)</th><th>H/O substance abuse</th><th>Assisted conception IVF/ART</th><th>History of anomalies in previous pregnancies</th><th>No. of previous abortion</th><th>Birth defects</th><th>White Blood cell count (thousand per microliter)</th><th>Blood test result</th><th>Symptom 1</th><th>Symptom 2</th><th>Symptom 3</th><th>Symptom 4</th><th>Symptom 5</th><th>Genetic Disorder</th><th>Disorder Subclass</th></tr><tr><td>str</td><td>f64</td><td>str</td><td>str</td><td>str</td><td>str</td><td>f64</td><td>str</td><td>str</td><td>str</td><td>f64</td><td>f64</td><td>str</td><td>str</td><td>str</td><td>str</td><td>str</td><td>f64</td><td>f64</td><td>f64</td><td>f64</td><td>f64</td><td>str</td><td>str</td><td>str</td><td>str</td><td>str</td><td>str</td><td>str</td><td>str</td><td>str</td><td>str</td><td>str</td><td>str</td><td>f64</td><td>str</td><td>f64</td><td>str</td><td>f64</td><td>f64</td><td>f64</td><td>f64</td><td>f64</td><td>str</td><td>str</td></tr></thead><tbody><tr><td>&quot;PID0x6418&quot;</td><td>2.0</td><td>&quot;Yes&quot;</td><td>&quot;No&quot;</td><td>&quot;Yes&quot;</td><td>&quot;No&quot;</td><td>4.760603</td><td>&quot;Richard&quot;</td><td>null</td><td>&quot;Larre&quot;</td><td>null</td><td>null</td><td>&quot;Boston Specialty &amp; Rehabilitat…</td><td>&quot;55 FRUIT ST\n",
       "CENTRAL, MA 02114\n",
       "…</td><td>&quot;Alive&quot;</td><td>&quot;Normal (30-60)&quot;</td><td>&quot;Normal&quot;</td><td>0.0</td><td>null</td><td>null</td><td>1.0</td><td>0.0</td><td>&quot;Yes&quot;</td><td>&quot;High&quot;</td><td>null</td><td>null</td><td>&quot;Not applicable&quot;</td><td>&quot;Institute&quot;</td><td>&quot;No&quot;</td><td>null</td><td>&quot;No&quot;</td><td>&quot;No&quot;</td><td>&quot;No&quot;</td><td>&quot;Yes&quot;</td><td>null</td><td>null</td><td>9.857562</td><td>null</td><td>1.0</td><td>1.0</td><td>1.0</td><td>1.0</td><td>1.0</td><td>&quot;Mitochondrial genetic inherita…</td><td>&quot;Leber&#x27;s hereditary optic neuro…</td></tr><tr><td>&quot;PID0x25d5&quot;</td><td>4.0</td><td>&quot;Yes&quot;</td><td>&quot;Yes&quot;</td><td>&quot;No&quot;</td><td>&quot;No&quot;</td><td>4.910669</td><td>&quot;Mike&quot;</td><td>null</td><td>&quot;Brycen&quot;</td><td>null</td><td>23.0</td><td>&quot;St. Margaret&#x27;s Hospital For Wo…</td><td>&quot;1515 COMMONWEALTH AV\n",
       "ALLSTON/B…</td><td>&quot;Deceased&quot;</td><td>&quot;Tachypnea&quot;</td><td>&quot;Normal&quot;</td><td>null</td><td>0.0</td><td>0.0</td><td>1.0</td><td>0.0</td><td>&quot;Yes&quot;</td><td>&quot;High&quot;</td><td>null</td><td>&quot;No&quot;</td><td>&quot;None&quot;</td><td>null</td><td>&quot;Yes&quot;</td><td>&quot;Yes&quot;</td><td>&quot;Not applicable&quot;</td><td>&quot;Not applicable&quot;</td><td>&quot;No&quot;</td><td>&quot;Yes&quot;</td><td>null</td><td>&quot;Multiple&quot;</td><td>5.52256</td><td>&quot;normal&quot;</td><td>1.0</td><td>null</td><td>1.0</td><td>1.0</td><td>0.0</td><td>null</td><td>&quot;Cystic fibrosis&quot;</td></tr><tr><td>&quot;PID0x4a82&quot;</td><td>6.0</td><td>&quot;Yes&quot;</td><td>&quot;No&quot;</td><td>&quot;No&quot;</td><td>&quot;No&quot;</td><td>4.893297</td><td>&quot;Kimberly&quot;</td><td>null</td><td>&quot;Nashon&quot;</td><td>41.0</td><td>22.0</td><td>null</td><td>&quot;-&quot;</td><td>&quot;Alive&quot;</td><td>&quot;Normal (30-60)&quot;</td><td>&quot;Tachycardia&quot;</td><td>0.0</td><td>0.0</td><td>0.0</td><td>1.0</td><td>0.0</td><td>&quot;Yes&quot;</td><td>&quot;Low&quot;</td><td>null</td><td>&quot;No record&quot;</td><td>&quot;Not applicable&quot;</td><td>null</td><td>&quot;Yes&quot;</td><td>&quot;No&quot;</td><td>&quot;Yes&quot;</td><td>null</td><td>&quot;Yes&quot;</td><td>&quot;Yes&quot;</td><td>4.0</td><td>&quot;Singular&quot;</td><td>null</td><td>&quot;normal&quot;</td><td>0.0</td><td>1.0</td><td>1.0</td><td>1.0</td><td>1.0</td><td>&quot;Multifactorial genetic inherit…</td><td>&quot;Diabetes&quot;</td></tr><tr><td>&quot;PID0x4ac8&quot;</td><td>12.0</td><td>&quot;Yes&quot;</td><td>&quot;No&quot;</td><td>&quot;Yes&quot;</td><td>&quot;No&quot;</td><td>4.70528</td><td>&quot;Jeffery&quot;</td><td>&quot;Hoelscher&quot;</td><td>&quot;Aayaan&quot;</td><td>21.0</td><td>null</td><td>null</td><td>&quot;55 FRUIT ST\n",
       "CENTRAL, MA 02114\n",
       "…</td><td>&quot;Deceased&quot;</td><td>&quot;Tachypnea&quot;</td><td>&quot;Normal&quot;</td><td>0.0</td><td>0.0</td><td>0.0</td><td>1.0</td><td>0.0</td><td>&quot;Yes&quot;</td><td>&quot;High&quot;</td><td>&quot;Male&quot;</td><td>&quot;Not available&quot;</td><td>&quot;No&quot;</td><td>&quot;Institute&quot;</td><td>&quot;No&quot;</td><td>&quot;Yes&quot;</td><td>&quot;-&quot;</td><td>&quot;Not applicable&quot;</td><td>null</td><td>&quot;Yes&quot;</td><td>1.0</td><td>&quot;Singular&quot;</td><td>7.919321</td><td>&quot;inconclusive&quot;</td><td>0.0</td><td>0.0</td><td>1.0</td><td>0.0</td><td>0.0</td><td>&quot;Mitochondrial genetic inherita…</td><td>&quot;Leigh syndrome&quot;</td></tr><tr><td>&quot;PID0x1bf7&quot;</td><td>11.0</td><td>&quot;Yes&quot;</td><td>&quot;No&quot;</td><td>null</td><td>&quot;Yes&quot;</td><td>4.720703</td><td>&quot;Johanna&quot;</td><td>&quot;Stutzman&quot;</td><td>&quot;Suave&quot;</td><td>32.0</td><td>null</td><td>&quot;Carney Hospital&quot;</td><td>&quot;300 LONGWOOD AV\n",
       "FENWAY/KENMORE…</td><td>&quot;Alive&quot;</td><td>&quot;Tachypnea&quot;</td><td>&quot;Tachycardia&quot;</td><td>0.0</td><td>0.0</td><td>0.0</td><td>1.0</td><td>0.0</td><td>null</td><td>&quot;Low&quot;</td><td>&quot;Male&quot;</td><td>&quot;Not available&quot;</td><td>&quot;Not applicable&quot;</td><td>&quot;Institute&quot;</td><td>&quot;No&quot;</td><td>&quot;Yes&quot;</td><td>&quot;-&quot;</td><td>&quot;Not applicable&quot;</td><td>&quot;Yes&quot;</td><td>&quot;No&quot;</td><td>4.0</td><td>&quot;Multiple&quot;</td><td>4.09821</td><td>null</td><td>0.0</td><td>0.0</td><td>0.0</td><td>0.0</td><td>null</td><td>&quot;Multifactorial genetic inherit…</td><td>&quot;Cancer&quot;</td></tr><tr><td>&hellip;</td><td>&hellip;</td><td>&hellip;</td><td>&hellip;</td><td>&hellip;</td><td>&hellip;</td><td>&hellip;</td><td>&hellip;</td><td>&hellip;</td><td>&hellip;</td><td>&hellip;</td><td>&hellip;</td><td>&hellip;</td><td>&hellip;</td><td>&hellip;</td><td>&hellip;</td><td>&hellip;</td><td>&hellip;</td><td>&hellip;</td><td>&hellip;</td><td>&hellip;</td><td>&hellip;</td><td>&hellip;</td><td>&hellip;</td><td>&hellip;</td><td>&hellip;</td><td>&hellip;</td><td>&hellip;</td><td>&hellip;</td><td>&hellip;</td><td>&hellip;</td><td>&hellip;</td><td>&hellip;</td><td>&hellip;</td><td>&hellip;</td><td>&hellip;</td><td>&hellip;</td><td>&hellip;</td><td>&hellip;</td><td>&hellip;</td><td>&hellip;</td><td>&hellip;</td><td>&hellip;</td><td>&hellip;</td><td>&hellip;</td></tr><tr><td>&quot;PID0x5598&quot;</td><td>4.0</td><td>&quot;Yes&quot;</td><td>&quot;Yes&quot;</td><td>&quot;Yes&quot;</td><td>&quot;No&quot;</td><td>5.258298</td><td>&quot;Lynn&quot;</td><td>null</td><td>&quot;Alhassane&quot;</td><td>35.0</td><td>64.0</td><td>&quot;Franciscan Children&#x27;s&nbsp;&nbsp;Hospita…</td><td>&quot;1153 CENTRE ST\n",
       "JAMAICA PLAIN, …</td><td>&quot;Deceased&quot;</td><td>&quot;Normal (30-60)&quot;</td><td>&quot;Tachycardia&quot;</td><td>null</td><td>0.0</td><td>null</td><td>1.0</td><td>0.0</td><td>&quot;Yes&quot;</td><td>&quot;High&quot;</td><td>&quot;Female&quot;</td><td>&quot;No&quot;</td><td>&quot;No&quot;</td><td>&quot;Institute&quot;</td><td>null</td><td>&quot;No&quot;</td><td>&quot;Not applicable&quot;</td><td>&quot;No&quot;</td><td>&quot;Yes&quot;</td><td>&quot;No&quot;</td><td>3.0</td><td>&quot;Multiple&quot;</td><td>6.584811</td><td>&quot;inconclusive&quot;</td><td>0.0</td><td>0.0</td><td>1.0</td><td>0.0</td><td>0.0</td><td>&quot;Mitochondrial genetic inherita…</td><td>&quot;Leigh syndrome&quot;</td></tr><tr><td>&quot;PID0x19cb&quot;</td><td>8.0</td><td>&quot;No&quot;</td><td>&quot;Yes&quot;</td><td>&quot;No&quot;</td><td>&quot;Yes&quot;</td><td>4.97422</td><td>&quot;Matthew&quot;</td><td>&quot;Farley&quot;</td><td>&quot;Dartanion&quot;</td><td>null</td><td>56.0</td><td>&quot;Faulkner Hospital&quot;</td><td>&quot;170 MORTON ST\n",
       "ROSLINDALE, MA 0…</td><td>&quot;Alive&quot;</td><td>&quot;Normal (30-60)&quot;</td><td>&quot;Normal&quot;</td><td>null</td><td>0.0</td><td>null</td><td>1.0</td><td>null</td><td>null</td><td>&quot;High&quot;</td><td>&quot;Ambiguous&quot;</td><td>&quot;No&quot;</td><td>&quot;Not applicable&quot;</td><td>&quot;Institute&quot;</td><td>&quot;Yes&quot;</td><td>&quot;Yes&quot;</td><td>&quot;No&quot;</td><td>&quot;-&quot;</td><td>&quot;Yes&quot;</td><td>&quot;No&quot;</td><td>2.0</td><td>&quot;Multiple&quot;</td><td>7.041556</td><td>&quot;inconclusive&quot;</td><td>1.0</td><td>1.0</td><td>1.0</td><td>1.0</td><td>0.0</td><td>&quot;Multifactorial genetic inherit…</td><td>&quot;Diabetes&quot;</td></tr><tr><td>&quot;PID0x3c4f&quot;</td><td>8.0</td><td>&quot;Yes&quot;</td><td>&quot;No&quot;</td><td>&quot;Yes&quot;</td><td>&quot;No&quot;</td><td>5.18647</td><td>&quot;John&quot;</td><td>null</td><td>&quot;Cavani&quot;</td><td>35.0</td><td>51.0</td><td>&quot;Not applicable&quot;</td><td>&quot;-&quot;</td><td>&quot;Deceased&quot;</td><td>&quot;Tachypnea&quot;</td><td>&quot;Normal&quot;</td><td>0.0</td><td>0.0</td><td>0.0</td><td>1.0</td><td>null</td><td>&quot;Yes&quot;</td><td>&quot;High&quot;</td><td>&quot;Male&quot;</td><td>&quot;No&quot;</td><td>&quot;None&quot;</td><td>&quot;Home&quot;</td><td>&quot;No&quot;</td><td>&quot;No&quot;</td><td>null</td><td>&quot;No&quot;</td><td>&quot;No&quot;</td><td>&quot;No&quot;</td><td>2.0</td><td>&quot;Singular&quot;</td><td>7.715464</td><td>&quot;normal&quot;</td><td>0.0</td><td>0.0</td><td>0.0</td><td>1.0</td><td>null</td><td>&quot;Mitochondrial genetic inherita…</td><td>&quot;Mitochondrial myopathy&quot;</td></tr><tr><td>&quot;PID0x13a&quot;</td><td>7.0</td><td>&quot;Yes&quot;</td><td>&quot;No&quot;</td><td>&quot;Yes&quot;</td><td>&quot;Yes&quot;</td><td>4.858543</td><td>&quot;Sharon&quot;</td><td>null</td><td>&quot;Bomer&quot;</td><td>19.0</td><td>null</td><td>&quot;Not applicable&quot;</td><td>&quot;-&quot;</td><td>&quot;Alive&quot;</td><td>&quot;Tachypnea&quot;</td><td>&quot;Tachycardia&quot;</td><td>0.0</td><td>0.0</td><td>0.0</td><td>1.0</td><td>0.0</td><td>&quot;Yes&quot;</td><td>&quot;High&quot;</td><td>&quot;Male&quot;</td><td>&quot;No record&quot;</td><td>&quot;Not applicable&quot;</td><td>&quot;Home&quot;</td><td>&quot;Yes&quot;</td><td>&quot;Yes&quot;</td><td>&quot;-&quot;</td><td>&quot;Yes&quot;</td><td>&quot;Yes&quot;</td><td>&quot;No&quot;</td><td>1.0</td><td>&quot;Multiple&quot;</td><td>8.43767</td><td>&quot;abnormal&quot;</td><td>1.0</td><td>1.0</td><td>1.0</td><td>0.0</td><td>0.0</td><td>null</td><td>&quot;Leigh syndrome&quot;</td></tr><tr><td>&quot;PID0x9332&quot;</td><td>11.0</td><td>&quot;Yes&quot;</td><td>&quot;No&quot;</td><td>&quot;No&quot;</td><td>&quot;No&quot;</td><td>4.738067</td><td>&quot;Andrew&quot;</td><td>&quot;Mose&quot;</td><td>&quot;Eban&quot;</td><td>32.0</td><td>62.0</td><td>&quot;Hebrew Rehabilitation Center&quot;</td><td>&quot;300 LONGWOOD AV\n",
       "FENWAY/KENMORE…</td><td>&quot;Deceased&quot;</td><td>&quot;Normal (30-60)&quot;</td><td>&quot;Normal&quot;</td><td>0.0</td><td>0.0</td><td>0.0</td><td>1.0</td><td>0.0</td><td>&quot;Yes&quot;</td><td>&quot;High&quot;</td><td>&quot;Female&quot;</td><td>&quot;Yes&quot;</td><td>&quot;None&quot;</td><td>&quot;Institute&quot;</td><td>&quot;Yes&quot;</td><td>&quot;Yes&quot;</td><td>&quot;Not applicable&quot;</td><td>&quot;No&quot;</td><td>&quot;Yes&quot;</td><td>&quot;Yes&quot;</td><td>4.0</td><td>&quot;Singular&quot;</td><td>11.188371</td><td>&quot;normal&quot;</td><td>1.0</td><td>0.0</td><td>1.0</td><td>1.0</td><td>1.0</td><td>&quot;Multifactorial genetic inherit…</td><td>&quot;Diabetes&quot;</td></tr></tbody></table></div>"
      ],
      "text/plain": [
       "shape: (22_083, 45)\n",
       "┌───────────┬───────────┬───────────┬───────────┬───┬───────────┬───────────┬───────────┬──────────┐\n",
       "│ Patient   ┆ Patient   ┆ Genes in  ┆ Inherited ┆ … ┆ Symptom 4 ┆ Symptom 5 ┆ Genetic   ┆ Disorder │\n",
       "│ Id        ┆ Age       ┆ mother's  ┆ from      ┆   ┆ ---       ┆ ---       ┆ Disorder  ┆ Subclass │\n",
       "│ ---       ┆ ---       ┆ side      ┆ father    ┆   ┆ f64       ┆ f64       ┆ ---       ┆ ---      │\n",
       "│ str       ┆ f64       ┆ ---       ┆ ---       ┆   ┆           ┆           ┆ str       ┆ str      │\n",
       "│           ┆           ┆ str       ┆ str       ┆   ┆           ┆           ┆           ┆          │\n",
       "╞═══════════╪═══════════╪═══════════╪═══════════╪═══╪═══════════╪═══════════╪═══════════╪══════════╡\n",
       "│ PID0x6418 ┆ 2.0       ┆ Yes       ┆ No        ┆ … ┆ 1.0       ┆ 1.0       ┆ Mitochond ┆ Leber's  │\n",
       "│           ┆           ┆           ┆           ┆   ┆           ┆           ┆ rial      ┆ heredita │\n",
       "│           ┆           ┆           ┆           ┆   ┆           ┆           ┆ genetic   ┆ ry optic │\n",
       "│           ┆           ┆           ┆           ┆   ┆           ┆           ┆ inherita… ┆ neuro…   │\n",
       "│ PID0x25d5 ┆ 4.0       ┆ Yes       ┆ Yes       ┆ … ┆ 1.0       ┆ 0.0       ┆ null      ┆ Cystic   │\n",
       "│           ┆           ┆           ┆           ┆   ┆           ┆           ┆           ┆ fibrosis │\n",
       "│ PID0x4a82 ┆ 6.0       ┆ Yes       ┆ No        ┆ … ┆ 1.0       ┆ 1.0       ┆ Multifact ┆ Diabetes │\n",
       "│           ┆           ┆           ┆           ┆   ┆           ┆           ┆ orial     ┆          │\n",
       "│           ┆           ┆           ┆           ┆   ┆           ┆           ┆ genetic   ┆          │\n",
       "│           ┆           ┆           ┆           ┆   ┆           ┆           ┆ inherit…  ┆          │\n",
       "│ PID0x4ac8 ┆ 12.0      ┆ Yes       ┆ No        ┆ … ┆ 0.0       ┆ 0.0       ┆ Mitochond ┆ Leigh    │\n",
       "│           ┆           ┆           ┆           ┆   ┆           ┆           ┆ rial      ┆ syndrome │\n",
       "│           ┆           ┆           ┆           ┆   ┆           ┆           ┆ genetic   ┆          │\n",
       "│           ┆           ┆           ┆           ┆   ┆           ┆           ┆ inherita… ┆          │\n",
       "│ PID0x1bf7 ┆ 11.0      ┆ Yes       ┆ No        ┆ … ┆ 0.0       ┆ null      ┆ Multifact ┆ Cancer   │\n",
       "│           ┆           ┆           ┆           ┆   ┆           ┆           ┆ orial     ┆          │\n",
       "│           ┆           ┆           ┆           ┆   ┆           ┆           ┆ genetic   ┆          │\n",
       "│           ┆           ┆           ┆           ┆   ┆           ┆           ┆ inherit…  ┆          │\n",
       "│ …         ┆ …         ┆ …         ┆ …         ┆ … ┆ …         ┆ …         ┆ …         ┆ …        │\n",
       "│ PID0x5598 ┆ 4.0       ┆ Yes       ┆ Yes       ┆ … ┆ 0.0       ┆ 0.0       ┆ Mitochond ┆ Leigh    │\n",
       "│           ┆           ┆           ┆           ┆   ┆           ┆           ┆ rial      ┆ syndrome │\n",
       "│           ┆           ┆           ┆           ┆   ┆           ┆           ┆ genetic   ┆          │\n",
       "│           ┆           ┆           ┆           ┆   ┆           ┆           ┆ inherita… ┆          │\n",
       "│ PID0x19cb ┆ 8.0       ┆ No        ┆ Yes       ┆ … ┆ 1.0       ┆ 0.0       ┆ Multifact ┆ Diabetes │\n",
       "│           ┆           ┆           ┆           ┆   ┆           ┆           ┆ orial     ┆          │\n",
       "│           ┆           ┆           ┆           ┆   ┆           ┆           ┆ genetic   ┆          │\n",
       "│           ┆           ┆           ┆           ┆   ┆           ┆           ┆ inherit…  ┆          │\n",
       "│ PID0x3c4f ┆ 8.0       ┆ Yes       ┆ No        ┆ … ┆ 1.0       ┆ null      ┆ Mitochond ┆ Mitochon │\n",
       "│           ┆           ┆           ┆           ┆   ┆           ┆           ┆ rial      ┆ drial    │\n",
       "│           ┆           ┆           ┆           ┆   ┆           ┆           ┆ genetic   ┆ myopathy │\n",
       "│           ┆           ┆           ┆           ┆   ┆           ┆           ┆ inherita… ┆          │\n",
       "│ PID0x13a  ┆ 7.0       ┆ Yes       ┆ No        ┆ … ┆ 0.0       ┆ 0.0       ┆ null      ┆ Leigh    │\n",
       "│           ┆           ┆           ┆           ┆   ┆           ┆           ┆           ┆ syndrome │\n",
       "│ PID0x9332 ┆ 11.0      ┆ Yes       ┆ No        ┆ … ┆ 1.0       ┆ 1.0       ┆ Multifact ┆ Diabetes │\n",
       "│           ┆           ┆           ┆           ┆   ┆           ┆           ┆ orial     ┆          │\n",
       "│           ┆           ┆           ┆           ┆   ┆           ┆           ┆ genetic   ┆          │\n",
       "│           ┆           ┆           ┆           ┆   ┆           ┆           ┆ inherit…  ┆          │\n",
       "└───────────┴───────────┴───────────┴───────────┴───┴───────────┴───────────┴───────────┴──────────┘"
      ]
     },
     "execution_count": 34,
     "metadata": {},
     "output_type": "execute_result"
    }
   ],
   "source": [
    "df_datos"
   ]
  },
  {
   "cell_type": "code",
   "execution_count": 28,
   "id": "8f1cd964",
   "metadata": {},
   "outputs": [
    {
     "data": {
      "text/html": [
       "<div><style>\n",
       ".dataframe > thead > tr,\n",
       ".dataframe > tbody > tr {\n",
       "  text-align: right;\n",
       "  white-space: pre-wrap;\n",
       "}\n",
       "</style>\n",
       "<small>shape: (22_083, 4)</small><table border=\"1\" class=\"dataframe\"><thead><tr><th>Patient Id</th><th>Patient Age</th><th>Gender</th><th>Status</th></tr><tr><td>str</td><td>f64</td><td>str</td><td>str</td></tr></thead><tbody><tr><td>&quot;PID0x6418&quot;</td><td>2.0</td><td>null</td><td>&quot;Alive&quot;</td></tr><tr><td>&quot;PID0x25d5&quot;</td><td>4.0</td><td>null</td><td>&quot;Deceased&quot;</td></tr><tr><td>&quot;PID0x4a82&quot;</td><td>6.0</td><td>null</td><td>&quot;Alive&quot;</td></tr><tr><td>&quot;PID0x4ac8&quot;</td><td>12.0</td><td>&quot;Male&quot;</td><td>&quot;Deceased&quot;</td></tr><tr><td>&quot;PID0x1bf7&quot;</td><td>11.0</td><td>&quot;Male&quot;</td><td>&quot;Alive&quot;</td></tr><tr><td>&hellip;</td><td>&hellip;</td><td>&hellip;</td><td>&hellip;</td></tr><tr><td>&quot;PID0x5598&quot;</td><td>4.0</td><td>&quot;Female&quot;</td><td>&quot;Deceased&quot;</td></tr><tr><td>&quot;PID0x19cb&quot;</td><td>8.0</td><td>&quot;Ambiguous&quot;</td><td>&quot;Alive&quot;</td></tr><tr><td>&quot;PID0x3c4f&quot;</td><td>8.0</td><td>&quot;Male&quot;</td><td>&quot;Deceased&quot;</td></tr><tr><td>&quot;PID0x13a&quot;</td><td>7.0</td><td>&quot;Male&quot;</td><td>&quot;Alive&quot;</td></tr><tr><td>&quot;PID0x9332&quot;</td><td>11.0</td><td>&quot;Female&quot;</td><td>&quot;Deceased&quot;</td></tr></tbody></table></div>"
      ],
      "text/plain": [
       "shape: (22_083, 4)\n",
       "┌────────────┬─────────────┬───────────┬──────────┐\n",
       "│ Patient Id ┆ Patient Age ┆ Gender    ┆ Status   │\n",
       "│ ---        ┆ ---         ┆ ---       ┆ ---      │\n",
       "│ str        ┆ f64         ┆ str       ┆ str      │\n",
       "╞════════════╪═════════════╪═══════════╪══════════╡\n",
       "│ PID0x6418  ┆ 2.0         ┆ null      ┆ Alive    │\n",
       "│ PID0x25d5  ┆ 4.0         ┆ null      ┆ Deceased │\n",
       "│ PID0x4a82  ┆ 6.0         ┆ null      ┆ Alive    │\n",
       "│ PID0x4ac8  ┆ 12.0        ┆ Male      ┆ Deceased │\n",
       "│ PID0x1bf7  ┆ 11.0        ┆ Male      ┆ Alive    │\n",
       "│ …          ┆ …           ┆ …         ┆ …        │\n",
       "│ PID0x5598  ┆ 4.0         ┆ Female    ┆ Deceased │\n",
       "│ PID0x19cb  ┆ 8.0         ┆ Ambiguous ┆ Alive    │\n",
       "│ PID0x3c4f  ┆ 8.0         ┆ Male      ┆ Deceased │\n",
       "│ PID0x13a   ┆ 7.0         ┆ Male      ┆ Alive    │\n",
       "│ PID0x9332  ┆ 11.0        ┆ Female    ┆ Deceased │\n",
       "└────────────┴─────────────┴───────────┴──────────┘"
      ]
     },
     "execution_count": 28,
     "metadata": {},
     "output_type": "execute_result"
    }
   ],
   "source": [
    "# 1.\n",
    "df_a1 = df_datos.select(\n",
    "    \"Patient Id\", \"Patient Age\", \"Gender\", \"Status\"\n",
    ")\n",
    "df_a1"
   ]
  },
  {
   "cell_type": "code",
   "execution_count": 31,
   "id": "9650192f",
   "metadata": {},
   "outputs": [
    {
     "data": {
      "text/html": [
       "<div><style>\n",
       ".dataframe > thead > tr,\n",
       ".dataframe > tbody > tr {\n",
       "  text-align: right;\n",
       "  white-space: pre-wrap;\n",
       "}\n",
       "</style>\n",
       "<small>shape: (22_083, 3)</small><table border=\"1\" class=\"dataframe\"><thead><tr><th>Institute Name</th><th>Location of Institute</th><th>Place of birth</th></tr><tr><td>str</td><td>str</td><td>str</td></tr></thead><tbody><tr><td>&quot;Boston Specialty &amp; Rehabilitat…</td><td>&quot;55 FRUIT ST\n",
       "CENTRAL, MA 02114\n",
       "…</td><td>&quot;Institute&quot;</td></tr><tr><td>&quot;St. Margaret&#x27;s Hospital For Wo…</td><td>&quot;1515 COMMONWEALTH AV\n",
       "ALLSTON/B…</td><td>null</td></tr><tr><td>null</td><td>&quot;-&quot;</td><td>null</td></tr><tr><td>null</td><td>&quot;55 FRUIT ST\n",
       "CENTRAL, MA 02114\n",
       "…</td><td>&quot;Institute&quot;</td></tr><tr><td>&quot;Carney Hospital&quot;</td><td>&quot;300 LONGWOOD AV\n",
       "FENWAY/KENMORE…</td><td>&quot;Institute&quot;</td></tr><tr><td>&hellip;</td><td>&hellip;</td><td>&hellip;</td></tr><tr><td>&quot;Franciscan Children&#x27;s&nbsp;&nbsp;Hospita…</td><td>&quot;1153 CENTRE ST\n",
       "JAMAICA PLAIN, …</td><td>&quot;Institute&quot;</td></tr><tr><td>&quot;Faulkner Hospital&quot;</td><td>&quot;170 MORTON ST\n",
       "ROSLINDALE, MA 0…</td><td>&quot;Institute&quot;</td></tr><tr><td>&quot;Not applicable&quot;</td><td>&quot;-&quot;</td><td>&quot;Home&quot;</td></tr><tr><td>&quot;Not applicable&quot;</td><td>&quot;-&quot;</td><td>&quot;Home&quot;</td></tr><tr><td>&quot;Hebrew Rehabilitation Center&quot;</td><td>&quot;300 LONGWOOD AV\n",
       "FENWAY/KENMORE…</td><td>&quot;Institute&quot;</td></tr></tbody></table></div>"
      ],
      "text/plain": [
       "shape: (22_083, 3)\n",
       "┌─────────────────────────────────┬───────────────────────┬────────────────┐\n",
       "│ Institute Name                  ┆ Location of Institute ┆ Place of birth │\n",
       "│ ---                             ┆ ---                   ┆ ---            │\n",
       "│ str                             ┆ str                   ┆ str            │\n",
       "╞═════════════════════════════════╪═══════════════════════╪════════════════╡\n",
       "│ Boston Specialty & Rehabilitat… ┆ 55 FRUIT ST           ┆ Institute      │\n",
       "│                                 ┆ CENTRAL, MA 02114     ┆                │\n",
       "│                                 ┆ …                     ┆                │\n",
       "│ St. Margaret's Hospital For Wo… ┆ 1515 COMMONWEALTH AV  ┆ null           │\n",
       "│                                 ┆ ALLSTON/B…            ┆                │\n",
       "│ null                            ┆ -                     ┆ null           │\n",
       "│ null                            ┆ 55 FRUIT ST           ┆ Institute      │\n",
       "│                                 ┆ CENTRAL, MA 02114     ┆                │\n",
       "│                                 ┆ …                     ┆                │\n",
       "│ Carney Hospital                 ┆ 300 LONGWOOD AV       ┆ Institute      │\n",
       "│                                 ┆ FENWAY/KENMORE…       ┆                │\n",
       "│ …                               ┆ …                     ┆ …              │\n",
       "│ Franciscan Children's  Hospita… ┆ 1153 CENTRE ST        ┆ Institute      │\n",
       "│                                 ┆ JAMAICA PLAIN, …      ┆                │\n",
       "│ Faulkner Hospital               ┆ 170 MORTON ST         ┆ Institute      │\n",
       "│                                 ┆ ROSLINDALE, MA 0…     ┆                │\n",
       "│ Not applicable                  ┆ -                     ┆ Home           │\n",
       "│ Not applicable                  ┆ -                     ┆ Home           │\n",
       "│ Hebrew Rehabilitation Center    ┆ 300 LONGWOOD AV       ┆ Institute      │\n",
       "│                                 ┆ FENWAY/KENMORE…       ┆                │\n",
       "└─────────────────────────────────┴───────────────────────┴────────────────┘"
      ]
     },
     "execution_count": 31,
     "metadata": {},
     "output_type": "execute_result"
    }
   ],
   "source": [
    "# 2.\n",
    "df_datos.select(\n",
    "    cs.string() & cs.contains(\"Place\", \"Location\", \"Institute\")\n",
    ")"
   ]
  },
  {
   "cell_type": "markdown",
   "id": "63ecfd4a",
   "metadata": {},
   "source": [
    "## 2.3."
   ]
  },
  {
   "cell_type": "code",
   "execution_count": 33,
   "id": "17571fab",
   "metadata": {},
   "outputs": [
    {
     "data": {
      "text/html": [
       "<div><style>\n",
       ".dataframe > thead > tr,\n",
       ".dataframe > tbody > tr {\n",
       "  text-align: right;\n",
       "  white-space: pre-wrap;\n",
       "}\n",
       "</style>\n",
       "<small>shape: (22_083, 5)</small><table border=\"1\" class=\"dataframe\"><thead><tr><th>Symptom 1</th><th>Symptom 2</th><th>Symptom 3</th><th>Symptom 4</th><th>Symptom 5</th></tr><tr><td>f64</td><td>f64</td><td>f64</td><td>f64</td><td>f64</td></tr></thead><tbody><tr><td>1.0</td><td>1.0</td><td>1.0</td><td>1.0</td><td>1.0</td></tr><tr><td>1.0</td><td>null</td><td>1.0</td><td>1.0</td><td>0.0</td></tr><tr><td>0.0</td><td>1.0</td><td>1.0</td><td>1.0</td><td>1.0</td></tr><tr><td>0.0</td><td>0.0</td><td>1.0</td><td>0.0</td><td>0.0</td></tr><tr><td>0.0</td><td>0.0</td><td>0.0</td><td>0.0</td><td>null</td></tr><tr><td>&hellip;</td><td>&hellip;</td><td>&hellip;</td><td>&hellip;</td><td>&hellip;</td></tr><tr><td>0.0</td><td>0.0</td><td>1.0</td><td>0.0</td><td>0.0</td></tr><tr><td>1.0</td><td>1.0</td><td>1.0</td><td>1.0</td><td>0.0</td></tr><tr><td>0.0</td><td>0.0</td><td>0.0</td><td>1.0</td><td>null</td></tr><tr><td>1.0</td><td>1.0</td><td>1.0</td><td>0.0</td><td>0.0</td></tr><tr><td>1.0</td><td>0.0</td><td>1.0</td><td>1.0</td><td>1.0</td></tr></tbody></table></div>"
      ],
      "text/plain": [
       "shape: (22_083, 5)\n",
       "┌───────────┬───────────┬───────────┬───────────┬───────────┐\n",
       "│ Symptom 1 ┆ Symptom 2 ┆ Symptom 3 ┆ Symptom 4 ┆ Symptom 5 │\n",
       "│ ---       ┆ ---       ┆ ---       ┆ ---       ┆ ---       │\n",
       "│ f64       ┆ f64       ┆ f64       ┆ f64       ┆ f64       │\n",
       "╞═══════════╪═══════════╪═══════════╪═══════════╪═══════════╡\n",
       "│ 1.0       ┆ 1.0       ┆ 1.0       ┆ 1.0       ┆ 1.0       │\n",
       "│ 1.0       ┆ null      ┆ 1.0       ┆ 1.0       ┆ 0.0       │\n",
       "│ 0.0       ┆ 1.0       ┆ 1.0       ┆ 1.0       ┆ 1.0       │\n",
       "│ 0.0       ┆ 0.0       ┆ 1.0       ┆ 0.0       ┆ 0.0       │\n",
       "│ 0.0       ┆ 0.0       ┆ 0.0       ┆ 0.0       ┆ null      │\n",
       "│ …         ┆ …         ┆ …         ┆ …         ┆ …         │\n",
       "│ 0.0       ┆ 0.0       ┆ 1.0       ┆ 0.0       ┆ 0.0       │\n",
       "│ 1.0       ┆ 1.0       ┆ 1.0       ┆ 1.0       ┆ 0.0       │\n",
       "│ 0.0       ┆ 0.0       ┆ 0.0       ┆ 1.0       ┆ null      │\n",
       "│ 1.0       ┆ 1.0       ┆ 1.0       ┆ 0.0       ┆ 0.0       │\n",
       "│ 1.0       ┆ 0.0       ┆ 1.0       ┆ 1.0       ┆ 1.0       │\n",
       "└───────────┴───────────┴───────────┴───────────┴───────────┘"
      ]
     },
     "execution_count": 33,
     "metadata": {},
     "output_type": "execute_result"
    }
   ],
   "source": [
    "df_datos.select(\n",
    "    cs.starts_with(\"Symptom\")\n",
    ")"
   ]
  },
  {
   "cell_type": "markdown",
   "id": "df77a932",
   "metadata": {},
   "source": [
    "## 2.4."
   ]
  },
  {
   "cell_type": "code",
   "execution_count": 41,
   "id": "e23e9872",
   "metadata": {},
   "outputs": [
    {
     "data": {
      "text/plain": [
       "29"
      ]
     },
     "execution_count": 41,
     "metadata": {},
     "output_type": "execute_result"
    }
   ],
   "source": [
    "df_datos.select(~cs.numeric()).width"
   ]
  },
  {
   "cell_type": "markdown",
   "id": "1eba56c8",
   "metadata": {},
   "source": [
    "## 3.1."
   ]
  },
  {
   "cell_type": "code",
   "execution_count": 47,
   "id": "cd64fd1b",
   "metadata": {},
   "outputs": [
    {
     "data": {
      "text/html": [
       "<div><style>\n",
       ".dataframe > thead > tr,\n",
       ".dataframe > tbody > tr {\n",
       "  text-align: right;\n",
       "  white-space: pre-wrap;\n",
       "}\n",
       "</style>\n",
       "<small>shape: (9, 3)</small><table border=\"1\" class=\"dataframe\"><thead><tr><th>statistic</th><th>Blood cell count (mcL)</th><th>White Blood cell count (thousand per microliter)</th></tr><tr><td>str</td><td>f64</td><td>f64</td></tr></thead><tbody><tr><td>&quot;count&quot;</td><td>22083.0</td><td>19935.0</td></tr><tr><td>&quot;null_count&quot;</td><td>0.0</td><td>2148.0</td></tr><tr><td>&quot;mean&quot;</td><td>4.898871</td><td>7.486224</td></tr><tr><td>&quot;std&quot;</td><td>0.199663</td><td>2.653393</td></tr><tr><td>&quot;min&quot;</td><td>4.092727</td><td>3.0</td></tr><tr><td>&quot;25%&quot;</td><td>4.76315</td><td>5.424878</td></tr><tr><td>&quot;50%&quot;</td><td>4.899399</td><td>7.477132</td></tr><tr><td>&quot;75%&quot;</td><td>5.033831</td><td>9.526214</td></tr><tr><td>&quot;max&quot;</td><td>5.609829</td><td>12.0</td></tr></tbody></table></div>"
      ],
      "text/plain": [
       "shape: (9, 3)\n",
       "┌────────────┬────────────────────────┬─────────────────────────────────┐\n",
       "│ statistic  ┆ Blood cell count (mcL) ┆ White Blood cell count (thousa… │\n",
       "│ ---        ┆ ---                    ┆ ---                             │\n",
       "│ str        ┆ f64                    ┆ f64                             │\n",
       "╞════════════╪════════════════════════╪═════════════════════════════════╡\n",
       "│ count      ┆ 22083.0                ┆ 19935.0                         │\n",
       "│ null_count ┆ 0.0                    ┆ 2148.0                          │\n",
       "│ mean       ┆ 4.898871               ┆ 7.486224                        │\n",
       "│ std        ┆ 0.199663               ┆ 2.653393                        │\n",
       "│ min        ┆ 4.092727               ┆ 3.0                             │\n",
       "│ 25%        ┆ 4.76315                ┆ 5.424878                        │\n",
       "│ 50%        ┆ 4.899399               ┆ 7.477132                        │\n",
       "│ 75%        ┆ 5.033831               ┆ 9.526214                        │\n",
       "│ max        ┆ 5.609829               ┆ 12.0                            │\n",
       "└────────────┴────────────────────────┴─────────────────────────────────┘"
      ]
     },
     "execution_count": 47,
     "metadata": {},
     "output_type": "execute_result"
    }
   ],
   "source": [
    "df_datos.select(\n",
    "    cs.contains(\"Blood\") & cs.numeric()\n",
    ").describe()"
   ]
  },
  {
   "cell_type": "markdown",
   "id": "3363b0a4",
   "metadata": {},
   "source": [
    "## 3.2."
   ]
  },
  {
   "cell_type": "code",
   "execution_count": 52,
   "id": "7333d68e",
   "metadata": {},
   "outputs": [
    {
     "data": {
      "text/plain": [
       "10"
      ]
     },
     "execution_count": 52,
     "metadata": {},
     "output_type": "execute_result"
    }
   ],
   "source": [
    "df_datos.n_unique(\"Disorder Subclass\")"
   ]
  },
  {
   "cell_type": "markdown",
   "id": "ba651913",
   "metadata": {},
   "source": [
    "## 3.3."
   ]
  },
  {
   "cell_type": "code",
   "execution_count": 60,
   "id": "ee3e0233",
   "metadata": {},
   "outputs": [
    {
     "data": {
      "text/html": [
       "<div><style>\n",
       ".dataframe > thead > tr,\n",
       ".dataframe > tbody > tr {\n",
       "  text-align: right;\n",
       "  white-space: pre-wrap;\n",
       "}\n",
       "</style>\n",
       "<small>shape: (5, 1)</small><table border=\"1\" class=\"dataframe\"><thead><tr><th>Blood test result</th></tr><tr><td>str</td></tr></thead><tbody><tr><td>null</td></tr><tr><td>&quot;inconclusive&quot;</td></tr><tr><td>&quot;abnormal&quot;</td></tr><tr><td>&quot;normal&quot;</td></tr><tr><td>&quot;slightly abnormal&quot;</td></tr></tbody></table></div>"
      ],
      "text/plain": [
       "shape: (5, 1)\n",
       "┌───────────────────┐\n",
       "│ Blood test result │\n",
       "│ ---               │\n",
       "│ str               │\n",
       "╞═══════════════════╡\n",
       "│ null              │\n",
       "│ inconclusive      │\n",
       "│ abnormal          │\n",
       "│ normal            │\n",
       "│ slightly abnormal │\n",
       "└───────────────────┘"
      ]
     },
     "execution_count": 60,
     "metadata": {},
     "output_type": "execute_result"
    }
   ],
   "source": [
    "df_datos.select(cs.contains(\"result\")).unique()"
   ]
  },
  {
   "cell_type": "code",
   "execution_count": null,
   "id": "77359f36",
   "metadata": {},
   "outputs": [],
   "source": []
  }
 ],
 "metadata": {
  "kernelspec": {
   "display_name": "class-working",
   "language": "python",
   "name": "python3"
  },
  "language_info": {
   "codemirror_mode": {
    "name": "ipython",
    "version": 3
   },
   "file_extension": ".py",
   "mimetype": "text/x-python",
   "name": "python",
   "nbconvert_exporter": "python",
   "pygments_lexer": "ipython3",
   "version": "3.12.7"
  }
 },
 "nbformat": 4,
 "nbformat_minor": 5
}
