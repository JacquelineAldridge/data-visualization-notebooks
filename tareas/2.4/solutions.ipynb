{
 "cells": [
  {
   "cell_type": "code",
   "execution_count": 1,
   "id": "175fdabc",
   "metadata": {},
   "outputs": [],
   "source": [
    "import polars as pl\n",
    "from polars import selectors as cs"
   ]
  },
  {
   "cell_type": "code",
   "execution_count": 2,
   "id": "5175b9e2",
   "metadata": {},
   "outputs": [],
   "source": [
    "df_datos = pl.read_csv(\"../../data/dataset.csv\")"
   ]
  },
  {
   "cell_type": "code",
   "execution_count": 3,
   "id": "59c822fc",
   "metadata": {},
   "outputs": [
    {
     "data": {
      "text/html": [
       "<div><style>\n",
       ".dataframe > thead > tr,\n",
       ".dataframe > tbody > tr {\n",
       "  text-align: right;\n",
       "  white-space: pre-wrap;\n",
       "}\n",
       "</style>\n",
       "<small>shape: (26, 2)</small><table border=\"1\" class=\"dataframe\"><thead><tr><th>Institute Name</th><th>n</th></tr><tr><td>str</td><td>u32</td></tr></thead><tbody><tr><td>&quot;Franciscan Children&#x27;s&nbsp;&nbsp;Hospita…</td><td>363</td></tr><tr><td>&quot;Carney Hospital&quot;</td><td>357</td></tr><tr><td>&quot;New England Medical Center&quot;</td><td>350</td></tr><tr><td>&quot;Hebrew Rehabilitation Center&quot;</td><td>349</td></tr><tr><td>&quot;VA Hospital&quot;</td><td>344</td></tr><tr><td>&hellip;</td><td>&hellip;</td></tr><tr><td>&quot;Jewish Memorial Hospital&quot;</td><td>315</td></tr><tr><td>&quot;Beth Israel Deaconess Medical …</td><td>315</td></tr><tr><td>&quot;Lemuel Shattuck Hospital&quot;</td><td>313</td></tr><tr><td>&quot;Va Hospital&quot;</td><td>312</td></tr><tr><td>&quot;St. Elizabeth&#x27;s Hospital&quot;</td><td>302</td></tr></tbody></table></div>"
      ],
      "text/plain": [
       "shape: (26, 2)\n",
       "┌─────────────────────────────────┬─────┐\n",
       "│ Institute Name                  ┆ n   │\n",
       "│ ---                             ┆ --- │\n",
       "│ str                             ┆ u32 │\n",
       "╞═════════════════════════════════╪═════╡\n",
       "│ Franciscan Children's  Hospita… ┆ 363 │\n",
       "│ Carney Hospital                 ┆ 357 │\n",
       "│ New England Medical Center      ┆ 350 │\n",
       "│ Hebrew Rehabilitation Center    ┆ 349 │\n",
       "│ VA Hospital                     ┆ 344 │\n",
       "│ …                               ┆ …   │\n",
       "│ Jewish Memorial Hospital        ┆ 315 │\n",
       "│ Beth Israel Deaconess Medical … ┆ 315 │\n",
       "│ Lemuel Shattuck Hospital        ┆ 313 │\n",
       "│ Va Hospital                     ┆ 312 │\n",
       "│ St. Elizabeth's Hospital        ┆ 302 │\n",
       "└─────────────────────────────────┴─────┘"
      ]
     },
     "execution_count": 3,
     "metadata": {},
     "output_type": "execute_result"
    }
   ],
   "source": [
    "# 1\n",
    "(\n",
    "    df_datos\n",
    "    .group_by(\"Institute Name\")\n",
    "    .len(\"n\")\n",
    "    .drop_nulls()\n",
    "    .filter(pl.col(\"Institute Name\") != \"Not applicable\")\n",
    "    .sort(\"n\", descending=True)\n",
    ")"
   ]
  },
  {
   "cell_type": "code",
   "execution_count": 4,
   "id": "3e462e7f",
   "metadata": {},
   "outputs": [
    {
     "data": {
      "text/html": [
       "<div><style>\n",
       ".dataframe > thead > tr,\n",
       ".dataframe > tbody > tr {\n",
       "  text-align: right;\n",
       "  white-space: pre-wrap;\n",
       "}\n",
       "</style>\n",
       "<small>shape: (9, 2)</small><table border=\"1\" class=\"dataframe\"><thead><tr><th>Disorder Subclass</th><th>percent_normal</th></tr><tr><td>str</td><td>f64</td></tr></thead><tbody><tr><td>&quot;Alzheimer&#x27;s&quot;</td><td>47.37</td></tr><tr><td>&quot;Cancer&quot;</td><td>49.48</td></tr><tr><td>&quot;Cystic fibrosis&quot;</td><td>45.48</td></tr><tr><td>&quot;Diabetes&quot;</td><td>46.78</td></tr><tr><td>&quot;Hemochromatosis&quot;</td><td>45.76</td></tr><tr><td>&quot;Leber&#x27;s hereditary optic neuro…</td><td>42.59</td></tr><tr><td>&quot;Leigh syndrome&quot;</td><td>46.34</td></tr><tr><td>&quot;Mitochondrial myopathy&quot;</td><td>47.33</td></tr><tr><td>&quot;Tay-Sachs&quot;</td><td>46.38</td></tr></tbody></table></div>"
      ],
      "text/plain": [
       "shape: (9, 2)\n",
       "┌─────────────────────────────────┬────────────────┐\n",
       "│ Disorder Subclass               ┆ percent_normal │\n",
       "│ ---                             ┆ ---            │\n",
       "│ str                             ┆ f64            │\n",
       "╞═════════════════════════════════╪════════════════╡\n",
       "│ Alzheimer's                     ┆ 47.37          │\n",
       "│ Cancer                          ┆ 49.48          │\n",
       "│ Cystic fibrosis                 ┆ 45.48          │\n",
       "│ Diabetes                        ┆ 46.78          │\n",
       "│ Hemochromatosis                 ┆ 45.76          │\n",
       "│ Leber's hereditary optic neuro… ┆ 42.59          │\n",
       "│ Leigh syndrome                  ┆ 46.34          │\n",
       "│ Mitochondrial myopathy          ┆ 47.33          │\n",
       "│ Tay-Sachs                       ┆ 46.38          │\n",
       "└─────────────────────────────────┴────────────────┘"
      ]
     },
     "execution_count": 4,
     "metadata": {},
     "output_type": "execute_result"
    }
   ],
   "source": [
    "# 2 (opción A)\n",
    "(\n",
    "    df_datos\n",
    "    .group_by(\"Disorder Subclass\")\n",
    "    .agg(\n",
    "        percent_normal = (\n",
    "            (pl.col(\"Heart Rate (rates/min\") == \"Normal\").sum() /  pl.len() * 100\n",
    "        ).round(2)\n",
    "    )\n",
    "    .sort(\"Disorder Subclass\")\n",
    "    .drop_nulls()\n",
    ")"
   ]
  },
  {
   "cell_type": "code",
   "execution_count": 5,
   "id": "f630935f",
   "metadata": {},
   "outputs": [
    {
     "data": {
      "text/html": [
       "<div><style>\n",
       ".dataframe > thead > tr,\n",
       ".dataframe > tbody > tr {\n",
       "  text-align: right;\n",
       "  white-space: pre-wrap;\n",
       "}\n",
       "</style>\n",
       "<small>shape: (9, 4)</small><table border=\"1\" class=\"dataframe\"><thead><tr><th>Disorder Subclass</th><th>n_total</th><th>n_normal</th><th>percent_normal</th></tr><tr><td>str</td><td>u32</td><td>u32</td><td>f64</td></tr></thead><tbody><tr><td>&quot;Alzheimer&#x27;s&quot;</td><td>152</td><td>72</td><td>47.37</td></tr><tr><td>&quot;Cancer&quot;</td><td>97</td><td>48</td><td>49.48</td></tr><tr><td>&quot;Cystic fibrosis&quot;</td><td>3448</td><td>1568</td><td>45.48</td></tr><tr><td>&quot;Diabetes&quot;</td><td>1817</td><td>850</td><td>46.78</td></tr><tr><td>&quot;Hemochromatosis&quot;</td><td>1355</td><td>620</td><td>45.76</td></tr><tr><td>&quot;Leber&#x27;s hereditary optic neuro…</td><td>648</td><td>276</td><td>42.59</td></tr><tr><td>&quot;Leigh syndrome&quot;</td><td>5160</td><td>2391</td><td>46.34</td></tr><tr><td>&quot;Mitochondrial myopathy&quot;</td><td>4405</td><td>2085</td><td>47.33</td></tr><tr><td>&quot;Tay-Sachs&quot;</td><td>2833</td><td>1314</td><td>46.38</td></tr></tbody></table></div>"
      ],
      "text/plain": [
       "shape: (9, 4)\n",
       "┌─────────────────────────────────┬─────────┬──────────┬────────────────┐\n",
       "│ Disorder Subclass               ┆ n_total ┆ n_normal ┆ percent_normal │\n",
       "│ ---                             ┆ ---     ┆ ---      ┆ ---            │\n",
       "│ str                             ┆ u32     ┆ u32      ┆ f64            │\n",
       "╞═════════════════════════════════╪═════════╪══════════╪════════════════╡\n",
       "│ Alzheimer's                     ┆ 152     ┆ 72       ┆ 47.37          │\n",
       "│ Cancer                          ┆ 97      ┆ 48       ┆ 49.48          │\n",
       "│ Cystic fibrosis                 ┆ 3448    ┆ 1568     ┆ 45.48          │\n",
       "│ Diabetes                        ┆ 1817    ┆ 850      ┆ 46.78          │\n",
       "│ Hemochromatosis                 ┆ 1355    ┆ 620      ┆ 45.76          │\n",
       "│ Leber's hereditary optic neuro… ┆ 648     ┆ 276      ┆ 42.59          │\n",
       "│ Leigh syndrome                  ┆ 5160    ┆ 2391     ┆ 46.34          │\n",
       "│ Mitochondrial myopathy          ┆ 4405    ┆ 2085     ┆ 47.33          │\n",
       "│ Tay-Sachs                       ┆ 2833    ┆ 1314     ┆ 46.38          │\n",
       "└─────────────────────────────────┴─────────┴──────────┴────────────────┘"
      ]
     },
     "execution_count": 5,
     "metadata": {},
     "output_type": "execute_result"
    }
   ],
   "source": [
    "# 2 (opción B)\n",
    "df_counts_total = (\n",
    "    df_datos\n",
    "    .group_by(\"Disorder Subclass\")\n",
    "    .len(\"n_total\")\n",
    "    .drop_nulls()\n",
    "    .sort(\"Disorder Subclass\")\n",
    ")\n",
    "df_counts_normal = (\n",
    "    df_datos\n",
    "    .filter(pl.col(\"Heart Rate (rates/min\") == \"Normal\")\n",
    "    .group_by(\"Disorder Subclass\")\n",
    "    .len(\"n_normal\")\n",
    "    .drop_nulls()\n",
    "    .sort(\"Disorder Subclass\")\n",
    ")\n",
    "\n",
    "(\n",
    "    pl.concat([df_counts_total, df_counts_normal.drop(\"Disorder Subclass\")], how=\"horizontal\")\n",
    "    .with_columns(\n",
    "        percent_normal = (pl.col(\"n_normal\") / pl.col(\"n_total\") * 100).round(2)\n",
    "    )\n",
    "    .sort(\"Disorder Subclass\")\n",
    ")"
   ]
  },
  {
   "cell_type": "code",
   "execution_count": 6,
   "id": "32ee4a28",
   "metadata": {},
   "outputs": [
    {
     "data": {
      "text/html": [
       "<div><style>\n",
       ".dataframe > thead > tr,\n",
       ".dataframe > tbody > tr {\n",
       "  text-align: right;\n",
       "  white-space: pre-wrap;\n",
       "}\n",
       "</style>\n",
       "<small>shape: (3, 2)</small><table border=\"1\" class=\"dataframe\"><thead><tr><th>Gender</th><th>mean_age</th></tr><tr><td>str</td><td>f64</td></tr></thead><tbody><tr><td>&quot;Male&quot;</td><td>6.992573</td></tr><tr><td>&quot;Ambiguous&quot;</td><td>7.005852</td></tr><tr><td>&quot;Female&quot;</td><td>6.895551</td></tr></tbody></table></div>"
      ],
      "text/plain": [
       "shape: (3, 2)\n",
       "┌───────────┬──────────┐\n",
       "│ Gender    ┆ mean_age │\n",
       "│ ---       ┆ ---      │\n",
       "│ str       ┆ f64      │\n",
       "╞═══════════╪══════════╡\n",
       "│ Male      ┆ 6.992573 │\n",
       "│ Ambiguous ┆ 7.005852 │\n",
       "│ Female    ┆ 6.895551 │\n",
       "└───────────┴──────────┘"
      ]
     },
     "execution_count": 6,
     "metadata": {},
     "output_type": "execute_result"
    }
   ],
   "source": [
    "# 3\n",
    "(\n",
    "    df_datos\n",
    "    .filter(pl.col(\"Paternal gene\") == \"Yes\")\n",
    "    .group_by(\"Gender\")\n",
    "    .agg(\n",
    "        mean_age = pl.col(\"Patient Age\").mean(),\n",
    "    )\n",
    "    .drop_nulls()\n",
    ")"
   ]
  },
  {
   "cell_type": "code",
   "execution_count": null,
   "id": "b3d51a74",
   "metadata": {},
   "outputs": [],
   "source": []
  }
 ],
 "metadata": {
  "kernelspec": {
   "display_name": "data-visualization-notebooks",
   "language": "python",
   "name": "python3"
  },
  "language_info": {
   "codemirror_mode": {
    "name": "ipython",
    "version": 3
   },
   "file_extension": ".py",
   "mimetype": "text/x-python",
   "name": "python",
   "nbconvert_exporter": "python",
   "pygments_lexer": "ipython3",
   "version": "3.13.7"
  }
 },
 "nbformat": 4,
 "nbformat_minor": 5
}
