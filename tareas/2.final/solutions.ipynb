{
 "cells": [
  {
   "cell_type": "code",
   "execution_count": 1,
   "id": "ab60fb56",
   "metadata": {},
   "outputs": [],
   "source": [
    "import json\n",
    "from datetime import date\n",
    "\n",
    "import polars as pl\n",
    "from polars import selectors as cs\n"
   ]
  },
  {
   "cell_type": "code",
   "execution_count": 2,
   "id": "54aea066",
   "metadata": {},
   "outputs": [],
   "source": [
    "dataset1 = pl.read_csv(\"data/dataset_1.csv\")\n",
    "dataset2 = pl.read_csv(\"data/dataset_2.tsv\", separator=\"\\t\")\n",
    "\n",
    "neighborhoods = pl.read_csv(\"data/institute_neighborhoods.csv\")\n",
    "last_visit_info = pl.read_csv(\"data/last_visit_info.csv\")"
   ]
  },
  {
   "cell_type": "code",
   "execution_count": 3,
   "id": "b6e211cb",
   "metadata": {},
   "outputs": [],
   "source": [
    "# Conversiones de tipos\n",
    "dataset1 = dataset1.with_columns(\n",
    "    cs.contains(\"Age\", \"age\").cast(pl.Int64),\n",
    "    cs.starts_with(\"Test\").cast(pl.Int64),\n",
    "    cs.starts_with(\"Symptom\").cast(pl.Boolean),\n",
    "    cs.by_name(\"No. of previous abortion\").cast(pl.Int64),\n",
    ")"
   ]
  },
  {
   "cell_type": "markdown",
   "id": "d7eecc4f",
   "metadata": {},
   "source": [
    "### 1. Clasificación de desórdenes genéticos\n",
    "\n",
    "Usando `dataset_2.tsv`, crea una nueva columna llamada \"Disorder Subclass\" y asigna valores según el tipo de desorden genético de cada registro:\n",
    "\n",
    "- Cuando el desorden genético sea \"Multifactorial genetic inheritance disorders\", asigna \"Diabetes\" en la columna disorder subclass.\n",
    "- Cuando el desorden genético sea \"Mitochondrial genetic inheritance disorders\", asigna \"Mitochondrial myopathy\" en la columna disorder subclass.\n",
    "- Cuando el desorden genético sea \"Single-gene inheritance diseases\", asigna \"Cystic fibrosis\" en la columna disorder subclass.\n"
   ]
  },
  {
   "cell_type": "code",
   "execution_count": 4,
   "id": "5fb6cd02",
   "metadata": {},
   "outputs": [],
   "source": [
    "dataset2 = dataset2.with_columns(\n",
    "    pl.when(pl.col(\"Genetic Disorder\") == \"Multifactorial genetic inheritance disorders\")\n",
    "    .then(pl.lit(\"Diabetes\"))\n",
    "    .when(pl.col(\"Genetic Disorder\") == \"Mitochondrial genetic inheritance disorders\")\n",
    "    .then(pl.lit(\"Mitochondrial myopathy\"))\n",
    "    .when(pl.col(\"Genetic Disorder\") == \"Single-gene inheritance diseases\")\n",
    "    .then(pl.lit(\"Cystic fibrosis\"))\n",
    "    .alias(\"Disorder Subclass\")\n",
    ")"
   ]
  },
  {
   "cell_type": "markdown",
   "id": "dd46b5de",
   "metadata": {},
   "source": [
    "### 2. Integración y transformación de datos\n",
    "\n",
    "Une verticalmente `dataset_1` y `dataset_2` en un único DataFrame (concatenación) y utiliza este DataFrame resultante para realizar las siguientes operaciones:\n",
    "\n",
    "- Selecciona solo aquellos pacientes que cuenten con consentimiento de los padres y cuyo lugar de nacimiento haya sido un instituto.\n",
    "\n",
    "- Añade una nueva columna (`age_group`) que clasifique a los pacientes por grupo etario. Para ello, utiliza la siguiente clasificación:\n",
    "\n",
    "  - \"Newborn\": 0 años\n",
    "  - \"Early childhood\": 1 - 7 años\n",
    "  - \"Late childhood\": 8 años o más\n",
    "\n",
    "- Integra la información del vecindario de cada paciente a partir del archivo `institute_neighborhoods.csv`. Excluye aquellos registros que no tengan información de vecindario. Deja los valores de los vecindarios en mayúsculas.\n",
    "\n",
    "- Cambia el tipo de dato de todas las columnas que puedan representarse con un tipo más apropiado:\n",
    "\n",
    "  - Aquellas columnas que puedan representarse con un tipo lógico (True / False) y no lo estén, cámbialas a tipo booleano.\n",
    "  - Aquellas columnas que almacenan valores numéricos enteros y se encuentren con otro tipo de dato (como float o string), transfórmalas a entero.\n"
   ]
  },
  {
   "cell_type": "code",
   "execution_count": 5,
   "id": "2c5ebb58",
   "metadata": {},
   "outputs": [],
   "source": [
    "dataset = (\n",
    "    pl.concat([dataset1, dataset2], how=\"vertical\")\n",
    "    .filter(\n",
    "        pl.col(\"Parental consent\") == \"Yes\",\n",
    "        pl.col(\"Place of birth\") == \"Institute\",\n",
    "    )\n",
    "    .with_columns(\n",
    "        age_group=pl.when(pl.col(\"Patient Age\") == 0)\n",
    "        .then(pl.lit(\"Newborn\"))\n",
    "        .when(pl.col(\"Patient Age\") <= 7)\n",
    "        .then(pl.lit(\"Early childhood\"))\n",
    "        .otherwise(pl.lit(\"Late childhood\"))\n",
    "    )\n",
    "    .join(\n",
    "        neighborhoods,\n",
    "        left_on=\"Location of Institute\",\n",
    "        right_on=\"institute\",\n",
    "        how=\"left\",\n",
    "    )\n",
    "    .drop_nulls([\"neighborhood\"])\n",
    "    .with_columns(pl.col(\"neighborhood\").str.to_uppercase())\n",
    ")"
   ]
  },
  {
   "cell_type": "code",
   "execution_count": 6,
   "id": "59b1af1d",
   "metadata": {},
   "outputs": [
    {
     "name": "stdout",
     "output_type": "stream",
     "text": [
      "'Genes in mother's side' has ['Yes', 'No']\n",
      "'Inherited from father' has ['Yes', 'No']\n",
      "'Maternal gene' has ['No', 'Yes']\n",
      "'Paternal gene' has ['Yes', 'No']\n",
      "'Parental consent' has ['Yes']\n",
      "'Folic acid details (peri-conceptional)' has ['Yes', 'No', '-99']\n",
      "'H/O serious maternal illness' has ['No', 'Yes', '-99']\n",
      "'Assisted conception IVF/ART' has ['No', '-99', 'Yes']\n",
      "'History of anomalies in previous pregnancies' has ['Yes', '-99', 'No']\n"
     ]
    }
   ],
   "source": [
    "# ¿Cuáles columnas string tienen sólo Yes, No y -99 en sus valores?\n",
    "for col in dataset.select(cs.string()).columns:\n",
    "    unique = dataset.select(pl.col(col).unique()).to_series().drop_nulls().to_list()\n",
    "    if set(unique).issubset({\"Yes\", \"No\", \"-99\"}):\n",
    "        print(f\"'{col}' has {unique}\")"
   ]
  },
  {
   "cell_type": "code",
   "execution_count": 7,
   "id": "c49058c6",
   "metadata": {},
   "outputs": [],
   "source": [
    "# Conversiones de tipos (Yes/No/-99 a Boolean, las edades ya las corregimos antes)\n",
    "dataset = dataset.with_columns(\n",
    "    cs.by_name(\n",
    "        \"Genes in mother's side\",\n",
    "        \"Inherited from father\",\n",
    "        \"Maternal gene\",\n",
    "        \"Paternal gene\",\n",
    "        \"Parental consent\",\n",
    "        \"Folic acid details (peri-conceptional)\",\n",
    "        \"H/O serious maternal illness\",\n",
    "        \"Assisted conception IVF/ART\",\n",
    "        \"History of anomalies in previous pregnancies\",\n",
    "    )\n",
    "    .replace({\"Yes\": 1, \"No\": 0, \"-99\": None})\n",
    "    # Hay que castear a Int64 primero para evitar errores de casteo directo de string a Boolean\n",
    "    .cast(pl.Int64)\n",
    "    .cast(pl.Boolean),\n",
    ")"
   ]
  },
  {
   "cell_type": "markdown",
   "id": "7c41003d",
   "metadata": {},
   "source": [
    "### 3. Tabla resumen de pacientes\n",
    "\n",
    "Con base en el DataFrame creado en el punto 2, crea una tabla resumen que presente la cantidad de pacientes agrupados por desorden genético, categorización de edad, vecindario y género. Descarta los registros que no tengan información del desorden genético o del género. El DataFrame debe tener la siguiente estructura:\n",
    "\n",
    "| genetic_disorder                             | age_group       | neighborhood | male | female | ambiguous | total |\n",
    "| :------------------------------------------- | --------------- | ------------ | ---- | ------ | --------- | ----- |\n",
    "| Multifactorial genetic inheritance disorders | Newborn         | ROXBURY      | 35   | 27     | 20        | 82    |\n",
    "| Multifactorial genetic inheritance disorders | Early childhood | SOUTH END    | 3    | 6      | 8         | 17    |\n",
    "| Mitochondrial genetic inheritance disorders  | Newborn         | ROSLINDALE   | 29   | 28     | 26        | 83    |\n",
    "| ...                                          |                 |              |      |        |           |       |\n",
    "\n",
    "La columna `total` debe contener la suma de las columnas `male`, `female` y `ambiguous`. Rellena con 0 los valores faltantes en las columnas de conteo. Ordena la tabla descendentemente según la columna `total`.\n"
   ]
  },
  {
   "cell_type": "code",
   "execution_count": 8,
   "id": "b09b3c8d",
   "metadata": {},
   "outputs": [
    {
     "data": {
      "text/html": [
       "<div><style>\n",
       ".dataframe > thead > tr,\n",
       ".dataframe > tbody > tr {\n",
       "  text-align: right;\n",
       "  white-space: pre-wrap;\n",
       "}\n",
       "</style>\n",
       "<small>shape: (90, 7)</small><table border=\"1\" class=\"dataframe\"><thead><tr><th>genetic_disorder</th><th>age_group</th><th>neighborhood</th><th>male</th><th>female</th><th>ambiguous</th><th>total</th></tr><tr><td>str</td><td>str</td><td>str</td><td>u32</td><td>u32</td><td>u32</td><td>u32</td></tr></thead><tbody><tr><td>&quot;Mitochondrial genetic inherita…</td><td>&quot;Late childhood&quot;</td><td>&quot;CENTRAL&quot;</td><td>145</td><td>151</td><td>152</td><td>448</td></tr><tr><td>&quot;Mitochondrial genetic inherita…</td><td>&quot;Late childhood&quot;</td><td>&quot;FENWAY/KENMORE&quot;</td><td>147</td><td>135</td><td>128</td><td>410</td></tr><tr><td>&quot;Mitochondrial genetic inherita…</td><td>&quot;Early childhood&quot;</td><td>&quot;FENWAY/KENMORE&quot;</td><td>139</td><td>146</td><td>123</td><td>408</td></tr><tr><td>&quot;Mitochondrial genetic inherita…</td><td>&quot;Early childhood&quot;</td><td>&quot;CENTRAL&quot;</td><td>134</td><td>110</td><td>142</td><td>386</td></tr><tr><td>&quot;Single-gene inheritance diseas…</td><td>&quot;Late childhood&quot;</td><td>&quot;FENWAY/KENMORE&quot;</td><td>118</td><td>105</td><td>116</td><td>339</td></tr><tr><td>&hellip;</td><td>&hellip;</td><td>&hellip;</td><td>&hellip;</td><td>&hellip;</td><td>&hellip;</td><td>&hellip;</td></tr><tr><td>&quot;Multifactorial genetic inherit…</td><td>&quot;Newborn&quot;</td><td>&quot;ROXBURY&quot;</td><td>4</td><td>1</td><td>2</td><td>7</td></tr><tr><td>&quot;Multifactorial genetic inherit…</td><td>&quot;Newborn&quot;</td><td>&quot;DORCHESTER&quot;</td><td>1</td><td>2</td><td>3</td><td>6</td></tr><tr><td>&quot;Multifactorial genetic inherit…</td><td>&quot;Newborn&quot;</td><td>&quot;ROSLINDALE&quot;</td><td>null</td><td>5</td><td>1</td><td>6</td></tr><tr><td>&quot;Multifactorial genetic inherit…</td><td>&quot;Newborn&quot;</td><td>&quot;MATTAPAN&quot;</td><td>3</td><td>1</td><td>1</td><td>5</td></tr><tr><td>&quot;Multifactorial genetic inherit…</td><td>&quot;Newborn&quot;</td><td>&quot;WEST ROXBURY&quot;</td><td>null</td><td>3</td><td>null</td><td>3</td></tr></tbody></table></div>"
      ],
      "text/plain": [
       "shape: (90, 7)\n",
       "┌───────────────────────────┬─────────────────┬────────────────┬──────┬────────┬───────────┬───────┐\n",
       "│ genetic_disorder          ┆ age_group       ┆ neighborhood   ┆ male ┆ female ┆ ambiguous ┆ total │\n",
       "│ ---                       ┆ ---             ┆ ---            ┆ ---  ┆ ---    ┆ ---       ┆ ---   │\n",
       "│ str                       ┆ str             ┆ str            ┆ u32  ┆ u32    ┆ u32       ┆ u32   │\n",
       "╞═══════════════════════════╪═════════════════╪════════════════╪══════╪════════╪═══════════╪═══════╡\n",
       "│ Mitochondrial genetic     ┆ Late childhood  ┆ CENTRAL        ┆ 145  ┆ 151    ┆ 152       ┆ 448   │\n",
       "│ inherita…                 ┆                 ┆                ┆      ┆        ┆           ┆       │\n",
       "│ Mitochondrial genetic     ┆ Late childhood  ┆ FENWAY/KENMORE ┆ 147  ┆ 135    ┆ 128       ┆ 410   │\n",
       "│ inherita…                 ┆                 ┆                ┆      ┆        ┆           ┆       │\n",
       "│ Mitochondrial genetic     ┆ Early childhood ┆ FENWAY/KENMORE ┆ 139  ┆ 146    ┆ 123       ┆ 408   │\n",
       "│ inherita…                 ┆                 ┆                ┆      ┆        ┆           ┆       │\n",
       "│ Mitochondrial genetic     ┆ Early childhood ┆ CENTRAL        ┆ 134  ┆ 110    ┆ 142       ┆ 386   │\n",
       "│ inherita…                 ┆                 ┆                ┆      ┆        ┆           ┆       │\n",
       "│ Single-gene inheritance   ┆ Late childhood  ┆ FENWAY/KENMORE ┆ 118  ┆ 105    ┆ 116       ┆ 339   │\n",
       "│ diseas…                   ┆                 ┆                ┆      ┆        ┆           ┆       │\n",
       "│ …                         ┆ …               ┆ …              ┆ …    ┆ …      ┆ …         ┆ …     │\n",
       "│ Multifactorial genetic    ┆ Newborn         ┆ ROXBURY        ┆ 4    ┆ 1      ┆ 2         ┆ 7     │\n",
       "│ inherit…                  ┆                 ┆                ┆      ┆        ┆           ┆       │\n",
       "│ Multifactorial genetic    ┆ Newborn         ┆ DORCHESTER     ┆ 1    ┆ 2      ┆ 3         ┆ 6     │\n",
       "│ inherit…                  ┆                 ┆                ┆      ┆        ┆           ┆       │\n",
       "│ Multifactorial genetic    ┆ Newborn         ┆ ROSLINDALE     ┆ null ┆ 5      ┆ 1         ┆ 6     │\n",
       "│ inherit…                  ┆                 ┆                ┆      ┆        ┆           ┆       │\n",
       "│ Multifactorial genetic    ┆ Newborn         ┆ MATTAPAN       ┆ 3    ┆ 1      ┆ 1         ┆ 5     │\n",
       "│ inherit…                  ┆                 ┆                ┆      ┆        ┆           ┆       │\n",
       "│ Multifactorial genetic    ┆ Newborn         ┆ WEST ROXBURY   ┆ null ┆ 3      ┆ null      ┆ 3     │\n",
       "│ inherit…                  ┆                 ┆                ┆      ┆        ┆           ┆       │\n",
       "└───────────────────────────┴─────────────────┴────────────────┴──────┴────────┴───────────┴───────┘"
      ]
     },
     "execution_count": 8,
     "metadata": {},
     "output_type": "execute_result"
    }
   ],
   "source": [
    "patient_summary = (\n",
    "    dataset.group_by(\"Genetic Disorder\", \"age_group\", \"neighborhood\", \"Gender\")\n",
    "    .len(\"n\")\n",
    "    .drop_nulls([\"Genetic Disorder\", \"Gender\"])\n",
    "    .filter(pl.col(\"Gender\") != \"-99\")\n",
    "    .pivot(on=\"Gender\", index=[\"Genetic Disorder\", \"age_group\", \"neighborhood\"])\n",
    "    .select(\n",
    "        genetic_disorder=\"Genetic Disorder\",\n",
    "        age_group=\"age_group\",\n",
    "        neighborhood=\"neighborhood\",\n",
    "        male=\"Male\",\n",
    "        female=\"Female\",\n",
    "        ambiguous=\"Ambiguous\",\n",
    "    )\n",
    "    .with_columns(total=pl.sum_horizontal(cs.numeric()))\n",
    "    .sort(\"total\", descending=True)\n",
    ")\n",
    "patient_summary"
   ]
  },
  {
   "cell_type": "markdown",
   "id": "c2c9159b",
   "metadata": {},
   "source": [
    "### 4. Análisis de factores de riesgo\n",
    "\n",
    "Genera un DataFrame que contenga tres columnas: `birth_defects`, `history_of` y `count`. La columna `history_of` debe contener la información:\n",
    "\n",
    "- H/O serious maternal illness\n",
    "- H/O radiation exposure (x-ray)\n",
    "- H/O substance abuse\n",
    "\n",
    "Cuando no haya defectos de nacimiento, la columna `birth_defects` debe contener el valor \"No\". La columna `count` debe contener la cantidad de registros en los que la columna correspondiente de historial (`history_of`) tenga un valor positivo. Descarta los registros que contengan valores inválidos o faltantes como \"-99\", \"-\", espacios vacíos, etc.\n",
    "\n",
    "Añade la columna `percentage_by_ho` con el porcentaje que representa cada fila con respecto al total de registros por H/O.\n"
   ]
  },
  {
   "cell_type": "code",
   "execution_count": 9,
   "id": "97a7f17d",
   "metadata": {},
   "outputs": [
    {
     "data": {
      "text/html": [
       "<div><style>\n",
       ".dataframe > thead > tr,\n",
       ".dataframe > tbody > tr {\n",
       "  text-align: right;\n",
       "  white-space: pre-wrap;\n",
       "}\n",
       "</style>\n",
       "<small>shape: (9, 4)</small><table border=\"1\" class=\"dataframe\"><thead><tr><th>birth_defects</th><th>history_of</th><th>count</th><th>percentage_by_ho</th></tr><tr><td>str</td><td>str</td><td>u32</td><td>f64</td></tr></thead><tbody><tr><td>&quot;Multiple&quot;</td><td>&quot;H/O radiation exposure (x-ray)&quot;</td><td>1142</td><td>45.174051</td></tr><tr><td>&quot;No&quot;</td><td>&quot;H/O radiation exposure (x-ray)&quot;</td><td>187</td><td>7.397152</td></tr><tr><td>&quot;Singular&quot;</td><td>&quot;H/O radiation exposure (x-ray)&quot;</td><td>1199</td><td>47.428797</td></tr><tr><td>&quot;Multiple&quot;</td><td>&quot;H/O serious maternal illness&quot;</td><td>2317</td><td>46.563505</td></tr><tr><td>&quot;No&quot;</td><td>&quot;H/O serious maternal illness&quot;</td><td>361</td><td>7.254823</td></tr><tr><td>&quot;Singular&quot;</td><td>&quot;H/O serious maternal illness&quot;</td><td>2298</td><td>46.181672</td></tr><tr><td>&quot;Multiple&quot;</td><td>&quot;H/O substance abuse&quot;</td><td>1136</td><td>46.272912</td></tr><tr><td>&quot;No&quot;</td><td>&quot;H/O substance abuse&quot;</td><td>172</td><td>7.00611</td></tr><tr><td>&quot;Singular&quot;</td><td>&quot;H/O substance abuse&quot;</td><td>1147</td><td>46.720978</td></tr></tbody></table></div>"
      ],
      "text/plain": [
       "shape: (9, 4)\n",
       "┌───────────────┬────────────────────────────────┬───────┬──────────────────┐\n",
       "│ birth_defects ┆ history_of                     ┆ count ┆ percentage_by_ho │\n",
       "│ ---           ┆ ---                            ┆ ---   ┆ ---              │\n",
       "│ str           ┆ str                            ┆ u32   ┆ f64              │\n",
       "╞═══════════════╪════════════════════════════════╪═══════╪══════════════════╡\n",
       "│ Multiple      ┆ H/O radiation exposure (x-ray) ┆ 1142  ┆ 45.174051        │\n",
       "│ No            ┆ H/O radiation exposure (x-ray) ┆ 187   ┆ 7.397152         │\n",
       "│ Singular      ┆ H/O radiation exposure (x-ray) ┆ 1199  ┆ 47.428797        │\n",
       "│ Multiple      ┆ H/O serious maternal illness   ┆ 2317  ┆ 46.563505        │\n",
       "│ No            ┆ H/O serious maternal illness   ┆ 361   ┆ 7.254823         │\n",
       "│ Singular      ┆ H/O serious maternal illness   ┆ 2298  ┆ 46.181672        │\n",
       "│ Multiple      ┆ H/O substance abuse            ┆ 1136  ┆ 46.272912        │\n",
       "│ No            ┆ H/O substance abuse            ┆ 172   ┆ 7.00611          │\n",
       "│ Singular      ┆ H/O substance abuse            ┆ 1147  ┆ 46.720978        │\n",
       "└───────────────┴────────────────────────────────┴───────┴──────────────────┘"
      ]
     },
     "execution_count": 9,
     "metadata": {},
     "output_type": "execute_result"
    }
   ],
   "source": [
    "ho_summary = (\n",
    "    dataset.select(cs.starts_with(\"H/O\"), birth_defects=\"Birth defects\")\n",
    "    .with_columns(\n",
    "        # Asumimos que nos -99 son errores de registro, no nulos, así que no los reemplazamos\n",
    "        birth_defects=pl.col(\"birth_defects\").fill_null(\"No\")\n",
    "    )\n",
    "    .unpivot(index=\"birth_defects\", variable_name=\"history_of\")\n",
    "    .drop_nulls()\n",
    "    .filter(\n",
    "        pl.col(\"value\").is_in([\"Yes\", \"true\"]),\n",
    "        pl.col(\"birth_defects\") != \"-99\",\n",
    "    )\n",
    "    .group_by(\"birth_defects\", \"history_of\")\n",
    "    .len(\"count\")\n",
    "    .with_columns(percentage_by_ho=pl.col(\"count\") / pl.col(\"count\").sum().over(\"history_of\") * 100)\n",
    "    .sort(\"history_of\", \"birth_defects\")\n",
    ")\n",
    "ho_summary"
   ]
  },
  {
   "cell_type": "markdown",
   "id": "6a091e52",
   "metadata": {},
   "source": [
    "### 5. Procesamiento de información de visitas\n",
    "\n",
    "En el archivo `last_visit_info.csv` encontrarás el detalle de las últimas visitas de los pacientes. Este archivo contiene dos columnas:\n",
    "\n",
    "- `Patient Id`: Identificador del paciente, que coincide con la columna `Patient Id` del DataFrame creado en el punto 2.\n",
    "- `LastVisitInfo`: Información de la última visita en formato JSON. Contiene la fecha de la última visita, nombre del doctor, razón, entre otros.\n",
    "\n",
    "Extrae la fecha de la última visita del JSON y guárdala en una nueva columna llamada `last_visit_date`, y haz lo mismo con `next_appointment`. Posteriormente, integra esta información al DataFrame creado en el punto 2 usando el identificador del paciente.\n",
    "\n",
    "Finalmente, responde: ¿Cuántos pacientes del grupo etario \"Early childhood\" tienen una cita programada para noviembre o diciembre de 2025, y además la diferencia en días entre su última visita y la cita programada es menor a 150 días?\n"
   ]
  },
  {
   "cell_type": "code",
   "execution_count": 10,
   "id": "f020c7f8",
   "metadata": {},
   "outputs": [],
   "source": [
    "# Función para extraer campos de un string en formato JSON\n",
    "def extract_field(json_string, field_name):\n",
    "    data = json.loads(json_string)\n",
    "    return data.get(field_name, None)"
   ]
  },
  {
   "cell_type": "code",
   "execution_count": 11,
   "id": "f2154c4a",
   "metadata": {},
   "outputs": [],
   "source": [
    "last_visit_info = last_visit_info.with_columns(\n",
    "    last_visit_date=pl.col(\"LastVisitInfo\")\n",
    "    .map_elements(\n",
    "        lambda x: extract_field(x, \"last_visit_date\"),\n",
    "        return_dtype=pl.String,\n",
    "    )\n",
    "    .cast(pl.Date),\n",
    "    next_appointment=pl.col(\"LastVisitInfo\")\n",
    "    .map_elements(\n",
    "        lambda x: extract_field(x, \"next_appointment\"),\n",
    "        return_dtype=pl.String,\n",
    "    )\n",
    "    .cast(pl.Date),\n",
    ")"
   ]
  },
  {
   "cell_type": "code",
   "execution_count": 12,
   "id": "46e4289d",
   "metadata": {},
   "outputs": [],
   "source": [
    "dataset_with_visit_info = dataset.join(\n",
    "    last_visit_info.drop(\"LastVisitInfo\"),\n",
    "    on=\"Patient Id\",\n",
    "    how=\"left\",\n",
    ")"
   ]
  },
  {
   "cell_type": "code",
   "execution_count": 13,
   "id": "2b4233f9",
   "metadata": {},
   "outputs": [
    {
     "name": "stdout",
     "output_type": "stream",
     "text": [
      "71 pacientes tienen citas programadas para finales de 2025.\n"
     ]
    }
   ],
   "source": [
    "patients_with_appointments_soon = dataset_with_visit_info.filter(\n",
    "    pl.col(\"age_group\") == \"Early childhood\",\n",
    "    pl.col(\"next_appointment\").is_between(date(2025, 11, 1), date(2025, 12, 31)),\n",
    "    (pl.col(\"next_appointment\") - pl.col(\"last_visit_date\")).dt.total_days() < 150,\n",
    ")\n",
    "\n",
    "# NOTA: Otra opción para el filtro de fecha habría sido usar .dt.month() y .dt.year():\n",
    "# pl.col(\"next_appointment\").dt.year() == 2025,\n",
    "# pl.col(\"next_appointment\").dt.month().is_in([11, 12]),\n",
    "\n",
    "print(f\"{patients_with_appointments_soon.height} pacientes tienen citas programadas para finales de 2025.\")"
   ]
  }
 ],
 "metadata": {
  "kernelspec": {
   "display_name": "data-visualization-notebooks",
   "language": "python",
   "name": "python3"
  },
  "language_info": {
   "codemirror_mode": {
    "name": "ipython",
    "version": 3
   },
   "file_extension": ".py",
   "mimetype": "text/x-python",
   "name": "python",
   "nbconvert_exporter": "python",
   "pygments_lexer": "ipython3",
   "version": "3.13.9"
  }
 },
 "nbformat": 4,
 "nbformat_minor": 5
}
