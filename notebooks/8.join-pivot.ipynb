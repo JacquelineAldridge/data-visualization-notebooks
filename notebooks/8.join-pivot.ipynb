{
 "cells": [
  {
   "cell_type": "code",
   "execution_count": 2,
   "id": "89b418f6",
   "metadata": {},
   "outputs": [],
   "source": [
    "import polars as pl"
   ]
  },
  {
   "cell_type": "code",
   "execution_count": 3,
   "id": "b9443f5b",
   "metadata": {},
   "outputs": [],
   "source": [
    "df_datos = pl.read_csv(\"../train.csv\")"
   ]
  },
  {
   "cell_type": "code",
   "execution_count": 26,
   "id": "dbade0cf",
   "metadata": {},
   "outputs": [
    {
     "data": {
      "text/plain": [
       "polars.config.Config"
      ]
     },
     "execution_count": 26,
     "metadata": {},
     "output_type": "execute_result"
    }
   ],
   "source": [
    "pl.Config.set_tbl_rows(10)"
   ]
  },
  {
   "cell_type": "code",
   "execution_count": 41,
   "id": "b6d670a0",
   "metadata": {},
   "outputs": [],
   "source": [
    "## Calcula la media de conteo de glóbulos blancos y rojos por desorden genético para los pacientes que tienen menos de 5 años, y posteriomente calcula estos valores para los pacientes que tienen 5 años o más. Junta ambos resultados en un solo DataFrame y calcula la diferencia absoluta de ambas métricas entre ambos grupos de edad."
   ]
  },
  {
   "cell_type": "code",
   "execution_count": 16,
   "id": "775a476a",
   "metadata": {},
   "outputs": [
    {
     "data": {
      "text/html": [
       "<div><style>\n",
       ".dataframe > thead > tr,\n",
       ".dataframe > tbody > tr {\n",
       "  text-align: right;\n",
       "  white-space: pre-wrap;\n",
       "}\n",
       "</style>\n",
       "<small>shape: (9, 3)</small><table border=\"1\" class=\"dataframe\"><thead><tr><th>Disorder Subclass</th><th>mean_red_m</th><th>mean_white_m</th></tr><tr><td>str</td><td>f64</td><td>f64</td></tr></thead><tbody><tr><td>&quot;Cancer&quot;</td><td>4.883708</td><td>7.661741</td></tr><tr><td>&quot;Leigh syndrome&quot;</td><td>4.896911</td><td>7.419381</td></tr><tr><td>&quot;Diabetes&quot;</td><td>4.887763</td><td>7.595284</td></tr><tr><td>&quot;Leber&#x27;s hereditary optic neuro…</td><td>4.883083</td><td>7.529758</td></tr><tr><td>&quot;Tay-Sachs&quot;</td><td>4.900089</td><td>7.647843</td></tr><tr><td>&quot;Mitochondrial myopathy&quot;</td><td>4.893421</td><td>7.462122</td></tr><tr><td>&quot;Hemochromatosis&quot;</td><td>4.889836</td><td>7.454434</td></tr><tr><td>&quot;Alzheimer&#x27;s&quot;</td><td>4.896252</td><td>7.740429</td></tr><tr><td>&quot;Cystic fibrosis&quot;</td><td>4.898628</td><td>7.630248</td></tr></tbody></table></div>"
      ],
      "text/plain": [
       "shape: (9, 3)\n",
       "┌─────────────────────────────────┬────────────┬──────────────┐\n",
       "│ Disorder Subclass               ┆ mean_red_m ┆ mean_white_m │\n",
       "│ ---                             ┆ ---        ┆ ---          │\n",
       "│ str                             ┆ f64        ┆ f64          │\n",
       "╞═════════════════════════════════╪════════════╪══════════════╡\n",
       "│ Cancer                          ┆ 4.883708   ┆ 7.661741     │\n",
       "│ Leigh syndrome                  ┆ 4.896911   ┆ 7.419381     │\n",
       "│ Diabetes                        ┆ 4.887763   ┆ 7.595284     │\n",
       "│ Leber's hereditary optic neuro… ┆ 4.883083   ┆ 7.529758     │\n",
       "│ Tay-Sachs                       ┆ 4.900089   ┆ 7.647843     │\n",
       "│ Mitochondrial myopathy          ┆ 4.893421   ┆ 7.462122     │\n",
       "│ Hemochromatosis                 ┆ 4.889836   ┆ 7.454434     │\n",
       "│ Alzheimer's                     ┆ 4.896252   ┆ 7.740429     │\n",
       "│ Cystic fibrosis                 ┆ 4.898628   ┆ 7.630248     │\n",
       "└─────────────────────────────────┴────────────┴──────────────┘"
      ]
     },
     "execution_count": 16,
     "metadata": {},
     "output_type": "execute_result"
    }
   ],
   "source": [
    "\n",
    "df_subclass_minors5 = (\n",
    "    df_datos.filter(pl.col(\"Patient Age\") < 5).group_by(\"Disorder Subclass\")\n",
    "    .agg(\n",
    "        mean_red_m = pl.col(\"Blood cell count (mcL)\").mean(),\n",
    "        mean_white_m = pl.col(\"White Blood cell count (thousand per microliter)\").mean(),\n",
    "    )\n",
    "    .drop_nulls()\n",
    ")\n",
    "df_subclass_minors5"
   ]
  },
  {
   "cell_type": "code",
   "execution_count": 17,
   "id": "58cfef3f",
   "metadata": {},
   "outputs": [
    {
     "data": {
      "text/html": [
       "<div><style>\n",
       ".dataframe > thead > tr,\n",
       ".dataframe > tbody > tr {\n",
       "  text-align: right;\n",
       "  white-space: pre-wrap;\n",
       "}\n",
       "</style>\n",
       "<small>shape: (9, 3)</small><table border=\"1\" class=\"dataframe\"><thead><tr><th>Disorder Subclass</th><th>mean_red_h</th><th>mean_white_h</th></tr><tr><td>str</td><td>f64</td><td>f64</td></tr></thead><tbody><tr><td>&quot;Hemochromatosis&quot;</td><td>4.892835</td><td>7.457545</td></tr><tr><td>&quot;Cancer&quot;</td><td>4.851911</td><td>7.765564</td></tr><tr><td>&quot;Mitochondrial myopathy&quot;</td><td>4.897351</td><td>7.519142</td></tr><tr><td>&quot;Cystic fibrosis&quot;</td><td>4.902574</td><td>7.468543</td></tr><tr><td>&quot;Leigh syndrome&quot;</td><td>4.905123</td><td>7.450601</td></tr><tr><td>&quot;Alzheimer&#x27;s&quot;</td><td>4.897511</td><td>7.247322</td></tr><tr><td>&quot;Diabetes&quot;</td><td>4.896993</td><td>7.37063</td></tr><tr><td>&quot;Leber&#x27;s hereditary optic neuro…</td><td>4.907231</td><td>7.474441</td></tr><tr><td>&quot;Tay-Sachs&quot;</td><td>4.902508</td><td>7.416985</td></tr></tbody></table></div>"
      ],
      "text/plain": [
       "shape: (9, 3)\n",
       "┌─────────────────────────────────┬────────────┬──────────────┐\n",
       "│ Disorder Subclass               ┆ mean_red_h ┆ mean_white_h │\n",
       "│ ---                             ┆ ---        ┆ ---          │\n",
       "│ str                             ┆ f64        ┆ f64          │\n",
       "╞═════════════════════════════════╪════════════╪══════════════╡\n",
       "│ Hemochromatosis                 ┆ 4.892835   ┆ 7.457545     │\n",
       "│ Cancer                          ┆ 4.851911   ┆ 7.765564     │\n",
       "│ Mitochondrial myopathy          ┆ 4.897351   ┆ 7.519142     │\n",
       "│ Cystic fibrosis                 ┆ 4.902574   ┆ 7.468543     │\n",
       "│ Leigh syndrome                  ┆ 4.905123   ┆ 7.450601     │\n",
       "│ Alzheimer's                     ┆ 4.897511   ┆ 7.247322     │\n",
       "│ Diabetes                        ┆ 4.896993   ┆ 7.37063      │\n",
       "│ Leber's hereditary optic neuro… ┆ 4.907231   ┆ 7.474441     │\n",
       "│ Tay-Sachs                       ┆ 4.902508   ┆ 7.416985     │\n",
       "└─────────────────────────────────┴────────────┴──────────────┘"
      ]
     },
     "execution_count": 17,
     "metadata": {},
     "output_type": "execute_result"
    }
   ],
   "source": [
    "df_subclass_higher5 = (\n",
    "    df_datos.filter(pl.col(\"Patient Age\") >= 5).group_by(\"Disorder Subclass\")\n",
    "    .agg(\n",
    "        mean_red_h = pl.col(\"Blood cell count (mcL)\").mean(),\n",
    "        mean_white_h = pl.col(\"White Blood cell count (thousand per microliter)\").mean(),\n",
    "    )\n",
    "    .drop_nulls()\n",
    ")\n",
    "df_subclass_higher5"
   ]
  },
  {
   "cell_type": "code",
   "execution_count": 18,
   "id": "5f480c23",
   "metadata": {},
   "outputs": [
    {
     "data": {
      "text/html": [
       "<div><style>\n",
       ".dataframe > thead > tr,\n",
       ".dataframe > tbody > tr {\n",
       "  text-align: right;\n",
       "  white-space: pre-wrap;\n",
       "}\n",
       "</style>\n",
       "<small>shape: (9, 5)</small><table border=\"1\" class=\"dataframe\"><thead><tr><th>Disorder Subclass</th><th>mean_red_m</th><th>mean_white_m</th><th>mean_red_h</th><th>mean_white_h</th></tr><tr><td>str</td><td>f64</td><td>f64</td><td>f64</td><td>f64</td></tr></thead><tbody><tr><td>&quot;Hemochromatosis&quot;</td><td>4.889836</td><td>7.454434</td><td>4.892835</td><td>7.457545</td></tr><tr><td>&quot;Cancer&quot;</td><td>4.883708</td><td>7.661741</td><td>4.851911</td><td>7.765564</td></tr><tr><td>&quot;Mitochondrial myopathy&quot;</td><td>4.893421</td><td>7.462122</td><td>4.897351</td><td>7.519142</td></tr><tr><td>&quot;Cystic fibrosis&quot;</td><td>4.898628</td><td>7.630248</td><td>4.902574</td><td>7.468543</td></tr><tr><td>&quot;Leigh syndrome&quot;</td><td>4.896911</td><td>7.419381</td><td>4.905123</td><td>7.450601</td></tr><tr><td>&quot;Alzheimer&#x27;s&quot;</td><td>4.896252</td><td>7.740429</td><td>4.897511</td><td>7.247322</td></tr><tr><td>&quot;Diabetes&quot;</td><td>4.887763</td><td>7.595284</td><td>4.896993</td><td>7.37063</td></tr><tr><td>&quot;Leber&#x27;s hereditary optic neuro…</td><td>4.883083</td><td>7.529758</td><td>4.907231</td><td>7.474441</td></tr><tr><td>&quot;Tay-Sachs&quot;</td><td>4.900089</td><td>7.647843</td><td>4.902508</td><td>7.416985</td></tr></tbody></table></div>"
      ],
      "text/plain": [
       "shape: (9, 5)\n",
       "┌─────────────────────────────────┬────────────┬──────────────┬────────────┬──────────────┐\n",
       "│ Disorder Subclass               ┆ mean_red_m ┆ mean_white_m ┆ mean_red_h ┆ mean_white_h │\n",
       "│ ---                             ┆ ---        ┆ ---          ┆ ---        ┆ ---          │\n",
       "│ str                             ┆ f64        ┆ f64          ┆ f64        ┆ f64          │\n",
       "╞═════════════════════════════════╪════════════╪══════════════╪════════════╪══════════════╡\n",
       "│ Hemochromatosis                 ┆ 4.889836   ┆ 7.454434     ┆ 4.892835   ┆ 7.457545     │\n",
       "│ Cancer                          ┆ 4.883708   ┆ 7.661741     ┆ 4.851911   ┆ 7.765564     │\n",
       "│ Mitochondrial myopathy          ┆ 4.893421   ┆ 7.462122     ┆ 4.897351   ┆ 7.519142     │\n",
       "│ Cystic fibrosis                 ┆ 4.898628   ┆ 7.630248     ┆ 4.902574   ┆ 7.468543     │\n",
       "│ Leigh syndrome                  ┆ 4.896911   ┆ 7.419381     ┆ 4.905123   ┆ 7.450601     │\n",
       "│ Alzheimer's                     ┆ 4.896252   ┆ 7.740429     ┆ 4.897511   ┆ 7.247322     │\n",
       "│ Diabetes                        ┆ 4.887763   ┆ 7.595284     ┆ 4.896993   ┆ 7.37063      │\n",
       "│ Leber's hereditary optic neuro… ┆ 4.883083   ┆ 7.529758     ┆ 4.907231   ┆ 7.474441     │\n",
       "│ Tay-Sachs                       ┆ 4.900089   ┆ 7.647843     ┆ 4.902508   ┆ 7.416985     │\n",
       "└─────────────────────────────────┴────────────┴──────────────┴────────────┴──────────────┘"
      ]
     },
     "execution_count": 18,
     "metadata": {},
     "output_type": "execute_result"
    }
   ],
   "source": [
    "df_inner = df_subclass_minors5.join(df_subclass_higher5, on=\"Disorder Subclass\",how=\"inner\")\n",
    "df_inner"
   ]
  },
  {
   "cell_type": "code",
   "execution_count": 20,
   "id": "79a82524",
   "metadata": {},
   "outputs": [
    {
     "data": {
      "text/html": [
       "<div><style>\n",
       ".dataframe > thead > tr,\n",
       ".dataframe > tbody > tr {\n",
       "  text-align: right;\n",
       "  white-space: pre-wrap;\n",
       "}\n",
       "</style>\n",
       "<small>shape: (9, 7)</small><table border=\"1\" class=\"dataframe\"><thead><tr><th>Disorder Subclass</th><th>mean_red_m</th><th>mean_white_m</th><th>mean_red_h</th><th>mean_white_h</th><th>diferencia_red</th><th>diferencia_white</th></tr><tr><td>str</td><td>f64</td><td>f64</td><td>f64</td><td>f64</td><td>f64</td><td>f64</td></tr></thead><tbody><tr><td>&quot;Hemochromatosis&quot;</td><td>4.889836</td><td>7.454434</td><td>4.892835</td><td>7.457545</td><td>0.002999</td><td>0.003111</td></tr><tr><td>&quot;Cancer&quot;</td><td>4.883708</td><td>7.661741</td><td>4.851911</td><td>7.765564</td><td>0.031798</td><td>0.103823</td></tr><tr><td>&quot;Mitochondrial myopathy&quot;</td><td>4.893421</td><td>7.462122</td><td>4.897351</td><td>7.519142</td><td>0.003929</td><td>0.05702</td></tr><tr><td>&quot;Cystic fibrosis&quot;</td><td>4.898628</td><td>7.630248</td><td>4.902574</td><td>7.468543</td><td>0.003946</td><td>0.161705</td></tr><tr><td>&quot;Leigh syndrome&quot;</td><td>4.896911</td><td>7.419381</td><td>4.905123</td><td>7.450601</td><td>0.008212</td><td>0.03122</td></tr><tr><td>&quot;Alzheimer&#x27;s&quot;</td><td>4.896252</td><td>7.740429</td><td>4.897511</td><td>7.247322</td><td>0.001259</td><td>0.493107</td></tr><tr><td>&quot;Diabetes&quot;</td><td>4.887763</td><td>7.595284</td><td>4.896993</td><td>7.37063</td><td>0.00923</td><td>0.224654</td></tr><tr><td>&quot;Leber&#x27;s hereditary optic neuro…</td><td>4.883083</td><td>7.529758</td><td>4.907231</td><td>7.474441</td><td>0.024147</td><td>0.055317</td></tr><tr><td>&quot;Tay-Sachs&quot;</td><td>4.900089</td><td>7.647843</td><td>4.902508</td><td>7.416985</td><td>0.002419</td><td>0.230857</td></tr></tbody></table></div>"
      ],
      "text/plain": [
       "shape: (9, 7)\n",
       "┌──────────────┬────────────┬──────────────┬────────────┬──────────────┬─────────────┬─────────────┐\n",
       "│ Disorder     ┆ mean_red_m ┆ mean_white_m ┆ mean_red_h ┆ mean_white_h ┆ diferencia_ ┆ diferencia_ │\n",
       "│ Subclass     ┆ ---        ┆ ---          ┆ ---        ┆ ---          ┆ red         ┆ white       │\n",
       "│ ---          ┆ f64        ┆ f64          ┆ f64        ┆ f64          ┆ ---         ┆ ---         │\n",
       "│ str          ┆            ┆              ┆            ┆              ┆ f64         ┆ f64         │\n",
       "╞══════════════╪════════════╪══════════════╪════════════╪══════════════╪═════════════╪═════════════╡\n",
       "│ Hemochromato ┆ 4.889836   ┆ 7.454434     ┆ 4.892835   ┆ 7.457545     ┆ 0.002999    ┆ 0.003111    │\n",
       "│ sis          ┆            ┆              ┆            ┆              ┆             ┆             │\n",
       "│ Cancer       ┆ 4.883708   ┆ 7.661741     ┆ 4.851911   ┆ 7.765564     ┆ 0.031798    ┆ 0.103823    │\n",
       "│ Mitochondria ┆ 4.893421   ┆ 7.462122     ┆ 4.897351   ┆ 7.519142     ┆ 0.003929    ┆ 0.05702     │\n",
       "│ l myopathy   ┆            ┆              ┆            ┆              ┆             ┆             │\n",
       "│ Cystic       ┆ 4.898628   ┆ 7.630248     ┆ 4.902574   ┆ 7.468543     ┆ 0.003946    ┆ 0.161705    │\n",
       "│ fibrosis     ┆            ┆              ┆            ┆              ┆             ┆             │\n",
       "│ Leigh        ┆ 4.896911   ┆ 7.419381     ┆ 4.905123   ┆ 7.450601     ┆ 0.008212    ┆ 0.03122     │\n",
       "│ syndrome     ┆            ┆              ┆            ┆              ┆             ┆             │\n",
       "│ Alzheimer's  ┆ 4.896252   ┆ 7.740429     ┆ 4.897511   ┆ 7.247322     ┆ 0.001259    ┆ 0.493107    │\n",
       "│ Diabetes     ┆ 4.887763   ┆ 7.595284     ┆ 4.896993   ┆ 7.37063      ┆ 0.00923     ┆ 0.224654    │\n",
       "│ Leber's      ┆ 4.883083   ┆ 7.529758     ┆ 4.907231   ┆ 7.474441     ┆ 0.024147    ┆ 0.055317    │\n",
       "│ hereditary   ┆            ┆              ┆            ┆              ┆             ┆             │\n",
       "│ optic neuro… ┆            ┆              ┆            ┆              ┆             ┆             │\n",
       "│ Tay-Sachs    ┆ 4.900089   ┆ 7.647843     ┆ 4.902508   ┆ 7.416985     ┆ 0.002419    ┆ 0.230857    │\n",
       "└──────────────┴────────────┴──────────────┴────────────┴──────────────┴─────────────┴─────────────┘"
      ]
     },
     "execution_count": 20,
     "metadata": {},
     "output_type": "execute_result"
    }
   ],
   "source": [
    "df_inner.with_columns(\n",
    "    diferencia_red = (pl.col(\"mean_red_m\")- pl.col(\"mean_red_h\")).abs(),\n",
    "    diferencia_white = (pl.col(\"mean_white_m\") - pl.col(\"mean_white_h\")).abs())"
   ]
  },
  {
   "cell_type": "code",
   "execution_count": 21,
   "id": "73b28120",
   "metadata": {},
   "outputs": [],
   "source": [
    "## Agrega la información de este DataFrame al DataFrame original. Además, agrega una nueva columna que indique si el instituto tieen\n",
    "# algún nivel de especialización (asume que los que no están en la lista no tienen especialización). \n",
    "# ¿Qué tipo de join has usado y por qué? Si quisiéramos conservar sólo los registros de pacientes que tienen un instituto especializado, ¿qué tipo de join usarías?"
   ]
  },
  {
   "cell_type": "code",
   "execution_count": 23,
   "id": "93487d43",
   "metadata": {},
   "outputs": [],
   "source": [
    "df_inst = pl.DataFrame(\n",
    "    {\n",
    "        \"Institute Name\": [\n",
    "            \"Dana-farber Cancer Institute\",\n",
    "            \"Beth Israel Deaconess Medical Center\",\n",
    "            \"New England Medical Center\",\n",
    "        ],\n",
    "        \"specialization_level\": [\"High\", \"Medium\", \"High\"],\n",
    "    }\n",
    ")"
   ]
  },
  {
   "cell_type": "code",
   "execution_count": 27,
   "id": "71e039f9",
   "metadata": {},
   "outputs": [
    {
     "data": {
      "text/html": [
       "<div><style>\n",
       ".dataframe > thead > tr,\n",
       ".dataframe > tbody > tr {\n",
       "  text-align: right;\n",
       "  white-space: pre-wrap;\n",
       "}\n",
       "</style>\n",
       "<small>shape: (22_083, 46)</small><table border=\"1\" class=\"dataframe\"><thead><tr><th>Patient Id</th><th>Patient Age</th><th>Genes in mother&#x27;s side</th><th>Inherited from father</th><th>Maternal gene</th><th>Paternal gene</th><th>Blood cell count (mcL)</th><th>Patient First Name</th><th>Family Name</th><th>Father&#x27;s name</th><th>Mother&#x27;s age</th><th>Father&#x27;s age</th><th>Institute Name</th><th>Location of Institute</th><th>Status</th><th>Respiratory Rate (breaths/min)</th><th>Heart Rate (rates/min</th><th>Test 1</th><th>Test 2</th><th>Test 3</th><th>Test 4</th><th>Test 5</th><th>Parental consent</th><th>Follow-up</th><th>Gender</th><th>Birth asphyxia</th><th>Autopsy shows birth defect (if applicable)</th><th>Place of birth</th><th>Folic acid details (peri-conceptional)</th><th>H/O serious maternal illness</th><th>H/O radiation exposure (x-ray)</th><th>H/O substance abuse</th><th>Assisted conception IVF/ART</th><th>History of anomalies in previous pregnancies</th><th>No. of previous abortion</th><th>Birth defects</th><th>White Blood cell count (thousand per microliter)</th><th>Blood test result</th><th>Symptom 1</th><th>Symptom 2</th><th>Symptom 3</th><th>Symptom 4</th><th>Symptom 5</th><th>Genetic Disorder</th><th>Disorder Subclass</th><th>specialization_level</th></tr><tr><td>str</td><td>f64</td><td>str</td><td>str</td><td>str</td><td>str</td><td>f64</td><td>str</td><td>str</td><td>str</td><td>f64</td><td>f64</td><td>str</td><td>str</td><td>str</td><td>str</td><td>str</td><td>f64</td><td>f64</td><td>f64</td><td>f64</td><td>f64</td><td>str</td><td>str</td><td>str</td><td>str</td><td>str</td><td>str</td><td>str</td><td>str</td><td>str</td><td>str</td><td>str</td><td>str</td><td>f64</td><td>str</td><td>f64</td><td>str</td><td>f64</td><td>f64</td><td>f64</td><td>f64</td><td>f64</td><td>str</td><td>str</td><td>str</td></tr></thead><tbody><tr><td>&quot;PID0x6418&quot;</td><td>2.0</td><td>&quot;Yes&quot;</td><td>&quot;No&quot;</td><td>&quot;Yes&quot;</td><td>&quot;No&quot;</td><td>4.760603</td><td>&quot;Richard&quot;</td><td>null</td><td>&quot;Larre&quot;</td><td>null</td><td>null</td><td>&quot;Boston Specialty &amp; Rehabilitat…</td><td>&quot;55 FRUIT ST\n",
       "CENTRAL, MA 02114\n",
       "…</td><td>&quot;Alive&quot;</td><td>&quot;Normal (30-60)&quot;</td><td>&quot;Normal&quot;</td><td>0.0</td><td>null</td><td>null</td><td>1.0</td><td>0.0</td><td>&quot;Yes&quot;</td><td>&quot;High&quot;</td><td>null</td><td>null</td><td>&quot;Not applicable&quot;</td><td>&quot;Institute&quot;</td><td>&quot;No&quot;</td><td>null</td><td>&quot;No&quot;</td><td>&quot;No&quot;</td><td>&quot;No&quot;</td><td>&quot;Yes&quot;</td><td>null</td><td>null</td><td>9.857562</td><td>null</td><td>1.0</td><td>1.0</td><td>1.0</td><td>1.0</td><td>1.0</td><td>&quot;Mitochondrial genetic inherita…</td><td>&quot;Leber&#x27;s hereditary optic neuro…</td><td>null</td></tr><tr><td>&quot;PID0x25d5&quot;</td><td>4.0</td><td>&quot;Yes&quot;</td><td>&quot;Yes&quot;</td><td>&quot;No&quot;</td><td>&quot;No&quot;</td><td>4.910669</td><td>&quot;Mike&quot;</td><td>null</td><td>&quot;Brycen&quot;</td><td>null</td><td>23.0</td><td>&quot;St. Margaret&#x27;s Hospital For Wo…</td><td>&quot;1515 COMMONWEALTH AV\n",
       "ALLSTON/B…</td><td>&quot;Deceased&quot;</td><td>&quot;Tachypnea&quot;</td><td>&quot;Normal&quot;</td><td>null</td><td>0.0</td><td>0.0</td><td>1.0</td><td>0.0</td><td>&quot;Yes&quot;</td><td>&quot;High&quot;</td><td>null</td><td>&quot;No&quot;</td><td>&quot;None&quot;</td><td>null</td><td>&quot;Yes&quot;</td><td>&quot;Yes&quot;</td><td>&quot;Not applicable&quot;</td><td>&quot;Not applicable&quot;</td><td>&quot;No&quot;</td><td>&quot;Yes&quot;</td><td>null</td><td>&quot;Multiple&quot;</td><td>5.52256</td><td>&quot;normal&quot;</td><td>1.0</td><td>null</td><td>1.0</td><td>1.0</td><td>0.0</td><td>null</td><td>&quot;Cystic fibrosis&quot;</td><td>null</td></tr><tr><td>&quot;PID0x4a82&quot;</td><td>6.0</td><td>&quot;Yes&quot;</td><td>&quot;No&quot;</td><td>&quot;No&quot;</td><td>&quot;No&quot;</td><td>4.893297</td><td>&quot;Kimberly&quot;</td><td>null</td><td>&quot;Nashon&quot;</td><td>41.0</td><td>22.0</td><td>null</td><td>&quot;-&quot;</td><td>&quot;Alive&quot;</td><td>&quot;Normal (30-60)&quot;</td><td>&quot;Tachycardia&quot;</td><td>0.0</td><td>0.0</td><td>0.0</td><td>1.0</td><td>0.0</td><td>&quot;Yes&quot;</td><td>&quot;Low&quot;</td><td>null</td><td>&quot;No record&quot;</td><td>&quot;Not applicable&quot;</td><td>null</td><td>&quot;Yes&quot;</td><td>&quot;No&quot;</td><td>&quot;Yes&quot;</td><td>null</td><td>&quot;Yes&quot;</td><td>&quot;Yes&quot;</td><td>4.0</td><td>&quot;Singular&quot;</td><td>null</td><td>&quot;normal&quot;</td><td>0.0</td><td>1.0</td><td>1.0</td><td>1.0</td><td>1.0</td><td>&quot;Multifactorial genetic inherit…</td><td>&quot;Diabetes&quot;</td><td>null</td></tr><tr><td>&quot;PID0x4ac8&quot;</td><td>12.0</td><td>&quot;Yes&quot;</td><td>&quot;No&quot;</td><td>&quot;Yes&quot;</td><td>&quot;No&quot;</td><td>4.70528</td><td>&quot;Jeffery&quot;</td><td>&quot;Hoelscher&quot;</td><td>&quot;Aayaan&quot;</td><td>21.0</td><td>null</td><td>null</td><td>&quot;55 FRUIT ST\n",
       "CENTRAL, MA 02114\n",
       "…</td><td>&quot;Deceased&quot;</td><td>&quot;Tachypnea&quot;</td><td>&quot;Normal&quot;</td><td>0.0</td><td>0.0</td><td>0.0</td><td>1.0</td><td>0.0</td><td>&quot;Yes&quot;</td><td>&quot;High&quot;</td><td>&quot;Male&quot;</td><td>&quot;Not available&quot;</td><td>&quot;No&quot;</td><td>&quot;Institute&quot;</td><td>&quot;No&quot;</td><td>&quot;Yes&quot;</td><td>&quot;-&quot;</td><td>&quot;Not applicable&quot;</td><td>null</td><td>&quot;Yes&quot;</td><td>1.0</td><td>&quot;Singular&quot;</td><td>7.919321</td><td>&quot;inconclusive&quot;</td><td>0.0</td><td>0.0</td><td>1.0</td><td>0.0</td><td>0.0</td><td>&quot;Mitochondrial genetic inherita…</td><td>&quot;Leigh syndrome&quot;</td><td>null</td></tr><tr><td>&quot;PID0x1bf7&quot;</td><td>11.0</td><td>&quot;Yes&quot;</td><td>&quot;No&quot;</td><td>null</td><td>&quot;Yes&quot;</td><td>4.720703</td><td>&quot;Johanna&quot;</td><td>&quot;Stutzman&quot;</td><td>&quot;Suave&quot;</td><td>32.0</td><td>null</td><td>&quot;Carney Hospital&quot;</td><td>&quot;300 LONGWOOD AV\n",
       "FENWAY/KENMORE…</td><td>&quot;Alive&quot;</td><td>&quot;Tachypnea&quot;</td><td>&quot;Tachycardia&quot;</td><td>0.0</td><td>0.0</td><td>0.0</td><td>1.0</td><td>0.0</td><td>null</td><td>&quot;Low&quot;</td><td>&quot;Male&quot;</td><td>&quot;Not available&quot;</td><td>&quot;Not applicable&quot;</td><td>&quot;Institute&quot;</td><td>&quot;No&quot;</td><td>&quot;Yes&quot;</td><td>&quot;-&quot;</td><td>&quot;Not applicable&quot;</td><td>&quot;Yes&quot;</td><td>&quot;No&quot;</td><td>4.0</td><td>&quot;Multiple&quot;</td><td>4.09821</td><td>null</td><td>0.0</td><td>0.0</td><td>0.0</td><td>0.0</td><td>null</td><td>&quot;Multifactorial genetic inherit…</td><td>&quot;Cancer&quot;</td><td>null</td></tr><tr><td>&hellip;</td><td>&hellip;</td><td>&hellip;</td><td>&hellip;</td><td>&hellip;</td><td>&hellip;</td><td>&hellip;</td><td>&hellip;</td><td>&hellip;</td><td>&hellip;</td><td>&hellip;</td><td>&hellip;</td><td>&hellip;</td><td>&hellip;</td><td>&hellip;</td><td>&hellip;</td><td>&hellip;</td><td>&hellip;</td><td>&hellip;</td><td>&hellip;</td><td>&hellip;</td><td>&hellip;</td><td>&hellip;</td><td>&hellip;</td><td>&hellip;</td><td>&hellip;</td><td>&hellip;</td><td>&hellip;</td><td>&hellip;</td><td>&hellip;</td><td>&hellip;</td><td>&hellip;</td><td>&hellip;</td><td>&hellip;</td><td>&hellip;</td><td>&hellip;</td><td>&hellip;</td><td>&hellip;</td><td>&hellip;</td><td>&hellip;</td><td>&hellip;</td><td>&hellip;</td><td>&hellip;</td><td>&hellip;</td><td>&hellip;</td><td>&hellip;</td></tr><tr><td>&quot;PID0x5598&quot;</td><td>4.0</td><td>&quot;Yes&quot;</td><td>&quot;Yes&quot;</td><td>&quot;Yes&quot;</td><td>&quot;No&quot;</td><td>5.258298</td><td>&quot;Lynn&quot;</td><td>null</td><td>&quot;Alhassane&quot;</td><td>35.0</td><td>64.0</td><td>&quot;Franciscan Children&#x27;s&nbsp;&nbsp;Hospita…</td><td>&quot;1153 CENTRE ST\n",
       "JAMAICA PLAIN, …</td><td>&quot;Deceased&quot;</td><td>&quot;Normal (30-60)&quot;</td><td>&quot;Tachycardia&quot;</td><td>null</td><td>0.0</td><td>null</td><td>1.0</td><td>0.0</td><td>&quot;Yes&quot;</td><td>&quot;High&quot;</td><td>&quot;Female&quot;</td><td>&quot;No&quot;</td><td>&quot;No&quot;</td><td>&quot;Institute&quot;</td><td>null</td><td>&quot;No&quot;</td><td>&quot;Not applicable&quot;</td><td>&quot;No&quot;</td><td>&quot;Yes&quot;</td><td>&quot;No&quot;</td><td>3.0</td><td>&quot;Multiple&quot;</td><td>6.584811</td><td>&quot;inconclusive&quot;</td><td>0.0</td><td>0.0</td><td>1.0</td><td>0.0</td><td>0.0</td><td>&quot;Mitochondrial genetic inherita…</td><td>&quot;Leigh syndrome&quot;</td><td>null</td></tr><tr><td>&quot;PID0x19cb&quot;</td><td>8.0</td><td>&quot;No&quot;</td><td>&quot;Yes&quot;</td><td>&quot;No&quot;</td><td>&quot;Yes&quot;</td><td>4.97422</td><td>&quot;Matthew&quot;</td><td>&quot;Farley&quot;</td><td>&quot;Dartanion&quot;</td><td>null</td><td>56.0</td><td>&quot;Faulkner Hospital&quot;</td><td>&quot;170 MORTON ST\n",
       "ROSLINDALE, MA 0…</td><td>&quot;Alive&quot;</td><td>&quot;Normal (30-60)&quot;</td><td>&quot;Normal&quot;</td><td>null</td><td>0.0</td><td>null</td><td>1.0</td><td>null</td><td>null</td><td>&quot;High&quot;</td><td>&quot;Ambiguous&quot;</td><td>&quot;No&quot;</td><td>&quot;Not applicable&quot;</td><td>&quot;Institute&quot;</td><td>&quot;Yes&quot;</td><td>&quot;Yes&quot;</td><td>&quot;No&quot;</td><td>&quot;-&quot;</td><td>&quot;Yes&quot;</td><td>&quot;No&quot;</td><td>2.0</td><td>&quot;Multiple&quot;</td><td>7.041556</td><td>&quot;inconclusive&quot;</td><td>1.0</td><td>1.0</td><td>1.0</td><td>1.0</td><td>0.0</td><td>&quot;Multifactorial genetic inherit…</td><td>&quot;Diabetes&quot;</td><td>null</td></tr><tr><td>&quot;PID0x3c4f&quot;</td><td>8.0</td><td>&quot;Yes&quot;</td><td>&quot;No&quot;</td><td>&quot;Yes&quot;</td><td>&quot;No&quot;</td><td>5.18647</td><td>&quot;John&quot;</td><td>null</td><td>&quot;Cavani&quot;</td><td>35.0</td><td>51.0</td><td>&quot;Not applicable&quot;</td><td>&quot;-&quot;</td><td>&quot;Deceased&quot;</td><td>&quot;Tachypnea&quot;</td><td>&quot;Normal&quot;</td><td>0.0</td><td>0.0</td><td>0.0</td><td>1.0</td><td>null</td><td>&quot;Yes&quot;</td><td>&quot;High&quot;</td><td>&quot;Male&quot;</td><td>&quot;No&quot;</td><td>&quot;None&quot;</td><td>&quot;Home&quot;</td><td>&quot;No&quot;</td><td>&quot;No&quot;</td><td>null</td><td>&quot;No&quot;</td><td>&quot;No&quot;</td><td>&quot;No&quot;</td><td>2.0</td><td>&quot;Singular&quot;</td><td>7.715464</td><td>&quot;normal&quot;</td><td>0.0</td><td>0.0</td><td>0.0</td><td>1.0</td><td>null</td><td>&quot;Mitochondrial genetic inherita…</td><td>&quot;Mitochondrial myopathy&quot;</td><td>null</td></tr><tr><td>&quot;PID0x13a&quot;</td><td>7.0</td><td>&quot;Yes&quot;</td><td>&quot;No&quot;</td><td>&quot;Yes&quot;</td><td>&quot;Yes&quot;</td><td>4.858543</td><td>&quot;Sharon&quot;</td><td>null</td><td>&quot;Bomer&quot;</td><td>19.0</td><td>null</td><td>&quot;Not applicable&quot;</td><td>&quot;-&quot;</td><td>&quot;Alive&quot;</td><td>&quot;Tachypnea&quot;</td><td>&quot;Tachycardia&quot;</td><td>0.0</td><td>0.0</td><td>0.0</td><td>1.0</td><td>0.0</td><td>&quot;Yes&quot;</td><td>&quot;High&quot;</td><td>&quot;Male&quot;</td><td>&quot;No record&quot;</td><td>&quot;Not applicable&quot;</td><td>&quot;Home&quot;</td><td>&quot;Yes&quot;</td><td>&quot;Yes&quot;</td><td>&quot;-&quot;</td><td>&quot;Yes&quot;</td><td>&quot;Yes&quot;</td><td>&quot;No&quot;</td><td>1.0</td><td>&quot;Multiple&quot;</td><td>8.43767</td><td>&quot;abnormal&quot;</td><td>1.0</td><td>1.0</td><td>1.0</td><td>0.0</td><td>0.0</td><td>null</td><td>&quot;Leigh syndrome&quot;</td><td>null</td></tr><tr><td>&quot;PID0x9332&quot;</td><td>11.0</td><td>&quot;Yes&quot;</td><td>&quot;No&quot;</td><td>&quot;No&quot;</td><td>&quot;No&quot;</td><td>4.738067</td><td>&quot;Andrew&quot;</td><td>&quot;Mose&quot;</td><td>&quot;Eban&quot;</td><td>32.0</td><td>62.0</td><td>&quot;Hebrew Rehabilitation Center&quot;</td><td>&quot;300 LONGWOOD AV\n",
       "FENWAY/KENMORE…</td><td>&quot;Deceased&quot;</td><td>&quot;Normal (30-60)&quot;</td><td>&quot;Normal&quot;</td><td>0.0</td><td>0.0</td><td>0.0</td><td>1.0</td><td>0.0</td><td>&quot;Yes&quot;</td><td>&quot;High&quot;</td><td>&quot;Female&quot;</td><td>&quot;Yes&quot;</td><td>&quot;None&quot;</td><td>&quot;Institute&quot;</td><td>&quot;Yes&quot;</td><td>&quot;Yes&quot;</td><td>&quot;Not applicable&quot;</td><td>&quot;No&quot;</td><td>&quot;Yes&quot;</td><td>&quot;Yes&quot;</td><td>4.0</td><td>&quot;Singular&quot;</td><td>11.188371</td><td>&quot;normal&quot;</td><td>1.0</td><td>0.0</td><td>1.0</td><td>1.0</td><td>1.0</td><td>&quot;Multifactorial genetic inherit…</td><td>&quot;Diabetes&quot;</td><td>null</td></tr></tbody></table></div>"
      ],
      "text/plain": [
       "shape: (22_083, 46)\n",
       "┌───────────┬───────────┬───────────┬───────────┬───┬───────────┬───────────┬───────────┬──────────┐\n",
       "│ Patient   ┆ Patient   ┆ Genes in  ┆ Inherited ┆ … ┆ Symptom 5 ┆ Genetic   ┆ Disorder  ┆ speciali │\n",
       "│ Id        ┆ Age       ┆ mother's  ┆ from      ┆   ┆ ---       ┆ Disorder  ┆ Subclass  ┆ zation_l │\n",
       "│ ---       ┆ ---       ┆ side      ┆ father    ┆   ┆ f64       ┆ ---       ┆ ---       ┆ evel     │\n",
       "│ str       ┆ f64       ┆ ---       ┆ ---       ┆   ┆           ┆ str       ┆ str       ┆ ---      │\n",
       "│           ┆           ┆ str       ┆ str       ┆   ┆           ┆           ┆           ┆ str      │\n",
       "╞═══════════╪═══════════╪═══════════╪═══════════╪═══╪═══════════╪═══════════╪═══════════╪══════════╡\n",
       "│ PID0x6418 ┆ 2.0       ┆ Yes       ┆ No        ┆ … ┆ 1.0       ┆ Mitochond ┆ Leber's   ┆ null     │\n",
       "│           ┆           ┆           ┆           ┆   ┆           ┆ rial      ┆ hereditar ┆          │\n",
       "│           ┆           ┆           ┆           ┆   ┆           ┆ genetic   ┆ y optic   ┆          │\n",
       "│           ┆           ┆           ┆           ┆   ┆           ┆ inherita… ┆ neuro…    ┆          │\n",
       "│ PID0x25d5 ┆ 4.0       ┆ Yes       ┆ Yes       ┆ … ┆ 0.0       ┆ null      ┆ Cystic    ┆ null     │\n",
       "│           ┆           ┆           ┆           ┆   ┆           ┆           ┆ fibrosis  ┆          │\n",
       "│ PID0x4a82 ┆ 6.0       ┆ Yes       ┆ No        ┆ … ┆ 1.0       ┆ Multifact ┆ Diabetes  ┆ null     │\n",
       "│           ┆           ┆           ┆           ┆   ┆           ┆ orial     ┆           ┆          │\n",
       "│           ┆           ┆           ┆           ┆   ┆           ┆ genetic   ┆           ┆          │\n",
       "│           ┆           ┆           ┆           ┆   ┆           ┆ inherit…  ┆           ┆          │\n",
       "│ PID0x4ac8 ┆ 12.0      ┆ Yes       ┆ No        ┆ … ┆ 0.0       ┆ Mitochond ┆ Leigh     ┆ null     │\n",
       "│           ┆           ┆           ┆           ┆   ┆           ┆ rial      ┆ syndrome  ┆          │\n",
       "│           ┆           ┆           ┆           ┆   ┆           ┆ genetic   ┆           ┆          │\n",
       "│           ┆           ┆           ┆           ┆   ┆           ┆ inherita… ┆           ┆          │\n",
       "│ PID0x1bf7 ┆ 11.0      ┆ Yes       ┆ No        ┆ … ┆ null      ┆ Multifact ┆ Cancer    ┆ null     │\n",
       "│           ┆           ┆           ┆           ┆   ┆           ┆ orial     ┆           ┆          │\n",
       "│           ┆           ┆           ┆           ┆   ┆           ┆ genetic   ┆           ┆          │\n",
       "│           ┆           ┆           ┆           ┆   ┆           ┆ inherit…  ┆           ┆          │\n",
       "│ …         ┆ …         ┆ …         ┆ …         ┆ … ┆ …         ┆ …         ┆ …         ┆ …        │\n",
       "│ PID0x5598 ┆ 4.0       ┆ Yes       ┆ Yes       ┆ … ┆ 0.0       ┆ Mitochond ┆ Leigh     ┆ null     │\n",
       "│           ┆           ┆           ┆           ┆   ┆           ┆ rial      ┆ syndrome  ┆          │\n",
       "│           ┆           ┆           ┆           ┆   ┆           ┆ genetic   ┆           ┆          │\n",
       "│           ┆           ┆           ┆           ┆   ┆           ┆ inherita… ┆           ┆          │\n",
       "│ PID0x19cb ┆ 8.0       ┆ No        ┆ Yes       ┆ … ┆ 0.0       ┆ Multifact ┆ Diabetes  ┆ null     │\n",
       "│           ┆           ┆           ┆           ┆   ┆           ┆ orial     ┆           ┆          │\n",
       "│           ┆           ┆           ┆           ┆   ┆           ┆ genetic   ┆           ┆          │\n",
       "│           ┆           ┆           ┆           ┆   ┆           ┆ inherit…  ┆           ┆          │\n",
       "│ PID0x3c4f ┆ 8.0       ┆ Yes       ┆ No        ┆ … ┆ null      ┆ Mitochond ┆ Mitochond ┆ null     │\n",
       "│           ┆           ┆           ┆           ┆   ┆           ┆ rial      ┆ rial      ┆          │\n",
       "│           ┆           ┆           ┆           ┆   ┆           ┆ genetic   ┆ myopathy  ┆          │\n",
       "│           ┆           ┆           ┆           ┆   ┆           ┆ inherita… ┆           ┆          │\n",
       "│ PID0x13a  ┆ 7.0       ┆ Yes       ┆ No        ┆ … ┆ 0.0       ┆ null      ┆ Leigh     ┆ null     │\n",
       "│           ┆           ┆           ┆           ┆   ┆           ┆           ┆ syndrome  ┆          │\n",
       "│ PID0x9332 ┆ 11.0      ┆ Yes       ┆ No        ┆ … ┆ 1.0       ┆ Multifact ┆ Diabetes  ┆ null     │\n",
       "│           ┆           ┆           ┆           ┆   ┆           ┆ orial     ┆           ┆          │\n",
       "│           ┆           ┆           ┆           ┆   ┆           ┆ genetic   ┆           ┆          │\n",
       "│           ┆           ┆           ┆           ┆   ┆           ┆ inherit…  ┆           ┆          │\n",
       "└───────────┴───────────┴───────────┴───────────┴───┴───────────┴───────────┴───────────┴──────────┘"
      ]
     },
     "execution_count": 27,
     "metadata": {},
     "output_type": "execute_result"
    }
   ],
   "source": [
    "df_join_inst = df_datos.join(df_inst, on = \"Institute Name\", how=\"left\")\n",
    "df_join_inst"
   ]
  },
  {
   "cell_type": "code",
   "execution_count": 29,
   "id": "559bd76b",
   "metadata": {},
   "outputs": [
    {
     "data": {
      "text/html": [
       "<div><style>\n",
       ".dataframe > thead > tr,\n",
       ".dataframe > tbody > tr {\n",
       "  text-align: right;\n",
       "  white-space: pre-wrap;\n",
       "}\n",
       "</style>\n",
       "<small>shape: (22_083, 47)</small><table border=\"1\" class=\"dataframe\"><thead><tr><th>Patient Id</th><th>Patient Age</th><th>Genes in mother&#x27;s side</th><th>Inherited from father</th><th>Maternal gene</th><th>Paternal gene</th><th>Blood cell count (mcL)</th><th>Patient First Name</th><th>Family Name</th><th>Father&#x27;s name</th><th>Mother&#x27;s age</th><th>Father&#x27;s age</th><th>Institute Name</th><th>Location of Institute</th><th>Status</th><th>Respiratory Rate (breaths/min)</th><th>Heart Rate (rates/min</th><th>Test 1</th><th>Test 2</th><th>Test 3</th><th>Test 4</th><th>Test 5</th><th>Parental consent</th><th>Follow-up</th><th>Gender</th><th>Birth asphyxia</th><th>Autopsy shows birth defect (if applicable)</th><th>Place of birth</th><th>Folic acid details (peri-conceptional)</th><th>H/O serious maternal illness</th><th>H/O radiation exposure (x-ray)</th><th>H/O substance abuse</th><th>Assisted conception IVF/ART</th><th>History of anomalies in previous pregnancies</th><th>No. of previous abortion</th><th>Birth defects</th><th>White Blood cell count (thousand per microliter)</th><th>Blood test result</th><th>Symptom 1</th><th>Symptom 2</th><th>Symptom 3</th><th>Symptom 4</th><th>Symptom 5</th><th>Genetic Disorder</th><th>Disorder Subclass</th><th>specialization_level</th><th>has_specialization</th></tr><tr><td>str</td><td>f64</td><td>str</td><td>str</td><td>str</td><td>str</td><td>f64</td><td>str</td><td>str</td><td>str</td><td>f64</td><td>f64</td><td>str</td><td>str</td><td>str</td><td>str</td><td>str</td><td>f64</td><td>f64</td><td>f64</td><td>f64</td><td>f64</td><td>str</td><td>str</td><td>str</td><td>str</td><td>str</td><td>str</td><td>str</td><td>str</td><td>str</td><td>str</td><td>str</td><td>str</td><td>f64</td><td>str</td><td>f64</td><td>str</td><td>f64</td><td>f64</td><td>f64</td><td>f64</td><td>f64</td><td>str</td><td>str</td><td>str</td><td>bool</td></tr></thead><tbody><tr><td>&quot;PID0x6418&quot;</td><td>2.0</td><td>&quot;Yes&quot;</td><td>&quot;No&quot;</td><td>&quot;Yes&quot;</td><td>&quot;No&quot;</td><td>4.760603</td><td>&quot;Richard&quot;</td><td>null</td><td>&quot;Larre&quot;</td><td>null</td><td>null</td><td>&quot;Boston Specialty &amp; Rehabilitat…</td><td>&quot;55 FRUIT ST\n",
       "CENTRAL, MA 02114\n",
       "…</td><td>&quot;Alive&quot;</td><td>&quot;Normal (30-60)&quot;</td><td>&quot;Normal&quot;</td><td>0.0</td><td>null</td><td>null</td><td>1.0</td><td>0.0</td><td>&quot;Yes&quot;</td><td>&quot;High&quot;</td><td>null</td><td>null</td><td>&quot;Not applicable&quot;</td><td>&quot;Institute&quot;</td><td>&quot;No&quot;</td><td>null</td><td>&quot;No&quot;</td><td>&quot;No&quot;</td><td>&quot;No&quot;</td><td>&quot;Yes&quot;</td><td>null</td><td>null</td><td>9.857562</td><td>null</td><td>1.0</td><td>1.0</td><td>1.0</td><td>1.0</td><td>1.0</td><td>&quot;Mitochondrial genetic inherita…</td><td>&quot;Leber&#x27;s hereditary optic neuro…</td><td>null</td><td>false</td></tr><tr><td>&quot;PID0x25d5&quot;</td><td>4.0</td><td>&quot;Yes&quot;</td><td>&quot;Yes&quot;</td><td>&quot;No&quot;</td><td>&quot;No&quot;</td><td>4.910669</td><td>&quot;Mike&quot;</td><td>null</td><td>&quot;Brycen&quot;</td><td>null</td><td>23.0</td><td>&quot;St. Margaret&#x27;s Hospital For Wo…</td><td>&quot;1515 COMMONWEALTH AV\n",
       "ALLSTON/B…</td><td>&quot;Deceased&quot;</td><td>&quot;Tachypnea&quot;</td><td>&quot;Normal&quot;</td><td>null</td><td>0.0</td><td>0.0</td><td>1.0</td><td>0.0</td><td>&quot;Yes&quot;</td><td>&quot;High&quot;</td><td>null</td><td>&quot;No&quot;</td><td>&quot;None&quot;</td><td>null</td><td>&quot;Yes&quot;</td><td>&quot;Yes&quot;</td><td>&quot;Not applicable&quot;</td><td>&quot;Not applicable&quot;</td><td>&quot;No&quot;</td><td>&quot;Yes&quot;</td><td>null</td><td>&quot;Multiple&quot;</td><td>5.52256</td><td>&quot;normal&quot;</td><td>1.0</td><td>null</td><td>1.0</td><td>1.0</td><td>0.0</td><td>null</td><td>&quot;Cystic fibrosis&quot;</td><td>null</td><td>false</td></tr><tr><td>&quot;PID0x4a82&quot;</td><td>6.0</td><td>&quot;Yes&quot;</td><td>&quot;No&quot;</td><td>&quot;No&quot;</td><td>&quot;No&quot;</td><td>4.893297</td><td>&quot;Kimberly&quot;</td><td>null</td><td>&quot;Nashon&quot;</td><td>41.0</td><td>22.0</td><td>null</td><td>&quot;-&quot;</td><td>&quot;Alive&quot;</td><td>&quot;Normal (30-60)&quot;</td><td>&quot;Tachycardia&quot;</td><td>0.0</td><td>0.0</td><td>0.0</td><td>1.0</td><td>0.0</td><td>&quot;Yes&quot;</td><td>&quot;Low&quot;</td><td>null</td><td>&quot;No record&quot;</td><td>&quot;Not applicable&quot;</td><td>null</td><td>&quot;Yes&quot;</td><td>&quot;No&quot;</td><td>&quot;Yes&quot;</td><td>null</td><td>&quot;Yes&quot;</td><td>&quot;Yes&quot;</td><td>4.0</td><td>&quot;Singular&quot;</td><td>null</td><td>&quot;normal&quot;</td><td>0.0</td><td>1.0</td><td>1.0</td><td>1.0</td><td>1.0</td><td>&quot;Multifactorial genetic inherit…</td><td>&quot;Diabetes&quot;</td><td>null</td><td>false</td></tr><tr><td>&quot;PID0x4ac8&quot;</td><td>12.0</td><td>&quot;Yes&quot;</td><td>&quot;No&quot;</td><td>&quot;Yes&quot;</td><td>&quot;No&quot;</td><td>4.70528</td><td>&quot;Jeffery&quot;</td><td>&quot;Hoelscher&quot;</td><td>&quot;Aayaan&quot;</td><td>21.0</td><td>null</td><td>null</td><td>&quot;55 FRUIT ST\n",
       "CENTRAL, MA 02114\n",
       "…</td><td>&quot;Deceased&quot;</td><td>&quot;Tachypnea&quot;</td><td>&quot;Normal&quot;</td><td>0.0</td><td>0.0</td><td>0.0</td><td>1.0</td><td>0.0</td><td>&quot;Yes&quot;</td><td>&quot;High&quot;</td><td>&quot;Male&quot;</td><td>&quot;Not available&quot;</td><td>&quot;No&quot;</td><td>&quot;Institute&quot;</td><td>&quot;No&quot;</td><td>&quot;Yes&quot;</td><td>&quot;-&quot;</td><td>&quot;Not applicable&quot;</td><td>null</td><td>&quot;Yes&quot;</td><td>1.0</td><td>&quot;Singular&quot;</td><td>7.919321</td><td>&quot;inconclusive&quot;</td><td>0.0</td><td>0.0</td><td>1.0</td><td>0.0</td><td>0.0</td><td>&quot;Mitochondrial genetic inherita…</td><td>&quot;Leigh syndrome&quot;</td><td>null</td><td>false</td></tr><tr><td>&quot;PID0x1bf7&quot;</td><td>11.0</td><td>&quot;Yes&quot;</td><td>&quot;No&quot;</td><td>null</td><td>&quot;Yes&quot;</td><td>4.720703</td><td>&quot;Johanna&quot;</td><td>&quot;Stutzman&quot;</td><td>&quot;Suave&quot;</td><td>32.0</td><td>null</td><td>&quot;Carney Hospital&quot;</td><td>&quot;300 LONGWOOD AV\n",
       "FENWAY/KENMORE…</td><td>&quot;Alive&quot;</td><td>&quot;Tachypnea&quot;</td><td>&quot;Tachycardia&quot;</td><td>0.0</td><td>0.0</td><td>0.0</td><td>1.0</td><td>0.0</td><td>null</td><td>&quot;Low&quot;</td><td>&quot;Male&quot;</td><td>&quot;Not available&quot;</td><td>&quot;Not applicable&quot;</td><td>&quot;Institute&quot;</td><td>&quot;No&quot;</td><td>&quot;Yes&quot;</td><td>&quot;-&quot;</td><td>&quot;Not applicable&quot;</td><td>&quot;Yes&quot;</td><td>&quot;No&quot;</td><td>4.0</td><td>&quot;Multiple&quot;</td><td>4.09821</td><td>null</td><td>0.0</td><td>0.0</td><td>0.0</td><td>0.0</td><td>null</td><td>&quot;Multifactorial genetic inherit…</td><td>&quot;Cancer&quot;</td><td>null</td><td>false</td></tr><tr><td>&hellip;</td><td>&hellip;</td><td>&hellip;</td><td>&hellip;</td><td>&hellip;</td><td>&hellip;</td><td>&hellip;</td><td>&hellip;</td><td>&hellip;</td><td>&hellip;</td><td>&hellip;</td><td>&hellip;</td><td>&hellip;</td><td>&hellip;</td><td>&hellip;</td><td>&hellip;</td><td>&hellip;</td><td>&hellip;</td><td>&hellip;</td><td>&hellip;</td><td>&hellip;</td><td>&hellip;</td><td>&hellip;</td><td>&hellip;</td><td>&hellip;</td><td>&hellip;</td><td>&hellip;</td><td>&hellip;</td><td>&hellip;</td><td>&hellip;</td><td>&hellip;</td><td>&hellip;</td><td>&hellip;</td><td>&hellip;</td><td>&hellip;</td><td>&hellip;</td><td>&hellip;</td><td>&hellip;</td><td>&hellip;</td><td>&hellip;</td><td>&hellip;</td><td>&hellip;</td><td>&hellip;</td><td>&hellip;</td><td>&hellip;</td><td>&hellip;</td><td>&hellip;</td></tr><tr><td>&quot;PID0x5598&quot;</td><td>4.0</td><td>&quot;Yes&quot;</td><td>&quot;Yes&quot;</td><td>&quot;Yes&quot;</td><td>&quot;No&quot;</td><td>5.258298</td><td>&quot;Lynn&quot;</td><td>null</td><td>&quot;Alhassane&quot;</td><td>35.0</td><td>64.0</td><td>&quot;Franciscan Children&#x27;s&nbsp;&nbsp;Hospita…</td><td>&quot;1153 CENTRE ST\n",
       "JAMAICA PLAIN, …</td><td>&quot;Deceased&quot;</td><td>&quot;Normal (30-60)&quot;</td><td>&quot;Tachycardia&quot;</td><td>null</td><td>0.0</td><td>null</td><td>1.0</td><td>0.0</td><td>&quot;Yes&quot;</td><td>&quot;High&quot;</td><td>&quot;Female&quot;</td><td>&quot;No&quot;</td><td>&quot;No&quot;</td><td>&quot;Institute&quot;</td><td>null</td><td>&quot;No&quot;</td><td>&quot;Not applicable&quot;</td><td>&quot;No&quot;</td><td>&quot;Yes&quot;</td><td>&quot;No&quot;</td><td>3.0</td><td>&quot;Multiple&quot;</td><td>6.584811</td><td>&quot;inconclusive&quot;</td><td>0.0</td><td>0.0</td><td>1.0</td><td>0.0</td><td>0.0</td><td>&quot;Mitochondrial genetic inherita…</td><td>&quot;Leigh syndrome&quot;</td><td>null</td><td>false</td></tr><tr><td>&quot;PID0x19cb&quot;</td><td>8.0</td><td>&quot;No&quot;</td><td>&quot;Yes&quot;</td><td>&quot;No&quot;</td><td>&quot;Yes&quot;</td><td>4.97422</td><td>&quot;Matthew&quot;</td><td>&quot;Farley&quot;</td><td>&quot;Dartanion&quot;</td><td>null</td><td>56.0</td><td>&quot;Faulkner Hospital&quot;</td><td>&quot;170 MORTON ST\n",
       "ROSLINDALE, MA 0…</td><td>&quot;Alive&quot;</td><td>&quot;Normal (30-60)&quot;</td><td>&quot;Normal&quot;</td><td>null</td><td>0.0</td><td>null</td><td>1.0</td><td>null</td><td>null</td><td>&quot;High&quot;</td><td>&quot;Ambiguous&quot;</td><td>&quot;No&quot;</td><td>&quot;Not applicable&quot;</td><td>&quot;Institute&quot;</td><td>&quot;Yes&quot;</td><td>&quot;Yes&quot;</td><td>&quot;No&quot;</td><td>&quot;-&quot;</td><td>&quot;Yes&quot;</td><td>&quot;No&quot;</td><td>2.0</td><td>&quot;Multiple&quot;</td><td>7.041556</td><td>&quot;inconclusive&quot;</td><td>1.0</td><td>1.0</td><td>1.0</td><td>1.0</td><td>0.0</td><td>&quot;Multifactorial genetic inherit…</td><td>&quot;Diabetes&quot;</td><td>null</td><td>false</td></tr><tr><td>&quot;PID0x3c4f&quot;</td><td>8.0</td><td>&quot;Yes&quot;</td><td>&quot;No&quot;</td><td>&quot;Yes&quot;</td><td>&quot;No&quot;</td><td>5.18647</td><td>&quot;John&quot;</td><td>null</td><td>&quot;Cavani&quot;</td><td>35.0</td><td>51.0</td><td>&quot;Not applicable&quot;</td><td>&quot;-&quot;</td><td>&quot;Deceased&quot;</td><td>&quot;Tachypnea&quot;</td><td>&quot;Normal&quot;</td><td>0.0</td><td>0.0</td><td>0.0</td><td>1.0</td><td>null</td><td>&quot;Yes&quot;</td><td>&quot;High&quot;</td><td>&quot;Male&quot;</td><td>&quot;No&quot;</td><td>&quot;None&quot;</td><td>&quot;Home&quot;</td><td>&quot;No&quot;</td><td>&quot;No&quot;</td><td>null</td><td>&quot;No&quot;</td><td>&quot;No&quot;</td><td>&quot;No&quot;</td><td>2.0</td><td>&quot;Singular&quot;</td><td>7.715464</td><td>&quot;normal&quot;</td><td>0.0</td><td>0.0</td><td>0.0</td><td>1.0</td><td>null</td><td>&quot;Mitochondrial genetic inherita…</td><td>&quot;Mitochondrial myopathy&quot;</td><td>null</td><td>false</td></tr><tr><td>&quot;PID0x13a&quot;</td><td>7.0</td><td>&quot;Yes&quot;</td><td>&quot;No&quot;</td><td>&quot;Yes&quot;</td><td>&quot;Yes&quot;</td><td>4.858543</td><td>&quot;Sharon&quot;</td><td>null</td><td>&quot;Bomer&quot;</td><td>19.0</td><td>null</td><td>&quot;Not applicable&quot;</td><td>&quot;-&quot;</td><td>&quot;Alive&quot;</td><td>&quot;Tachypnea&quot;</td><td>&quot;Tachycardia&quot;</td><td>0.0</td><td>0.0</td><td>0.0</td><td>1.0</td><td>0.0</td><td>&quot;Yes&quot;</td><td>&quot;High&quot;</td><td>&quot;Male&quot;</td><td>&quot;No record&quot;</td><td>&quot;Not applicable&quot;</td><td>&quot;Home&quot;</td><td>&quot;Yes&quot;</td><td>&quot;Yes&quot;</td><td>&quot;-&quot;</td><td>&quot;Yes&quot;</td><td>&quot;Yes&quot;</td><td>&quot;No&quot;</td><td>1.0</td><td>&quot;Multiple&quot;</td><td>8.43767</td><td>&quot;abnormal&quot;</td><td>1.0</td><td>1.0</td><td>1.0</td><td>0.0</td><td>0.0</td><td>null</td><td>&quot;Leigh syndrome&quot;</td><td>null</td><td>false</td></tr><tr><td>&quot;PID0x9332&quot;</td><td>11.0</td><td>&quot;Yes&quot;</td><td>&quot;No&quot;</td><td>&quot;No&quot;</td><td>&quot;No&quot;</td><td>4.738067</td><td>&quot;Andrew&quot;</td><td>&quot;Mose&quot;</td><td>&quot;Eban&quot;</td><td>32.0</td><td>62.0</td><td>&quot;Hebrew Rehabilitation Center&quot;</td><td>&quot;300 LONGWOOD AV\n",
       "FENWAY/KENMORE…</td><td>&quot;Deceased&quot;</td><td>&quot;Normal (30-60)&quot;</td><td>&quot;Normal&quot;</td><td>0.0</td><td>0.0</td><td>0.0</td><td>1.0</td><td>0.0</td><td>&quot;Yes&quot;</td><td>&quot;High&quot;</td><td>&quot;Female&quot;</td><td>&quot;Yes&quot;</td><td>&quot;None&quot;</td><td>&quot;Institute&quot;</td><td>&quot;Yes&quot;</td><td>&quot;Yes&quot;</td><td>&quot;Not applicable&quot;</td><td>&quot;No&quot;</td><td>&quot;Yes&quot;</td><td>&quot;Yes&quot;</td><td>4.0</td><td>&quot;Singular&quot;</td><td>11.188371</td><td>&quot;normal&quot;</td><td>1.0</td><td>0.0</td><td>1.0</td><td>1.0</td><td>1.0</td><td>&quot;Multifactorial genetic inherit…</td><td>&quot;Diabetes&quot;</td><td>null</td><td>false</td></tr></tbody></table></div>"
      ],
      "text/plain": [
       "shape: (22_083, 47)\n",
       "┌───────────┬───────────┬───────────┬───────────┬───┬───────────┬───────────┬───────────┬──────────┐\n",
       "│ Patient   ┆ Patient   ┆ Genes in  ┆ Inherited ┆ … ┆ Genetic   ┆ Disorder  ┆ specializ ┆ has_spec │\n",
       "│ Id        ┆ Age       ┆ mother's  ┆ from      ┆   ┆ Disorder  ┆ Subclass  ┆ ation_lev ┆ ializati │\n",
       "│ ---       ┆ ---       ┆ side      ┆ father    ┆   ┆ ---       ┆ ---       ┆ el        ┆ on       │\n",
       "│ str       ┆ f64       ┆ ---       ┆ ---       ┆   ┆ str       ┆ str       ┆ ---       ┆ ---      │\n",
       "│           ┆           ┆ str       ┆ str       ┆   ┆           ┆           ┆ str       ┆ bool     │\n",
       "╞═══════════╪═══════════╪═══════════╪═══════════╪═══╪═══════════╪═══════════╪═══════════╪══════════╡\n",
       "│ PID0x6418 ┆ 2.0       ┆ Yes       ┆ No        ┆ … ┆ Mitochond ┆ Leber's   ┆ null      ┆ false    │\n",
       "│           ┆           ┆           ┆           ┆   ┆ rial      ┆ hereditar ┆           ┆          │\n",
       "│           ┆           ┆           ┆           ┆   ┆ genetic   ┆ y optic   ┆           ┆          │\n",
       "│           ┆           ┆           ┆           ┆   ┆ inherita… ┆ neuro…    ┆           ┆          │\n",
       "│ PID0x25d5 ┆ 4.0       ┆ Yes       ┆ Yes       ┆ … ┆ null      ┆ Cystic    ┆ null      ┆ false    │\n",
       "│           ┆           ┆           ┆           ┆   ┆           ┆ fibrosis  ┆           ┆          │\n",
       "│ PID0x4a82 ┆ 6.0       ┆ Yes       ┆ No        ┆ … ┆ Multifact ┆ Diabetes  ┆ null      ┆ false    │\n",
       "│           ┆           ┆           ┆           ┆   ┆ orial     ┆           ┆           ┆          │\n",
       "│           ┆           ┆           ┆           ┆   ┆ genetic   ┆           ┆           ┆          │\n",
       "│           ┆           ┆           ┆           ┆   ┆ inherit…  ┆           ┆           ┆          │\n",
       "│ PID0x4ac8 ┆ 12.0      ┆ Yes       ┆ No        ┆ … ┆ Mitochond ┆ Leigh     ┆ null      ┆ false    │\n",
       "│           ┆           ┆           ┆           ┆   ┆ rial      ┆ syndrome  ┆           ┆          │\n",
       "│           ┆           ┆           ┆           ┆   ┆ genetic   ┆           ┆           ┆          │\n",
       "│           ┆           ┆           ┆           ┆   ┆ inherita… ┆           ┆           ┆          │\n",
       "│ PID0x1bf7 ┆ 11.0      ┆ Yes       ┆ No        ┆ … ┆ Multifact ┆ Cancer    ┆ null      ┆ false    │\n",
       "│           ┆           ┆           ┆           ┆   ┆ orial     ┆           ┆           ┆          │\n",
       "│           ┆           ┆           ┆           ┆   ┆ genetic   ┆           ┆           ┆          │\n",
       "│           ┆           ┆           ┆           ┆   ┆ inherit…  ┆           ┆           ┆          │\n",
       "│ …         ┆ …         ┆ …         ┆ …         ┆ … ┆ …         ┆ …         ┆ …         ┆ …        │\n",
       "│ PID0x5598 ┆ 4.0       ┆ Yes       ┆ Yes       ┆ … ┆ Mitochond ┆ Leigh     ┆ null      ┆ false    │\n",
       "│           ┆           ┆           ┆           ┆   ┆ rial      ┆ syndrome  ┆           ┆          │\n",
       "│           ┆           ┆           ┆           ┆   ┆ genetic   ┆           ┆           ┆          │\n",
       "│           ┆           ┆           ┆           ┆   ┆ inherita… ┆           ┆           ┆          │\n",
       "│ PID0x19cb ┆ 8.0       ┆ No        ┆ Yes       ┆ … ┆ Multifact ┆ Diabetes  ┆ null      ┆ false    │\n",
       "│           ┆           ┆           ┆           ┆   ┆ orial     ┆           ┆           ┆          │\n",
       "│           ┆           ┆           ┆           ┆   ┆ genetic   ┆           ┆           ┆          │\n",
       "│           ┆           ┆           ┆           ┆   ┆ inherit…  ┆           ┆           ┆          │\n",
       "│ PID0x3c4f ┆ 8.0       ┆ Yes       ┆ No        ┆ … ┆ Mitochond ┆ Mitochond ┆ null      ┆ false    │\n",
       "│           ┆           ┆           ┆           ┆   ┆ rial      ┆ rial      ┆           ┆          │\n",
       "│           ┆           ┆           ┆           ┆   ┆ genetic   ┆ myopathy  ┆           ┆          │\n",
       "│           ┆           ┆           ┆           ┆   ┆ inherita… ┆           ┆           ┆          │\n",
       "│ PID0x13a  ┆ 7.0       ┆ Yes       ┆ No        ┆ … ┆ null      ┆ Leigh     ┆ null      ┆ false    │\n",
       "│           ┆           ┆           ┆           ┆   ┆           ┆ syndrome  ┆           ┆          │\n",
       "│ PID0x9332 ┆ 11.0      ┆ Yes       ┆ No        ┆ … ┆ Multifact ┆ Diabetes  ┆ null      ┆ false    │\n",
       "│           ┆           ┆           ┆           ┆   ┆ orial     ┆           ┆           ┆          │\n",
       "│           ┆           ┆           ┆           ┆   ┆ genetic   ┆           ┆           ┆          │\n",
       "│           ┆           ┆           ┆           ┆   ┆ inherit…  ┆           ┆           ┆          │\n",
       "└───────────┴───────────┴───────────┴───────────┴───┴───────────┴───────────┴───────────┴──────────┘"
      ]
     },
     "execution_count": 29,
     "metadata": {},
     "output_type": "execute_result"
    }
   ],
   "source": [
    "df_join_inst = df_join_inst.with_columns(\n",
    "    pl.col(\"specialization_level\").is_not_null().alias(\"has_specialization\")\n",
    ")\n",
    "\n",
    "df_join_inst"
   ]
  },
  {
   "cell_type": "markdown",
   "id": "6f713b63",
   "metadata": {},
   "source": [
    "1. Crea una tabla de resumen en formato “ancho” que muestre la edad media de los pacientes por desorden genético y género, presentando los desordenes genéticos como filas y los géneros como columnas."
   ]
  },
  {
   "cell_type": "code",
   "execution_count": 32,
   "id": "0f400363",
   "metadata": {},
   "outputs": [
    {
     "data": {
      "text/html": [
       "<div><style>\n",
       ".dataframe > thead > tr,\n",
       ".dataframe > tbody > tr {\n",
       "  text-align: right;\n",
       "  white-space: pre-wrap;\n",
       "}\n",
       "</style>\n",
       "<small>shape: (4, 5)</small><table border=\"1\" class=\"dataframe\"><thead><tr><th>Genetic Disorder</th><th>null</th><th>Female</th><th>Ambiguous</th><th>Male</th></tr><tr><td>str</td><td>f64</td><td>f64</td><td>f64</td><td>f64</td></tr></thead><tbody><tr><td>&quot;Mitochondrial genetic inherita…</td><td>6.865672</td><td>6.928251</td><td>7.074872</td><td>6.946124</td></tr><tr><td>&quot;Single-gene inheritance diseas…</td><td>6.983103</td><td>7.038767</td><td>6.959889</td><td>6.988362</td></tr><tr><td>&quot;Multifactorial genetic inherit…</td><td>6.677419</td><td>6.832155</td><td>6.723101</td><td>7.222973</td></tr><tr><td>null</td><td>7.334459</td><td>6.8829</td><td>6.953819</td><td>6.90128</td></tr></tbody></table></div>"
      ],
      "text/plain": [
       "shape: (4, 5)\n",
       "┌─────────────────────────────────┬──────────┬──────────┬───────────┬──────────┐\n",
       "│ Genetic Disorder                ┆ null     ┆ Female   ┆ Ambiguous ┆ Male     │\n",
       "│ ---                             ┆ ---      ┆ ---      ┆ ---       ┆ ---      │\n",
       "│ str                             ┆ f64      ┆ f64      ┆ f64       ┆ f64      │\n",
       "╞═════════════════════════════════╪══════════╪══════════╪═══════════╪══════════╡\n",
       "│ Mitochondrial genetic inherita… ┆ 6.865672 ┆ 6.928251 ┆ 7.074872  ┆ 6.946124 │\n",
       "│ Single-gene inheritance diseas… ┆ 6.983103 ┆ 7.038767 ┆ 6.959889  ┆ 6.988362 │\n",
       "│ Multifactorial genetic inherit… ┆ 6.677419 ┆ 6.832155 ┆ 6.723101  ┆ 7.222973 │\n",
       "│ null                            ┆ 7.334459 ┆ 6.8829   ┆ 6.953819  ┆ 6.90128  │\n",
       "└─────────────────────────────────┴──────────┴──────────┴───────────┴──────────┘"
      ]
     },
     "execution_count": 32,
     "metadata": {},
     "output_type": "execute_result"
    }
   ],
   "source": [
    "tabla_resumen= (df_datos.group_by(\"Genetic Disorder\", \"Gender\").agg(\n",
    "                media= pl.col(\"Patient Age\").mean()\n",
    ").pivot(\n",
    "    index=\"Genetic Disorder\",\n",
    "    on= \"Gender\",\n",
    "    values=\"media\"\n",
    ")\n",
    "    \n",
    ")\n",
    "\n",
    "tabla_resumen"
   ]
  },
  {
   "cell_type": "code",
   "execution_count": null,
   "id": "fdfcc970",
   "metadata": {},
   "outputs": [],
   "source": [
    "#\"Crea una tabla de resumen en formato “largo” que muestre por cada paciente las edades del paciente, de la madre y del padre. \n",
    "#Las columnas deben ser: patient_id, type (con valores “patient”, “mother”, “father”) y age. Descarta los registros que no tengan edad informada."
   ]
  },
  {
   "cell_type": "code",
   "execution_count": null,
   "id": "b4b84ef9",
   "metadata": {},
   "outputs": [],
   "source": []
  },
  {
   "cell_type": "code",
   "execution_count": 33,
   "id": "c5c0fb71",
   "metadata": {},
   "outputs": [
    {
     "data": {
      "text/plain": [
       "['Patient Id',\n",
       " 'Patient Age',\n",
       " \"Genes in mother's side\",\n",
       " 'Inherited from father',\n",
       " 'Maternal gene',\n",
       " 'Paternal gene',\n",
       " 'Blood cell count (mcL)',\n",
       " 'Patient First Name',\n",
       " 'Family Name',\n",
       " \"Father's name\",\n",
       " \"Mother's age\",\n",
       " \"Father's age\",\n",
       " 'Institute Name',\n",
       " 'Location of Institute',\n",
       " 'Status',\n",
       " 'Respiratory Rate (breaths/min)',\n",
       " 'Heart Rate (rates/min',\n",
       " 'Test 1',\n",
       " 'Test 2',\n",
       " 'Test 3',\n",
       " 'Test 4',\n",
       " 'Test 5',\n",
       " 'Parental consent',\n",
       " 'Follow-up',\n",
       " 'Gender',\n",
       " 'Birth asphyxia',\n",
       " 'Autopsy shows birth defect (if applicable)',\n",
       " 'Place of birth',\n",
       " 'Folic acid details (peri-conceptional)',\n",
       " 'H/O serious maternal illness',\n",
       " 'H/O radiation exposure (x-ray)',\n",
       " 'H/O substance abuse',\n",
       " 'Assisted conception IVF/ART',\n",
       " 'History of anomalies in previous pregnancies',\n",
       " 'No. of previous abortion',\n",
       " 'Birth defects',\n",
       " 'White Blood cell count (thousand per microliter)',\n",
       " 'Blood test result',\n",
       " 'Symptom 1',\n",
       " 'Symptom 2',\n",
       " 'Symptom 3',\n",
       " 'Symptom 4',\n",
       " 'Symptom 5',\n",
       " 'Genetic Disorder',\n",
       " 'Disorder Subclass']"
      ]
     },
     "execution_count": 33,
     "metadata": {},
     "output_type": "execute_result"
    }
   ],
   "source": [
    "df_datos.columns"
   ]
  },
  {
   "cell_type": "code",
   "execution_count": 37,
   "id": "031db8c8",
   "metadata": {},
   "outputs": [
    {
     "data": {
      "text/html": [
       "<div><style>\n",
       ".dataframe > thead > tr,\n",
       ".dataframe > tbody > tr {\n",
       "  text-align: right;\n",
       "  white-space: pre-wrap;\n",
       "}\n",
       "</style>\n",
       "<small>shape: (22_083, 4)</small><table border=\"1\" class=\"dataframe\"><thead><tr><th>Patient Id</th><th>Patient Age</th><th>Mother&#x27;s age</th><th>Father&#x27;s age</th></tr><tr><td>str</td><td>f64</td><td>f64</td><td>f64</td></tr></thead><tbody><tr><td>&quot;PID0x6418&quot;</td><td>2.0</td><td>null</td><td>null</td></tr><tr><td>&quot;PID0x25d5&quot;</td><td>4.0</td><td>null</td><td>23.0</td></tr><tr><td>&quot;PID0x4a82&quot;</td><td>6.0</td><td>41.0</td><td>22.0</td></tr><tr><td>&quot;PID0x4ac8&quot;</td><td>12.0</td><td>21.0</td><td>null</td></tr><tr><td>&quot;PID0x1bf7&quot;</td><td>11.0</td><td>32.0</td><td>null</td></tr><tr><td>&hellip;</td><td>&hellip;</td><td>&hellip;</td><td>&hellip;</td></tr><tr><td>&quot;PID0x5598&quot;</td><td>4.0</td><td>35.0</td><td>64.0</td></tr><tr><td>&quot;PID0x19cb&quot;</td><td>8.0</td><td>null</td><td>56.0</td></tr><tr><td>&quot;PID0x3c4f&quot;</td><td>8.0</td><td>35.0</td><td>51.0</td></tr><tr><td>&quot;PID0x13a&quot;</td><td>7.0</td><td>19.0</td><td>null</td></tr><tr><td>&quot;PID0x9332&quot;</td><td>11.0</td><td>32.0</td><td>62.0</td></tr></tbody></table></div>"
      ],
      "text/plain": [
       "shape: (22_083, 4)\n",
       "┌────────────┬─────────────┬──────────────┬──────────────┐\n",
       "│ Patient Id ┆ Patient Age ┆ Mother's age ┆ Father's age │\n",
       "│ ---        ┆ ---         ┆ ---          ┆ ---          │\n",
       "│ str        ┆ f64         ┆ f64          ┆ f64          │\n",
       "╞════════════╪═════════════╪══════════════╪══════════════╡\n",
       "│ PID0x6418  ┆ 2.0         ┆ null         ┆ null         │\n",
       "│ PID0x25d5  ┆ 4.0         ┆ null         ┆ 23.0         │\n",
       "│ PID0x4a82  ┆ 6.0         ┆ 41.0         ┆ 22.0         │\n",
       "│ PID0x4ac8  ┆ 12.0        ┆ 21.0         ┆ null         │\n",
       "│ PID0x1bf7  ┆ 11.0        ┆ 32.0         ┆ null         │\n",
       "│ …          ┆ …           ┆ …            ┆ …            │\n",
       "│ PID0x5598  ┆ 4.0         ┆ 35.0         ┆ 64.0         │\n",
       "│ PID0x19cb  ┆ 8.0         ┆ null         ┆ 56.0         │\n",
       "│ PID0x3c4f  ┆ 8.0         ┆ 35.0         ┆ 51.0         │\n",
       "│ PID0x13a   ┆ 7.0         ┆ 19.0         ┆ null         │\n",
       "│ PID0x9332  ┆ 11.0        ┆ 32.0         ┆ 62.0         │\n",
       "└────────────┴─────────────┴──────────────┴──────────────┘"
      ]
     },
     "execution_count": 37,
     "metadata": {},
     "output_type": "execute_result"
    }
   ],
   "source": [
    "df_datos.select('Patient Id','Patient Age',\"Mother's age\",\"Father's age\")"
   ]
  },
  {
   "cell_type": "code",
   "execution_count": 40,
   "id": "b4dc3a0f",
   "metadata": {},
   "outputs": [
    {
     "data": {
      "text/html": [
       "<div><style>\n",
       ".dataframe > thead > tr,\n",
       ".dataframe > tbody > tr {\n",
       "  text-align: right;\n",
       "  white-space: pre-wrap;\n",
       "}\n",
       "</style>\n",
       "<small>shape: (52_800, 3)</small><table border=\"1\" class=\"dataframe\"><thead><tr><th>Patient Id</th><th>type</th><th>age</th></tr><tr><td>str</td><td>str</td><td>f64</td></tr></thead><tbody><tr><td>&quot;PID0x6418&quot;</td><td>&quot;patient&quot;</td><td>2.0</td></tr><tr><td>&quot;PID0x25d5&quot;</td><td>&quot;patient&quot;</td><td>4.0</td></tr><tr><td>&quot;PID0x4a82&quot;</td><td>&quot;patient&quot;</td><td>6.0</td></tr><tr><td>&quot;PID0x4ac8&quot;</td><td>&quot;patient&quot;</td><td>12.0</td></tr><tr><td>&quot;PID0x1bf7&quot;</td><td>&quot;patient&quot;</td><td>11.0</td></tr><tr><td>&hellip;</td><td>&hellip;</td><td>&hellip;</td></tr><tr><td>&quot;PID0x26b4&quot;</td><td>&quot;father&quot;</td><td>50.0</td></tr><tr><td>&quot;PID0x5598&quot;</td><td>&quot;father&quot;</td><td>64.0</td></tr><tr><td>&quot;PID0x19cb&quot;</td><td>&quot;father&quot;</td><td>56.0</td></tr><tr><td>&quot;PID0x3c4f&quot;</td><td>&quot;father&quot;</td><td>51.0</td></tr><tr><td>&quot;PID0x9332&quot;</td><td>&quot;father&quot;</td><td>62.0</td></tr></tbody></table></div>"
      ],
      "text/plain": [
       "shape: (52_800, 3)\n",
       "┌────────────┬─────────┬──────┐\n",
       "│ Patient Id ┆ type    ┆ age  │\n",
       "│ ---        ┆ ---     ┆ ---  │\n",
       "│ str        ┆ str     ┆ f64  │\n",
       "╞════════════╪═════════╪══════╡\n",
       "│ PID0x6418  ┆ patient ┆ 2.0  │\n",
       "│ PID0x25d5  ┆ patient ┆ 4.0  │\n",
       "│ PID0x4a82  ┆ patient ┆ 6.0  │\n",
       "│ PID0x4ac8  ┆ patient ┆ 12.0 │\n",
       "│ PID0x1bf7  ┆ patient ┆ 11.0 │\n",
       "│ …          ┆ …       ┆ …    │\n",
       "│ PID0x26b4  ┆ father  ┆ 50.0 │\n",
       "│ PID0x5598  ┆ father  ┆ 64.0 │\n",
       "│ PID0x19cb  ┆ father  ┆ 56.0 │\n",
       "│ PID0x3c4f  ┆ father  ┆ 51.0 │\n",
       "│ PID0x9332  ┆ father  ┆ 62.0 │\n",
       "└────────────┴─────────┴──────┘"
      ]
     },
     "execution_count": 40,
     "metadata": {},
     "output_type": "execute_result"
    }
   ],
   "source": [
    "df_datos.select('Patient Id',patient='Patient Age',mother=\"Mother's age\",father=\"Father's age\").unpivot(index=\"Patient Id\",variable_name=\"type\",value_name=\"age\").drop_nulls(\"age\")\n"
   ]
  },
  {
   "cell_type": "code",
   "execution_count": null,
   "id": "17055520",
   "metadata": {},
   "outputs": [],
   "source": []
  }
 ],
 "metadata": {
  "kernelspec": {
   "display_name": "data-visualization-notebooks",
   "language": "python",
   "name": "python3"
  },
  "language_info": {
   "codemirror_mode": {
    "name": "ipython",
    "version": 3
   },
   "file_extension": ".py",
   "mimetype": "text/x-python",
   "name": "python",
   "nbconvert_exporter": "python",
   "pygments_lexer": "ipython3",
   "version": "3.12.6"
  }
 },
 "nbformat": 4,
 "nbformat_minor": 5
}
