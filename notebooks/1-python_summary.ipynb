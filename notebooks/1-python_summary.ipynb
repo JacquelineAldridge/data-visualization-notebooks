{
 "cells": [
  {
   "cell_type": "markdown",
   "id": "ee3d55cb",
   "metadata": {},
   "source": [
    "## String"
   ]
  },
  {
   "cell_type": "code",
   "execution_count": 5,
   "id": "aebeeaf3",
   "metadata": {},
   "outputs": [],
   "source": [
    "texto = \"Este es el curso de Visualización de datos en Python\"\n",
    "texto = 'Este es el curso de Visualización de datos en R'"
   ]
  },
  {
   "cell_type": "code",
   "execution_count": 6,
   "id": "069afb43",
   "metadata": {},
   "outputs": [
    {
     "data": {
      "text/plain": [
       "'Este es el curso de Visualización de datos en R'"
      ]
     },
     "execution_count": 6,
     "metadata": {},
     "output_type": "execute_result"
    }
   ],
   "source": [
    "texto"
   ]
  },
  {
   "cell_type": "code",
   "execution_count": 8,
   "id": "db51369f",
   "metadata": {},
   "outputs": [
    {
     "data": {
      "text/plain": [
       "'R'"
      ]
     },
     "execution_count": 8,
     "metadata": {},
     "output_type": "execute_result"
    }
   ],
   "source": [
    "texto[-1]"
   ]
  },
  {
   "cell_type": "code",
   "execution_count": 10,
   "id": "a5a87fd3",
   "metadata": {},
   "outputs": [
    {
     "data": {
      "text/plain": [
       "'s e'"
      ]
     },
     "execution_count": 10,
     "metadata": {},
     "output_type": "execute_result"
    }
   ],
   "source": [
    "texto[6:9]"
   ]
  },
  {
   "cell_type": "code",
   "execution_count": 13,
   "id": "62a5f6bb",
   "metadata": {},
   "outputs": [
    {
     "data": {
      "text/plain": [
       "'este es el curso de visualización de datos en r'"
      ]
     },
     "execution_count": 13,
     "metadata": {},
     "output_type": "execute_result"
    }
   ],
   "source": [
    "texto.upper()\n",
    "texto.lower()"
   ]
  },
  {
   "cell_type": "code",
   "execution_count": 15,
   "id": "8a57f083",
   "metadata": {},
   "outputs": [],
   "source": [
    "texto = texto.upper()"
   ]
  },
  {
   "cell_type": "code",
   "execution_count": 16,
   "id": "0a7d5049",
   "metadata": {},
   "outputs": [
    {
     "data": {
      "text/plain": [
       "'ESTE ES EL CURSO DE VISUALIZACIÓN DE DATOS EN R'"
      ]
     },
     "execution_count": 16,
     "metadata": {},
     "output_type": "execute_result"
    }
   ],
   "source": [
    "texto"
   ]
  },
  {
   "cell_type": "code",
   "execution_count": 17,
   "id": "c3cf3660",
   "metadata": {},
   "outputs": [
    {
     "data": {
      "text/plain": [
       "'ESTE ES EL CURSO DE VISUALIZACIÓN DE DATOS EN PYTHON'"
      ]
     },
     "execution_count": 17,
     "metadata": {},
     "output_type": "execute_result"
    }
   ],
   "source": [
    "texto.replace(\"DATOS EN R\",\"DATOS EN PYTHON\")"
   ]
  },
  {
   "cell_type": "code",
   "execution_count": 18,
   "id": "f7d235d1",
   "metadata": {},
   "outputs": [
    {
     "data": {
      "text/plain": [
       "'ESTE ES EL CURSO DE VISUALIZACIÓN DE DATOS EN R'"
      ]
     },
     "execution_count": 18,
     "metadata": {},
     "output_type": "execute_result"
    }
   ],
   "source": [
    "texto.replace(\"Datos en R\",\"Datos en Python\")"
   ]
  },
  {
   "cell_type": "code",
   "execution_count": 19,
   "id": "e5890ff8",
   "metadata": {},
   "outputs": [
    {
     "data": {
      "text/plain": [
       "['ESTE', 'ES', 'EL', 'CURSO', 'DE', 'VISUALIZACIÓN', 'DE', 'DATOS', 'EN', 'R']"
      ]
     },
     "execution_count": 19,
     "metadata": {},
     "output_type": "execute_result"
    }
   ],
   "source": [
    "texto.split(\" \")"
   ]
  },
  {
   "cell_type": "code",
   "execution_count": 20,
   "id": "fd073e00",
   "metadata": {},
   "outputs": [
    {
     "data": {
      "text/plain": [
       "'ESTE ES EL CURSO DE VISUALIZACIÓN DE DATOS EN R'"
      ]
     },
     "execution_count": 20,
     "metadata": {},
     "output_type": "execute_result"
    }
   ],
   "source": [
    "texto"
   ]
  },
  {
   "cell_type": "code",
   "execution_count": 23,
   "id": "3f3b4876",
   "metadata": {},
   "outputs": [
    {
     "data": {
      "text/plain": [
       "'Este es el curso de Secuenciación por Nanopore'"
      ]
     },
     "execution_count": 23,
     "metadata": {},
     "output_type": "execute_result"
    }
   ],
   "source": [
    "curso = \"Secuenciación por Nanopore\" #\"Visualización de datos en Python\"\n",
    "f\"Este es el curso de {curso}\""
   ]
  },
  {
   "cell_type": "code",
   "execution_count": 28,
   "id": "7e5b8eff",
   "metadata": {},
   "outputs": [],
   "source": [
    "programa = \"Magister en bioinformática\"\n",
    "año = 2025"
   ]
  },
  {
   "cell_type": "code",
   "execution_count": 29,
   "id": "f4f47a20",
   "metadata": {},
   "outputs": [
    {
     "data": {
      "text/plain": [
       "'Bienvenido al curso de Secuenciación por Nanopore del programa de Magister en bioinformática - 2025'"
      ]
     },
     "execution_count": 29,
     "metadata": {},
     "output_type": "execute_result"
    }
   ],
   "source": [
    "f\"Bienvenido al curso de {curso} del programa de {programa} - {año}\""
   ]
  },
  {
   "cell_type": "markdown",
   "id": "a6e4bd16",
   "metadata": {},
   "source": [
    "## Listas"
   ]
  },
  {
   "cell_type": "code",
   "execution_count": 43,
   "id": "e9a5b521",
   "metadata": {},
   "outputs": [],
   "source": [
    "estudiantes = [\"Elsa\",\"Bárbara\",\"Jorge\"]"
   ]
  },
  {
   "cell_type": "code",
   "execution_count": 31,
   "id": "8077c4d5",
   "metadata": {},
   "outputs": [
    {
     "data": {
      "text/plain": [
       "['Elsa', 'Bárbara', 'Jorge']"
      ]
     },
     "execution_count": 31,
     "metadata": {},
     "output_type": "execute_result"
    }
   ],
   "source": [
    "estudiantes"
   ]
  },
  {
   "cell_type": "code",
   "execution_count": 32,
   "id": "439dc63b",
   "metadata": {},
   "outputs": [
    {
     "data": {
      "text/plain": [
       "'Elsa'"
      ]
     },
     "execution_count": 32,
     "metadata": {},
     "output_type": "execute_result"
    }
   ],
   "source": [
    "estudiantes[0]"
   ]
  },
  {
   "cell_type": "code",
   "execution_count": 33,
   "id": "34676d1e",
   "metadata": {},
   "outputs": [
    {
     "data": {
      "text/plain": [
       "'Jorge'"
      ]
     },
     "execution_count": 33,
     "metadata": {},
     "output_type": "execute_result"
    }
   ],
   "source": [
    "estudiantes[2]"
   ]
  },
  {
   "cell_type": "code",
   "execution_count": 37,
   "id": "d1103c9e",
   "metadata": {},
   "outputs": [
    {
     "data": {
      "text/plain": [
       "['Elsa', 'Bárbara']"
      ]
     },
     "execution_count": 37,
     "metadata": {},
     "output_type": "execute_result"
    }
   ],
   "source": [
    "estudiantes[0:2]"
   ]
  },
  {
   "cell_type": "code",
   "execution_count": 36,
   "id": "5d716755",
   "metadata": {},
   "outputs": [
    {
     "data": {
      "text/plain": [
       "['Bárbara', 'Jorge']"
      ]
     },
     "execution_count": 36,
     "metadata": {},
     "output_type": "execute_result"
    }
   ],
   "source": [
    "estudiantes[1:]"
   ]
  },
  {
   "cell_type": "code",
   "execution_count": 44,
   "id": "c0aac060",
   "metadata": {},
   "outputs": [],
   "source": [
    "estudiantes.append(\"Rafael\")"
   ]
  },
  {
   "cell_type": "code",
   "execution_count": 49,
   "id": "e6076d3e",
   "metadata": {},
   "outputs": [],
   "source": [
    "estudiantes.append(\"Rafael\")"
   ]
  },
  {
   "cell_type": "code",
   "execution_count": 41,
   "id": "e3fefbd3",
   "metadata": {},
   "outputs": [],
   "source": [
    "estudiantes"
   ]
  },
  {
   "cell_type": "code",
   "execution_count": 46,
   "id": "a2826482",
   "metadata": {},
   "outputs": [
    {
     "data": {
      "text/plain": [
       "['Elsa', 'Bárbara', 'Jorge', 'Rafael', 'Rafael']"
      ]
     },
     "execution_count": 46,
     "metadata": {},
     "output_type": "execute_result"
    }
   ],
   "source": [
    "(estudiantes)"
   ]
  },
  {
   "cell_type": "code",
   "execution_count": 47,
   "id": "ce59f70d",
   "metadata": {},
   "outputs": [],
   "source": [
    "estudiantes[4] = \"Nicole\""
   ]
  },
  {
   "cell_type": "code",
   "execution_count": 50,
   "id": "8bc395f5",
   "metadata": {},
   "outputs": [
    {
     "data": {
      "text/plain": [
       "['Elsa', 'Bárbara', 'Jorge', 'Rafael', 'Nicole', 'Rafael']"
      ]
     },
     "execution_count": 50,
     "metadata": {},
     "output_type": "execute_result"
    }
   ],
   "source": [
    "estudiantes"
   ]
  },
  {
   "cell_type": "code",
   "execution_count": 51,
   "id": "407b7e7d",
   "metadata": {},
   "outputs": [],
   "source": [
    "estudiantes.remove(\"Rafael\")"
   ]
  },
  {
   "cell_type": "code",
   "execution_count": 52,
   "id": "092c3a29",
   "metadata": {},
   "outputs": [
    {
     "data": {
      "text/plain": [
       "['Elsa', 'Bárbara', 'Jorge', 'Nicole', 'Rafael']"
      ]
     },
     "execution_count": 52,
     "metadata": {},
     "output_type": "execute_result"
    }
   ],
   "source": [
    "estudiantes"
   ]
  },
  {
   "cell_type": "code",
   "execution_count": 54,
   "id": "b2a82ad0",
   "metadata": {},
   "outputs": [
    {
     "data": {
      "text/plain": [
       "False"
      ]
     },
     "execution_count": 54,
     "metadata": {},
     "output_type": "execute_result"
    }
   ],
   "source": [
    "\"Jorge González\" in  estudiantes"
   ]
  },
  {
   "cell_type": "code",
   "execution_count": 56,
   "id": "628b108c",
   "metadata": {},
   "outputs": [
    {
     "data": {
      "text/plain": [
       "['Elsa', 'Bárbara', 'Jorge', 'Nicole', 'Rafael']"
      ]
     },
     "execution_count": 56,
     "metadata": {},
     "output_type": "execute_result"
    }
   ],
   "source": [
    "estudiantes"
   ]
  },
  {
   "cell_type": "code",
   "execution_count": 57,
   "id": "6b9b336c",
   "metadata": {},
   "outputs": [
    {
     "data": {
      "text/plain": [
       "1"
      ]
     },
     "execution_count": 57,
     "metadata": {},
     "output_type": "execute_result"
    }
   ],
   "source": [
    "estudiantes.count(\"Bárbara\")"
   ]
  },
  {
   "cell_type": "code",
   "execution_count": 58,
   "id": "3f1a78ac",
   "metadata": {},
   "outputs": [],
   "source": [
    "estudiantes.append(\"Bárbara\")"
   ]
  },
  {
   "cell_type": "code",
   "execution_count": 61,
   "id": "63b67e37",
   "metadata": {},
   "outputs": [
    {
     "data": {
      "text/plain": [
       "2"
      ]
     },
     "execution_count": 61,
     "metadata": {},
     "output_type": "execute_result"
    }
   ],
   "source": [
    "estudiantes.count(\"Bárbara\")"
   ]
  },
  {
   "cell_type": "code",
   "execution_count": 63,
   "id": "7bc885b9",
   "metadata": {},
   "outputs": [
    {
     "data": {
      "text/plain": [
       "['Bárbara', 'Bárbara', 'Elsa', 'Jorge', 'Nicole', 'Rafael']"
      ]
     },
     "execution_count": 63,
     "metadata": {},
     "output_type": "execute_result"
    }
   ],
   "source": [
    "sorted(estudiantes)"
   ]
  },
  {
   "cell_type": "code",
   "execution_count": 73,
   "id": "736c5a6e",
   "metadata": {},
   "outputs": [],
   "source": [
    "notas = [\"6\",\"6.7\",\"5\",\"1,3\",\"7.3\"]"
   ]
  },
  {
   "cell_type": "code",
   "execution_count": 66,
   "id": "30788589",
   "metadata": {},
   "outputs": [
    {
     "data": {
      "text/plain": [
       "[1, 3, 5, 6, 6.7, 7.3]"
      ]
     },
     "execution_count": 66,
     "metadata": {},
     "output_type": "execute_result"
    }
   ],
   "source": [
    "sorted(notas)"
   ]
  },
  {
   "cell_type": "code",
   "execution_count": 67,
   "id": "20aa1da5",
   "metadata": {},
   "outputs": [
    {
     "data": {
      "text/plain": [
       "['Elsa', 'Bárbara', 'Jorge', 'Nicole', 'Rafael', 'Bárbara']"
      ]
     },
     "execution_count": 67,
     "metadata": {},
     "output_type": "execute_result"
    }
   ],
   "source": [
    "estudiantes"
   ]
  },
  {
   "cell_type": "code",
   "execution_count": 68,
   "id": "5a355941",
   "metadata": {},
   "outputs": [
    {
     "data": {
      "text/plain": [
       "[6, 6.7, 5, 1, 3, 7.3]"
      ]
     },
     "execution_count": 68,
     "metadata": {},
     "output_type": "execute_result"
    }
   ],
   "source": [
    "notas"
   ]
  },
  {
   "cell_type": "code",
   "execution_count": 74,
   "id": "4b609015",
   "metadata": {},
   "outputs": [],
   "source": [
    "lista_mixta = estudiantes + notas"
   ]
  },
  {
   "cell_type": "code",
   "execution_count": 75,
   "id": "41ecfe99",
   "metadata": {},
   "outputs": [
    {
     "data": {
      "text/plain": [
       "['1,3',\n",
       " '5',\n",
       " '6',\n",
       " '6.7',\n",
       " '7.3',\n",
       " 'Bárbara',\n",
       " 'Bárbara',\n",
       " 'Elsa',\n",
       " 'Jorge',\n",
       " 'Nicole',\n",
       " 'Rafael']"
      ]
     },
     "execution_count": 75,
     "metadata": {},
     "output_type": "execute_result"
    }
   ],
   "source": [
    "sorted(lista_mixta)"
   ]
  },
  {
   "cell_type": "code",
   "execution_count": 76,
   "id": "92640869",
   "metadata": {},
   "outputs": [],
   "source": [
    "lista_mixta.append(\"bárbara\")"
   ]
  },
  {
   "cell_type": "code",
   "execution_count": 79,
   "id": "2681ea9e",
   "metadata": {},
   "outputs": [],
   "source": [
    "lista_mixta.append(\"##\")"
   ]
  },
  {
   "cell_type": "code",
   "execution_count": 80,
   "id": "121c5773",
   "metadata": {},
   "outputs": [
    {
     "data": {
      "text/plain": [
       "['##',\n",
       " '1,3',\n",
       " '10',\n",
       " '5',\n",
       " '6',\n",
       " '6.7',\n",
       " '7.3',\n",
       " 'Bárbara',\n",
       " 'Bárbara',\n",
       " 'Elsa',\n",
       " 'Jorge',\n",
       " 'Nicole',\n",
       " 'Rafael',\n",
       " 'bárbara']"
      ]
     },
     "execution_count": 80,
     "metadata": {},
     "output_type": "execute_result"
    }
   ],
   "source": [
    "sorted(lista_mixta)"
   ]
  },
  {
   "cell_type": "code",
   "execution_count": 81,
   "id": "fad18de1",
   "metadata": {},
   "outputs": [
    {
     "data": {
      "text/plain": [
       "14"
      ]
     },
     "execution_count": 81,
     "metadata": {},
     "output_type": "execute_result"
    }
   ],
   "source": [
    "len(lista_mixta)"
   ]
  },
  {
   "cell_type": "markdown",
   "id": "bd430486",
   "metadata": {},
   "source": [
    "## Diccionarios"
   ]
  },
  {
   "cell_type": "code",
   "execution_count": 83,
   "id": "fb3b1507",
   "metadata": {},
   "outputs": [],
   "source": [
    "data_viz_curse = {\"nombre\":\"Visualización de datos\",\n",
    "                  \"cantidad_de_estudiantes\":5,\n",
    "                  \"programa\":\"Magister en bioinformática\",\n",
    "                  \"sala\": \"Magister/ Dpto. Computación\"\n",
    "                  }"
   ]
  },
  {
   "cell_type": "code",
   "execution_count": 84,
   "id": "a29f8830",
   "metadata": {},
   "outputs": [
    {
     "data": {
      "text/plain": [
       "{'nombre': 'Visualización de datos',\n",
       " 'cantidad_de_estudiantes': 5,\n",
       " 'programa': 'Magister en bioinformática',\n",
       " 'sala': 'Magister/ Dpto. Computación'}"
      ]
     },
     "execution_count": 84,
     "metadata": {},
     "output_type": "execute_result"
    }
   ],
   "source": [
    "data_viz_curse"
   ]
  },
  {
   "cell_type": "code",
   "execution_count": 85,
   "id": "52980dc4",
   "metadata": {},
   "outputs": [
    {
     "data": {
      "text/plain": [
       "'Visualización de datos'"
      ]
     },
     "execution_count": 85,
     "metadata": {},
     "output_type": "execute_result"
    }
   ],
   "source": [
    "data_viz_curse[\"nombre\"]"
   ]
  },
  {
   "cell_type": "code",
   "execution_count": 86,
   "id": "df8bc606",
   "metadata": {},
   "outputs": [
    {
     "ename": "KeyError",
     "evalue": "'nota'",
     "output_type": "error",
     "traceback": [
      "\u001b[31m---------------------------------------------------------------------------\u001b[39m",
      "\u001b[31mKeyError\u001b[39m                                  Traceback (most recent call last)",
      "\u001b[36mCell\u001b[39m\u001b[36m \u001b[39m\u001b[32mIn[86]\u001b[39m\u001b[32m, line 1\u001b[39m\n\u001b[32m----> \u001b[39m\u001b[32m1\u001b[39m \u001b[43mdata_viz_curse\u001b[49m\u001b[43m[\u001b[49m\u001b[33;43m\"\u001b[39;49m\u001b[33;43mnota\u001b[39;49m\u001b[33;43m\"\u001b[39;49m\u001b[43m]\u001b[49m\n",
      "\u001b[31mKeyError\u001b[39m: 'nota'"
     ]
    }
   ],
   "source": [
    "data_viz_curse[\"nota\"]"
   ]
  },
  {
   "cell_type": "code",
   "execution_count": 90,
   "id": "89e9902f",
   "metadata": {},
   "outputs": [
    {
     "data": {
      "text/plain": [
       "'No existe la nota'"
      ]
     },
     "execution_count": 90,
     "metadata": {},
     "output_type": "execute_result"
    }
   ],
   "source": [
    "data_viz_curse.get(\"nota\",\"No existe la nota\")"
   ]
  },
  {
   "cell_type": "code",
   "execution_count": 91,
   "id": "30274ed0",
   "metadata": {},
   "outputs": [],
   "source": [
    "data_viz_curse[\"nota\"] = [6,7,4.6,3]"
   ]
  },
  {
   "cell_type": "code",
   "execution_count": 92,
   "id": "7a9f7ca3",
   "metadata": {},
   "outputs": [
    {
     "data": {
      "text/plain": [
       "[6, 7, 4.6, 3]"
      ]
     },
     "execution_count": 92,
     "metadata": {},
     "output_type": "execute_result"
    }
   ],
   "source": [
    "data_viz_curse.get(\"nota\",\"No existe la nota\")"
   ]
  },
  {
   "cell_type": "code",
   "execution_count": 94,
   "id": "1da3d376",
   "metadata": {},
   "outputs": [
    {
     "data": {
      "text/plain": [
       "dict_keys(['nombre', 'cantidad_de_estudiantes', 'programa', 'sala', 'nota'])"
      ]
     },
     "execution_count": 94,
     "metadata": {},
     "output_type": "execute_result"
    }
   ],
   "source": [
    "data_viz_curse.keys()"
   ]
  },
  {
   "cell_type": "code",
   "execution_count": 95,
   "id": "1554f59c",
   "metadata": {},
   "outputs": [
    {
     "data": {
      "text/plain": [
       "dict_values(['Visualización de datos', 5, 'Magister en bioinformática', 'Magister/ Dpto. Computación', [6, 7, 4.6, 3]])"
      ]
     },
     "execution_count": 95,
     "metadata": {},
     "output_type": "execute_result"
    }
   ],
   "source": [
    "data_viz_curse.values()"
   ]
  },
  {
   "cell_type": "code",
   "execution_count": 96,
   "id": "b7058277",
   "metadata": {},
   "outputs": [
    {
     "data": {
      "text/plain": [
       "True"
      ]
     },
     "execution_count": 96,
     "metadata": {},
     "output_type": "execute_result"
    }
   ],
   "source": [
    "\"Visualización de datos\" in data_viz_curse.values()"
   ]
  },
  {
   "cell_type": "code",
   "execution_count": 97,
   "id": "791f89cd",
   "metadata": {},
   "outputs": [
    {
     "data": {
      "text/plain": [
       "dict_items([('nombre', 'Visualización de datos'), ('cantidad_de_estudiantes', 5), ('programa', 'Magister en bioinformática'), ('sala', 'Magister/ Dpto. Computación'), ('nota', [6, 7, 4.6, 3])])"
      ]
     },
     "execution_count": 97,
     "metadata": {},
     "output_type": "execute_result"
    }
   ],
   "source": [
    "data_viz_curse.items()"
   ]
  },
  {
   "cell_type": "code",
   "execution_count": 99,
   "id": "41578f1d",
   "metadata": {},
   "outputs": [
    {
     "data": {
      "text/plain": [
       "'Magister/ Dpto. Computación'"
      ]
     },
     "execution_count": 99,
     "metadata": {},
     "output_type": "execute_result"
    }
   ],
   "source": [
    "data_viz_curse.pop(\"sala\")"
   ]
  },
  {
   "cell_type": "code",
   "execution_count": 102,
   "id": "34459100",
   "metadata": {},
   "outputs": [],
   "source": [
    "data_viz_curse[128] = True"
   ]
  },
  {
   "cell_type": "code",
   "execution_count": 103,
   "id": "b24265c4",
   "metadata": {},
   "outputs": [
    {
     "data": {
      "text/plain": [
       "{'nombre': 'Visualización de datos',\n",
       " 'cantidad_de_estudiantes': 5,\n",
       " 'programa': 'Magister en bioinformática',\n",
       " 'nota': [6, 7, 4.6, 3],\n",
       " 128: True}"
      ]
     },
     "execution_count": 103,
     "metadata": {},
     "output_type": "execute_result"
    }
   ],
   "source": [
    "data_viz_curse"
   ]
  },
  {
   "cell_type": "code",
   "execution_count": 104,
   "id": "2354e288",
   "metadata": {},
   "outputs": [
    {
     "data": {
      "text/plain": [
       "True"
      ]
     },
     "execution_count": 104,
     "metadata": {},
     "output_type": "execute_result"
    }
   ],
   "source": [
    "True"
   ]
  },
  {
   "cell_type": "code",
   "execution_count": 108,
   "id": "e5e566ae",
   "metadata": {},
   "outputs": [
    {
     "data": {
      "text/plain": [
       "float"
      ]
     },
     "execution_count": 108,
     "metadata": {},
     "output_type": "execute_result"
    }
   ],
   "source": [
    "type(2.6)"
   ]
  },
  {
   "cell_type": "markdown",
   "id": "68f3fadc",
   "metadata": {},
   "source": [
    "## Tarea 1: Strings, listas y diccionarios"
   ]
  },
  {
   "cell_type": "code",
   "execution_count": 8,
   "id": "30ac8517",
   "metadata": {},
   "outputs": [],
   "source": [
    "name = \"Bárbara Gutiérrez\""
   ]
  },
  {
   "cell_type": "code",
   "execution_count": 3,
   "id": "a6f391b8",
   "metadata": {},
   "outputs": [],
   "source": [
    "age = 29"
   ]
  },
  {
   "cell_type": "code",
   "execution_count": 4,
   "id": "389dafe0",
   "metadata": {},
   "outputs": [],
   "source": [
    "courses = [\"Visualización de datos\", \"Machine learning\", \"Secuenciación por Oxford Nanopore\"]"
   ]
  },
  {
   "cell_type": "code",
   "execution_count": 6,
   "id": "717c3266",
   "metadata": {},
   "outputs": [],
   "source": [
    "person = { \"fullname\" : \"Bárbara Marlenne Gutiérrez Cárdenas\",\n",
    "          \"birth\" : \"29 de febrero de 1996\"}"
   ]
  },
  {
   "cell_type": "code",
   "execution_count": 13,
   "id": "82d9a75c",
   "metadata": {},
   "outputs": [
    {
     "data": {
      "text/plain": [
       "'Hola'"
      ]
     },
     "execution_count": 13,
     "metadata": {},
     "output_type": "execute_result"
    }
   ],
   "source": [
    "f\"Mi nombre es {name} y tengo {age} años\"\n",
    "\"Hola\""
   ]
  },
  {
   "cell_type": "code",
   "execution_count": 12,
   "id": "8ba1b0e2",
   "metadata": {},
   "outputs": [
    {
     "name": "stdout",
     "output_type": "stream",
     "text": [
      "Mi nombre es Bárbara Gutiérrez y tengo 29 años\n",
      "Hola\n"
     ]
    }
   ],
   "source": [
    "print(f\"Mi nombre es {name} y tengo {age} años\")\n",
    "print(\"Hola\")"
   ]
  },
  {
   "cell_type": "code",
   "execution_count": 14,
   "id": "e1818be6",
   "metadata": {},
   "outputs": [],
   "source": [
    "courses.append(\"Ciencia de datos\")"
   ]
  },
  {
   "cell_type": "code",
   "execution_count": 15,
   "id": "d95aeeaf",
   "metadata": {},
   "outputs": [
    {
     "data": {
      "text/plain": [
       "['Visualización de datos',\n",
       " 'Machine learning',\n",
       " 'Secuenciación por Oxford Nanopore',\n",
       " 'Ciencia de datos']"
      ]
     },
     "execution_count": 15,
     "metadata": {},
     "output_type": "execute_result"
    }
   ],
   "source": [
    "courses"
   ]
  },
  {
   "cell_type": "code",
   "execution_count": 16,
   "id": "5ae6c52d",
   "metadata": {},
   "outputs": [
    {
     "data": {
      "text/plain": [
       "'Secuenciación por Oxford Nanopore'"
      ]
     },
     "execution_count": 16,
     "metadata": {},
     "output_type": "execute_result"
    }
   ],
   "source": [
    "courses[2]"
   ]
  },
  {
   "cell_type": "code",
   "execution_count": 20,
   "id": "8f5507bb",
   "metadata": {},
   "outputs": [
    {
     "data": {
      "text/plain": [
       "'El tercer elemento es Secuenciación por Oxford Nanopore'"
      ]
     },
     "execution_count": 20,
     "metadata": {},
     "output_type": "execute_result"
    }
   ],
   "source": [
    "f\"El tercer elemento es {courses[2]}\""
   ]
  },
  {
   "cell_type": "code",
   "execution_count": 21,
   "id": "0cf593de",
   "metadata": {},
   "outputs": [
    {
     "data": {
      "text/plain": [
       "'Visualización de datos'"
      ]
     },
     "execution_count": 21,
     "metadata": {},
     "output_type": "execute_result"
    }
   ],
   "source": [
    "courses[0]"
   ]
  },
  {
   "cell_type": "code",
   "execution_count": 22,
   "id": "861eafd0",
   "metadata": {},
   "outputs": [
    {
     "data": {
      "text/plain": [
       "4"
      ]
     },
     "execution_count": 22,
     "metadata": {},
     "output_type": "execute_result"
    }
   ],
   "source": [
    "len(courses)"
   ]
  },
  {
   "cell_type": "code",
   "execution_count": 25,
   "id": "da34665b",
   "metadata": {},
   "outputs": [],
   "source": [
    "\"career\" in person\n",
    "person[\"career\"]=\"tecnologo medico\""
   ]
  },
  {
   "cell_type": "code",
   "execution_count": 29,
   "id": "3bb92180",
   "metadata": {},
   "outputs": [],
   "source": [
    "llaves = len(person.keys())\n"
   ]
  },
  {
   "cell_type": "code",
   "execution_count": 35,
   "id": "14be0869",
   "metadata": {},
   "outputs": [
    {
     "data": {
      "text/plain": [
       "\"el diccionario person posee 3 claves dict_keys(['fullname', 'birth', 'career'])\""
      ]
     },
     "execution_count": 35,
     "metadata": {},
     "output_type": "execute_result"
    }
   ],
   "source": [
    "f\"el diccionario person posee {llaves} claves {person.keys()}\""
   ]
  },
  {
   "cell_type": "code",
   "execution_count": 1,
   "id": "569295e2",
   "metadata": {},
   "outputs": [],
   "source": [
    "import math"
   ]
  },
  {
   "cell_type": "code",
   "execution_count": 2,
   "id": "bcf697c6",
   "metadata": {},
   "outputs": [
    {
     "data": {
      "text/plain": [
       "3.141592653589793"
      ]
     },
     "execution_count": 2,
     "metadata": {},
     "output_type": "execute_result"
    }
   ],
   "source": [
    "math.pi"
   ]
  },
  {
   "cell_type": "markdown",
   "id": "fce2af5a",
   "metadata": {},
   "source": [
    "## Condicionales"
   ]
  },
  {
   "cell_type": "code",
   "execution_count": 36,
   "id": "0db36f06",
   "metadata": {},
   "outputs": [],
   "source": [
    "notas = {\"Juan Perez\": [6.3, 4.5, 7.0, 5.6],\n",
    "         \"Maria Gomez\": [5.5, 6.0, 5.8, 6.2],\n",
    "         \"Luis Martinez\": [6.5, 6.0, 5.8, 5.2],         \n",
    "         }"
   ]
  },
  {
   "cell_type": "code",
   "execution_count": 11,
   "id": "dc155a4e",
   "metadata": {},
   "outputs": [
    {
     "data": {
      "text/plain": [
       "dict_values([[6.3, 4.5, 7.0, 5.6], [5.5, 6.0, 5.8, 6.2], [7.5, 8.0, 7.8, 8.2]])"
      ]
     },
     "execution_count": 11,
     "metadata": {},
     "output_type": "execute_result"
    }
   ],
   "source": [
    "notas.values()"
   ]
  },
  {
   "cell_type": "code",
   "execution_count": 15,
   "id": "b0e09c0e",
   "metadata": {},
   "outputs": [
    {
     "data": {
      "text/plain": [
       "[6.3, 4.5, 7.0, 5.6]"
      ]
     },
     "execution_count": 15,
     "metadata": {},
     "output_type": "execute_result"
    }
   ],
   "source": [
    "notas[\"Juan Perez\"]"
   ]
  },
  {
   "cell_type": "code",
   "execution_count": 21,
   "id": "206ffb7f",
   "metadata": {},
   "outputs": [],
   "source": [
    "promedio_JuanPerez = sum(notas[\"Juan Perez\"]) / len(notas[\"Juan Perez\"])"
   ]
  },
  {
   "cell_type": "code",
   "execution_count": 22,
   "id": "f885823c",
   "metadata": {},
   "outputs": [
    {
     "data": {
      "text/plain": [
       "5.85"
      ]
     },
     "execution_count": 22,
     "metadata": {},
     "output_type": "execute_result"
    }
   ],
   "source": [
    "promedio_JuanPerez"
   ]
  },
  {
   "cell_type": "code",
   "execution_count": 24,
   "id": "f9b734e5",
   "metadata": {},
   "outputs": [
    {
     "name": "stdout",
     "output_type": "stream",
     "text": [
      "El estudiante aprobo la asignatura\n"
     ]
    }
   ],
   "source": [
    "if(promedio_JuanPerez <5):\n",
    "    print(\"El estudiante debe rendir un examen\")\n",
    "else:\n",
    "    print(\"El estudiante aprobo la asignatura\")"
   ]
  },
  {
   "cell_type": "code",
   "execution_count": 27,
   "id": "4a54dfb2",
   "metadata": {},
   "outputs": [],
   "source": [
    "promedio_JuanPerez = 6.5\n",
    "if(promedio_JuanPerez <5):\n",
    "    print(\"El estudiante debe rendir un examen\")\n",
    "elif(promedio_JuanPerez<6):\n",
    "    print(\"El estudiante aprobo la asignatura\")\n",
    "# else:\n",
    "#     print(\"El estudiante aprobo con honores\")"
   ]
  },
  {
   "cell_type": "markdown",
   "id": "29447e0e",
   "metadata": {},
   "source": [
    "## For"
   ]
  },
  {
   "cell_type": "code",
   "execution_count": 31,
   "id": "b7ea4f30",
   "metadata": {},
   "outputs": [
    {
     "data": {
      "text/plain": [
       "dict_items([('Juan Perez', [6.3, 4.5, 7.0, 5.6]), ('Maria Gomez', [5.5, 6.0, 5.8, 6.2]), ('Luis Martinez', [7.5, 8.0, 7.8, 8.2])])"
      ]
     },
     "execution_count": 31,
     "metadata": {},
     "output_type": "execute_result"
    }
   ],
   "source": [
    "notas.items()"
   ]
  },
  {
   "cell_type": "code",
   "execution_count": 38,
   "id": "e5572090",
   "metadata": {},
   "outputs": [
    {
     "name": "stdout",
     "output_type": "stream",
     "text": [
      "El estudiante Juan Perez tiene un promedio de 5.8 \n",
      "El estudiante Maria Gomez tiene un promedio de 5.9 \n",
      "El estudiante Luis Martinez tiene un promedio de 5.9 \n"
     ]
    }
   ],
   "source": [
    "for estudiante, notas_totales in notas.items():\n",
    "    # print(estudiante,notas_totales)\n",
    "    promedio = sum(notas_totales) / len(notas_totales)\n",
    "    promedio = round(promedio,1)\n",
    "    print(f\"El estudiante {estudiante} tiene un promedio de {promedio} \")"
   ]
  },
  {
   "cell_type": "code",
   "execution_count": 41,
   "id": "871b3081",
   "metadata": {},
   "outputs": [
    {
     "name": "stdout",
     "output_type": "stream",
     "text": [
      "5\n",
      "6\n",
      "7\n",
      "8\n",
      "9\n"
     ]
    }
   ],
   "source": [
    "for num in range(5,10):\n",
    "    print(num)"
   ]
  },
  {
   "cell_type": "code",
   "execution_count": 46,
   "id": "5a042807",
   "metadata": {},
   "outputs": [
    {
     "name": "stdout",
     "output_type": "stream",
     "text": [
      "5\n",
      "10\n",
      "7\n",
      "14\n",
      "9\n",
      "18\n",
      "11\n",
      "22\n",
      "13\n",
      "26\n"
     ]
    }
   ],
   "source": [
    "for num in range(5,15,2):\n",
    "    print(num)\n",
    "    print(num*2)"
   ]
  },
  {
   "cell_type": "code",
   "execution_count": 47,
   "id": "5d5e4545",
   "metadata": {},
   "outputs": [
    {
     "ename": "IndentationError",
     "evalue": "unexpected indent (3812129805.py, line 4)",
     "output_type": "error",
     "traceback": [
      "  \u001b[36mCell\u001b[39m\u001b[36m \u001b[39m\u001b[32mIn[47]\u001b[39m\u001b[32m, line 4\u001b[39m\n\u001b[31m    \u001b[39m\u001b[31mprint(num*2)\u001b[39m\n    ^\n\u001b[31mIndentationError\u001b[39m\u001b[31m:\u001b[39m unexpected indent\n"
     ]
    }
   ],
   "source": [
    "for num in range(5,15,2):\n",
    "    print(num)\n",
    "print(\"-----------------------\")\n",
    "    print(num*2)"
   ]
  },
  {
   "cell_type": "markdown",
   "id": "486b9aa3",
   "metadata": {},
   "source": [
    "## Funciones "
   ]
  },
  {
   "cell_type": "code",
   "execution_count": 50,
   "id": "7807636d",
   "metadata": {},
   "outputs": [],
   "source": [
    "notas = [4.5,4,2]\n",
    "notas = \"Bienvenidos\""
   ]
  },
  {
   "cell_type": "code",
   "execution_count": 51,
   "id": "2537e538",
   "metadata": {},
   "outputs": [
    {
     "data": {
      "text/plain": [
       "str"
      ]
     },
     "execution_count": 51,
     "metadata": {},
     "output_type": "execute_result"
    }
   ],
   "source": [
    "type(notas)"
   ]
  },
  {
   "cell_type": "code",
   "execution_count": 52,
   "id": "e5e20585",
   "metadata": {},
   "outputs": [],
   "source": [
    "def suma():\n",
    "    num1 = 9\n",
    "    num2 = 15\n",
    "    suma = num1 + num2\n",
    "    print(f\"La suma entre {num1} y {num2} es {suma}\")"
   ]
  },
  {
   "cell_type": "code",
   "execution_count": 54,
   "id": "91c3f3d9",
   "metadata": {},
   "outputs": [],
   "source": [
    "def suma(num1, num2):\n",
    "    suma = num1 + num2\n",
    "    print(f\"La suma entre {num1} y {num2} es {suma}\")"
   ]
  },
  {
   "cell_type": "code",
   "execution_count": 56,
   "id": "ee5c6e00",
   "metadata": {},
   "outputs": [
    {
     "name": "stdout",
     "output_type": "stream",
     "text": [
      "La suma entre 16 y 4 es 20\n"
     ]
    }
   ],
   "source": [
    "suma(16,4)"
   ]
  },
  {
   "cell_type": "code",
   "execution_count": 57,
   "id": "8c79fc98",
   "metadata": {},
   "outputs": [],
   "source": [
    "def suma(num1, num2, num3=0):\n",
    "    suma = num1 + num2 + num3\n",
    "    if(num3!=0):\n",
    "        print(f\"La suma entre {num1}, {num2} y {num3} es {suma}\")\n",
    "    else:\n",
    "        print(f\"La suma entre {num1}, {num2} es {suma}\")\n"
   ]
  },
  {
   "cell_type": "code",
   "execution_count": 68,
   "id": "015ebc3a",
   "metadata": {},
   "outputs": [],
   "source": [
    "def suma(num1, num2, num3=0):\n",
    "    suma_nums = num1 + num2 + num3\n",
    "    if(num3!=0):\n",
    "        print(f\"La suma entre {num1}, {num2} y {num3} es {suma_nums}\")\n",
    "    else:\n",
    "        print(f\"La suma entre {num1}, {num2} es {suma_nums}\")\n",
    "        \n",
    "    return(suma_nums)"
   ]
  },
  {
   "cell_type": "code",
   "execution_count": 71,
   "id": "26013e55",
   "metadata": {},
   "outputs": [
    {
     "name": "stdout",
     "output_type": "stream",
     "text": [
      "La suma entre 4, 7 es 11\n"
     ]
    }
   ],
   "source": [
    "# suma(4,5)\n",
    "suma_entre_valores = suma(4,7)"
   ]
  },
  {
   "cell_type": "code",
   "execution_count": 72,
   "id": "09f3d024",
   "metadata": {},
   "outputs": [
    {
     "data": {
      "text/plain": [
       "11"
      ]
     },
     "execution_count": 72,
     "metadata": {},
     "output_type": "execute_result"
    }
   ],
   "source": [
    "suma_entre_valores"
   ]
  },
  {
   "cell_type": "code",
   "execution_count": 73,
   "id": "a78b1e9f",
   "metadata": {},
   "outputs": [
    {
     "name": "stdout",
     "output_type": "stream",
     "text": [
      "La suma entre 4, 7 es 11\n"
     ]
    },
    {
     "data": {
      "text/plain": [
       "11"
      ]
     },
     "execution_count": 73,
     "metadata": {},
     "output_type": "execute_result"
    }
   ],
   "source": [
    "suma(4,7)"
   ]
  },
  {
   "cell_type": "code",
   "execution_count": 63,
   "id": "34f0b5c5",
   "metadata": {},
   "outputs": [
    {
     "data": {
      "text/plain": [
       "11"
      ]
     },
     "execution_count": 63,
     "metadata": {},
     "output_type": "execute_result"
    }
   ],
   "source": [
    "suma_entre_valores"
   ]
  },
  {
   "cell_type": "markdown",
   "id": "d63f4a24",
   "metadata": {},
   "source": [
    "## Tarea 2: Condicionales, ciclos y funciones"
   ]
  },
  {
   "cell_type": "code",
   "execution_count": 2,
   "id": "4f8d5733",
   "metadata": {},
   "outputs": [
    {
     "name": "stdout",
     "output_type": "stream",
     "text": [
      "el numero es menor a 20 (num=19)\n"
     ]
    }
   ],
   "source": [
    "num=19\n",
    "if num>=20:\n",
    "    print(f\"el valor es mayor a 20 (num={num})\")\n",
    "else:\n",
    "    print(f\"el numero es menor a 20 (num={num})\")    "
   ]
  },
  {
   "cell_type": "code",
   "execution_count": 4,
   "id": "cdca0e38",
   "metadata": {},
   "outputs": [
    {
     "name": "stdout",
     "output_type": "stream",
     "text": [
      "el numero 22 es par\n",
      "el numero 24 es par\n",
      "el numero 26 es par\n",
      "el numero 28 es par\n",
      "el numero 30 es par\n",
      "el numero 32 es par\n",
      "el numero 34 es par\n",
      "el numero 36 es par\n",
      "el numero 38 es par\n",
      "el numero 40 es par\n",
      "el numero 42 es par\n",
      "el numero 44 es par\n"
     ]
    }
   ],
   "source": [
    "rango=range(22,46)\n",
    "\n",
    "for x in rango:\n",
    "    if(x % 2 ==0):\n",
    "        print(f\"el numero {x} es par\")"
   ]
  },
  {
   "cell_type": "code",
   "execution_count": 6,
   "id": "acb9dcf1",
   "metadata": {},
   "outputs": [],
   "source": [
    "def suma(num1, num2):\n",
    "    suma_numeros = num1 + num2\n",
    "    if (suma_numeros>=10):\n",
    "        print(f\"suma mayor o igual a 10\")\n",
    "    else:\n",
    "        print(f\"menor a 10\")\n",
    "    return(suma_numeros)"
   ]
  },
  {
   "cell_type": "code",
   "execution_count": 7,
   "id": "bffb4bd6",
   "metadata": {},
   "outputs": [
    {
     "name": "stdout",
     "output_type": "stream",
     "text": [
      "menor a 10\n"
     ]
    },
    {
     "data": {
      "text/plain": [
       "5"
      ]
     },
     "execution_count": 7,
     "metadata": {},
     "output_type": "execute_result"
    }
   ],
   "source": [
    "suma(2, 3)"
   ]
  },
  {
   "cell_type": "code",
   "execution_count": 13,
   "id": "77153a37",
   "metadata": {},
   "outputs": [],
   "source": [
    "def suma(num1, num2, num3 = 3):\n",
    "    suma_numeros = num1 + num2 + num3\n",
    "    if (suma_numeros>=10):\n",
    "        print(f\"suma mayor o igual a 10\")\n",
    "    else:\n",
    "        print(f\"menor a 10\")\n",
    "    return(suma_numeros)"
   ]
  },
  {
   "cell_type": "code",
   "execution_count": 14,
   "id": "927ab955",
   "metadata": {},
   "outputs": [
    {
     "name": "stdout",
     "output_type": "stream",
     "text": [
      "menor a 10\n"
     ]
    },
    {
     "data": {
      "text/plain": [
       "6"
      ]
     },
     "execution_count": 14,
     "metadata": {},
     "output_type": "execute_result"
    }
   ],
   "source": [
    "suma(1, 2)"
   ]
  },
  {
   "cell_type": "code",
   "execution_count": 15,
   "id": "7cb6ea0b",
   "metadata": {},
   "outputs": [],
   "source": [
    "def imprime_pares(n):\n",
    "    for x in range(1,n):\n",
    "        if(x % 2 == 0):\n",
    "            print(x)"
   ]
  },
  {
   "cell_type": "code",
   "execution_count": 16,
   "id": "f61aedcc",
   "metadata": {},
   "outputs": [
    {
     "name": "stdout",
     "output_type": "stream",
     "text": [
      "2\n",
      "4\n",
      "6\n",
      "8\n"
     ]
    }
   ],
   "source": [
    "imprime_pares(10)"
   ]
  },
  {
   "cell_type": "code",
   "execution_count": null,
   "id": "95856c57",
   "metadata": {},
   "outputs": [],
   "source": []
  }
 ],
 "metadata": {
  "kernelspec": {
   "display_name": "data-viz-notebooks",
   "language": "python",
   "name": "python3"
  },
  "language_info": {
   "codemirror_mode": {
    "name": "ipython",
    "version": 3
   },
   "file_extension": ".py",
   "mimetype": "text/x-python",
   "name": "python",
   "nbconvert_exporter": "python",
   "pygments_lexer": "ipython3",
   "version": "3.12.6"
  }
 },
 "nbformat": 4,
 "nbformat_minor": 5
}
