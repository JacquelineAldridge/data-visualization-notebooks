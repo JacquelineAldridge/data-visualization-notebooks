{
 "cells": [
  {
   "cell_type": "markdown",
   "id": "5ecaa304",
   "metadata": {},
   "source": [
    "# Manejo de valores nulos"
   ]
  },
  {
   "cell_type": "code",
   "execution_count": 36,
   "id": "c5f13cbc",
   "metadata": {},
   "outputs": [],
   "source": [
    "import polars as pl\n",
    "from polars import selectors as cs"
   ]
  },
  {
   "cell_type": "code",
   "execution_count": 4,
   "id": "f03ec833",
   "metadata": {},
   "outputs": [],
   "source": [
    "df_datos = pl.read_csv(\"../train.csv\")"
   ]
  },
  {
   "cell_type": "code",
   "execution_count": 13,
   "id": "3c47754a",
   "metadata": {},
   "outputs": [
    {
     "data": {
      "text/html": [
       "<div><style>\n",
       ".dataframe > thead > tr,\n",
       ".dataframe > tbody > tr {\n",
       "  text-align: right;\n",
       "  white-space: pre-wrap;\n",
       "}\n",
       "</style>\n",
       "<small>shape: (1, 45)</small><table border=\"1\" class=\"dataframe\"><thead><tr><th>Patient Id</th><th>Patient Age</th><th>Genes in mother&#x27;s side</th><th>Inherited from father</th><th>Maternal gene</th><th>Paternal gene</th><th>Blood cell count (mcL)</th><th>Patient First Name</th><th>Family Name</th><th>Father&#x27;s name</th><th>Mother&#x27;s age</th><th>Father&#x27;s age</th><th>Institute Name</th><th>Location of Institute</th><th>Status</th><th>Respiratory Rate (breaths/min)</th><th>Heart Rate (rates/min</th><th>Test 1</th><th>Test 2</th><th>Test 3</th><th>Test 4</th><th>Test 5</th><th>Parental consent</th><th>Follow-up</th><th>Gender</th><th>Birth asphyxia</th><th>Autopsy shows birth defect (if applicable)</th><th>Place of birth</th><th>Folic acid details (peri-conceptional)</th><th>H/O serious maternal illness</th><th>H/O radiation exposure (x-ray)</th><th>H/O substance abuse</th><th>Assisted conception IVF/ART</th><th>History of anomalies in previous pregnancies</th><th>No. of previous abortion</th><th>Birth defects</th><th>White Blood cell count (thousand per microliter)</th><th>Blood test result</th><th>Symptom 1</th><th>Symptom 2</th><th>Symptom 3</th><th>Symptom 4</th><th>Symptom 5</th><th>Genetic Disorder</th><th>Disorder Subclass</th></tr><tr><td>u32</td><td>u32</td><td>u32</td><td>u32</td><td>u32</td><td>u32</td><td>u32</td><td>u32</td><td>u32</td><td>u32</td><td>u32</td><td>u32</td><td>u32</td><td>u32</td><td>u32</td><td>u32</td><td>u32</td><td>u32</td><td>u32</td><td>u32</td><td>u32</td><td>u32</td><td>u32</td><td>u32</td><td>u32</td><td>u32</td><td>u32</td><td>u32</td><td>u32</td><td>u32</td><td>u32</td><td>u32</td><td>u32</td><td>u32</td><td>u32</td><td>u32</td><td>u32</td><td>u32</td><td>u32</td><td>u32</td><td>u32</td><td>u32</td><td>u32</td><td>u32</td><td>u32</td></tr></thead><tbody><tr><td>0</td><td>1427</td><td>0</td><td>306</td><td>2810</td><td>0</td><td>0</td><td>0</td><td>9691</td><td>0</td><td>6036</td><td>5986</td><td>5106</td><td>0</td><td>0</td><td>2149</td><td>2113</td><td>2127</td><td>2152</td><td>2147</td><td>2140</td><td>2170</td><td>2125</td><td>2166</td><td>2173</td><td>2139</td><td>1026</td><td>2124</td><td>2117</td><td>2152</td><td>2153</td><td>2195</td><td>2122</td><td>2172</td><td>2162</td><td>2154</td><td>2148</td><td>2145</td><td>2155</td><td>2222</td><td>2101</td><td>2113</td><td>2153</td><td>2146</td><td>2168</td></tr></tbody></table></div>"
      ],
      "text/plain": [
       "shape: (1, 45)\n",
       "┌───────────┬───────────┬───────────┬───────────┬───┬───────────┬───────────┬───────────┬──────────┐\n",
       "│ Patient   ┆ Patient   ┆ Genes in  ┆ Inherited ┆ … ┆ Symptom 4 ┆ Symptom 5 ┆ Genetic   ┆ Disorder │\n",
       "│ Id        ┆ Age       ┆ mother's  ┆ from      ┆   ┆ ---       ┆ ---       ┆ Disorder  ┆ Subclass │\n",
       "│ ---       ┆ ---       ┆ side      ┆ father    ┆   ┆ u32       ┆ u32       ┆ ---       ┆ ---      │\n",
       "│ u32       ┆ u32       ┆ ---       ┆ ---       ┆   ┆           ┆           ┆ u32       ┆ u32      │\n",
       "│           ┆           ┆ u32       ┆ u32       ┆   ┆           ┆           ┆           ┆          │\n",
       "╞═══════════╪═══════════╪═══════════╪═══════════╪═══╪═══════════╪═══════════╪═══════════╪══════════╡\n",
       "│ 0         ┆ 1427      ┆ 0         ┆ 306       ┆ … ┆ 2113      ┆ 2153      ┆ 2146      ┆ 2168     │\n",
       "└───────────┴───────────┴───────────┴───────────┴───┴───────────┴───────────┴───────────┴──────────┘"
      ]
     },
     "execution_count": 13,
     "metadata": {},
     "output_type": "execute_result"
    }
   ],
   "source": [
    "df_datos.null_count()"
   ]
  },
  {
   "cell_type": "code",
   "execution_count": 15,
   "id": "b9903a8e",
   "metadata": {},
   "outputs": [
    {
     "data": {
      "text/plain": [
       "(22083, 45)"
      ]
     },
     "execution_count": 15,
     "metadata": {},
     "output_type": "execute_result"
    }
   ],
   "source": [
    "df_datos.shape"
   ]
  },
  {
   "cell_type": "code",
   "execution_count": 16,
   "id": "ec134137",
   "metadata": {},
   "outputs": [
    {
     "data": {
      "text/html": [
       "<div><style>\n",
       ".dataframe > thead > tr,\n",
       ".dataframe > tbody > tr {\n",
       "  text-align: right;\n",
       "  white-space: pre-wrap;\n",
       "}\n",
       "</style>\n",
       "<small>shape: (6_706, 45)</small><table border=\"1\" class=\"dataframe\"><thead><tr><th>Patient Id</th><th>Patient Age</th><th>Genes in mother&#x27;s side</th><th>Inherited from father</th><th>Maternal gene</th><th>Paternal gene</th><th>Blood cell count (mcL)</th><th>Patient First Name</th><th>Family Name</th><th>Father&#x27;s name</th><th>Mother&#x27;s age</th><th>Father&#x27;s age</th><th>Institute Name</th><th>Location of Institute</th><th>Status</th><th>Respiratory Rate (breaths/min)</th><th>Heart Rate (rates/min</th><th>Test 1</th><th>Test 2</th><th>Test 3</th><th>Test 4</th><th>Test 5</th><th>Parental consent</th><th>Follow-up</th><th>Gender</th><th>Birth asphyxia</th><th>Autopsy shows birth defect (if applicable)</th><th>Place of birth</th><th>Folic acid details (peri-conceptional)</th><th>H/O serious maternal illness</th><th>H/O radiation exposure (x-ray)</th><th>H/O substance abuse</th><th>Assisted conception IVF/ART</th><th>History of anomalies in previous pregnancies</th><th>No. of previous abortion</th><th>Birth defects</th><th>White Blood cell count (thousand per microliter)</th><th>Blood test result</th><th>Symptom 1</th><th>Symptom 2</th><th>Symptom 3</th><th>Symptom 4</th><th>Symptom 5</th><th>Genetic Disorder</th><th>Disorder Subclass</th></tr><tr><td>str</td><td>f64</td><td>str</td><td>str</td><td>str</td><td>str</td><td>f64</td><td>str</td><td>str</td><td>str</td><td>f64</td><td>f64</td><td>str</td><td>str</td><td>str</td><td>str</td><td>str</td><td>f64</td><td>f64</td><td>f64</td><td>f64</td><td>f64</td><td>str</td><td>str</td><td>str</td><td>str</td><td>str</td><td>str</td><td>str</td><td>str</td><td>str</td><td>str</td><td>str</td><td>str</td><td>f64</td><td>str</td><td>f64</td><td>str</td><td>f64</td><td>f64</td><td>f64</td><td>f64</td><td>f64</td><td>str</td><td>str</td></tr></thead><tbody><tr><td>&quot;PID0x8ce3&quot;</td><td>11.0</td><td>&quot;No&quot;</td><td>&quot;No&quot;</td><td>&quot;Yes&quot;</td><td>&quot;No&quot;</td><td>5.209058</td><td>&quot;Willie&quot;</td><td>&quot;Camacho&quot;</td><td>&quot;Tr&quot;</td><td>45.0</td><td>44.0</td><td>&quot;Lemuel Shattuck Hospital&quot;</td><td>&quot;125 NASHUA ST\n",
       "CENTRAL, MA 0211…</td><td>&quot;Alive&quot;</td><td>&quot;Tachypnea&quot;</td><td>&quot;Tachycardia&quot;</td><td>0.0</td><td>0.0</td><td>0.0</td><td>1.0</td><td>0.0</td><td>&quot;Yes&quot;</td><td>&quot;Low&quot;</td><td>&quot;Male&quot;</td><td>&quot;Yes&quot;</td><td>&quot;Not applicable&quot;</td><td>&quot;Institute&quot;</td><td>&quot;Yes&quot;</td><td>&quot;Yes&quot;</td><td>&quot;No&quot;</td><td>&quot;No&quot;</td><td>&quot;No&quot;</td><td>&quot;Yes&quot;</td><td>0.0</td><td>&quot;Multiple&quot;</td><td>6.669552</td><td>&quot;slightly abnormal&quot;</td><td>1.0</td><td>1.0</td><td>1.0</td><td>0.0</td><td>1.0</td><td>&quot;Mitochondrial genetic inherita…</td><td>&quot;Leigh syndrome&quot;</td></tr><tr><td>&quot;PID0x8660&quot;</td><td>4.0</td><td>&quot;No&quot;</td><td>&quot;Yes&quot;</td><td>&quot;Yes&quot;</td><td>&quot;Yes&quot;</td><td>4.752272</td><td>&quot;John&quot;</td><td>&quot;Sandoval&quot;</td><td>&quot;Gregori&quot;</td><td>44.0</td><td>42.0</td><td>&quot;Shriners Burns Institute&quot;</td><td>&quot;1200 Centre St\n",
       "Roslindale, MA …</td><td>&quot;Alive&quot;</td><td>&quot;Tachypnea&quot;</td><td>&quot;Tachycardia&quot;</td><td>0.0</td><td>0.0</td><td>0.0</td><td>1.0</td><td>0.0</td><td>&quot;Yes&quot;</td><td>&quot;Low&quot;</td><td>&quot;Male&quot;</td><td>&quot;No&quot;</td><td>&quot;Not applicable&quot;</td><td>&quot;Institute&quot;</td><td>&quot;Yes&quot;</td><td>&quot;No&quot;</td><td>&quot;No&quot;</td><td>&quot;No&quot;</td><td>&quot;Yes&quot;</td><td>&quot;Yes&quot;</td><td>1.0</td><td>&quot;Multiple&quot;</td><td>6.397702</td><td>&quot;abnormal&quot;</td><td>0.0</td><td>0.0</td><td>1.0</td><td>1.0</td><td>1.0</td><td>&quot;Multifactorial genetic inherit…</td><td>&quot;Diabetes&quot;</td></tr><tr><td>&quot;PID0x74ab&quot;</td><td>1.0</td><td>&quot;Yes&quot;</td><td>&quot;Yes&quot;</td><td>&quot;No&quot;</td><td>&quot;No&quot;</td><td>4.612265</td><td>&quot;Eric&quot;</td><td>&quot;Harness&quot;</td><td>&quot;Mano&quot;</td><td>50.0</td><td>56.0</td><td>&quot;Not applicable&quot;</td><td>&quot;-&quot;</td><td>&quot;Deceased&quot;</td><td>&quot;Normal (30-60)&quot;</td><td>&quot;Tachycardia&quot;</td><td>0.0</td><td>0.0</td><td>0.0</td><td>1.0</td><td>0.0</td><td>&quot;Yes&quot;</td><td>&quot;High&quot;</td><td>&quot;Male&quot;</td><td>&quot;Not available&quot;</td><td>&quot;None&quot;</td><td>&quot;Home&quot;</td><td>&quot;Yes&quot;</td><td>&quot;No&quot;</td><td>&quot;Yes&quot;</td><td>&quot;Not applicable&quot;</td><td>&quot;Yes&quot;</td><td>&quot;Yes&quot;</td><td>0.0</td><td>&quot;Singular&quot;</td><td>7.995115</td><td>&quot;slightly abnormal&quot;</td><td>1.0</td><td>1.0</td><td>0.0</td><td>1.0</td><td>0.0</td><td>&quot;Mitochondrial genetic inherita…</td><td>&quot;Leigh syndrome&quot;</td></tr><tr><td>&quot;PID0x7678&quot;</td><td>6.0</td><td>&quot;Yes&quot;</td><td>&quot;No&quot;</td><td>&quot;Yes&quot;</td><td>&quot;No&quot;</td><td>4.62042</td><td>&quot;Ruth&quot;</td><td>&quot;Homza&quot;</td><td>&quot;Cesareo&quot;</td><td>41.0</td><td>20.0</td><td>&quot;Not applicable&quot;</td><td>&quot;-&quot;</td><td>&quot;Alive&quot;</td><td>&quot;Tachypnea&quot;</td><td>&quot;Tachycardia&quot;</td><td>0.0</td><td>0.0</td><td>0.0</td><td>1.0</td><td>0.0</td><td>&quot;Yes&quot;</td><td>&quot;High&quot;</td><td>&quot;Male&quot;</td><td>&quot;No&quot;</td><td>&quot;Not applicable&quot;</td><td>&quot;Home&quot;</td><td>&quot;Yes&quot;</td><td>&quot;Yes&quot;</td><td>&quot;Yes&quot;</td><td>&quot;-&quot;</td><td>&quot;No&quot;</td><td>&quot;No&quot;</td><td>3.0</td><td>&quot;Multiple&quot;</td><td>3.0</td><td>&quot;slightly abnormal&quot;</td><td>1.0</td><td>0.0</td><td>1.0</td><td>0.0</td><td>1.0</td><td>&quot;Mitochondrial genetic inherita…</td><td>&quot;Leigh syndrome&quot;</td></tr><tr><td>&quot;PID0x952d&quot;</td><td>10.0</td><td>&quot;Yes&quot;</td><td>&quot;Yes&quot;</td><td>&quot;Yes&quot;</td><td>&quot;No&quot;</td><td>4.751452</td><td>&quot;James&quot;</td><td>&quot;Whipple&quot;</td><td>&quot;Dvon&quot;</td><td>40.0</td><td>57.0</td><td>&quot;Massachusetts Eye &amp; Ear Infirm…</td><td>&quot;44 BINNEY ST\n",
       "FENWAY/KENMORE, M…</td><td>&quot;Deceased&quot;</td><td>&quot;Normal (30-60)&quot;</td><td>&quot;Tachycardia&quot;</td><td>0.0</td><td>0.0</td><td>0.0</td><td>1.0</td><td>0.0</td><td>&quot;Yes&quot;</td><td>&quot;Low&quot;</td><td>&quot;Ambiguous&quot;</td><td>&quot;No&quot;</td><td>&quot;Yes&quot;</td><td>&quot;Institute&quot;</td><td>&quot;No&quot;</td><td>&quot;No&quot;</td><td>&quot;Yes&quot;</td><td>&quot;No&quot;</td><td>&quot;Yes&quot;</td><td>&quot;Yes&quot;</td><td>3.0</td><td>&quot;Singular&quot;</td><td>9.382407</td><td>&quot;abnormal&quot;</td><td>1.0</td><td>1.0</td><td>0.0</td><td>0.0</td><td>0.0</td><td>&quot;Mitochondrial genetic inherita…</td><td>&quot;Mitochondrial myopathy&quot;</td></tr><tr><td>&hellip;</td><td>&hellip;</td><td>&hellip;</td><td>&hellip;</td><td>&hellip;</td><td>&hellip;</td><td>&hellip;</td><td>&hellip;</td><td>&hellip;</td><td>&hellip;</td><td>&hellip;</td><td>&hellip;</td><td>&hellip;</td><td>&hellip;</td><td>&hellip;</td><td>&hellip;</td><td>&hellip;</td><td>&hellip;</td><td>&hellip;</td><td>&hellip;</td><td>&hellip;</td><td>&hellip;</td><td>&hellip;</td><td>&hellip;</td><td>&hellip;</td><td>&hellip;</td><td>&hellip;</td><td>&hellip;</td><td>&hellip;</td><td>&hellip;</td><td>&hellip;</td><td>&hellip;</td><td>&hellip;</td><td>&hellip;</td><td>&hellip;</td><td>&hellip;</td><td>&hellip;</td><td>&hellip;</td><td>&hellip;</td><td>&hellip;</td><td>&hellip;</td><td>&hellip;</td><td>&hellip;</td><td>&hellip;</td><td>&hellip;</td></tr><tr><td>&quot;PID0x7168&quot;</td><td>12.0</td><td>&quot;Yes&quot;</td><td>&quot;No&quot;</td><td>&quot;Yes&quot;</td><td>&quot;No&quot;</td><td>4.652915</td><td>&quot;Nicole&quot;</td><td>&quot;Smith&quot;</td><td>&quot;Arwood&quot;</td><td>49.0</td><td>40.0</td><td>&quot;Not applicable&quot;</td><td>&quot;-&quot;</td><td>&quot;Alive&quot;</td><td>&quot;Normal (30-60)&quot;</td><td>&quot;Normal&quot;</td><td>0.0</td><td>0.0</td><td>0.0</td><td>1.0</td><td>0.0</td><td>&quot;Yes&quot;</td><td>&quot;High&quot;</td><td>&quot;Male&quot;</td><td>&quot;Yes&quot;</td><td>&quot;Not applicable&quot;</td><td>&quot;Home&quot;</td><td>&quot;No&quot;</td><td>&quot;No&quot;</td><td>&quot;-&quot;</td><td>&quot;-&quot;</td><td>&quot;No&quot;</td><td>&quot;Yes&quot;</td><td>0.0</td><td>&quot;Multiple&quot;</td><td>8.035952</td><td>&quot;slightly abnormal&quot;</td><td>0.0</td><td>1.0</td><td>1.0</td><td>1.0</td><td>0.0</td><td>&quot;Mitochondrial genetic inherita…</td><td>&quot;Leigh syndrome&quot;</td></tr><tr><td>&quot;PID0x78f0&quot;</td><td>6.0</td><td>&quot;No&quot;</td><td>&quot;Yes&quot;</td><td>&quot;No&quot;</td><td>&quot;Yes&quot;</td><td>5.117296</td><td>&quot;Brian&quot;</td><td>&quot;Duncan&quot;</td><td>&quot;Moshe&quot;</td><td>48.0</td><td>27.0</td><td>&quot;Arbour Hospital&quot;</td><td>&quot;818 HARRISON AV\n",
       "SOUTH END, MA …</td><td>&quot;Alive&quot;</td><td>&quot;Tachypnea&quot;</td><td>&quot;Tachycardia&quot;</td><td>0.0</td><td>0.0</td><td>0.0</td><td>1.0</td><td>0.0</td><td>&quot;Yes&quot;</td><td>&quot;High&quot;</td><td>&quot;Male&quot;</td><td>&quot;No&quot;</td><td>&quot;Not applicable&quot;</td><td>&quot;Institute&quot;</td><td>&quot;Yes&quot;</td><td>&quot;No&quot;</td><td>&quot;No&quot;</td><td>&quot;Not applicable&quot;</td><td>&quot;No&quot;</td><td>&quot;Yes&quot;</td><td>3.0</td><td>&quot;Singular&quot;</td><td>3.453291</td><td>&quot;slightly abnormal&quot;</td><td>0.0</td><td>0.0</td><td>1.0</td><td>1.0</td><td>0.0</td><td>&quot;Mitochondrial genetic inherita…</td><td>&quot;Mitochondrial myopathy&quot;</td></tr><tr><td>&quot;PID0x7f83&quot;</td><td>13.0</td><td>&quot;No&quot;</td><td>&quot;Yes&quot;</td><td>&quot;No&quot;</td><td>&quot;Yes&quot;</td><td>4.777036</td><td>&quot;Georgia&quot;</td><td>&quot;Acuff&quot;</td><td>&quot;Roquan&quot;</td><td>27.0</td><td>58.0</td><td>&quot;Not applicable&quot;</td><td>&quot;-&quot;</td><td>&quot;Alive&quot;</td><td>&quot;Normal (30-60)&quot;</td><td>&quot;Normal&quot;</td><td>0.0</td><td>0.0</td><td>0.0</td><td>1.0</td><td>0.0</td><td>&quot;Yes&quot;</td><td>&quot;High&quot;</td><td>&quot;Ambiguous&quot;</td><td>&quot;No&quot;</td><td>&quot;Not applicable&quot;</td><td>&quot;Home&quot;</td><td>&quot;No&quot;</td><td>&quot;Yes&quot;</td><td>&quot;No&quot;</td><td>&quot;-&quot;</td><td>&quot;No&quot;</td><td>&quot;Yes&quot;</td><td>1.0</td><td>&quot;Singular&quot;</td><td>3.000736</td><td>&quot;normal&quot;</td><td>0.0</td><td>0.0</td><td>0.0</td><td>0.0</td><td>1.0</td><td>&quot;Mitochondrial genetic inherita…</td><td>&quot;Leigh syndrome&quot;</td></tr><tr><td>&quot;PID0x9aad&quot;</td><td>4.0</td><td>&quot;Yes&quot;</td><td>&quot;No&quot;</td><td>&quot;No&quot;</td><td>&quot;No&quot;</td><td>5.077554</td><td>&quot;Loretta&quot;</td><td>&quot;Obrien&quot;</td><td>&quot;Nebiyu&quot;</td><td>44.0</td><td>34.0</td><td>&quot;New England Medical Center&quot;</td><td>&quot;736 CAMBRIDGE ST\n",
       "ALLSTON/BRIGH…</td><td>&quot;Deceased&quot;</td><td>&quot;Normal (30-60)&quot;</td><td>&quot;Normal&quot;</td><td>0.0</td><td>0.0</td><td>0.0</td><td>1.0</td><td>0.0</td><td>&quot;Yes&quot;</td><td>&quot;Low&quot;</td><td>&quot;Ambiguous&quot;</td><td>&quot;Yes&quot;</td><td>&quot;Yes&quot;</td><td>&quot;Institute&quot;</td><td>&quot;No&quot;</td><td>&quot;Yes&quot;</td><td>&quot;No&quot;</td><td>&quot;Not applicable&quot;</td><td>&quot;No&quot;</td><td>&quot;No&quot;</td><td>1.0</td><td>&quot;Singular&quot;</td><td>9.566549</td><td>&quot;inconclusive&quot;</td><td>1.0</td><td>1.0</td><td>1.0</td><td>1.0</td><td>1.0</td><td>&quot;Multifactorial genetic inherit…</td><td>&quot;Diabetes&quot;</td></tr><tr><td>&quot;PID0x9332&quot;</td><td>11.0</td><td>&quot;Yes&quot;</td><td>&quot;No&quot;</td><td>&quot;No&quot;</td><td>&quot;No&quot;</td><td>4.738067</td><td>&quot;Andrew&quot;</td><td>&quot;Mose&quot;</td><td>&quot;Eban&quot;</td><td>32.0</td><td>62.0</td><td>&quot;Hebrew Rehabilitation Center&quot;</td><td>&quot;300 LONGWOOD AV\n",
       "FENWAY/KENMORE…</td><td>&quot;Deceased&quot;</td><td>&quot;Normal (30-60)&quot;</td><td>&quot;Normal&quot;</td><td>0.0</td><td>0.0</td><td>0.0</td><td>1.0</td><td>0.0</td><td>&quot;Yes&quot;</td><td>&quot;High&quot;</td><td>&quot;Female&quot;</td><td>&quot;Yes&quot;</td><td>&quot;None&quot;</td><td>&quot;Institute&quot;</td><td>&quot;Yes&quot;</td><td>&quot;Yes&quot;</td><td>&quot;Not applicable&quot;</td><td>&quot;No&quot;</td><td>&quot;Yes&quot;</td><td>&quot;Yes&quot;</td><td>4.0</td><td>&quot;Singular&quot;</td><td>11.188371</td><td>&quot;normal&quot;</td><td>1.0</td><td>0.0</td><td>1.0</td><td>1.0</td><td>1.0</td><td>&quot;Multifactorial genetic inherit…</td><td>&quot;Diabetes&quot;</td></tr></tbody></table></div>"
      ],
      "text/plain": [
       "shape: (6_706, 45)\n",
       "┌───────────┬───────────┬───────────┬───────────┬───┬───────────┬───────────┬───────────┬──────────┐\n",
       "│ Patient   ┆ Patient   ┆ Genes in  ┆ Inherited ┆ … ┆ Symptom 4 ┆ Symptom 5 ┆ Genetic   ┆ Disorder │\n",
       "│ Id        ┆ Age       ┆ mother's  ┆ from      ┆   ┆ ---       ┆ ---       ┆ Disorder  ┆ Subclass │\n",
       "│ ---       ┆ ---       ┆ side      ┆ father    ┆   ┆ f64       ┆ f64       ┆ ---       ┆ ---      │\n",
       "│ str       ┆ f64       ┆ ---       ┆ ---       ┆   ┆           ┆           ┆ str       ┆ str      │\n",
       "│           ┆           ┆ str       ┆ str       ┆   ┆           ┆           ┆           ┆          │\n",
       "╞═══════════╪═══════════╪═══════════╪═══════════╪═══╪═══════════╪═══════════╪═══════════╪══════════╡\n",
       "│ PID0x8ce3 ┆ 11.0      ┆ No        ┆ No        ┆ … ┆ 0.0       ┆ 1.0       ┆ Mitochond ┆ Leigh    │\n",
       "│           ┆           ┆           ┆           ┆   ┆           ┆           ┆ rial      ┆ syndrome │\n",
       "│           ┆           ┆           ┆           ┆   ┆           ┆           ┆ genetic   ┆          │\n",
       "│           ┆           ┆           ┆           ┆   ┆           ┆           ┆ inherita… ┆          │\n",
       "│ PID0x8660 ┆ 4.0       ┆ No        ┆ Yes       ┆ … ┆ 1.0       ┆ 1.0       ┆ Multifact ┆ Diabetes │\n",
       "│           ┆           ┆           ┆           ┆   ┆           ┆           ┆ orial     ┆          │\n",
       "│           ┆           ┆           ┆           ┆   ┆           ┆           ┆ genetic   ┆          │\n",
       "│           ┆           ┆           ┆           ┆   ┆           ┆           ┆ inherit…  ┆          │\n",
       "│ PID0x74ab ┆ 1.0       ┆ Yes       ┆ Yes       ┆ … ┆ 1.0       ┆ 0.0       ┆ Mitochond ┆ Leigh    │\n",
       "│           ┆           ┆           ┆           ┆   ┆           ┆           ┆ rial      ┆ syndrome │\n",
       "│           ┆           ┆           ┆           ┆   ┆           ┆           ┆ genetic   ┆          │\n",
       "│           ┆           ┆           ┆           ┆   ┆           ┆           ┆ inherita… ┆          │\n",
       "│ PID0x7678 ┆ 6.0       ┆ Yes       ┆ No        ┆ … ┆ 0.0       ┆ 1.0       ┆ Mitochond ┆ Leigh    │\n",
       "│           ┆           ┆           ┆           ┆   ┆           ┆           ┆ rial      ┆ syndrome │\n",
       "│           ┆           ┆           ┆           ┆   ┆           ┆           ┆ genetic   ┆          │\n",
       "│           ┆           ┆           ┆           ┆   ┆           ┆           ┆ inherita… ┆          │\n",
       "│ PID0x952d ┆ 10.0      ┆ Yes       ┆ Yes       ┆ … ┆ 0.0       ┆ 0.0       ┆ Mitochond ┆ Mitochon │\n",
       "│           ┆           ┆           ┆           ┆   ┆           ┆           ┆ rial      ┆ drial    │\n",
       "│           ┆           ┆           ┆           ┆   ┆           ┆           ┆ genetic   ┆ myopathy │\n",
       "│           ┆           ┆           ┆           ┆   ┆           ┆           ┆ inherita… ┆          │\n",
       "│ …         ┆ …         ┆ …         ┆ …         ┆ … ┆ …         ┆ …         ┆ …         ┆ …        │\n",
       "│ PID0x7168 ┆ 12.0      ┆ Yes       ┆ No        ┆ … ┆ 1.0       ┆ 0.0       ┆ Mitochond ┆ Leigh    │\n",
       "│           ┆           ┆           ┆           ┆   ┆           ┆           ┆ rial      ┆ syndrome │\n",
       "│           ┆           ┆           ┆           ┆   ┆           ┆           ┆ genetic   ┆          │\n",
       "│           ┆           ┆           ┆           ┆   ┆           ┆           ┆ inherita… ┆          │\n",
       "│ PID0x78f0 ┆ 6.0       ┆ No        ┆ Yes       ┆ … ┆ 1.0       ┆ 0.0       ┆ Mitochond ┆ Mitochon │\n",
       "│           ┆           ┆           ┆           ┆   ┆           ┆           ┆ rial      ┆ drial    │\n",
       "│           ┆           ┆           ┆           ┆   ┆           ┆           ┆ genetic   ┆ myopathy │\n",
       "│           ┆           ┆           ┆           ┆   ┆           ┆           ┆ inherita… ┆          │\n",
       "│ PID0x7f83 ┆ 13.0      ┆ No        ┆ Yes       ┆ … ┆ 0.0       ┆ 1.0       ┆ Mitochond ┆ Leigh    │\n",
       "│           ┆           ┆           ┆           ┆   ┆           ┆           ┆ rial      ┆ syndrome │\n",
       "│           ┆           ┆           ┆           ┆   ┆           ┆           ┆ genetic   ┆          │\n",
       "│           ┆           ┆           ┆           ┆   ┆           ┆           ┆ inherita… ┆          │\n",
       "│ PID0x9aad ┆ 4.0       ┆ Yes       ┆ No        ┆ … ┆ 1.0       ┆ 1.0       ┆ Multifact ┆ Diabetes │\n",
       "│           ┆           ┆           ┆           ┆   ┆           ┆           ┆ orial     ┆          │\n",
       "│           ┆           ┆           ┆           ┆   ┆           ┆           ┆ genetic   ┆          │\n",
       "│           ┆           ┆           ┆           ┆   ┆           ┆           ┆ inherit…  ┆          │\n",
       "│ PID0x9332 ┆ 11.0      ┆ Yes       ┆ No        ┆ … ┆ 1.0       ┆ 1.0       ┆ Multifact ┆ Diabetes │\n",
       "│           ┆           ┆           ┆           ┆   ┆           ┆           ┆ orial     ┆          │\n",
       "│           ┆           ┆           ┆           ┆   ┆           ┆           ┆ genetic   ┆          │\n",
       "│           ┆           ┆           ┆           ┆   ┆           ┆           ┆ inherit…  ┆          │\n",
       "└───────────┴───────────┴───────────┴───────────┴───┴───────────┴───────────┴───────────┴──────────┘"
      ]
     },
     "execution_count": 16,
     "metadata": {},
     "output_type": "execute_result"
    }
   ],
   "source": [
    "df_datos.drop_nulls()"
   ]
  },
  {
   "cell_type": "code",
   "execution_count": 17,
   "id": "d107363d",
   "metadata": {},
   "outputs": [
    {
     "data": {
      "text/html": [
       "<div><style>\n",
       ".dataframe > thead > tr,\n",
       ".dataframe > tbody > tr {\n",
       "  text-align: right;\n",
       "  white-space: pre-wrap;\n",
       "}\n",
       "</style>\n",
       "<small>shape: (19_958, 45)</small><table border=\"1\" class=\"dataframe\"><thead><tr><th>Patient Id</th><th>Patient Age</th><th>Genes in mother&#x27;s side</th><th>Inherited from father</th><th>Maternal gene</th><th>Paternal gene</th><th>Blood cell count (mcL)</th><th>Patient First Name</th><th>Family Name</th><th>Father&#x27;s name</th><th>Mother&#x27;s age</th><th>Father&#x27;s age</th><th>Institute Name</th><th>Location of Institute</th><th>Status</th><th>Respiratory Rate (breaths/min)</th><th>Heart Rate (rates/min</th><th>Test 1</th><th>Test 2</th><th>Test 3</th><th>Test 4</th><th>Test 5</th><th>Parental consent</th><th>Follow-up</th><th>Gender</th><th>Birth asphyxia</th><th>Autopsy shows birth defect (if applicable)</th><th>Place of birth</th><th>Folic acid details (peri-conceptional)</th><th>H/O serious maternal illness</th><th>H/O radiation exposure (x-ray)</th><th>H/O substance abuse</th><th>Assisted conception IVF/ART</th><th>History of anomalies in previous pregnancies</th><th>No. of previous abortion</th><th>Birth defects</th><th>White Blood cell count (thousand per microliter)</th><th>Blood test result</th><th>Symptom 1</th><th>Symptom 2</th><th>Symptom 3</th><th>Symptom 4</th><th>Symptom 5</th><th>Genetic Disorder</th><th>Disorder Subclass</th></tr><tr><td>str</td><td>f64</td><td>str</td><td>str</td><td>str</td><td>str</td><td>f64</td><td>str</td><td>str</td><td>str</td><td>f64</td><td>f64</td><td>str</td><td>str</td><td>str</td><td>str</td><td>str</td><td>f64</td><td>f64</td><td>f64</td><td>f64</td><td>f64</td><td>str</td><td>str</td><td>str</td><td>str</td><td>str</td><td>str</td><td>str</td><td>str</td><td>str</td><td>str</td><td>str</td><td>str</td><td>f64</td><td>str</td><td>f64</td><td>str</td><td>f64</td><td>f64</td><td>f64</td><td>f64</td><td>f64</td><td>str</td><td>str</td></tr></thead><tbody><tr><td>&quot;PID0x6418&quot;</td><td>2.0</td><td>&quot;Yes&quot;</td><td>&quot;No&quot;</td><td>&quot;Yes&quot;</td><td>&quot;No&quot;</td><td>4.760603</td><td>&quot;Richard&quot;</td><td>null</td><td>&quot;Larre&quot;</td><td>null</td><td>null</td><td>&quot;Boston Specialty &amp; Rehabilitat…</td><td>&quot;55 FRUIT ST\n",
       "CENTRAL, MA 02114\n",
       "…</td><td>&quot;Alive&quot;</td><td>&quot;Normal (30-60)&quot;</td><td>&quot;Normal&quot;</td><td>0.0</td><td>null</td><td>null</td><td>1.0</td><td>0.0</td><td>&quot;Yes&quot;</td><td>&quot;High&quot;</td><td>null</td><td>null</td><td>&quot;Not applicable&quot;</td><td>&quot;Institute&quot;</td><td>&quot;No&quot;</td><td>null</td><td>&quot;No&quot;</td><td>&quot;No&quot;</td><td>&quot;No&quot;</td><td>&quot;Yes&quot;</td><td>null</td><td>null</td><td>9.857562</td><td>null</td><td>1.0</td><td>1.0</td><td>1.0</td><td>1.0</td><td>1.0</td><td>&quot;Mitochondrial genetic inherita…</td><td>&quot;Leber&#x27;s hereditary optic neuro…</td></tr><tr><td>&quot;PID0x25d5&quot;</td><td>4.0</td><td>&quot;Yes&quot;</td><td>&quot;Yes&quot;</td><td>&quot;No&quot;</td><td>&quot;No&quot;</td><td>4.910669</td><td>&quot;Mike&quot;</td><td>null</td><td>&quot;Brycen&quot;</td><td>null</td><td>23.0</td><td>&quot;St. Margaret&#x27;s Hospital For Wo…</td><td>&quot;1515 COMMONWEALTH AV\n",
       "ALLSTON/B…</td><td>&quot;Deceased&quot;</td><td>&quot;Tachypnea&quot;</td><td>&quot;Normal&quot;</td><td>null</td><td>0.0</td><td>0.0</td><td>1.0</td><td>0.0</td><td>&quot;Yes&quot;</td><td>&quot;High&quot;</td><td>null</td><td>&quot;No&quot;</td><td>&quot;None&quot;</td><td>null</td><td>&quot;Yes&quot;</td><td>&quot;Yes&quot;</td><td>&quot;Not applicable&quot;</td><td>&quot;Not applicable&quot;</td><td>&quot;No&quot;</td><td>&quot;Yes&quot;</td><td>null</td><td>&quot;Multiple&quot;</td><td>5.52256</td><td>&quot;normal&quot;</td><td>1.0</td><td>null</td><td>1.0</td><td>1.0</td><td>0.0</td><td>null</td><td>&quot;Cystic fibrosis&quot;</td></tr><tr><td>&quot;PID0x4a82&quot;</td><td>6.0</td><td>&quot;Yes&quot;</td><td>&quot;No&quot;</td><td>&quot;No&quot;</td><td>&quot;No&quot;</td><td>4.893297</td><td>&quot;Kimberly&quot;</td><td>null</td><td>&quot;Nashon&quot;</td><td>41.0</td><td>22.0</td><td>null</td><td>&quot;-&quot;</td><td>&quot;Alive&quot;</td><td>&quot;Normal (30-60)&quot;</td><td>&quot;Tachycardia&quot;</td><td>0.0</td><td>0.0</td><td>0.0</td><td>1.0</td><td>0.0</td><td>&quot;Yes&quot;</td><td>&quot;Low&quot;</td><td>null</td><td>&quot;No record&quot;</td><td>&quot;Not applicable&quot;</td><td>null</td><td>&quot;Yes&quot;</td><td>&quot;No&quot;</td><td>&quot;Yes&quot;</td><td>null</td><td>&quot;Yes&quot;</td><td>&quot;Yes&quot;</td><td>4.0</td><td>&quot;Singular&quot;</td><td>null</td><td>&quot;normal&quot;</td><td>0.0</td><td>1.0</td><td>1.0</td><td>1.0</td><td>1.0</td><td>&quot;Multifactorial genetic inherit…</td><td>&quot;Diabetes&quot;</td></tr><tr><td>&quot;PID0x4ac8&quot;</td><td>12.0</td><td>&quot;Yes&quot;</td><td>&quot;No&quot;</td><td>&quot;Yes&quot;</td><td>&quot;No&quot;</td><td>4.70528</td><td>&quot;Jeffery&quot;</td><td>&quot;Hoelscher&quot;</td><td>&quot;Aayaan&quot;</td><td>21.0</td><td>null</td><td>null</td><td>&quot;55 FRUIT ST\n",
       "CENTRAL, MA 02114\n",
       "…</td><td>&quot;Deceased&quot;</td><td>&quot;Tachypnea&quot;</td><td>&quot;Normal&quot;</td><td>0.0</td><td>0.0</td><td>0.0</td><td>1.0</td><td>0.0</td><td>&quot;Yes&quot;</td><td>&quot;High&quot;</td><td>&quot;Male&quot;</td><td>&quot;Not available&quot;</td><td>&quot;No&quot;</td><td>&quot;Institute&quot;</td><td>&quot;No&quot;</td><td>&quot;Yes&quot;</td><td>&quot;-&quot;</td><td>&quot;Not applicable&quot;</td><td>null</td><td>&quot;Yes&quot;</td><td>1.0</td><td>&quot;Singular&quot;</td><td>7.919321</td><td>&quot;inconclusive&quot;</td><td>0.0</td><td>0.0</td><td>1.0</td><td>0.0</td><td>0.0</td><td>&quot;Mitochondrial genetic inherita…</td><td>&quot;Leigh syndrome&quot;</td></tr><tr><td>&quot;PID0x44fe&quot;</td><td>14.0</td><td>&quot;Yes&quot;</td><td>&quot;No&quot;</td><td>&quot;Yes&quot;</td><td>&quot;No&quot;</td><td>5.103188</td><td>&quot;Richard&quot;</td><td>null</td><td>&quot;Coleston&quot;</td><td>null</td><td>null</td><td>&quot;Massachusetts General Hospital&quot;</td><td>&quot;55 FRUIT ST\n",
       "CENTRAL, MA 02114\n",
       "…</td><td>&quot;Deceased&quot;</td><td>null</td><td>&quot;Normal&quot;</td><td>0.0</td><td>0.0</td><td>0.0</td><td>1.0</td><td>0.0</td><td>&quot;Yes&quot;</td><td>&quot;Low&quot;</td><td>&quot;Female&quot;</td><td>&quot;Not available&quot;</td><td>&quot;None&quot;</td><td>&quot;Institute&quot;</td><td>&quot;No&quot;</td><td>&quot;No&quot;</td><td>&quot;No&quot;</td><td>&quot;No&quot;</td><td>null</td><td>&quot;No&quot;</td><td>0.0</td><td>&quot;Multiple&quot;</td><td>10.27223</td><td>&quot;normal&quot;</td><td>1.0</td><td>0.0</td><td>0.0</td><td>1.0</td><td>0.0</td><td>&quot;Single-gene inheritance diseas…</td><td>&quot;Cystic fibrosis&quot;</td></tr><tr><td>&hellip;</td><td>&hellip;</td><td>&hellip;</td><td>&hellip;</td><td>&hellip;</td><td>&hellip;</td><td>&hellip;</td><td>&hellip;</td><td>&hellip;</td><td>&hellip;</td><td>&hellip;</td><td>&hellip;</td><td>&hellip;</td><td>&hellip;</td><td>&hellip;</td><td>&hellip;</td><td>&hellip;</td><td>&hellip;</td><td>&hellip;</td><td>&hellip;</td><td>&hellip;</td><td>&hellip;</td><td>&hellip;</td><td>&hellip;</td><td>&hellip;</td><td>&hellip;</td><td>&hellip;</td><td>&hellip;</td><td>&hellip;</td><td>&hellip;</td><td>&hellip;</td><td>&hellip;</td><td>&hellip;</td><td>&hellip;</td><td>&hellip;</td><td>&hellip;</td><td>&hellip;</td><td>&hellip;</td><td>&hellip;</td><td>&hellip;</td><td>&hellip;</td><td>&hellip;</td><td>&hellip;</td><td>&hellip;</td><td>&hellip;</td></tr><tr><td>&quot;PID0x3656&quot;</td><td>9.0</td><td>&quot;No&quot;</td><td>&quot;Yes&quot;</td><td>&quot;Yes&quot;</td><td>&quot;Yes&quot;</td><td>5.012599</td><td>&quot;Edward&quot;</td><td>&quot;Hurst&quot;</td><td>&quot;Quientin&quot;</td><td>47.0</td><td>null</td><td>&quot;Not applicable&quot;</td><td>&quot;-&quot;</td><td>&quot;Deceased&quot;</td><td>null</td><td>&quot;Normal&quot;</td><td>0.0</td><td>null</td><td>0.0</td><td>1.0</td><td>0.0</td><td>&quot;Yes&quot;</td><td>null</td><td>&quot;Ambiguous&quot;</td><td>&quot;No record&quot;</td><td>&quot;Yes&quot;</td><td>&quot;Home&quot;</td><td>&quot;Yes&quot;</td><td>&quot;No&quot;</td><td>&quot;No&quot;</td><td>&quot;Not applicable&quot;</td><td>&quot;Yes&quot;</td><td>&quot;Yes&quot;</td><td>null</td><td>null</td><td>12.0</td><td>&quot;slightly abnormal&quot;</td><td>null</td><td>1.0</td><td>0.0</td><td>0.0</td><td>0.0</td><td>&quot;Mitochondrial genetic inherita…</td><td>&quot;Leigh syndrome&quot;</td></tr><tr><td>&quot;PID0x5598&quot;</td><td>4.0</td><td>&quot;Yes&quot;</td><td>&quot;Yes&quot;</td><td>&quot;Yes&quot;</td><td>&quot;No&quot;</td><td>5.258298</td><td>&quot;Lynn&quot;</td><td>null</td><td>&quot;Alhassane&quot;</td><td>35.0</td><td>64.0</td><td>&quot;Franciscan Children&#x27;s&nbsp;&nbsp;Hospita…</td><td>&quot;1153 CENTRE ST\n",
       "JAMAICA PLAIN, …</td><td>&quot;Deceased&quot;</td><td>&quot;Normal (30-60)&quot;</td><td>&quot;Tachycardia&quot;</td><td>null</td><td>0.0</td><td>null</td><td>1.0</td><td>0.0</td><td>&quot;Yes&quot;</td><td>&quot;High&quot;</td><td>&quot;Female&quot;</td><td>&quot;No&quot;</td><td>&quot;No&quot;</td><td>&quot;Institute&quot;</td><td>null</td><td>&quot;No&quot;</td><td>&quot;Not applicable&quot;</td><td>&quot;No&quot;</td><td>&quot;Yes&quot;</td><td>&quot;No&quot;</td><td>3.0</td><td>&quot;Multiple&quot;</td><td>6.584811</td><td>&quot;inconclusive&quot;</td><td>0.0</td><td>0.0</td><td>1.0</td><td>0.0</td><td>0.0</td><td>&quot;Mitochondrial genetic inherita…</td><td>&quot;Leigh syndrome&quot;</td></tr><tr><td>&quot;PID0x3c4f&quot;</td><td>8.0</td><td>&quot;Yes&quot;</td><td>&quot;No&quot;</td><td>&quot;Yes&quot;</td><td>&quot;No&quot;</td><td>5.18647</td><td>&quot;John&quot;</td><td>null</td><td>&quot;Cavani&quot;</td><td>35.0</td><td>51.0</td><td>&quot;Not applicable&quot;</td><td>&quot;-&quot;</td><td>&quot;Deceased&quot;</td><td>&quot;Tachypnea&quot;</td><td>&quot;Normal&quot;</td><td>0.0</td><td>0.0</td><td>0.0</td><td>1.0</td><td>null</td><td>&quot;Yes&quot;</td><td>&quot;High&quot;</td><td>&quot;Male&quot;</td><td>&quot;No&quot;</td><td>&quot;None&quot;</td><td>&quot;Home&quot;</td><td>&quot;No&quot;</td><td>&quot;No&quot;</td><td>null</td><td>&quot;No&quot;</td><td>&quot;No&quot;</td><td>&quot;No&quot;</td><td>2.0</td><td>&quot;Singular&quot;</td><td>7.715464</td><td>&quot;normal&quot;</td><td>0.0</td><td>0.0</td><td>0.0</td><td>1.0</td><td>null</td><td>&quot;Mitochondrial genetic inherita…</td><td>&quot;Mitochondrial myopathy&quot;</td></tr><tr><td>&quot;PID0x13a&quot;</td><td>7.0</td><td>&quot;Yes&quot;</td><td>&quot;No&quot;</td><td>&quot;Yes&quot;</td><td>&quot;Yes&quot;</td><td>4.858543</td><td>&quot;Sharon&quot;</td><td>null</td><td>&quot;Bomer&quot;</td><td>19.0</td><td>null</td><td>&quot;Not applicable&quot;</td><td>&quot;-&quot;</td><td>&quot;Alive&quot;</td><td>&quot;Tachypnea&quot;</td><td>&quot;Tachycardia&quot;</td><td>0.0</td><td>0.0</td><td>0.0</td><td>1.0</td><td>0.0</td><td>&quot;Yes&quot;</td><td>&quot;High&quot;</td><td>&quot;Male&quot;</td><td>&quot;No record&quot;</td><td>&quot;Not applicable&quot;</td><td>&quot;Home&quot;</td><td>&quot;Yes&quot;</td><td>&quot;Yes&quot;</td><td>&quot;-&quot;</td><td>&quot;Yes&quot;</td><td>&quot;Yes&quot;</td><td>&quot;No&quot;</td><td>1.0</td><td>&quot;Multiple&quot;</td><td>8.43767</td><td>&quot;abnormal&quot;</td><td>1.0</td><td>1.0</td><td>1.0</td><td>0.0</td><td>0.0</td><td>null</td><td>&quot;Leigh syndrome&quot;</td></tr><tr><td>&quot;PID0x9332&quot;</td><td>11.0</td><td>&quot;Yes&quot;</td><td>&quot;No&quot;</td><td>&quot;No&quot;</td><td>&quot;No&quot;</td><td>4.738067</td><td>&quot;Andrew&quot;</td><td>&quot;Mose&quot;</td><td>&quot;Eban&quot;</td><td>32.0</td><td>62.0</td><td>&quot;Hebrew Rehabilitation Center&quot;</td><td>&quot;300 LONGWOOD AV\n",
       "FENWAY/KENMORE…</td><td>&quot;Deceased&quot;</td><td>&quot;Normal (30-60)&quot;</td><td>&quot;Normal&quot;</td><td>0.0</td><td>0.0</td><td>0.0</td><td>1.0</td><td>0.0</td><td>&quot;Yes&quot;</td><td>&quot;High&quot;</td><td>&quot;Female&quot;</td><td>&quot;Yes&quot;</td><td>&quot;None&quot;</td><td>&quot;Institute&quot;</td><td>&quot;Yes&quot;</td><td>&quot;Yes&quot;</td><td>&quot;Not applicable&quot;</td><td>&quot;No&quot;</td><td>&quot;Yes&quot;</td><td>&quot;Yes&quot;</td><td>4.0</td><td>&quot;Singular&quot;</td><td>11.188371</td><td>&quot;normal&quot;</td><td>1.0</td><td>0.0</td><td>1.0</td><td>1.0</td><td>1.0</td><td>&quot;Multifactorial genetic inherit…</td><td>&quot;Diabetes&quot;</td></tr></tbody></table></div>"
      ],
      "text/plain": [
       "shape: (19_958, 45)\n",
       "┌───────────┬───────────┬───────────┬───────────┬───┬───────────┬───────────┬───────────┬──────────┐\n",
       "│ Patient   ┆ Patient   ┆ Genes in  ┆ Inherited ┆ … ┆ Symptom 4 ┆ Symptom 5 ┆ Genetic   ┆ Disorder │\n",
       "│ Id        ┆ Age       ┆ mother's  ┆ from      ┆   ┆ ---       ┆ ---       ┆ Disorder  ┆ Subclass │\n",
       "│ ---       ┆ ---       ┆ side      ┆ father    ┆   ┆ f64       ┆ f64       ┆ ---       ┆ ---      │\n",
       "│ str       ┆ f64       ┆ ---       ┆ ---       ┆   ┆           ┆           ┆ str       ┆ str      │\n",
       "│           ┆           ┆ str       ┆ str       ┆   ┆           ┆           ┆           ┆          │\n",
       "╞═══════════╪═══════════╪═══════════╪═══════════╪═══╪═══════════╪═══════════╪═══════════╪══════════╡\n",
       "│ PID0x6418 ┆ 2.0       ┆ Yes       ┆ No        ┆ … ┆ 1.0       ┆ 1.0       ┆ Mitochond ┆ Leber's  │\n",
       "│           ┆           ┆           ┆           ┆   ┆           ┆           ┆ rial      ┆ heredita │\n",
       "│           ┆           ┆           ┆           ┆   ┆           ┆           ┆ genetic   ┆ ry optic │\n",
       "│           ┆           ┆           ┆           ┆   ┆           ┆           ┆ inherita… ┆ neuro…   │\n",
       "│ PID0x25d5 ┆ 4.0       ┆ Yes       ┆ Yes       ┆ … ┆ 1.0       ┆ 0.0       ┆ null      ┆ Cystic   │\n",
       "│           ┆           ┆           ┆           ┆   ┆           ┆           ┆           ┆ fibrosis │\n",
       "│ PID0x4a82 ┆ 6.0       ┆ Yes       ┆ No        ┆ … ┆ 1.0       ┆ 1.0       ┆ Multifact ┆ Diabetes │\n",
       "│           ┆           ┆           ┆           ┆   ┆           ┆           ┆ orial     ┆          │\n",
       "│           ┆           ┆           ┆           ┆   ┆           ┆           ┆ genetic   ┆          │\n",
       "│           ┆           ┆           ┆           ┆   ┆           ┆           ┆ inherit…  ┆          │\n",
       "│ PID0x4ac8 ┆ 12.0      ┆ Yes       ┆ No        ┆ … ┆ 0.0       ┆ 0.0       ┆ Mitochond ┆ Leigh    │\n",
       "│           ┆           ┆           ┆           ┆   ┆           ┆           ┆ rial      ┆ syndrome │\n",
       "│           ┆           ┆           ┆           ┆   ┆           ┆           ┆ genetic   ┆          │\n",
       "│           ┆           ┆           ┆           ┆   ┆           ┆           ┆ inherita… ┆          │\n",
       "│ PID0x44fe ┆ 14.0      ┆ Yes       ┆ No        ┆ … ┆ 1.0       ┆ 0.0       ┆ Single-ge ┆ Cystic   │\n",
       "│           ┆           ┆           ┆           ┆   ┆           ┆           ┆ ne inheri ┆ fibrosis │\n",
       "│           ┆           ┆           ┆           ┆   ┆           ┆           ┆ tance     ┆          │\n",
       "│           ┆           ┆           ┆           ┆   ┆           ┆           ┆ diseas…   ┆          │\n",
       "│ …         ┆ …         ┆ …         ┆ …         ┆ … ┆ …         ┆ …         ┆ …         ┆ …        │\n",
       "│ PID0x3656 ┆ 9.0       ┆ No        ┆ Yes       ┆ … ┆ 0.0       ┆ 0.0       ┆ Mitochond ┆ Leigh    │\n",
       "│           ┆           ┆           ┆           ┆   ┆           ┆           ┆ rial      ┆ syndrome │\n",
       "│           ┆           ┆           ┆           ┆   ┆           ┆           ┆ genetic   ┆          │\n",
       "│           ┆           ┆           ┆           ┆   ┆           ┆           ┆ inherita… ┆          │\n",
       "│ PID0x5598 ┆ 4.0       ┆ Yes       ┆ Yes       ┆ … ┆ 0.0       ┆ 0.0       ┆ Mitochond ┆ Leigh    │\n",
       "│           ┆           ┆           ┆           ┆   ┆           ┆           ┆ rial      ┆ syndrome │\n",
       "│           ┆           ┆           ┆           ┆   ┆           ┆           ┆ genetic   ┆          │\n",
       "│           ┆           ┆           ┆           ┆   ┆           ┆           ┆ inherita… ┆          │\n",
       "│ PID0x3c4f ┆ 8.0       ┆ Yes       ┆ No        ┆ … ┆ 1.0       ┆ null      ┆ Mitochond ┆ Mitochon │\n",
       "│           ┆           ┆           ┆           ┆   ┆           ┆           ┆ rial      ┆ drial    │\n",
       "│           ┆           ┆           ┆           ┆   ┆           ┆           ┆ genetic   ┆ myopathy │\n",
       "│           ┆           ┆           ┆           ┆   ┆           ┆           ┆ inherita… ┆          │\n",
       "│ PID0x13a  ┆ 7.0       ┆ Yes       ┆ No        ┆ … ┆ 0.0       ┆ 0.0       ┆ null      ┆ Leigh    │\n",
       "│           ┆           ┆           ┆           ┆   ┆           ┆           ┆           ┆ syndrome │\n",
       "│ PID0x9332 ┆ 11.0      ┆ Yes       ┆ No        ┆ … ┆ 1.0       ┆ 1.0       ┆ Multifact ┆ Diabetes │\n",
       "│           ┆           ┆           ┆           ┆   ┆           ┆           ┆ orial     ┆          │\n",
       "│           ┆           ┆           ┆           ┆   ┆           ┆           ┆ genetic   ┆          │\n",
       "│           ┆           ┆           ┆           ┆   ┆           ┆           ┆ inherit…  ┆          │\n",
       "└───────────┴───────────┴───────────┴───────────┴───┴───────────┴───────────┴───────────┴──────────┘"
      ]
     },
     "execution_count": 17,
     "metadata": {},
     "output_type": "execute_result"
    }
   ],
   "source": [
    "df_datos.drop_nulls(subset=[\"Parental consent\"])"
   ]
  },
  {
   "cell_type": "code",
   "execution_count": 18,
   "id": "259873a0",
   "metadata": {},
   "outputs": [
    {
     "data": {
      "text/html": [
       "<div><style>\n",
       ".dataframe > thead > tr,\n",
       ".dataframe > tbody > tr {\n",
       "  text-align: right;\n",
       "  white-space: pre-wrap;\n",
       "}\n",
       "</style>\n",
       "<small>shape: (18_118, 45)</small><table border=\"1\" class=\"dataframe\"><thead><tr><th>Patient Id</th><th>Patient Age</th><th>Genes in mother&#x27;s side</th><th>Inherited from father</th><th>Maternal gene</th><th>Paternal gene</th><th>Blood cell count (mcL)</th><th>Patient First Name</th><th>Family Name</th><th>Father&#x27;s name</th><th>Mother&#x27;s age</th><th>Father&#x27;s age</th><th>Institute Name</th><th>Location of Institute</th><th>Status</th><th>Respiratory Rate (breaths/min)</th><th>Heart Rate (rates/min</th><th>Test 1</th><th>Test 2</th><th>Test 3</th><th>Test 4</th><th>Test 5</th><th>Parental consent</th><th>Follow-up</th><th>Gender</th><th>Birth asphyxia</th><th>Autopsy shows birth defect (if applicable)</th><th>Place of birth</th><th>Folic acid details (peri-conceptional)</th><th>H/O serious maternal illness</th><th>H/O radiation exposure (x-ray)</th><th>H/O substance abuse</th><th>Assisted conception IVF/ART</th><th>History of anomalies in previous pregnancies</th><th>No. of previous abortion</th><th>Birth defects</th><th>White Blood cell count (thousand per microliter)</th><th>Blood test result</th><th>Symptom 1</th><th>Symptom 2</th><th>Symptom 3</th><th>Symptom 4</th><th>Symptom 5</th><th>Genetic Disorder</th><th>Disorder Subclass</th></tr><tr><td>str</td><td>f64</td><td>str</td><td>str</td><td>str</td><td>str</td><td>f64</td><td>str</td><td>str</td><td>str</td><td>f64</td><td>f64</td><td>str</td><td>str</td><td>str</td><td>str</td><td>str</td><td>f64</td><td>f64</td><td>f64</td><td>f64</td><td>f64</td><td>str</td><td>str</td><td>str</td><td>str</td><td>str</td><td>str</td><td>str</td><td>str</td><td>str</td><td>str</td><td>str</td><td>str</td><td>f64</td><td>str</td><td>f64</td><td>str</td><td>f64</td><td>f64</td><td>f64</td><td>f64</td><td>f64</td><td>str</td><td>str</td></tr></thead><tbody><tr><td>&quot;PID0x6418&quot;</td><td>2.0</td><td>&quot;Yes&quot;</td><td>&quot;No&quot;</td><td>&quot;Yes&quot;</td><td>&quot;No&quot;</td><td>4.760603</td><td>&quot;Richard&quot;</td><td>null</td><td>&quot;Larre&quot;</td><td>null</td><td>null</td><td>&quot;Boston Specialty &amp; Rehabilitat…</td><td>&quot;55 FRUIT ST\n",
       "CENTRAL, MA 02114\n",
       "…</td><td>&quot;Alive&quot;</td><td>&quot;Normal (30-60)&quot;</td><td>&quot;Normal&quot;</td><td>0.0</td><td>null</td><td>null</td><td>1.0</td><td>0.0</td><td>&quot;Yes&quot;</td><td>&quot;High&quot;</td><td>null</td><td>null</td><td>&quot;Not applicable&quot;</td><td>&quot;Institute&quot;</td><td>&quot;No&quot;</td><td>null</td><td>&quot;No&quot;</td><td>&quot;No&quot;</td><td>&quot;No&quot;</td><td>&quot;Yes&quot;</td><td>null</td><td>null</td><td>9.857562</td><td>null</td><td>1.0</td><td>1.0</td><td>1.0</td><td>1.0</td><td>1.0</td><td>&quot;Mitochondrial genetic inherita…</td><td>&quot;Leber&#x27;s hereditary optic neuro…</td></tr><tr><td>&quot;PID0x4a82&quot;</td><td>6.0</td><td>&quot;Yes&quot;</td><td>&quot;No&quot;</td><td>&quot;No&quot;</td><td>&quot;No&quot;</td><td>4.893297</td><td>&quot;Kimberly&quot;</td><td>null</td><td>&quot;Nashon&quot;</td><td>41.0</td><td>22.0</td><td>null</td><td>&quot;-&quot;</td><td>&quot;Alive&quot;</td><td>&quot;Normal (30-60)&quot;</td><td>&quot;Tachycardia&quot;</td><td>0.0</td><td>0.0</td><td>0.0</td><td>1.0</td><td>0.0</td><td>&quot;Yes&quot;</td><td>&quot;Low&quot;</td><td>null</td><td>&quot;No record&quot;</td><td>&quot;Not applicable&quot;</td><td>null</td><td>&quot;Yes&quot;</td><td>&quot;No&quot;</td><td>&quot;Yes&quot;</td><td>null</td><td>&quot;Yes&quot;</td><td>&quot;Yes&quot;</td><td>4.0</td><td>&quot;Singular&quot;</td><td>null</td><td>&quot;normal&quot;</td><td>0.0</td><td>1.0</td><td>1.0</td><td>1.0</td><td>1.0</td><td>&quot;Multifactorial genetic inherit…</td><td>&quot;Diabetes&quot;</td></tr><tr><td>&quot;PID0x4ac8&quot;</td><td>12.0</td><td>&quot;Yes&quot;</td><td>&quot;No&quot;</td><td>&quot;Yes&quot;</td><td>&quot;No&quot;</td><td>4.70528</td><td>&quot;Jeffery&quot;</td><td>&quot;Hoelscher&quot;</td><td>&quot;Aayaan&quot;</td><td>21.0</td><td>null</td><td>null</td><td>&quot;55 FRUIT ST\n",
       "CENTRAL, MA 02114\n",
       "…</td><td>&quot;Deceased&quot;</td><td>&quot;Tachypnea&quot;</td><td>&quot;Normal&quot;</td><td>0.0</td><td>0.0</td><td>0.0</td><td>1.0</td><td>0.0</td><td>&quot;Yes&quot;</td><td>&quot;High&quot;</td><td>&quot;Male&quot;</td><td>&quot;Not available&quot;</td><td>&quot;No&quot;</td><td>&quot;Institute&quot;</td><td>&quot;No&quot;</td><td>&quot;Yes&quot;</td><td>&quot;-&quot;</td><td>&quot;Not applicable&quot;</td><td>null</td><td>&quot;Yes&quot;</td><td>1.0</td><td>&quot;Singular&quot;</td><td>7.919321</td><td>&quot;inconclusive&quot;</td><td>0.0</td><td>0.0</td><td>1.0</td><td>0.0</td><td>0.0</td><td>&quot;Mitochondrial genetic inherita…</td><td>&quot;Leigh syndrome&quot;</td></tr><tr><td>&quot;PID0x44fe&quot;</td><td>14.0</td><td>&quot;Yes&quot;</td><td>&quot;No&quot;</td><td>&quot;Yes&quot;</td><td>&quot;No&quot;</td><td>5.103188</td><td>&quot;Richard&quot;</td><td>null</td><td>&quot;Coleston&quot;</td><td>null</td><td>null</td><td>&quot;Massachusetts General Hospital&quot;</td><td>&quot;55 FRUIT ST\n",
       "CENTRAL, MA 02114\n",
       "…</td><td>&quot;Deceased&quot;</td><td>null</td><td>&quot;Normal&quot;</td><td>0.0</td><td>0.0</td><td>0.0</td><td>1.0</td><td>0.0</td><td>&quot;Yes&quot;</td><td>&quot;Low&quot;</td><td>&quot;Female&quot;</td><td>&quot;Not available&quot;</td><td>&quot;None&quot;</td><td>&quot;Institute&quot;</td><td>&quot;No&quot;</td><td>&quot;No&quot;</td><td>&quot;No&quot;</td><td>&quot;No&quot;</td><td>null</td><td>&quot;No&quot;</td><td>0.0</td><td>&quot;Multiple&quot;</td><td>10.27223</td><td>&quot;normal&quot;</td><td>1.0</td><td>0.0</td><td>0.0</td><td>1.0</td><td>0.0</td><td>&quot;Single-gene inheritance diseas…</td><td>&quot;Cystic fibrosis&quot;</td></tr><tr><td>&quot;PID0x4f8f&quot;</td><td>3.0</td><td>&quot;No&quot;</td><td>&quot;No&quot;</td><td>&quot;Yes&quot;</td><td>&quot;Yes&quot;</td><td>4.964816</td><td>&quot;Emma&quot;</td><td>&quot;Bryant&quot;</td><td>&quot;Keng&quot;</td><td>40.0</td><td>null</td><td>&quot;Not applicable&quot;</td><td>&quot;-&quot;</td><td>&quot;Alive&quot;</td><td>&quot;Tachypnea&quot;</td><td>&quot;Normal&quot;</td><td>0.0</td><td>0.0</td><td>null</td><td>1.0</td><td>0.0</td><td>&quot;Yes&quot;</td><td>&quot;Low&quot;</td><td>null</td><td>&quot;No record&quot;</td><td>&quot;Not applicable&quot;</td><td>&quot;Home&quot;</td><td>&quot;Yes&quot;</td><td>&quot;Yes&quot;</td><td>&quot;No&quot;</td><td>&quot;-&quot;</td><td>&quot;No&quot;</td><td>&quot;Yes&quot;</td><td>1.0</td><td>&quot;Singular&quot;</td><td>9.836352</td><td>&quot;inconclusive&quot;</td><td>0.0</td><td>0.0</td><td>1.0</td><td>null</td><td>0.0</td><td>&quot;Single-gene inheritance diseas…</td><td>&quot;Tay-Sachs&quot;</td></tr><tr><td>&hellip;</td><td>&hellip;</td><td>&hellip;</td><td>&hellip;</td><td>&hellip;</td><td>&hellip;</td><td>&hellip;</td><td>&hellip;</td><td>&hellip;</td><td>&hellip;</td><td>&hellip;</td><td>&hellip;</td><td>&hellip;</td><td>&hellip;</td><td>&hellip;</td><td>&hellip;</td><td>&hellip;</td><td>&hellip;</td><td>&hellip;</td><td>&hellip;</td><td>&hellip;</td><td>&hellip;</td><td>&hellip;</td><td>&hellip;</td><td>&hellip;</td><td>&hellip;</td><td>&hellip;</td><td>&hellip;</td><td>&hellip;</td><td>&hellip;</td><td>&hellip;</td><td>&hellip;</td><td>&hellip;</td><td>&hellip;</td><td>&hellip;</td><td>&hellip;</td><td>&hellip;</td><td>&hellip;</td><td>&hellip;</td><td>&hellip;</td><td>&hellip;</td><td>&hellip;</td><td>&hellip;</td><td>&hellip;</td><td>&hellip;</td></tr><tr><td>&quot;PID0x26b4&quot;</td><td>0.0</td><td>&quot;Yes&quot;</td><td>&quot;No&quot;</td><td>&quot;Yes&quot;</td><td>&quot;No&quot;</td><td>4.931758</td><td>&quot;Samuel&quot;</td><td>null</td><td>&quot;Kiril&quot;</td><td>null</td><td>50.0</td><td>&quot;Lemuel Shattuck Hospital&quot;</td><td>&quot;88 EAST NEWTON ST\n",
       "SOUTH END, M…</td><td>&quot;Alive&quot;</td><td>&quot;Normal (30-60)&quot;</td><td>&quot;Tachycardia&quot;</td><td>0.0</td><td>0.0</td><td>0.0</td><td>1.0</td><td>0.0</td><td>&quot;Yes&quot;</td><td>&quot;Low&quot;</td><td>&quot;Female&quot;</td><td>&quot;No record&quot;</td><td>&quot;Not applicable&quot;</td><td>&quot;Institute&quot;</td><td>&quot;No&quot;</td><td>&quot;No&quot;</td><td>&quot;Not applicable&quot;</td><td>&quot;No&quot;</td><td>&quot;Yes&quot;</td><td>&quot;Yes&quot;</td><td>1.0</td><td>&quot;Singular&quot;</td><td>11.649052</td><td>&quot;abnormal&quot;</td><td>1.0</td><td>1.0</td><td>0.0</td><td>1.0</td><td>0.0</td><td>&quot;Mitochondrial genetic inherita…</td><td>&quot;Leigh syndrome&quot;</td></tr><tr><td>&quot;PID0x3656&quot;</td><td>9.0</td><td>&quot;No&quot;</td><td>&quot;Yes&quot;</td><td>&quot;Yes&quot;</td><td>&quot;Yes&quot;</td><td>5.012599</td><td>&quot;Edward&quot;</td><td>&quot;Hurst&quot;</td><td>&quot;Quientin&quot;</td><td>47.0</td><td>null</td><td>&quot;Not applicable&quot;</td><td>&quot;-&quot;</td><td>&quot;Deceased&quot;</td><td>null</td><td>&quot;Normal&quot;</td><td>0.0</td><td>null</td><td>0.0</td><td>1.0</td><td>0.0</td><td>&quot;Yes&quot;</td><td>null</td><td>&quot;Ambiguous&quot;</td><td>&quot;No record&quot;</td><td>&quot;Yes&quot;</td><td>&quot;Home&quot;</td><td>&quot;Yes&quot;</td><td>&quot;No&quot;</td><td>&quot;No&quot;</td><td>&quot;Not applicable&quot;</td><td>&quot;Yes&quot;</td><td>&quot;Yes&quot;</td><td>null</td><td>null</td><td>12.0</td><td>&quot;slightly abnormal&quot;</td><td>null</td><td>1.0</td><td>0.0</td><td>0.0</td><td>0.0</td><td>&quot;Mitochondrial genetic inherita…</td><td>&quot;Leigh syndrome&quot;</td></tr><tr><td>&quot;PID0x5598&quot;</td><td>4.0</td><td>&quot;Yes&quot;</td><td>&quot;Yes&quot;</td><td>&quot;Yes&quot;</td><td>&quot;No&quot;</td><td>5.258298</td><td>&quot;Lynn&quot;</td><td>null</td><td>&quot;Alhassane&quot;</td><td>35.0</td><td>64.0</td><td>&quot;Franciscan Children&#x27;s&nbsp;&nbsp;Hospita…</td><td>&quot;1153 CENTRE ST\n",
       "JAMAICA PLAIN, …</td><td>&quot;Deceased&quot;</td><td>&quot;Normal (30-60)&quot;</td><td>&quot;Tachycardia&quot;</td><td>null</td><td>0.0</td><td>null</td><td>1.0</td><td>0.0</td><td>&quot;Yes&quot;</td><td>&quot;High&quot;</td><td>&quot;Female&quot;</td><td>&quot;No&quot;</td><td>&quot;No&quot;</td><td>&quot;Institute&quot;</td><td>null</td><td>&quot;No&quot;</td><td>&quot;Not applicable&quot;</td><td>&quot;No&quot;</td><td>&quot;Yes&quot;</td><td>&quot;No&quot;</td><td>3.0</td><td>&quot;Multiple&quot;</td><td>6.584811</td><td>&quot;inconclusive&quot;</td><td>0.0</td><td>0.0</td><td>1.0</td><td>0.0</td><td>0.0</td><td>&quot;Mitochondrial genetic inherita…</td><td>&quot;Leigh syndrome&quot;</td></tr><tr><td>&quot;PID0x3c4f&quot;</td><td>8.0</td><td>&quot;Yes&quot;</td><td>&quot;No&quot;</td><td>&quot;Yes&quot;</td><td>&quot;No&quot;</td><td>5.18647</td><td>&quot;John&quot;</td><td>null</td><td>&quot;Cavani&quot;</td><td>35.0</td><td>51.0</td><td>&quot;Not applicable&quot;</td><td>&quot;-&quot;</td><td>&quot;Deceased&quot;</td><td>&quot;Tachypnea&quot;</td><td>&quot;Normal&quot;</td><td>0.0</td><td>0.0</td><td>0.0</td><td>1.0</td><td>null</td><td>&quot;Yes&quot;</td><td>&quot;High&quot;</td><td>&quot;Male&quot;</td><td>&quot;No&quot;</td><td>&quot;None&quot;</td><td>&quot;Home&quot;</td><td>&quot;No&quot;</td><td>&quot;No&quot;</td><td>null</td><td>&quot;No&quot;</td><td>&quot;No&quot;</td><td>&quot;No&quot;</td><td>2.0</td><td>&quot;Singular&quot;</td><td>7.715464</td><td>&quot;normal&quot;</td><td>0.0</td><td>0.0</td><td>0.0</td><td>1.0</td><td>null</td><td>&quot;Mitochondrial genetic inherita…</td><td>&quot;Mitochondrial myopathy&quot;</td></tr><tr><td>&quot;PID0x9332&quot;</td><td>11.0</td><td>&quot;Yes&quot;</td><td>&quot;No&quot;</td><td>&quot;No&quot;</td><td>&quot;No&quot;</td><td>4.738067</td><td>&quot;Andrew&quot;</td><td>&quot;Mose&quot;</td><td>&quot;Eban&quot;</td><td>32.0</td><td>62.0</td><td>&quot;Hebrew Rehabilitation Center&quot;</td><td>&quot;300 LONGWOOD AV\n",
       "FENWAY/KENMORE…</td><td>&quot;Deceased&quot;</td><td>&quot;Normal (30-60)&quot;</td><td>&quot;Normal&quot;</td><td>0.0</td><td>0.0</td><td>0.0</td><td>1.0</td><td>0.0</td><td>&quot;Yes&quot;</td><td>&quot;High&quot;</td><td>&quot;Female&quot;</td><td>&quot;Yes&quot;</td><td>&quot;None&quot;</td><td>&quot;Institute&quot;</td><td>&quot;Yes&quot;</td><td>&quot;Yes&quot;</td><td>&quot;Not applicable&quot;</td><td>&quot;No&quot;</td><td>&quot;Yes&quot;</td><td>&quot;Yes&quot;</td><td>4.0</td><td>&quot;Singular&quot;</td><td>11.188371</td><td>&quot;normal&quot;</td><td>1.0</td><td>0.0</td><td>1.0</td><td>1.0</td><td>1.0</td><td>&quot;Multifactorial genetic inherit…</td><td>&quot;Diabetes&quot;</td></tr></tbody></table></div>"
      ],
      "text/plain": [
       "shape: (18_118, 45)\n",
       "┌───────────┬───────────┬───────────┬───────────┬───┬───────────┬───────────┬───────────┬──────────┐\n",
       "│ Patient   ┆ Patient   ┆ Genes in  ┆ Inherited ┆ … ┆ Symptom 4 ┆ Symptom 5 ┆ Genetic   ┆ Disorder │\n",
       "│ Id        ┆ Age       ┆ mother's  ┆ from      ┆   ┆ ---       ┆ ---       ┆ Disorder  ┆ Subclass │\n",
       "│ ---       ┆ ---       ┆ side      ┆ father    ┆   ┆ f64       ┆ f64       ┆ ---       ┆ ---      │\n",
       "│ str       ┆ f64       ┆ ---       ┆ ---       ┆   ┆           ┆           ┆ str       ┆ str      │\n",
       "│           ┆           ┆ str       ┆ str       ┆   ┆           ┆           ┆           ┆          │\n",
       "╞═══════════╪═══════════╪═══════════╪═══════════╪═══╪═══════════╪═══════════╪═══════════╪══════════╡\n",
       "│ PID0x6418 ┆ 2.0       ┆ Yes       ┆ No        ┆ … ┆ 1.0       ┆ 1.0       ┆ Mitochond ┆ Leber's  │\n",
       "│           ┆           ┆           ┆           ┆   ┆           ┆           ┆ rial      ┆ heredita │\n",
       "│           ┆           ┆           ┆           ┆   ┆           ┆           ┆ genetic   ┆ ry optic │\n",
       "│           ┆           ┆           ┆           ┆   ┆           ┆           ┆ inherita… ┆ neuro…   │\n",
       "│ PID0x4a82 ┆ 6.0       ┆ Yes       ┆ No        ┆ … ┆ 1.0       ┆ 1.0       ┆ Multifact ┆ Diabetes │\n",
       "│           ┆           ┆           ┆           ┆   ┆           ┆           ┆ orial     ┆          │\n",
       "│           ┆           ┆           ┆           ┆   ┆           ┆           ┆ genetic   ┆          │\n",
       "│           ┆           ┆           ┆           ┆   ┆           ┆           ┆ inherit…  ┆          │\n",
       "│ PID0x4ac8 ┆ 12.0      ┆ Yes       ┆ No        ┆ … ┆ 0.0       ┆ 0.0       ┆ Mitochond ┆ Leigh    │\n",
       "│           ┆           ┆           ┆           ┆   ┆           ┆           ┆ rial      ┆ syndrome │\n",
       "│           ┆           ┆           ┆           ┆   ┆           ┆           ┆ genetic   ┆          │\n",
       "│           ┆           ┆           ┆           ┆   ┆           ┆           ┆ inherita… ┆          │\n",
       "│ PID0x44fe ┆ 14.0      ┆ Yes       ┆ No        ┆ … ┆ 1.0       ┆ 0.0       ┆ Single-ge ┆ Cystic   │\n",
       "│           ┆           ┆           ┆           ┆   ┆           ┆           ┆ ne inheri ┆ fibrosis │\n",
       "│           ┆           ┆           ┆           ┆   ┆           ┆           ┆ tance     ┆          │\n",
       "│           ┆           ┆           ┆           ┆   ┆           ┆           ┆ diseas…   ┆          │\n",
       "│ PID0x4f8f ┆ 3.0       ┆ No        ┆ No        ┆ … ┆ null      ┆ 0.0       ┆ Single-ge ┆ Tay-Sach │\n",
       "│           ┆           ┆           ┆           ┆   ┆           ┆           ┆ ne inheri ┆ s        │\n",
       "│           ┆           ┆           ┆           ┆   ┆           ┆           ┆ tance     ┆          │\n",
       "│           ┆           ┆           ┆           ┆   ┆           ┆           ┆ diseas…   ┆          │\n",
       "│ …         ┆ …         ┆ …         ┆ …         ┆ … ┆ …         ┆ …         ┆ …         ┆ …        │\n",
       "│ PID0x26b4 ┆ 0.0       ┆ Yes       ┆ No        ┆ … ┆ 1.0       ┆ 0.0       ┆ Mitochond ┆ Leigh    │\n",
       "│           ┆           ┆           ┆           ┆   ┆           ┆           ┆ rial      ┆ syndrome │\n",
       "│           ┆           ┆           ┆           ┆   ┆           ┆           ┆ genetic   ┆          │\n",
       "│           ┆           ┆           ┆           ┆   ┆           ┆           ┆ inherita… ┆          │\n",
       "│ PID0x3656 ┆ 9.0       ┆ No        ┆ Yes       ┆ … ┆ 0.0       ┆ 0.0       ┆ Mitochond ┆ Leigh    │\n",
       "│           ┆           ┆           ┆           ┆   ┆           ┆           ┆ rial      ┆ syndrome │\n",
       "│           ┆           ┆           ┆           ┆   ┆           ┆           ┆ genetic   ┆          │\n",
       "│           ┆           ┆           ┆           ┆   ┆           ┆           ┆ inherita… ┆          │\n",
       "│ PID0x5598 ┆ 4.0       ┆ Yes       ┆ Yes       ┆ … ┆ 0.0       ┆ 0.0       ┆ Mitochond ┆ Leigh    │\n",
       "│           ┆           ┆           ┆           ┆   ┆           ┆           ┆ rial      ┆ syndrome │\n",
       "│           ┆           ┆           ┆           ┆   ┆           ┆           ┆ genetic   ┆          │\n",
       "│           ┆           ┆           ┆           ┆   ┆           ┆           ┆ inherita… ┆          │\n",
       "│ PID0x3c4f ┆ 8.0       ┆ Yes       ┆ No        ┆ … ┆ 1.0       ┆ null      ┆ Mitochond ┆ Mitochon │\n",
       "│           ┆           ┆           ┆           ┆   ┆           ┆           ┆ rial      ┆ drial    │\n",
       "│           ┆           ┆           ┆           ┆   ┆           ┆           ┆ genetic   ┆ myopathy │\n",
       "│           ┆           ┆           ┆           ┆   ┆           ┆           ┆ inherita… ┆          │\n",
       "│ PID0x9332 ┆ 11.0      ┆ Yes       ┆ No        ┆ … ┆ 1.0       ┆ 1.0       ┆ Multifact ┆ Diabetes │\n",
       "│           ┆           ┆           ┆           ┆   ┆           ┆           ┆ orial     ┆          │\n",
       "│           ┆           ┆           ┆           ┆   ┆           ┆           ┆ genetic   ┆          │\n",
       "│           ┆           ┆           ┆           ┆   ┆           ┆           ┆ inherit…  ┆          │\n",
       "└───────────┴───────────┴───────────┴───────────┴───┴───────────┴───────────┴───────────┴──────────┘"
      ]
     },
     "execution_count": 18,
     "metadata": {},
     "output_type": "execute_result"
    }
   ],
   "source": [
    "df_datos.drop_nulls(subset=[\"Parental consent\",\"Genetic Disorder\"])"
   ]
  },
  {
   "cell_type": "code",
   "execution_count": 19,
   "id": "a97ab98f",
   "metadata": {},
   "outputs": [
    {
     "data": {
      "text/html": [
       "<div><style>\n",
       ".dataframe > thead > tr,\n",
       ".dataframe > tbody > tr {\n",
       "  text-align: right;\n",
       "  white-space: pre-wrap;\n",
       "}\n",
       "</style>\n",
       "<small>shape: (1_427, 45)</small><table border=\"1\" class=\"dataframe\"><thead><tr><th>Patient Id</th><th>Patient Age</th><th>Genes in mother&#x27;s side</th><th>Inherited from father</th><th>Maternal gene</th><th>Paternal gene</th><th>Blood cell count (mcL)</th><th>Patient First Name</th><th>Family Name</th><th>Father&#x27;s name</th><th>Mother&#x27;s age</th><th>Father&#x27;s age</th><th>Institute Name</th><th>Location of Institute</th><th>Status</th><th>Respiratory Rate (breaths/min)</th><th>Heart Rate (rates/min</th><th>Test 1</th><th>Test 2</th><th>Test 3</th><th>Test 4</th><th>Test 5</th><th>Parental consent</th><th>Follow-up</th><th>Gender</th><th>Birth asphyxia</th><th>Autopsy shows birth defect (if applicable)</th><th>Place of birth</th><th>Folic acid details (peri-conceptional)</th><th>H/O serious maternal illness</th><th>H/O radiation exposure (x-ray)</th><th>H/O substance abuse</th><th>Assisted conception IVF/ART</th><th>History of anomalies in previous pregnancies</th><th>No. of previous abortion</th><th>Birth defects</th><th>White Blood cell count (thousand per microliter)</th><th>Blood test result</th><th>Symptom 1</th><th>Symptom 2</th><th>Symptom 3</th><th>Symptom 4</th><th>Symptom 5</th><th>Genetic Disorder</th><th>Disorder Subclass</th></tr><tr><td>str</td><td>f64</td><td>str</td><td>str</td><td>str</td><td>str</td><td>f64</td><td>str</td><td>str</td><td>str</td><td>f64</td><td>f64</td><td>str</td><td>str</td><td>str</td><td>str</td><td>str</td><td>f64</td><td>f64</td><td>f64</td><td>f64</td><td>f64</td><td>str</td><td>str</td><td>str</td><td>str</td><td>str</td><td>str</td><td>str</td><td>str</td><td>str</td><td>str</td><td>str</td><td>str</td><td>f64</td><td>str</td><td>f64</td><td>str</td><td>f64</td><td>f64</td><td>f64</td><td>f64</td><td>f64</td><td>str</td><td>str</td></tr></thead><tbody><tr><td>&quot;PID0x5240&quot;</td><td>null</td><td>&quot;No&quot;</td><td>&quot;No&quot;</td><td>&quot;No&quot;</td><td>&quot;No&quot;</td><td>4.952457</td><td>&quot;Rose&quot;</td><td>null</td><td>&quot;Markos&quot;</td><td>24.0</td><td>24.0</td><td>null</td><td>&quot;-&quot;</td><td>&quot;Deceased&quot;</td><td>&quot;Tachypnea&quot;</td><td>&quot;Normal&quot;</td><td>0.0</td><td>0.0</td><td>0.0</td><td>1.0</td><td>0.0</td><td>null</td><td>&quot;High&quot;</td><td>&quot;Female&quot;</td><td>null</td><td>&quot;None&quot;</td><td>&quot;Home&quot;</td><td>&quot;No&quot;</td><td>&quot;Yes&quot;</td><td>&quot;-&quot;</td><td>&quot;Not applicable&quot;</td><td>null</td><td>null</td><td>1.0</td><td>null</td><td>10.031078</td><td>&quot;inconclusive&quot;</td><td>1.0</td><td>1.0</td><td>0.0</td><td>1.0</td><td>1.0</td><td>&quot;Single-gene inheritance diseas…</td><td>&quot;Cystic fibrosis&quot;</td></tr><tr><td>&quot;PID0x3b21&quot;</td><td>null</td><td>&quot;Yes&quot;</td><td>&quot;No&quot;</td><td>&quot;No&quot;</td><td>&quot;No&quot;</td><td>4.998895</td><td>&quot;Vennie&quot;</td><td>&quot;Pang&quot;</td><td>&quot;Khriz&quot;</td><td>null</td><td>null</td><td>&quot;Dana-farber Cancer Institute&quot;</td><td>&quot;818 HARRISON AV\n",
       "SOUTH END, MA …</td><td>&quot;Alive&quot;</td><td>&quot;Tachypnea&quot;</td><td>&quot;Normal&quot;</td><td>0.0</td><td>0.0</td><td>0.0</td><td>1.0</td><td>0.0</td><td>&quot;Yes&quot;</td><td>&quot;Low&quot;</td><td>null</td><td>&quot;No record&quot;</td><td>&quot;Not applicable&quot;</td><td>&quot;Institute&quot;</td><td>&quot;No&quot;</td><td>&quot;Yes&quot;</td><td>&quot;No&quot;</td><td>&quot;-&quot;</td><td>&quot;No&quot;</td><td>&quot;Yes&quot;</td><td>3.0</td><td>&quot;Multiple&quot;</td><td>8.652478</td><td>&quot;inconclusive&quot;</td><td>0.0</td><td>1.0</td><td>1.0</td><td>null</td><td>0.0</td><td>&quot;Mitochondrial genetic inherita…</td><td>&quot;Leigh syndrome&quot;</td></tr><tr><td>&quot;PID0x2de&quot;</td><td>null</td><td>&quot;No&quot;</td><td>&quot;No&quot;</td><td>null</td><td>&quot;Yes&quot;</td><td>4.710696</td><td>&quot;Mary&quot;</td><td>null</td><td>&quot;Alyjah&quot;</td><td>null</td><td>32.0</td><td>null</td><td>&quot;90 CUSHING AV\n",
       "DORCHESTER, MA 0…</td><td>&quot;Alive&quot;</td><td>&quot;Normal (30-60)&quot;</td><td>&quot;Tachycardia&quot;</td><td>0.0</td><td>null</td><td>0.0</td><td>1.0</td><td>0.0</td><td>&quot;Yes&quot;</td><td>&quot;Low&quot;</td><td>&quot;Male&quot;</td><td>&quot;Yes&quot;</td><td>&quot;Not applicable&quot;</td><td>&quot;Institute&quot;</td><td>&quot;Yes&quot;</td><td>null</td><td>&quot;Not applicable&quot;</td><td>&quot;Not applicable&quot;</td><td>null</td><td>&quot;No&quot;</td><td>0.0</td><td>&quot;Multiple&quot;</td><td>11.373537</td><td>&quot;normal&quot;</td><td>1.0</td><td>null</td><td>0.0</td><td>0.0</td><td>0.0</td><td>&quot;Single-gene inheritance diseas…</td><td>&quot;Tay-Sachs&quot;</td></tr><tr><td>&quot;PID0x2df9&quot;</td><td>null</td><td>&quot;Yes&quot;</td><td>&quot;No&quot;</td><td>&quot;No&quot;</td><td>&quot;No&quot;</td><td>4.991328</td><td>&quot;Dean&quot;</td><td>&quot;Olsen&quot;</td><td>&quot;Neyo&quot;</td><td>23.0</td><td>52.0</td><td>&quot;Beth Israel Deaconess Medical …</td><td>&quot;1200 Centre St\n",
       "Roslindale, MA …</td><td>&quot;Deceased&quot;</td><td>null</td><td>null</td><td>0.0</td><td>0.0</td><td>null</td><td>1.0</td><td>0.0</td><td>&quot;Yes&quot;</td><td>&quot;High&quot;</td><td>&quot;Ambiguous&quot;</td><td>&quot;Yes&quot;</td><td>&quot;None&quot;</td><td>&quot;Institute&quot;</td><td>&quot;No&quot;</td><td>&quot;Yes&quot;</td><td>&quot;-&quot;</td><td>&quot;-&quot;</td><td>&quot;Yes&quot;</td><td>&quot;No&quot;</td><td>null</td><td>null</td><td>6.066614</td><td>&quot;abnormal&quot;</td><td>0.0</td><td>0.0</td><td>1.0</td><td>1.0</td><td>1.0</td><td>&quot;Single-gene inheritance diseas…</td><td>&quot;Cystic fibrosis&quot;</td></tr><tr><td>&quot;PID0x49a2&quot;</td><td>null</td><td>&quot;Yes&quot;</td><td>&quot;Yes&quot;</td><td>&quot;No&quot;</td><td>&quot;No&quot;</td><td>4.954081</td><td>&quot;Leroy&quot;</td><td>&quot;Meyer&quot;</td><td>&quot;Muadh&quot;</td><td>51.0</td><td>null</td><td>null</td><td>&quot;88 EAST NEWTON ST\n",
       "SOUTH END, M…</td><td>&quot;Alive&quot;</td><td>&quot;Normal (30-60)&quot;</td><td>&quot;Normal&quot;</td><td>0.0</td><td>0.0</td><td>0.0</td><td>1.0</td><td>0.0</td><td>&quot;Yes&quot;</td><td>&quot;High&quot;</td><td>&quot;Female&quot;</td><td>null</td><td>&quot;Not applicable&quot;</td><td>&quot;Institute&quot;</td><td>&quot;No&quot;</td><td>&quot;Yes&quot;</td><td>&quot;Yes&quot;</td><td>&quot;No&quot;</td><td>null</td><td>&quot;No&quot;</td><td>3.0</td><td>&quot;Multiple&quot;</td><td>6.803641</td><td>null</td><td>0.0</td><td>0.0</td><td>1.0</td><td>0.0</td><td>1.0</td><td>&quot;Mitochondrial genetic inherita…</td><td>&quot;Leigh syndrome&quot;</td></tr><tr><td>&hellip;</td><td>&hellip;</td><td>&hellip;</td><td>&hellip;</td><td>&hellip;</td><td>&hellip;</td><td>&hellip;</td><td>&hellip;</td><td>&hellip;</td><td>&hellip;</td><td>&hellip;</td><td>&hellip;</td><td>&hellip;</td><td>&hellip;</td><td>&hellip;</td><td>&hellip;</td><td>&hellip;</td><td>&hellip;</td><td>&hellip;</td><td>&hellip;</td><td>&hellip;</td><td>&hellip;</td><td>&hellip;</td><td>&hellip;</td><td>&hellip;</td><td>&hellip;</td><td>&hellip;</td><td>&hellip;</td><td>&hellip;</td><td>&hellip;</td><td>&hellip;</td><td>&hellip;</td><td>&hellip;</td><td>&hellip;</td><td>&hellip;</td><td>&hellip;</td><td>&hellip;</td><td>&hellip;</td><td>&hellip;</td><td>&hellip;</td><td>&hellip;</td><td>&hellip;</td><td>&hellip;</td><td>&hellip;</td><td>&hellip;</td></tr><tr><td>&quot;PID0x3f72&quot;</td><td>null</td><td>&quot;No&quot;</td><td>&quot;No&quot;</td><td>&quot;Yes&quot;</td><td>&quot;No&quot;</td><td>4.826073</td><td>&quot;Jeffrey&quot;</td><td>&quot;Grant&quot;</td><td>&quot;Deterrius&quot;</td><td>null</td><td>48.0</td><td>null</td><td>&quot;125 NASHUA ST\n",
       "CENTRAL, MA 0211…</td><td>&quot;Alive&quot;</td><td>&quot;Normal (30-60)&quot;</td><td>&quot;Normal&quot;</td><td>0.0</td><td>null</td><td>0.0</td><td>1.0</td><td>0.0</td><td>null</td><td>&quot;High&quot;</td><td>&quot;Male&quot;</td><td>&quot;No record&quot;</td><td>&quot;Not applicable&quot;</td><td>&quot;Institute&quot;</td><td>&quot;No&quot;</td><td>&quot;Yes&quot;</td><td>&quot;Not applicable&quot;</td><td>null</td><td>&quot;Yes&quot;</td><td>&quot;Yes&quot;</td><td>null</td><td>&quot;Singular&quot;</td><td>null</td><td>&quot;normal&quot;</td><td>1.0</td><td>0.0</td><td>1.0</td><td>0.0</td><td>0.0</td><td>&quot;Mitochondrial genetic inherita…</td><td>&quot;Mitochondrial myopathy&quot;</td></tr><tr><td>&quot;PID0x2e14&quot;</td><td>null</td><td>&quot;No&quot;</td><td>&quot;Yes&quot;</td><td>&quot;No&quot;</td><td>&quot;No&quot;</td><td>4.874598</td><td>&quot;Arthur&quot;</td><td>&quot;Bowman&quot;</td><td>&quot;Daezon&quot;</td><td>27.0</td><td>null</td><td>&quot;Not applicable&quot;</td><td>&quot;-&quot;</td><td>&quot;Deceased&quot;</td><td>&quot;Tachypnea&quot;</td><td>&quot;Normal&quot;</td><td>0.0</td><td>0.0</td><td>null</td><td>null</td><td>0.0</td><td>&quot;Yes&quot;</td><td>&quot;High&quot;</td><td>&quot;Ambiguous&quot;</td><td>&quot;Yes&quot;</td><td>&quot;None&quot;</td><td>&quot;Home&quot;</td><td>&quot;Yes&quot;</td><td>&quot;Yes&quot;</td><td>&quot;-&quot;</td><td>&quot;-&quot;</td><td>&quot;No&quot;</td><td>&quot;No&quot;</td><td>4.0</td><td>&quot;Multiple&quot;</td><td>null</td><td>&quot;abnormal&quot;</td><td>1.0</td><td>null</td><td>0.0</td><td>1.0</td><td>0.0</td><td>null</td><td>&quot;Tay-Sachs&quot;</td></tr><tr><td>&quot;PID0x54e1&quot;</td><td>null</td><td>&quot;Yes&quot;</td><td>&quot;Yes&quot;</td><td>&quot;No&quot;</td><td>&quot;Yes&quot;</td><td>4.664764</td><td>&quot;Paul&quot;</td><td>null</td><td>&quot;Namari&quot;</td><td>42.0</td><td>30.0</td><td>null</td><td>&quot;1153 CENTRE ST\n",
       "JAMAICA PLAIN, …</td><td>&quot;Deceased&quot;</td><td>&quot;Normal (30-60)&quot;</td><td>&quot;Tachycardia&quot;</td><td>0.0</td><td>0.0</td><td>null</td><td>1.0</td><td>0.0</td><td>null</td><td>&quot;High&quot;</td><td>null</td><td>&quot;Not available&quot;</td><td>&quot;No&quot;</td><td>&quot;Institute&quot;</td><td>&quot;No&quot;</td><td>null</td><td>&quot;No&quot;</td><td>&quot;No&quot;</td><td>null</td><td>null</td><td>4.0</td><td>&quot;Singular&quot;</td><td>null</td><td>&quot;normal&quot;</td><td>0.0</td><td>0.0</td><td>0.0</td><td>0.0</td><td>0.0</td><td>null</td><td>&quot;Tay-Sachs&quot;</td></tr><tr><td>&quot;PID0x62b4&quot;</td><td>null</td><td>&quot;Yes&quot;</td><td>&quot;Yes&quot;</td><td>&quot;Yes&quot;</td><td>&quot;No&quot;</td><td>4.813765</td><td>&quot;Steven&quot;</td><td>null</td><td>&quot;Heber&quot;</td><td>38.0</td><td>null</td><td>&quot;Carney Hospital&quot;</td><td>&quot;51 BLOSSOM ST\n",
       "CENTRAL, MA 0211…</td><td>&quot;Deceased&quot;</td><td>&quot;Normal (30-60)&quot;</td><td>null</td><td>0.0</td><td>0.0</td><td>null</td><td>1.0</td><td>0.0</td><td>&quot;Yes&quot;</td><td>&quot;High&quot;</td><td>&quot;Male&quot;</td><td>null</td><td>&quot;Yes&quot;</td><td>null</td><td>&quot;Yes&quot;</td><td>&quot;No&quot;</td><td>&quot;-&quot;</td><td>&quot;Not applicable&quot;</td><td>&quot;No&quot;</td><td>&quot;No&quot;</td><td>4.0</td><td>&quot;Multiple&quot;</td><td>7.461779</td><td>&quot;normal&quot;</td><td>1.0</td><td>1.0</td><td>1.0</td><td>1.0</td><td>1.0</td><td>&quot;Mitochondrial genetic inherita…</td><td>&quot;Leber&#x27;s hereditary optic neuro…</td></tr><tr><td>&quot;PID0xeb9&quot;</td><td>null</td><td>&quot;No&quot;</td><td>&quot;Yes&quot;</td><td>&quot;No&quot;</td><td>&quot;Yes&quot;</td><td>4.905743</td><td>&quot;Kevin&quot;</td><td>&quot;Allen&quot;</td><td>&quot;Sebastin&quot;</td><td>18.0</td><td>null</td><td>&quot;Not applicable&quot;</td><td>&quot;-&quot;</td><td>&quot;Alive&quot;</td><td>&quot;Normal (30-60)&quot;</td><td>&quot;Tachycardia&quot;</td><td>0.0</td><td>0.0</td><td>0.0</td><td>1.0</td><td>null</td><td>null</td><td>&quot;High&quot;</td><td>&quot;Female&quot;</td><td>&quot;No record&quot;</td><td>&quot;Not applicable&quot;</td><td>&quot;Home&quot;</td><td>&quot;Yes&quot;</td><td>null</td><td>&quot;Not applicable&quot;</td><td>&quot;Yes&quot;</td><td>&quot;Yes&quot;</td><td>&quot;No&quot;</td><td>2.0</td><td>&quot;Multiple&quot;</td><td>9.300294</td><td>&quot;slightly abnormal&quot;</td><td>1.0</td><td>1.0</td><td>0.0</td><td>1.0</td><td>0.0</td><td>&quot;Mitochondrial genetic inherita…</td><td>&quot;Mitochondrial myopathy&quot;</td></tr></tbody></table></div>"
      ],
      "text/plain": [
       "shape: (1_427, 45)\n",
       "┌───────────┬───────────┬───────────┬───────────┬───┬───────────┬───────────┬───────────┬──────────┐\n",
       "│ Patient   ┆ Patient   ┆ Genes in  ┆ Inherited ┆ … ┆ Symptom 4 ┆ Symptom 5 ┆ Genetic   ┆ Disorder │\n",
       "│ Id        ┆ Age       ┆ mother's  ┆ from      ┆   ┆ ---       ┆ ---       ┆ Disorder  ┆ Subclass │\n",
       "│ ---       ┆ ---       ┆ side      ┆ father    ┆   ┆ f64       ┆ f64       ┆ ---       ┆ ---      │\n",
       "│ str       ┆ f64       ┆ ---       ┆ ---       ┆   ┆           ┆           ┆ str       ┆ str      │\n",
       "│           ┆           ┆ str       ┆ str       ┆   ┆           ┆           ┆           ┆          │\n",
       "╞═══════════╪═══════════╪═══════════╪═══════════╪═══╪═══════════╪═══════════╪═══════════╪══════════╡\n",
       "│ PID0x5240 ┆ null      ┆ No        ┆ No        ┆ … ┆ 1.0       ┆ 1.0       ┆ Single-ge ┆ Cystic   │\n",
       "│           ┆           ┆           ┆           ┆   ┆           ┆           ┆ ne inheri ┆ fibrosis │\n",
       "│           ┆           ┆           ┆           ┆   ┆           ┆           ┆ tance     ┆          │\n",
       "│           ┆           ┆           ┆           ┆   ┆           ┆           ┆ diseas…   ┆          │\n",
       "│ PID0x3b21 ┆ null      ┆ Yes       ┆ No        ┆ … ┆ null      ┆ 0.0       ┆ Mitochond ┆ Leigh    │\n",
       "│           ┆           ┆           ┆           ┆   ┆           ┆           ┆ rial      ┆ syndrome │\n",
       "│           ┆           ┆           ┆           ┆   ┆           ┆           ┆ genetic   ┆          │\n",
       "│           ┆           ┆           ┆           ┆   ┆           ┆           ┆ inherita… ┆          │\n",
       "│ PID0x2de  ┆ null      ┆ No        ┆ No        ┆ … ┆ 0.0       ┆ 0.0       ┆ Single-ge ┆ Tay-Sach │\n",
       "│           ┆           ┆           ┆           ┆   ┆           ┆           ┆ ne inheri ┆ s        │\n",
       "│           ┆           ┆           ┆           ┆   ┆           ┆           ┆ tance     ┆          │\n",
       "│           ┆           ┆           ┆           ┆   ┆           ┆           ┆ diseas…   ┆          │\n",
       "│ PID0x2df9 ┆ null      ┆ Yes       ┆ No        ┆ … ┆ 1.0       ┆ 1.0       ┆ Single-ge ┆ Cystic   │\n",
       "│           ┆           ┆           ┆           ┆   ┆           ┆           ┆ ne inheri ┆ fibrosis │\n",
       "│           ┆           ┆           ┆           ┆   ┆           ┆           ┆ tance     ┆          │\n",
       "│           ┆           ┆           ┆           ┆   ┆           ┆           ┆ diseas…   ┆          │\n",
       "│ PID0x49a2 ┆ null      ┆ Yes       ┆ Yes       ┆ … ┆ 0.0       ┆ 1.0       ┆ Mitochond ┆ Leigh    │\n",
       "│           ┆           ┆           ┆           ┆   ┆           ┆           ┆ rial      ┆ syndrome │\n",
       "│           ┆           ┆           ┆           ┆   ┆           ┆           ┆ genetic   ┆          │\n",
       "│           ┆           ┆           ┆           ┆   ┆           ┆           ┆ inherita… ┆          │\n",
       "│ …         ┆ …         ┆ …         ┆ …         ┆ … ┆ …         ┆ …         ┆ …         ┆ …        │\n",
       "│ PID0x3f72 ┆ null      ┆ No        ┆ No        ┆ … ┆ 0.0       ┆ 0.0       ┆ Mitochond ┆ Mitochon │\n",
       "│           ┆           ┆           ┆           ┆   ┆           ┆           ┆ rial      ┆ drial    │\n",
       "│           ┆           ┆           ┆           ┆   ┆           ┆           ┆ genetic   ┆ myopathy │\n",
       "│           ┆           ┆           ┆           ┆   ┆           ┆           ┆ inherita… ┆          │\n",
       "│ PID0x2e14 ┆ null      ┆ No        ┆ Yes       ┆ … ┆ 1.0       ┆ 0.0       ┆ null      ┆ Tay-Sach │\n",
       "│           ┆           ┆           ┆           ┆   ┆           ┆           ┆           ┆ s        │\n",
       "│ PID0x54e1 ┆ null      ┆ Yes       ┆ Yes       ┆ … ┆ 0.0       ┆ 0.0       ┆ null      ┆ Tay-Sach │\n",
       "│           ┆           ┆           ┆           ┆   ┆           ┆           ┆           ┆ s        │\n",
       "│ PID0x62b4 ┆ null      ┆ Yes       ┆ Yes       ┆ … ┆ 1.0       ┆ 1.0       ┆ Mitochond ┆ Leber's  │\n",
       "│           ┆           ┆           ┆           ┆   ┆           ┆           ┆ rial      ┆ heredita │\n",
       "│           ┆           ┆           ┆           ┆   ┆           ┆           ┆ genetic   ┆ ry optic │\n",
       "│           ┆           ┆           ┆           ┆   ┆           ┆           ┆ inherita… ┆ neuro…   │\n",
       "│ PID0xeb9  ┆ null      ┆ No        ┆ Yes       ┆ … ┆ 1.0       ┆ 0.0       ┆ Mitochond ┆ Mitochon │\n",
       "│           ┆           ┆           ┆           ┆   ┆           ┆           ┆ rial      ┆ drial    │\n",
       "│           ┆           ┆           ┆           ┆   ┆           ┆           ┆ genetic   ┆ myopathy │\n",
       "│           ┆           ┆           ┆           ┆   ┆           ┆           ┆ inherita… ┆          │\n",
       "└───────────┴───────────┴───────────┴───────────┴───┴───────────┴───────────┴───────────┴──────────┘"
      ]
     },
     "execution_count": 19,
     "metadata": {},
     "output_type": "execute_result"
    }
   ],
   "source": [
    "df_datos.filter(pl.col(\"Patient Age\").is_null())"
   ]
  },
  {
   "cell_type": "code",
   "execution_count": 20,
   "id": "2947b521",
   "metadata": {},
   "outputs": [
    {
     "data": {
      "text/html": [
       "<div><style>\n",
       ".dataframe > thead > tr,\n",
       ".dataframe > tbody > tr {\n",
       "  text-align: right;\n",
       "  white-space: pre-wrap;\n",
       "}\n",
       "</style>\n",
       "<small>shape: (20_656, 45)</small><table border=\"1\" class=\"dataframe\"><thead><tr><th>Patient Id</th><th>Patient Age</th><th>Genes in mother&#x27;s side</th><th>Inherited from father</th><th>Maternal gene</th><th>Paternal gene</th><th>Blood cell count (mcL)</th><th>Patient First Name</th><th>Family Name</th><th>Father&#x27;s name</th><th>Mother&#x27;s age</th><th>Father&#x27;s age</th><th>Institute Name</th><th>Location of Institute</th><th>Status</th><th>Respiratory Rate (breaths/min)</th><th>Heart Rate (rates/min</th><th>Test 1</th><th>Test 2</th><th>Test 3</th><th>Test 4</th><th>Test 5</th><th>Parental consent</th><th>Follow-up</th><th>Gender</th><th>Birth asphyxia</th><th>Autopsy shows birth defect (if applicable)</th><th>Place of birth</th><th>Folic acid details (peri-conceptional)</th><th>H/O serious maternal illness</th><th>H/O radiation exposure (x-ray)</th><th>H/O substance abuse</th><th>Assisted conception IVF/ART</th><th>History of anomalies in previous pregnancies</th><th>No. of previous abortion</th><th>Birth defects</th><th>White Blood cell count (thousand per microliter)</th><th>Blood test result</th><th>Symptom 1</th><th>Symptom 2</th><th>Symptom 3</th><th>Symptom 4</th><th>Symptom 5</th><th>Genetic Disorder</th><th>Disorder Subclass</th></tr><tr><td>str</td><td>f64</td><td>str</td><td>str</td><td>str</td><td>str</td><td>f64</td><td>str</td><td>str</td><td>str</td><td>f64</td><td>f64</td><td>str</td><td>str</td><td>str</td><td>str</td><td>str</td><td>f64</td><td>f64</td><td>f64</td><td>f64</td><td>f64</td><td>str</td><td>str</td><td>str</td><td>str</td><td>str</td><td>str</td><td>str</td><td>str</td><td>str</td><td>str</td><td>str</td><td>str</td><td>f64</td><td>str</td><td>f64</td><td>str</td><td>f64</td><td>f64</td><td>f64</td><td>f64</td><td>f64</td><td>str</td><td>str</td></tr></thead><tbody><tr><td>&quot;PID0x6418&quot;</td><td>2.0</td><td>&quot;Yes&quot;</td><td>&quot;No&quot;</td><td>&quot;Yes&quot;</td><td>&quot;No&quot;</td><td>4.760603</td><td>&quot;Richard&quot;</td><td>null</td><td>&quot;Larre&quot;</td><td>null</td><td>null</td><td>&quot;Boston Specialty &amp; Rehabilitat…</td><td>&quot;55 FRUIT ST\n",
       "CENTRAL, MA 02114\n",
       "…</td><td>&quot;Alive&quot;</td><td>&quot;Normal (30-60)&quot;</td><td>&quot;Normal&quot;</td><td>0.0</td><td>null</td><td>null</td><td>1.0</td><td>0.0</td><td>&quot;Yes&quot;</td><td>&quot;High&quot;</td><td>null</td><td>null</td><td>&quot;Not applicable&quot;</td><td>&quot;Institute&quot;</td><td>&quot;No&quot;</td><td>null</td><td>&quot;No&quot;</td><td>&quot;No&quot;</td><td>&quot;No&quot;</td><td>&quot;Yes&quot;</td><td>null</td><td>null</td><td>9.857562</td><td>null</td><td>1.0</td><td>1.0</td><td>1.0</td><td>1.0</td><td>1.0</td><td>&quot;Mitochondrial genetic inherita…</td><td>&quot;Leber&#x27;s hereditary optic neuro…</td></tr><tr><td>&quot;PID0x25d5&quot;</td><td>4.0</td><td>&quot;Yes&quot;</td><td>&quot;Yes&quot;</td><td>&quot;No&quot;</td><td>&quot;No&quot;</td><td>4.910669</td><td>&quot;Mike&quot;</td><td>null</td><td>&quot;Brycen&quot;</td><td>null</td><td>23.0</td><td>&quot;St. Margaret&#x27;s Hospital For Wo…</td><td>&quot;1515 COMMONWEALTH AV\n",
       "ALLSTON/B…</td><td>&quot;Deceased&quot;</td><td>&quot;Tachypnea&quot;</td><td>&quot;Normal&quot;</td><td>null</td><td>0.0</td><td>0.0</td><td>1.0</td><td>0.0</td><td>&quot;Yes&quot;</td><td>&quot;High&quot;</td><td>null</td><td>&quot;No&quot;</td><td>&quot;None&quot;</td><td>null</td><td>&quot;Yes&quot;</td><td>&quot;Yes&quot;</td><td>&quot;Not applicable&quot;</td><td>&quot;Not applicable&quot;</td><td>&quot;No&quot;</td><td>&quot;Yes&quot;</td><td>null</td><td>&quot;Multiple&quot;</td><td>5.52256</td><td>&quot;normal&quot;</td><td>1.0</td><td>null</td><td>1.0</td><td>1.0</td><td>0.0</td><td>null</td><td>&quot;Cystic fibrosis&quot;</td></tr><tr><td>&quot;PID0x4a82&quot;</td><td>6.0</td><td>&quot;Yes&quot;</td><td>&quot;No&quot;</td><td>&quot;No&quot;</td><td>&quot;No&quot;</td><td>4.893297</td><td>&quot;Kimberly&quot;</td><td>null</td><td>&quot;Nashon&quot;</td><td>41.0</td><td>22.0</td><td>null</td><td>&quot;-&quot;</td><td>&quot;Alive&quot;</td><td>&quot;Normal (30-60)&quot;</td><td>&quot;Tachycardia&quot;</td><td>0.0</td><td>0.0</td><td>0.0</td><td>1.0</td><td>0.0</td><td>&quot;Yes&quot;</td><td>&quot;Low&quot;</td><td>null</td><td>&quot;No record&quot;</td><td>&quot;Not applicable&quot;</td><td>null</td><td>&quot;Yes&quot;</td><td>&quot;No&quot;</td><td>&quot;Yes&quot;</td><td>null</td><td>&quot;Yes&quot;</td><td>&quot;Yes&quot;</td><td>4.0</td><td>&quot;Singular&quot;</td><td>null</td><td>&quot;normal&quot;</td><td>0.0</td><td>1.0</td><td>1.0</td><td>1.0</td><td>1.0</td><td>&quot;Multifactorial genetic inherit…</td><td>&quot;Diabetes&quot;</td></tr><tr><td>&quot;PID0x4ac8&quot;</td><td>12.0</td><td>&quot;Yes&quot;</td><td>&quot;No&quot;</td><td>&quot;Yes&quot;</td><td>&quot;No&quot;</td><td>4.70528</td><td>&quot;Jeffery&quot;</td><td>&quot;Hoelscher&quot;</td><td>&quot;Aayaan&quot;</td><td>21.0</td><td>null</td><td>null</td><td>&quot;55 FRUIT ST\n",
       "CENTRAL, MA 02114\n",
       "…</td><td>&quot;Deceased&quot;</td><td>&quot;Tachypnea&quot;</td><td>&quot;Normal&quot;</td><td>0.0</td><td>0.0</td><td>0.0</td><td>1.0</td><td>0.0</td><td>&quot;Yes&quot;</td><td>&quot;High&quot;</td><td>&quot;Male&quot;</td><td>&quot;Not available&quot;</td><td>&quot;No&quot;</td><td>&quot;Institute&quot;</td><td>&quot;No&quot;</td><td>&quot;Yes&quot;</td><td>&quot;-&quot;</td><td>&quot;Not applicable&quot;</td><td>null</td><td>&quot;Yes&quot;</td><td>1.0</td><td>&quot;Singular&quot;</td><td>7.919321</td><td>&quot;inconclusive&quot;</td><td>0.0</td><td>0.0</td><td>1.0</td><td>0.0</td><td>0.0</td><td>&quot;Mitochondrial genetic inherita…</td><td>&quot;Leigh syndrome&quot;</td></tr><tr><td>&quot;PID0x1bf7&quot;</td><td>11.0</td><td>&quot;Yes&quot;</td><td>&quot;No&quot;</td><td>null</td><td>&quot;Yes&quot;</td><td>4.720703</td><td>&quot;Johanna&quot;</td><td>&quot;Stutzman&quot;</td><td>&quot;Suave&quot;</td><td>32.0</td><td>null</td><td>&quot;Carney Hospital&quot;</td><td>&quot;300 LONGWOOD AV\n",
       "FENWAY/KENMORE…</td><td>&quot;Alive&quot;</td><td>&quot;Tachypnea&quot;</td><td>&quot;Tachycardia&quot;</td><td>0.0</td><td>0.0</td><td>0.0</td><td>1.0</td><td>0.0</td><td>null</td><td>&quot;Low&quot;</td><td>&quot;Male&quot;</td><td>&quot;Not available&quot;</td><td>&quot;Not applicable&quot;</td><td>&quot;Institute&quot;</td><td>&quot;No&quot;</td><td>&quot;Yes&quot;</td><td>&quot;-&quot;</td><td>&quot;Not applicable&quot;</td><td>&quot;Yes&quot;</td><td>&quot;No&quot;</td><td>4.0</td><td>&quot;Multiple&quot;</td><td>4.09821</td><td>null</td><td>0.0</td><td>0.0</td><td>0.0</td><td>0.0</td><td>null</td><td>&quot;Multifactorial genetic inherit…</td><td>&quot;Cancer&quot;</td></tr><tr><td>&hellip;</td><td>&hellip;</td><td>&hellip;</td><td>&hellip;</td><td>&hellip;</td><td>&hellip;</td><td>&hellip;</td><td>&hellip;</td><td>&hellip;</td><td>&hellip;</td><td>&hellip;</td><td>&hellip;</td><td>&hellip;</td><td>&hellip;</td><td>&hellip;</td><td>&hellip;</td><td>&hellip;</td><td>&hellip;</td><td>&hellip;</td><td>&hellip;</td><td>&hellip;</td><td>&hellip;</td><td>&hellip;</td><td>&hellip;</td><td>&hellip;</td><td>&hellip;</td><td>&hellip;</td><td>&hellip;</td><td>&hellip;</td><td>&hellip;</td><td>&hellip;</td><td>&hellip;</td><td>&hellip;</td><td>&hellip;</td><td>&hellip;</td><td>&hellip;</td><td>&hellip;</td><td>&hellip;</td><td>&hellip;</td><td>&hellip;</td><td>&hellip;</td><td>&hellip;</td><td>&hellip;</td><td>&hellip;</td><td>&hellip;</td></tr><tr><td>&quot;PID0x5598&quot;</td><td>4.0</td><td>&quot;Yes&quot;</td><td>&quot;Yes&quot;</td><td>&quot;Yes&quot;</td><td>&quot;No&quot;</td><td>5.258298</td><td>&quot;Lynn&quot;</td><td>null</td><td>&quot;Alhassane&quot;</td><td>35.0</td><td>64.0</td><td>&quot;Franciscan Children&#x27;s&nbsp;&nbsp;Hospita…</td><td>&quot;1153 CENTRE ST\n",
       "JAMAICA PLAIN, …</td><td>&quot;Deceased&quot;</td><td>&quot;Normal (30-60)&quot;</td><td>&quot;Tachycardia&quot;</td><td>null</td><td>0.0</td><td>null</td><td>1.0</td><td>0.0</td><td>&quot;Yes&quot;</td><td>&quot;High&quot;</td><td>&quot;Female&quot;</td><td>&quot;No&quot;</td><td>&quot;No&quot;</td><td>&quot;Institute&quot;</td><td>null</td><td>&quot;No&quot;</td><td>&quot;Not applicable&quot;</td><td>&quot;No&quot;</td><td>&quot;Yes&quot;</td><td>&quot;No&quot;</td><td>3.0</td><td>&quot;Multiple&quot;</td><td>6.584811</td><td>&quot;inconclusive&quot;</td><td>0.0</td><td>0.0</td><td>1.0</td><td>0.0</td><td>0.0</td><td>&quot;Mitochondrial genetic inherita…</td><td>&quot;Leigh syndrome&quot;</td></tr><tr><td>&quot;PID0x19cb&quot;</td><td>8.0</td><td>&quot;No&quot;</td><td>&quot;Yes&quot;</td><td>&quot;No&quot;</td><td>&quot;Yes&quot;</td><td>4.97422</td><td>&quot;Matthew&quot;</td><td>&quot;Farley&quot;</td><td>&quot;Dartanion&quot;</td><td>null</td><td>56.0</td><td>&quot;Faulkner Hospital&quot;</td><td>&quot;170 MORTON ST\n",
       "ROSLINDALE, MA 0…</td><td>&quot;Alive&quot;</td><td>&quot;Normal (30-60)&quot;</td><td>&quot;Normal&quot;</td><td>null</td><td>0.0</td><td>null</td><td>1.0</td><td>null</td><td>null</td><td>&quot;High&quot;</td><td>&quot;Ambiguous&quot;</td><td>&quot;No&quot;</td><td>&quot;Not applicable&quot;</td><td>&quot;Institute&quot;</td><td>&quot;Yes&quot;</td><td>&quot;Yes&quot;</td><td>&quot;No&quot;</td><td>&quot;-&quot;</td><td>&quot;Yes&quot;</td><td>&quot;No&quot;</td><td>2.0</td><td>&quot;Multiple&quot;</td><td>7.041556</td><td>&quot;inconclusive&quot;</td><td>1.0</td><td>1.0</td><td>1.0</td><td>1.0</td><td>0.0</td><td>&quot;Multifactorial genetic inherit…</td><td>&quot;Diabetes&quot;</td></tr><tr><td>&quot;PID0x3c4f&quot;</td><td>8.0</td><td>&quot;Yes&quot;</td><td>&quot;No&quot;</td><td>&quot;Yes&quot;</td><td>&quot;No&quot;</td><td>5.18647</td><td>&quot;John&quot;</td><td>null</td><td>&quot;Cavani&quot;</td><td>35.0</td><td>51.0</td><td>&quot;Not applicable&quot;</td><td>&quot;-&quot;</td><td>&quot;Deceased&quot;</td><td>&quot;Tachypnea&quot;</td><td>&quot;Normal&quot;</td><td>0.0</td><td>0.0</td><td>0.0</td><td>1.0</td><td>null</td><td>&quot;Yes&quot;</td><td>&quot;High&quot;</td><td>&quot;Male&quot;</td><td>&quot;No&quot;</td><td>&quot;None&quot;</td><td>&quot;Home&quot;</td><td>&quot;No&quot;</td><td>&quot;No&quot;</td><td>null</td><td>&quot;No&quot;</td><td>&quot;No&quot;</td><td>&quot;No&quot;</td><td>2.0</td><td>&quot;Singular&quot;</td><td>7.715464</td><td>&quot;normal&quot;</td><td>0.0</td><td>0.0</td><td>0.0</td><td>1.0</td><td>null</td><td>&quot;Mitochondrial genetic inherita…</td><td>&quot;Mitochondrial myopathy&quot;</td></tr><tr><td>&quot;PID0x13a&quot;</td><td>7.0</td><td>&quot;Yes&quot;</td><td>&quot;No&quot;</td><td>&quot;Yes&quot;</td><td>&quot;Yes&quot;</td><td>4.858543</td><td>&quot;Sharon&quot;</td><td>null</td><td>&quot;Bomer&quot;</td><td>19.0</td><td>null</td><td>&quot;Not applicable&quot;</td><td>&quot;-&quot;</td><td>&quot;Alive&quot;</td><td>&quot;Tachypnea&quot;</td><td>&quot;Tachycardia&quot;</td><td>0.0</td><td>0.0</td><td>0.0</td><td>1.0</td><td>0.0</td><td>&quot;Yes&quot;</td><td>&quot;High&quot;</td><td>&quot;Male&quot;</td><td>&quot;No record&quot;</td><td>&quot;Not applicable&quot;</td><td>&quot;Home&quot;</td><td>&quot;Yes&quot;</td><td>&quot;Yes&quot;</td><td>&quot;-&quot;</td><td>&quot;Yes&quot;</td><td>&quot;Yes&quot;</td><td>&quot;No&quot;</td><td>1.0</td><td>&quot;Multiple&quot;</td><td>8.43767</td><td>&quot;abnormal&quot;</td><td>1.0</td><td>1.0</td><td>1.0</td><td>0.0</td><td>0.0</td><td>null</td><td>&quot;Leigh syndrome&quot;</td></tr><tr><td>&quot;PID0x9332&quot;</td><td>11.0</td><td>&quot;Yes&quot;</td><td>&quot;No&quot;</td><td>&quot;No&quot;</td><td>&quot;No&quot;</td><td>4.738067</td><td>&quot;Andrew&quot;</td><td>&quot;Mose&quot;</td><td>&quot;Eban&quot;</td><td>32.0</td><td>62.0</td><td>&quot;Hebrew Rehabilitation Center&quot;</td><td>&quot;300 LONGWOOD AV\n",
       "FENWAY/KENMORE…</td><td>&quot;Deceased&quot;</td><td>&quot;Normal (30-60)&quot;</td><td>&quot;Normal&quot;</td><td>0.0</td><td>0.0</td><td>0.0</td><td>1.0</td><td>0.0</td><td>&quot;Yes&quot;</td><td>&quot;High&quot;</td><td>&quot;Female&quot;</td><td>&quot;Yes&quot;</td><td>&quot;None&quot;</td><td>&quot;Institute&quot;</td><td>&quot;Yes&quot;</td><td>&quot;Yes&quot;</td><td>&quot;Not applicable&quot;</td><td>&quot;No&quot;</td><td>&quot;Yes&quot;</td><td>&quot;Yes&quot;</td><td>4.0</td><td>&quot;Singular&quot;</td><td>11.188371</td><td>&quot;normal&quot;</td><td>1.0</td><td>0.0</td><td>1.0</td><td>1.0</td><td>1.0</td><td>&quot;Multifactorial genetic inherit…</td><td>&quot;Diabetes&quot;</td></tr></tbody></table></div>"
      ],
      "text/plain": [
       "shape: (20_656, 45)\n",
       "┌───────────┬───────────┬───────────┬───────────┬───┬───────────┬───────────┬───────────┬──────────┐\n",
       "│ Patient   ┆ Patient   ┆ Genes in  ┆ Inherited ┆ … ┆ Symptom 4 ┆ Symptom 5 ┆ Genetic   ┆ Disorder │\n",
       "│ Id        ┆ Age       ┆ mother's  ┆ from      ┆   ┆ ---       ┆ ---       ┆ Disorder  ┆ Subclass │\n",
       "│ ---       ┆ ---       ┆ side      ┆ father    ┆   ┆ f64       ┆ f64       ┆ ---       ┆ ---      │\n",
       "│ str       ┆ f64       ┆ ---       ┆ ---       ┆   ┆           ┆           ┆ str       ┆ str      │\n",
       "│           ┆           ┆ str       ┆ str       ┆   ┆           ┆           ┆           ┆          │\n",
       "╞═══════════╪═══════════╪═══════════╪═══════════╪═══╪═══════════╪═══════════╪═══════════╪══════════╡\n",
       "│ PID0x6418 ┆ 2.0       ┆ Yes       ┆ No        ┆ … ┆ 1.0       ┆ 1.0       ┆ Mitochond ┆ Leber's  │\n",
       "│           ┆           ┆           ┆           ┆   ┆           ┆           ┆ rial      ┆ heredita │\n",
       "│           ┆           ┆           ┆           ┆   ┆           ┆           ┆ genetic   ┆ ry optic │\n",
       "│           ┆           ┆           ┆           ┆   ┆           ┆           ┆ inherita… ┆ neuro…   │\n",
       "│ PID0x25d5 ┆ 4.0       ┆ Yes       ┆ Yes       ┆ … ┆ 1.0       ┆ 0.0       ┆ null      ┆ Cystic   │\n",
       "│           ┆           ┆           ┆           ┆   ┆           ┆           ┆           ┆ fibrosis │\n",
       "│ PID0x4a82 ┆ 6.0       ┆ Yes       ┆ No        ┆ … ┆ 1.0       ┆ 1.0       ┆ Multifact ┆ Diabetes │\n",
       "│           ┆           ┆           ┆           ┆   ┆           ┆           ┆ orial     ┆          │\n",
       "│           ┆           ┆           ┆           ┆   ┆           ┆           ┆ genetic   ┆          │\n",
       "│           ┆           ┆           ┆           ┆   ┆           ┆           ┆ inherit…  ┆          │\n",
       "│ PID0x4ac8 ┆ 12.0      ┆ Yes       ┆ No        ┆ … ┆ 0.0       ┆ 0.0       ┆ Mitochond ┆ Leigh    │\n",
       "│           ┆           ┆           ┆           ┆   ┆           ┆           ┆ rial      ┆ syndrome │\n",
       "│           ┆           ┆           ┆           ┆   ┆           ┆           ┆ genetic   ┆          │\n",
       "│           ┆           ┆           ┆           ┆   ┆           ┆           ┆ inherita… ┆          │\n",
       "│ PID0x1bf7 ┆ 11.0      ┆ Yes       ┆ No        ┆ … ┆ 0.0       ┆ null      ┆ Multifact ┆ Cancer   │\n",
       "│           ┆           ┆           ┆           ┆   ┆           ┆           ┆ orial     ┆          │\n",
       "│           ┆           ┆           ┆           ┆   ┆           ┆           ┆ genetic   ┆          │\n",
       "│           ┆           ┆           ┆           ┆   ┆           ┆           ┆ inherit…  ┆          │\n",
       "│ …         ┆ …         ┆ …         ┆ …         ┆ … ┆ …         ┆ …         ┆ …         ┆ …        │\n",
       "│ PID0x5598 ┆ 4.0       ┆ Yes       ┆ Yes       ┆ … ┆ 0.0       ┆ 0.0       ┆ Mitochond ┆ Leigh    │\n",
       "│           ┆           ┆           ┆           ┆   ┆           ┆           ┆ rial      ┆ syndrome │\n",
       "│           ┆           ┆           ┆           ┆   ┆           ┆           ┆ genetic   ┆          │\n",
       "│           ┆           ┆           ┆           ┆   ┆           ┆           ┆ inherita… ┆          │\n",
       "│ PID0x19cb ┆ 8.0       ┆ No        ┆ Yes       ┆ … ┆ 1.0       ┆ 0.0       ┆ Multifact ┆ Diabetes │\n",
       "│           ┆           ┆           ┆           ┆   ┆           ┆           ┆ orial     ┆          │\n",
       "│           ┆           ┆           ┆           ┆   ┆           ┆           ┆ genetic   ┆          │\n",
       "│           ┆           ┆           ┆           ┆   ┆           ┆           ┆ inherit…  ┆          │\n",
       "│ PID0x3c4f ┆ 8.0       ┆ Yes       ┆ No        ┆ … ┆ 1.0       ┆ null      ┆ Mitochond ┆ Mitochon │\n",
       "│           ┆           ┆           ┆           ┆   ┆           ┆           ┆ rial      ┆ drial    │\n",
       "│           ┆           ┆           ┆           ┆   ┆           ┆           ┆ genetic   ┆ myopathy │\n",
       "│           ┆           ┆           ┆           ┆   ┆           ┆           ┆ inherita… ┆          │\n",
       "│ PID0x13a  ┆ 7.0       ┆ Yes       ┆ No        ┆ … ┆ 0.0       ┆ 0.0       ┆ null      ┆ Leigh    │\n",
       "│           ┆           ┆           ┆           ┆   ┆           ┆           ┆           ┆ syndrome │\n",
       "│ PID0x9332 ┆ 11.0      ┆ Yes       ┆ No        ┆ … ┆ 1.0       ┆ 1.0       ┆ Multifact ┆ Diabetes │\n",
       "│           ┆           ┆           ┆           ┆   ┆           ┆           ┆ orial     ┆          │\n",
       "│           ┆           ┆           ┆           ┆   ┆           ┆           ┆ genetic   ┆          │\n",
       "│           ┆           ┆           ┆           ┆   ┆           ┆           ┆ inherit…  ┆          │\n",
       "└───────────┴───────────┴───────────┴───────────┴───┴───────────┴───────────┴───────────┴──────────┘"
      ]
     },
     "execution_count": 20,
     "metadata": {},
     "output_type": "execute_result"
    }
   ],
   "source": [
    "df_datos.filter(pl.col(\"Patient Age\").is_not_null())"
   ]
  },
  {
   "cell_type": "code",
   "execution_count": 21,
   "id": "d811a867",
   "metadata": {},
   "outputs": [
    {
     "data": {
      "text/html": [
       "<div><style>\n",
       ".dataframe > thead > tr,\n",
       ".dataframe > tbody > tr {\n",
       "  text-align: right;\n",
       "  white-space: pre-wrap;\n",
       "}\n",
       "</style>\n",
       "<small>shape: (22_083, 45)</small><table border=\"1\" class=\"dataframe\"><thead><tr><th>Patient Id</th><th>Patient Age</th><th>Genes in mother&#x27;s side</th><th>Inherited from father</th><th>Maternal gene</th><th>Paternal gene</th><th>Blood cell count (mcL)</th><th>Patient First Name</th><th>Family Name</th><th>Father&#x27;s name</th><th>Mother&#x27;s age</th><th>Father&#x27;s age</th><th>Institute Name</th><th>Location of Institute</th><th>Status</th><th>Respiratory Rate (breaths/min)</th><th>Heart Rate (rates/min</th><th>Test 1</th><th>Test 2</th><th>Test 3</th><th>Test 4</th><th>Test 5</th><th>Parental consent</th><th>Follow-up</th><th>Gender</th><th>Birth asphyxia</th><th>Autopsy shows birth defect (if applicable)</th><th>Place of birth</th><th>Folic acid details (peri-conceptional)</th><th>H/O serious maternal illness</th><th>H/O radiation exposure (x-ray)</th><th>H/O substance abuse</th><th>Assisted conception IVF/ART</th><th>History of anomalies in previous pregnancies</th><th>No. of previous abortion</th><th>Birth defects</th><th>White Blood cell count (thousand per microliter)</th><th>Blood test result</th><th>Symptom 1</th><th>Symptom 2</th><th>Symptom 3</th><th>Symptom 4</th><th>Symptom 5</th><th>Genetic Disorder</th><th>Disorder Subclass</th></tr><tr><td>str</td><td>f64</td><td>str</td><td>str</td><td>str</td><td>str</td><td>f64</td><td>str</td><td>str</td><td>str</td><td>f64</td><td>f64</td><td>str</td><td>str</td><td>str</td><td>str</td><td>str</td><td>f64</td><td>f64</td><td>f64</td><td>f64</td><td>f64</td><td>str</td><td>str</td><td>str</td><td>str</td><td>str</td><td>str</td><td>str</td><td>str</td><td>str</td><td>str</td><td>str</td><td>str</td><td>f64</td><td>str</td><td>f64</td><td>str</td><td>f64</td><td>f64</td><td>f64</td><td>f64</td><td>f64</td><td>str</td><td>str</td></tr></thead><tbody><tr><td>&quot;PID0x6418&quot;</td><td>2.0</td><td>&quot;Yes&quot;</td><td>&quot;No&quot;</td><td>&quot;Yes&quot;</td><td>&quot;No&quot;</td><td>4.760603</td><td>&quot;Richard&quot;</td><td>&quot;Desconocido&quot;</td><td>&quot;Larre&quot;</td><td>null</td><td>null</td><td>&quot;Boston Specialty &amp; Rehabilitat…</td><td>&quot;55 FRUIT ST\n",
       "CENTRAL, MA 02114\n",
       "…</td><td>&quot;Alive&quot;</td><td>&quot;Normal (30-60)&quot;</td><td>&quot;Normal&quot;</td><td>0.0</td><td>null</td><td>null</td><td>1.0</td><td>0.0</td><td>&quot;Yes&quot;</td><td>&quot;High&quot;</td><td>&quot;Desconocido&quot;</td><td>&quot;Desconocido&quot;</td><td>&quot;Not applicable&quot;</td><td>&quot;Institute&quot;</td><td>&quot;No&quot;</td><td>&quot;Desconocido&quot;</td><td>&quot;No&quot;</td><td>&quot;No&quot;</td><td>&quot;No&quot;</td><td>&quot;Yes&quot;</td><td>null</td><td>&quot;Desconocido&quot;</td><td>9.857562</td><td>&quot;Desconocido&quot;</td><td>1.0</td><td>1.0</td><td>1.0</td><td>1.0</td><td>1.0</td><td>&quot;Mitochondrial genetic inherita…</td><td>&quot;Leber&#x27;s hereditary optic neuro…</td></tr><tr><td>&quot;PID0x25d5&quot;</td><td>4.0</td><td>&quot;Yes&quot;</td><td>&quot;Yes&quot;</td><td>&quot;No&quot;</td><td>&quot;No&quot;</td><td>4.910669</td><td>&quot;Mike&quot;</td><td>&quot;Desconocido&quot;</td><td>&quot;Brycen&quot;</td><td>null</td><td>23.0</td><td>&quot;St. Margaret&#x27;s Hospital For Wo…</td><td>&quot;1515 COMMONWEALTH AV\n",
       "ALLSTON/B…</td><td>&quot;Deceased&quot;</td><td>&quot;Tachypnea&quot;</td><td>&quot;Normal&quot;</td><td>null</td><td>0.0</td><td>0.0</td><td>1.0</td><td>0.0</td><td>&quot;Yes&quot;</td><td>&quot;High&quot;</td><td>&quot;Desconocido&quot;</td><td>&quot;No&quot;</td><td>&quot;None&quot;</td><td>&quot;Desconocido&quot;</td><td>&quot;Yes&quot;</td><td>&quot;Yes&quot;</td><td>&quot;Not applicable&quot;</td><td>&quot;Not applicable&quot;</td><td>&quot;No&quot;</td><td>&quot;Yes&quot;</td><td>null</td><td>&quot;Multiple&quot;</td><td>5.52256</td><td>&quot;normal&quot;</td><td>1.0</td><td>null</td><td>1.0</td><td>1.0</td><td>0.0</td><td>&quot;Desconocido&quot;</td><td>&quot;Cystic fibrosis&quot;</td></tr><tr><td>&quot;PID0x4a82&quot;</td><td>6.0</td><td>&quot;Yes&quot;</td><td>&quot;No&quot;</td><td>&quot;No&quot;</td><td>&quot;No&quot;</td><td>4.893297</td><td>&quot;Kimberly&quot;</td><td>&quot;Desconocido&quot;</td><td>&quot;Nashon&quot;</td><td>41.0</td><td>22.0</td><td>&quot;Desconocido&quot;</td><td>&quot;-&quot;</td><td>&quot;Alive&quot;</td><td>&quot;Normal (30-60)&quot;</td><td>&quot;Tachycardia&quot;</td><td>0.0</td><td>0.0</td><td>0.0</td><td>1.0</td><td>0.0</td><td>&quot;Yes&quot;</td><td>&quot;Low&quot;</td><td>&quot;Desconocido&quot;</td><td>&quot;No record&quot;</td><td>&quot;Not applicable&quot;</td><td>&quot;Desconocido&quot;</td><td>&quot;Yes&quot;</td><td>&quot;No&quot;</td><td>&quot;Yes&quot;</td><td>&quot;Desconocido&quot;</td><td>&quot;Yes&quot;</td><td>&quot;Yes&quot;</td><td>4.0</td><td>&quot;Singular&quot;</td><td>null</td><td>&quot;normal&quot;</td><td>0.0</td><td>1.0</td><td>1.0</td><td>1.0</td><td>1.0</td><td>&quot;Multifactorial genetic inherit…</td><td>&quot;Diabetes&quot;</td></tr><tr><td>&quot;PID0x4ac8&quot;</td><td>12.0</td><td>&quot;Yes&quot;</td><td>&quot;No&quot;</td><td>&quot;Yes&quot;</td><td>&quot;No&quot;</td><td>4.70528</td><td>&quot;Jeffery&quot;</td><td>&quot;Hoelscher&quot;</td><td>&quot;Aayaan&quot;</td><td>21.0</td><td>null</td><td>&quot;Desconocido&quot;</td><td>&quot;55 FRUIT ST\n",
       "CENTRAL, MA 02114\n",
       "…</td><td>&quot;Deceased&quot;</td><td>&quot;Tachypnea&quot;</td><td>&quot;Normal&quot;</td><td>0.0</td><td>0.0</td><td>0.0</td><td>1.0</td><td>0.0</td><td>&quot;Yes&quot;</td><td>&quot;High&quot;</td><td>&quot;Male&quot;</td><td>&quot;Not available&quot;</td><td>&quot;No&quot;</td><td>&quot;Institute&quot;</td><td>&quot;No&quot;</td><td>&quot;Yes&quot;</td><td>&quot;-&quot;</td><td>&quot;Not applicable&quot;</td><td>&quot;Desconocido&quot;</td><td>&quot;Yes&quot;</td><td>1.0</td><td>&quot;Singular&quot;</td><td>7.919321</td><td>&quot;inconclusive&quot;</td><td>0.0</td><td>0.0</td><td>1.0</td><td>0.0</td><td>0.0</td><td>&quot;Mitochondrial genetic inherita…</td><td>&quot;Leigh syndrome&quot;</td></tr><tr><td>&quot;PID0x1bf7&quot;</td><td>11.0</td><td>&quot;Yes&quot;</td><td>&quot;No&quot;</td><td>&quot;Desconocido&quot;</td><td>&quot;Yes&quot;</td><td>4.720703</td><td>&quot;Johanna&quot;</td><td>&quot;Stutzman&quot;</td><td>&quot;Suave&quot;</td><td>32.0</td><td>null</td><td>&quot;Carney Hospital&quot;</td><td>&quot;300 LONGWOOD AV\n",
       "FENWAY/KENMORE…</td><td>&quot;Alive&quot;</td><td>&quot;Tachypnea&quot;</td><td>&quot;Tachycardia&quot;</td><td>0.0</td><td>0.0</td><td>0.0</td><td>1.0</td><td>0.0</td><td>&quot;Desconocido&quot;</td><td>&quot;Low&quot;</td><td>&quot;Male&quot;</td><td>&quot;Not available&quot;</td><td>&quot;Not applicable&quot;</td><td>&quot;Institute&quot;</td><td>&quot;No&quot;</td><td>&quot;Yes&quot;</td><td>&quot;-&quot;</td><td>&quot;Not applicable&quot;</td><td>&quot;Yes&quot;</td><td>&quot;No&quot;</td><td>4.0</td><td>&quot;Multiple&quot;</td><td>4.09821</td><td>&quot;Desconocido&quot;</td><td>0.0</td><td>0.0</td><td>0.0</td><td>0.0</td><td>null</td><td>&quot;Multifactorial genetic inherit…</td><td>&quot;Cancer&quot;</td></tr><tr><td>&hellip;</td><td>&hellip;</td><td>&hellip;</td><td>&hellip;</td><td>&hellip;</td><td>&hellip;</td><td>&hellip;</td><td>&hellip;</td><td>&hellip;</td><td>&hellip;</td><td>&hellip;</td><td>&hellip;</td><td>&hellip;</td><td>&hellip;</td><td>&hellip;</td><td>&hellip;</td><td>&hellip;</td><td>&hellip;</td><td>&hellip;</td><td>&hellip;</td><td>&hellip;</td><td>&hellip;</td><td>&hellip;</td><td>&hellip;</td><td>&hellip;</td><td>&hellip;</td><td>&hellip;</td><td>&hellip;</td><td>&hellip;</td><td>&hellip;</td><td>&hellip;</td><td>&hellip;</td><td>&hellip;</td><td>&hellip;</td><td>&hellip;</td><td>&hellip;</td><td>&hellip;</td><td>&hellip;</td><td>&hellip;</td><td>&hellip;</td><td>&hellip;</td><td>&hellip;</td><td>&hellip;</td><td>&hellip;</td><td>&hellip;</td></tr><tr><td>&quot;PID0x5598&quot;</td><td>4.0</td><td>&quot;Yes&quot;</td><td>&quot;Yes&quot;</td><td>&quot;Yes&quot;</td><td>&quot;No&quot;</td><td>5.258298</td><td>&quot;Lynn&quot;</td><td>&quot;Desconocido&quot;</td><td>&quot;Alhassane&quot;</td><td>35.0</td><td>64.0</td><td>&quot;Franciscan Children&#x27;s&nbsp;&nbsp;Hospita…</td><td>&quot;1153 CENTRE ST\n",
       "JAMAICA PLAIN, …</td><td>&quot;Deceased&quot;</td><td>&quot;Normal (30-60)&quot;</td><td>&quot;Tachycardia&quot;</td><td>null</td><td>0.0</td><td>null</td><td>1.0</td><td>0.0</td><td>&quot;Yes&quot;</td><td>&quot;High&quot;</td><td>&quot;Female&quot;</td><td>&quot;No&quot;</td><td>&quot;No&quot;</td><td>&quot;Institute&quot;</td><td>&quot;Desconocido&quot;</td><td>&quot;No&quot;</td><td>&quot;Not applicable&quot;</td><td>&quot;No&quot;</td><td>&quot;Yes&quot;</td><td>&quot;No&quot;</td><td>3.0</td><td>&quot;Multiple&quot;</td><td>6.584811</td><td>&quot;inconclusive&quot;</td><td>0.0</td><td>0.0</td><td>1.0</td><td>0.0</td><td>0.0</td><td>&quot;Mitochondrial genetic inherita…</td><td>&quot;Leigh syndrome&quot;</td></tr><tr><td>&quot;PID0x19cb&quot;</td><td>8.0</td><td>&quot;No&quot;</td><td>&quot;Yes&quot;</td><td>&quot;No&quot;</td><td>&quot;Yes&quot;</td><td>4.97422</td><td>&quot;Matthew&quot;</td><td>&quot;Farley&quot;</td><td>&quot;Dartanion&quot;</td><td>null</td><td>56.0</td><td>&quot;Faulkner Hospital&quot;</td><td>&quot;170 MORTON ST\n",
       "ROSLINDALE, MA 0…</td><td>&quot;Alive&quot;</td><td>&quot;Normal (30-60)&quot;</td><td>&quot;Normal&quot;</td><td>null</td><td>0.0</td><td>null</td><td>1.0</td><td>null</td><td>&quot;Desconocido&quot;</td><td>&quot;High&quot;</td><td>&quot;Ambiguous&quot;</td><td>&quot;No&quot;</td><td>&quot;Not applicable&quot;</td><td>&quot;Institute&quot;</td><td>&quot;Yes&quot;</td><td>&quot;Yes&quot;</td><td>&quot;No&quot;</td><td>&quot;-&quot;</td><td>&quot;Yes&quot;</td><td>&quot;No&quot;</td><td>2.0</td><td>&quot;Multiple&quot;</td><td>7.041556</td><td>&quot;inconclusive&quot;</td><td>1.0</td><td>1.0</td><td>1.0</td><td>1.0</td><td>0.0</td><td>&quot;Multifactorial genetic inherit…</td><td>&quot;Diabetes&quot;</td></tr><tr><td>&quot;PID0x3c4f&quot;</td><td>8.0</td><td>&quot;Yes&quot;</td><td>&quot;No&quot;</td><td>&quot;Yes&quot;</td><td>&quot;No&quot;</td><td>5.18647</td><td>&quot;John&quot;</td><td>&quot;Desconocido&quot;</td><td>&quot;Cavani&quot;</td><td>35.0</td><td>51.0</td><td>&quot;Not applicable&quot;</td><td>&quot;-&quot;</td><td>&quot;Deceased&quot;</td><td>&quot;Tachypnea&quot;</td><td>&quot;Normal&quot;</td><td>0.0</td><td>0.0</td><td>0.0</td><td>1.0</td><td>null</td><td>&quot;Yes&quot;</td><td>&quot;High&quot;</td><td>&quot;Male&quot;</td><td>&quot;No&quot;</td><td>&quot;None&quot;</td><td>&quot;Home&quot;</td><td>&quot;No&quot;</td><td>&quot;No&quot;</td><td>&quot;Desconocido&quot;</td><td>&quot;No&quot;</td><td>&quot;No&quot;</td><td>&quot;No&quot;</td><td>2.0</td><td>&quot;Singular&quot;</td><td>7.715464</td><td>&quot;normal&quot;</td><td>0.0</td><td>0.0</td><td>0.0</td><td>1.0</td><td>null</td><td>&quot;Mitochondrial genetic inherita…</td><td>&quot;Mitochondrial myopathy&quot;</td></tr><tr><td>&quot;PID0x13a&quot;</td><td>7.0</td><td>&quot;Yes&quot;</td><td>&quot;No&quot;</td><td>&quot;Yes&quot;</td><td>&quot;Yes&quot;</td><td>4.858543</td><td>&quot;Sharon&quot;</td><td>&quot;Desconocido&quot;</td><td>&quot;Bomer&quot;</td><td>19.0</td><td>null</td><td>&quot;Not applicable&quot;</td><td>&quot;-&quot;</td><td>&quot;Alive&quot;</td><td>&quot;Tachypnea&quot;</td><td>&quot;Tachycardia&quot;</td><td>0.0</td><td>0.0</td><td>0.0</td><td>1.0</td><td>0.0</td><td>&quot;Yes&quot;</td><td>&quot;High&quot;</td><td>&quot;Male&quot;</td><td>&quot;No record&quot;</td><td>&quot;Not applicable&quot;</td><td>&quot;Home&quot;</td><td>&quot;Yes&quot;</td><td>&quot;Yes&quot;</td><td>&quot;-&quot;</td><td>&quot;Yes&quot;</td><td>&quot;Yes&quot;</td><td>&quot;No&quot;</td><td>1.0</td><td>&quot;Multiple&quot;</td><td>8.43767</td><td>&quot;abnormal&quot;</td><td>1.0</td><td>1.0</td><td>1.0</td><td>0.0</td><td>0.0</td><td>&quot;Desconocido&quot;</td><td>&quot;Leigh syndrome&quot;</td></tr><tr><td>&quot;PID0x9332&quot;</td><td>11.0</td><td>&quot;Yes&quot;</td><td>&quot;No&quot;</td><td>&quot;No&quot;</td><td>&quot;No&quot;</td><td>4.738067</td><td>&quot;Andrew&quot;</td><td>&quot;Mose&quot;</td><td>&quot;Eban&quot;</td><td>32.0</td><td>62.0</td><td>&quot;Hebrew Rehabilitation Center&quot;</td><td>&quot;300 LONGWOOD AV\n",
       "FENWAY/KENMORE…</td><td>&quot;Deceased&quot;</td><td>&quot;Normal (30-60)&quot;</td><td>&quot;Normal&quot;</td><td>0.0</td><td>0.0</td><td>0.0</td><td>1.0</td><td>0.0</td><td>&quot;Yes&quot;</td><td>&quot;High&quot;</td><td>&quot;Female&quot;</td><td>&quot;Yes&quot;</td><td>&quot;None&quot;</td><td>&quot;Institute&quot;</td><td>&quot;Yes&quot;</td><td>&quot;Yes&quot;</td><td>&quot;Not applicable&quot;</td><td>&quot;No&quot;</td><td>&quot;Yes&quot;</td><td>&quot;Yes&quot;</td><td>4.0</td><td>&quot;Singular&quot;</td><td>11.188371</td><td>&quot;normal&quot;</td><td>1.0</td><td>0.0</td><td>1.0</td><td>1.0</td><td>1.0</td><td>&quot;Multifactorial genetic inherit…</td><td>&quot;Diabetes&quot;</td></tr></tbody></table></div>"
      ],
      "text/plain": [
       "shape: (22_083, 45)\n",
       "┌───────────┬───────────┬───────────┬───────────┬───┬───────────┬───────────┬───────────┬──────────┐\n",
       "│ Patient   ┆ Patient   ┆ Genes in  ┆ Inherited ┆ … ┆ Symptom 4 ┆ Symptom 5 ┆ Genetic   ┆ Disorder │\n",
       "│ Id        ┆ Age       ┆ mother's  ┆ from      ┆   ┆ ---       ┆ ---       ┆ Disorder  ┆ Subclass │\n",
       "│ ---       ┆ ---       ┆ side      ┆ father    ┆   ┆ f64       ┆ f64       ┆ ---       ┆ ---      │\n",
       "│ str       ┆ f64       ┆ ---       ┆ ---       ┆   ┆           ┆           ┆ str       ┆ str      │\n",
       "│           ┆           ┆ str       ┆ str       ┆   ┆           ┆           ┆           ┆          │\n",
       "╞═══════════╪═══════════╪═══════════╪═══════════╪═══╪═══════════╪═══════════╪═══════════╪══════════╡\n",
       "│ PID0x6418 ┆ 2.0       ┆ Yes       ┆ No        ┆ … ┆ 1.0       ┆ 1.0       ┆ Mitochond ┆ Leber's  │\n",
       "│           ┆           ┆           ┆           ┆   ┆           ┆           ┆ rial      ┆ heredita │\n",
       "│           ┆           ┆           ┆           ┆   ┆           ┆           ┆ genetic   ┆ ry optic │\n",
       "│           ┆           ┆           ┆           ┆   ┆           ┆           ┆ inherita… ┆ neuro…   │\n",
       "│ PID0x25d5 ┆ 4.0       ┆ Yes       ┆ Yes       ┆ … ┆ 1.0       ┆ 0.0       ┆ Desconoci ┆ Cystic   │\n",
       "│           ┆           ┆           ┆           ┆   ┆           ┆           ┆ do        ┆ fibrosis │\n",
       "│ PID0x4a82 ┆ 6.0       ┆ Yes       ┆ No        ┆ … ┆ 1.0       ┆ 1.0       ┆ Multifact ┆ Diabetes │\n",
       "│           ┆           ┆           ┆           ┆   ┆           ┆           ┆ orial     ┆          │\n",
       "│           ┆           ┆           ┆           ┆   ┆           ┆           ┆ genetic   ┆          │\n",
       "│           ┆           ┆           ┆           ┆   ┆           ┆           ┆ inherit…  ┆          │\n",
       "│ PID0x4ac8 ┆ 12.0      ┆ Yes       ┆ No        ┆ … ┆ 0.0       ┆ 0.0       ┆ Mitochond ┆ Leigh    │\n",
       "│           ┆           ┆           ┆           ┆   ┆           ┆           ┆ rial      ┆ syndrome │\n",
       "│           ┆           ┆           ┆           ┆   ┆           ┆           ┆ genetic   ┆          │\n",
       "│           ┆           ┆           ┆           ┆   ┆           ┆           ┆ inherita… ┆          │\n",
       "│ PID0x1bf7 ┆ 11.0      ┆ Yes       ┆ No        ┆ … ┆ 0.0       ┆ null      ┆ Multifact ┆ Cancer   │\n",
       "│           ┆           ┆           ┆           ┆   ┆           ┆           ┆ orial     ┆          │\n",
       "│           ┆           ┆           ┆           ┆   ┆           ┆           ┆ genetic   ┆          │\n",
       "│           ┆           ┆           ┆           ┆   ┆           ┆           ┆ inherit…  ┆          │\n",
       "│ …         ┆ …         ┆ …         ┆ …         ┆ … ┆ …         ┆ …         ┆ …         ┆ …        │\n",
       "│ PID0x5598 ┆ 4.0       ┆ Yes       ┆ Yes       ┆ … ┆ 0.0       ┆ 0.0       ┆ Mitochond ┆ Leigh    │\n",
       "│           ┆           ┆           ┆           ┆   ┆           ┆           ┆ rial      ┆ syndrome │\n",
       "│           ┆           ┆           ┆           ┆   ┆           ┆           ┆ genetic   ┆          │\n",
       "│           ┆           ┆           ┆           ┆   ┆           ┆           ┆ inherita… ┆          │\n",
       "│ PID0x19cb ┆ 8.0       ┆ No        ┆ Yes       ┆ … ┆ 1.0       ┆ 0.0       ┆ Multifact ┆ Diabetes │\n",
       "│           ┆           ┆           ┆           ┆   ┆           ┆           ┆ orial     ┆          │\n",
       "│           ┆           ┆           ┆           ┆   ┆           ┆           ┆ genetic   ┆          │\n",
       "│           ┆           ┆           ┆           ┆   ┆           ┆           ┆ inherit…  ┆          │\n",
       "│ PID0x3c4f ┆ 8.0       ┆ Yes       ┆ No        ┆ … ┆ 1.0       ┆ null      ┆ Mitochond ┆ Mitochon │\n",
       "│           ┆           ┆           ┆           ┆   ┆           ┆           ┆ rial      ┆ drial    │\n",
       "│           ┆           ┆           ┆           ┆   ┆           ┆           ┆ genetic   ┆ myopathy │\n",
       "│           ┆           ┆           ┆           ┆   ┆           ┆           ┆ inherita… ┆          │\n",
       "│ PID0x13a  ┆ 7.0       ┆ Yes       ┆ No        ┆ … ┆ 0.0       ┆ 0.0       ┆ Desconoci ┆ Leigh    │\n",
       "│           ┆           ┆           ┆           ┆   ┆           ┆           ┆ do        ┆ syndrome │\n",
       "│ PID0x9332 ┆ 11.0      ┆ Yes       ┆ No        ┆ … ┆ 1.0       ┆ 1.0       ┆ Multifact ┆ Diabetes │\n",
       "│           ┆           ┆           ┆           ┆   ┆           ┆           ┆ orial     ┆          │\n",
       "│           ┆           ┆           ┆           ┆   ┆           ┆           ┆ genetic   ┆          │\n",
       "│           ┆           ┆           ┆           ┆   ┆           ┆           ┆ inherit…  ┆          │\n",
       "└───────────┴───────────┴───────────┴───────────┴───┴───────────┴───────────┴───────────┴──────────┘"
      ]
     },
     "execution_count": 21,
     "metadata": {},
     "output_type": "execute_result"
    }
   ],
   "source": [
    "df_datos.fill_null(\"Desconocido\")"
   ]
  },
  {
   "cell_type": "code",
   "execution_count": 22,
   "id": "2c2c7b6b",
   "metadata": {},
   "outputs": [
    {
     "data": {
      "text/html": [
       "<div><style>\n",
       ".dataframe > thead > tr,\n",
       ".dataframe > tbody > tr {\n",
       "  text-align: right;\n",
       "  white-space: pre-wrap;\n",
       "}\n",
       "</style>\n",
       "<small>shape: (22_083, 45)</small><table border=\"1\" class=\"dataframe\"><thead><tr><th>Patient Id</th><th>Patient Age</th><th>Genes in mother&#x27;s side</th><th>Inherited from father</th><th>Maternal gene</th><th>Paternal gene</th><th>Blood cell count (mcL)</th><th>Patient First Name</th><th>Family Name</th><th>Father&#x27;s name</th><th>Mother&#x27;s age</th><th>Father&#x27;s age</th><th>Institute Name</th><th>Location of Institute</th><th>Status</th><th>Respiratory Rate (breaths/min)</th><th>Heart Rate (rates/min</th><th>Test 1</th><th>Test 2</th><th>Test 3</th><th>Test 4</th><th>Test 5</th><th>Parental consent</th><th>Follow-up</th><th>Gender</th><th>Birth asphyxia</th><th>Autopsy shows birth defect (if applicable)</th><th>Place of birth</th><th>Folic acid details (peri-conceptional)</th><th>H/O serious maternal illness</th><th>H/O radiation exposure (x-ray)</th><th>H/O substance abuse</th><th>Assisted conception IVF/ART</th><th>History of anomalies in previous pregnancies</th><th>No. of previous abortion</th><th>Birth defects</th><th>White Blood cell count (thousand per microliter)</th><th>Blood test result</th><th>Symptom 1</th><th>Symptom 2</th><th>Symptom 3</th><th>Symptom 4</th><th>Symptom 5</th><th>Genetic Disorder</th><th>Disorder Subclass</th></tr><tr><td>str</td><td>f64</td><td>str</td><td>str</td><td>str</td><td>str</td><td>f64</td><td>str</td><td>str</td><td>str</td><td>f64</td><td>f64</td><td>str</td><td>str</td><td>str</td><td>str</td><td>str</td><td>f64</td><td>f64</td><td>f64</td><td>f64</td><td>f64</td><td>str</td><td>str</td><td>str</td><td>str</td><td>str</td><td>str</td><td>str</td><td>str</td><td>str</td><td>str</td><td>str</td><td>str</td><td>f64</td><td>str</td><td>f64</td><td>str</td><td>f64</td><td>f64</td><td>f64</td><td>f64</td><td>f64</td><td>str</td><td>str</td></tr></thead><tbody><tr><td>&quot;PID0x6418&quot;</td><td>2.0</td><td>&quot;Yes&quot;</td><td>&quot;No&quot;</td><td>&quot;Yes&quot;</td><td>&quot;No&quot;</td><td>4.760603</td><td>&quot;Richard&quot;</td><td>null</td><td>&quot;Larre&quot;</td><td>-1.0</td><td>-1.0</td><td>&quot;Boston Specialty &amp; Rehabilitat…</td><td>&quot;55 FRUIT ST\n",
       "CENTRAL, MA 02114\n",
       "…</td><td>&quot;Alive&quot;</td><td>&quot;Normal (30-60)&quot;</td><td>&quot;Normal&quot;</td><td>0.0</td><td>-1.0</td><td>-1.0</td><td>1.0</td><td>0.0</td><td>&quot;Yes&quot;</td><td>&quot;High&quot;</td><td>null</td><td>null</td><td>&quot;Not applicable&quot;</td><td>&quot;Institute&quot;</td><td>&quot;No&quot;</td><td>null</td><td>&quot;No&quot;</td><td>&quot;No&quot;</td><td>&quot;No&quot;</td><td>&quot;Yes&quot;</td><td>-1.0</td><td>null</td><td>9.857562</td><td>null</td><td>1.0</td><td>1.0</td><td>1.0</td><td>1.0</td><td>1.0</td><td>&quot;Mitochondrial genetic inherita…</td><td>&quot;Leber&#x27;s hereditary optic neuro…</td></tr><tr><td>&quot;PID0x25d5&quot;</td><td>4.0</td><td>&quot;Yes&quot;</td><td>&quot;Yes&quot;</td><td>&quot;No&quot;</td><td>&quot;No&quot;</td><td>4.910669</td><td>&quot;Mike&quot;</td><td>null</td><td>&quot;Brycen&quot;</td><td>-1.0</td><td>23.0</td><td>&quot;St. Margaret&#x27;s Hospital For Wo…</td><td>&quot;1515 COMMONWEALTH AV\n",
       "ALLSTON/B…</td><td>&quot;Deceased&quot;</td><td>&quot;Tachypnea&quot;</td><td>&quot;Normal&quot;</td><td>-1.0</td><td>0.0</td><td>0.0</td><td>1.0</td><td>0.0</td><td>&quot;Yes&quot;</td><td>&quot;High&quot;</td><td>null</td><td>&quot;No&quot;</td><td>&quot;None&quot;</td><td>null</td><td>&quot;Yes&quot;</td><td>&quot;Yes&quot;</td><td>&quot;Not applicable&quot;</td><td>&quot;Not applicable&quot;</td><td>&quot;No&quot;</td><td>&quot;Yes&quot;</td><td>-1.0</td><td>&quot;Multiple&quot;</td><td>5.52256</td><td>&quot;normal&quot;</td><td>1.0</td><td>-1.0</td><td>1.0</td><td>1.0</td><td>0.0</td><td>null</td><td>&quot;Cystic fibrosis&quot;</td></tr><tr><td>&quot;PID0x4a82&quot;</td><td>6.0</td><td>&quot;Yes&quot;</td><td>&quot;No&quot;</td><td>&quot;No&quot;</td><td>&quot;No&quot;</td><td>4.893297</td><td>&quot;Kimberly&quot;</td><td>null</td><td>&quot;Nashon&quot;</td><td>41.0</td><td>22.0</td><td>null</td><td>&quot;-&quot;</td><td>&quot;Alive&quot;</td><td>&quot;Normal (30-60)&quot;</td><td>&quot;Tachycardia&quot;</td><td>0.0</td><td>0.0</td><td>0.0</td><td>1.0</td><td>0.0</td><td>&quot;Yes&quot;</td><td>&quot;Low&quot;</td><td>null</td><td>&quot;No record&quot;</td><td>&quot;Not applicable&quot;</td><td>null</td><td>&quot;Yes&quot;</td><td>&quot;No&quot;</td><td>&quot;Yes&quot;</td><td>null</td><td>&quot;Yes&quot;</td><td>&quot;Yes&quot;</td><td>4.0</td><td>&quot;Singular&quot;</td><td>-1.0</td><td>&quot;normal&quot;</td><td>0.0</td><td>1.0</td><td>1.0</td><td>1.0</td><td>1.0</td><td>&quot;Multifactorial genetic inherit…</td><td>&quot;Diabetes&quot;</td></tr><tr><td>&quot;PID0x4ac8&quot;</td><td>12.0</td><td>&quot;Yes&quot;</td><td>&quot;No&quot;</td><td>&quot;Yes&quot;</td><td>&quot;No&quot;</td><td>4.70528</td><td>&quot;Jeffery&quot;</td><td>&quot;Hoelscher&quot;</td><td>&quot;Aayaan&quot;</td><td>21.0</td><td>-1.0</td><td>null</td><td>&quot;55 FRUIT ST\n",
       "CENTRAL, MA 02114\n",
       "…</td><td>&quot;Deceased&quot;</td><td>&quot;Tachypnea&quot;</td><td>&quot;Normal&quot;</td><td>0.0</td><td>0.0</td><td>0.0</td><td>1.0</td><td>0.0</td><td>&quot;Yes&quot;</td><td>&quot;High&quot;</td><td>&quot;Male&quot;</td><td>&quot;Not available&quot;</td><td>&quot;No&quot;</td><td>&quot;Institute&quot;</td><td>&quot;No&quot;</td><td>&quot;Yes&quot;</td><td>&quot;-&quot;</td><td>&quot;Not applicable&quot;</td><td>null</td><td>&quot;Yes&quot;</td><td>1.0</td><td>&quot;Singular&quot;</td><td>7.919321</td><td>&quot;inconclusive&quot;</td><td>0.0</td><td>0.0</td><td>1.0</td><td>0.0</td><td>0.0</td><td>&quot;Mitochondrial genetic inherita…</td><td>&quot;Leigh syndrome&quot;</td></tr><tr><td>&quot;PID0x1bf7&quot;</td><td>11.0</td><td>&quot;Yes&quot;</td><td>&quot;No&quot;</td><td>null</td><td>&quot;Yes&quot;</td><td>4.720703</td><td>&quot;Johanna&quot;</td><td>&quot;Stutzman&quot;</td><td>&quot;Suave&quot;</td><td>32.0</td><td>-1.0</td><td>&quot;Carney Hospital&quot;</td><td>&quot;300 LONGWOOD AV\n",
       "FENWAY/KENMORE…</td><td>&quot;Alive&quot;</td><td>&quot;Tachypnea&quot;</td><td>&quot;Tachycardia&quot;</td><td>0.0</td><td>0.0</td><td>0.0</td><td>1.0</td><td>0.0</td><td>null</td><td>&quot;Low&quot;</td><td>&quot;Male&quot;</td><td>&quot;Not available&quot;</td><td>&quot;Not applicable&quot;</td><td>&quot;Institute&quot;</td><td>&quot;No&quot;</td><td>&quot;Yes&quot;</td><td>&quot;-&quot;</td><td>&quot;Not applicable&quot;</td><td>&quot;Yes&quot;</td><td>&quot;No&quot;</td><td>4.0</td><td>&quot;Multiple&quot;</td><td>4.09821</td><td>null</td><td>0.0</td><td>0.0</td><td>0.0</td><td>0.0</td><td>-1.0</td><td>&quot;Multifactorial genetic inherit…</td><td>&quot;Cancer&quot;</td></tr><tr><td>&hellip;</td><td>&hellip;</td><td>&hellip;</td><td>&hellip;</td><td>&hellip;</td><td>&hellip;</td><td>&hellip;</td><td>&hellip;</td><td>&hellip;</td><td>&hellip;</td><td>&hellip;</td><td>&hellip;</td><td>&hellip;</td><td>&hellip;</td><td>&hellip;</td><td>&hellip;</td><td>&hellip;</td><td>&hellip;</td><td>&hellip;</td><td>&hellip;</td><td>&hellip;</td><td>&hellip;</td><td>&hellip;</td><td>&hellip;</td><td>&hellip;</td><td>&hellip;</td><td>&hellip;</td><td>&hellip;</td><td>&hellip;</td><td>&hellip;</td><td>&hellip;</td><td>&hellip;</td><td>&hellip;</td><td>&hellip;</td><td>&hellip;</td><td>&hellip;</td><td>&hellip;</td><td>&hellip;</td><td>&hellip;</td><td>&hellip;</td><td>&hellip;</td><td>&hellip;</td><td>&hellip;</td><td>&hellip;</td><td>&hellip;</td></tr><tr><td>&quot;PID0x5598&quot;</td><td>4.0</td><td>&quot;Yes&quot;</td><td>&quot;Yes&quot;</td><td>&quot;Yes&quot;</td><td>&quot;No&quot;</td><td>5.258298</td><td>&quot;Lynn&quot;</td><td>null</td><td>&quot;Alhassane&quot;</td><td>35.0</td><td>64.0</td><td>&quot;Franciscan Children&#x27;s&nbsp;&nbsp;Hospita…</td><td>&quot;1153 CENTRE ST\n",
       "JAMAICA PLAIN, …</td><td>&quot;Deceased&quot;</td><td>&quot;Normal (30-60)&quot;</td><td>&quot;Tachycardia&quot;</td><td>-1.0</td><td>0.0</td><td>-1.0</td><td>1.0</td><td>0.0</td><td>&quot;Yes&quot;</td><td>&quot;High&quot;</td><td>&quot;Female&quot;</td><td>&quot;No&quot;</td><td>&quot;No&quot;</td><td>&quot;Institute&quot;</td><td>null</td><td>&quot;No&quot;</td><td>&quot;Not applicable&quot;</td><td>&quot;No&quot;</td><td>&quot;Yes&quot;</td><td>&quot;No&quot;</td><td>3.0</td><td>&quot;Multiple&quot;</td><td>6.584811</td><td>&quot;inconclusive&quot;</td><td>0.0</td><td>0.0</td><td>1.0</td><td>0.0</td><td>0.0</td><td>&quot;Mitochondrial genetic inherita…</td><td>&quot;Leigh syndrome&quot;</td></tr><tr><td>&quot;PID0x19cb&quot;</td><td>8.0</td><td>&quot;No&quot;</td><td>&quot;Yes&quot;</td><td>&quot;No&quot;</td><td>&quot;Yes&quot;</td><td>4.97422</td><td>&quot;Matthew&quot;</td><td>&quot;Farley&quot;</td><td>&quot;Dartanion&quot;</td><td>-1.0</td><td>56.0</td><td>&quot;Faulkner Hospital&quot;</td><td>&quot;170 MORTON ST\n",
       "ROSLINDALE, MA 0…</td><td>&quot;Alive&quot;</td><td>&quot;Normal (30-60)&quot;</td><td>&quot;Normal&quot;</td><td>-1.0</td><td>0.0</td><td>-1.0</td><td>1.0</td><td>-1.0</td><td>null</td><td>&quot;High&quot;</td><td>&quot;Ambiguous&quot;</td><td>&quot;No&quot;</td><td>&quot;Not applicable&quot;</td><td>&quot;Institute&quot;</td><td>&quot;Yes&quot;</td><td>&quot;Yes&quot;</td><td>&quot;No&quot;</td><td>&quot;-&quot;</td><td>&quot;Yes&quot;</td><td>&quot;No&quot;</td><td>2.0</td><td>&quot;Multiple&quot;</td><td>7.041556</td><td>&quot;inconclusive&quot;</td><td>1.0</td><td>1.0</td><td>1.0</td><td>1.0</td><td>0.0</td><td>&quot;Multifactorial genetic inherit…</td><td>&quot;Diabetes&quot;</td></tr><tr><td>&quot;PID0x3c4f&quot;</td><td>8.0</td><td>&quot;Yes&quot;</td><td>&quot;No&quot;</td><td>&quot;Yes&quot;</td><td>&quot;No&quot;</td><td>5.18647</td><td>&quot;John&quot;</td><td>null</td><td>&quot;Cavani&quot;</td><td>35.0</td><td>51.0</td><td>&quot;Not applicable&quot;</td><td>&quot;-&quot;</td><td>&quot;Deceased&quot;</td><td>&quot;Tachypnea&quot;</td><td>&quot;Normal&quot;</td><td>0.0</td><td>0.0</td><td>0.0</td><td>1.0</td><td>-1.0</td><td>&quot;Yes&quot;</td><td>&quot;High&quot;</td><td>&quot;Male&quot;</td><td>&quot;No&quot;</td><td>&quot;None&quot;</td><td>&quot;Home&quot;</td><td>&quot;No&quot;</td><td>&quot;No&quot;</td><td>null</td><td>&quot;No&quot;</td><td>&quot;No&quot;</td><td>&quot;No&quot;</td><td>2.0</td><td>&quot;Singular&quot;</td><td>7.715464</td><td>&quot;normal&quot;</td><td>0.0</td><td>0.0</td><td>0.0</td><td>1.0</td><td>-1.0</td><td>&quot;Mitochondrial genetic inherita…</td><td>&quot;Mitochondrial myopathy&quot;</td></tr><tr><td>&quot;PID0x13a&quot;</td><td>7.0</td><td>&quot;Yes&quot;</td><td>&quot;No&quot;</td><td>&quot;Yes&quot;</td><td>&quot;Yes&quot;</td><td>4.858543</td><td>&quot;Sharon&quot;</td><td>null</td><td>&quot;Bomer&quot;</td><td>19.0</td><td>-1.0</td><td>&quot;Not applicable&quot;</td><td>&quot;-&quot;</td><td>&quot;Alive&quot;</td><td>&quot;Tachypnea&quot;</td><td>&quot;Tachycardia&quot;</td><td>0.0</td><td>0.0</td><td>0.0</td><td>1.0</td><td>0.0</td><td>&quot;Yes&quot;</td><td>&quot;High&quot;</td><td>&quot;Male&quot;</td><td>&quot;No record&quot;</td><td>&quot;Not applicable&quot;</td><td>&quot;Home&quot;</td><td>&quot;Yes&quot;</td><td>&quot;Yes&quot;</td><td>&quot;-&quot;</td><td>&quot;Yes&quot;</td><td>&quot;Yes&quot;</td><td>&quot;No&quot;</td><td>1.0</td><td>&quot;Multiple&quot;</td><td>8.43767</td><td>&quot;abnormal&quot;</td><td>1.0</td><td>1.0</td><td>1.0</td><td>0.0</td><td>0.0</td><td>null</td><td>&quot;Leigh syndrome&quot;</td></tr><tr><td>&quot;PID0x9332&quot;</td><td>11.0</td><td>&quot;Yes&quot;</td><td>&quot;No&quot;</td><td>&quot;No&quot;</td><td>&quot;No&quot;</td><td>4.738067</td><td>&quot;Andrew&quot;</td><td>&quot;Mose&quot;</td><td>&quot;Eban&quot;</td><td>32.0</td><td>62.0</td><td>&quot;Hebrew Rehabilitation Center&quot;</td><td>&quot;300 LONGWOOD AV\n",
       "FENWAY/KENMORE…</td><td>&quot;Deceased&quot;</td><td>&quot;Normal (30-60)&quot;</td><td>&quot;Normal&quot;</td><td>0.0</td><td>0.0</td><td>0.0</td><td>1.0</td><td>0.0</td><td>&quot;Yes&quot;</td><td>&quot;High&quot;</td><td>&quot;Female&quot;</td><td>&quot;Yes&quot;</td><td>&quot;None&quot;</td><td>&quot;Institute&quot;</td><td>&quot;Yes&quot;</td><td>&quot;Yes&quot;</td><td>&quot;Not applicable&quot;</td><td>&quot;No&quot;</td><td>&quot;Yes&quot;</td><td>&quot;Yes&quot;</td><td>4.0</td><td>&quot;Singular&quot;</td><td>11.188371</td><td>&quot;normal&quot;</td><td>1.0</td><td>0.0</td><td>1.0</td><td>1.0</td><td>1.0</td><td>&quot;Multifactorial genetic inherit…</td><td>&quot;Diabetes&quot;</td></tr></tbody></table></div>"
      ],
      "text/plain": [
       "shape: (22_083, 45)\n",
       "┌───────────┬───────────┬───────────┬───────────┬───┬───────────┬───────────┬───────────┬──────────┐\n",
       "│ Patient   ┆ Patient   ┆ Genes in  ┆ Inherited ┆ … ┆ Symptom 4 ┆ Symptom 5 ┆ Genetic   ┆ Disorder │\n",
       "│ Id        ┆ Age       ┆ mother's  ┆ from      ┆   ┆ ---       ┆ ---       ┆ Disorder  ┆ Subclass │\n",
       "│ ---       ┆ ---       ┆ side      ┆ father    ┆   ┆ f64       ┆ f64       ┆ ---       ┆ ---      │\n",
       "│ str       ┆ f64       ┆ ---       ┆ ---       ┆   ┆           ┆           ┆ str       ┆ str      │\n",
       "│           ┆           ┆ str       ┆ str       ┆   ┆           ┆           ┆           ┆          │\n",
       "╞═══════════╪═══════════╪═══════════╪═══════════╪═══╪═══════════╪═══════════╪═══════════╪══════════╡\n",
       "│ PID0x6418 ┆ 2.0       ┆ Yes       ┆ No        ┆ … ┆ 1.0       ┆ 1.0       ┆ Mitochond ┆ Leber's  │\n",
       "│           ┆           ┆           ┆           ┆   ┆           ┆           ┆ rial      ┆ heredita │\n",
       "│           ┆           ┆           ┆           ┆   ┆           ┆           ┆ genetic   ┆ ry optic │\n",
       "│           ┆           ┆           ┆           ┆   ┆           ┆           ┆ inherita… ┆ neuro…   │\n",
       "│ PID0x25d5 ┆ 4.0       ┆ Yes       ┆ Yes       ┆ … ┆ 1.0       ┆ 0.0       ┆ null      ┆ Cystic   │\n",
       "│           ┆           ┆           ┆           ┆   ┆           ┆           ┆           ┆ fibrosis │\n",
       "│ PID0x4a82 ┆ 6.0       ┆ Yes       ┆ No        ┆ … ┆ 1.0       ┆ 1.0       ┆ Multifact ┆ Diabetes │\n",
       "│           ┆           ┆           ┆           ┆   ┆           ┆           ┆ orial     ┆          │\n",
       "│           ┆           ┆           ┆           ┆   ┆           ┆           ┆ genetic   ┆          │\n",
       "│           ┆           ┆           ┆           ┆   ┆           ┆           ┆ inherit…  ┆          │\n",
       "│ PID0x4ac8 ┆ 12.0      ┆ Yes       ┆ No        ┆ … ┆ 0.0       ┆ 0.0       ┆ Mitochond ┆ Leigh    │\n",
       "│           ┆           ┆           ┆           ┆   ┆           ┆           ┆ rial      ┆ syndrome │\n",
       "│           ┆           ┆           ┆           ┆   ┆           ┆           ┆ genetic   ┆          │\n",
       "│           ┆           ┆           ┆           ┆   ┆           ┆           ┆ inherita… ┆          │\n",
       "│ PID0x1bf7 ┆ 11.0      ┆ Yes       ┆ No        ┆ … ┆ 0.0       ┆ -1.0      ┆ Multifact ┆ Cancer   │\n",
       "│           ┆           ┆           ┆           ┆   ┆           ┆           ┆ orial     ┆          │\n",
       "│           ┆           ┆           ┆           ┆   ┆           ┆           ┆ genetic   ┆          │\n",
       "│           ┆           ┆           ┆           ┆   ┆           ┆           ┆ inherit…  ┆          │\n",
       "│ …         ┆ …         ┆ …         ┆ …         ┆ … ┆ …         ┆ …         ┆ …         ┆ …        │\n",
       "│ PID0x5598 ┆ 4.0       ┆ Yes       ┆ Yes       ┆ … ┆ 0.0       ┆ 0.0       ┆ Mitochond ┆ Leigh    │\n",
       "│           ┆           ┆           ┆           ┆   ┆           ┆           ┆ rial      ┆ syndrome │\n",
       "│           ┆           ┆           ┆           ┆   ┆           ┆           ┆ genetic   ┆          │\n",
       "│           ┆           ┆           ┆           ┆   ┆           ┆           ┆ inherita… ┆          │\n",
       "│ PID0x19cb ┆ 8.0       ┆ No        ┆ Yes       ┆ … ┆ 1.0       ┆ 0.0       ┆ Multifact ┆ Diabetes │\n",
       "│           ┆           ┆           ┆           ┆   ┆           ┆           ┆ orial     ┆          │\n",
       "│           ┆           ┆           ┆           ┆   ┆           ┆           ┆ genetic   ┆          │\n",
       "│           ┆           ┆           ┆           ┆   ┆           ┆           ┆ inherit…  ┆          │\n",
       "│ PID0x3c4f ┆ 8.0       ┆ Yes       ┆ No        ┆ … ┆ 1.0       ┆ -1.0      ┆ Mitochond ┆ Mitochon │\n",
       "│           ┆           ┆           ┆           ┆   ┆           ┆           ┆ rial      ┆ drial    │\n",
       "│           ┆           ┆           ┆           ┆   ┆           ┆           ┆ genetic   ┆ myopathy │\n",
       "│           ┆           ┆           ┆           ┆   ┆           ┆           ┆ inherita… ┆          │\n",
       "│ PID0x13a  ┆ 7.0       ┆ Yes       ┆ No        ┆ … ┆ 0.0       ┆ 0.0       ┆ null      ┆ Leigh    │\n",
       "│           ┆           ┆           ┆           ┆   ┆           ┆           ┆           ┆ syndrome │\n",
       "│ PID0x9332 ┆ 11.0      ┆ Yes       ┆ No        ┆ … ┆ 1.0       ┆ 1.0       ┆ Multifact ┆ Diabetes │\n",
       "│           ┆           ┆           ┆           ┆   ┆           ┆           ┆ orial     ┆          │\n",
       "│           ┆           ┆           ┆           ┆   ┆           ┆           ┆ genetic   ┆          │\n",
       "│           ┆           ┆           ┆           ┆   ┆           ┆           ┆ inherit…  ┆          │\n",
       "└───────────┴───────────┴───────────┴───────────┴───┴───────────┴───────────┴───────────┴──────────┘"
      ]
     },
     "execution_count": 22,
     "metadata": {},
     "output_type": "execute_result"
    }
   ],
   "source": [
    "df_datos.fill_null(-1)"
   ]
  },
  {
   "cell_type": "code",
   "execution_count": 23,
   "id": "133de9e5",
   "metadata": {},
   "outputs": [
    {
     "data": {
      "text/html": [
       "<div><style>\n",
       ".dataframe > thead > tr,\n",
       ".dataframe > tbody > tr {\n",
       "  text-align: right;\n",
       "  white-space: pre-wrap;\n",
       "}\n",
       "</style>\n",
       "<small>shape: (9, 46)</small><table border=\"1\" class=\"dataframe\"><thead><tr><th>statistic</th><th>Patient Id</th><th>Patient Age</th><th>Genes in mother&#x27;s side</th><th>Inherited from father</th><th>Maternal gene</th><th>Paternal gene</th><th>Blood cell count (mcL)</th><th>Patient First Name</th><th>Family Name</th><th>Father&#x27;s name</th><th>Mother&#x27;s age</th><th>Father&#x27;s age</th><th>Institute Name</th><th>Location of Institute</th><th>Status</th><th>Respiratory Rate (breaths/min)</th><th>Heart Rate (rates/min</th><th>Test 1</th><th>Test 2</th><th>Test 3</th><th>Test 4</th><th>Test 5</th><th>Parental consent</th><th>Follow-up</th><th>Gender</th><th>Birth asphyxia</th><th>Autopsy shows birth defect (if applicable)</th><th>Place of birth</th><th>Folic acid details (peri-conceptional)</th><th>H/O serious maternal illness</th><th>H/O radiation exposure (x-ray)</th><th>H/O substance abuse</th><th>Assisted conception IVF/ART</th><th>History of anomalies in previous pregnancies</th><th>No. of previous abortion</th><th>Birth defects</th><th>White Blood cell count (thousand per microliter)</th><th>Blood test result</th><th>Symptom 1</th><th>Symptom 2</th><th>Symptom 3</th><th>Symptom 4</th><th>Symptom 5</th><th>Genetic Disorder</th><th>Disorder Subclass</th></tr><tr><td>str</td><td>str</td><td>f64</td><td>str</td><td>str</td><td>str</td><td>str</td><td>f64</td><td>str</td><td>str</td><td>str</td><td>f64</td><td>f64</td><td>str</td><td>str</td><td>str</td><td>str</td><td>str</td><td>f64</td><td>f64</td><td>f64</td><td>f64</td><td>f64</td><td>str</td><td>str</td><td>str</td><td>str</td><td>str</td><td>str</td><td>str</td><td>str</td><td>str</td><td>str</td><td>str</td><td>str</td><td>f64</td><td>str</td><td>f64</td><td>str</td><td>f64</td><td>f64</td><td>f64</td><td>f64</td><td>f64</td><td>str</td><td>str</td></tr></thead><tbody><tr><td>&quot;count&quot;</td><td>&quot;22083&quot;</td><td>20656.0</td><td>&quot;22083&quot;</td><td>&quot;21777&quot;</td><td>&quot;19273&quot;</td><td>&quot;22083&quot;</td><td>22083.0</td><td>&quot;22083&quot;</td><td>&quot;12392&quot;</td><td>&quot;22083&quot;</td><td>16047.0</td><td>16097.0</td><td>&quot;16977&quot;</td><td>&quot;22083&quot;</td><td>&quot;22083&quot;</td><td>&quot;19934&quot;</td><td>&quot;19970&quot;</td><td>19956.0</td><td>19931.0</td><td>19936.0</td><td>19943.0</td><td>19913.0</td><td>&quot;19958&quot;</td><td>&quot;19917&quot;</td><td>&quot;19910&quot;</td><td>&quot;19944&quot;</td><td>&quot;21057&quot;</td><td>&quot;19959&quot;</td><td>&quot;19966&quot;</td><td>&quot;19931&quot;</td><td>&quot;19930&quot;</td><td>&quot;19888&quot;</td><td>&quot;19961&quot;</td><td>&quot;19911&quot;</td><td>19921.0</td><td>&quot;19929&quot;</td><td>19935.0</td><td>&quot;19938&quot;</td><td>19928.0</td><td>19861.0</td><td>19982.0</td><td>19970.0</td><td>19930.0</td><td>&quot;19937&quot;</td><td>&quot;19915&quot;</td></tr><tr><td>&quot;null_count&quot;</td><td>&quot;0&quot;</td><td>1427.0</td><td>&quot;0&quot;</td><td>&quot;306&quot;</td><td>&quot;2810&quot;</td><td>&quot;0&quot;</td><td>0.0</td><td>&quot;0&quot;</td><td>&quot;9691&quot;</td><td>&quot;0&quot;</td><td>6036.0</td><td>5986.0</td><td>&quot;5106&quot;</td><td>&quot;0&quot;</td><td>&quot;0&quot;</td><td>&quot;2149&quot;</td><td>&quot;2113&quot;</td><td>2127.0</td><td>2152.0</td><td>2147.0</td><td>2140.0</td><td>2170.0</td><td>&quot;2125&quot;</td><td>&quot;2166&quot;</td><td>&quot;2173&quot;</td><td>&quot;2139&quot;</td><td>&quot;1026&quot;</td><td>&quot;2124&quot;</td><td>&quot;2117&quot;</td><td>&quot;2152&quot;</td><td>&quot;2153&quot;</td><td>&quot;2195&quot;</td><td>&quot;2122&quot;</td><td>&quot;2172&quot;</td><td>2162.0</td><td>&quot;2154&quot;</td><td>2148.0</td><td>&quot;2145&quot;</td><td>2155.0</td><td>2222.0</td><td>2101.0</td><td>2113.0</td><td>2153.0</td><td>&quot;2146&quot;</td><td>&quot;2168&quot;</td></tr><tr><td>&quot;mean&quot;</td><td>null</td><td>6.974148</td><td>null</td><td>null</td><td>null</td><td>null</td><td>4.898871</td><td>null</td><td>null</td><td>null</td><td>34.526454</td><td>41.972852</td><td>null</td><td>null</td><td>null</td><td>null</td><td>null</td><td>0.0</td><td>0.0</td><td>0.0</td><td>1.0</td><td>0.0</td><td>null</td><td>null</td><td>null</td><td>null</td><td>null</td><td>null</td><td>null</td><td>null</td><td>null</td><td>null</td><td>null</td><td>null</td><td>2.003062</td><td>null</td><td>7.486224</td><td>null</td><td>0.592483</td><td>0.551886</td><td>0.536233</td><td>0.497747</td><td>0.461917</td><td>null</td><td>null</td></tr><tr><td>&quot;std&quot;</td><td>null</td><td>4.319475</td><td>null</td><td>null</td><td>null</td><td>null</td><td>0.199663</td><td>null</td><td>null</td><td>null</td><td>9.852598</td><td>13.035501</td><td>null</td><td>null</td><td>null</td><td>null</td><td>null</td><td>0.0</td><td>0.0</td><td>0.0</td><td>0.0</td><td>0.0</td><td>null</td><td>null</td><td>null</td><td>null</td><td>null</td><td>null</td><td>null</td><td>null</td><td>null</td><td>null</td><td>null</td><td>null</td><td>1.411919</td><td>null</td><td>2.653393</td><td>null</td><td>0.491385</td><td>0.497313</td><td>0.498698</td><td>0.500007</td><td>0.49856</td><td>null</td><td>null</td></tr><tr><td>&quot;min&quot;</td><td>&quot;PID0x1&quot;</td><td>0.0</td><td>&quot;No&quot;</td><td>&quot;No&quot;</td><td>&quot;No&quot;</td><td>&quot;No&quot;</td><td>4.092727</td><td>&quot;Aaron&quot;</td><td>&quot;Aaron&quot;</td><td>&quot;Aaban&quot;</td><td>18.0</td><td>20.0</td><td>&quot;Arbour Hospital&quot;</td><td>&quot;-&quot;</td><td>&quot;Alive&quot;</td><td>&quot;Normal (30-60)&quot;</td><td>&quot;Normal&quot;</td><td>0.0</td><td>0.0</td><td>0.0</td><td>1.0</td><td>0.0</td><td>&quot;Yes&quot;</td><td>&quot;High&quot;</td><td>&quot;Ambiguous&quot;</td><td>&quot;No&quot;</td><td>&quot;No&quot;</td><td>&quot;Home&quot;</td><td>&quot;No&quot;</td><td>&quot;No&quot;</td><td>&quot;-&quot;</td><td>&quot;-&quot;</td><td>&quot;No&quot;</td><td>&quot;No&quot;</td><td>0.0</td><td>&quot;Multiple&quot;</td><td>3.0</td><td>&quot;abnormal&quot;</td><td>0.0</td><td>0.0</td><td>0.0</td><td>0.0</td><td>0.0</td><td>&quot;Mitochondrial genetic inherita…</td><td>&quot;Alzheimer&#x27;s&quot;</td></tr><tr><td>&quot;25%&quot;</td><td>null</td><td>3.0</td><td>null</td><td>null</td><td>null</td><td>null</td><td>4.76315</td><td>null</td><td>null</td><td>null</td><td>26.0</td><td>31.0</td><td>null</td><td>null</td><td>null</td><td>null</td><td>null</td><td>0.0</td><td>0.0</td><td>0.0</td><td>1.0</td><td>0.0</td><td>null</td><td>null</td><td>null</td><td>null</td><td>null</td><td>null</td><td>null</td><td>null</td><td>null</td><td>null</td><td>null</td><td>null</td><td>1.0</td><td>null</td><td>5.424878</td><td>null</td><td>0.0</td><td>0.0</td><td>0.0</td><td>0.0</td><td>0.0</td><td>null</td><td>null</td></tr><tr><td>&quot;50%&quot;</td><td>null</td><td>7.0</td><td>null</td><td>null</td><td>null</td><td>null</td><td>4.899399</td><td>null</td><td>null</td><td>null</td><td>35.0</td><td>42.0</td><td>null</td><td>null</td><td>null</td><td>null</td><td>null</td><td>0.0</td><td>0.0</td><td>0.0</td><td>1.0</td><td>0.0</td><td>null</td><td>null</td><td>null</td><td>null</td><td>null</td><td>null</td><td>null</td><td>null</td><td>null</td><td>null</td><td>null</td><td>null</td><td>2.0</td><td>null</td><td>7.477132</td><td>null</td><td>1.0</td><td>1.0</td><td>1.0</td><td>0.0</td><td>0.0</td><td>null</td><td>null</td></tr><tr><td>&quot;75%&quot;</td><td>null</td><td>11.0</td><td>null</td><td>null</td><td>null</td><td>null</td><td>5.033831</td><td>null</td><td>null</td><td>null</td><td>43.0</td><td>53.0</td><td>null</td><td>null</td><td>null</td><td>null</td><td>null</td><td>0.0</td><td>0.0</td><td>0.0</td><td>1.0</td><td>0.0</td><td>null</td><td>null</td><td>null</td><td>null</td><td>null</td><td>null</td><td>null</td><td>null</td><td>null</td><td>null</td><td>null</td><td>null</td><td>3.0</td><td>null</td><td>9.526214</td><td>null</td><td>1.0</td><td>1.0</td><td>1.0</td><td>1.0</td><td>1.0</td><td>null</td><td>null</td></tr><tr><td>&quot;max&quot;</td><td>&quot;PID0xffe&quot;</td><td>14.0</td><td>&quot;Yes&quot;</td><td>&quot;Yes&quot;</td><td>&quot;Yes&quot;</td><td>&quot;Yes&quot;</td><td>5.609829</td><td>&quot;Zulma&quot;</td><td>&quot;Zywiec&quot;</td><td>&quot;Zzyzx&quot;</td><td>51.0</td><td>64.0</td><td>&quot;Va Hospital&quot;</td><td>&quot;90 CUSHING AV\n",
       "DORCHESTER, MA 0…</td><td>&quot;Deceased&quot;</td><td>&quot;Tachypnea&quot;</td><td>&quot;Tachycardia&quot;</td><td>0.0</td><td>0.0</td><td>0.0</td><td>1.0</td><td>0.0</td><td>&quot;Yes&quot;</td><td>&quot;Low&quot;</td><td>&quot;Male&quot;</td><td>&quot;Yes&quot;</td><td>&quot;Yes&quot;</td><td>&quot;Institute&quot;</td><td>&quot;Yes&quot;</td><td>&quot;Yes&quot;</td><td>&quot;Yes&quot;</td><td>&quot;Yes&quot;</td><td>&quot;Yes&quot;</td><td>&quot;Yes&quot;</td><td>4.0</td><td>&quot;Singular&quot;</td><td>12.0</td><td>&quot;slightly abnormal&quot;</td><td>1.0</td><td>1.0</td><td>1.0</td><td>1.0</td><td>1.0</td><td>&quot;Single-gene inheritance diseas…</td><td>&quot;Tay-Sachs&quot;</td></tr></tbody></table></div>"
      ],
      "text/plain": [
       "shape: (9, 46)\n",
       "┌───────────┬───────────┬───────────┬───────────┬───┬───────────┬───────────┬───────────┬──────────┐\n",
       "│ statistic ┆ Patient   ┆ Patient   ┆ Genes in  ┆ … ┆ Symptom 4 ┆ Symptom 5 ┆ Genetic   ┆ Disorder │\n",
       "│ ---       ┆ Id        ┆ Age       ┆ mother's  ┆   ┆ ---       ┆ ---       ┆ Disorder  ┆ Subclass │\n",
       "│ str       ┆ ---       ┆ ---       ┆ side      ┆   ┆ f64       ┆ f64       ┆ ---       ┆ ---      │\n",
       "│           ┆ str       ┆ f64       ┆ ---       ┆   ┆           ┆           ┆ str       ┆ str      │\n",
       "│           ┆           ┆           ┆ str       ┆   ┆           ┆           ┆           ┆          │\n",
       "╞═══════════╪═══════════╪═══════════╪═══════════╪═══╪═══════════╪═══════════╪═══════════╪══════════╡\n",
       "│ count     ┆ 22083     ┆ 20656.0   ┆ 22083     ┆ … ┆ 19970.0   ┆ 19930.0   ┆ 19937     ┆ 19915    │\n",
       "│ null_coun ┆ 0         ┆ 1427.0    ┆ 0         ┆ … ┆ 2113.0    ┆ 2153.0    ┆ 2146      ┆ 2168     │\n",
       "│ t         ┆           ┆           ┆           ┆   ┆           ┆           ┆           ┆          │\n",
       "│ mean      ┆ null      ┆ 6.974148  ┆ null      ┆ … ┆ 0.497747  ┆ 0.461917  ┆ null      ┆ null     │\n",
       "│ std       ┆ null      ┆ 4.319475  ┆ null      ┆ … ┆ 0.500007  ┆ 0.49856   ┆ null      ┆ null     │\n",
       "│ min       ┆ PID0x1    ┆ 0.0       ┆ No        ┆ … ┆ 0.0       ┆ 0.0       ┆ Mitochond ┆ Alzheime │\n",
       "│           ┆           ┆           ┆           ┆   ┆           ┆           ┆ rial      ┆ r's      │\n",
       "│           ┆           ┆           ┆           ┆   ┆           ┆           ┆ genetic   ┆          │\n",
       "│           ┆           ┆           ┆           ┆   ┆           ┆           ┆ inherita… ┆          │\n",
       "│ 25%       ┆ null      ┆ 3.0       ┆ null      ┆ … ┆ 0.0       ┆ 0.0       ┆ null      ┆ null     │\n",
       "│ 50%       ┆ null      ┆ 7.0       ┆ null      ┆ … ┆ 0.0       ┆ 0.0       ┆ null      ┆ null     │\n",
       "│ 75%       ┆ null      ┆ 11.0      ┆ null      ┆ … ┆ 1.0       ┆ 1.0       ┆ null      ┆ null     │\n",
       "│ max       ┆ PID0xffe  ┆ 14.0      ┆ Yes       ┆ … ┆ 1.0       ┆ 1.0       ┆ Single-ge ┆ Tay-Sach │\n",
       "│           ┆           ┆           ┆           ┆   ┆           ┆           ┆ ne inheri ┆ s        │\n",
       "│           ┆           ┆           ┆           ┆   ┆           ┆           ┆ tance     ┆          │\n",
       "│           ┆           ┆           ┆           ┆   ┆           ┆           ┆ diseas…   ┆          │\n",
       "└───────────┴───────────┴───────────┴───────────┴───┴───────────┴───────────┴───────────┴──────────┘"
      ]
     },
     "execution_count": 23,
     "metadata": {},
     "output_type": "execute_result"
    }
   ],
   "source": [
    "df_datos.describe()"
   ]
  },
  {
   "cell_type": "code",
   "execution_count": 26,
   "id": "3602be6a",
   "metadata": {},
   "outputs": [
    {
     "data": {
      "text/html": [
       "<div><style>\n",
       ".dataframe > thead > tr,\n",
       ".dataframe > tbody > tr {\n",
       "  text-align: right;\n",
       "  white-space: pre-wrap;\n",
       "}\n",
       "</style>\n",
       "<small>shape: (9, 46)</small><table border=\"1\" class=\"dataframe\"><thead><tr><th>statistic</th><th>Patient Id</th><th>Patient Age</th><th>Genes in mother&#x27;s side</th><th>Inherited from father</th><th>Maternal gene</th><th>Paternal gene</th><th>Blood cell count (mcL)</th><th>Patient First Name</th><th>Family Name</th><th>Father&#x27;s name</th><th>Mother&#x27;s age</th><th>Father&#x27;s age</th><th>Institute Name</th><th>Location of Institute</th><th>Status</th><th>Respiratory Rate (breaths/min)</th><th>Heart Rate (rates/min</th><th>Test 1</th><th>Test 2</th><th>Test 3</th><th>Test 4</th><th>Test 5</th><th>Parental consent</th><th>Follow-up</th><th>Gender</th><th>Birth asphyxia</th><th>Autopsy shows birth defect (if applicable)</th><th>Place of birth</th><th>Folic acid details (peri-conceptional)</th><th>H/O serious maternal illness</th><th>H/O radiation exposure (x-ray)</th><th>H/O substance abuse</th><th>Assisted conception IVF/ART</th><th>History of anomalies in previous pregnancies</th><th>No. of previous abortion</th><th>Birth defects</th><th>White Blood cell count (thousand per microliter)</th><th>Blood test result</th><th>Symptom 1</th><th>Symptom 2</th><th>Symptom 3</th><th>Symptom 4</th><th>Symptom 5</th><th>Genetic Disorder</th><th>Disorder Subclass</th></tr><tr><td>str</td><td>str</td><td>f64</td><td>str</td><td>str</td><td>str</td><td>str</td><td>f64</td><td>str</td><td>str</td><td>str</td><td>f64</td><td>f64</td><td>str</td><td>str</td><td>str</td><td>str</td><td>str</td><td>f64</td><td>f64</td><td>f64</td><td>f64</td><td>f64</td><td>str</td><td>str</td><td>str</td><td>str</td><td>str</td><td>str</td><td>str</td><td>str</td><td>str</td><td>str</td><td>str</td><td>str</td><td>f64</td><td>str</td><td>f64</td><td>str</td><td>f64</td><td>f64</td><td>f64</td><td>f64</td><td>f64</td><td>str</td><td>str</td></tr></thead><tbody><tr><td>&quot;count&quot;</td><td>&quot;22083&quot;</td><td>20656.0</td><td>&quot;22083&quot;</td><td>&quot;21777&quot;</td><td>&quot;19273&quot;</td><td>&quot;22083&quot;</td><td>22083.0</td><td>&quot;22083&quot;</td><td>&quot;12392&quot;</td><td>&quot;22083&quot;</td><td>16047.0</td><td>16097.0</td><td>&quot;16977&quot;</td><td>&quot;22083&quot;</td><td>&quot;22083&quot;</td><td>&quot;19934&quot;</td><td>&quot;19970&quot;</td><td>19956.0</td><td>19931.0</td><td>19936.0</td><td>19943.0</td><td>19913.0</td><td>&quot;19958&quot;</td><td>&quot;19917&quot;</td><td>&quot;19910&quot;</td><td>&quot;19944&quot;</td><td>&quot;21057&quot;</td><td>&quot;19959&quot;</td><td>&quot;19966&quot;</td><td>&quot;19931&quot;</td><td>&quot;19930&quot;</td><td>&quot;19888&quot;</td><td>&quot;19961&quot;</td><td>&quot;19911&quot;</td><td>19921.0</td><td>&quot;19929&quot;</td><td>19935.0</td><td>&quot;19938&quot;</td><td>19928.0</td><td>19861.0</td><td>19982.0</td><td>19970.0</td><td>19930.0</td><td>&quot;19937&quot;</td><td>&quot;19915&quot;</td></tr><tr><td>&quot;null_count&quot;</td><td>&quot;0&quot;</td><td>1427.0</td><td>&quot;0&quot;</td><td>&quot;306&quot;</td><td>&quot;2810&quot;</td><td>&quot;0&quot;</td><td>0.0</td><td>&quot;0&quot;</td><td>&quot;9691&quot;</td><td>&quot;0&quot;</td><td>6036.0</td><td>5986.0</td><td>&quot;5106&quot;</td><td>&quot;0&quot;</td><td>&quot;0&quot;</td><td>&quot;2149&quot;</td><td>&quot;2113&quot;</td><td>2127.0</td><td>2152.0</td><td>2147.0</td><td>2140.0</td><td>2170.0</td><td>&quot;2125&quot;</td><td>&quot;2166&quot;</td><td>&quot;2173&quot;</td><td>&quot;2139&quot;</td><td>&quot;1026&quot;</td><td>&quot;2124&quot;</td><td>&quot;2117&quot;</td><td>&quot;2152&quot;</td><td>&quot;2153&quot;</td><td>&quot;2195&quot;</td><td>&quot;2122&quot;</td><td>&quot;2172&quot;</td><td>2162.0</td><td>&quot;2154&quot;</td><td>2148.0</td><td>&quot;2145&quot;</td><td>2155.0</td><td>2222.0</td><td>2101.0</td><td>2113.0</td><td>2153.0</td><td>&quot;2146&quot;</td><td>&quot;2168&quot;</td></tr><tr><td>&quot;mean&quot;</td><td>null</td><td>6.974148</td><td>null</td><td>null</td><td>null</td><td>null</td><td>4.898871</td><td>null</td><td>null</td><td>null</td><td>34.526454</td><td>41.972852</td><td>null</td><td>null</td><td>null</td><td>null</td><td>null</td><td>0.0</td><td>0.0</td><td>0.0</td><td>1.0</td><td>0.0</td><td>null</td><td>null</td><td>null</td><td>null</td><td>null</td><td>null</td><td>null</td><td>null</td><td>null</td><td>null</td><td>null</td><td>null</td><td>2.003062</td><td>null</td><td>7.486224</td><td>null</td><td>0.592483</td><td>0.551886</td><td>0.536233</td><td>0.497747</td><td>0.461917</td><td>null</td><td>null</td></tr><tr><td>&quot;std&quot;</td><td>null</td><td>4.319475</td><td>null</td><td>null</td><td>null</td><td>null</td><td>0.199663</td><td>null</td><td>null</td><td>null</td><td>9.852598</td><td>13.035501</td><td>null</td><td>null</td><td>null</td><td>null</td><td>null</td><td>0.0</td><td>0.0</td><td>0.0</td><td>0.0</td><td>0.0</td><td>null</td><td>null</td><td>null</td><td>null</td><td>null</td><td>null</td><td>null</td><td>null</td><td>null</td><td>null</td><td>null</td><td>null</td><td>1.411919</td><td>null</td><td>2.653393</td><td>null</td><td>0.491385</td><td>0.497313</td><td>0.498698</td><td>0.500007</td><td>0.49856</td><td>null</td><td>null</td></tr><tr><td>&quot;min&quot;</td><td>&quot;PID0x1&quot;</td><td>0.0</td><td>&quot;No&quot;</td><td>&quot;No&quot;</td><td>&quot;No&quot;</td><td>&quot;No&quot;</td><td>4.092727</td><td>&quot;Aaron&quot;</td><td>&quot;Aaron&quot;</td><td>&quot;Aaban&quot;</td><td>18.0</td><td>20.0</td><td>&quot;Arbour Hospital&quot;</td><td>&quot;-&quot;</td><td>&quot;Alive&quot;</td><td>&quot;Normal (30-60)&quot;</td><td>&quot;Normal&quot;</td><td>0.0</td><td>0.0</td><td>0.0</td><td>1.0</td><td>0.0</td><td>&quot;Yes&quot;</td><td>&quot;High&quot;</td><td>&quot;Ambiguous&quot;</td><td>&quot;No&quot;</td><td>&quot;No&quot;</td><td>&quot;Home&quot;</td><td>&quot;No&quot;</td><td>&quot;No&quot;</td><td>&quot;-&quot;</td><td>&quot;-&quot;</td><td>&quot;No&quot;</td><td>&quot;No&quot;</td><td>0.0</td><td>&quot;Multiple&quot;</td><td>3.0</td><td>&quot;abnormal&quot;</td><td>0.0</td><td>0.0</td><td>0.0</td><td>0.0</td><td>0.0</td><td>&quot;Mitochondrial genetic inherita…</td><td>&quot;Alzheimer&#x27;s&quot;</td></tr><tr><td>&quot;25%&quot;</td><td>null</td><td>3.0</td><td>null</td><td>null</td><td>null</td><td>null</td><td>4.76315</td><td>null</td><td>null</td><td>null</td><td>26.0</td><td>31.0</td><td>null</td><td>null</td><td>null</td><td>null</td><td>null</td><td>0.0</td><td>0.0</td><td>0.0</td><td>1.0</td><td>0.0</td><td>null</td><td>null</td><td>null</td><td>null</td><td>null</td><td>null</td><td>null</td><td>null</td><td>null</td><td>null</td><td>null</td><td>null</td><td>1.0</td><td>null</td><td>5.424878</td><td>null</td><td>0.0</td><td>0.0</td><td>0.0</td><td>0.0</td><td>0.0</td><td>null</td><td>null</td></tr><tr><td>&quot;50%&quot;</td><td>null</td><td>7.0</td><td>null</td><td>null</td><td>null</td><td>null</td><td>4.899399</td><td>null</td><td>null</td><td>null</td><td>35.0</td><td>42.0</td><td>null</td><td>null</td><td>null</td><td>null</td><td>null</td><td>0.0</td><td>0.0</td><td>0.0</td><td>1.0</td><td>0.0</td><td>null</td><td>null</td><td>null</td><td>null</td><td>null</td><td>null</td><td>null</td><td>null</td><td>null</td><td>null</td><td>null</td><td>null</td><td>2.0</td><td>null</td><td>7.477132</td><td>null</td><td>1.0</td><td>1.0</td><td>1.0</td><td>0.0</td><td>0.0</td><td>null</td><td>null</td></tr><tr><td>&quot;75%&quot;</td><td>null</td><td>11.0</td><td>null</td><td>null</td><td>null</td><td>null</td><td>5.033831</td><td>null</td><td>null</td><td>null</td><td>43.0</td><td>53.0</td><td>null</td><td>null</td><td>null</td><td>null</td><td>null</td><td>0.0</td><td>0.0</td><td>0.0</td><td>1.0</td><td>0.0</td><td>null</td><td>null</td><td>null</td><td>null</td><td>null</td><td>null</td><td>null</td><td>null</td><td>null</td><td>null</td><td>null</td><td>null</td><td>3.0</td><td>null</td><td>9.526214</td><td>null</td><td>1.0</td><td>1.0</td><td>1.0</td><td>1.0</td><td>1.0</td><td>null</td><td>null</td></tr><tr><td>&quot;max&quot;</td><td>&quot;PID0xffe&quot;</td><td>14.0</td><td>&quot;Yes&quot;</td><td>&quot;Yes&quot;</td><td>&quot;Yes&quot;</td><td>&quot;Yes&quot;</td><td>5.609829</td><td>&quot;Zulma&quot;</td><td>&quot;Zywiec&quot;</td><td>&quot;Zzyzx&quot;</td><td>51.0</td><td>64.0</td><td>&quot;Va Hospital&quot;</td><td>&quot;90 CUSHING AV\n",
       "DORCHESTER, MA 0…</td><td>&quot;Deceased&quot;</td><td>&quot;Tachypnea&quot;</td><td>&quot;Tachycardia&quot;</td><td>0.0</td><td>0.0</td><td>0.0</td><td>1.0</td><td>0.0</td><td>&quot;Yes&quot;</td><td>&quot;Low&quot;</td><td>&quot;Male&quot;</td><td>&quot;Yes&quot;</td><td>&quot;Yes&quot;</td><td>&quot;Institute&quot;</td><td>&quot;Yes&quot;</td><td>&quot;Yes&quot;</td><td>&quot;Yes&quot;</td><td>&quot;Yes&quot;</td><td>&quot;Yes&quot;</td><td>&quot;Yes&quot;</td><td>4.0</td><td>&quot;Singular&quot;</td><td>12.0</td><td>&quot;slightly abnormal&quot;</td><td>1.0</td><td>1.0</td><td>1.0</td><td>1.0</td><td>1.0</td><td>&quot;Single-gene inheritance diseas…</td><td>&quot;Tay-Sachs&quot;</td></tr></tbody></table></div>"
      ],
      "text/plain": [
       "shape: (9, 46)\n",
       "┌───────────┬───────────┬───────────┬───────────┬───┬───────────┬───────────┬───────────┬──────────┐\n",
       "│ statistic ┆ Patient   ┆ Patient   ┆ Genes in  ┆ … ┆ Symptom 4 ┆ Symptom 5 ┆ Genetic   ┆ Disorder │\n",
       "│ ---       ┆ Id        ┆ Age       ┆ mother's  ┆   ┆ ---       ┆ ---       ┆ Disorder  ┆ Subclass │\n",
       "│ str       ┆ ---       ┆ ---       ┆ side      ┆   ┆ f64       ┆ f64       ┆ ---       ┆ ---      │\n",
       "│           ┆ str       ┆ f64       ┆ ---       ┆   ┆           ┆           ┆ str       ┆ str      │\n",
       "│           ┆           ┆           ┆ str       ┆   ┆           ┆           ┆           ┆          │\n",
       "╞═══════════╪═══════════╪═══════════╪═══════════╪═══╪═══════════╪═══════════╪═══════════╪══════════╡\n",
       "│ count     ┆ 22083     ┆ 20656.0   ┆ 22083     ┆ … ┆ 19970.0   ┆ 19930.0   ┆ 19937     ┆ 19915    │\n",
       "│ null_coun ┆ 0         ┆ 1427.0    ┆ 0         ┆ … ┆ 2113.0    ┆ 2153.0    ┆ 2146      ┆ 2168     │\n",
       "│ t         ┆           ┆           ┆           ┆   ┆           ┆           ┆           ┆          │\n",
       "│ mean      ┆ null      ┆ 6.974148  ┆ null      ┆ … ┆ 0.497747  ┆ 0.461917  ┆ null      ┆ null     │\n",
       "│ std       ┆ null      ┆ 4.319475  ┆ null      ┆ … ┆ 0.500007  ┆ 0.49856   ┆ null      ┆ null     │\n",
       "│ min       ┆ PID0x1    ┆ 0.0       ┆ No        ┆ … ┆ 0.0       ┆ 0.0       ┆ Mitochond ┆ Alzheime │\n",
       "│           ┆           ┆           ┆           ┆   ┆           ┆           ┆ rial      ┆ r's      │\n",
       "│           ┆           ┆           ┆           ┆   ┆           ┆           ┆ genetic   ┆          │\n",
       "│           ┆           ┆           ┆           ┆   ┆           ┆           ┆ inherita… ┆          │\n",
       "│ 25%       ┆ null      ┆ 3.0       ┆ null      ┆ … ┆ 0.0       ┆ 0.0       ┆ null      ┆ null     │\n",
       "│ 50%       ┆ null      ┆ 7.0       ┆ null      ┆ … ┆ 0.0       ┆ 0.0       ┆ null      ┆ null     │\n",
       "│ 75%       ┆ null      ┆ 11.0      ┆ null      ┆ … ┆ 1.0       ┆ 1.0       ┆ null      ┆ null     │\n",
       "│ max       ┆ PID0xffe  ┆ 14.0      ┆ Yes       ┆ … ┆ 1.0       ┆ 1.0       ┆ Single-ge ┆ Tay-Sach │\n",
       "│           ┆           ┆           ┆           ┆   ┆           ┆           ┆ ne inheri ┆ s        │\n",
       "│           ┆           ┆           ┆           ┆   ┆           ┆           ┆ tance     ┆          │\n",
       "│           ┆           ┆           ┆           ┆   ┆           ┆           ┆ diseas…   ┆          │\n",
       "└───────────┴───────────┴───────────┴───────────┴───┴───────────┴───────────┴───────────┴──────────┘"
      ]
     },
     "execution_count": 26,
     "metadata": {},
     "output_type": "execute_result"
    }
   ],
   "source": [
    "df_datos.describe()"
   ]
  },
  {
   "cell_type": "code",
   "execution_count": 25,
   "id": "ebd2f3ba",
   "metadata": {},
   "outputs": [
    {
     "data": {
      "text/html": [
       "<div><style>\n",
       ".dataframe > thead > tr,\n",
       ".dataframe > tbody > tr {\n",
       "  text-align: right;\n",
       "  white-space: pre-wrap;\n",
       "}\n",
       "</style>\n",
       "<small>shape: (9, 46)</small><table border=\"1\" class=\"dataframe\"><thead><tr><th>statistic</th><th>Patient Id</th><th>Patient Age</th><th>Genes in mother&#x27;s side</th><th>Inherited from father</th><th>Maternal gene</th><th>Paternal gene</th><th>Blood cell count (mcL)</th><th>Patient First Name</th><th>Family Name</th><th>Father&#x27;s name</th><th>Mother&#x27;s age</th><th>Father&#x27;s age</th><th>Institute Name</th><th>Location of Institute</th><th>Status</th><th>Respiratory Rate (breaths/min)</th><th>Heart Rate (rates/min</th><th>Test 1</th><th>Test 2</th><th>Test 3</th><th>Test 4</th><th>Test 5</th><th>Parental consent</th><th>Follow-up</th><th>Gender</th><th>Birth asphyxia</th><th>Autopsy shows birth defect (if applicable)</th><th>Place of birth</th><th>Folic acid details (peri-conceptional)</th><th>H/O serious maternal illness</th><th>H/O radiation exposure (x-ray)</th><th>H/O substance abuse</th><th>Assisted conception IVF/ART</th><th>History of anomalies in previous pregnancies</th><th>No. of previous abortion</th><th>Birth defects</th><th>White Blood cell count (thousand per microliter)</th><th>Blood test result</th><th>Symptom 1</th><th>Symptom 2</th><th>Symptom 3</th><th>Symptom 4</th><th>Symptom 5</th><th>Genetic Disorder</th><th>Disorder Subclass</th></tr><tr><td>str</td><td>str</td><td>f64</td><td>str</td><td>str</td><td>str</td><td>str</td><td>f64</td><td>str</td><td>str</td><td>str</td><td>f64</td><td>f64</td><td>str</td><td>str</td><td>str</td><td>str</td><td>str</td><td>f64</td><td>f64</td><td>f64</td><td>f64</td><td>f64</td><td>str</td><td>str</td><td>str</td><td>str</td><td>str</td><td>str</td><td>str</td><td>str</td><td>str</td><td>str</td><td>str</td><td>str</td><td>f64</td><td>str</td><td>f64</td><td>str</td><td>f64</td><td>f64</td><td>f64</td><td>f64</td><td>f64</td><td>str</td><td>str</td></tr></thead><tbody><tr><td>&quot;count&quot;</td><td>&quot;22083&quot;</td><td>22083.0</td><td>&quot;22083&quot;</td><td>&quot;22083&quot;</td><td>&quot;22083&quot;</td><td>&quot;22083&quot;</td><td>22083.0</td><td>&quot;22083&quot;</td><td>&quot;22083&quot;</td><td>&quot;22083&quot;</td><td>22083.0</td><td>22083.0</td><td>&quot;22083&quot;</td><td>&quot;22083&quot;</td><td>&quot;22083&quot;</td><td>&quot;22083&quot;</td><td>&quot;22083&quot;</td><td>22083.0</td><td>22083.0</td><td>22083.0</td><td>22083.0</td><td>22083.0</td><td>&quot;22083&quot;</td><td>&quot;22083&quot;</td><td>&quot;22083&quot;</td><td>&quot;22083&quot;</td><td>&quot;22083&quot;</td><td>&quot;22083&quot;</td><td>&quot;22083&quot;</td><td>&quot;22083&quot;</td><td>&quot;22083&quot;</td><td>&quot;22083&quot;</td><td>&quot;22083&quot;</td><td>&quot;22083&quot;</td><td>22083.0</td><td>&quot;22083&quot;</td><td>22083.0</td><td>&quot;22083&quot;</td><td>22083.0</td><td>22083.0</td><td>22083.0</td><td>22083.0</td><td>22083.0</td><td>&quot;22083&quot;</td><td>&quot;22083&quot;</td></tr><tr><td>&quot;null_count&quot;</td><td>&quot;0&quot;</td><td>0.0</td><td>&quot;0&quot;</td><td>&quot;0&quot;</td><td>&quot;0&quot;</td><td>&quot;0&quot;</td><td>0.0</td><td>&quot;0&quot;</td><td>&quot;0&quot;</td><td>&quot;0&quot;</td><td>0.0</td><td>0.0</td><td>&quot;0&quot;</td><td>&quot;0&quot;</td><td>&quot;0&quot;</td><td>&quot;0&quot;</td><td>&quot;0&quot;</td><td>0.0</td><td>0.0</td><td>0.0</td><td>0.0</td><td>0.0</td><td>&quot;0&quot;</td><td>&quot;0&quot;</td><td>&quot;0&quot;</td><td>&quot;0&quot;</td><td>&quot;0&quot;</td><td>&quot;0&quot;</td><td>&quot;0&quot;</td><td>&quot;0&quot;</td><td>&quot;0&quot;</td><td>&quot;0&quot;</td><td>&quot;0&quot;</td><td>&quot;0&quot;</td><td>0.0</td><td>&quot;0&quot;</td><td>0.0</td><td>&quot;0&quot;</td><td>0.0</td><td>0.0</td><td>0.0</td><td>0.0</td><td>0.0</td><td>&quot;0&quot;</td><td>&quot;0&quot;</td></tr><tr><td>&quot;mean&quot;</td><td>null</td><td>6.52348</td><td>null</td><td>null</td><td>null</td><td>null</td><td>4.898871</td><td>null</td><td>null</td><td>null</td><td>30.009238</td><td>36.01671</td><td>null</td><td>null</td><td>null</td><td>null</td><td>null</td><td>0.0</td><td>0.0</td><td>0.0</td><td>1.0</td><td>0.0</td><td>null</td><td>null</td><td>null</td><td>null</td><td>null</td><td>null</td><td>null</td><td>null</td><td>null</td><td>null</td><td>null</td><td>null</td><td>1.806956</td><td>null</td><td>7.049852</td><td>null</td><td>0.534665</td><td>0.496355</td><td>0.485215</td><td>0.45012</td><td>0.416882</td><td>null</td><td>null</td></tr><tr><td>&quot;std&quot;</td><td>null</td><td>4.515772</td><td>null</td><td>null</td><td>null</td><td>null</td><td>0.199663</td><td>null</td><td>null</td><td>null</td><td>11.170939</td><td>14.80754</td><td>null</td><td>null</td><td>null</td><td>null</td><td>null</td><td>0.0</td><td>0.0</td><td>0.0</td><td>0.0</td><td>0.0</td><td>null</td><td>null</td><td>null</td><td>null</td><td>null</td><td>null</td><td>null</td><td>null</td><td>null</td><td>null</td><td>null</td><td>null</td><td>1.46721</td><td>null</td><td>2.850081</td><td>null</td><td>0.498808</td><td>0.499998</td><td>0.499793</td><td>0.497517</td><td>0.493054</td><td>null</td><td>null</td></tr><tr><td>&quot;min&quot;</td><td>&quot;PID0x1&quot;</td><td>0.0</td><td>&quot;No&quot;</td><td>&quot;No&quot;</td><td>&quot;No&quot;</td><td>&quot;No&quot;</td><td>4.092727</td><td>&quot;Aaron&quot;</td><td>&quot;Aaron&quot;</td><td>&quot;Aaban&quot;</td><td>18.0</td><td>20.0</td><td>&quot;Arbour Hospital&quot;</td><td>&quot;-&quot;</td><td>&quot;Alive&quot;</td><td>&quot;Normal (30-60)&quot;</td><td>&quot;Normal&quot;</td><td>0.0</td><td>0.0</td><td>0.0</td><td>1.0</td><td>0.0</td><td>&quot;Yes&quot;</td><td>&quot;High&quot;</td><td>&quot;Ambiguous&quot;</td><td>&quot;No&quot;</td><td>&quot;No&quot;</td><td>&quot;Home&quot;</td><td>&quot;No&quot;</td><td>&quot;No&quot;</td><td>&quot;-&quot;</td><td>&quot;-&quot;</td><td>&quot;No&quot;</td><td>&quot;No&quot;</td><td>0.0</td><td>&quot;Multiple&quot;</td><td>3.0</td><td>&quot;abnormal&quot;</td><td>0.0</td><td>0.0</td><td>0.0</td><td>0.0</td><td>0.0</td><td>&quot;Mitochondrial genetic inherita…</td><td>&quot;Alzheimer&#x27;s&quot;</td></tr><tr><td>&quot;25%&quot;</td><td>null</td><td>2.0</td><td>null</td><td>null</td><td>null</td><td>null</td><td>4.76315</td><td>null</td><td>null</td><td>null</td><td>18.0</td><td>20.0</td><td>null</td><td>null</td><td>null</td><td>null</td><td>null</td><td>0.0</td><td>0.0</td><td>0.0</td><td>1.0</td><td>0.0</td><td>null</td><td>null</td><td>null</td><td>null</td><td>null</td><td>null</td><td>null</td><td>null</td><td>null</td><td>null</td><td>null</td><td>null</td><td>0.0</td><td>null</td><td>4.604384</td><td>null</td><td>0.0</td><td>0.0</td><td>0.0</td><td>0.0</td><td>0.0</td><td>null</td><td>null</td></tr><tr><td>&quot;50%&quot;</td><td>null</td><td>6.0</td><td>null</td><td>null</td><td>null</td><td>null</td><td>4.899399</td><td>null</td><td>null</td><td>null</td><td>28.0</td><td>33.0</td><td>null</td><td>null</td><td>null</td><td>null</td><td>null</td><td>0.0</td><td>0.0</td><td>0.0</td><td>1.0</td><td>0.0</td><td>null</td><td>null</td><td>null</td><td>null</td><td>null</td><td>null</td><td>null</td><td>null</td><td>null</td><td>null</td><td>null</td><td>null</td><td>2.0</td><td>null</td><td>7.083136</td><td>null</td><td>1.0</td><td>0.0</td><td>0.0</td><td>0.0</td><td>0.0</td><td>null</td><td>null</td></tr><tr><td>&quot;75%&quot;</td><td>null</td><td>10.0</td><td>null</td><td>null</td><td>null</td><td>null</td><td>5.033831</td><td>null</td><td>null</td><td>null</td><td>40.0</td><td>49.0</td><td>null</td><td>null</td><td>null</td><td>null</td><td>null</td><td>0.0</td><td>0.0</td><td>0.0</td><td>1.0</td><td>0.0</td><td>null</td><td>null</td><td>null</td><td>null</td><td>null</td><td>null</td><td>null</td><td>null</td><td>null</td><td>null</td><td>null</td><td>null</td><td>3.0</td><td>null</td><td>9.279453</td><td>null</td><td>1.0</td><td>1.0</td><td>1.0</td><td>1.0</td><td>1.0</td><td>null</td><td>null</td></tr><tr><td>&quot;max&quot;</td><td>&quot;PID0xffe&quot;</td><td>14.0</td><td>&quot;Yes&quot;</td><td>&quot;Yes&quot;</td><td>&quot;Yes&quot;</td><td>&quot;Yes&quot;</td><td>5.609829</td><td>&quot;Zulma&quot;</td><td>&quot;Zywiec&quot;</td><td>&quot;Zzyzx&quot;</td><td>51.0</td><td>64.0</td><td>&quot;Va Hospital&quot;</td><td>&quot;90 CUSHING AV\n",
       "DORCHESTER, MA 0…</td><td>&quot;Deceased&quot;</td><td>&quot;Tachypnea&quot;</td><td>&quot;Tachycardia&quot;</td><td>0.0</td><td>0.0</td><td>0.0</td><td>1.0</td><td>0.0</td><td>&quot;Yes&quot;</td><td>&quot;Low&quot;</td><td>&quot;Male&quot;</td><td>&quot;Yes&quot;</td><td>&quot;Yes&quot;</td><td>&quot;Institute&quot;</td><td>&quot;Yes&quot;</td><td>&quot;Yes&quot;</td><td>&quot;Yes&quot;</td><td>&quot;Yes&quot;</td><td>&quot;Yes&quot;</td><td>&quot;Yes&quot;</td><td>4.0</td><td>&quot;Singular&quot;</td><td>12.0</td><td>&quot;slightly abnormal&quot;</td><td>1.0</td><td>1.0</td><td>1.0</td><td>1.0</td><td>1.0</td><td>&quot;Single-gene inheritance diseas…</td><td>&quot;Tay-Sachs&quot;</td></tr></tbody></table></div>"
      ],
      "text/plain": [
       "shape: (9, 46)\n",
       "┌───────────┬───────────┬───────────┬───────────┬───┬───────────┬───────────┬───────────┬──────────┐\n",
       "│ statistic ┆ Patient   ┆ Patient   ┆ Genes in  ┆ … ┆ Symptom 4 ┆ Symptom 5 ┆ Genetic   ┆ Disorder │\n",
       "│ ---       ┆ Id        ┆ Age       ┆ mother's  ┆   ┆ ---       ┆ ---       ┆ Disorder  ┆ Subclass │\n",
       "│ str       ┆ ---       ┆ ---       ┆ side      ┆   ┆ f64       ┆ f64       ┆ ---       ┆ ---      │\n",
       "│           ┆ str       ┆ f64       ┆ ---       ┆   ┆           ┆           ┆ str       ┆ str      │\n",
       "│           ┆           ┆           ┆ str       ┆   ┆           ┆           ┆           ┆          │\n",
       "╞═══════════╪═══════════╪═══════════╪═══════════╪═══╪═══════════╪═══════════╪═══════════╪══════════╡\n",
       "│ count     ┆ 22083     ┆ 22083.0   ┆ 22083     ┆ … ┆ 22083.0   ┆ 22083.0   ┆ 22083     ┆ 22083    │\n",
       "│ null_coun ┆ 0         ┆ 0.0       ┆ 0         ┆ … ┆ 0.0       ┆ 0.0       ┆ 0         ┆ 0        │\n",
       "│ t         ┆           ┆           ┆           ┆   ┆           ┆           ┆           ┆          │\n",
       "│ mean      ┆ null      ┆ 6.52348   ┆ null      ┆ … ┆ 0.45012   ┆ 0.416882  ┆ null      ┆ null     │\n",
       "│ std       ┆ null      ┆ 4.515772  ┆ null      ┆ … ┆ 0.497517  ┆ 0.493054  ┆ null      ┆ null     │\n",
       "│ min       ┆ PID0x1    ┆ 0.0       ┆ No        ┆ … ┆ 0.0       ┆ 0.0       ┆ Mitochond ┆ Alzheime │\n",
       "│           ┆           ┆           ┆           ┆   ┆           ┆           ┆ rial      ┆ r's      │\n",
       "│           ┆           ┆           ┆           ┆   ┆           ┆           ┆ genetic   ┆          │\n",
       "│           ┆           ┆           ┆           ┆   ┆           ┆           ┆ inherita… ┆          │\n",
       "│ 25%       ┆ null      ┆ 2.0       ┆ null      ┆ … ┆ 0.0       ┆ 0.0       ┆ null      ┆ null     │\n",
       "│ 50%       ┆ null      ┆ 6.0       ┆ null      ┆ … ┆ 0.0       ┆ 0.0       ┆ null      ┆ null     │\n",
       "│ 75%       ┆ null      ┆ 10.0      ┆ null      ┆ … ┆ 1.0       ┆ 1.0       ┆ null      ┆ null     │\n",
       "│ max       ┆ PID0xffe  ┆ 14.0      ┆ Yes       ┆ … ┆ 1.0       ┆ 1.0       ┆ Single-ge ┆ Tay-Sach │\n",
       "│           ┆           ┆           ┆           ┆   ┆           ┆           ┆ ne inheri ┆ s        │\n",
       "│           ┆           ┆           ┆           ┆   ┆           ┆           ┆ tance     ┆          │\n",
       "│           ┆           ┆           ┆           ┆   ┆           ┆           ┆ diseas…   ┆          │\n",
       "└───────────┴───────────┴───────────┴───────────┴───┴───────────┴───────────┴───────────┴──────────┘"
      ]
     },
     "execution_count": 25,
     "metadata": {},
     "output_type": "execute_result"
    }
   ],
   "source": [
    "df_datos.fill_null(strategy=\"min\").describe()"
   ]
  },
  {
   "cell_type": "code",
   "execution_count": 29,
   "id": "4d1af470",
   "metadata": {},
   "outputs": [],
   "source": [
    "import polars.selectors as cs"
   ]
  },
  {
   "cell_type": "code",
   "execution_count": 33,
   "id": "ea4f904d",
   "metadata": {},
   "outputs": [
    {
     "name": "stdout",
     "output_type": "stream",
     "text": [
      "(22083, 16)\n",
      "(22083, 29)\n"
     ]
    }
   ],
   "source": [
    "print(df_datos.select(cs.numeric()).fill_null(strategy=\"mean\").shape)\n",
    "print(df_datos.select(cs.string()).fill_null(\"Desconocido\").shape)"
   ]
  },
  {
   "cell_type": "markdown",
   "id": "9d4b83b1",
   "metadata": {},
   "source": [
    "## Ordenamiento"
   ]
  },
  {
   "cell_type": "code",
   "execution_count": 35,
   "id": "f5a722d4",
   "metadata": {},
   "outputs": [
    {
     "data": {
      "text/html": [
       "<div><style>\n",
       ".dataframe > thead > tr,\n",
       ".dataframe > tbody > tr {\n",
       "  text-align: right;\n",
       "  white-space: pre-wrap;\n",
       "}\n",
       "</style>\n",
       "<small>shape: (22_083, 45)</small><table border=\"1\" class=\"dataframe\"><thead><tr><th>Patient Id</th><th>Patient Age</th><th>Genes in mother&#x27;s side</th><th>Inherited from father</th><th>Maternal gene</th><th>Paternal gene</th><th>Blood cell count (mcL)</th><th>Patient First Name</th><th>Family Name</th><th>Father&#x27;s name</th><th>Mother&#x27;s age</th><th>Father&#x27;s age</th><th>Institute Name</th><th>Location of Institute</th><th>Status</th><th>Respiratory Rate (breaths/min)</th><th>Heart Rate (rates/min</th><th>Test 1</th><th>Test 2</th><th>Test 3</th><th>Test 4</th><th>Test 5</th><th>Parental consent</th><th>Follow-up</th><th>Gender</th><th>Birth asphyxia</th><th>Autopsy shows birth defect (if applicable)</th><th>Place of birth</th><th>Folic acid details (peri-conceptional)</th><th>H/O serious maternal illness</th><th>H/O radiation exposure (x-ray)</th><th>H/O substance abuse</th><th>Assisted conception IVF/ART</th><th>History of anomalies in previous pregnancies</th><th>No. of previous abortion</th><th>Birth defects</th><th>White Blood cell count (thousand per microliter)</th><th>Blood test result</th><th>Symptom 1</th><th>Symptom 2</th><th>Symptom 3</th><th>Symptom 4</th><th>Symptom 5</th><th>Genetic Disorder</th><th>Disorder Subclass</th></tr><tr><td>str</td><td>f64</td><td>str</td><td>str</td><td>str</td><td>str</td><td>f64</td><td>str</td><td>str</td><td>str</td><td>f64</td><td>f64</td><td>str</td><td>str</td><td>str</td><td>str</td><td>str</td><td>f64</td><td>f64</td><td>f64</td><td>f64</td><td>f64</td><td>str</td><td>str</td><td>str</td><td>str</td><td>str</td><td>str</td><td>str</td><td>str</td><td>str</td><td>str</td><td>str</td><td>str</td><td>f64</td><td>str</td><td>f64</td><td>str</td><td>f64</td><td>f64</td><td>f64</td><td>f64</td><td>f64</td><td>str</td><td>str</td></tr></thead><tbody><tr><td>&quot;PID0xc25&quot;</td><td>0.0</td><td>&quot;Yes&quot;</td><td>&quot;No&quot;</td><td>&quot;No&quot;</td><td>&quot;Yes&quot;</td><td>4.807778</td><td>&quot;Adam&quot;</td><td>null</td><td>&quot;Tong&quot;</td><td>28.0</td><td>null</td><td>null</td><td>&quot;-&quot;</td><td>&quot;Deceased&quot;</td><td>null</td><td>null</td><td>0.0</td><td>0.0</td><td>0.0</td><td>1.0</td><td>0.0</td><td>&quot;Yes&quot;</td><td>&quot;Low&quot;</td><td>&quot;Ambiguous&quot;</td><td>&quot;Not available&quot;</td><td>&quot;No&quot;</td><td>null</td><td>&quot;No&quot;</td><td>null</td><td>&quot;No&quot;</td><td>&quot;Not applicable&quot;</td><td>&quot;No&quot;</td><td>&quot;Yes&quot;</td><td>4.0</td><td>&quot;Multiple&quot;</td><td>8.440593</td><td>&quot;abnormal&quot;</td><td>0.0</td><td>1.0</td><td>1.0</td><td>0.0</td><td>0.0</td><td>null</td><td>&quot;Leigh syndrome&quot;</td></tr><tr><td>&quot;PID0x34dc&quot;</td><td>0.0</td><td>&quot;No&quot;</td><td>&quot;No&quot;</td><td>&quot;No&quot;</td><td>&quot;No&quot;</td><td>4.91857</td><td>&quot;Michael&quot;</td><td>null</td><td>&quot;Kengston&quot;</td><td>30.0</td><td>24.0</td><td>null</td><td>&quot;-&quot;</td><td>&quot;Alive&quot;</td><td>&quot;Normal (30-60)&quot;</td><td>&quot;Tachycardia&quot;</td><td>0.0</td><td>0.0</td><td>0.0</td><td>null</td><td>0.0</td><td>null</td><td>&quot;High&quot;</td><td>&quot;Female&quot;</td><td>null</td><td>&quot;Not applicable&quot;</td><td>&quot;Home&quot;</td><td>&quot;Yes&quot;</td><td>null</td><td>&quot;Not applicable&quot;</td><td>&quot;Not applicable&quot;</td><td>null</td><td>&quot;Yes&quot;</td><td>2.0</td><td>&quot;Multiple&quot;</td><td>null</td><td>&quot;normal&quot;</td><td>0.0</td><td>null</td><td>0.0</td><td>null</td><td>1.0</td><td>&quot;Mitochondrial genetic inherita…</td><td>&quot;Mitochondrial myopathy&quot;</td></tr><tr><td>&quot;PID0x26e9&quot;</td><td>0.0</td><td>&quot;Yes&quot;</td><td>&quot;Yes&quot;</td><td>&quot;No&quot;</td><td>&quot;No&quot;</td><td>4.79852</td><td>&quot;Daryl&quot;</td><td>&quot;Hasan&quot;</td><td>&quot;Nasheed&quot;</td><td>null</td><td>57.0</td><td>&quot;New England Medical Center&quot;</td><td>&quot;125 PARKER HILL AV\n",
       "JAMAICA PLA…</td><td>&quot;Alive&quot;</td><td>&quot;Normal (30-60)&quot;</td><td>null</td><td>0.0</td><td>null</td><td>0.0</td><td>1.0</td><td>0.0</td><td>null</td><td>&quot;Low&quot;</td><td>&quot;Ambiguous&quot;</td><td>&quot;Not available&quot;</td><td>&quot;Not applicable&quot;</td><td>&quot;Institute&quot;</td><td>&quot;Yes&quot;</td><td>&quot;No&quot;</td><td>&quot;-&quot;</td><td>&quot;-&quot;</td><td>&quot;No&quot;</td><td>&quot;Yes&quot;</td><td>4.0</td><td>&quot;Multiple&quot;</td><td>null</td><td>&quot;normal&quot;</td><td>1.0</td><td>1.0</td><td>1.0</td><td>null</td><td>1.0</td><td>&quot;Single-gene inheritance diseas…</td><td>&quot;Cystic fibrosis&quot;</td></tr><tr><td>&quot;PID0x82f6&quot;</td><td>0.0</td><td>&quot;Yes&quot;</td><td>&quot;No&quot;</td><td>&quot;Yes&quot;</td><td>&quot;Yes&quot;</td><td>4.865305</td><td>&quot;Sandra&quot;</td><td>&quot;Tucker&quot;</td><td>&quot;Devlin&quot;</td><td>21.0</td><td>25.0</td><td>&quot;Jewish Memorial Hospital&quot;</td><td>&quot;330 BROOKLINE AV\n",
       "FENWAY/KENMOR…</td><td>&quot;Deceased&quot;</td><td>&quot;Normal (30-60)&quot;</td><td>&quot;Tachycardia&quot;</td><td>0.0</td><td>0.0</td><td>0.0</td><td>1.0</td><td>0.0</td><td>&quot;Yes&quot;</td><td>&quot;High&quot;</td><td>&quot;Male&quot;</td><td>&quot;Not available&quot;</td><td>&quot;None&quot;</td><td>&quot;Institute&quot;</td><td>&quot;Yes&quot;</td><td>&quot;No&quot;</td><td>&quot;No&quot;</td><td>&quot;-&quot;</td><td>&quot;Yes&quot;</td><td>&quot;No&quot;</td><td>3.0</td><td>&quot;Multiple&quot;</td><td>5.051588</td><td>&quot;normal&quot;</td><td>1.0</td><td>0.0</td><td>1.0</td><td>0.0</td><td>0.0</td><td>&quot;Mitochondrial genetic inherita…</td><td>&quot;Mitochondrial myopathy&quot;</td></tr><tr><td>&quot;PID0x264c&quot;</td><td>0.0</td><td>&quot;Yes&quot;</td><td>&quot;No&quot;</td><td>&quot;Yes&quot;</td><td>&quot;No&quot;</td><td>4.921015</td><td>&quot;James&quot;</td><td>&quot;Tracy&quot;</td><td>&quot;Romolo&quot;</td><td>24.0</td><td>null</td><td>&quot;Not applicable&quot;</td><td>&quot;-&quot;</td><td>&quot;Deceased&quot;</td><td>null</td><td>&quot;Normal&quot;</td><td>null</td><td>null</td><td>0.0</td><td>1.0</td><td>0.0</td><td>&quot;Yes&quot;</td><td>&quot;Low&quot;</td><td>&quot;Male&quot;</td><td>&quot;No&quot;</td><td>null</td><td>&quot;Home&quot;</td><td>null</td><td>&quot;No&quot;</td><td>&quot;Yes&quot;</td><td>&quot;No&quot;</td><td>&quot;No&quot;</td><td>&quot;Yes&quot;</td><td>0.0</td><td>&quot;Singular&quot;</td><td>null</td><td>&quot;slightly abnormal&quot;</td><td>null</td><td>0.0</td><td>0.0</td><td>0.0</td><td>0.0</td><td>null</td><td>&quot;Tay-Sachs&quot;</td></tr><tr><td>&hellip;</td><td>&hellip;</td><td>&hellip;</td><td>&hellip;</td><td>&hellip;</td><td>&hellip;</td><td>&hellip;</td><td>&hellip;</td><td>&hellip;</td><td>&hellip;</td><td>&hellip;</td><td>&hellip;</td><td>&hellip;</td><td>&hellip;</td><td>&hellip;</td><td>&hellip;</td><td>&hellip;</td><td>&hellip;</td><td>&hellip;</td><td>&hellip;</td><td>&hellip;</td><td>&hellip;</td><td>&hellip;</td><td>&hellip;</td><td>&hellip;</td><td>&hellip;</td><td>&hellip;</td><td>&hellip;</td><td>&hellip;</td><td>&hellip;</td><td>&hellip;</td><td>&hellip;</td><td>&hellip;</td><td>&hellip;</td><td>&hellip;</td><td>&hellip;</td><td>&hellip;</td><td>&hellip;</td><td>&hellip;</td><td>&hellip;</td><td>&hellip;</td><td>&hellip;</td><td>&hellip;</td><td>&hellip;</td><td>&hellip;</td></tr><tr><td>&quot;PID0x3f72&quot;</td><td>null</td><td>&quot;No&quot;</td><td>&quot;No&quot;</td><td>&quot;Yes&quot;</td><td>&quot;No&quot;</td><td>4.826073</td><td>&quot;Jeffrey&quot;</td><td>&quot;Grant&quot;</td><td>&quot;Deterrius&quot;</td><td>null</td><td>48.0</td><td>null</td><td>&quot;125 NASHUA ST\n",
       "CENTRAL, MA 0211…</td><td>&quot;Alive&quot;</td><td>&quot;Normal (30-60)&quot;</td><td>&quot;Normal&quot;</td><td>0.0</td><td>null</td><td>0.0</td><td>1.0</td><td>0.0</td><td>null</td><td>&quot;High&quot;</td><td>&quot;Male&quot;</td><td>&quot;No record&quot;</td><td>&quot;Not applicable&quot;</td><td>&quot;Institute&quot;</td><td>&quot;No&quot;</td><td>&quot;Yes&quot;</td><td>&quot;Not applicable&quot;</td><td>null</td><td>&quot;Yes&quot;</td><td>&quot;Yes&quot;</td><td>null</td><td>&quot;Singular&quot;</td><td>null</td><td>&quot;normal&quot;</td><td>1.0</td><td>0.0</td><td>1.0</td><td>0.0</td><td>0.0</td><td>&quot;Mitochondrial genetic inherita…</td><td>&quot;Mitochondrial myopathy&quot;</td></tr><tr><td>&quot;PID0x2e14&quot;</td><td>null</td><td>&quot;No&quot;</td><td>&quot;Yes&quot;</td><td>&quot;No&quot;</td><td>&quot;No&quot;</td><td>4.874598</td><td>&quot;Arthur&quot;</td><td>&quot;Bowman&quot;</td><td>&quot;Daezon&quot;</td><td>27.0</td><td>null</td><td>&quot;Not applicable&quot;</td><td>&quot;-&quot;</td><td>&quot;Deceased&quot;</td><td>&quot;Tachypnea&quot;</td><td>&quot;Normal&quot;</td><td>0.0</td><td>0.0</td><td>null</td><td>null</td><td>0.0</td><td>&quot;Yes&quot;</td><td>&quot;High&quot;</td><td>&quot;Ambiguous&quot;</td><td>&quot;Yes&quot;</td><td>&quot;None&quot;</td><td>&quot;Home&quot;</td><td>&quot;Yes&quot;</td><td>&quot;Yes&quot;</td><td>&quot;-&quot;</td><td>&quot;-&quot;</td><td>&quot;No&quot;</td><td>&quot;No&quot;</td><td>4.0</td><td>&quot;Multiple&quot;</td><td>null</td><td>&quot;abnormal&quot;</td><td>1.0</td><td>null</td><td>0.0</td><td>1.0</td><td>0.0</td><td>null</td><td>&quot;Tay-Sachs&quot;</td></tr><tr><td>&quot;PID0x54e1&quot;</td><td>null</td><td>&quot;Yes&quot;</td><td>&quot;Yes&quot;</td><td>&quot;No&quot;</td><td>&quot;Yes&quot;</td><td>4.664764</td><td>&quot;Paul&quot;</td><td>null</td><td>&quot;Namari&quot;</td><td>42.0</td><td>30.0</td><td>null</td><td>&quot;1153 CENTRE ST\n",
       "JAMAICA PLAIN, …</td><td>&quot;Deceased&quot;</td><td>&quot;Normal (30-60)&quot;</td><td>&quot;Tachycardia&quot;</td><td>0.0</td><td>0.0</td><td>null</td><td>1.0</td><td>0.0</td><td>null</td><td>&quot;High&quot;</td><td>null</td><td>&quot;Not available&quot;</td><td>&quot;No&quot;</td><td>&quot;Institute&quot;</td><td>&quot;No&quot;</td><td>null</td><td>&quot;No&quot;</td><td>&quot;No&quot;</td><td>null</td><td>null</td><td>4.0</td><td>&quot;Singular&quot;</td><td>null</td><td>&quot;normal&quot;</td><td>0.0</td><td>0.0</td><td>0.0</td><td>0.0</td><td>0.0</td><td>null</td><td>&quot;Tay-Sachs&quot;</td></tr><tr><td>&quot;PID0x62b4&quot;</td><td>null</td><td>&quot;Yes&quot;</td><td>&quot;Yes&quot;</td><td>&quot;Yes&quot;</td><td>&quot;No&quot;</td><td>4.813765</td><td>&quot;Steven&quot;</td><td>null</td><td>&quot;Heber&quot;</td><td>38.0</td><td>null</td><td>&quot;Carney Hospital&quot;</td><td>&quot;51 BLOSSOM ST\n",
       "CENTRAL, MA 0211…</td><td>&quot;Deceased&quot;</td><td>&quot;Normal (30-60)&quot;</td><td>null</td><td>0.0</td><td>0.0</td><td>null</td><td>1.0</td><td>0.0</td><td>&quot;Yes&quot;</td><td>&quot;High&quot;</td><td>&quot;Male&quot;</td><td>null</td><td>&quot;Yes&quot;</td><td>null</td><td>&quot;Yes&quot;</td><td>&quot;No&quot;</td><td>&quot;-&quot;</td><td>&quot;Not applicable&quot;</td><td>&quot;No&quot;</td><td>&quot;No&quot;</td><td>4.0</td><td>&quot;Multiple&quot;</td><td>7.461779</td><td>&quot;normal&quot;</td><td>1.0</td><td>1.0</td><td>1.0</td><td>1.0</td><td>1.0</td><td>&quot;Mitochondrial genetic inherita…</td><td>&quot;Leber&#x27;s hereditary optic neuro…</td></tr><tr><td>&quot;PID0xeb9&quot;</td><td>null</td><td>&quot;No&quot;</td><td>&quot;Yes&quot;</td><td>&quot;No&quot;</td><td>&quot;Yes&quot;</td><td>4.905743</td><td>&quot;Kevin&quot;</td><td>&quot;Allen&quot;</td><td>&quot;Sebastin&quot;</td><td>18.0</td><td>null</td><td>&quot;Not applicable&quot;</td><td>&quot;-&quot;</td><td>&quot;Alive&quot;</td><td>&quot;Normal (30-60)&quot;</td><td>&quot;Tachycardia&quot;</td><td>0.0</td><td>0.0</td><td>0.0</td><td>1.0</td><td>null</td><td>null</td><td>&quot;High&quot;</td><td>&quot;Female&quot;</td><td>&quot;No record&quot;</td><td>&quot;Not applicable&quot;</td><td>&quot;Home&quot;</td><td>&quot;Yes&quot;</td><td>null</td><td>&quot;Not applicable&quot;</td><td>&quot;Yes&quot;</td><td>&quot;Yes&quot;</td><td>&quot;No&quot;</td><td>2.0</td><td>&quot;Multiple&quot;</td><td>9.300294</td><td>&quot;slightly abnormal&quot;</td><td>1.0</td><td>1.0</td><td>0.0</td><td>1.0</td><td>0.0</td><td>&quot;Mitochondrial genetic inherita…</td><td>&quot;Mitochondrial myopathy&quot;</td></tr></tbody></table></div>"
      ],
      "text/plain": [
       "shape: (22_083, 45)\n",
       "┌───────────┬───────────┬───────────┬───────────┬───┬───────────┬───────────┬───────────┬──────────┐\n",
       "│ Patient   ┆ Patient   ┆ Genes in  ┆ Inherited ┆ … ┆ Symptom 4 ┆ Symptom 5 ┆ Genetic   ┆ Disorder │\n",
       "│ Id        ┆ Age       ┆ mother's  ┆ from      ┆   ┆ ---       ┆ ---       ┆ Disorder  ┆ Subclass │\n",
       "│ ---       ┆ ---       ┆ side      ┆ father    ┆   ┆ f64       ┆ f64       ┆ ---       ┆ ---      │\n",
       "│ str       ┆ f64       ┆ ---       ┆ ---       ┆   ┆           ┆           ┆ str       ┆ str      │\n",
       "│           ┆           ┆ str       ┆ str       ┆   ┆           ┆           ┆           ┆          │\n",
       "╞═══════════╪═══════════╪═══════════╪═══════════╪═══╪═══════════╪═══════════╪═══════════╪══════════╡\n",
       "│ PID0xc25  ┆ 0.0       ┆ Yes       ┆ No        ┆ … ┆ 0.0       ┆ 0.0       ┆ null      ┆ Leigh    │\n",
       "│           ┆           ┆           ┆           ┆   ┆           ┆           ┆           ┆ syndrome │\n",
       "│ PID0x34dc ┆ 0.0       ┆ No        ┆ No        ┆ … ┆ null      ┆ 1.0       ┆ Mitochond ┆ Mitochon │\n",
       "│           ┆           ┆           ┆           ┆   ┆           ┆           ┆ rial      ┆ drial    │\n",
       "│           ┆           ┆           ┆           ┆   ┆           ┆           ┆ genetic   ┆ myopathy │\n",
       "│           ┆           ┆           ┆           ┆   ┆           ┆           ┆ inherita… ┆          │\n",
       "│ PID0x26e9 ┆ 0.0       ┆ Yes       ┆ Yes       ┆ … ┆ null      ┆ 1.0       ┆ Single-ge ┆ Cystic   │\n",
       "│           ┆           ┆           ┆           ┆   ┆           ┆           ┆ ne inheri ┆ fibrosis │\n",
       "│           ┆           ┆           ┆           ┆   ┆           ┆           ┆ tance     ┆          │\n",
       "│           ┆           ┆           ┆           ┆   ┆           ┆           ┆ diseas…   ┆          │\n",
       "│ PID0x82f6 ┆ 0.0       ┆ Yes       ┆ No        ┆ … ┆ 0.0       ┆ 0.0       ┆ Mitochond ┆ Mitochon │\n",
       "│           ┆           ┆           ┆           ┆   ┆           ┆           ┆ rial      ┆ drial    │\n",
       "│           ┆           ┆           ┆           ┆   ┆           ┆           ┆ genetic   ┆ myopathy │\n",
       "│           ┆           ┆           ┆           ┆   ┆           ┆           ┆ inherita… ┆          │\n",
       "│ PID0x264c ┆ 0.0       ┆ Yes       ┆ No        ┆ … ┆ 0.0       ┆ 0.0       ┆ null      ┆ Tay-Sach │\n",
       "│           ┆           ┆           ┆           ┆   ┆           ┆           ┆           ┆ s        │\n",
       "│ …         ┆ …         ┆ …         ┆ …         ┆ … ┆ …         ┆ …         ┆ …         ┆ …        │\n",
       "│ PID0x3f72 ┆ null      ┆ No        ┆ No        ┆ … ┆ 0.0       ┆ 0.0       ┆ Mitochond ┆ Mitochon │\n",
       "│           ┆           ┆           ┆           ┆   ┆           ┆           ┆ rial      ┆ drial    │\n",
       "│           ┆           ┆           ┆           ┆   ┆           ┆           ┆ genetic   ┆ myopathy │\n",
       "│           ┆           ┆           ┆           ┆   ┆           ┆           ┆ inherita… ┆          │\n",
       "│ PID0x2e14 ┆ null      ┆ No        ┆ Yes       ┆ … ┆ 1.0       ┆ 0.0       ┆ null      ┆ Tay-Sach │\n",
       "│           ┆           ┆           ┆           ┆   ┆           ┆           ┆           ┆ s        │\n",
       "│ PID0x54e1 ┆ null      ┆ Yes       ┆ Yes       ┆ … ┆ 0.0       ┆ 0.0       ┆ null      ┆ Tay-Sach │\n",
       "│           ┆           ┆           ┆           ┆   ┆           ┆           ┆           ┆ s        │\n",
       "│ PID0x62b4 ┆ null      ┆ Yes       ┆ Yes       ┆ … ┆ 1.0       ┆ 1.0       ┆ Mitochond ┆ Leber's  │\n",
       "│           ┆           ┆           ┆           ┆   ┆           ┆           ┆ rial      ┆ heredita │\n",
       "│           ┆           ┆           ┆           ┆   ┆           ┆           ┆ genetic   ┆ ry optic │\n",
       "│           ┆           ┆           ┆           ┆   ┆           ┆           ┆ inherita… ┆ neuro…   │\n",
       "│ PID0xeb9  ┆ null      ┆ No        ┆ Yes       ┆ … ┆ 1.0       ┆ 0.0       ┆ Mitochond ┆ Mitochon │\n",
       "│           ┆           ┆           ┆           ┆   ┆           ┆           ┆ rial      ┆ drial    │\n",
       "│           ┆           ┆           ┆           ┆   ┆           ┆           ┆ genetic   ┆ myopathy │\n",
       "│           ┆           ┆           ┆           ┆   ┆           ┆           ┆ inherita… ┆          │\n",
       "└───────────┴───────────┴───────────┴───────────┴───┴───────────┴───────────┴───────────┴──────────┘"
      ]
     },
     "execution_count": 35,
     "metadata": {},
     "output_type": "execute_result"
    }
   ],
   "source": [
    "df_datos.sort(\"Patient Age\", nulls_last=True)"
   ]
  },
  {
   "cell_type": "code",
   "execution_count": 39,
   "id": "a9ff5f5b",
   "metadata": {},
   "outputs": [
    {
     "data": {
      "text/html": [
       "<div><style>\n",
       ".dataframe > thead > tr,\n",
       ".dataframe > tbody > tr {\n",
       "  text-align: right;\n",
       "  white-space: pre-wrap;\n",
       "}\n",
       "</style>\n",
       "<small>shape: (6, 45)</small><table border=\"1\" class=\"dataframe\"><thead><tr><th>Patient Id</th><th>Patient Age</th><th>Genes in mother&#x27;s side</th><th>Inherited from father</th><th>Maternal gene</th><th>Paternal gene</th><th>Blood cell count (mcL)</th><th>Patient First Name</th><th>Family Name</th><th>Father&#x27;s name</th><th>Mother&#x27;s age</th><th>Father&#x27;s age</th><th>Institute Name</th><th>Location of Institute</th><th>Status</th><th>Respiratory Rate (breaths/min)</th><th>Heart Rate (rates/min</th><th>Test 1</th><th>Test 2</th><th>Test 3</th><th>Test 4</th><th>Test 5</th><th>Parental consent</th><th>Follow-up</th><th>Gender</th><th>Birth asphyxia</th><th>Autopsy shows birth defect (if applicable)</th><th>Place of birth</th><th>Folic acid details (peri-conceptional)</th><th>H/O serious maternal illness</th><th>H/O radiation exposure (x-ray)</th><th>H/O substance abuse</th><th>Assisted conception IVF/ART</th><th>History of anomalies in previous pregnancies</th><th>No. of previous abortion</th><th>Birth defects</th><th>White Blood cell count (thousand per microliter)</th><th>Blood test result</th><th>Symptom 1</th><th>Symptom 2</th><th>Symptom 3</th><th>Symptom 4</th><th>Symptom 5</th><th>Genetic Disorder</th><th>Disorder Subclass</th></tr><tr><td>str</td><td>f64</td><td>str</td><td>str</td><td>str</td><td>str</td><td>f64</td><td>str</td><td>str</td><td>str</td><td>f64</td><td>f64</td><td>str</td><td>str</td><td>str</td><td>str</td><td>str</td><td>f64</td><td>f64</td><td>f64</td><td>f64</td><td>f64</td><td>str</td><td>str</td><td>str</td><td>str</td><td>str</td><td>str</td><td>str</td><td>str</td><td>str</td><td>str</td><td>str</td><td>str</td><td>f64</td><td>str</td><td>f64</td><td>str</td><td>f64</td><td>f64</td><td>f64</td><td>f64</td><td>f64</td><td>str</td><td>str</td></tr></thead><tbody><tr><td>&quot;PID0x3f9&quot;</td><td>null</td><td>&quot;Yes&quot;</td><td>&quot;No&quot;</td><td>&quot;Yes&quot;</td><td>&quot;No&quot;</td><td>4.862617</td><td>&quot;Lee&quot;</td><td>&quot;Sewell&quot;</td><td>&quot;Jaderian&quot;</td><td>null</td><td>48.0</td><td>null</td><td>&quot;44 BINNEY ST\n",
       "FENWAY/KENMORE, M…</td><td>&quot;Alive&quot;</td><td>&quot;Tachypnea&quot;</td><td>null</td><td>0.0</td><td>0.0</td><td>0.0</td><td>null</td><td>0.0</td><td>&quot;Yes&quot;</td><td>null</td><td>&quot;Female&quot;</td><td>&quot;No&quot;</td><td>&quot;Not applicable&quot;</td><td>null</td><td>&quot;Yes&quot;</td><td>&quot;No&quot;</td><td>&quot;Yes&quot;</td><td>&quot;-&quot;</td><td>&quot;No&quot;</td><td>&quot;No&quot;</td><td>0.0</td><td>&quot;Multiple&quot;</td><td>9.689559</td><td>null</td><td>1.0</td><td>1.0</td><td>1.0</td><td>1.0</td><td>1.0</td><td>&quot;Mitochondrial genetic inherita…</td><td>&quot;Leber&#x27;s hereditary optic neuro…</td></tr><tr><td>&quot;PID0x75ff&quot;</td><td>14.0</td><td>&quot;Yes&quot;</td><td>&quot;Yes&quot;</td><td>&quot;Yes&quot;</td><td>&quot;Yes&quot;</td><td>4.777831</td><td>&quot;Jami&quot;</td><td>&quot;Johnson&quot;</td><td>&quot;Ian&quot;</td><td>40.0</td><td>64.0</td><td>&quot;Boston City Hospital&quot;</td><td>&quot;1200 Centre St\n",
       "Roslindale, MA …</td><td>&quot;Alive&quot;</td><td>&quot;Normal (30-60)&quot;</td><td>&quot;Tachycardia&quot;</td><td>0.0</td><td>0.0</td><td>0.0</td><td>1.0</td><td>0.0</td><td>&quot;Yes&quot;</td><td>&quot;High&quot;</td><td>&quot;Female&quot;</td><td>&quot;No record&quot;</td><td>&quot;Not applicable&quot;</td><td>&quot;Institute&quot;</td><td>&quot;Yes&quot;</td><td>&quot;Yes&quot;</td><td>&quot;Not applicable&quot;</td><td>&quot;-&quot;</td><td>&quot;No&quot;</td><td>&quot;No&quot;</td><td>1.0</td><td>&quot;Singular&quot;</td><td>12.0</td><td>&quot;inconclusive&quot;</td><td>1.0</td><td>1.0</td><td>1.0</td><td>1.0</td><td>0.0</td><td>&quot;Single-gene inheritance diseas…</td><td>&quot;Cystic fibrosis&quot;</td></tr><tr><td>&quot;PID0x7e04&quot;</td><td>11.0</td><td>&quot;No&quot;</td><td>&quot;No&quot;</td><td>&quot;Yes&quot;</td><td>&quot;Yes&quot;</td><td>4.985756</td><td>&quot;Jonathon&quot;</td><td>&quot;Rios&quot;</td><td>&quot;Arkley&quot;</td><td>27.0</td><td>57.0</td><td>&quot;Boston Medical Center&quot;</td><td>&quot;243 CHARLES ST\n",
       "CENTRAL, MA 021…</td><td>&quot;Alive&quot;</td><td>&quot;Tachypnea&quot;</td><td>&quot;Tachycardia&quot;</td><td>0.0</td><td>0.0</td><td>0.0</td><td>1.0</td><td>0.0</td><td>&quot;Yes&quot;</td><td>&quot;High&quot;</td><td>&quot;Male&quot;</td><td>&quot;No&quot;</td><td>&quot;Not applicable&quot;</td><td>&quot;Institute&quot;</td><td>&quot;Yes&quot;</td><td>&quot;Yes&quot;</td><td>&quot;Not applicable&quot;</td><td>&quot;Not applicable&quot;</td><td>&quot;No&quot;</td><td>&quot;No&quot;</td><td>1.0</td><td>&quot;Singular&quot;</td><td>9.858078</td><td>&quot;abnormal&quot;</td><td>1.0</td><td>0.0</td><td>1.0</td><td>0.0</td><td>0.0</td><td>&quot;Mitochondrial genetic inherita…</td><td>&quot;Mitochondrial myopathy&quot;</td></tr><tr><td>&quot;PID0x5390&quot;</td><td>9.0</td><td>&quot;Yes&quot;</td><td>&quot;No&quot;</td><td>&quot;Yes&quot;</td><td>&quot;Yes&quot;</td><td>4.884027</td><td>&quot;Sandra&quot;</td><td>&quot;Peterson&quot;</td><td>&quot;Waiz&quot;</td><td>null</td><td>null</td><td>&quot;Not applicable&quot;</td><td>&quot;-&quot;</td><td>&quot;Deceased&quot;</td><td>&quot;Tachypnea&quot;</td><td>&quot;Tachycardia&quot;</td><td>0.0</td><td>0.0</td><td>null</td><td>1.0</td><td>null</td><td>&quot;Yes&quot;</td><td>&quot;Low&quot;</td><td>&quot;Ambiguous&quot;</td><td>null</td><td>&quot;No&quot;</td><td>&quot;Home&quot;</td><td>null</td><td>&quot;No&quot;</td><td>&quot;Not applicable&quot;</td><td>&quot;-&quot;</td><td>&quot;No&quot;</td><td>&quot;No&quot;</td><td>null</td><td>&quot;Singular&quot;</td><td>7.402144</td><td>&quot;slightly abnormal&quot;</td><td>0.0</td><td>null</td><td>1.0</td><td>1.0</td><td>1.0</td><td>&quot;Mitochondrial genetic inherita…</td><td>&quot;Leber&#x27;s hereditary optic neuro…</td></tr><tr><td>&quot;PID0x707c&quot;</td><td>5.0</td><td>&quot;No&quot;</td><td>&quot;Yes&quot;</td><td>&quot;Yes&quot;</td><td>&quot;No&quot;</td><td>4.711426</td><td>&quot;Robin&quot;</td><td>&quot;Shaffer&quot;</td><td>&quot;Glendall&quot;</td><td>45.0</td><td>40.0</td><td>&quot;Kindred Hospital&quot;</td><td>&quot;125 PARKER HILL AV\n",
       "JAMAICA PLA…</td><td>&quot;Deceased&quot;</td><td>&quot;Normal (30-60)&quot;</td><td>&quot;Tachycardia&quot;</td><td>0.0</td><td>0.0</td><td>0.0</td><td>1.0</td><td>0.0</td><td>&quot;Yes&quot;</td><td>&quot;Low&quot;</td><td>&quot;Female&quot;</td><td>&quot;Not available&quot;</td><td>&quot;No&quot;</td><td>&quot;Institute&quot;</td><td>&quot;Yes&quot;</td><td>&quot;Yes&quot;</td><td>&quot;No&quot;</td><td>&quot;-&quot;</td><td>&quot;No&quot;</td><td>&quot;No&quot;</td><td>3.0</td><td>&quot;Singular&quot;</td><td>9.186659</td><td>&quot;normal&quot;</td><td>1.0</td><td>0.0</td><td>1.0</td><td>1.0</td><td>1.0</td><td>&quot;Multifactorial genetic inherit…</td><td>&quot;Diabetes&quot;</td></tr><tr><td>&quot;PID0x563&quot;</td><td>5.0</td><td>&quot;No&quot;</td><td>&quot;No&quot;</td><td>null</td><td>&quot;Yes&quot;</td><td>4.704071</td><td>&quot;Jacob&quot;</td><td>null</td><td>&quot;Erion&quot;</td><td>31.0</td><td>41.0</td><td>&quot;Lemuel Shattuck Hospital&quot;</td><td>&quot;736 CAMBRIDGE ST\n",
       "ALLSTON/BRIGH…</td><td>&quot;Alive&quot;</td><td>null</td><td>&quot;Tachycardia&quot;</td><td>null</td><td>0.0</td><td>0.0</td><td>1.0</td><td>null</td><td>&quot;Yes&quot;</td><td>&quot;High&quot;</td><td>null</td><td>null</td><td>&quot;Not applicable&quot;</td><td>null</td><td>&quot;No&quot;</td><td>null</td><td>&quot;Not applicable&quot;</td><td>&quot;No&quot;</td><td>&quot;Yes&quot;</td><td>null</td><td>1.0</td><td>&quot;Singular&quot;</td><td>null</td><td>null</td><td>1.0</td><td>0.0</td><td>1.0</td><td>1.0</td><td>1.0</td><td>&quot;Single-gene inheritance diseas…</td><td>&quot;Cystic fibrosis&quot;</td></tr></tbody></table></div>"
      ],
      "text/plain": [
       "shape: (6, 45)\n",
       "┌───────────┬───────────┬───────────┬───────────┬───┬───────────┬───────────┬───────────┬──────────┐\n",
       "│ Patient   ┆ Patient   ┆ Genes in  ┆ Inherited ┆ … ┆ Symptom 4 ┆ Symptom 5 ┆ Genetic   ┆ Disorder │\n",
       "│ Id        ┆ Age       ┆ mother's  ┆ from      ┆   ┆ ---       ┆ ---       ┆ Disorder  ┆ Subclass │\n",
       "│ ---       ┆ ---       ┆ side      ┆ father    ┆   ┆ f64       ┆ f64       ┆ ---       ┆ ---      │\n",
       "│ str       ┆ f64       ┆ ---       ┆ ---       ┆   ┆           ┆           ┆ str       ┆ str      │\n",
       "│           ┆           ┆ str       ┆ str       ┆   ┆           ┆           ┆           ┆          │\n",
       "╞═══════════╪═══════════╪═══════════╪═══════════╪═══╪═══════════╪═══════════╪═══════════╪══════════╡\n",
       "│ PID0x3f9  ┆ null      ┆ Yes       ┆ No        ┆ … ┆ 1.0       ┆ 1.0       ┆ Mitochond ┆ Leber's  │\n",
       "│           ┆           ┆           ┆           ┆   ┆           ┆           ┆ rial      ┆ heredita │\n",
       "│           ┆           ┆           ┆           ┆   ┆           ┆           ┆ genetic   ┆ ry optic │\n",
       "│           ┆           ┆           ┆           ┆   ┆           ┆           ┆ inherita… ┆ neuro…   │\n",
       "│ PID0x75ff ┆ 14.0      ┆ Yes       ┆ Yes       ┆ … ┆ 1.0       ┆ 0.0       ┆ Single-ge ┆ Cystic   │\n",
       "│           ┆           ┆           ┆           ┆   ┆           ┆           ┆ ne inheri ┆ fibrosis │\n",
       "│           ┆           ┆           ┆           ┆   ┆           ┆           ┆ tance     ┆          │\n",
       "│           ┆           ┆           ┆           ┆   ┆           ┆           ┆ diseas…   ┆          │\n",
       "│ PID0x7e04 ┆ 11.0      ┆ No        ┆ No        ┆ … ┆ 0.0       ┆ 0.0       ┆ Mitochond ┆ Mitochon │\n",
       "│           ┆           ┆           ┆           ┆   ┆           ┆           ┆ rial      ┆ drial    │\n",
       "│           ┆           ┆           ┆           ┆   ┆           ┆           ┆ genetic   ┆ myopathy │\n",
       "│           ┆           ┆           ┆           ┆   ┆           ┆           ┆ inherita… ┆          │\n",
       "│ PID0x5390 ┆ 9.0       ┆ Yes       ┆ No        ┆ … ┆ 1.0       ┆ 1.0       ┆ Mitochond ┆ Leber's  │\n",
       "│           ┆           ┆           ┆           ┆   ┆           ┆           ┆ rial      ┆ heredita │\n",
       "│           ┆           ┆           ┆           ┆   ┆           ┆           ┆ genetic   ┆ ry optic │\n",
       "│           ┆           ┆           ┆           ┆   ┆           ┆           ┆ inherita… ┆ neuro…   │\n",
       "│ PID0x707c ┆ 5.0       ┆ No        ┆ Yes       ┆ … ┆ 1.0       ┆ 1.0       ┆ Multifact ┆ Diabetes │\n",
       "│           ┆           ┆           ┆           ┆   ┆           ┆           ┆ orial     ┆          │\n",
       "│           ┆           ┆           ┆           ┆   ┆           ┆           ┆ genetic   ┆          │\n",
       "│           ┆           ┆           ┆           ┆   ┆           ┆           ┆ inherit…  ┆          │\n",
       "│ PID0x563  ┆ 5.0       ┆ No        ┆ No        ┆ … ┆ 1.0       ┆ 1.0       ┆ Single-ge ┆ Cystic   │\n",
       "│           ┆           ┆           ┆           ┆   ┆           ┆           ┆ ne inheri ┆ fibrosis │\n",
       "│           ┆           ┆           ┆           ┆   ┆           ┆           ┆ tance     ┆          │\n",
       "│           ┆           ┆           ┆           ┆   ┆           ┆           ┆ diseas…   ┆          │\n",
       "└───────────┴───────────┴───────────┴───────────┴───┴───────────┴───────────┴───────────┴──────────┘"
      ]
     },
     "execution_count": 39,
     "metadata": {},
     "output_type": "execute_result"
    }
   ],
   "source": [
    "df_datos.sample(6).sort(\"Patient Age\", descending=True)"
   ]
  },
  {
   "cell_type": "code",
   "execution_count": 41,
   "id": "953a654a",
   "metadata": {},
   "outputs": [],
   "source": [
    "df_datos_filter = df_datos.select([\"Patient Age\",\"Family Name\"]).drop_nulls().sample(6)"
   ]
  },
  {
   "cell_type": "code",
   "execution_count": 44,
   "id": "a62071a6",
   "metadata": {},
   "outputs": [
    {
     "data": {
      "text/html": [
       "<div><style>\n",
       ".dataframe > thead > tr,\n",
       ".dataframe > tbody > tr {\n",
       "  text-align: right;\n",
       "  white-space: pre-wrap;\n",
       "}\n",
       "</style>\n",
       "<small>shape: (6, 2)</small><table border=\"1\" class=\"dataframe\"><thead><tr><th>Patient Age</th><th>Family Name</th></tr><tr><td>f64</td><td>str</td></tr></thead><tbody><tr><td>3.0</td><td>&quot;Nell&quot;</td></tr><tr><td>8.0</td><td>&quot;Guerrero&quot;</td></tr><tr><td>10.0</td><td>&quot;Minnick&quot;</td></tr><tr><td>11.0</td><td>&quot;Earle&quot;</td></tr><tr><td>11.0</td><td>&quot;Garrison&quot;</td></tr><tr><td>12.0</td><td>&quot;Smith&quot;</td></tr></tbody></table></div>"
      ],
      "text/plain": [
       "shape: (6, 2)\n",
       "┌─────────────┬─────────────┐\n",
       "│ Patient Age ┆ Family Name │\n",
       "│ ---         ┆ ---         │\n",
       "│ f64         ┆ str         │\n",
       "╞═════════════╪═════════════╡\n",
       "│ 3.0         ┆ Nell        │\n",
       "│ 8.0         ┆ Guerrero    │\n",
       "│ 10.0        ┆ Minnick     │\n",
       "│ 11.0        ┆ Earle       │\n",
       "│ 11.0        ┆ Garrison    │\n",
       "│ 12.0        ┆ Smith       │\n",
       "└─────────────┴─────────────┘"
      ]
     },
     "execution_count": 44,
     "metadata": {},
     "output_type": "execute_result"
    }
   ],
   "source": [
    "df_datos_filter.sort(\"Patient Age\",\"Family Name\")"
   ]
  },
  {
   "cell_type": "code",
   "execution_count": 45,
   "id": "fa5b7bd9",
   "metadata": {},
   "outputs": [
    {
     "data": {
      "text/html": [
       "<div><style>\n",
       ".dataframe > thead > tr,\n",
       ".dataframe > tbody > tr {\n",
       "  text-align: right;\n",
       "  white-space: pre-wrap;\n",
       "}\n",
       "</style>\n",
       "<small>shape: (6, 2)</small><table border=\"1\" class=\"dataframe\"><thead><tr><th>Patient Age</th><th>Family Name</th></tr><tr><td>f64</td><td>str</td></tr></thead><tbody><tr><td>12.0</td><td>&quot;Smith&quot;</td></tr><tr><td>11.0</td><td>&quot;Garrison&quot;</td></tr><tr><td>11.0</td><td>&quot;Earle&quot;</td></tr><tr><td>10.0</td><td>&quot;Minnick&quot;</td></tr><tr><td>8.0</td><td>&quot;Guerrero&quot;</td></tr><tr><td>3.0</td><td>&quot;Nell&quot;</td></tr></tbody></table></div>"
      ],
      "text/plain": [
       "shape: (6, 2)\n",
       "┌─────────────┬─────────────┐\n",
       "│ Patient Age ┆ Family Name │\n",
       "│ ---         ┆ ---         │\n",
       "│ f64         ┆ str         │\n",
       "╞═════════════╪═════════════╡\n",
       "│ 12.0        ┆ Smith       │\n",
       "│ 11.0        ┆ Garrison    │\n",
       "│ 11.0        ┆ Earle       │\n",
       "│ 10.0        ┆ Minnick     │\n",
       "│ 8.0         ┆ Guerrero    │\n",
       "│ 3.0         ┆ Nell        │\n",
       "└─────────────┴─────────────┘"
      ]
     },
     "execution_count": 45,
     "metadata": {},
     "output_type": "execute_result"
    }
   ],
   "source": [
    "df_datos_filter.sort(\"Patient Age\",\"Family Name\", descending=True)"
   ]
  },
  {
   "cell_type": "code",
   "execution_count": 46,
   "id": "f8481b6c",
   "metadata": {},
   "outputs": [
    {
     "data": {
      "text/html": [
       "<div><style>\n",
       ".dataframe > thead > tr,\n",
       ".dataframe > tbody > tr {\n",
       "  text-align: right;\n",
       "  white-space: pre-wrap;\n",
       "}\n",
       "</style>\n",
       "<small>shape: (6, 2)</small><table border=\"1\" class=\"dataframe\"><thead><tr><th>Patient Age</th><th>Family Name</th></tr><tr><td>f64</td><td>str</td></tr></thead><tbody><tr><td>3.0</td><td>&quot;Nell&quot;</td></tr><tr><td>8.0</td><td>&quot;Guerrero&quot;</td></tr><tr><td>10.0</td><td>&quot;Minnick&quot;</td></tr><tr><td>11.0</td><td>&quot;Garrison&quot;</td></tr><tr><td>11.0</td><td>&quot;Earle&quot;</td></tr><tr><td>12.0</td><td>&quot;Smith&quot;</td></tr></tbody></table></div>"
      ],
      "text/plain": [
       "shape: (6, 2)\n",
       "┌─────────────┬─────────────┐\n",
       "│ Patient Age ┆ Family Name │\n",
       "│ ---         ┆ ---         │\n",
       "│ f64         ┆ str         │\n",
       "╞═════════════╪═════════════╡\n",
       "│ 3.0         ┆ Nell        │\n",
       "│ 8.0         ┆ Guerrero    │\n",
       "│ 10.0        ┆ Minnick     │\n",
       "│ 11.0        ┆ Garrison    │\n",
       "│ 11.0        ┆ Earle       │\n",
       "│ 12.0        ┆ Smith       │\n",
       "└─────────────┴─────────────┘"
      ]
     },
     "execution_count": 46,
     "metadata": {},
     "output_type": "execute_result"
    }
   ],
   "source": [
    "df_datos_filter.sort(\"Patient Age\",\"Family Name\", descending=[False,True])"
   ]
  },
  {
   "cell_type": "markdown",
   "id": "a0bd3d96",
   "metadata": {},
   "source": [
    "## Tarea"
   ]
  },
  {
   "cell_type": "code",
   "execution_count": 6,
   "id": "b5ca27b2",
   "metadata": {},
   "outputs": [
    {
     "data": {
      "text/html": [
       "<div><style>\n",
       ".dataframe > thead > tr,\n",
       ".dataframe > tbody > tr {\n",
       "  text-align: right;\n",
       "  white-space: pre-wrap;\n",
       "}\n",
       "</style>\n",
       "<small>shape: (22_083, 45)</small><table border=\"1\" class=\"dataframe\"><thead><tr><th>Patient Id</th><th>Patient Age</th><th>Genes in mother&#x27;s side</th><th>Inherited from father</th><th>Maternal gene</th><th>Paternal gene</th><th>Blood cell count (mcL)</th><th>Patient First Name</th><th>Family Name</th><th>Father&#x27;s name</th><th>Mother&#x27;s age</th><th>Father&#x27;s age</th><th>Institute Name</th><th>Location of Institute</th><th>Status</th><th>Respiratory Rate (breaths/min)</th><th>Heart Rate (rates/min</th><th>Test 1</th><th>Test 2</th><th>Test 3</th><th>Test 4</th><th>Test 5</th><th>Parental consent</th><th>Follow-up</th><th>Gender</th><th>Birth asphyxia</th><th>Autopsy shows birth defect (if applicable)</th><th>Place of birth</th><th>Folic acid details (peri-conceptional)</th><th>H/O serious maternal illness</th><th>H/O radiation exposure (x-ray)</th><th>H/O substance abuse</th><th>Assisted conception IVF/ART</th><th>History of anomalies in previous pregnancies</th><th>No. of previous abortion</th><th>Birth defects</th><th>White Blood cell count (thousand per microliter)</th><th>Blood test result</th><th>Symptom 1</th><th>Symptom 2</th><th>Symptom 3</th><th>Symptom 4</th><th>Symptom 5</th><th>Genetic Disorder</th><th>Disorder Subclass</th></tr><tr><td>str</td><td>f64</td><td>str</td><td>str</td><td>str</td><td>str</td><td>f64</td><td>str</td><td>str</td><td>str</td><td>f64</td><td>f64</td><td>str</td><td>str</td><td>str</td><td>str</td><td>str</td><td>f64</td><td>f64</td><td>f64</td><td>f64</td><td>f64</td><td>str</td><td>str</td><td>str</td><td>str</td><td>str</td><td>str</td><td>str</td><td>str</td><td>str</td><td>str</td><td>str</td><td>str</td><td>f64</td><td>str</td><td>f64</td><td>str</td><td>f64</td><td>f64</td><td>f64</td><td>f64</td><td>f64</td><td>str</td><td>str</td></tr></thead><tbody><tr><td>&quot;PID0x6418&quot;</td><td>2.0</td><td>&quot;Yes&quot;</td><td>&quot;No&quot;</td><td>&quot;Yes&quot;</td><td>&quot;No&quot;</td><td>4.760603</td><td>&quot;Richard&quot;</td><td>null</td><td>&quot;Larre&quot;</td><td>null</td><td>null</td><td>&quot;Boston Specialty &amp; Rehabilitat…</td><td>&quot;55 FRUIT ST\n",
       "CENTRAL, MA 02114\n",
       "…</td><td>&quot;Alive&quot;</td><td>&quot;Normal (30-60)&quot;</td><td>&quot;Normal&quot;</td><td>0.0</td><td>null</td><td>null</td><td>1.0</td><td>0.0</td><td>&quot;Yes&quot;</td><td>&quot;High&quot;</td><td>null</td><td>null</td><td>&quot;Not applicable&quot;</td><td>&quot;Institute&quot;</td><td>&quot;No&quot;</td><td>null</td><td>&quot;No&quot;</td><td>&quot;No&quot;</td><td>&quot;No&quot;</td><td>&quot;Yes&quot;</td><td>null</td><td>null</td><td>9.857562</td><td>null</td><td>1.0</td><td>1.0</td><td>1.0</td><td>1.0</td><td>1.0</td><td>&quot;Mitochondrial genetic inherita…</td><td>&quot;Leber&#x27;s hereditary optic neuro…</td></tr><tr><td>&quot;PID0x25d5&quot;</td><td>4.0</td><td>&quot;Yes&quot;</td><td>&quot;Yes&quot;</td><td>&quot;No&quot;</td><td>&quot;No&quot;</td><td>4.910669</td><td>&quot;Mike&quot;</td><td>null</td><td>&quot;Brycen&quot;</td><td>null</td><td>23.0</td><td>&quot;St. Margaret&#x27;s Hospital For Wo…</td><td>&quot;1515 COMMONWEALTH AV\n",
       "ALLSTON/B…</td><td>&quot;Deceased&quot;</td><td>&quot;Tachypnea&quot;</td><td>&quot;Normal&quot;</td><td>null</td><td>0.0</td><td>0.0</td><td>1.0</td><td>0.0</td><td>&quot;Yes&quot;</td><td>&quot;High&quot;</td><td>null</td><td>&quot;No&quot;</td><td>&quot;None&quot;</td><td>null</td><td>&quot;Yes&quot;</td><td>&quot;Yes&quot;</td><td>&quot;Not applicable&quot;</td><td>&quot;Not applicable&quot;</td><td>&quot;No&quot;</td><td>&quot;Yes&quot;</td><td>null</td><td>&quot;Multiple&quot;</td><td>5.52256</td><td>&quot;normal&quot;</td><td>1.0</td><td>null</td><td>1.0</td><td>1.0</td><td>0.0</td><td>null</td><td>&quot;Cystic fibrosis&quot;</td></tr><tr><td>&quot;PID0x4a82&quot;</td><td>6.0</td><td>&quot;Yes&quot;</td><td>&quot;No&quot;</td><td>&quot;No&quot;</td><td>&quot;No&quot;</td><td>4.893297</td><td>&quot;Kimberly&quot;</td><td>null</td><td>&quot;Nashon&quot;</td><td>41.0</td><td>22.0</td><td>null</td><td>&quot;-&quot;</td><td>&quot;Alive&quot;</td><td>&quot;Normal (30-60)&quot;</td><td>&quot;Tachycardia&quot;</td><td>0.0</td><td>0.0</td><td>0.0</td><td>1.0</td><td>0.0</td><td>&quot;Yes&quot;</td><td>&quot;Low&quot;</td><td>null</td><td>&quot;No record&quot;</td><td>&quot;Not applicable&quot;</td><td>null</td><td>&quot;Yes&quot;</td><td>&quot;No&quot;</td><td>&quot;Yes&quot;</td><td>null</td><td>&quot;Yes&quot;</td><td>&quot;Yes&quot;</td><td>4.0</td><td>&quot;Singular&quot;</td><td>null</td><td>&quot;normal&quot;</td><td>0.0</td><td>1.0</td><td>1.0</td><td>1.0</td><td>1.0</td><td>&quot;Multifactorial genetic inherit…</td><td>&quot;Diabetes&quot;</td></tr><tr><td>&quot;PID0x4ac8&quot;</td><td>12.0</td><td>&quot;Yes&quot;</td><td>&quot;No&quot;</td><td>&quot;Yes&quot;</td><td>&quot;No&quot;</td><td>4.70528</td><td>&quot;Jeffery&quot;</td><td>&quot;Hoelscher&quot;</td><td>&quot;Aayaan&quot;</td><td>21.0</td><td>null</td><td>null</td><td>&quot;55 FRUIT ST\n",
       "CENTRAL, MA 02114\n",
       "…</td><td>&quot;Deceased&quot;</td><td>&quot;Tachypnea&quot;</td><td>&quot;Normal&quot;</td><td>0.0</td><td>0.0</td><td>0.0</td><td>1.0</td><td>0.0</td><td>&quot;Yes&quot;</td><td>&quot;High&quot;</td><td>&quot;Male&quot;</td><td>&quot;Not available&quot;</td><td>&quot;No&quot;</td><td>&quot;Institute&quot;</td><td>&quot;No&quot;</td><td>&quot;Yes&quot;</td><td>&quot;-&quot;</td><td>&quot;Not applicable&quot;</td><td>null</td><td>&quot;Yes&quot;</td><td>1.0</td><td>&quot;Singular&quot;</td><td>7.919321</td><td>&quot;inconclusive&quot;</td><td>0.0</td><td>0.0</td><td>1.0</td><td>0.0</td><td>0.0</td><td>&quot;Mitochondrial genetic inherita…</td><td>&quot;Leigh syndrome&quot;</td></tr><tr><td>&quot;PID0x1bf7&quot;</td><td>11.0</td><td>&quot;Yes&quot;</td><td>&quot;No&quot;</td><td>null</td><td>&quot;Yes&quot;</td><td>4.720703</td><td>&quot;Johanna&quot;</td><td>&quot;Stutzman&quot;</td><td>&quot;Suave&quot;</td><td>32.0</td><td>null</td><td>&quot;Carney Hospital&quot;</td><td>&quot;300 LONGWOOD AV\n",
       "FENWAY/KENMORE…</td><td>&quot;Alive&quot;</td><td>&quot;Tachypnea&quot;</td><td>&quot;Tachycardia&quot;</td><td>0.0</td><td>0.0</td><td>0.0</td><td>1.0</td><td>0.0</td><td>null</td><td>&quot;Low&quot;</td><td>&quot;Male&quot;</td><td>&quot;Not available&quot;</td><td>&quot;Not applicable&quot;</td><td>&quot;Institute&quot;</td><td>&quot;No&quot;</td><td>&quot;Yes&quot;</td><td>&quot;-&quot;</td><td>&quot;Not applicable&quot;</td><td>&quot;Yes&quot;</td><td>&quot;No&quot;</td><td>4.0</td><td>&quot;Multiple&quot;</td><td>4.09821</td><td>null</td><td>0.0</td><td>0.0</td><td>0.0</td><td>0.0</td><td>null</td><td>&quot;Multifactorial genetic inherit…</td><td>&quot;Cancer&quot;</td></tr><tr><td>&hellip;</td><td>&hellip;</td><td>&hellip;</td><td>&hellip;</td><td>&hellip;</td><td>&hellip;</td><td>&hellip;</td><td>&hellip;</td><td>&hellip;</td><td>&hellip;</td><td>&hellip;</td><td>&hellip;</td><td>&hellip;</td><td>&hellip;</td><td>&hellip;</td><td>&hellip;</td><td>&hellip;</td><td>&hellip;</td><td>&hellip;</td><td>&hellip;</td><td>&hellip;</td><td>&hellip;</td><td>&hellip;</td><td>&hellip;</td><td>&hellip;</td><td>&hellip;</td><td>&hellip;</td><td>&hellip;</td><td>&hellip;</td><td>&hellip;</td><td>&hellip;</td><td>&hellip;</td><td>&hellip;</td><td>&hellip;</td><td>&hellip;</td><td>&hellip;</td><td>&hellip;</td><td>&hellip;</td><td>&hellip;</td><td>&hellip;</td><td>&hellip;</td><td>&hellip;</td><td>&hellip;</td><td>&hellip;</td><td>&hellip;</td></tr><tr><td>&quot;PID0x5598&quot;</td><td>4.0</td><td>&quot;Yes&quot;</td><td>&quot;Yes&quot;</td><td>&quot;Yes&quot;</td><td>&quot;No&quot;</td><td>5.258298</td><td>&quot;Lynn&quot;</td><td>null</td><td>&quot;Alhassane&quot;</td><td>35.0</td><td>64.0</td><td>&quot;Franciscan Children&#x27;s&nbsp;&nbsp;Hospita…</td><td>&quot;1153 CENTRE ST\n",
       "JAMAICA PLAIN, …</td><td>&quot;Deceased&quot;</td><td>&quot;Normal (30-60)&quot;</td><td>&quot;Tachycardia&quot;</td><td>null</td><td>0.0</td><td>null</td><td>1.0</td><td>0.0</td><td>&quot;Yes&quot;</td><td>&quot;High&quot;</td><td>&quot;Female&quot;</td><td>&quot;No&quot;</td><td>&quot;No&quot;</td><td>&quot;Institute&quot;</td><td>null</td><td>&quot;No&quot;</td><td>&quot;Not applicable&quot;</td><td>&quot;No&quot;</td><td>&quot;Yes&quot;</td><td>&quot;No&quot;</td><td>3.0</td><td>&quot;Multiple&quot;</td><td>6.584811</td><td>&quot;inconclusive&quot;</td><td>0.0</td><td>0.0</td><td>1.0</td><td>0.0</td><td>0.0</td><td>&quot;Mitochondrial genetic inherita…</td><td>&quot;Leigh syndrome&quot;</td></tr><tr><td>&quot;PID0x19cb&quot;</td><td>8.0</td><td>&quot;No&quot;</td><td>&quot;Yes&quot;</td><td>&quot;No&quot;</td><td>&quot;Yes&quot;</td><td>4.97422</td><td>&quot;Matthew&quot;</td><td>&quot;Farley&quot;</td><td>&quot;Dartanion&quot;</td><td>null</td><td>56.0</td><td>&quot;Faulkner Hospital&quot;</td><td>&quot;170 MORTON ST\n",
       "ROSLINDALE, MA 0…</td><td>&quot;Alive&quot;</td><td>&quot;Normal (30-60)&quot;</td><td>&quot;Normal&quot;</td><td>null</td><td>0.0</td><td>null</td><td>1.0</td><td>null</td><td>null</td><td>&quot;High&quot;</td><td>&quot;Ambiguous&quot;</td><td>&quot;No&quot;</td><td>&quot;Not applicable&quot;</td><td>&quot;Institute&quot;</td><td>&quot;Yes&quot;</td><td>&quot;Yes&quot;</td><td>&quot;No&quot;</td><td>&quot;-&quot;</td><td>&quot;Yes&quot;</td><td>&quot;No&quot;</td><td>2.0</td><td>&quot;Multiple&quot;</td><td>7.041556</td><td>&quot;inconclusive&quot;</td><td>1.0</td><td>1.0</td><td>1.0</td><td>1.0</td><td>0.0</td><td>&quot;Multifactorial genetic inherit…</td><td>&quot;Diabetes&quot;</td></tr><tr><td>&quot;PID0x3c4f&quot;</td><td>8.0</td><td>&quot;Yes&quot;</td><td>&quot;No&quot;</td><td>&quot;Yes&quot;</td><td>&quot;No&quot;</td><td>5.18647</td><td>&quot;John&quot;</td><td>null</td><td>&quot;Cavani&quot;</td><td>35.0</td><td>51.0</td><td>&quot;Not applicable&quot;</td><td>&quot;-&quot;</td><td>&quot;Deceased&quot;</td><td>&quot;Tachypnea&quot;</td><td>&quot;Normal&quot;</td><td>0.0</td><td>0.0</td><td>0.0</td><td>1.0</td><td>null</td><td>&quot;Yes&quot;</td><td>&quot;High&quot;</td><td>&quot;Male&quot;</td><td>&quot;No&quot;</td><td>&quot;None&quot;</td><td>&quot;Home&quot;</td><td>&quot;No&quot;</td><td>&quot;No&quot;</td><td>null</td><td>&quot;No&quot;</td><td>&quot;No&quot;</td><td>&quot;No&quot;</td><td>2.0</td><td>&quot;Singular&quot;</td><td>7.715464</td><td>&quot;normal&quot;</td><td>0.0</td><td>0.0</td><td>0.0</td><td>1.0</td><td>null</td><td>&quot;Mitochondrial genetic inherita…</td><td>&quot;Mitochondrial myopathy&quot;</td></tr><tr><td>&quot;PID0x13a&quot;</td><td>7.0</td><td>&quot;Yes&quot;</td><td>&quot;No&quot;</td><td>&quot;Yes&quot;</td><td>&quot;Yes&quot;</td><td>4.858543</td><td>&quot;Sharon&quot;</td><td>null</td><td>&quot;Bomer&quot;</td><td>19.0</td><td>null</td><td>&quot;Not applicable&quot;</td><td>&quot;-&quot;</td><td>&quot;Alive&quot;</td><td>&quot;Tachypnea&quot;</td><td>&quot;Tachycardia&quot;</td><td>0.0</td><td>0.0</td><td>0.0</td><td>1.0</td><td>0.0</td><td>&quot;Yes&quot;</td><td>&quot;High&quot;</td><td>&quot;Male&quot;</td><td>&quot;No record&quot;</td><td>&quot;Not applicable&quot;</td><td>&quot;Home&quot;</td><td>&quot;Yes&quot;</td><td>&quot;Yes&quot;</td><td>&quot;-&quot;</td><td>&quot;Yes&quot;</td><td>&quot;Yes&quot;</td><td>&quot;No&quot;</td><td>1.0</td><td>&quot;Multiple&quot;</td><td>8.43767</td><td>&quot;abnormal&quot;</td><td>1.0</td><td>1.0</td><td>1.0</td><td>0.0</td><td>0.0</td><td>null</td><td>&quot;Leigh syndrome&quot;</td></tr><tr><td>&quot;PID0x9332&quot;</td><td>11.0</td><td>&quot;Yes&quot;</td><td>&quot;No&quot;</td><td>&quot;No&quot;</td><td>&quot;No&quot;</td><td>4.738067</td><td>&quot;Andrew&quot;</td><td>&quot;Mose&quot;</td><td>&quot;Eban&quot;</td><td>32.0</td><td>62.0</td><td>&quot;Hebrew Rehabilitation Center&quot;</td><td>&quot;300 LONGWOOD AV\n",
       "FENWAY/KENMORE…</td><td>&quot;Deceased&quot;</td><td>&quot;Normal (30-60)&quot;</td><td>&quot;Normal&quot;</td><td>0.0</td><td>0.0</td><td>0.0</td><td>1.0</td><td>0.0</td><td>&quot;Yes&quot;</td><td>&quot;High&quot;</td><td>&quot;Female&quot;</td><td>&quot;Yes&quot;</td><td>&quot;None&quot;</td><td>&quot;Institute&quot;</td><td>&quot;Yes&quot;</td><td>&quot;Yes&quot;</td><td>&quot;Not applicable&quot;</td><td>&quot;No&quot;</td><td>&quot;Yes&quot;</td><td>&quot;Yes&quot;</td><td>4.0</td><td>&quot;Singular&quot;</td><td>11.188371</td><td>&quot;normal&quot;</td><td>1.0</td><td>0.0</td><td>1.0</td><td>1.0</td><td>1.0</td><td>&quot;Multifactorial genetic inherit…</td><td>&quot;Diabetes&quot;</td></tr></tbody></table></div>"
      ],
      "text/plain": [
       "shape: (22_083, 45)\n",
       "┌───────────┬───────────┬───────────┬───────────┬───┬───────────┬───────────┬───────────┬──────────┐\n",
       "│ Patient   ┆ Patient   ┆ Genes in  ┆ Inherited ┆ … ┆ Symptom 4 ┆ Symptom 5 ┆ Genetic   ┆ Disorder │\n",
       "│ Id        ┆ Age       ┆ mother's  ┆ from      ┆   ┆ ---       ┆ ---       ┆ Disorder  ┆ Subclass │\n",
       "│ ---       ┆ ---       ┆ side      ┆ father    ┆   ┆ f64       ┆ f64       ┆ ---       ┆ ---      │\n",
       "│ str       ┆ f64       ┆ ---       ┆ ---       ┆   ┆           ┆           ┆ str       ┆ str      │\n",
       "│           ┆           ┆ str       ┆ str       ┆   ┆           ┆           ┆           ┆          │\n",
       "╞═══════════╪═══════════╪═══════════╪═══════════╪═══╪═══════════╪═══════════╪═══════════╪══════════╡\n",
       "│ PID0x6418 ┆ 2.0       ┆ Yes       ┆ No        ┆ … ┆ 1.0       ┆ 1.0       ┆ Mitochond ┆ Leber's  │\n",
       "│           ┆           ┆           ┆           ┆   ┆           ┆           ┆ rial      ┆ heredita │\n",
       "│           ┆           ┆           ┆           ┆   ┆           ┆           ┆ genetic   ┆ ry optic │\n",
       "│           ┆           ┆           ┆           ┆   ┆           ┆           ┆ inherita… ┆ neuro…   │\n",
       "│ PID0x25d5 ┆ 4.0       ┆ Yes       ┆ Yes       ┆ … ┆ 1.0       ┆ 0.0       ┆ null      ┆ Cystic   │\n",
       "│           ┆           ┆           ┆           ┆   ┆           ┆           ┆           ┆ fibrosis │\n",
       "│ PID0x4a82 ┆ 6.0       ┆ Yes       ┆ No        ┆ … ┆ 1.0       ┆ 1.0       ┆ Multifact ┆ Diabetes │\n",
       "│           ┆           ┆           ┆           ┆   ┆           ┆           ┆ orial     ┆          │\n",
       "│           ┆           ┆           ┆           ┆   ┆           ┆           ┆ genetic   ┆          │\n",
       "│           ┆           ┆           ┆           ┆   ┆           ┆           ┆ inherit…  ┆          │\n",
       "│ PID0x4ac8 ┆ 12.0      ┆ Yes       ┆ No        ┆ … ┆ 0.0       ┆ 0.0       ┆ Mitochond ┆ Leigh    │\n",
       "│           ┆           ┆           ┆           ┆   ┆           ┆           ┆ rial      ┆ syndrome │\n",
       "│           ┆           ┆           ┆           ┆   ┆           ┆           ┆ genetic   ┆          │\n",
       "│           ┆           ┆           ┆           ┆   ┆           ┆           ┆ inherita… ┆          │\n",
       "│ PID0x1bf7 ┆ 11.0      ┆ Yes       ┆ No        ┆ … ┆ 0.0       ┆ null      ┆ Multifact ┆ Cancer   │\n",
       "│           ┆           ┆           ┆           ┆   ┆           ┆           ┆ orial     ┆          │\n",
       "│           ┆           ┆           ┆           ┆   ┆           ┆           ┆ genetic   ┆          │\n",
       "│           ┆           ┆           ┆           ┆   ┆           ┆           ┆ inherit…  ┆          │\n",
       "│ …         ┆ …         ┆ …         ┆ …         ┆ … ┆ …         ┆ …         ┆ …         ┆ …        │\n",
       "│ PID0x5598 ┆ 4.0       ┆ Yes       ┆ Yes       ┆ … ┆ 0.0       ┆ 0.0       ┆ Mitochond ┆ Leigh    │\n",
       "│           ┆           ┆           ┆           ┆   ┆           ┆           ┆ rial      ┆ syndrome │\n",
       "│           ┆           ┆           ┆           ┆   ┆           ┆           ┆ genetic   ┆          │\n",
       "│           ┆           ┆           ┆           ┆   ┆           ┆           ┆ inherita… ┆          │\n",
       "│ PID0x19cb ┆ 8.0       ┆ No        ┆ Yes       ┆ … ┆ 1.0       ┆ 0.0       ┆ Multifact ┆ Diabetes │\n",
       "│           ┆           ┆           ┆           ┆   ┆           ┆           ┆ orial     ┆          │\n",
       "│           ┆           ┆           ┆           ┆   ┆           ┆           ┆ genetic   ┆          │\n",
       "│           ┆           ┆           ┆           ┆   ┆           ┆           ┆ inherit…  ┆          │\n",
       "│ PID0x3c4f ┆ 8.0       ┆ Yes       ┆ No        ┆ … ┆ 1.0       ┆ null      ┆ Mitochond ┆ Mitochon │\n",
       "│           ┆           ┆           ┆           ┆   ┆           ┆           ┆ rial      ┆ drial    │\n",
       "│           ┆           ┆           ┆           ┆   ┆           ┆           ┆ genetic   ┆ myopathy │\n",
       "│           ┆           ┆           ┆           ┆   ┆           ┆           ┆ inherita… ┆          │\n",
       "│ PID0x13a  ┆ 7.0       ┆ Yes       ┆ No        ┆ … ┆ 0.0       ┆ 0.0       ┆ null      ┆ Leigh    │\n",
       "│           ┆           ┆           ┆           ┆   ┆           ┆           ┆           ┆ syndrome │\n",
       "│ PID0x9332 ┆ 11.0      ┆ Yes       ┆ No        ┆ … ┆ 1.0       ┆ 1.0       ┆ Multifact ┆ Diabetes │\n",
       "│           ┆           ┆           ┆           ┆   ┆           ┆           ┆ orial     ┆          │\n",
       "│           ┆           ┆           ┆           ┆   ┆           ┆           ┆ genetic   ┆          │\n",
       "│           ┆           ┆           ┆           ┆   ┆           ┆           ┆ inherit…  ┆          │\n",
       "└───────────┴───────────┴───────────┴───────────┴───┴───────────┴───────────┴───────────┴──────────┘"
      ]
     },
     "execution_count": 6,
     "metadata": {},
     "output_type": "execute_result"
    }
   ],
   "source": [
    "df_datos"
   ]
  },
  {
   "cell_type": "code",
   "execution_count": 7,
   "id": "93415a3e",
   "metadata": {},
   "outputs": [
    {
     "data": {
      "text/html": [
       "<div><style>\n",
       ".dataframe > thead > tr,\n",
       ".dataframe > tbody > tr {\n",
       "  text-align: right;\n",
       "  white-space: pre-wrap;\n",
       "}\n",
       "</style>\n",
       "<small>shape: (1, 45)</small><table border=\"1\" class=\"dataframe\"><thead><tr><th>Patient Id</th><th>Patient Age</th><th>Genes in mother&#x27;s side</th><th>Inherited from father</th><th>Maternal gene</th><th>Paternal gene</th><th>Blood cell count (mcL)</th><th>Patient First Name</th><th>Family Name</th><th>Father&#x27;s name</th><th>Mother&#x27;s age</th><th>Father&#x27;s age</th><th>Institute Name</th><th>Location of Institute</th><th>Status</th><th>Respiratory Rate (breaths/min)</th><th>Heart Rate (rates/min</th><th>Test 1</th><th>Test 2</th><th>Test 3</th><th>Test 4</th><th>Test 5</th><th>Parental consent</th><th>Follow-up</th><th>Gender</th><th>Birth asphyxia</th><th>Autopsy shows birth defect (if applicable)</th><th>Place of birth</th><th>Folic acid details (peri-conceptional)</th><th>H/O serious maternal illness</th><th>H/O radiation exposure (x-ray)</th><th>H/O substance abuse</th><th>Assisted conception IVF/ART</th><th>History of anomalies in previous pregnancies</th><th>No. of previous abortion</th><th>Birth defects</th><th>White Blood cell count (thousand per microliter)</th><th>Blood test result</th><th>Symptom 1</th><th>Symptom 2</th><th>Symptom 3</th><th>Symptom 4</th><th>Symptom 5</th><th>Genetic Disorder</th><th>Disorder Subclass</th></tr><tr><td>u32</td><td>u32</td><td>u32</td><td>u32</td><td>u32</td><td>u32</td><td>u32</td><td>u32</td><td>u32</td><td>u32</td><td>u32</td><td>u32</td><td>u32</td><td>u32</td><td>u32</td><td>u32</td><td>u32</td><td>u32</td><td>u32</td><td>u32</td><td>u32</td><td>u32</td><td>u32</td><td>u32</td><td>u32</td><td>u32</td><td>u32</td><td>u32</td><td>u32</td><td>u32</td><td>u32</td><td>u32</td><td>u32</td><td>u32</td><td>u32</td><td>u32</td><td>u32</td><td>u32</td><td>u32</td><td>u32</td><td>u32</td><td>u32</td><td>u32</td><td>u32</td><td>u32</td></tr></thead><tbody><tr><td>0</td><td>1427</td><td>0</td><td>306</td><td>2810</td><td>0</td><td>0</td><td>0</td><td>9691</td><td>0</td><td>6036</td><td>5986</td><td>5106</td><td>0</td><td>0</td><td>2149</td><td>2113</td><td>2127</td><td>2152</td><td>2147</td><td>2140</td><td>2170</td><td>2125</td><td>2166</td><td>2173</td><td>2139</td><td>1026</td><td>2124</td><td>2117</td><td>2152</td><td>2153</td><td>2195</td><td>2122</td><td>2172</td><td>2162</td><td>2154</td><td>2148</td><td>2145</td><td>2155</td><td>2222</td><td>2101</td><td>2113</td><td>2153</td><td>2146</td><td>2168</td></tr></tbody></table></div>"
      ],
      "text/plain": [
       "shape: (1, 45)\n",
       "┌───────────┬───────────┬───────────┬───────────┬───┬───────────┬───────────┬───────────┬──────────┐\n",
       "│ Patient   ┆ Patient   ┆ Genes in  ┆ Inherited ┆ … ┆ Symptom 4 ┆ Symptom 5 ┆ Genetic   ┆ Disorder │\n",
       "│ Id        ┆ Age       ┆ mother's  ┆ from      ┆   ┆ ---       ┆ ---       ┆ Disorder  ┆ Subclass │\n",
       "│ ---       ┆ ---       ┆ side      ┆ father    ┆   ┆ u32       ┆ u32       ┆ ---       ┆ ---      │\n",
       "│ u32       ┆ u32       ┆ ---       ┆ ---       ┆   ┆           ┆           ┆ u32       ┆ u32      │\n",
       "│           ┆           ┆ u32       ┆ u32       ┆   ┆           ┆           ┆           ┆          │\n",
       "╞═══════════╪═══════════╪═══════════╪═══════════╪═══╪═══════════╪═══════════╪═══════════╪══════════╡\n",
       "│ 0         ┆ 1427      ┆ 0         ┆ 306       ┆ … ┆ 2113      ┆ 2153      ┆ 2146      ┆ 2168     │\n",
       "└───────────┴───────────┴───────────┴───────────┴───┴───────────┴───────────┴───────────┴──────────┘"
      ]
     },
     "execution_count": 7,
     "metadata": {},
     "output_type": "execute_result"
    }
   ],
   "source": [
    "df_datos.null_count()"
   ]
  },
  {
   "cell_type": "code",
   "execution_count": 8,
   "id": "de65566e",
   "metadata": {},
   "outputs": [],
   "source": [
    "#¿Cuántos pacientes hay que no tengan ningún valor nulo en cualquiera de sus columnas?\n"
   ]
  },
  {
   "cell_type": "code",
   "execution_count": 11,
   "id": "c665b6d7",
   "metadata": {},
   "outputs": [
    {
     "data": {
      "text/plain": [
       "6706"
      ]
     },
     "execution_count": 11,
     "metadata": {},
     "output_type": "execute_result"
    }
   ],
   "source": [
    "df_datos.drop_nulls().shape[0]\n"
   ]
  },
  {
   "cell_type": "code",
   "execution_count": null,
   "id": "cbe238a7",
   "metadata": {},
   "outputs": [],
   "source": [
    "#¿Cuántos pacientes no tienen consentimiento informado o no se tiene información al respecto?.\n",
    "# Elimina estos registros y guarda el resultado en un nuevo DataFrame ¿Cuántos pacientes quedan después de esta operación?"
   ]
  },
  {
   "cell_type": "code",
   "execution_count": null,
   "id": "3283a6ac",
   "metadata": {},
   "outputs": [
    {
     "data": {
      "text/plain": [
       "(22083, 45)"
      ]
     },
     "execution_count": 18,
     "metadata": {},
     "output_type": "execute_result"
    }
   ],
   "source": [
    "df_datos.select(\"Parental consent\").unique()\n",
    "df_datos.select(\"Parental consent\").null_count()\n",
    "df_datos.shape\n"
   ]
  },
  {
   "cell_type": "code",
   "execution_count": 21,
   "id": "98164f7e",
   "metadata": {},
   "outputs": [
    {
     "data": {
      "text/plain": [
       "19958"
      ]
     },
     "execution_count": 21,
     "metadata": {},
     "output_type": "execute_result"
    }
   ],
   "source": [
    "df_nuevo= df_datos.drop_nulls(subset=[\"Parental consent\"])\n",
    "df_nuevo.height\n"
   ]
  },
  {
   "cell_type": "code",
   "execution_count": null,
   "id": "2cdbb6e0",
   "metadata": {},
   "outputs": [],
   "source": [
    "# ¿Cuántos pacientes no tienen informado un desorden genético pero si tienen asociada una subclase de desorden genético?"
   ]
  },
  {
   "cell_type": "code",
   "execution_count": null,
   "id": "dd1242c3",
   "metadata": {},
   "outputs": [
    {
     "data": {
      "text/html": [
       "<div><style>\n",
       ".dataframe > thead > tr,\n",
       ".dataframe > tbody > tr {\n",
       "  text-align: right;\n",
       "  white-space: pre-wrap;\n",
       "}\n",
       "</style>\n",
       "<small>shape: (1_868, 45)</small><table border=\"1\" class=\"dataframe\"><thead><tr><th>Patient Id</th><th>Patient Age</th><th>Genes in mother&#x27;s side</th><th>Inherited from father</th><th>Maternal gene</th><th>Paternal gene</th><th>Blood cell count (mcL)</th><th>Patient First Name</th><th>Family Name</th><th>Father&#x27;s name</th><th>Mother&#x27;s age</th><th>Father&#x27;s age</th><th>Institute Name</th><th>Location of Institute</th><th>Status</th><th>Respiratory Rate (breaths/min)</th><th>Heart Rate (rates/min</th><th>Test 1</th><th>Test 2</th><th>Test 3</th><th>Test 4</th><th>Test 5</th><th>Parental consent</th><th>Follow-up</th><th>Gender</th><th>Birth asphyxia</th><th>Autopsy shows birth defect (if applicable)</th><th>Place of birth</th><th>Folic acid details (peri-conceptional)</th><th>H/O serious maternal illness</th><th>H/O radiation exposure (x-ray)</th><th>H/O substance abuse</th><th>Assisted conception IVF/ART</th><th>History of anomalies in previous pregnancies</th><th>No. of previous abortion</th><th>Birth defects</th><th>White Blood cell count (thousand per microliter)</th><th>Blood test result</th><th>Symptom 1</th><th>Symptom 2</th><th>Symptom 3</th><th>Symptom 4</th><th>Symptom 5</th><th>Genetic Disorder</th><th>Disorder Subclass</th></tr><tr><td>str</td><td>f64</td><td>str</td><td>str</td><td>str</td><td>str</td><td>f64</td><td>str</td><td>str</td><td>str</td><td>f64</td><td>f64</td><td>str</td><td>str</td><td>str</td><td>str</td><td>str</td><td>f64</td><td>f64</td><td>f64</td><td>f64</td><td>f64</td><td>str</td><td>str</td><td>str</td><td>str</td><td>str</td><td>str</td><td>str</td><td>str</td><td>str</td><td>str</td><td>str</td><td>str</td><td>f64</td><td>str</td><td>f64</td><td>str</td><td>f64</td><td>f64</td><td>f64</td><td>f64</td><td>f64</td><td>str</td><td>str</td></tr></thead><tbody><tr><td>&quot;PID0x25d5&quot;</td><td>4.0</td><td>&quot;Yes&quot;</td><td>&quot;Yes&quot;</td><td>&quot;No&quot;</td><td>&quot;No&quot;</td><td>4.910669</td><td>&quot;Mike&quot;</td><td>null</td><td>&quot;Brycen&quot;</td><td>null</td><td>23.0</td><td>&quot;St. Margaret&#x27;s Hospital For Wo…</td><td>&quot;1515 COMMONWEALTH AV\n",
       "ALLSTON/B…</td><td>&quot;Deceased&quot;</td><td>&quot;Tachypnea&quot;</td><td>&quot;Normal&quot;</td><td>null</td><td>0.0</td><td>0.0</td><td>1.0</td><td>0.0</td><td>&quot;Yes&quot;</td><td>&quot;High&quot;</td><td>null</td><td>&quot;No&quot;</td><td>&quot;None&quot;</td><td>null</td><td>&quot;Yes&quot;</td><td>&quot;Yes&quot;</td><td>&quot;Not applicable&quot;</td><td>&quot;Not applicable&quot;</td><td>&quot;No&quot;</td><td>&quot;Yes&quot;</td><td>null</td><td>&quot;Multiple&quot;</td><td>5.52256</td><td>&quot;normal&quot;</td><td>1.0</td><td>null</td><td>1.0</td><td>1.0</td><td>0.0</td><td>null</td><td>&quot;Cystic fibrosis&quot;</td></tr><tr><td>&quot;PID0xc25&quot;</td><td>0.0</td><td>&quot;Yes&quot;</td><td>&quot;No&quot;</td><td>&quot;No&quot;</td><td>&quot;Yes&quot;</td><td>4.807778</td><td>&quot;Adam&quot;</td><td>null</td><td>&quot;Tong&quot;</td><td>28.0</td><td>null</td><td>null</td><td>&quot;-&quot;</td><td>&quot;Deceased&quot;</td><td>null</td><td>null</td><td>0.0</td><td>0.0</td><td>0.0</td><td>1.0</td><td>0.0</td><td>&quot;Yes&quot;</td><td>&quot;Low&quot;</td><td>&quot;Ambiguous&quot;</td><td>&quot;Not available&quot;</td><td>&quot;No&quot;</td><td>null</td><td>&quot;No&quot;</td><td>null</td><td>&quot;No&quot;</td><td>&quot;Not applicable&quot;</td><td>&quot;No&quot;</td><td>&quot;Yes&quot;</td><td>4.0</td><td>&quot;Multiple&quot;</td><td>8.440593</td><td>&quot;abnormal&quot;</td><td>0.0</td><td>1.0</td><td>1.0</td><td>0.0</td><td>0.0</td><td>null</td><td>&quot;Leigh syndrome&quot;</td></tr><tr><td>&quot;PID0x264c&quot;</td><td>0.0</td><td>&quot;Yes&quot;</td><td>&quot;No&quot;</td><td>&quot;Yes&quot;</td><td>&quot;No&quot;</td><td>4.921015</td><td>&quot;James&quot;</td><td>&quot;Tracy&quot;</td><td>&quot;Romolo&quot;</td><td>24.0</td><td>null</td><td>&quot;Not applicable&quot;</td><td>&quot;-&quot;</td><td>&quot;Deceased&quot;</td><td>null</td><td>&quot;Normal&quot;</td><td>null</td><td>null</td><td>0.0</td><td>1.0</td><td>0.0</td><td>&quot;Yes&quot;</td><td>&quot;Low&quot;</td><td>&quot;Male&quot;</td><td>&quot;No&quot;</td><td>null</td><td>&quot;Home&quot;</td><td>null</td><td>&quot;No&quot;</td><td>&quot;Yes&quot;</td><td>&quot;No&quot;</td><td>&quot;No&quot;</td><td>&quot;Yes&quot;</td><td>0.0</td><td>&quot;Singular&quot;</td><td>null</td><td>&quot;slightly abnormal&quot;</td><td>null</td><td>0.0</td><td>0.0</td><td>0.0</td><td>0.0</td><td>null</td><td>&quot;Tay-Sachs&quot;</td></tr><tr><td>&quot;PID0x20e7&quot;</td><td>8.0</td><td>&quot;Yes&quot;</td><td>&quot;No&quot;</td><td>null</td><td>&quot;Yes&quot;</td><td>5.259736</td><td>&quot;Warner&quot;</td><td>&quot;Shumay&quot;</td><td>&quot;Laramie&quot;</td><td>null</td><td>null</td><td>null</td><td>&quot;185 PILGRIM RD\n",
       "FENWAY/KENMORE,…</td><td>&quot;Alive&quot;</td><td>&quot;Tachypnea&quot;</td><td>&quot;Tachycardia&quot;</td><td>0.0</td><td>0.0</td><td>0.0</td><td>1.0</td><td>0.0</td><td>&quot;Yes&quot;</td><td>&quot;Low&quot;</td><td>&quot;Female&quot;</td><td>&quot;Not available&quot;</td><td>&quot;Not applicable&quot;</td><td>null</td><td>null</td><td>&quot;No&quot;</td><td>null</td><td>&quot;Not applicable&quot;</td><td>null</td><td>&quot;Yes&quot;</td><td>2.0</td><td>null</td><td>9.719873</td><td>&quot;slightly abnormal&quot;</td><td>1.0</td><td>0.0</td><td>1.0</td><td>0.0</td><td>0.0</td><td>null</td><td>&quot;Mitochondrial myopathy&quot;</td></tr><tr><td>&quot;PID0x2447&quot;</td><td>2.0</td><td>&quot;Yes&quot;</td><td>&quot;Yes&quot;</td><td>&quot;Yes&quot;</td><td>&quot;Yes&quot;</td><td>4.927532</td><td>&quot;Michele&quot;</td><td>null</td><td>&quot;Raudel&quot;</td><td>40.0</td><td>49.0</td><td>&quot;Not applicable&quot;</td><td>&quot;-&quot;</td><td>&quot;Deceased&quot;</td><td>&quot;Normal (30-60)&quot;</td><td>&quot;Normal&quot;</td><td>0.0</td><td>0.0</td><td>0.0</td><td>1.0</td><td>0.0</td><td>&quot;Yes&quot;</td><td>&quot;High&quot;</td><td>null</td><td>null</td><td>null</td><td>&quot;Home&quot;</td><td>null</td><td>&quot;No&quot;</td><td>&quot;No&quot;</td><td>null</td><td>&quot;Yes&quot;</td><td>&quot;Yes&quot;</td><td>null</td><td>&quot;Singular&quot;</td><td>5.169576</td><td>&quot;abnormal&quot;</td><td>1.0</td><td>1.0</td><td>0.0</td><td>0.0</td><td>1.0</td><td>null</td><td>&quot;Cystic fibrosis&quot;</td></tr><tr><td>&hellip;</td><td>&hellip;</td><td>&hellip;</td><td>&hellip;</td><td>&hellip;</td><td>&hellip;</td><td>&hellip;</td><td>&hellip;</td><td>&hellip;</td><td>&hellip;</td><td>&hellip;</td><td>&hellip;</td><td>&hellip;</td><td>&hellip;</td><td>&hellip;</td><td>&hellip;</td><td>&hellip;</td><td>&hellip;</td><td>&hellip;</td><td>&hellip;</td><td>&hellip;</td><td>&hellip;</td><td>&hellip;</td><td>&hellip;</td><td>&hellip;</td><td>&hellip;</td><td>&hellip;</td><td>&hellip;</td><td>&hellip;</td><td>&hellip;</td><td>&hellip;</td><td>&hellip;</td><td>&hellip;</td><td>&hellip;</td><td>&hellip;</td><td>&hellip;</td><td>&hellip;</td><td>&hellip;</td><td>&hellip;</td><td>&hellip;</td><td>&hellip;</td><td>&hellip;</td><td>&hellip;</td><td>&hellip;</td><td>&hellip;</td></tr><tr><td>&quot;PID0x54e1&quot;</td><td>null</td><td>&quot;Yes&quot;</td><td>&quot;Yes&quot;</td><td>&quot;No&quot;</td><td>&quot;Yes&quot;</td><td>4.664764</td><td>&quot;Paul&quot;</td><td>null</td><td>&quot;Namari&quot;</td><td>42.0</td><td>30.0</td><td>null</td><td>&quot;1153 CENTRE ST\n",
       "JAMAICA PLAIN, …</td><td>&quot;Deceased&quot;</td><td>&quot;Normal (30-60)&quot;</td><td>&quot;Tachycardia&quot;</td><td>0.0</td><td>0.0</td><td>null</td><td>1.0</td><td>0.0</td><td>null</td><td>&quot;High&quot;</td><td>null</td><td>&quot;Not available&quot;</td><td>&quot;No&quot;</td><td>&quot;Institute&quot;</td><td>&quot;No&quot;</td><td>null</td><td>&quot;No&quot;</td><td>&quot;No&quot;</td><td>null</td><td>null</td><td>4.0</td><td>&quot;Singular&quot;</td><td>null</td><td>&quot;normal&quot;</td><td>0.0</td><td>0.0</td><td>0.0</td><td>0.0</td><td>0.0</td><td>null</td><td>&quot;Tay-Sachs&quot;</td></tr><tr><td>&quot;PID0x53fd&quot;</td><td>1.0</td><td>&quot;No&quot;</td><td>&quot;No&quot;</td><td>null</td><td>&quot;No&quot;</td><td>4.516767</td><td>&quot;David&quot;</td><td>&quot;Gould&quot;</td><td>&quot;Chibuzor&quot;</td><td>null</td><td>42.0</td><td>&quot;Spaulding Rehabilitation Hospi…</td><td>&quot;750 WASHINGTON ST\n",
       "CENTRAL, MA …</td><td>&quot;Deceased&quot;</td><td>&quot;Normal (30-60)&quot;</td><td>&quot;Tachycardia&quot;</td><td>0.0</td><td>0.0</td><td>null</td><td>null</td><td>0.0</td><td>&quot;Yes&quot;</td><td>&quot;Low&quot;</td><td>&quot;Male&quot;</td><td>&quot;Yes&quot;</td><td>&quot;Yes&quot;</td><td>&quot;Institute&quot;</td><td>null</td><td>&quot;No&quot;</td><td>&quot;No&quot;</td><td>&quot;-&quot;</td><td>&quot;Yes&quot;</td><td>&quot;Yes&quot;</td><td>2.0</td><td>&quot;Multiple&quot;</td><td>null</td><td>&quot;slightly abnormal&quot;</td><td>null</td><td>1.0</td><td>0.0</td><td>0.0</td><td>1.0</td><td>null</td><td>&quot;Tay-Sachs&quot;</td></tr><tr><td>&quot;PID0x2666&quot;</td><td>3.0</td><td>&quot;Yes&quot;</td><td>&quot;No&quot;</td><td>&quot;No&quot;</td><td>&quot;No&quot;</td><td>4.671013</td><td>&quot;Maurice&quot;</td><td>null</td><td>&quot;Dayland&quot;</td><td>40.0</td><td>39.0</td><td>&quot;Boston Medical Center&quot;</td><td>&quot;90 CUSHING AV\n",
       "DORCHESTER, MA 0…</td><td>&quot;Deceased&quot;</td><td>&quot;Normal (30-60)&quot;</td><td>&quot;Tachycardia&quot;</td><td>0.0</td><td>0.0</td><td>null</td><td>1.0</td><td>0.0</td><td>null</td><td>null</td><td>&quot;Male&quot;</td><td>&quot;No&quot;</td><td>&quot;Yes&quot;</td><td>&quot;Institute&quot;</td><td>&quot;No&quot;</td><td>&quot;Yes&quot;</td><td>&quot;No&quot;</td><td>&quot;Not applicable&quot;</td><td>null</td><td>null</td><td>4.0</td><td>&quot;Multiple&quot;</td><td>4.96741</td><td>&quot;inconclusive&quot;</td><td>0.0</td><td>1.0</td><td>1.0</td><td>1.0</td><td>1.0</td><td>null</td><td>&quot;Diabetes&quot;</td></tr><tr><td>&quot;PID0xbd&quot;</td><td>13.0</td><td>&quot;Yes&quot;</td><td>&quot;Yes&quot;</td><td>&quot;No&quot;</td><td>&quot;Yes&quot;</td><td>4.874635</td><td>&quot;Rosa&quot;</td><td>null</td><td>&quot;Donovin&quot;</td><td>44.0</td><td>62.0</td><td>&quot;Not applicable&quot;</td><td>&quot;-&quot;</td><td>&quot;Alive&quot;</td><td>&quot;Tachypnea&quot;</td><td>&quot;Tachycardia&quot;</td><td>0.0</td><td>null</td><td>0.0</td><td>1.0</td><td>0.0</td><td>&quot;Yes&quot;</td><td>null</td><td>null</td><td>&quot;No record&quot;</td><td>&quot;Not applicable&quot;</td><td>&quot;Home&quot;</td><td>&quot;No&quot;</td><td>null</td><td>&quot;No&quot;</td><td>&quot;No&quot;</td><td>&quot;Yes&quot;</td><td>&quot;No&quot;</td><td>1.0</td><td>null</td><td>null</td><td>&quot;normal&quot;</td><td>0.0</td><td>0.0</td><td>0.0</td><td>1.0</td><td>1.0</td><td>null</td><td>&quot;Leigh syndrome&quot;</td></tr><tr><td>&quot;PID0x13a&quot;</td><td>7.0</td><td>&quot;Yes&quot;</td><td>&quot;No&quot;</td><td>&quot;Yes&quot;</td><td>&quot;Yes&quot;</td><td>4.858543</td><td>&quot;Sharon&quot;</td><td>null</td><td>&quot;Bomer&quot;</td><td>19.0</td><td>null</td><td>&quot;Not applicable&quot;</td><td>&quot;-&quot;</td><td>&quot;Alive&quot;</td><td>&quot;Tachypnea&quot;</td><td>&quot;Tachycardia&quot;</td><td>0.0</td><td>0.0</td><td>0.0</td><td>1.0</td><td>0.0</td><td>&quot;Yes&quot;</td><td>&quot;High&quot;</td><td>&quot;Male&quot;</td><td>&quot;No record&quot;</td><td>&quot;Not applicable&quot;</td><td>&quot;Home&quot;</td><td>&quot;Yes&quot;</td><td>&quot;Yes&quot;</td><td>&quot;-&quot;</td><td>&quot;Yes&quot;</td><td>&quot;Yes&quot;</td><td>&quot;No&quot;</td><td>1.0</td><td>&quot;Multiple&quot;</td><td>8.43767</td><td>&quot;abnormal&quot;</td><td>1.0</td><td>1.0</td><td>1.0</td><td>0.0</td><td>0.0</td><td>null</td><td>&quot;Leigh syndrome&quot;</td></tr></tbody></table></div>"
      ],
      "text/plain": [
       "shape: (1_868, 45)\n",
       "┌───────────┬───────────┬───────────┬───────────┬───┬───────────┬───────────┬───────────┬──────────┐\n",
       "│ Patient   ┆ Patient   ┆ Genes in  ┆ Inherited ┆ … ┆ Symptom 4 ┆ Symptom 5 ┆ Genetic   ┆ Disorder │\n",
       "│ Id        ┆ Age       ┆ mother's  ┆ from      ┆   ┆ ---       ┆ ---       ┆ Disorder  ┆ Subclass │\n",
       "│ ---       ┆ ---       ┆ side      ┆ father    ┆   ┆ f64       ┆ f64       ┆ ---       ┆ ---      │\n",
       "│ str       ┆ f64       ┆ ---       ┆ ---       ┆   ┆           ┆           ┆ str       ┆ str      │\n",
       "│           ┆           ┆ str       ┆ str       ┆   ┆           ┆           ┆           ┆          │\n",
       "╞═══════════╪═══════════╪═══════════╪═══════════╪═══╪═══════════╪═══════════╪═══════════╪══════════╡\n",
       "│ PID0x25d5 ┆ 4.0       ┆ Yes       ┆ Yes       ┆ … ┆ 1.0       ┆ 0.0       ┆ null      ┆ Cystic   │\n",
       "│           ┆           ┆           ┆           ┆   ┆           ┆           ┆           ┆ fibrosis │\n",
       "│ PID0xc25  ┆ 0.0       ┆ Yes       ┆ No        ┆ … ┆ 0.0       ┆ 0.0       ┆ null      ┆ Leigh    │\n",
       "│           ┆           ┆           ┆           ┆   ┆           ┆           ┆           ┆ syndrome │\n",
       "│ PID0x264c ┆ 0.0       ┆ Yes       ┆ No        ┆ … ┆ 0.0       ┆ 0.0       ┆ null      ┆ Tay-Sach │\n",
       "│           ┆           ┆           ┆           ┆   ┆           ┆           ┆           ┆ s        │\n",
       "│ PID0x20e7 ┆ 8.0       ┆ Yes       ┆ No        ┆ … ┆ 0.0       ┆ 0.0       ┆ null      ┆ Mitochon │\n",
       "│           ┆           ┆           ┆           ┆   ┆           ┆           ┆           ┆ drial    │\n",
       "│           ┆           ┆           ┆           ┆   ┆           ┆           ┆           ┆ myopathy │\n",
       "│ PID0x2447 ┆ 2.0       ┆ Yes       ┆ Yes       ┆ … ┆ 0.0       ┆ 1.0       ┆ null      ┆ Cystic   │\n",
       "│           ┆           ┆           ┆           ┆   ┆           ┆           ┆           ┆ fibrosis │\n",
       "│ …         ┆ …         ┆ …         ┆ …         ┆ … ┆ …         ┆ …         ┆ …         ┆ …        │\n",
       "│ PID0x54e1 ┆ null      ┆ Yes       ┆ Yes       ┆ … ┆ 0.0       ┆ 0.0       ┆ null      ┆ Tay-Sach │\n",
       "│           ┆           ┆           ┆           ┆   ┆           ┆           ┆           ┆ s        │\n",
       "│ PID0x53fd ┆ 1.0       ┆ No        ┆ No        ┆ … ┆ 0.0       ┆ 1.0       ┆ null      ┆ Tay-Sach │\n",
       "│           ┆           ┆           ┆           ┆   ┆           ┆           ┆           ┆ s        │\n",
       "│ PID0x2666 ┆ 3.0       ┆ Yes       ┆ No        ┆ … ┆ 1.0       ┆ 1.0       ┆ null      ┆ Diabetes │\n",
       "│ PID0xbd   ┆ 13.0      ┆ Yes       ┆ Yes       ┆ … ┆ 1.0       ┆ 1.0       ┆ null      ┆ Leigh    │\n",
       "│           ┆           ┆           ┆           ┆   ┆           ┆           ┆           ┆ syndrome │\n",
       "│ PID0x13a  ┆ 7.0       ┆ Yes       ┆ No        ┆ … ┆ 0.0       ┆ 0.0       ┆ null      ┆ Leigh    │\n",
       "│           ┆           ┆           ┆           ┆   ┆           ┆           ┆           ┆ syndrome │\n",
       "└───────────┴───────────┴───────────┴───────────┴───┴───────────┴───────────┴───────────┴──────────┘"
      ]
     },
     "execution_count": 23,
     "metadata": {},
     "output_type": "execute_result"
    }
   ],
   "source": [
    "df_new = df_datos.filter((pl.col(\"Genetic Disorder\")).is_null())\n",
    "df_new.drop_nulls(subset=[\"Disorder Subclass\"])\n"
   ]
  },
  {
   "cell_type": "code",
   "execution_count": 25,
   "id": "f46bac1e",
   "metadata": {},
   "outputs": [
    {
     "data": {
      "text/html": [
       "<div><style>\n",
       ".dataframe > thead > tr,\n",
       ".dataframe > tbody > tr {\n",
       "  text-align: right;\n",
       "  white-space: pre-wrap;\n",
       "}\n",
       "</style>\n",
       "<small>shape: (1, 45)</small><table border=\"1\" class=\"dataframe\"><thead><tr><th>Patient Id</th><th>Patient Age</th><th>Genes in mother&#x27;s side</th><th>Inherited from father</th><th>Maternal gene</th><th>Paternal gene</th><th>Blood cell count (mcL)</th><th>Patient First Name</th><th>Family Name</th><th>Father&#x27;s name</th><th>Mother&#x27;s age</th><th>Father&#x27;s age</th><th>Institute Name</th><th>Location of Institute</th><th>Status</th><th>Respiratory Rate (breaths/min)</th><th>Heart Rate (rates/min</th><th>Test 1</th><th>Test 2</th><th>Test 3</th><th>Test 4</th><th>Test 5</th><th>Parental consent</th><th>Follow-up</th><th>Gender</th><th>Birth asphyxia</th><th>Autopsy shows birth defect (if applicable)</th><th>Place of birth</th><th>Folic acid details (peri-conceptional)</th><th>H/O serious maternal illness</th><th>H/O radiation exposure (x-ray)</th><th>H/O substance abuse</th><th>Assisted conception IVF/ART</th><th>History of anomalies in previous pregnancies</th><th>No. of previous abortion</th><th>Birth defects</th><th>White Blood cell count (thousand per microliter)</th><th>Blood test result</th><th>Symptom 1</th><th>Symptom 2</th><th>Symptom 3</th><th>Symptom 4</th><th>Symptom 5</th><th>Genetic Disorder</th><th>Disorder Subclass</th></tr><tr><td>str</td><td>f64</td><td>str</td><td>str</td><td>str</td><td>str</td><td>f64</td><td>str</td><td>str</td><td>str</td><td>f64</td><td>f64</td><td>str</td><td>str</td><td>str</td><td>str</td><td>str</td><td>f64</td><td>f64</td><td>f64</td><td>f64</td><td>f64</td><td>str</td><td>str</td><td>str</td><td>str</td><td>str</td><td>str</td><td>str</td><td>str</td><td>str</td><td>str</td><td>str</td><td>str</td><td>f64</td><td>str</td><td>f64</td><td>str</td><td>f64</td><td>f64</td><td>f64</td><td>f64</td><td>f64</td><td>str</td><td>str</td></tr></thead><tbody><tr><td>&quot;PID0x25d5&quot;</td><td>4.0</td><td>&quot;Yes&quot;</td><td>&quot;Yes&quot;</td><td>&quot;No&quot;</td><td>&quot;No&quot;</td><td>4.910669</td><td>&quot;Mike&quot;</td><td>null</td><td>&quot;Brycen&quot;</td><td>null</td><td>23.0</td><td>&quot;St. Margaret&#x27;s Hospital For Wo…</td><td>&quot;1515 COMMONWEALTH AV\n",
       "ALLSTON/B…</td><td>&quot;Deceased&quot;</td><td>&quot;Tachypnea&quot;</td><td>&quot;Normal&quot;</td><td>null</td><td>0.0</td><td>0.0</td><td>1.0</td><td>0.0</td><td>&quot;Yes&quot;</td><td>&quot;High&quot;</td><td>null</td><td>&quot;No&quot;</td><td>&quot;None&quot;</td><td>null</td><td>&quot;Yes&quot;</td><td>&quot;Yes&quot;</td><td>&quot;Not applicable&quot;</td><td>&quot;Not applicable&quot;</td><td>&quot;No&quot;</td><td>&quot;Yes&quot;</td><td>null</td><td>&quot;Multiple&quot;</td><td>5.52256</td><td>&quot;normal&quot;</td><td>1.0</td><td>null</td><td>1.0</td><td>1.0</td><td>0.0</td><td>null</td><td>&quot;Cystic fibrosis&quot;</td></tr></tbody></table></div>"
      ],
      "text/plain": [
       "shape: (1, 45)\n",
       "┌───────────┬───────────┬───────────┬───────────┬───┬───────────┬───────────┬───────────┬──────────┐\n",
       "│ Patient   ┆ Patient   ┆ Genes in  ┆ Inherited ┆ … ┆ Symptom 4 ┆ Symptom 5 ┆ Genetic   ┆ Disorder │\n",
       "│ Id        ┆ Age       ┆ mother's  ┆ from      ┆   ┆ ---       ┆ ---       ┆ Disorder  ┆ Subclass │\n",
       "│ ---       ┆ ---       ┆ side      ┆ father    ┆   ┆ f64       ┆ f64       ┆ ---       ┆ ---      │\n",
       "│ str       ┆ f64       ┆ ---       ┆ ---       ┆   ┆           ┆           ┆ str       ┆ str      │\n",
       "│           ┆           ┆ str       ┆ str       ┆   ┆           ┆           ┆           ┆          │\n",
       "╞═══════════╪═══════════╪═══════════╪═══════════╪═══╪═══════════╪═══════════╪═══════════╪══════════╡\n",
       "│ PID0x25d5 ┆ 4.0       ┆ Yes       ┆ Yes       ┆ … ┆ 1.0       ┆ 0.0       ┆ null      ┆ Cystic   │\n",
       "│           ┆           ┆           ┆           ┆   ┆           ┆           ┆           ┆ fibrosis │\n",
       "└───────────┴───────────┴───────────┴───────────┴───┴───────────┴───────────┴───────────┴──────────┘"
      ]
     },
     "execution_count": 25,
     "metadata": {},
     "output_type": "execute_result"
    }
   ],
   "source": [
    "df_datos.filter((pl.col(\"Genetic Disorder\").is_null()) & (pl.col(\"Disorder Subclass\").is_not_null())).head(1)"
   ]
  },
  {
   "cell_type": "code",
   "execution_count": 26,
   "id": "66afacd9",
   "metadata": {},
   "outputs": [],
   "source": [
    "# Completa los valores nulos con la siguiente información y comprueba como cambian las estadísticas:\n",
    "# Valor mínimo\n",
    "# Valor máximo\n",
    "# “No informado”\n",
    "# 0"
   ]
  },
  {
   "cell_type": "markdown",
   "id": "ea02e3b2",
   "metadata": {},
   "source": []
  },
  {
   "cell_type": "code",
   "execution_count": 34,
   "id": "5c1e4716",
   "metadata": {},
   "outputs": [
    {
     "data": {
      "text/html": [
       "<div><style>\n",
       ".dataframe > thead > tr,\n",
       ".dataframe > tbody > tr {\n",
       "  text-align: right;\n",
       "  white-space: pre-wrap;\n",
       "}\n",
       "</style>\n",
       "<small>shape: (9, 8)</small><table border=\"1\" class=\"dataframe\"><thead><tr><th>statistic</th><th>Patient Id</th><th>Patient Age</th><th>Genes in mother&#x27;s side</th><th>Inherited from father</th><th>Maternal gene</th><th>Paternal gene</th><th>Blood cell count (mcL)</th></tr><tr><td>str</td><td>str</td><td>f64</td><td>str</td><td>str</td><td>str</td><td>str</td><td>f64</td></tr></thead><tbody><tr><td>&quot;count&quot;</td><td>&quot;22083&quot;</td><td>20656.0</td><td>&quot;22083&quot;</td><td>&quot;21777&quot;</td><td>&quot;19273&quot;</td><td>&quot;22083&quot;</td><td>22083.0</td></tr><tr><td>&quot;null_count&quot;</td><td>&quot;0&quot;</td><td>1427.0</td><td>&quot;0&quot;</td><td>&quot;306&quot;</td><td>&quot;2810&quot;</td><td>&quot;0&quot;</td><td>0.0</td></tr><tr><td>&quot;mean&quot;</td><td>null</td><td>6.974148</td><td>null</td><td>null</td><td>null</td><td>null</td><td>4.898871</td></tr><tr><td>&quot;std&quot;</td><td>null</td><td>4.319475</td><td>null</td><td>null</td><td>null</td><td>null</td><td>0.199663</td></tr><tr><td>&quot;min&quot;</td><td>&quot;PID0x1&quot;</td><td>0.0</td><td>&quot;No&quot;</td><td>&quot;No&quot;</td><td>&quot;No&quot;</td><td>&quot;No&quot;</td><td>4.092727</td></tr><tr><td>&quot;25%&quot;</td><td>null</td><td>3.0</td><td>null</td><td>null</td><td>null</td><td>null</td><td>4.76315</td></tr><tr><td>&quot;50%&quot;</td><td>null</td><td>7.0</td><td>null</td><td>null</td><td>null</td><td>null</td><td>4.899399</td></tr><tr><td>&quot;75%&quot;</td><td>null</td><td>11.0</td><td>null</td><td>null</td><td>null</td><td>null</td><td>5.033831</td></tr><tr><td>&quot;max&quot;</td><td>&quot;PID0xffe&quot;</td><td>14.0</td><td>&quot;Yes&quot;</td><td>&quot;Yes&quot;</td><td>&quot;Yes&quot;</td><td>&quot;Yes&quot;</td><td>5.609829</td></tr></tbody></table></div>"
      ],
      "text/plain": [
       "shape: (9, 8)\n",
       "┌────────────┬────────────┬────────────┬───────────┬───────────┬───────────┬───────────┬───────────┐\n",
       "│ statistic  ┆ Patient Id ┆ Patient    ┆ Genes in  ┆ Inherited ┆ Maternal  ┆ Paternal  ┆ Blood     │\n",
       "│ ---        ┆ ---        ┆ Age        ┆ mother's  ┆ from      ┆ gene      ┆ gene      ┆ cell      │\n",
       "│ str        ┆ str        ┆ ---        ┆ side      ┆ father    ┆ ---       ┆ ---       ┆ count     │\n",
       "│            ┆            ┆ f64        ┆ ---       ┆ ---       ┆ str       ┆ str       ┆ (mcL)     │\n",
       "│            ┆            ┆            ┆ str       ┆ str       ┆           ┆           ┆ ---       │\n",
       "│            ┆            ┆            ┆           ┆           ┆           ┆           ┆ f64       │\n",
       "╞════════════╪════════════╪════════════╪═══════════╪═══════════╪═══════════╪═══════════╪═══════════╡\n",
       "│ count      ┆ 22083      ┆ 20656.0    ┆ 22083     ┆ 21777     ┆ 19273     ┆ 22083     ┆ 22083.0   │\n",
       "│ null_count ┆ 0          ┆ 1427.0     ┆ 0         ┆ 306       ┆ 2810      ┆ 0         ┆ 0.0       │\n",
       "│ mean       ┆ null       ┆ 6.974148   ┆ null      ┆ null      ┆ null      ┆ null      ┆ 4.898871  │\n",
       "│ std        ┆ null       ┆ 4.319475   ┆ null      ┆ null      ┆ null      ┆ null      ┆ 0.199663  │\n",
       "│ min        ┆ PID0x1     ┆ 0.0        ┆ No        ┆ No        ┆ No        ┆ No        ┆ 4.092727  │\n",
       "│ 25%        ┆ null       ┆ 3.0        ┆ null      ┆ null      ┆ null      ┆ null      ┆ 4.76315   │\n",
       "│ 50%        ┆ null       ┆ 7.0        ┆ null      ┆ null      ┆ null      ┆ null      ┆ 4.899399  │\n",
       "│ 75%        ┆ null       ┆ 11.0       ┆ null      ┆ null      ┆ null      ┆ null      ┆ 5.033831  │\n",
       "│ max        ┆ PID0xffe   ┆ 14.0       ┆ Yes       ┆ Yes       ┆ Yes       ┆ Yes       ┆ 5.609829  │\n",
       "└────────────┴────────────┴────────────┴───────────┴───────────┴───────────┴───────────┴───────────┘"
      ]
     },
     "execution_count": 34,
     "metadata": {},
     "output_type": "execute_result"
    }
   ],
   "source": [
    "df_datos.select('Patient Id',\n",
    " 'Patient Age',\n",
    " \"Genes in mother's side\",\n",
    " 'Inherited from father',\n",
    " 'Maternal gene',\n",
    " 'Paternal gene',\n",
    " 'Blood cell count (mcL)').describe()"
   ]
  },
  {
   "cell_type": "code",
   "execution_count": 40,
   "id": "7d2ed615",
   "metadata": {},
   "outputs": [
    {
     "data": {
      "text/html": [
       "<div><style>\n",
       ".dataframe > thead > tr,\n",
       ".dataframe > tbody > tr {\n",
       "  text-align: right;\n",
       "  white-space: pre-wrap;\n",
       "}\n",
       "</style>\n",
       "<small>shape: (9, 17)</small><table border=\"1\" class=\"dataframe\"><thead><tr><th>statistic</th><th>Patient Age</th><th>Blood cell count (mcL)</th><th>Mother&#x27;s age</th><th>Father&#x27;s age</th><th>Test 1</th><th>Test 2</th><th>Test 3</th><th>Test 4</th><th>Test 5</th><th>No. of previous abortion</th><th>White Blood cell count (thousand per microliter)</th><th>Symptom 1</th><th>Symptom 2</th><th>Symptom 3</th><th>Symptom 4</th><th>Symptom 5</th></tr><tr><td>str</td><td>f64</td><td>f64</td><td>f64</td><td>f64</td><td>f64</td><td>f64</td><td>f64</td><td>f64</td><td>f64</td><td>f64</td><td>f64</td><td>f64</td><td>f64</td><td>f64</td><td>f64</td><td>f64</td></tr></thead><tbody><tr><td>&quot;count&quot;</td><td>20656.0</td><td>22083.0</td><td>16047.0</td><td>16097.0</td><td>19956.0</td><td>19931.0</td><td>19936.0</td><td>19943.0</td><td>19913.0</td><td>19921.0</td><td>19935.0</td><td>19928.0</td><td>19861.0</td><td>19982.0</td><td>19970.0</td><td>19930.0</td></tr><tr><td>&quot;null_count&quot;</td><td>1427.0</td><td>0.0</td><td>6036.0</td><td>5986.0</td><td>2127.0</td><td>2152.0</td><td>2147.0</td><td>2140.0</td><td>2170.0</td><td>2162.0</td><td>2148.0</td><td>2155.0</td><td>2222.0</td><td>2101.0</td><td>2113.0</td><td>2153.0</td></tr><tr><td>&quot;mean&quot;</td><td>6.974148</td><td>4.898871</td><td>34.526454</td><td>41.972852</td><td>0.0</td><td>0.0</td><td>0.0</td><td>1.0</td><td>0.0</td><td>2.003062</td><td>7.486224</td><td>0.592483</td><td>0.551886</td><td>0.536233</td><td>0.497747</td><td>0.461917</td></tr><tr><td>&quot;std&quot;</td><td>4.319475</td><td>0.199663</td><td>9.852598</td><td>13.035501</td><td>0.0</td><td>0.0</td><td>0.0</td><td>0.0</td><td>0.0</td><td>1.411919</td><td>2.653393</td><td>0.491385</td><td>0.497313</td><td>0.498698</td><td>0.500007</td><td>0.49856</td></tr><tr><td>&quot;min&quot;</td><td>0.0</td><td>4.092727</td><td>18.0</td><td>20.0</td><td>0.0</td><td>0.0</td><td>0.0</td><td>1.0</td><td>0.0</td><td>0.0</td><td>3.0</td><td>0.0</td><td>0.0</td><td>0.0</td><td>0.0</td><td>0.0</td></tr><tr><td>&quot;25%&quot;</td><td>3.0</td><td>4.76315</td><td>26.0</td><td>31.0</td><td>0.0</td><td>0.0</td><td>0.0</td><td>1.0</td><td>0.0</td><td>1.0</td><td>5.424878</td><td>0.0</td><td>0.0</td><td>0.0</td><td>0.0</td><td>0.0</td></tr><tr><td>&quot;50%&quot;</td><td>7.0</td><td>4.899399</td><td>35.0</td><td>42.0</td><td>0.0</td><td>0.0</td><td>0.0</td><td>1.0</td><td>0.0</td><td>2.0</td><td>7.477132</td><td>1.0</td><td>1.0</td><td>1.0</td><td>0.0</td><td>0.0</td></tr><tr><td>&quot;75%&quot;</td><td>11.0</td><td>5.033831</td><td>43.0</td><td>53.0</td><td>0.0</td><td>0.0</td><td>0.0</td><td>1.0</td><td>0.0</td><td>3.0</td><td>9.526214</td><td>1.0</td><td>1.0</td><td>1.0</td><td>1.0</td><td>1.0</td></tr><tr><td>&quot;max&quot;</td><td>14.0</td><td>5.609829</td><td>51.0</td><td>64.0</td><td>0.0</td><td>0.0</td><td>0.0</td><td>1.0</td><td>0.0</td><td>4.0</td><td>12.0</td><td>1.0</td><td>1.0</td><td>1.0</td><td>1.0</td><td>1.0</td></tr></tbody></table></div>"
      ],
      "text/plain": [
       "shape: (9, 17)\n",
       "┌───────────┬───────────┬───────────┬───────────┬───┬───────────┬───────────┬───────────┬──────────┐\n",
       "│ statistic ┆ Patient   ┆ Blood     ┆ Mother's  ┆ … ┆ Symptom 2 ┆ Symptom 3 ┆ Symptom 4 ┆ Symptom  │\n",
       "│ ---       ┆ Age       ┆ cell      ┆ age       ┆   ┆ ---       ┆ ---       ┆ ---       ┆ 5        │\n",
       "│ str       ┆ ---       ┆ count     ┆ ---       ┆   ┆ f64       ┆ f64       ┆ f64       ┆ ---      │\n",
       "│           ┆ f64       ┆ (mcL)     ┆ f64       ┆   ┆           ┆           ┆           ┆ f64      │\n",
       "│           ┆           ┆ ---       ┆           ┆   ┆           ┆           ┆           ┆          │\n",
       "│           ┆           ┆ f64       ┆           ┆   ┆           ┆           ┆           ┆          │\n",
       "╞═══════════╪═══════════╪═══════════╪═══════════╪═══╪═══════════╪═══════════╪═══════════╪══════════╡\n",
       "│ count     ┆ 20656.0   ┆ 22083.0   ┆ 16047.0   ┆ … ┆ 19861.0   ┆ 19982.0   ┆ 19970.0   ┆ 19930.0  │\n",
       "│ null_coun ┆ 1427.0    ┆ 0.0       ┆ 6036.0    ┆ … ┆ 2222.0    ┆ 2101.0    ┆ 2113.0    ┆ 2153.0   │\n",
       "│ t         ┆           ┆           ┆           ┆   ┆           ┆           ┆           ┆          │\n",
       "│ mean      ┆ 6.974148  ┆ 4.898871  ┆ 34.526454 ┆ … ┆ 0.551886  ┆ 0.536233  ┆ 0.497747  ┆ 0.461917 │\n",
       "│ std       ┆ 4.319475  ┆ 0.199663  ┆ 9.852598  ┆ … ┆ 0.497313  ┆ 0.498698  ┆ 0.500007  ┆ 0.49856  │\n",
       "│ min       ┆ 0.0       ┆ 4.092727  ┆ 18.0      ┆ … ┆ 0.0       ┆ 0.0       ┆ 0.0       ┆ 0.0      │\n",
       "│ 25%       ┆ 3.0       ┆ 4.76315   ┆ 26.0      ┆ … ┆ 0.0       ┆ 0.0       ┆ 0.0       ┆ 0.0      │\n",
       "│ 50%       ┆ 7.0       ┆ 4.899399  ┆ 35.0      ┆ … ┆ 1.0       ┆ 1.0       ┆ 0.0       ┆ 0.0      │\n",
       "│ 75%       ┆ 11.0      ┆ 5.033831  ┆ 43.0      ┆ … ┆ 1.0       ┆ 1.0       ┆ 1.0       ┆ 1.0      │\n",
       "│ max       ┆ 14.0      ┆ 5.609829  ┆ 51.0      ┆ … ┆ 1.0       ┆ 1.0       ┆ 1.0       ┆ 1.0      │\n",
       "└───────────┴───────────┴───────────┴───────────┴───┴───────────┴───────────┴───────────┴──────────┘"
      ]
     },
     "execution_count": 40,
     "metadata": {},
     "output_type": "execute_result"
    }
   ],
   "source": [
    "df_datos.select(cs.numeric()).describe()"
   ]
  },
  {
   "cell_type": "code",
   "execution_count": 37,
   "id": "41d03c63",
   "metadata": {},
   "outputs": [
    {
     "data": {
      "text/html": [
       "<div><style>\n",
       ".dataframe > thead > tr,\n",
       ".dataframe > tbody > tr {\n",
       "  text-align: right;\n",
       "  white-space: pre-wrap;\n",
       "}\n",
       "</style>\n",
       "<small>shape: (9, 17)</small><table border=\"1\" class=\"dataframe\"><thead><tr><th>statistic</th><th>Patient Age</th><th>Blood cell count (mcL)</th><th>Mother&#x27;s age</th><th>Father&#x27;s age</th><th>Test 1</th><th>Test 2</th><th>Test 3</th><th>Test 4</th><th>Test 5</th><th>No. of previous abortion</th><th>White Blood cell count (thousand per microliter)</th><th>Symptom 1</th><th>Symptom 2</th><th>Symptom 3</th><th>Symptom 4</th><th>Symptom 5</th></tr><tr><td>str</td><td>f64</td><td>f64</td><td>f64</td><td>f64</td><td>f64</td><td>f64</td><td>f64</td><td>f64</td><td>f64</td><td>f64</td><td>f64</td><td>f64</td><td>f64</td><td>f64</td><td>f64</td><td>f64</td></tr></thead><tbody><tr><td>&quot;count&quot;</td><td>22083.0</td><td>22083.0</td><td>22083.0</td><td>22083.0</td><td>22083.0</td><td>22083.0</td><td>22083.0</td><td>22083.0</td><td>22083.0</td><td>22083.0</td><td>22083.0</td><td>22083.0</td><td>22083.0</td><td>22083.0</td><td>22083.0</td><td>22083.0</td></tr><tr><td>&quot;null_count&quot;</td><td>0.0</td><td>0.0</td><td>0.0</td><td>0.0</td><td>0.0</td><td>0.0</td><td>0.0</td><td>0.0</td><td>0.0</td><td>0.0</td><td>0.0</td><td>0.0</td><td>0.0</td><td>0.0</td><td>0.0</td><td>0.0</td></tr><tr><td>&quot;mean&quot;</td><td>7.428157</td><td>4.898871</td><td>39.029208</td><td>47.943712</td><td>0.0</td><td>0.0</td><td>0.0</td><td>1.0</td><td>0.0</td><td>2.198569</td><td>7.925276</td><td>0.632251</td><td>0.596975</td><td>0.580356</td><td>0.545804</td><td>0.514378</td></tr><tr><td>&quot;std&quot;</td><td>4.520615</td><td>0.199663</td><td>11.155406</td><td>14.823471</td><td>0.0</td><td>0.0</td><td>0.0</td><td>0.0</td><td>0.0</td><td>1.466473</td><td>2.853898</td><td>0.482203</td><td>0.490517</td><td>0.493512</td><td>0.497909</td><td>0.499805</td></tr><tr><td>&quot;min&quot;</td><td>0.0</td><td>4.092727</td><td>18.0</td><td>20.0</td><td>0.0</td><td>0.0</td><td>0.0</td><td>1.0</td><td>0.0</td><td>0.0</td><td>3.0</td><td>0.0</td><td>0.0</td><td>0.0</td><td>0.0</td><td>0.0</td></tr><tr><td>&quot;25%&quot;</td><td>3.0</td><td>4.76315</td><td>29.0</td><td>35.0</td><td>0.0</td><td>0.0</td><td>0.0</td><td>1.0</td><td>0.0</td><td>1.0</td><td>5.653946</td><td>0.0</td><td>0.0</td><td>0.0</td><td>0.0</td><td>0.0</td></tr><tr><td>&quot;50%&quot;</td><td>7.0</td><td>4.899399</td><td>41.0</td><td>50.0</td><td>0.0</td><td>0.0</td><td>0.0</td><td>1.0</td><td>0.0</td><td>2.0</td><td>7.893163</td><td>1.0</td><td>1.0</td><td>1.0</td><td>1.0</td><td>1.0</td></tr><tr><td>&quot;75%&quot;</td><td>12.0</td><td>5.033831</td><td>51.0</td><td>64.0</td><td>0.0</td><td>0.0</td><td>0.0</td><td>1.0</td><td>0.0</td><td>4.0</td><td>10.348257</td><td>1.0</td><td>1.0</td><td>1.0</td><td>1.0</td><td>1.0</td></tr><tr><td>&quot;max&quot;</td><td>14.0</td><td>5.609829</td><td>51.0</td><td>64.0</td><td>0.0</td><td>0.0</td><td>0.0</td><td>1.0</td><td>0.0</td><td>4.0</td><td>12.0</td><td>1.0</td><td>1.0</td><td>1.0</td><td>1.0</td><td>1.0</td></tr></tbody></table></div>"
      ],
      "text/plain": [
       "shape: (9, 17)\n",
       "┌───────────┬───────────┬───────────┬───────────┬───┬───────────┬───────────┬───────────┬──────────┐\n",
       "│ statistic ┆ Patient   ┆ Blood     ┆ Mother's  ┆ … ┆ Symptom 2 ┆ Symptom 3 ┆ Symptom 4 ┆ Symptom  │\n",
       "│ ---       ┆ Age       ┆ cell      ┆ age       ┆   ┆ ---       ┆ ---       ┆ ---       ┆ 5        │\n",
       "│ str       ┆ ---       ┆ count     ┆ ---       ┆   ┆ f64       ┆ f64       ┆ f64       ┆ ---      │\n",
       "│           ┆ f64       ┆ (mcL)     ┆ f64       ┆   ┆           ┆           ┆           ┆ f64      │\n",
       "│           ┆           ┆ ---       ┆           ┆   ┆           ┆           ┆           ┆          │\n",
       "│           ┆           ┆ f64       ┆           ┆   ┆           ┆           ┆           ┆          │\n",
       "╞═══════════╪═══════════╪═══════════╪═══════════╪═══╪═══════════╪═══════════╪═══════════╪══════════╡\n",
       "│ count     ┆ 22083.0   ┆ 22083.0   ┆ 22083.0   ┆ … ┆ 22083.0   ┆ 22083.0   ┆ 22083.0   ┆ 22083.0  │\n",
       "│ null_coun ┆ 0.0       ┆ 0.0       ┆ 0.0       ┆ … ┆ 0.0       ┆ 0.0       ┆ 0.0       ┆ 0.0      │\n",
       "│ t         ┆           ┆           ┆           ┆   ┆           ┆           ┆           ┆          │\n",
       "│ mean      ┆ 7.428157  ┆ 4.898871  ┆ 39.029208 ┆ … ┆ 0.596975  ┆ 0.580356  ┆ 0.545804  ┆ 0.514378 │\n",
       "│ std       ┆ 4.520615  ┆ 0.199663  ┆ 11.155406 ┆ … ┆ 0.490517  ┆ 0.493512  ┆ 0.497909  ┆ 0.499805 │\n",
       "│ min       ┆ 0.0       ┆ 4.092727  ┆ 18.0      ┆ … ┆ 0.0       ┆ 0.0       ┆ 0.0       ┆ 0.0      │\n",
       "│ 25%       ┆ 3.0       ┆ 4.76315   ┆ 29.0      ┆ … ┆ 0.0       ┆ 0.0       ┆ 0.0       ┆ 0.0      │\n",
       "│ 50%       ┆ 7.0       ┆ 4.899399  ┆ 41.0      ┆ … ┆ 1.0       ┆ 1.0       ┆ 1.0       ┆ 1.0      │\n",
       "│ 75%       ┆ 12.0      ┆ 5.033831  ┆ 51.0      ┆ … ┆ 1.0       ┆ 1.0       ┆ 1.0       ┆ 1.0      │\n",
       "│ max       ┆ 14.0      ┆ 5.609829  ┆ 51.0      ┆ … ┆ 1.0       ┆ 1.0       ┆ 1.0       ┆ 1.0      │\n",
       "└───────────┴───────────┴───────────┴───────────┴───┴───────────┴───────────┴───────────┴──────────┘"
      ]
     },
     "execution_count": 37,
     "metadata": {},
     "output_type": "execute_result"
    }
   ],
   "source": [
    "df_datos.select(cs.numeric()).fill_null(strategy=\"max\").describe()"
   ]
  },
  {
   "cell_type": "code",
   "execution_count": 41,
   "id": "20c4ae08",
   "metadata": {},
   "outputs": [
    {
     "data": {
      "text/html": [
       "<div><style>\n",
       ".dataframe > thead > tr,\n",
       ".dataframe > tbody > tr {\n",
       "  text-align: right;\n",
       "  white-space: pre-wrap;\n",
       "}\n",
       "</style>\n",
       "<small>shape: (9, 17)</small><table border=\"1\" class=\"dataframe\"><thead><tr><th>statistic</th><th>Patient Age</th><th>Blood cell count (mcL)</th><th>Mother&#x27;s age</th><th>Father&#x27;s age</th><th>Test 1</th><th>Test 2</th><th>Test 3</th><th>Test 4</th><th>Test 5</th><th>No. of previous abortion</th><th>White Blood cell count (thousand per microliter)</th><th>Symptom 1</th><th>Symptom 2</th><th>Symptom 3</th><th>Symptom 4</th><th>Symptom 5</th></tr><tr><td>str</td><td>f64</td><td>f64</td><td>f64</td><td>f64</td><td>f64</td><td>f64</td><td>f64</td><td>f64</td><td>f64</td><td>f64</td><td>f64</td><td>f64</td><td>f64</td><td>f64</td><td>f64</td><td>f64</td></tr></thead><tbody><tr><td>&quot;count&quot;</td><td>22083.0</td><td>22083.0</td><td>22083.0</td><td>22083.0</td><td>22083.0</td><td>22083.0</td><td>22083.0</td><td>22083.0</td><td>22083.0</td><td>22083.0</td><td>22083.0</td><td>22083.0</td><td>22083.0</td><td>22083.0</td><td>22083.0</td><td>22083.0</td></tr><tr><td>&quot;null_count&quot;</td><td>0.0</td><td>0.0</td><td>0.0</td><td>0.0</td><td>0.0</td><td>0.0</td><td>0.0</td><td>0.0</td><td>0.0</td><td>0.0</td><td>0.0</td><td>0.0</td><td>0.0</td><td>0.0</td><td>0.0</td><td>0.0</td></tr><tr><td>&quot;mean&quot;</td><td>6.974148</td><td>4.898871</td><td>34.526454</td><td>41.972852</td><td>0.0</td><td>0.0</td><td>0.0</td><td>1.0</td><td>0.0</td><td>2.003062</td><td>7.486224</td><td>0.592483</td><td>0.551886</td><td>0.536233</td><td>0.497747</td><td>0.461917</td></tr><tr><td>&quot;std&quot;</td><td>4.177576</td><td>0.199663</td><td>8.398756</td><td>11.129291</td><td>0.0</td><td>0.0</td><td>0.0</td><td>0.0</td><td>0.0</td><td>1.34102</td><td>2.521039</td><td>0.466792</td><td>0.471629</td><td>0.474381</td><td>0.475483</td><td>0.473632</td></tr><tr><td>&quot;min&quot;</td><td>0.0</td><td>4.092727</td><td>18.0</td><td>20.0</td><td>0.0</td><td>0.0</td><td>0.0</td><td>1.0</td><td>0.0</td><td>0.0</td><td>3.0</td><td>0.0</td><td>0.0</td><td>0.0</td><td>0.0</td><td>0.0</td></tr><tr><td>&quot;25%&quot;</td><td>3.0</td><td>4.76315</td><td>29.0</td><td>35.0</td><td>0.0</td><td>0.0</td><td>0.0</td><td>1.0</td><td>0.0</td><td>1.0</td><td>5.653946</td><td>0.0</td><td>0.0</td><td>0.0</td><td>0.0</td><td>0.0</td></tr><tr><td>&quot;50%&quot;</td><td>6.974148</td><td>4.899399</td><td>34.526454</td><td>41.972852</td><td>0.0</td><td>0.0</td><td>0.0</td><td>1.0</td><td>0.0</td><td>2.0</td><td>7.486224</td><td>1.0</td><td>0.551886</td><td>0.536233</td><td>0.497747</td><td>0.461917</td></tr><tr><td>&quot;75%&quot;</td><td>10.0</td><td>5.033831</td><td>40.0</td><td>49.0</td><td>0.0</td><td>0.0</td><td>0.0</td><td>1.0</td><td>0.0</td><td>3.0</td><td>9.279453</td><td>1.0</td><td>1.0</td><td>1.0</td><td>1.0</td><td>1.0</td></tr><tr><td>&quot;max&quot;</td><td>14.0</td><td>5.609829</td><td>51.0</td><td>64.0</td><td>0.0</td><td>0.0</td><td>0.0</td><td>1.0</td><td>0.0</td><td>4.0</td><td>12.0</td><td>1.0</td><td>1.0</td><td>1.0</td><td>1.0</td><td>1.0</td></tr></tbody></table></div>"
      ],
      "text/plain": [
       "shape: (9, 17)\n",
       "┌───────────┬───────────┬───────────┬───────────┬───┬───────────┬───────────┬───────────┬──────────┐\n",
       "│ statistic ┆ Patient   ┆ Blood     ┆ Mother's  ┆ … ┆ Symptom 2 ┆ Symptom 3 ┆ Symptom 4 ┆ Symptom  │\n",
       "│ ---       ┆ Age       ┆ cell      ┆ age       ┆   ┆ ---       ┆ ---       ┆ ---       ┆ 5        │\n",
       "│ str       ┆ ---       ┆ count     ┆ ---       ┆   ┆ f64       ┆ f64       ┆ f64       ┆ ---      │\n",
       "│           ┆ f64       ┆ (mcL)     ┆ f64       ┆   ┆           ┆           ┆           ┆ f64      │\n",
       "│           ┆           ┆ ---       ┆           ┆   ┆           ┆           ┆           ┆          │\n",
       "│           ┆           ┆ f64       ┆           ┆   ┆           ┆           ┆           ┆          │\n",
       "╞═══════════╪═══════════╪═══════════╪═══════════╪═══╪═══════════╪═══════════╪═══════════╪══════════╡\n",
       "│ count     ┆ 22083.0   ┆ 22083.0   ┆ 22083.0   ┆ … ┆ 22083.0   ┆ 22083.0   ┆ 22083.0   ┆ 22083.0  │\n",
       "│ null_coun ┆ 0.0       ┆ 0.0       ┆ 0.0       ┆ … ┆ 0.0       ┆ 0.0       ┆ 0.0       ┆ 0.0      │\n",
       "│ t         ┆           ┆           ┆           ┆   ┆           ┆           ┆           ┆          │\n",
       "│ mean      ┆ 6.974148  ┆ 4.898871  ┆ 34.526454 ┆ … ┆ 0.551886  ┆ 0.536233  ┆ 0.497747  ┆ 0.461917 │\n",
       "│ std       ┆ 4.177576  ┆ 0.199663  ┆ 8.398756  ┆ … ┆ 0.471629  ┆ 0.474381  ┆ 0.475483  ┆ 0.473632 │\n",
       "│ min       ┆ 0.0       ┆ 4.092727  ┆ 18.0      ┆ … ┆ 0.0       ┆ 0.0       ┆ 0.0       ┆ 0.0      │\n",
       "│ 25%       ┆ 3.0       ┆ 4.76315   ┆ 29.0      ┆ … ┆ 0.0       ┆ 0.0       ┆ 0.0       ┆ 0.0      │\n",
       "│ 50%       ┆ 6.974148  ┆ 4.899399  ┆ 34.526454 ┆ … ┆ 0.551886  ┆ 0.536233  ┆ 0.497747  ┆ 0.461917 │\n",
       "│ 75%       ┆ 10.0      ┆ 5.033831  ┆ 40.0      ┆ … ┆ 1.0       ┆ 1.0       ┆ 1.0       ┆ 1.0      │\n",
       "│ max       ┆ 14.0      ┆ 5.609829  ┆ 51.0      ┆ … ┆ 1.0       ┆ 1.0       ┆ 1.0       ┆ 1.0      │\n",
       "└───────────┴───────────┴───────────┴───────────┴───┴───────────┴───────────┴───────────┴──────────┘"
      ]
     },
     "execution_count": 41,
     "metadata": {},
     "output_type": "execute_result"
    }
   ],
   "source": [
    "df_datos.select(cs.numeric()).fill_null(strategy=\"mean\").describe()"
   ]
  },
  {
   "cell_type": "code",
   "execution_count": 39,
   "id": "13802e71",
   "metadata": {},
   "outputs": [
    {
     "data": {
      "text/html": [
       "<div><style>\n",
       ".dataframe > thead > tr,\n",
       ".dataframe > tbody > tr {\n",
       "  text-align: right;\n",
       "  white-space: pre-wrap;\n",
       "}\n",
       "</style>\n",
       "<small>shape: (9, 17)</small><table border=\"1\" class=\"dataframe\"><thead><tr><th>statistic</th><th>Patient Age</th><th>Blood cell count (mcL)</th><th>Mother&#x27;s age</th><th>Father&#x27;s age</th><th>Test 1</th><th>Test 2</th><th>Test 3</th><th>Test 4</th><th>Test 5</th><th>No. of previous abortion</th><th>White Blood cell count (thousand per microliter)</th><th>Symptom 1</th><th>Symptom 2</th><th>Symptom 3</th><th>Symptom 4</th><th>Symptom 5</th></tr><tr><td>str</td><td>f64</td><td>f64</td><td>f64</td><td>f64</td><td>f64</td><td>f64</td><td>f64</td><td>f64</td><td>f64</td><td>f64</td><td>f64</td><td>f64</td><td>f64</td><td>f64</td><td>f64</td><td>f64</td></tr></thead><tbody><tr><td>&quot;count&quot;</td><td>22083.0</td><td>22083.0</td><td>22083.0</td><td>22083.0</td><td>22083.0</td><td>22083.0</td><td>22083.0</td><td>22083.0</td><td>22083.0</td><td>22083.0</td><td>22083.0</td><td>22083.0</td><td>22083.0</td><td>22083.0</td><td>22083.0</td><td>22083.0</td></tr><tr><td>&quot;null_count&quot;</td><td>0.0</td><td>0.0</td><td>0.0</td><td>0.0</td><td>0.0</td><td>0.0</td><td>0.0</td><td>0.0</td><td>0.0</td><td>0.0</td><td>0.0</td><td>0.0</td><td>0.0</td><td>0.0</td><td>0.0</td><td>0.0</td></tr><tr><td>&quot;mean&quot;</td><td>6.52348</td><td>4.898871</td><td>25.089254</td><td>30.595345</td><td>0.0</td><td>0.0</td><td>0.0</td><td>0.903093</td><td>0.0</td><td>1.806956</td><td>6.758044</td><td>0.534665</td><td>0.496355</td><td>0.485215</td><td>0.45012</td><td>0.416882</td></tr><tr><td>&quot;std&quot;</td><td>4.515772</td><td>0.199663</td><td>17.530605</td><td>21.725</td><td>0.0</td><td>0.0</td><td>0.0</td><td>0.295838</td><td>0.0</td><td>1.46721</td><td>3.358115</td><td>0.498808</td><td>0.499998</td><td>0.499793</td><td>0.497517</td><td>0.493054</td></tr><tr><td>&quot;min&quot;</td><td>0.0</td><td>4.092727</td><td>0.0</td><td>0.0</td><td>0.0</td><td>0.0</td><td>0.0</td><td>0.0</td><td>0.0</td><td>0.0</td><td>0.0</td><td>0.0</td><td>0.0</td><td>0.0</td><td>0.0</td><td>0.0</td></tr><tr><td>&quot;25%&quot;</td><td>2.0</td><td>4.76315</td><td>0.0</td><td>0.0</td><td>0.0</td><td>0.0</td><td>0.0</td><td>1.0</td><td>0.0</td><td>0.0</td><td>4.604384</td><td>0.0</td><td>0.0</td><td>0.0</td><td>0.0</td><td>0.0</td></tr><tr><td>&quot;50%&quot;</td><td>6.0</td><td>4.899399</td><td>28.0</td><td>33.0</td><td>0.0</td><td>0.0</td><td>0.0</td><td>1.0</td><td>0.0</td><td>2.0</td><td>7.083136</td><td>1.0</td><td>0.0</td><td>0.0</td><td>0.0</td><td>0.0</td></tr><tr><td>&quot;75%&quot;</td><td>10.0</td><td>5.033831</td><td>40.0</td><td>49.0</td><td>0.0</td><td>0.0</td><td>0.0</td><td>1.0</td><td>0.0</td><td>3.0</td><td>9.279453</td><td>1.0</td><td>1.0</td><td>1.0</td><td>1.0</td><td>1.0</td></tr><tr><td>&quot;max&quot;</td><td>14.0</td><td>5.609829</td><td>51.0</td><td>64.0</td><td>0.0</td><td>0.0</td><td>0.0</td><td>1.0</td><td>0.0</td><td>4.0</td><td>12.0</td><td>1.0</td><td>1.0</td><td>1.0</td><td>1.0</td><td>1.0</td></tr></tbody></table></div>"
      ],
      "text/plain": [
       "shape: (9, 17)\n",
       "┌───────────┬───────────┬───────────┬───────────┬───┬───────────┬───────────┬───────────┬──────────┐\n",
       "│ statistic ┆ Patient   ┆ Blood     ┆ Mother's  ┆ … ┆ Symptom 2 ┆ Symptom 3 ┆ Symptom 4 ┆ Symptom  │\n",
       "│ ---       ┆ Age       ┆ cell      ┆ age       ┆   ┆ ---       ┆ ---       ┆ ---       ┆ 5        │\n",
       "│ str       ┆ ---       ┆ count     ┆ ---       ┆   ┆ f64       ┆ f64       ┆ f64       ┆ ---      │\n",
       "│           ┆ f64       ┆ (mcL)     ┆ f64       ┆   ┆           ┆           ┆           ┆ f64      │\n",
       "│           ┆           ┆ ---       ┆           ┆   ┆           ┆           ┆           ┆          │\n",
       "│           ┆           ┆ f64       ┆           ┆   ┆           ┆           ┆           ┆          │\n",
       "╞═══════════╪═══════════╪═══════════╪═══════════╪═══╪═══════════╪═══════════╪═══════════╪══════════╡\n",
       "│ count     ┆ 22083.0   ┆ 22083.0   ┆ 22083.0   ┆ … ┆ 22083.0   ┆ 22083.0   ┆ 22083.0   ┆ 22083.0  │\n",
       "│ null_coun ┆ 0.0       ┆ 0.0       ┆ 0.0       ┆ … ┆ 0.0       ┆ 0.0       ┆ 0.0       ┆ 0.0      │\n",
       "│ t         ┆           ┆           ┆           ┆   ┆           ┆           ┆           ┆          │\n",
       "│ mean      ┆ 6.52348   ┆ 4.898871  ┆ 25.089254 ┆ … ┆ 0.496355  ┆ 0.485215  ┆ 0.45012   ┆ 0.416882 │\n",
       "│ std       ┆ 4.515772  ┆ 0.199663  ┆ 17.530605 ┆ … ┆ 0.499998  ┆ 0.499793  ┆ 0.497517  ┆ 0.493054 │\n",
       "│ min       ┆ 0.0       ┆ 4.092727  ┆ 0.0       ┆ … ┆ 0.0       ┆ 0.0       ┆ 0.0       ┆ 0.0      │\n",
       "│ 25%       ┆ 2.0       ┆ 4.76315   ┆ 0.0       ┆ … ┆ 0.0       ┆ 0.0       ┆ 0.0       ┆ 0.0      │\n",
       "│ 50%       ┆ 6.0       ┆ 4.899399  ┆ 28.0      ┆ … ┆ 0.0       ┆ 0.0       ┆ 0.0       ┆ 0.0      │\n",
       "│ 75%       ┆ 10.0      ┆ 5.033831  ┆ 40.0      ┆ … ┆ 1.0       ┆ 1.0       ┆ 1.0       ┆ 1.0      │\n",
       "│ max       ┆ 14.0      ┆ 5.609829  ┆ 51.0      ┆ … ┆ 1.0       ┆ 1.0       ┆ 1.0       ┆ 1.0      │\n",
       "└───────────┴───────────┴───────────┴───────────┴───┴───────────┴───────────┴───────────┴──────────┘"
      ]
     },
     "execution_count": 39,
     "metadata": {},
     "output_type": "execute_result"
    }
   ],
   "source": [
    "df_datos.select(cs.numeric()).fill_null(0).describe()"
   ]
  },
  {
   "cell_type": "code",
   "execution_count": 42,
   "id": "a24e7361",
   "metadata": {},
   "outputs": [
    {
     "data": {
      "text/html": [
       "<div><style>\n",
       ".dataframe > thead > tr,\n",
       ".dataframe > tbody > tr {\n",
       "  text-align: right;\n",
       "  white-space: pre-wrap;\n",
       "}\n",
       "</style>\n",
       "<small>shape: (22_083, 29)</small><table border=\"1\" class=\"dataframe\"><thead><tr><th>Patient Id</th><th>Genes in mother&#x27;s side</th><th>Inherited from father</th><th>Maternal gene</th><th>Paternal gene</th><th>Patient First Name</th><th>Family Name</th><th>Father&#x27;s name</th><th>Institute Name</th><th>Location of Institute</th><th>Status</th><th>Respiratory Rate (breaths/min)</th><th>Heart Rate (rates/min</th><th>Parental consent</th><th>Follow-up</th><th>Gender</th><th>Birth asphyxia</th><th>Autopsy shows birth defect (if applicable)</th><th>Place of birth</th><th>Folic acid details (peri-conceptional)</th><th>H/O serious maternal illness</th><th>H/O radiation exposure (x-ray)</th><th>H/O substance abuse</th><th>Assisted conception IVF/ART</th><th>History of anomalies in previous pregnancies</th><th>Birth defects</th><th>Blood test result</th><th>Genetic Disorder</th><th>Disorder Subclass</th></tr><tr><td>str</td><td>str</td><td>str</td><td>str</td><td>str</td><td>str</td><td>str</td><td>str</td><td>str</td><td>str</td><td>str</td><td>str</td><td>str</td><td>str</td><td>str</td><td>str</td><td>str</td><td>str</td><td>str</td><td>str</td><td>str</td><td>str</td><td>str</td><td>str</td><td>str</td><td>str</td><td>str</td><td>str</td><td>str</td></tr></thead><tbody><tr><td>&quot;PID0x6418&quot;</td><td>&quot;Yes&quot;</td><td>&quot;No&quot;</td><td>&quot;Yes&quot;</td><td>&quot;No&quot;</td><td>&quot;Richard&quot;</td><td>&quot;No informado&quot;</td><td>&quot;Larre&quot;</td><td>&quot;Boston Specialty &amp; Rehabilitat…</td><td>&quot;55 FRUIT ST\n",
       "CENTRAL, MA 02114\n",
       "…</td><td>&quot;Alive&quot;</td><td>&quot;Normal (30-60)&quot;</td><td>&quot;Normal&quot;</td><td>&quot;Yes&quot;</td><td>&quot;High&quot;</td><td>&quot;No informado&quot;</td><td>&quot;No informado&quot;</td><td>&quot;Not applicable&quot;</td><td>&quot;Institute&quot;</td><td>&quot;No&quot;</td><td>&quot;No informado&quot;</td><td>&quot;No&quot;</td><td>&quot;No&quot;</td><td>&quot;No&quot;</td><td>&quot;Yes&quot;</td><td>&quot;No informado&quot;</td><td>&quot;No informado&quot;</td><td>&quot;Mitochondrial genetic inherita…</td><td>&quot;Leber&#x27;s hereditary optic neuro…</td></tr><tr><td>&quot;PID0x25d5&quot;</td><td>&quot;Yes&quot;</td><td>&quot;Yes&quot;</td><td>&quot;No&quot;</td><td>&quot;No&quot;</td><td>&quot;Mike&quot;</td><td>&quot;No informado&quot;</td><td>&quot;Brycen&quot;</td><td>&quot;St. Margaret&#x27;s Hospital For Wo…</td><td>&quot;1515 COMMONWEALTH AV\n",
       "ALLSTON/B…</td><td>&quot;Deceased&quot;</td><td>&quot;Tachypnea&quot;</td><td>&quot;Normal&quot;</td><td>&quot;Yes&quot;</td><td>&quot;High&quot;</td><td>&quot;No informado&quot;</td><td>&quot;No&quot;</td><td>&quot;None&quot;</td><td>&quot;No informado&quot;</td><td>&quot;Yes&quot;</td><td>&quot;Yes&quot;</td><td>&quot;Not applicable&quot;</td><td>&quot;Not applicable&quot;</td><td>&quot;No&quot;</td><td>&quot;Yes&quot;</td><td>&quot;Multiple&quot;</td><td>&quot;normal&quot;</td><td>&quot;No informado&quot;</td><td>&quot;Cystic fibrosis&quot;</td></tr><tr><td>&quot;PID0x4a82&quot;</td><td>&quot;Yes&quot;</td><td>&quot;No&quot;</td><td>&quot;No&quot;</td><td>&quot;No&quot;</td><td>&quot;Kimberly&quot;</td><td>&quot;No informado&quot;</td><td>&quot;Nashon&quot;</td><td>&quot;No informado&quot;</td><td>&quot;-&quot;</td><td>&quot;Alive&quot;</td><td>&quot;Normal (30-60)&quot;</td><td>&quot;Tachycardia&quot;</td><td>&quot;Yes&quot;</td><td>&quot;Low&quot;</td><td>&quot;No informado&quot;</td><td>&quot;No record&quot;</td><td>&quot;Not applicable&quot;</td><td>&quot;No informado&quot;</td><td>&quot;Yes&quot;</td><td>&quot;No&quot;</td><td>&quot;Yes&quot;</td><td>&quot;No informado&quot;</td><td>&quot;Yes&quot;</td><td>&quot;Yes&quot;</td><td>&quot;Singular&quot;</td><td>&quot;normal&quot;</td><td>&quot;Multifactorial genetic inherit…</td><td>&quot;Diabetes&quot;</td></tr><tr><td>&quot;PID0x4ac8&quot;</td><td>&quot;Yes&quot;</td><td>&quot;No&quot;</td><td>&quot;Yes&quot;</td><td>&quot;No&quot;</td><td>&quot;Jeffery&quot;</td><td>&quot;Hoelscher&quot;</td><td>&quot;Aayaan&quot;</td><td>&quot;No informado&quot;</td><td>&quot;55 FRUIT ST\n",
       "CENTRAL, MA 02114\n",
       "…</td><td>&quot;Deceased&quot;</td><td>&quot;Tachypnea&quot;</td><td>&quot;Normal&quot;</td><td>&quot;Yes&quot;</td><td>&quot;High&quot;</td><td>&quot;Male&quot;</td><td>&quot;Not available&quot;</td><td>&quot;No&quot;</td><td>&quot;Institute&quot;</td><td>&quot;No&quot;</td><td>&quot;Yes&quot;</td><td>&quot;-&quot;</td><td>&quot;Not applicable&quot;</td><td>&quot;No informado&quot;</td><td>&quot;Yes&quot;</td><td>&quot;Singular&quot;</td><td>&quot;inconclusive&quot;</td><td>&quot;Mitochondrial genetic inherita…</td><td>&quot;Leigh syndrome&quot;</td></tr><tr><td>&quot;PID0x1bf7&quot;</td><td>&quot;Yes&quot;</td><td>&quot;No&quot;</td><td>&quot;No informado&quot;</td><td>&quot;Yes&quot;</td><td>&quot;Johanna&quot;</td><td>&quot;Stutzman&quot;</td><td>&quot;Suave&quot;</td><td>&quot;Carney Hospital&quot;</td><td>&quot;300 LONGWOOD AV\n",
       "FENWAY/KENMORE…</td><td>&quot;Alive&quot;</td><td>&quot;Tachypnea&quot;</td><td>&quot;Tachycardia&quot;</td><td>&quot;No informado&quot;</td><td>&quot;Low&quot;</td><td>&quot;Male&quot;</td><td>&quot;Not available&quot;</td><td>&quot;Not applicable&quot;</td><td>&quot;Institute&quot;</td><td>&quot;No&quot;</td><td>&quot;Yes&quot;</td><td>&quot;-&quot;</td><td>&quot;Not applicable&quot;</td><td>&quot;Yes&quot;</td><td>&quot;No&quot;</td><td>&quot;Multiple&quot;</td><td>&quot;No informado&quot;</td><td>&quot;Multifactorial genetic inherit…</td><td>&quot;Cancer&quot;</td></tr><tr><td>&hellip;</td><td>&hellip;</td><td>&hellip;</td><td>&hellip;</td><td>&hellip;</td><td>&hellip;</td><td>&hellip;</td><td>&hellip;</td><td>&hellip;</td><td>&hellip;</td><td>&hellip;</td><td>&hellip;</td><td>&hellip;</td><td>&hellip;</td><td>&hellip;</td><td>&hellip;</td><td>&hellip;</td><td>&hellip;</td><td>&hellip;</td><td>&hellip;</td><td>&hellip;</td><td>&hellip;</td><td>&hellip;</td><td>&hellip;</td><td>&hellip;</td><td>&hellip;</td><td>&hellip;</td><td>&hellip;</td><td>&hellip;</td></tr><tr><td>&quot;PID0x5598&quot;</td><td>&quot;Yes&quot;</td><td>&quot;Yes&quot;</td><td>&quot;Yes&quot;</td><td>&quot;No&quot;</td><td>&quot;Lynn&quot;</td><td>&quot;No informado&quot;</td><td>&quot;Alhassane&quot;</td><td>&quot;Franciscan Children&#x27;s&nbsp;&nbsp;Hospita…</td><td>&quot;1153 CENTRE ST\n",
       "JAMAICA PLAIN, …</td><td>&quot;Deceased&quot;</td><td>&quot;Normal (30-60)&quot;</td><td>&quot;Tachycardia&quot;</td><td>&quot;Yes&quot;</td><td>&quot;High&quot;</td><td>&quot;Female&quot;</td><td>&quot;No&quot;</td><td>&quot;No&quot;</td><td>&quot;Institute&quot;</td><td>&quot;No informado&quot;</td><td>&quot;No&quot;</td><td>&quot;Not applicable&quot;</td><td>&quot;No&quot;</td><td>&quot;Yes&quot;</td><td>&quot;No&quot;</td><td>&quot;Multiple&quot;</td><td>&quot;inconclusive&quot;</td><td>&quot;Mitochondrial genetic inherita…</td><td>&quot;Leigh syndrome&quot;</td></tr><tr><td>&quot;PID0x19cb&quot;</td><td>&quot;No&quot;</td><td>&quot;Yes&quot;</td><td>&quot;No&quot;</td><td>&quot;Yes&quot;</td><td>&quot;Matthew&quot;</td><td>&quot;Farley&quot;</td><td>&quot;Dartanion&quot;</td><td>&quot;Faulkner Hospital&quot;</td><td>&quot;170 MORTON ST\n",
       "ROSLINDALE, MA 0…</td><td>&quot;Alive&quot;</td><td>&quot;Normal (30-60)&quot;</td><td>&quot;Normal&quot;</td><td>&quot;No informado&quot;</td><td>&quot;High&quot;</td><td>&quot;Ambiguous&quot;</td><td>&quot;No&quot;</td><td>&quot;Not applicable&quot;</td><td>&quot;Institute&quot;</td><td>&quot;Yes&quot;</td><td>&quot;Yes&quot;</td><td>&quot;No&quot;</td><td>&quot;-&quot;</td><td>&quot;Yes&quot;</td><td>&quot;No&quot;</td><td>&quot;Multiple&quot;</td><td>&quot;inconclusive&quot;</td><td>&quot;Multifactorial genetic inherit…</td><td>&quot;Diabetes&quot;</td></tr><tr><td>&quot;PID0x3c4f&quot;</td><td>&quot;Yes&quot;</td><td>&quot;No&quot;</td><td>&quot;Yes&quot;</td><td>&quot;No&quot;</td><td>&quot;John&quot;</td><td>&quot;No informado&quot;</td><td>&quot;Cavani&quot;</td><td>&quot;Not applicable&quot;</td><td>&quot;-&quot;</td><td>&quot;Deceased&quot;</td><td>&quot;Tachypnea&quot;</td><td>&quot;Normal&quot;</td><td>&quot;Yes&quot;</td><td>&quot;High&quot;</td><td>&quot;Male&quot;</td><td>&quot;No&quot;</td><td>&quot;None&quot;</td><td>&quot;Home&quot;</td><td>&quot;No&quot;</td><td>&quot;No&quot;</td><td>&quot;No informado&quot;</td><td>&quot;No&quot;</td><td>&quot;No&quot;</td><td>&quot;No&quot;</td><td>&quot;Singular&quot;</td><td>&quot;normal&quot;</td><td>&quot;Mitochondrial genetic inherita…</td><td>&quot;Mitochondrial myopathy&quot;</td></tr><tr><td>&quot;PID0x13a&quot;</td><td>&quot;Yes&quot;</td><td>&quot;No&quot;</td><td>&quot;Yes&quot;</td><td>&quot;Yes&quot;</td><td>&quot;Sharon&quot;</td><td>&quot;No informado&quot;</td><td>&quot;Bomer&quot;</td><td>&quot;Not applicable&quot;</td><td>&quot;-&quot;</td><td>&quot;Alive&quot;</td><td>&quot;Tachypnea&quot;</td><td>&quot;Tachycardia&quot;</td><td>&quot;Yes&quot;</td><td>&quot;High&quot;</td><td>&quot;Male&quot;</td><td>&quot;No record&quot;</td><td>&quot;Not applicable&quot;</td><td>&quot;Home&quot;</td><td>&quot;Yes&quot;</td><td>&quot;Yes&quot;</td><td>&quot;-&quot;</td><td>&quot;Yes&quot;</td><td>&quot;Yes&quot;</td><td>&quot;No&quot;</td><td>&quot;Multiple&quot;</td><td>&quot;abnormal&quot;</td><td>&quot;No informado&quot;</td><td>&quot;Leigh syndrome&quot;</td></tr><tr><td>&quot;PID0x9332&quot;</td><td>&quot;Yes&quot;</td><td>&quot;No&quot;</td><td>&quot;No&quot;</td><td>&quot;No&quot;</td><td>&quot;Andrew&quot;</td><td>&quot;Mose&quot;</td><td>&quot;Eban&quot;</td><td>&quot;Hebrew Rehabilitation Center&quot;</td><td>&quot;300 LONGWOOD AV\n",
       "FENWAY/KENMORE…</td><td>&quot;Deceased&quot;</td><td>&quot;Normal (30-60)&quot;</td><td>&quot;Normal&quot;</td><td>&quot;Yes&quot;</td><td>&quot;High&quot;</td><td>&quot;Female&quot;</td><td>&quot;Yes&quot;</td><td>&quot;None&quot;</td><td>&quot;Institute&quot;</td><td>&quot;Yes&quot;</td><td>&quot;Yes&quot;</td><td>&quot;Not applicable&quot;</td><td>&quot;No&quot;</td><td>&quot;Yes&quot;</td><td>&quot;Yes&quot;</td><td>&quot;Singular&quot;</td><td>&quot;normal&quot;</td><td>&quot;Multifactorial genetic inherit…</td><td>&quot;Diabetes&quot;</td></tr></tbody></table></div>"
      ],
      "text/plain": [
       "shape: (22_083, 29)\n",
       "┌───────────┬───────────┬───────────┬───────────┬───┬───────────┬───────────┬───────────┬──────────┐\n",
       "│ Patient   ┆ Genes in  ┆ Inherited ┆ Maternal  ┆ … ┆ Birth     ┆ Blood     ┆ Genetic   ┆ Disorder │\n",
       "│ Id        ┆ mother's  ┆ from      ┆ gene      ┆   ┆ defects   ┆ test      ┆ Disorder  ┆ Subclass │\n",
       "│ ---       ┆ side      ┆ father    ┆ ---       ┆   ┆ ---       ┆ result    ┆ ---       ┆ ---      │\n",
       "│ str       ┆ ---       ┆ ---       ┆ str       ┆   ┆ str       ┆ ---       ┆ str       ┆ str      │\n",
       "│           ┆ str       ┆ str       ┆           ┆   ┆           ┆ str       ┆           ┆          │\n",
       "╞═══════════╪═══════════╪═══════════╪═══════════╪═══╪═══════════╪═══════════╪═══════════╪══════════╡\n",
       "│ PID0x6418 ┆ Yes       ┆ No        ┆ Yes       ┆ … ┆ No        ┆ No        ┆ Mitochond ┆ Leber's  │\n",
       "│           ┆           ┆           ┆           ┆   ┆ informado ┆ informado ┆ rial      ┆ heredita │\n",
       "│           ┆           ┆           ┆           ┆   ┆           ┆           ┆ genetic   ┆ ry optic │\n",
       "│           ┆           ┆           ┆           ┆   ┆           ┆           ┆ inherita… ┆ neuro…   │\n",
       "│ PID0x25d5 ┆ Yes       ┆ Yes       ┆ No        ┆ … ┆ Multiple  ┆ normal    ┆ No        ┆ Cystic   │\n",
       "│           ┆           ┆           ┆           ┆   ┆           ┆           ┆ informado ┆ fibrosis │\n",
       "│ PID0x4a82 ┆ Yes       ┆ No        ┆ No        ┆ … ┆ Singular  ┆ normal    ┆ Multifact ┆ Diabetes │\n",
       "│           ┆           ┆           ┆           ┆   ┆           ┆           ┆ orial     ┆          │\n",
       "│           ┆           ┆           ┆           ┆   ┆           ┆           ┆ genetic   ┆          │\n",
       "│           ┆           ┆           ┆           ┆   ┆           ┆           ┆ inherit…  ┆          │\n",
       "│ PID0x4ac8 ┆ Yes       ┆ No        ┆ Yes       ┆ … ┆ Singular  ┆ inconclus ┆ Mitochond ┆ Leigh    │\n",
       "│           ┆           ┆           ┆           ┆   ┆           ┆ ive       ┆ rial      ┆ syndrome │\n",
       "│           ┆           ┆           ┆           ┆   ┆           ┆           ┆ genetic   ┆          │\n",
       "│           ┆           ┆           ┆           ┆   ┆           ┆           ┆ inherita… ┆          │\n",
       "│ PID0x1bf7 ┆ Yes       ┆ No        ┆ No        ┆ … ┆ Multiple  ┆ No        ┆ Multifact ┆ Cancer   │\n",
       "│           ┆           ┆           ┆ informado ┆   ┆           ┆ informado ┆ orial     ┆          │\n",
       "│           ┆           ┆           ┆           ┆   ┆           ┆           ┆ genetic   ┆          │\n",
       "│           ┆           ┆           ┆           ┆   ┆           ┆           ┆ inherit…  ┆          │\n",
       "│ …         ┆ …         ┆ …         ┆ …         ┆ … ┆ …         ┆ …         ┆ …         ┆ …        │\n",
       "│ PID0x5598 ┆ Yes       ┆ Yes       ┆ Yes       ┆ … ┆ Multiple  ┆ inconclus ┆ Mitochond ┆ Leigh    │\n",
       "│           ┆           ┆           ┆           ┆   ┆           ┆ ive       ┆ rial      ┆ syndrome │\n",
       "│           ┆           ┆           ┆           ┆   ┆           ┆           ┆ genetic   ┆          │\n",
       "│           ┆           ┆           ┆           ┆   ┆           ┆           ┆ inherita… ┆          │\n",
       "│ PID0x19cb ┆ No        ┆ Yes       ┆ No        ┆ … ┆ Multiple  ┆ inconclus ┆ Multifact ┆ Diabetes │\n",
       "│           ┆           ┆           ┆           ┆   ┆           ┆ ive       ┆ orial     ┆          │\n",
       "│           ┆           ┆           ┆           ┆   ┆           ┆           ┆ genetic   ┆          │\n",
       "│           ┆           ┆           ┆           ┆   ┆           ┆           ┆ inherit…  ┆          │\n",
       "│ PID0x3c4f ┆ Yes       ┆ No        ┆ Yes       ┆ … ┆ Singular  ┆ normal    ┆ Mitochond ┆ Mitochon │\n",
       "│           ┆           ┆           ┆           ┆   ┆           ┆           ┆ rial      ┆ drial    │\n",
       "│           ┆           ┆           ┆           ┆   ┆           ┆           ┆ genetic   ┆ myopathy │\n",
       "│           ┆           ┆           ┆           ┆   ┆           ┆           ┆ inherita… ┆          │\n",
       "│ PID0x13a  ┆ Yes       ┆ No        ┆ Yes       ┆ … ┆ Multiple  ┆ abnormal  ┆ No        ┆ Leigh    │\n",
       "│           ┆           ┆           ┆           ┆   ┆           ┆           ┆ informado ┆ syndrome │\n",
       "│ PID0x9332 ┆ Yes       ┆ No        ┆ No        ┆ … ┆ Singular  ┆ normal    ┆ Multifact ┆ Diabetes │\n",
       "│           ┆           ┆           ┆           ┆   ┆           ┆           ┆ orial     ┆          │\n",
       "│           ┆           ┆           ┆           ┆   ┆           ┆           ┆ genetic   ┆          │\n",
       "│           ┆           ┆           ┆           ┆   ┆           ┆           ┆ inherit…  ┆          │\n",
       "└───────────┴───────────┴───────────┴───────────┴───┴───────────┴───────────┴───────────┴──────────┘"
      ]
     },
     "execution_count": 42,
     "metadata": {},
     "output_type": "execute_result"
    }
   ],
   "source": [
    "df_datos.select(cs.string()).fill_null(\"No informado\")"
   ]
  },
  {
   "cell_type": "markdown",
   "id": "8415c4c5",
   "metadata": {},
   "source": []
  },
  {
   "cell_type": "code",
   "execution_count": null,
   "id": "f185592e",
   "metadata": {},
   "outputs": [],
   "source": [
    "# Utilizando el DataFrame generado en el punto 3:\n",
    "# Muestra las edades y desorden genético de los 10 pacientes con mayor conteo de glóbulos blancos.\n",
    "# Selecciona los cinco pacientes de menor edad que tengan múltiples defectos al nacer y su primer nombre sea Sandra.\n",
    "# Ordena los registros por el id del paciente, edad y desorden genético .\n",
    "# Se debe ordenar en forma ascendente el id y la edad y de forma descendente el desorden genético Los registros nulos deben quedar al final del DataFrame."
   ]
  },
  {
   "cell_type": "code",
   "execution_count": 56,
   "id": "d296c965",
   "metadata": {},
   "outputs": [],
   "source": [
    "df_nuevo\n",
    "df_WB= df_nuevo.sort([\"White Blood cell count (thousand per microliter)\"], descending=[True]).drop_nulls(\"White Blood cell count (thousand per microliter)\").head(n=10)"
   ]
  },
  {
   "cell_type": "code",
   "execution_count": 57,
   "id": "3e402c96",
   "metadata": {},
   "outputs": [
    {
     "data": {
      "text/html": [
       "<div><style>\n",
       ".dataframe > thead > tr,\n",
       ".dataframe > tbody > tr {\n",
       "  text-align: right;\n",
       "  white-space: pre-wrap;\n",
       "}\n",
       "</style>\n",
       "<small>shape: (10, 3)</small><table border=\"1\" class=\"dataframe\"><thead><tr><th>Patient Age</th><th>Genetic Disorder</th><th>White Blood cell count (thousand per microliter)</th></tr><tr><td>f64</td><td>str</td><td>f64</td></tr></thead><tbody><tr><td>1.0</td><td>&quot;Mitochondrial genetic inherita…</td><td>12.0</td></tr><tr><td>4.0</td><td>&quot;Single-gene inheritance diseas…</td><td>12.0</td></tr><tr><td>0.0</td><td>&quot;Single-gene inheritance diseas…</td><td>12.0</td></tr><tr><td>0.0</td><td>&quot;Single-gene inheritance diseas…</td><td>12.0</td></tr><tr><td>9.0</td><td>&quot;Mitochondrial genetic inherita…</td><td>12.0</td></tr><tr><td>1.0</td><td>&quot;Single-gene inheritance diseas…</td><td>12.0</td></tr><tr><td>2.0</td><td>&quot;Single-gene inheritance diseas…</td><td>12.0</td></tr><tr><td>13.0</td><td>&quot;Multifactorial genetic inherit…</td><td>12.0</td></tr><tr><td>null</td><td>&quot;Mitochondrial genetic inherita…</td><td>12.0</td></tr><tr><td>3.0</td><td>&quot;Mitochondrial genetic inherita…</td><td>12.0</td></tr></tbody></table></div>"
      ],
      "text/plain": [
       "shape: (10, 3)\n",
       "┌─────────────┬─────────────────────────────────┬─────────────────────────────────┐\n",
       "│ Patient Age ┆ Genetic Disorder                ┆ White Blood cell count (thousa… │\n",
       "│ ---         ┆ ---                             ┆ ---                             │\n",
       "│ f64         ┆ str                             ┆ f64                             │\n",
       "╞═════════════╪═════════════════════════════════╪═════════════════════════════════╡\n",
       "│ 1.0         ┆ Mitochondrial genetic inherita… ┆ 12.0                            │\n",
       "│ 4.0         ┆ Single-gene inheritance diseas… ┆ 12.0                            │\n",
       "│ 0.0         ┆ Single-gene inheritance diseas… ┆ 12.0                            │\n",
       "│ 0.0         ┆ Single-gene inheritance diseas… ┆ 12.0                            │\n",
       "│ 9.0         ┆ Mitochondrial genetic inherita… ┆ 12.0                            │\n",
       "│ 1.0         ┆ Single-gene inheritance diseas… ┆ 12.0                            │\n",
       "│ 2.0         ┆ Single-gene inheritance diseas… ┆ 12.0                            │\n",
       "│ 13.0        ┆ Multifactorial genetic inherit… ┆ 12.0                            │\n",
       "│ null        ┆ Mitochondrial genetic inherita… ┆ 12.0                            │\n",
       "│ 3.0         ┆ Mitochondrial genetic inherita… ┆ 12.0                            │\n",
       "└─────────────┴─────────────────────────────────┴─────────────────────────────────┘"
      ]
     },
     "execution_count": 57,
     "metadata": {},
     "output_type": "execute_result"
    }
   ],
   "source": [
    "df_WB.select(\"Patient Age\", \"Genetic Disorder\", \"White Blood cell count (thousand per microliter)\")"
   ]
  },
  {
   "cell_type": "code",
   "execution_count": 74,
   "id": "b16ba6b0",
   "metadata": {},
   "outputs": [
    {
     "data": {
      "text/html": [
       "<div><style>\n",
       ".dataframe > thead > tr,\n",
       ".dataframe > tbody > tr {\n",
       "  text-align: right;\n",
       "  white-space: pre-wrap;\n",
       "}\n",
       "</style>\n",
       "<small>shape: (5, 45)</small><table border=\"1\" class=\"dataframe\"><thead><tr><th>Patient Id</th><th>Patient Age</th><th>Genes in mother&#x27;s side</th><th>Inherited from father</th><th>Maternal gene</th><th>Paternal gene</th><th>Blood cell count (mcL)</th><th>Patient First Name</th><th>Family Name</th><th>Father&#x27;s name</th><th>Mother&#x27;s age</th><th>Father&#x27;s age</th><th>Institute Name</th><th>Location of Institute</th><th>Status</th><th>Respiratory Rate (breaths/min)</th><th>Heart Rate (rates/min</th><th>Test 1</th><th>Test 2</th><th>Test 3</th><th>Test 4</th><th>Test 5</th><th>Parental consent</th><th>Follow-up</th><th>Gender</th><th>Birth asphyxia</th><th>Autopsy shows birth defect (if applicable)</th><th>Place of birth</th><th>Folic acid details (peri-conceptional)</th><th>H/O serious maternal illness</th><th>H/O radiation exposure (x-ray)</th><th>H/O substance abuse</th><th>Assisted conception IVF/ART</th><th>History of anomalies in previous pregnancies</th><th>No. of previous abortion</th><th>Birth defects</th><th>White Blood cell count (thousand per microliter)</th><th>Blood test result</th><th>Symptom 1</th><th>Symptom 2</th><th>Symptom 3</th><th>Symptom 4</th><th>Symptom 5</th><th>Genetic Disorder</th><th>Disorder Subclass</th></tr><tr><td>str</td><td>f64</td><td>str</td><td>str</td><td>str</td><td>str</td><td>f64</td><td>str</td><td>str</td><td>str</td><td>f64</td><td>f64</td><td>str</td><td>str</td><td>str</td><td>str</td><td>str</td><td>f64</td><td>f64</td><td>f64</td><td>f64</td><td>f64</td><td>str</td><td>str</td><td>str</td><td>str</td><td>str</td><td>str</td><td>str</td><td>str</td><td>str</td><td>str</td><td>str</td><td>str</td><td>f64</td><td>str</td><td>f64</td><td>str</td><td>f64</td><td>f64</td><td>f64</td><td>f64</td><td>f64</td><td>str</td><td>str</td></tr></thead><tbody><tr><td>&quot;PID0x82f6&quot;</td><td>0.0</td><td>&quot;Yes&quot;</td><td>&quot;No&quot;</td><td>&quot;Yes&quot;</td><td>&quot;Yes&quot;</td><td>4.865305</td><td>&quot;Sandra&quot;</td><td>&quot;Tucker&quot;</td><td>&quot;Devlin&quot;</td><td>21.0</td><td>25.0</td><td>&quot;Jewish Memorial Hospital&quot;</td><td>&quot;330 BROOKLINE AV\n",
       "FENWAY/KENMOR…</td><td>&quot;Deceased&quot;</td><td>&quot;Normal (30-60)&quot;</td><td>&quot;Tachycardia&quot;</td><td>0.0</td><td>0.0</td><td>0.0</td><td>1.0</td><td>0.0</td><td>&quot;Yes&quot;</td><td>&quot;High&quot;</td><td>&quot;Male&quot;</td><td>&quot;Not available&quot;</td><td>&quot;None&quot;</td><td>&quot;Institute&quot;</td><td>&quot;Yes&quot;</td><td>&quot;No&quot;</td><td>&quot;No&quot;</td><td>&quot;-&quot;</td><td>&quot;Yes&quot;</td><td>&quot;No&quot;</td><td>3.0</td><td>&quot;Multiple&quot;</td><td>5.051588</td><td>&quot;normal&quot;</td><td>1.0</td><td>0.0</td><td>1.0</td><td>0.0</td><td>0.0</td><td>&quot;Mitochondrial genetic inherita…</td><td>&quot;Mitochondrial myopathy&quot;</td></tr><tr><td>&quot;PID0x88fd&quot;</td><td>0.0</td><td>&quot;Yes&quot;</td><td>&quot;No&quot;</td><td>&quot;No&quot;</td><td>&quot;Yes&quot;</td><td>4.683264</td><td>&quot;Sandra&quot;</td><td>&quot;Campbell&quot;</td><td>&quot;Carnell&quot;</td><td>45.0</td><td>49.0</td><td>&quot;Spaulding Rehabilitation Hospi…</td><td>&quot;1400 VFW Parkway\n",
       "West Roxbury,…</td><td>&quot;Deceased&quot;</td><td>&quot;Tachypnea&quot;</td><td>&quot;Tachycardia&quot;</td><td>0.0</td><td>0.0</td><td>0.0</td><td>1.0</td><td>0.0</td><td>&quot;Yes&quot;</td><td>&quot;Low&quot;</td><td>&quot;Female&quot;</td><td>&quot;No record&quot;</td><td>&quot;Yes&quot;</td><td>&quot;Institute&quot;</td><td>&quot;Yes&quot;</td><td>&quot;Yes&quot;</td><td>&quot;Not applicable&quot;</td><td>&quot;No&quot;</td><td>&quot;Yes&quot;</td><td>&quot;Yes&quot;</td><td>2.0</td><td>&quot;Multiple&quot;</td><td>12.0</td><td>&quot;abnormal&quot;</td><td>1.0</td><td>0.0</td><td>1.0</td><td>1.0</td><td>0.0</td><td>&quot;Single-gene inheritance diseas…</td><td>&quot;Cystic fibrosis&quot;</td></tr><tr><td>&quot;PID0x28d0&quot;</td><td>1.0</td><td>&quot;No&quot;</td><td>&quot;No&quot;</td><td>&quot;Yes&quot;</td><td>&quot;Yes&quot;</td><td>4.911525</td><td>&quot;Sandra&quot;</td><td>null</td><td>&quot;Mecislaus&quot;</td><td>42.0</td><td>39.0</td><td>&quot;St. Margaret&#x27;s Hospital For Wo…</td><td>&quot;1400 VFW Parkway\n",
       "West Roxbury,…</td><td>&quot;Alive&quot;</td><td>&quot;Normal (30-60)&quot;</td><td>&quot;Tachycardia&quot;</td><td>0.0</td><td>null</td><td>0.0</td><td>1.0</td><td>0.0</td><td>&quot;Yes&quot;</td><td>&quot;Low&quot;</td><td>&quot;Male&quot;</td><td>&quot;Not available&quot;</td><td>&quot;Not applicable&quot;</td><td>&quot;Institute&quot;</td><td>&quot;No&quot;</td><td>&quot;Yes&quot;</td><td>&quot;-&quot;</td><td>&quot;No&quot;</td><td>&quot;Yes&quot;</td><td>&quot;Yes&quot;</td><td>3.0</td><td>&quot;Multiple&quot;</td><td>9.521804</td><td>&quot;inconclusive&quot;</td><td>0.0</td><td>0.0</td><td>1.0</td><td>0.0</td><td>0.0</td><td>&quot;Mitochondrial genetic inherita…</td><td>&quot;Mitochondrial myopathy&quot;</td></tr><tr><td>&quot;PID0x3f05&quot;</td><td>1.0</td><td>&quot;No&quot;</td><td>&quot;No&quot;</td><td>&quot;No&quot;</td><td>&quot;No&quot;</td><td>5.300193</td><td>&quot;Sandra&quot;</td><td>null</td><td>&quot;Corwynn&quot;</td><td>null</td><td>52.0</td><td>&quot;Boston City Hospital&quot;</td><td>&quot;51 BLOSSOM ST\n",
       "CENTRAL, MA 0211…</td><td>&quot;Deceased&quot;</td><td>&quot;Tachypnea&quot;</td><td>&quot;Tachycardia&quot;</td><td>0.0</td><td>0.0</td><td>0.0</td><td>1.0</td><td>0.0</td><td>&quot;Yes&quot;</td><td>&quot;Low&quot;</td><td>&quot;Female&quot;</td><td>&quot;Not available&quot;</td><td>&quot;None&quot;</td><td>&quot;Institute&quot;</td><td>&quot;No&quot;</td><td>&quot;Yes&quot;</td><td>&quot;Yes&quot;</td><td>null</td><td>&quot;Yes&quot;</td><td>&quot;Yes&quot;</td><td>2.0</td><td>&quot;Multiple&quot;</td><td>6.217343</td><td>&quot;abnormal&quot;</td><td>1.0</td><td>null</td><td>1.0</td><td>1.0</td><td>0.0</td><td>&quot;Mitochondrial genetic inherita…</td><td>&quot;Mitochondrial myopathy&quot;</td></tr><tr><td>&quot;PID0x7c85&quot;</td><td>1.0</td><td>&quot;Yes&quot;</td><td>&quot;Yes&quot;</td><td>&quot;No&quot;</td><td>&quot;Yes&quot;</td><td>5.186026</td><td>&quot;Sandra&quot;</td><td>&quot;Carter&quot;</td><td>&quot;Arless&quot;</td><td>49.0</td><td>64.0</td><td>&quot;Brigham And Women&#x27;s Hospital&quot;</td><td>&quot;125 PARKER HILL AV\n",
       "JAMAICA PLA…</td><td>&quot;Alive&quot;</td><td>&quot;Tachypnea&quot;</td><td>&quot;Normal&quot;</td><td>0.0</td><td>0.0</td><td>0.0</td><td>1.0</td><td>0.0</td><td>&quot;Yes&quot;</td><td>&quot;Low&quot;</td><td>&quot;Ambiguous&quot;</td><td>&quot;Not available&quot;</td><td>&quot;Not applicable&quot;</td><td>&quot;Institute&quot;</td><td>&quot;Yes&quot;</td><td>&quot;No&quot;</td><td>&quot;Yes&quot;</td><td>&quot;-&quot;</td><td>&quot;Yes&quot;</td><td>&quot;No&quot;</td><td>2.0</td><td>&quot;Multiple&quot;</td><td>9.916505</td><td>&quot;inconclusive&quot;</td><td>1.0</td><td>0.0</td><td>1.0</td><td>0.0</td><td>0.0</td><td>&quot;Mitochondrial genetic inherita…</td><td>&quot;Leigh syndrome&quot;</td></tr></tbody></table></div>"
      ],
      "text/plain": [
       "shape: (5, 45)\n",
       "┌───────────┬───────────┬───────────┬───────────┬───┬───────────┬───────────┬───────────┬──────────┐\n",
       "│ Patient   ┆ Patient   ┆ Genes in  ┆ Inherited ┆ … ┆ Symptom 4 ┆ Symptom 5 ┆ Genetic   ┆ Disorder │\n",
       "│ Id        ┆ Age       ┆ mother's  ┆ from      ┆   ┆ ---       ┆ ---       ┆ Disorder  ┆ Subclass │\n",
       "│ ---       ┆ ---       ┆ side      ┆ father    ┆   ┆ f64       ┆ f64       ┆ ---       ┆ ---      │\n",
       "│ str       ┆ f64       ┆ ---       ┆ ---       ┆   ┆           ┆           ┆ str       ┆ str      │\n",
       "│           ┆           ┆ str       ┆ str       ┆   ┆           ┆           ┆           ┆          │\n",
       "╞═══════════╪═══════════╪═══════════╪═══════════╪═══╪═══════════╪═══════════╪═══════════╪══════════╡\n",
       "│ PID0x82f6 ┆ 0.0       ┆ Yes       ┆ No        ┆ … ┆ 0.0       ┆ 0.0       ┆ Mitochond ┆ Mitochon │\n",
       "│           ┆           ┆           ┆           ┆   ┆           ┆           ┆ rial      ┆ drial    │\n",
       "│           ┆           ┆           ┆           ┆   ┆           ┆           ┆ genetic   ┆ myopathy │\n",
       "│           ┆           ┆           ┆           ┆   ┆           ┆           ┆ inherita… ┆          │\n",
       "│ PID0x88fd ┆ 0.0       ┆ Yes       ┆ No        ┆ … ┆ 1.0       ┆ 0.0       ┆ Single-ge ┆ Cystic   │\n",
       "│           ┆           ┆           ┆           ┆   ┆           ┆           ┆ ne inheri ┆ fibrosis │\n",
       "│           ┆           ┆           ┆           ┆   ┆           ┆           ┆ tance     ┆          │\n",
       "│           ┆           ┆           ┆           ┆   ┆           ┆           ┆ diseas…   ┆          │\n",
       "│ PID0x28d0 ┆ 1.0       ┆ No        ┆ No        ┆ … ┆ 0.0       ┆ 0.0       ┆ Mitochond ┆ Mitochon │\n",
       "│           ┆           ┆           ┆           ┆   ┆           ┆           ┆ rial      ┆ drial    │\n",
       "│           ┆           ┆           ┆           ┆   ┆           ┆           ┆ genetic   ┆ myopathy │\n",
       "│           ┆           ┆           ┆           ┆   ┆           ┆           ┆ inherita… ┆          │\n",
       "│ PID0x3f05 ┆ 1.0       ┆ No        ┆ No        ┆ … ┆ 1.0       ┆ 0.0       ┆ Mitochond ┆ Mitochon │\n",
       "│           ┆           ┆           ┆           ┆   ┆           ┆           ┆ rial      ┆ drial    │\n",
       "│           ┆           ┆           ┆           ┆   ┆           ┆           ┆ genetic   ┆ myopathy │\n",
       "│           ┆           ┆           ┆           ┆   ┆           ┆           ┆ inherita… ┆          │\n",
       "│ PID0x7c85 ┆ 1.0       ┆ Yes       ┆ Yes       ┆ … ┆ 0.0       ┆ 0.0       ┆ Mitochond ┆ Leigh    │\n",
       "│           ┆           ┆           ┆           ┆   ┆           ┆           ┆ rial      ┆ syndrome │\n",
       "│           ┆           ┆           ┆           ┆   ┆           ┆           ┆ genetic   ┆          │\n",
       "│           ┆           ┆           ┆           ┆   ┆           ┆           ┆ inherita… ┆          │\n",
       "└───────────┴───────────┴───────────┴───────────┴───┴───────────┴───────────┴───────────┴──────────┘"
      ]
     },
     "execution_count": 74,
     "metadata": {},
     "output_type": "execute_result"
    }
   ],
   "source": [
    "#Segunda parte\n",
    "df_six= df_nuevo.sort([\"Patient Age\"], descending=[False]).drop_nulls(\"Patient Age\")\n",
    "df_nuevo.select(\"Birth defects\").unique()\n",
    "df_six.filter((pl.col(\"Birth defects\") == \"Multiple\") & (pl.col(\"Patient First Name\")== \"Sandra\")).head(n=5) \n"
   ]
  },
  {
   "cell_type": "code",
   "execution_count": null,
   "id": "1cfdabc5",
   "metadata": {},
   "outputs": [
    {
     "data": {
      "text/html": [
       "<div><style>\n",
       ".dataframe > thead > tr,\n",
       ".dataframe > tbody > tr {\n",
       "  text-align: right;\n",
       "  white-space: pre-wrap;\n",
       "}\n",
       "</style>\n",
       "<small>shape: (19_958, 3)</small><table border=\"1\" class=\"dataframe\"><thead><tr><th>Patient Id</th><th>Patient Age</th><th>Genetic Disorder</th></tr><tr><td>str</td><td>f64</td><td>str</td></tr></thead><tbody><tr><td>&quot;PID0x1&quot;</td><td>2.0</td><td>&quot;Mitochondrial genetic inherita…</td></tr><tr><td>&quot;PID0x10&quot;</td><td>10.0</td><td>&quot;Mitochondrial genetic inherita…</td></tr><tr><td>&quot;PID0x100&quot;</td><td>7.0</td><td>&quot;Mitochondrial genetic inherita…</td></tr><tr><td>&quot;PID0x1000&quot;</td><td>8.0</td><td>null</td></tr><tr><td>&quot;PID0x1002&quot;</td><td>null</td><td>&quot;Single-gene inheritance diseas…</td></tr><tr><td>&hellip;</td><td>&hellip;</td><td>&hellip;</td></tr><tr><td>&quot;PID0xff3&quot;</td><td>13.0</td><td>&quot;Single-gene inheritance diseas…</td></tr><tr><td>&quot;PID0xff4&quot;</td><td>2.0</td><td>null</td></tr><tr><td>&quot;PID0xff6&quot;</td><td>9.0</td><td>&quot;Mitochondrial genetic inherita…</td></tr><tr><td>&quot;PID0xff9&quot;</td><td>9.0</td><td>&quot;Mitochondrial genetic inherita…</td></tr><tr><td>&quot;PID0xffe&quot;</td><td>null</td><td>&quot;Mitochondrial genetic inherita…</td></tr></tbody></table></div>"
      ],
      "text/plain": [
       "shape: (19_958, 3)\n",
       "┌────────────┬─────────────┬─────────────────────────────────┐\n",
       "│ Patient Id ┆ Patient Age ┆ Genetic Disorder                │\n",
       "│ ---        ┆ ---         ┆ ---                             │\n",
       "│ str        ┆ f64         ┆ str                             │\n",
       "╞════════════╪═════════════╪═════════════════════════════════╡\n",
       "│ PID0x1     ┆ 2.0         ┆ Mitochondrial genetic inherita… │\n",
       "│ PID0x10    ┆ 10.0        ┆ Mitochondrial genetic inherita… │\n",
       "│ PID0x100   ┆ 7.0         ┆ Mitochondrial genetic inherita… │\n",
       "│ PID0x1000  ┆ 8.0         ┆ null                            │\n",
       "│ PID0x1002  ┆ null        ┆ Single-gene inheritance diseas… │\n",
       "│ …          ┆ …           ┆ …                               │\n",
       "│ PID0xff3   ┆ 13.0        ┆ Single-gene inheritance diseas… │\n",
       "│ PID0xff4   ┆ 2.0         ┆ null                            │\n",
       "│ PID0xff6   ┆ 9.0         ┆ Mitochondrial genetic inherita… │\n",
       "│ PID0xff9   ┆ 9.0         ┆ Mitochondrial genetic inherita… │\n",
       "│ PID0xffe   ┆ null        ┆ Mitochondrial genetic inherita… │\n",
       "└────────────┴─────────────┴─────────────────────────────────┘"
      ]
     },
     "execution_count": 84,
     "metadata": {},
     "output_type": "execute_result"
    }
   ],
   "source": [
    "df_ultimo= df_nuevo.sort(\"Patient Id\", \"Patient Age\", \"Genetic Disorder\", nulls_last=True, descending=[False, False, True]) \n",
    "df_ultimo.select(\"Patient Id\", \"Patient Age\", \"Genetic Disorder\")\n",
    "\n"
   ]
  }
 ],
 "metadata": {
  "kernelspec": {
   "display_name": "data-visualization-notebooks",
   "language": "python",
   "name": "python3"
  },
  "language_info": {
   "codemirror_mode": {
    "name": "ipython",
    "version": 3
   },
   "file_extension": ".py",
   "mimetype": "text/x-python",
   "name": "python",
   "nbconvert_exporter": "python",
   "pygments_lexer": "ipython3",
   "version": "3.12.6"
  }
 },
 "nbformat": 4,
 "nbformat_minor": 5
}
