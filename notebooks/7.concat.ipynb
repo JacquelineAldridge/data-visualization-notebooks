{
 "cells": [
  {
   "cell_type": "code",
   "execution_count": 26,
   "id": "9e2d3618",
   "metadata": {},
   "outputs": [],
   "source": [
    "import polars as pl\n",
    "from polars import selectors as cs"
   ]
  },
  {
   "cell_type": "code",
   "execution_count": 3,
   "id": "cb1ec7c8",
   "metadata": {},
   "outputs": [],
   "source": [
    "df_datos = pl.read_csv(\"../train.csv\")"
   ]
  },
  {
   "cell_type": "code",
   "execution_count": 8,
   "id": "f4e3da12",
   "metadata": {},
   "outputs": [],
   "source": [
    "df_datos_alive = df_datos.filter(pl.col(\"Status\") == \"Alive\")\n",
    "df_datos_deceased = df_datos.filter(pl.col(\"Status\") == \"Deceased\")"
   ]
  },
  {
   "cell_type": "code",
   "execution_count": 9,
   "id": "f321347e",
   "metadata": {},
   "outputs": [
    {
     "name": "stdout",
     "output_type": "stream",
     "text": [
      "(11083, 45)\n",
      "(11000, 45)\n"
     ]
    }
   ],
   "source": [
    "print(df_datos_alive.shape)\n",
    "print(df_datos_deceased.shape)"
   ]
  },
  {
   "cell_type": "code",
   "execution_count": 11,
   "id": "4767914a",
   "metadata": {},
   "outputs": [
    {
     "data": {
      "text/html": [
       "<div><style>\n",
       ".dataframe > thead > tr,\n",
       ".dataframe > tbody > tr {\n",
       "  text-align: right;\n",
       "  white-space: pre-wrap;\n",
       "}\n",
       "</style>\n",
       "<small>shape: (22_083, 45)</small><table border=\"1\" class=\"dataframe\"><thead><tr><th>Patient Id</th><th>Patient Age</th><th>Genes in mother&#x27;s side</th><th>Inherited from father</th><th>Maternal gene</th><th>Paternal gene</th><th>Blood cell count (mcL)</th><th>Patient First Name</th><th>Family Name</th><th>Father&#x27;s name</th><th>Mother&#x27;s age</th><th>Father&#x27;s age</th><th>Institute Name</th><th>Location of Institute</th><th>Status</th><th>Respiratory Rate (breaths/min)</th><th>Heart Rate (rates/min</th><th>Test 1</th><th>Test 2</th><th>Test 3</th><th>Test 4</th><th>Test 5</th><th>Parental consent</th><th>Follow-up</th><th>Gender</th><th>Birth asphyxia</th><th>Autopsy shows birth defect (if applicable)</th><th>Place of birth</th><th>Folic acid details (peri-conceptional)</th><th>H/O serious maternal illness</th><th>H/O radiation exposure (x-ray)</th><th>H/O substance abuse</th><th>Assisted conception IVF/ART</th><th>History of anomalies in previous pregnancies</th><th>No. of previous abortion</th><th>Birth defects</th><th>White Blood cell count (thousand per microliter)</th><th>Blood test result</th><th>Symptom 1</th><th>Symptom 2</th><th>Symptom 3</th><th>Symptom 4</th><th>Symptom 5</th><th>Genetic Disorder</th><th>Disorder Subclass</th></tr><tr><td>str</td><td>f64</td><td>str</td><td>str</td><td>str</td><td>str</td><td>f64</td><td>str</td><td>str</td><td>str</td><td>f64</td><td>f64</td><td>str</td><td>str</td><td>str</td><td>str</td><td>str</td><td>f64</td><td>f64</td><td>f64</td><td>f64</td><td>f64</td><td>str</td><td>str</td><td>str</td><td>str</td><td>str</td><td>str</td><td>str</td><td>str</td><td>str</td><td>str</td><td>str</td><td>str</td><td>f64</td><td>str</td><td>f64</td><td>str</td><td>f64</td><td>f64</td><td>f64</td><td>f64</td><td>f64</td><td>str</td><td>str</td></tr></thead><tbody><tr><td>&quot;PID0x6418&quot;</td><td>2.0</td><td>&quot;Yes&quot;</td><td>&quot;No&quot;</td><td>&quot;Yes&quot;</td><td>&quot;No&quot;</td><td>4.760603</td><td>&quot;Richard&quot;</td><td>null</td><td>&quot;Larre&quot;</td><td>null</td><td>null</td><td>&quot;Boston Specialty &amp; Rehabilitat…</td><td>&quot;55 FRUIT ST\n",
       "CENTRAL, MA 02114\n",
       "…</td><td>&quot;Alive&quot;</td><td>&quot;Normal (30-60)&quot;</td><td>&quot;Normal&quot;</td><td>0.0</td><td>null</td><td>null</td><td>1.0</td><td>0.0</td><td>&quot;Yes&quot;</td><td>&quot;High&quot;</td><td>null</td><td>null</td><td>&quot;Not applicable&quot;</td><td>&quot;Institute&quot;</td><td>&quot;No&quot;</td><td>null</td><td>&quot;No&quot;</td><td>&quot;No&quot;</td><td>&quot;No&quot;</td><td>&quot;Yes&quot;</td><td>null</td><td>null</td><td>9.857562</td><td>null</td><td>1.0</td><td>1.0</td><td>1.0</td><td>1.0</td><td>1.0</td><td>&quot;Mitochondrial genetic inherita…</td><td>&quot;Leber&#x27;s hereditary optic neuro…</td></tr><tr><td>&quot;PID0x4a82&quot;</td><td>6.0</td><td>&quot;Yes&quot;</td><td>&quot;No&quot;</td><td>&quot;No&quot;</td><td>&quot;No&quot;</td><td>4.893297</td><td>&quot;Kimberly&quot;</td><td>null</td><td>&quot;Nashon&quot;</td><td>41.0</td><td>22.0</td><td>null</td><td>&quot;-&quot;</td><td>&quot;Alive&quot;</td><td>&quot;Normal (30-60)&quot;</td><td>&quot;Tachycardia&quot;</td><td>0.0</td><td>0.0</td><td>0.0</td><td>1.0</td><td>0.0</td><td>&quot;Yes&quot;</td><td>&quot;Low&quot;</td><td>null</td><td>&quot;No record&quot;</td><td>&quot;Not applicable&quot;</td><td>null</td><td>&quot;Yes&quot;</td><td>&quot;No&quot;</td><td>&quot;Yes&quot;</td><td>null</td><td>&quot;Yes&quot;</td><td>&quot;Yes&quot;</td><td>4.0</td><td>&quot;Singular&quot;</td><td>null</td><td>&quot;normal&quot;</td><td>0.0</td><td>1.0</td><td>1.0</td><td>1.0</td><td>1.0</td><td>&quot;Multifactorial genetic inherit…</td><td>&quot;Diabetes&quot;</td></tr><tr><td>&quot;PID0x1bf7&quot;</td><td>11.0</td><td>&quot;Yes&quot;</td><td>&quot;No&quot;</td><td>null</td><td>&quot;Yes&quot;</td><td>4.720703</td><td>&quot;Johanna&quot;</td><td>&quot;Stutzman&quot;</td><td>&quot;Suave&quot;</td><td>32.0</td><td>null</td><td>&quot;Carney Hospital&quot;</td><td>&quot;300 LONGWOOD AV\n",
       "FENWAY/KENMORE…</td><td>&quot;Alive&quot;</td><td>&quot;Tachypnea&quot;</td><td>&quot;Tachycardia&quot;</td><td>0.0</td><td>0.0</td><td>0.0</td><td>1.0</td><td>0.0</td><td>null</td><td>&quot;Low&quot;</td><td>&quot;Male&quot;</td><td>&quot;Not available&quot;</td><td>&quot;Not applicable&quot;</td><td>&quot;Institute&quot;</td><td>&quot;No&quot;</td><td>&quot;Yes&quot;</td><td>&quot;-&quot;</td><td>&quot;Not applicable&quot;</td><td>&quot;Yes&quot;</td><td>&quot;No&quot;</td><td>4.0</td><td>&quot;Multiple&quot;</td><td>4.09821</td><td>null</td><td>0.0</td><td>0.0</td><td>0.0</td><td>0.0</td><td>null</td><td>&quot;Multifactorial genetic inherit…</td><td>&quot;Cancer&quot;</td></tr><tr><td>&quot;PID0x28de&quot;</td><td>3.0</td><td>&quot;Yes&quot;</td><td>&quot;No&quot;</td><td>&quot;Yes&quot;</td><td>&quot;Yes&quot;</td><td>4.90108</td><td>&quot;Mary&quot;</td><td>null</td><td>&quot;Aydun&quot;</td><td>null</td><td>63.0</td><td>&quot;Not applicable&quot;</td><td>&quot;-&quot;</td><td>&quot;Alive&quot;</td><td>&quot;Normal (30-60)&quot;</td><td>null</td><td>null</td><td>0.0</td><td>0.0</td><td>1.0</td><td>0.0</td><td>null</td><td>&quot;Low&quot;</td><td>&quot;Male&quot;</td><td>&quot;No record&quot;</td><td>&quot;Not applicable&quot;</td><td>&quot;Home&quot;</td><td>null</td><td>&quot;Yes&quot;</td><td>&quot;No&quot;</td><td>&quot;Not applicable&quot;</td><td>&quot;Yes&quot;</td><td>&quot;No&quot;</td><td>3.0</td><td>&quot;Multiple&quot;</td><td>6.825974</td><td>&quot;normal&quot;</td><td>0.0</td><td>0.0</td><td>0.0</td><td>0.0</td><td>0.0</td><td>&quot;Single-gene inheritance diseas…</td><td>&quot;Tay-Sachs&quot;</td></tr><tr><td>&quot;PID0x4f8f&quot;</td><td>3.0</td><td>&quot;No&quot;</td><td>&quot;No&quot;</td><td>&quot;Yes&quot;</td><td>&quot;Yes&quot;</td><td>4.964816</td><td>&quot;Emma&quot;</td><td>&quot;Bryant&quot;</td><td>&quot;Keng&quot;</td><td>40.0</td><td>null</td><td>&quot;Not applicable&quot;</td><td>&quot;-&quot;</td><td>&quot;Alive&quot;</td><td>&quot;Tachypnea&quot;</td><td>&quot;Normal&quot;</td><td>0.0</td><td>0.0</td><td>null</td><td>1.0</td><td>0.0</td><td>&quot;Yes&quot;</td><td>&quot;Low&quot;</td><td>null</td><td>&quot;No record&quot;</td><td>&quot;Not applicable&quot;</td><td>&quot;Home&quot;</td><td>&quot;Yes&quot;</td><td>&quot;Yes&quot;</td><td>&quot;No&quot;</td><td>&quot;-&quot;</td><td>&quot;No&quot;</td><td>&quot;Yes&quot;</td><td>1.0</td><td>&quot;Singular&quot;</td><td>9.836352</td><td>&quot;inconclusive&quot;</td><td>0.0</td><td>0.0</td><td>1.0</td><td>null</td><td>0.0</td><td>&quot;Single-gene inheritance diseas…</td><td>&quot;Tay-Sachs&quot;</td></tr><tr><td>&hellip;</td><td>&hellip;</td><td>&hellip;</td><td>&hellip;</td><td>&hellip;</td><td>&hellip;</td><td>&hellip;</td><td>&hellip;</td><td>&hellip;</td><td>&hellip;</td><td>&hellip;</td><td>&hellip;</td><td>&hellip;</td><td>&hellip;</td><td>&hellip;</td><td>&hellip;</td><td>&hellip;</td><td>&hellip;</td><td>&hellip;</td><td>&hellip;</td><td>&hellip;</td><td>&hellip;</td><td>&hellip;</td><td>&hellip;</td><td>&hellip;</td><td>&hellip;</td><td>&hellip;</td><td>&hellip;</td><td>&hellip;</td><td>&hellip;</td><td>&hellip;</td><td>&hellip;</td><td>&hellip;</td><td>&hellip;</td><td>&hellip;</td><td>&hellip;</td><td>&hellip;</td><td>&hellip;</td><td>&hellip;</td><td>&hellip;</td><td>&hellip;</td><td>&hellip;</td><td>&hellip;</td><td>&hellip;</td><td>&hellip;</td></tr><tr><td>&quot;PID0x5f56&quot;</td><td>10.0</td><td>&quot;No&quot;</td><td>&quot;No&quot;</td><td>&quot;Yes&quot;</td><td>&quot;Yes&quot;</td><td>4.64386</td><td>&quot;Edward&quot;</td><td>&quot;Thomas&quot;</td><td>&quot;Eoghan&quot;</td><td>49.0</td><td>null</td><td>&quot;Not applicable&quot;</td><td>&quot;-&quot;</td><td>&quot;Deceased&quot;</td><td>null</td><td>&quot;Normal&quot;</td><td>0.0</td><td>0.0</td><td>0.0</td><td>1.0</td><td>0.0</td><td>null</td><td>&quot;Low&quot;</td><td>null</td><td>&quot;No&quot;</td><td>&quot;Yes&quot;</td><td>&quot;Home&quot;</td><td>&quot;No&quot;</td><td>null</td><td>null</td><td>&quot;Not applicable&quot;</td><td>&quot;Yes&quot;</td><td>&quot;Yes&quot;</td><td>2.0</td><td>&quot;Multiple&quot;</td><td>9.581455</td><td>&quot;abnormal&quot;</td><td>1.0</td><td>0.0</td><td>0.0</td><td>0.0</td><td>null</td><td>&quot;Mitochondrial genetic inherita…</td><td>&quot;Mitochondrial myopathy&quot;</td></tr><tr><td>&quot;PID0x3656&quot;</td><td>9.0</td><td>&quot;No&quot;</td><td>&quot;Yes&quot;</td><td>&quot;Yes&quot;</td><td>&quot;Yes&quot;</td><td>5.012599</td><td>&quot;Edward&quot;</td><td>&quot;Hurst&quot;</td><td>&quot;Quientin&quot;</td><td>47.0</td><td>null</td><td>&quot;Not applicable&quot;</td><td>&quot;-&quot;</td><td>&quot;Deceased&quot;</td><td>null</td><td>&quot;Normal&quot;</td><td>0.0</td><td>null</td><td>0.0</td><td>1.0</td><td>0.0</td><td>&quot;Yes&quot;</td><td>null</td><td>&quot;Ambiguous&quot;</td><td>&quot;No record&quot;</td><td>&quot;Yes&quot;</td><td>&quot;Home&quot;</td><td>&quot;Yes&quot;</td><td>&quot;No&quot;</td><td>&quot;No&quot;</td><td>&quot;Not applicable&quot;</td><td>&quot;Yes&quot;</td><td>&quot;Yes&quot;</td><td>null</td><td>null</td><td>12.0</td><td>&quot;slightly abnormal&quot;</td><td>null</td><td>1.0</td><td>0.0</td><td>0.0</td><td>0.0</td><td>&quot;Mitochondrial genetic inherita…</td><td>&quot;Leigh syndrome&quot;</td></tr><tr><td>&quot;PID0x5598&quot;</td><td>4.0</td><td>&quot;Yes&quot;</td><td>&quot;Yes&quot;</td><td>&quot;Yes&quot;</td><td>&quot;No&quot;</td><td>5.258298</td><td>&quot;Lynn&quot;</td><td>null</td><td>&quot;Alhassane&quot;</td><td>35.0</td><td>64.0</td><td>&quot;Franciscan Children&#x27;s&nbsp;&nbsp;Hospita…</td><td>&quot;1153 CENTRE ST\n",
       "JAMAICA PLAIN, …</td><td>&quot;Deceased&quot;</td><td>&quot;Normal (30-60)&quot;</td><td>&quot;Tachycardia&quot;</td><td>null</td><td>0.0</td><td>null</td><td>1.0</td><td>0.0</td><td>&quot;Yes&quot;</td><td>&quot;High&quot;</td><td>&quot;Female&quot;</td><td>&quot;No&quot;</td><td>&quot;No&quot;</td><td>&quot;Institute&quot;</td><td>null</td><td>&quot;No&quot;</td><td>&quot;Not applicable&quot;</td><td>&quot;No&quot;</td><td>&quot;Yes&quot;</td><td>&quot;No&quot;</td><td>3.0</td><td>&quot;Multiple&quot;</td><td>6.584811</td><td>&quot;inconclusive&quot;</td><td>0.0</td><td>0.0</td><td>1.0</td><td>0.0</td><td>0.0</td><td>&quot;Mitochondrial genetic inherita…</td><td>&quot;Leigh syndrome&quot;</td></tr><tr><td>&quot;PID0x3c4f&quot;</td><td>8.0</td><td>&quot;Yes&quot;</td><td>&quot;No&quot;</td><td>&quot;Yes&quot;</td><td>&quot;No&quot;</td><td>5.18647</td><td>&quot;John&quot;</td><td>null</td><td>&quot;Cavani&quot;</td><td>35.0</td><td>51.0</td><td>&quot;Not applicable&quot;</td><td>&quot;-&quot;</td><td>&quot;Deceased&quot;</td><td>&quot;Tachypnea&quot;</td><td>&quot;Normal&quot;</td><td>0.0</td><td>0.0</td><td>0.0</td><td>1.0</td><td>null</td><td>&quot;Yes&quot;</td><td>&quot;High&quot;</td><td>&quot;Male&quot;</td><td>&quot;No&quot;</td><td>&quot;None&quot;</td><td>&quot;Home&quot;</td><td>&quot;No&quot;</td><td>&quot;No&quot;</td><td>null</td><td>&quot;No&quot;</td><td>&quot;No&quot;</td><td>&quot;No&quot;</td><td>2.0</td><td>&quot;Singular&quot;</td><td>7.715464</td><td>&quot;normal&quot;</td><td>0.0</td><td>0.0</td><td>0.0</td><td>1.0</td><td>null</td><td>&quot;Mitochondrial genetic inherita…</td><td>&quot;Mitochondrial myopathy&quot;</td></tr><tr><td>&quot;PID0x9332&quot;</td><td>11.0</td><td>&quot;Yes&quot;</td><td>&quot;No&quot;</td><td>&quot;No&quot;</td><td>&quot;No&quot;</td><td>4.738067</td><td>&quot;Andrew&quot;</td><td>&quot;Mose&quot;</td><td>&quot;Eban&quot;</td><td>32.0</td><td>62.0</td><td>&quot;Hebrew Rehabilitation Center&quot;</td><td>&quot;300 LONGWOOD AV\n",
       "FENWAY/KENMORE…</td><td>&quot;Deceased&quot;</td><td>&quot;Normal (30-60)&quot;</td><td>&quot;Normal&quot;</td><td>0.0</td><td>0.0</td><td>0.0</td><td>1.0</td><td>0.0</td><td>&quot;Yes&quot;</td><td>&quot;High&quot;</td><td>&quot;Female&quot;</td><td>&quot;Yes&quot;</td><td>&quot;None&quot;</td><td>&quot;Institute&quot;</td><td>&quot;Yes&quot;</td><td>&quot;Yes&quot;</td><td>&quot;Not applicable&quot;</td><td>&quot;No&quot;</td><td>&quot;Yes&quot;</td><td>&quot;Yes&quot;</td><td>4.0</td><td>&quot;Singular&quot;</td><td>11.188371</td><td>&quot;normal&quot;</td><td>1.0</td><td>0.0</td><td>1.0</td><td>1.0</td><td>1.0</td><td>&quot;Multifactorial genetic inherit…</td><td>&quot;Diabetes&quot;</td></tr></tbody></table></div>"
      ],
      "text/plain": [
       "shape: (22_083, 45)\n",
       "┌───────────┬───────────┬───────────┬───────────┬───┬───────────┬───────────┬───────────┬──────────┐\n",
       "│ Patient   ┆ Patient   ┆ Genes in  ┆ Inherited ┆ … ┆ Symptom 4 ┆ Symptom 5 ┆ Genetic   ┆ Disorder │\n",
       "│ Id        ┆ Age       ┆ mother's  ┆ from      ┆   ┆ ---       ┆ ---       ┆ Disorder  ┆ Subclass │\n",
       "│ ---       ┆ ---       ┆ side      ┆ father    ┆   ┆ f64       ┆ f64       ┆ ---       ┆ ---      │\n",
       "│ str       ┆ f64       ┆ ---       ┆ ---       ┆   ┆           ┆           ┆ str       ┆ str      │\n",
       "│           ┆           ┆ str       ┆ str       ┆   ┆           ┆           ┆           ┆          │\n",
       "╞═══════════╪═══════════╪═══════════╪═══════════╪═══╪═══════════╪═══════════╪═══════════╪══════════╡\n",
       "│ PID0x6418 ┆ 2.0       ┆ Yes       ┆ No        ┆ … ┆ 1.0       ┆ 1.0       ┆ Mitochond ┆ Leber's  │\n",
       "│           ┆           ┆           ┆           ┆   ┆           ┆           ┆ rial      ┆ heredita │\n",
       "│           ┆           ┆           ┆           ┆   ┆           ┆           ┆ genetic   ┆ ry optic │\n",
       "│           ┆           ┆           ┆           ┆   ┆           ┆           ┆ inherita… ┆ neuro…   │\n",
       "│ PID0x4a82 ┆ 6.0       ┆ Yes       ┆ No        ┆ … ┆ 1.0       ┆ 1.0       ┆ Multifact ┆ Diabetes │\n",
       "│           ┆           ┆           ┆           ┆   ┆           ┆           ┆ orial     ┆          │\n",
       "│           ┆           ┆           ┆           ┆   ┆           ┆           ┆ genetic   ┆          │\n",
       "│           ┆           ┆           ┆           ┆   ┆           ┆           ┆ inherit…  ┆          │\n",
       "│ PID0x1bf7 ┆ 11.0      ┆ Yes       ┆ No        ┆ … ┆ 0.0       ┆ null      ┆ Multifact ┆ Cancer   │\n",
       "│           ┆           ┆           ┆           ┆   ┆           ┆           ┆ orial     ┆          │\n",
       "│           ┆           ┆           ┆           ┆   ┆           ┆           ┆ genetic   ┆          │\n",
       "│           ┆           ┆           ┆           ┆   ┆           ┆           ┆ inherit…  ┆          │\n",
       "│ PID0x28de ┆ 3.0       ┆ Yes       ┆ No        ┆ … ┆ 0.0       ┆ 0.0       ┆ Single-ge ┆ Tay-Sach │\n",
       "│           ┆           ┆           ┆           ┆   ┆           ┆           ┆ ne inheri ┆ s        │\n",
       "│           ┆           ┆           ┆           ┆   ┆           ┆           ┆ tance     ┆          │\n",
       "│           ┆           ┆           ┆           ┆   ┆           ┆           ┆ diseas…   ┆          │\n",
       "│ PID0x4f8f ┆ 3.0       ┆ No        ┆ No        ┆ … ┆ null      ┆ 0.0       ┆ Single-ge ┆ Tay-Sach │\n",
       "│           ┆           ┆           ┆           ┆   ┆           ┆           ┆ ne inheri ┆ s        │\n",
       "│           ┆           ┆           ┆           ┆   ┆           ┆           ┆ tance     ┆          │\n",
       "│           ┆           ┆           ┆           ┆   ┆           ┆           ┆ diseas…   ┆          │\n",
       "│ …         ┆ …         ┆ …         ┆ …         ┆ … ┆ …         ┆ …         ┆ …         ┆ …        │\n",
       "│ PID0x5f56 ┆ 10.0      ┆ No        ┆ No        ┆ … ┆ 0.0       ┆ null      ┆ Mitochond ┆ Mitochon │\n",
       "│           ┆           ┆           ┆           ┆   ┆           ┆           ┆ rial      ┆ drial    │\n",
       "│           ┆           ┆           ┆           ┆   ┆           ┆           ┆ genetic   ┆ myopathy │\n",
       "│           ┆           ┆           ┆           ┆   ┆           ┆           ┆ inherita… ┆          │\n",
       "│ PID0x3656 ┆ 9.0       ┆ No        ┆ Yes       ┆ … ┆ 0.0       ┆ 0.0       ┆ Mitochond ┆ Leigh    │\n",
       "│           ┆           ┆           ┆           ┆   ┆           ┆           ┆ rial      ┆ syndrome │\n",
       "│           ┆           ┆           ┆           ┆   ┆           ┆           ┆ genetic   ┆          │\n",
       "│           ┆           ┆           ┆           ┆   ┆           ┆           ┆ inherita… ┆          │\n",
       "│ PID0x5598 ┆ 4.0       ┆ Yes       ┆ Yes       ┆ … ┆ 0.0       ┆ 0.0       ┆ Mitochond ┆ Leigh    │\n",
       "│           ┆           ┆           ┆           ┆   ┆           ┆           ┆ rial      ┆ syndrome │\n",
       "│           ┆           ┆           ┆           ┆   ┆           ┆           ┆ genetic   ┆          │\n",
       "│           ┆           ┆           ┆           ┆   ┆           ┆           ┆ inherita… ┆          │\n",
       "│ PID0x3c4f ┆ 8.0       ┆ Yes       ┆ No        ┆ … ┆ 1.0       ┆ null      ┆ Mitochond ┆ Mitochon │\n",
       "│           ┆           ┆           ┆           ┆   ┆           ┆           ┆ rial      ┆ drial    │\n",
       "│           ┆           ┆           ┆           ┆   ┆           ┆           ┆ genetic   ┆ myopathy │\n",
       "│           ┆           ┆           ┆           ┆   ┆           ┆           ┆ inherita… ┆          │\n",
       "│ PID0x9332 ┆ 11.0      ┆ Yes       ┆ No        ┆ … ┆ 1.0       ┆ 1.0       ┆ Multifact ┆ Diabetes │\n",
       "│           ┆           ┆           ┆           ┆   ┆           ┆           ┆ orial     ┆          │\n",
       "│           ┆           ┆           ┆           ┆   ┆           ┆           ┆ genetic   ┆          │\n",
       "│           ┆           ┆           ┆           ┆   ┆           ┆           ┆ inherit…  ┆          │\n",
       "└───────────┴───────────┴───────────┴───────────┴───┴───────────┴───────────┴───────────┴──────────┘"
      ]
     },
     "execution_count": 11,
     "metadata": {},
     "output_type": "execute_result"
    }
   ],
   "source": [
    "df = pl.concat([df_datos_alive,df_datos_deceased])\n",
    "df"
   ]
  },
  {
   "cell_type": "code",
   "execution_count": 15,
   "id": "031d4515",
   "metadata": {},
   "outputs": [],
   "source": [
    "df_datos_alive = df_datos_alive.select(\"Patient Id\",\"Genetic Disorder\",\"Status\")"
   ]
  },
  {
   "cell_type": "code",
   "execution_count": 18,
   "id": "089a377a",
   "metadata": {},
   "outputs": [
    {
     "ename": "ShapeError",
     "evalue": "unable to append to a DataFrame of width 3 with a DataFrame of width 45",
     "output_type": "error",
     "traceback": [
      "\u001b[31m---------------------------------------------------------------------------\u001b[39m",
      "\u001b[31mShapeError\u001b[39m                                Traceback (most recent call last)",
      "\u001b[36mCell\u001b[39m\u001b[36m \u001b[39m\u001b[32mIn[18]\u001b[39m\u001b[32m, line 1\u001b[39m\n\u001b[32m----> \u001b[39m\u001b[32m1\u001b[39m \u001b[43mpl\u001b[49m\u001b[43m.\u001b[49m\u001b[43mconcat\u001b[49m\u001b[43m(\u001b[49m\u001b[43m[\u001b[49m\u001b[43mdf_datos_alive\u001b[49m\u001b[43m,\u001b[49m\u001b[43mdf_datos_deceased\u001b[49m\u001b[43m]\u001b[49m\u001b[43m)\u001b[49m\n",
      "\u001b[36mFile \u001b[39m\u001b[32m~/Documentos/Magister/data-visualization-notebooks/.venv/lib/python3.12/site-packages/polars/functions/eager.py:231\u001b[39m, in \u001b[36mconcat\u001b[39m\u001b[34m(items, how, rechunk, parallel)\u001b[39m\n\u001b[32m    229\u001b[39m \u001b[38;5;28;01mif\u001b[39;00m \u001b[38;5;28misinstance\u001b[39m(first, pl.DataFrame):\n\u001b[32m    230\u001b[39m     \u001b[38;5;28;01mif\u001b[39;00m how == \u001b[33m\"\u001b[39m\u001b[33mvertical\u001b[39m\u001b[33m\"\u001b[39m:\n\u001b[32m--> \u001b[39m\u001b[32m231\u001b[39m         out = wrap_df(\u001b[43mplr\u001b[49m\u001b[43m.\u001b[49m\u001b[43mconcat_df\u001b[49m\u001b[43m(\u001b[49m\u001b[43melems\u001b[49m\u001b[43m)\u001b[49m)\n\u001b[32m    232\u001b[39m     \u001b[38;5;28;01melif\u001b[39;00m how == \u001b[33m\"\u001b[39m\u001b[33mvertical_relaxed\u001b[39m\u001b[33m\"\u001b[39m:\n\u001b[32m    233\u001b[39m         out = wrap_ldf(\n\u001b[32m    234\u001b[39m             plr.concat_lf(\n\u001b[32m    235\u001b[39m                 [df.lazy() \u001b[38;5;28;01mfor\u001b[39;00m df \u001b[38;5;129;01min\u001b[39;00m elems],\n\u001b[32m   (...)\u001b[39m\u001b[32m    239\u001b[39m             )\n\u001b[32m    240\u001b[39m         ).collect(optimizations=QueryOptFlags._eager())\n",
      "\u001b[31mShapeError\u001b[39m: unable to append to a DataFrame of width 3 with a DataFrame of width 45"
     ]
    }
   ],
   "source": [
    "pl.concat([df_datos_alive,df_datos_deceased])"
   ]
  },
  {
   "cell_type": "code",
   "execution_count": 16,
   "id": "f58c557f",
   "metadata": {},
   "outputs": [
    {
     "data": {
      "text/html": [
       "<div><style>\n",
       ".dataframe > thead > tr,\n",
       ".dataframe > tbody > tr {\n",
       "  text-align: right;\n",
       "  white-space: pre-wrap;\n",
       "}\n",
       "</style>\n",
       "<small>shape: (1, 45)</small><table border=\"1\" class=\"dataframe\"><thead><tr><th>Patient Id</th><th>Patient Age</th><th>Genes in mother&#x27;s side</th><th>Inherited from father</th><th>Maternal gene</th><th>Paternal gene</th><th>Blood cell count (mcL)</th><th>Patient First Name</th><th>Family Name</th><th>Father&#x27;s name</th><th>Mother&#x27;s age</th><th>Father&#x27;s age</th><th>Institute Name</th><th>Location of Institute</th><th>Status</th><th>Respiratory Rate (breaths/min)</th><th>Heart Rate (rates/min</th><th>Test 1</th><th>Test 2</th><th>Test 3</th><th>Test 4</th><th>Test 5</th><th>Parental consent</th><th>Follow-up</th><th>Gender</th><th>Birth asphyxia</th><th>Autopsy shows birth defect (if applicable)</th><th>Place of birth</th><th>Folic acid details (peri-conceptional)</th><th>H/O serious maternal illness</th><th>H/O radiation exposure (x-ray)</th><th>H/O substance abuse</th><th>Assisted conception IVF/ART</th><th>History of anomalies in previous pregnancies</th><th>No. of previous abortion</th><th>Birth defects</th><th>White Blood cell count (thousand per microliter)</th><th>Blood test result</th><th>Symptom 1</th><th>Symptom 2</th><th>Symptom 3</th><th>Symptom 4</th><th>Symptom 5</th><th>Genetic Disorder</th><th>Disorder Subclass</th></tr><tr><td>str</td><td>f64</td><td>str</td><td>str</td><td>str</td><td>str</td><td>f64</td><td>str</td><td>str</td><td>str</td><td>f64</td><td>f64</td><td>str</td><td>str</td><td>str</td><td>str</td><td>str</td><td>f64</td><td>f64</td><td>f64</td><td>f64</td><td>f64</td><td>str</td><td>str</td><td>str</td><td>str</td><td>str</td><td>str</td><td>str</td><td>str</td><td>str</td><td>str</td><td>str</td><td>str</td><td>f64</td><td>str</td><td>f64</td><td>str</td><td>f64</td><td>f64</td><td>f64</td><td>f64</td><td>f64</td><td>str</td><td>str</td></tr></thead><tbody><tr><td>&quot;PID0x25d5&quot;</td><td>4.0</td><td>&quot;Yes&quot;</td><td>&quot;Yes&quot;</td><td>&quot;No&quot;</td><td>&quot;No&quot;</td><td>4.910669</td><td>&quot;Mike&quot;</td><td>null</td><td>&quot;Brycen&quot;</td><td>null</td><td>23.0</td><td>&quot;St. Margaret&#x27;s Hospital For Wo…</td><td>&quot;1515 COMMONWEALTH AV\n",
       "ALLSTON/B…</td><td>&quot;Deceased&quot;</td><td>&quot;Tachypnea&quot;</td><td>&quot;Normal&quot;</td><td>null</td><td>0.0</td><td>0.0</td><td>1.0</td><td>0.0</td><td>&quot;Yes&quot;</td><td>&quot;High&quot;</td><td>null</td><td>&quot;No&quot;</td><td>&quot;None&quot;</td><td>null</td><td>&quot;Yes&quot;</td><td>&quot;Yes&quot;</td><td>&quot;Not applicable&quot;</td><td>&quot;Not applicable&quot;</td><td>&quot;No&quot;</td><td>&quot;Yes&quot;</td><td>null</td><td>&quot;Multiple&quot;</td><td>5.52256</td><td>&quot;normal&quot;</td><td>1.0</td><td>null</td><td>1.0</td><td>1.0</td><td>0.0</td><td>null</td><td>&quot;Cystic fibrosis&quot;</td></tr></tbody></table></div>"
      ],
      "text/plain": [
       "shape: (1, 45)\n",
       "┌───────────┬───────────┬───────────┬───────────┬───┬───────────┬───────────┬───────────┬──────────┐\n",
       "│ Patient   ┆ Patient   ┆ Genes in  ┆ Inherited ┆ … ┆ Symptom 4 ┆ Symptom 5 ┆ Genetic   ┆ Disorder │\n",
       "│ Id        ┆ Age       ┆ mother's  ┆ from      ┆   ┆ ---       ┆ ---       ┆ Disorder  ┆ Subclass │\n",
       "│ ---       ┆ ---       ┆ side      ┆ father    ┆   ┆ f64       ┆ f64       ┆ ---       ┆ ---      │\n",
       "│ str       ┆ f64       ┆ ---       ┆ ---       ┆   ┆           ┆           ┆ str       ┆ str      │\n",
       "│           ┆           ┆ str       ┆ str       ┆   ┆           ┆           ┆           ┆          │\n",
       "╞═══════════╪═══════════╪═══════════╪═══════════╪═══╪═══════════╪═══════════╪═══════════╪══════════╡\n",
       "│ PID0x25d5 ┆ 4.0       ┆ Yes       ┆ Yes       ┆ … ┆ 1.0       ┆ 0.0       ┆ null      ┆ Cystic   │\n",
       "│           ┆           ┆           ┆           ┆   ┆           ┆           ┆           ┆ fibrosis │\n",
       "└───────────┴───────────┴───────────┴───────────┴───┴───────────┴───────────┴───────────┴──────────┘"
      ]
     },
     "execution_count": 16,
     "metadata": {},
     "output_type": "execute_result"
    }
   ],
   "source": [
    "df_datos_deceased.head(1)"
   ]
  },
  {
   "cell_type": "code",
   "execution_count": 17,
   "id": "eec157a5",
   "metadata": {},
   "outputs": [
    {
     "data": {
      "text/html": [
       "<div><style>\n",
       ".dataframe > thead > tr,\n",
       ".dataframe > tbody > tr {\n",
       "  text-align: right;\n",
       "  white-space: pre-wrap;\n",
       "}\n",
       "</style>\n",
       "<small>shape: (1, 3)</small><table border=\"1\" class=\"dataframe\"><thead><tr><th>Patient Id</th><th>Genetic Disorder</th><th>Status</th></tr><tr><td>str</td><td>str</td><td>str</td></tr></thead><tbody><tr><td>&quot;PID0x6418&quot;</td><td>&quot;Mitochondrial genetic inherita…</td><td>&quot;Alive&quot;</td></tr></tbody></table></div>"
      ],
      "text/plain": [
       "shape: (1, 3)\n",
       "┌────────────┬─────────────────────────────────┬────────┐\n",
       "│ Patient Id ┆ Genetic Disorder                ┆ Status │\n",
       "│ ---        ┆ ---                             ┆ ---    │\n",
       "│ str        ┆ str                             ┆ str    │\n",
       "╞════════════╪═════════════════════════════════╪════════╡\n",
       "│ PID0x6418  ┆ Mitochondrial genetic inherita… ┆ Alive  │\n",
       "└────────────┴─────────────────────────────────┴────────┘"
      ]
     },
     "execution_count": 17,
     "metadata": {},
     "output_type": "execute_result"
    }
   ],
   "source": [
    "df_datos_alive.head(1)"
   ]
  },
  {
   "cell_type": "code",
   "execution_count": 19,
   "id": "45ce3331",
   "metadata": {},
   "outputs": [
    {
     "name": "stdout",
     "output_type": "stream",
     "text": [
      "(5133, 45)\n",
      "(5069, 45)\n",
      "(1022, 45)\n",
      "(1049, 45)\n",
      "(3856, 45)\n",
      "(3808, 45)\n"
     ]
    }
   ],
   "source": [
    "df_alive_mitoc = pl.read_csv(\"../patient_alive_mitoc.csv\")\n",
    "df_deceased_mitoc = pl.read_csv(\"../patient_deceased_mitoc.csv\")\n",
    "df_alive_multi = pl.read_csv(\"../patient_alive_multifact.csv\")\n",
    "df_deceased_multi = pl.read_csv(\"../patient_deceased_multifact.csv\")\n",
    "df_alive_single = pl.read_csv(\"../patient_alive_Single.csv\")\n",
    "df_deceased_single = pl.read_csv(\"../patient_deceased_Single.csv\")\n",
    "\n",
    "print(df_alive_mitoc.shape)\n",
    "print(df_deceased_mitoc.shape)\n",
    "print(df_alive_multi.shape)\n",
    "print(df_deceased_multi.shape)\n",
    "print(df_alive_single.shape)\n",
    "print(df_deceased_single.shape)\n",
    "\n",
    "df = pl.concat([df_alive_mitoc, df_deceased_mitoc, df_alive_multi, df_deceased_multi, df_alive_single, df_deceased_single])"
   ]
  },
  {
   "cell_type": "code",
   "execution_count": 29,
   "id": "661f0ac6",
   "metadata": {},
   "outputs": [],
   "source": [
    "df_test = df_datos.select(cs.starts_with(\"Test\"))\n",
    "df_symp = df_datos.select(cs.starts_with(\"Symp\"))\n",
    "df_basic_information = df_datos.select(\"Patient Id\",\"Patient Age\",\"Status\",\"Genetic Disorder\")"
   ]
  },
  {
   "cell_type": "code",
   "execution_count": 30,
   "id": "3189d193",
   "metadata": {},
   "outputs": [
    {
     "data": {
      "text/html": [
       "<div><style>\n",
       ".dataframe > thead > tr,\n",
       ".dataframe > tbody > tr {\n",
       "  text-align: right;\n",
       "  white-space: pre-wrap;\n",
       "}\n",
       "</style>\n",
       "<small>shape: (22_083, 5)</small><table border=\"1\" class=\"dataframe\"><thead><tr><th>Test 1</th><th>Test 2</th><th>Test 3</th><th>Test 4</th><th>Test 5</th></tr><tr><td>f64</td><td>f64</td><td>f64</td><td>f64</td><td>f64</td></tr></thead><tbody><tr><td>0.0</td><td>null</td><td>null</td><td>1.0</td><td>0.0</td></tr><tr><td>null</td><td>0.0</td><td>0.0</td><td>1.0</td><td>0.0</td></tr><tr><td>0.0</td><td>0.0</td><td>0.0</td><td>1.0</td><td>0.0</td></tr><tr><td>0.0</td><td>0.0</td><td>0.0</td><td>1.0</td><td>0.0</td></tr><tr><td>0.0</td><td>0.0</td><td>0.0</td><td>1.0</td><td>0.0</td></tr><tr><td>&hellip;</td><td>&hellip;</td><td>&hellip;</td><td>&hellip;</td><td>&hellip;</td></tr><tr><td>null</td><td>0.0</td><td>null</td><td>1.0</td><td>0.0</td></tr><tr><td>null</td><td>0.0</td><td>null</td><td>1.0</td><td>null</td></tr><tr><td>0.0</td><td>0.0</td><td>0.0</td><td>1.0</td><td>null</td></tr><tr><td>0.0</td><td>0.0</td><td>0.0</td><td>1.0</td><td>0.0</td></tr><tr><td>0.0</td><td>0.0</td><td>0.0</td><td>1.0</td><td>0.0</td></tr></tbody></table></div>"
      ],
      "text/plain": [
       "shape: (22_083, 5)\n",
       "┌────────┬────────┬────────┬────────┬────────┐\n",
       "│ Test 1 ┆ Test 2 ┆ Test 3 ┆ Test 4 ┆ Test 5 │\n",
       "│ ---    ┆ ---    ┆ ---    ┆ ---    ┆ ---    │\n",
       "│ f64    ┆ f64    ┆ f64    ┆ f64    ┆ f64    │\n",
       "╞════════╪════════╪════════╪════════╪════════╡\n",
       "│ 0.0    ┆ null   ┆ null   ┆ 1.0    ┆ 0.0    │\n",
       "│ null   ┆ 0.0    ┆ 0.0    ┆ 1.0    ┆ 0.0    │\n",
       "│ 0.0    ┆ 0.0    ┆ 0.0    ┆ 1.0    ┆ 0.0    │\n",
       "│ 0.0    ┆ 0.0    ┆ 0.0    ┆ 1.0    ┆ 0.0    │\n",
       "│ 0.0    ┆ 0.0    ┆ 0.0    ┆ 1.0    ┆ 0.0    │\n",
       "│ …      ┆ …      ┆ …      ┆ …      ┆ …      │\n",
       "│ null   ┆ 0.0    ┆ null   ┆ 1.0    ┆ 0.0    │\n",
       "│ null   ┆ 0.0    ┆ null   ┆ 1.0    ┆ null   │\n",
       "│ 0.0    ┆ 0.0    ┆ 0.0    ┆ 1.0    ┆ null   │\n",
       "│ 0.0    ┆ 0.0    ┆ 0.0    ┆ 1.0    ┆ 0.0    │\n",
       "│ 0.0    ┆ 0.0    ┆ 0.0    ┆ 1.0    ┆ 0.0    │\n",
       "└────────┴────────┴────────┴────────┴────────┘"
      ]
     },
     "execution_count": 30,
     "metadata": {},
     "output_type": "execute_result"
    }
   ],
   "source": [
    "df_test"
   ]
  },
  {
   "cell_type": "code",
   "execution_count": 31,
   "id": "378da213",
   "metadata": {},
   "outputs": [
    {
     "data": {
      "text/html": [
       "<div><style>\n",
       ".dataframe > thead > tr,\n",
       ".dataframe > tbody > tr {\n",
       "  text-align: right;\n",
       "  white-space: pre-wrap;\n",
       "}\n",
       "</style>\n",
       "<small>shape: (22_083, 5)</small><table border=\"1\" class=\"dataframe\"><thead><tr><th>Symptom 1</th><th>Symptom 2</th><th>Symptom 3</th><th>Symptom 4</th><th>Symptom 5</th></tr><tr><td>f64</td><td>f64</td><td>f64</td><td>f64</td><td>f64</td></tr></thead><tbody><tr><td>1.0</td><td>1.0</td><td>1.0</td><td>1.0</td><td>1.0</td></tr><tr><td>1.0</td><td>null</td><td>1.0</td><td>1.0</td><td>0.0</td></tr><tr><td>0.0</td><td>1.0</td><td>1.0</td><td>1.0</td><td>1.0</td></tr><tr><td>0.0</td><td>0.0</td><td>1.0</td><td>0.0</td><td>0.0</td></tr><tr><td>0.0</td><td>0.0</td><td>0.0</td><td>0.0</td><td>null</td></tr><tr><td>&hellip;</td><td>&hellip;</td><td>&hellip;</td><td>&hellip;</td><td>&hellip;</td></tr><tr><td>0.0</td><td>0.0</td><td>1.0</td><td>0.0</td><td>0.0</td></tr><tr><td>1.0</td><td>1.0</td><td>1.0</td><td>1.0</td><td>0.0</td></tr><tr><td>0.0</td><td>0.0</td><td>0.0</td><td>1.0</td><td>null</td></tr><tr><td>1.0</td><td>1.0</td><td>1.0</td><td>0.0</td><td>0.0</td></tr><tr><td>1.0</td><td>0.0</td><td>1.0</td><td>1.0</td><td>1.0</td></tr></tbody></table></div>"
      ],
      "text/plain": [
       "shape: (22_083, 5)\n",
       "┌───────────┬───────────┬───────────┬───────────┬───────────┐\n",
       "│ Symptom 1 ┆ Symptom 2 ┆ Symptom 3 ┆ Symptom 4 ┆ Symptom 5 │\n",
       "│ ---       ┆ ---       ┆ ---       ┆ ---       ┆ ---       │\n",
       "│ f64       ┆ f64       ┆ f64       ┆ f64       ┆ f64       │\n",
       "╞═══════════╪═══════════╪═══════════╪═══════════╪═══════════╡\n",
       "│ 1.0       ┆ 1.0       ┆ 1.0       ┆ 1.0       ┆ 1.0       │\n",
       "│ 1.0       ┆ null      ┆ 1.0       ┆ 1.0       ┆ 0.0       │\n",
       "│ 0.0       ┆ 1.0       ┆ 1.0       ┆ 1.0       ┆ 1.0       │\n",
       "│ 0.0       ┆ 0.0       ┆ 1.0       ┆ 0.0       ┆ 0.0       │\n",
       "│ 0.0       ┆ 0.0       ┆ 0.0       ┆ 0.0       ┆ null      │\n",
       "│ …         ┆ …         ┆ …         ┆ …         ┆ …         │\n",
       "│ 0.0       ┆ 0.0       ┆ 1.0       ┆ 0.0       ┆ 0.0       │\n",
       "│ 1.0       ┆ 1.0       ┆ 1.0       ┆ 1.0       ┆ 0.0       │\n",
       "│ 0.0       ┆ 0.0       ┆ 0.0       ┆ 1.0       ┆ null      │\n",
       "│ 1.0       ┆ 1.0       ┆ 1.0       ┆ 0.0       ┆ 0.0       │\n",
       "│ 1.0       ┆ 0.0       ┆ 1.0       ┆ 1.0       ┆ 1.0       │\n",
       "└───────────┴───────────┴───────────┴───────────┴───────────┘"
      ]
     },
     "execution_count": 31,
     "metadata": {},
     "output_type": "execute_result"
    }
   ],
   "source": [
    "df_symp"
   ]
  },
  {
   "cell_type": "code",
   "execution_count": 32,
   "id": "bdfc651a",
   "metadata": {},
   "outputs": [
    {
     "data": {
      "text/html": [
       "<div><style>\n",
       ".dataframe > thead > tr,\n",
       ".dataframe > tbody > tr {\n",
       "  text-align: right;\n",
       "  white-space: pre-wrap;\n",
       "}\n",
       "</style>\n",
       "<small>shape: (22_083, 4)</small><table border=\"1\" class=\"dataframe\"><thead><tr><th>Patient Id</th><th>Patient Age</th><th>Status</th><th>Genetic Disorder</th></tr><tr><td>str</td><td>f64</td><td>str</td><td>str</td></tr></thead><tbody><tr><td>&quot;PID0x6418&quot;</td><td>2.0</td><td>&quot;Alive&quot;</td><td>&quot;Mitochondrial genetic inherita…</td></tr><tr><td>&quot;PID0x25d5&quot;</td><td>4.0</td><td>&quot;Deceased&quot;</td><td>null</td></tr><tr><td>&quot;PID0x4a82&quot;</td><td>6.0</td><td>&quot;Alive&quot;</td><td>&quot;Multifactorial genetic inherit…</td></tr><tr><td>&quot;PID0x4ac8&quot;</td><td>12.0</td><td>&quot;Deceased&quot;</td><td>&quot;Mitochondrial genetic inherita…</td></tr><tr><td>&quot;PID0x1bf7&quot;</td><td>11.0</td><td>&quot;Alive&quot;</td><td>&quot;Multifactorial genetic inherit…</td></tr><tr><td>&hellip;</td><td>&hellip;</td><td>&hellip;</td><td>&hellip;</td></tr><tr><td>&quot;PID0x5598&quot;</td><td>4.0</td><td>&quot;Deceased&quot;</td><td>&quot;Mitochondrial genetic inherita…</td></tr><tr><td>&quot;PID0x19cb&quot;</td><td>8.0</td><td>&quot;Alive&quot;</td><td>&quot;Multifactorial genetic inherit…</td></tr><tr><td>&quot;PID0x3c4f&quot;</td><td>8.0</td><td>&quot;Deceased&quot;</td><td>&quot;Mitochondrial genetic inherita…</td></tr><tr><td>&quot;PID0x13a&quot;</td><td>7.0</td><td>&quot;Alive&quot;</td><td>null</td></tr><tr><td>&quot;PID0x9332&quot;</td><td>11.0</td><td>&quot;Deceased&quot;</td><td>&quot;Multifactorial genetic inherit…</td></tr></tbody></table></div>"
      ],
      "text/plain": [
       "shape: (22_083, 4)\n",
       "┌────────────┬─────────────┬──────────┬─────────────────────────────────┐\n",
       "│ Patient Id ┆ Patient Age ┆ Status   ┆ Genetic Disorder                │\n",
       "│ ---        ┆ ---         ┆ ---      ┆ ---                             │\n",
       "│ str        ┆ f64         ┆ str      ┆ str                             │\n",
       "╞════════════╪═════════════╪══════════╪═════════════════════════════════╡\n",
       "│ PID0x6418  ┆ 2.0         ┆ Alive    ┆ Mitochondrial genetic inherita… │\n",
       "│ PID0x25d5  ┆ 4.0         ┆ Deceased ┆ null                            │\n",
       "│ PID0x4a82  ┆ 6.0         ┆ Alive    ┆ Multifactorial genetic inherit… │\n",
       "│ PID0x4ac8  ┆ 12.0        ┆ Deceased ┆ Mitochondrial genetic inherita… │\n",
       "│ PID0x1bf7  ┆ 11.0        ┆ Alive    ┆ Multifactorial genetic inherit… │\n",
       "│ …          ┆ …           ┆ …        ┆ …                               │\n",
       "│ PID0x5598  ┆ 4.0         ┆ Deceased ┆ Mitochondrial genetic inherita… │\n",
       "│ PID0x19cb  ┆ 8.0         ┆ Alive    ┆ Multifactorial genetic inherit… │\n",
       "│ PID0x3c4f  ┆ 8.0         ┆ Deceased ┆ Mitochondrial genetic inherita… │\n",
       "│ PID0x13a   ┆ 7.0         ┆ Alive    ┆ null                            │\n",
       "│ PID0x9332  ┆ 11.0        ┆ Deceased ┆ Multifactorial genetic inherit… │\n",
       "└────────────┴─────────────┴──────────┴─────────────────────────────────┘"
      ]
     },
     "execution_count": 32,
     "metadata": {},
     "output_type": "execute_result"
    }
   ],
   "source": [
    "df_basic_information"
   ]
  },
  {
   "cell_type": "code",
   "execution_count": 35,
   "id": "df97b921",
   "metadata": {},
   "outputs": [],
   "source": [
    "df = pl.concat([df_test, df_symp, df_basic_information], how=\"horizontal\")"
   ]
  },
  {
   "cell_type": "code",
   "execution_count": 36,
   "id": "3571b2ce",
   "metadata": {},
   "outputs": [
    {
     "data": {
      "text/html": [
       "<div><style>\n",
       ".dataframe > thead > tr,\n",
       ".dataframe > tbody > tr {\n",
       "  text-align: right;\n",
       "  white-space: pre-wrap;\n",
       "}\n",
       "</style>\n",
       "<small>shape: (22_083, 14)</small><table border=\"1\" class=\"dataframe\"><thead><tr><th>Test 1</th><th>Test 2</th><th>Test 3</th><th>Test 4</th><th>Test 5</th><th>Symptom 1</th><th>Symptom 2</th><th>Symptom 3</th><th>Symptom 4</th><th>Symptom 5</th><th>Patient Id</th><th>Patient Age</th><th>Status</th><th>Genetic Disorder</th></tr><tr><td>f64</td><td>f64</td><td>f64</td><td>f64</td><td>f64</td><td>f64</td><td>f64</td><td>f64</td><td>f64</td><td>f64</td><td>str</td><td>f64</td><td>str</td><td>str</td></tr></thead><tbody><tr><td>0.0</td><td>null</td><td>null</td><td>1.0</td><td>0.0</td><td>1.0</td><td>1.0</td><td>1.0</td><td>1.0</td><td>1.0</td><td>&quot;PID0x6418&quot;</td><td>2.0</td><td>&quot;Alive&quot;</td><td>&quot;Mitochondrial genetic inherita…</td></tr><tr><td>null</td><td>0.0</td><td>0.0</td><td>1.0</td><td>0.0</td><td>1.0</td><td>null</td><td>1.0</td><td>1.0</td><td>0.0</td><td>&quot;PID0x25d5&quot;</td><td>4.0</td><td>&quot;Deceased&quot;</td><td>null</td></tr><tr><td>0.0</td><td>0.0</td><td>0.0</td><td>1.0</td><td>0.0</td><td>0.0</td><td>1.0</td><td>1.0</td><td>1.0</td><td>1.0</td><td>&quot;PID0x4a82&quot;</td><td>6.0</td><td>&quot;Alive&quot;</td><td>&quot;Multifactorial genetic inherit…</td></tr><tr><td>0.0</td><td>0.0</td><td>0.0</td><td>1.0</td><td>0.0</td><td>0.0</td><td>0.0</td><td>1.0</td><td>0.0</td><td>0.0</td><td>&quot;PID0x4ac8&quot;</td><td>12.0</td><td>&quot;Deceased&quot;</td><td>&quot;Mitochondrial genetic inherita…</td></tr><tr><td>0.0</td><td>0.0</td><td>0.0</td><td>1.0</td><td>0.0</td><td>0.0</td><td>0.0</td><td>0.0</td><td>0.0</td><td>null</td><td>&quot;PID0x1bf7&quot;</td><td>11.0</td><td>&quot;Alive&quot;</td><td>&quot;Multifactorial genetic inherit…</td></tr><tr><td>&hellip;</td><td>&hellip;</td><td>&hellip;</td><td>&hellip;</td><td>&hellip;</td><td>&hellip;</td><td>&hellip;</td><td>&hellip;</td><td>&hellip;</td><td>&hellip;</td><td>&hellip;</td><td>&hellip;</td><td>&hellip;</td><td>&hellip;</td></tr><tr><td>null</td><td>0.0</td><td>null</td><td>1.0</td><td>0.0</td><td>0.0</td><td>0.0</td><td>1.0</td><td>0.0</td><td>0.0</td><td>&quot;PID0x5598&quot;</td><td>4.0</td><td>&quot;Deceased&quot;</td><td>&quot;Mitochondrial genetic inherita…</td></tr><tr><td>null</td><td>0.0</td><td>null</td><td>1.0</td><td>null</td><td>1.0</td><td>1.0</td><td>1.0</td><td>1.0</td><td>0.0</td><td>&quot;PID0x19cb&quot;</td><td>8.0</td><td>&quot;Alive&quot;</td><td>&quot;Multifactorial genetic inherit…</td></tr><tr><td>0.0</td><td>0.0</td><td>0.0</td><td>1.0</td><td>null</td><td>0.0</td><td>0.0</td><td>0.0</td><td>1.0</td><td>null</td><td>&quot;PID0x3c4f&quot;</td><td>8.0</td><td>&quot;Deceased&quot;</td><td>&quot;Mitochondrial genetic inherita…</td></tr><tr><td>0.0</td><td>0.0</td><td>0.0</td><td>1.0</td><td>0.0</td><td>1.0</td><td>1.0</td><td>1.0</td><td>0.0</td><td>0.0</td><td>&quot;PID0x13a&quot;</td><td>7.0</td><td>&quot;Alive&quot;</td><td>null</td></tr><tr><td>0.0</td><td>0.0</td><td>0.0</td><td>1.0</td><td>0.0</td><td>1.0</td><td>0.0</td><td>1.0</td><td>1.0</td><td>1.0</td><td>&quot;PID0x9332&quot;</td><td>11.0</td><td>&quot;Deceased&quot;</td><td>&quot;Multifactorial genetic inherit…</td></tr></tbody></table></div>"
      ],
      "text/plain": [
       "shape: (22_083, 14)\n",
       "┌────────┬────────┬────────┬────────┬───┬────────────┬─────────────┬──────────┬────────────────────┐\n",
       "│ Test 1 ┆ Test 2 ┆ Test 3 ┆ Test 4 ┆ … ┆ Patient Id ┆ Patient Age ┆ Status   ┆ Genetic Disorder   │\n",
       "│ ---    ┆ ---    ┆ ---    ┆ ---    ┆   ┆ ---        ┆ ---         ┆ ---      ┆ ---                │\n",
       "│ f64    ┆ f64    ┆ f64    ┆ f64    ┆   ┆ str        ┆ f64         ┆ str      ┆ str                │\n",
       "╞════════╪════════╪════════╪════════╪═══╪════════════╪═════════════╪══════════╪════════════════════╡\n",
       "│ 0.0    ┆ null   ┆ null   ┆ 1.0    ┆ … ┆ PID0x6418  ┆ 2.0         ┆ Alive    ┆ Mitochondrial      │\n",
       "│        ┆        ┆        ┆        ┆   ┆            ┆             ┆          ┆ genetic inherita…  │\n",
       "│ null   ┆ 0.0    ┆ 0.0    ┆ 1.0    ┆ … ┆ PID0x25d5  ┆ 4.0         ┆ Deceased ┆ null               │\n",
       "│ 0.0    ┆ 0.0    ┆ 0.0    ┆ 1.0    ┆ … ┆ PID0x4a82  ┆ 6.0         ┆ Alive    ┆ Multifactorial     │\n",
       "│        ┆        ┆        ┆        ┆   ┆            ┆             ┆          ┆ genetic inherit…   │\n",
       "│ 0.0    ┆ 0.0    ┆ 0.0    ┆ 1.0    ┆ … ┆ PID0x4ac8  ┆ 12.0        ┆ Deceased ┆ Mitochondrial      │\n",
       "│        ┆        ┆        ┆        ┆   ┆            ┆             ┆          ┆ genetic inherita…  │\n",
       "│ 0.0    ┆ 0.0    ┆ 0.0    ┆ 1.0    ┆ … ┆ PID0x1bf7  ┆ 11.0        ┆ Alive    ┆ Multifactorial     │\n",
       "│        ┆        ┆        ┆        ┆   ┆            ┆             ┆          ┆ genetic inherit…   │\n",
       "│ …      ┆ …      ┆ …      ┆ …      ┆ … ┆ …          ┆ …           ┆ …        ┆ …                  │\n",
       "│ null   ┆ 0.0    ┆ null   ┆ 1.0    ┆ … ┆ PID0x5598  ┆ 4.0         ┆ Deceased ┆ Mitochondrial      │\n",
       "│        ┆        ┆        ┆        ┆   ┆            ┆             ┆          ┆ genetic inherita…  │\n",
       "│ null   ┆ 0.0    ┆ null   ┆ 1.0    ┆ … ┆ PID0x19cb  ┆ 8.0         ┆ Alive    ┆ Multifactorial     │\n",
       "│        ┆        ┆        ┆        ┆   ┆            ┆             ┆          ┆ genetic inherit…   │\n",
       "│ 0.0    ┆ 0.0    ┆ 0.0    ┆ 1.0    ┆ … ┆ PID0x3c4f  ┆ 8.0         ┆ Deceased ┆ Mitochondrial      │\n",
       "│        ┆        ┆        ┆        ┆   ┆            ┆             ┆          ┆ genetic inherita…  │\n",
       "│ 0.0    ┆ 0.0    ┆ 0.0    ┆ 1.0    ┆ … ┆ PID0x13a   ┆ 7.0         ┆ Alive    ┆ null               │\n",
       "│ 0.0    ┆ 0.0    ┆ 0.0    ┆ 1.0    ┆ … ┆ PID0x9332  ┆ 11.0        ┆ Deceased ┆ Multifactorial     │\n",
       "│        ┆        ┆        ┆        ┆   ┆            ┆             ┆          ┆ genetic inherit…   │\n",
       "└────────┴────────┴────────┴────────┴───┴────────────┴─────────────┴──────────┴────────────────────┘"
      ]
     },
     "execution_count": 36,
     "metadata": {},
     "output_type": "execute_result"
    }
   ],
   "source": [
    "df"
   ]
  },
  {
   "cell_type": "code",
   "execution_count": 37,
   "id": "c5cf3f1b",
   "metadata": {},
   "outputs": [
    {
     "data": {
      "text/html": [
       "<div><style>\n",
       ".dataframe > thead > tr,\n",
       ".dataframe > tbody > tr {\n",
       "  text-align: right;\n",
       "  white-space: pre-wrap;\n",
       "}\n",
       "</style>\n",
       "<small>shape: (22_083, 14)</small><table border=\"1\" class=\"dataframe\"><thead><tr><th>Patient Id</th><th>Patient Age</th><th>Status</th><th>Genetic Disorder</th><th>Test 1</th><th>Test 2</th><th>Test 3</th><th>Test 4</th><th>Test 5</th><th>Symptom 1</th><th>Symptom 2</th><th>Symptom 3</th><th>Symptom 4</th><th>Symptom 5</th></tr><tr><td>str</td><td>f64</td><td>str</td><td>str</td><td>f64</td><td>f64</td><td>f64</td><td>f64</td><td>f64</td><td>f64</td><td>f64</td><td>f64</td><td>f64</td><td>f64</td></tr></thead><tbody><tr><td>&quot;PID0x6418&quot;</td><td>2.0</td><td>&quot;Alive&quot;</td><td>&quot;Mitochondrial genetic inherita…</td><td>0.0</td><td>null</td><td>null</td><td>1.0</td><td>0.0</td><td>1.0</td><td>1.0</td><td>1.0</td><td>1.0</td><td>1.0</td></tr><tr><td>&quot;PID0x25d5&quot;</td><td>4.0</td><td>&quot;Deceased&quot;</td><td>null</td><td>null</td><td>0.0</td><td>0.0</td><td>1.0</td><td>0.0</td><td>1.0</td><td>null</td><td>1.0</td><td>1.0</td><td>0.0</td></tr><tr><td>&quot;PID0x4a82&quot;</td><td>6.0</td><td>&quot;Alive&quot;</td><td>&quot;Multifactorial genetic inherit…</td><td>0.0</td><td>0.0</td><td>0.0</td><td>1.0</td><td>0.0</td><td>0.0</td><td>1.0</td><td>1.0</td><td>1.0</td><td>1.0</td></tr><tr><td>&quot;PID0x4ac8&quot;</td><td>12.0</td><td>&quot;Deceased&quot;</td><td>&quot;Mitochondrial genetic inherita…</td><td>0.0</td><td>0.0</td><td>0.0</td><td>1.0</td><td>0.0</td><td>0.0</td><td>0.0</td><td>1.0</td><td>0.0</td><td>0.0</td></tr><tr><td>&quot;PID0x1bf7&quot;</td><td>11.0</td><td>&quot;Alive&quot;</td><td>&quot;Multifactorial genetic inherit…</td><td>0.0</td><td>0.0</td><td>0.0</td><td>1.0</td><td>0.0</td><td>0.0</td><td>0.0</td><td>0.0</td><td>0.0</td><td>null</td></tr><tr><td>&hellip;</td><td>&hellip;</td><td>&hellip;</td><td>&hellip;</td><td>&hellip;</td><td>&hellip;</td><td>&hellip;</td><td>&hellip;</td><td>&hellip;</td><td>&hellip;</td><td>&hellip;</td><td>&hellip;</td><td>&hellip;</td><td>&hellip;</td></tr><tr><td>&quot;PID0x5598&quot;</td><td>4.0</td><td>&quot;Deceased&quot;</td><td>&quot;Mitochondrial genetic inherita…</td><td>null</td><td>0.0</td><td>null</td><td>1.0</td><td>0.0</td><td>0.0</td><td>0.0</td><td>1.0</td><td>0.0</td><td>0.0</td></tr><tr><td>&quot;PID0x19cb&quot;</td><td>8.0</td><td>&quot;Alive&quot;</td><td>&quot;Multifactorial genetic inherit…</td><td>null</td><td>0.0</td><td>null</td><td>1.0</td><td>null</td><td>1.0</td><td>1.0</td><td>1.0</td><td>1.0</td><td>0.0</td></tr><tr><td>&quot;PID0x3c4f&quot;</td><td>8.0</td><td>&quot;Deceased&quot;</td><td>&quot;Mitochondrial genetic inherita…</td><td>0.0</td><td>0.0</td><td>0.0</td><td>1.0</td><td>null</td><td>0.0</td><td>0.0</td><td>0.0</td><td>1.0</td><td>null</td></tr><tr><td>&quot;PID0x13a&quot;</td><td>7.0</td><td>&quot;Alive&quot;</td><td>null</td><td>0.0</td><td>0.0</td><td>0.0</td><td>1.0</td><td>0.0</td><td>1.0</td><td>1.0</td><td>1.0</td><td>0.0</td><td>0.0</td></tr><tr><td>&quot;PID0x9332&quot;</td><td>11.0</td><td>&quot;Deceased&quot;</td><td>&quot;Multifactorial genetic inherit…</td><td>0.0</td><td>0.0</td><td>0.0</td><td>1.0</td><td>0.0</td><td>1.0</td><td>0.0</td><td>1.0</td><td>1.0</td><td>1.0</td></tr></tbody></table></div>"
      ],
      "text/plain": [
       "shape: (22_083, 14)\n",
       "┌───────────┬───────────┬──────────┬───────────┬───┬───────────┬───────────┬───────────┬───────────┐\n",
       "│ Patient   ┆ Patient   ┆ Status   ┆ Genetic   ┆ … ┆ Symptom 2 ┆ Symptom 3 ┆ Symptom 4 ┆ Symptom 5 │\n",
       "│ Id        ┆ Age       ┆ ---      ┆ Disorder  ┆   ┆ ---       ┆ ---       ┆ ---       ┆ ---       │\n",
       "│ ---       ┆ ---       ┆ str      ┆ ---       ┆   ┆ f64       ┆ f64       ┆ f64       ┆ f64       │\n",
       "│ str       ┆ f64       ┆          ┆ str       ┆   ┆           ┆           ┆           ┆           │\n",
       "╞═══════════╪═══════════╪══════════╪═══════════╪═══╪═══════════╪═══════════╪═══════════╪═══════════╡\n",
       "│ PID0x6418 ┆ 2.0       ┆ Alive    ┆ Mitochond ┆ … ┆ 1.0       ┆ 1.0       ┆ 1.0       ┆ 1.0       │\n",
       "│           ┆           ┆          ┆ rial      ┆   ┆           ┆           ┆           ┆           │\n",
       "│           ┆           ┆          ┆ genetic   ┆   ┆           ┆           ┆           ┆           │\n",
       "│           ┆           ┆          ┆ inherita… ┆   ┆           ┆           ┆           ┆           │\n",
       "│ PID0x25d5 ┆ 4.0       ┆ Deceased ┆ null      ┆ … ┆ null      ┆ 1.0       ┆ 1.0       ┆ 0.0       │\n",
       "│ PID0x4a82 ┆ 6.0       ┆ Alive    ┆ Multifact ┆ … ┆ 1.0       ┆ 1.0       ┆ 1.0       ┆ 1.0       │\n",
       "│           ┆           ┆          ┆ orial     ┆   ┆           ┆           ┆           ┆           │\n",
       "│           ┆           ┆          ┆ genetic   ┆   ┆           ┆           ┆           ┆           │\n",
       "│           ┆           ┆          ┆ inherit…  ┆   ┆           ┆           ┆           ┆           │\n",
       "│ PID0x4ac8 ┆ 12.0      ┆ Deceased ┆ Mitochond ┆ … ┆ 0.0       ┆ 1.0       ┆ 0.0       ┆ 0.0       │\n",
       "│           ┆           ┆          ┆ rial      ┆   ┆           ┆           ┆           ┆           │\n",
       "│           ┆           ┆          ┆ genetic   ┆   ┆           ┆           ┆           ┆           │\n",
       "│           ┆           ┆          ┆ inherita… ┆   ┆           ┆           ┆           ┆           │\n",
       "│ PID0x1bf7 ┆ 11.0      ┆ Alive    ┆ Multifact ┆ … ┆ 0.0       ┆ 0.0       ┆ 0.0       ┆ null      │\n",
       "│           ┆           ┆          ┆ orial     ┆   ┆           ┆           ┆           ┆           │\n",
       "│           ┆           ┆          ┆ genetic   ┆   ┆           ┆           ┆           ┆           │\n",
       "│           ┆           ┆          ┆ inherit…  ┆   ┆           ┆           ┆           ┆           │\n",
       "│ …         ┆ …         ┆ …        ┆ …         ┆ … ┆ …         ┆ …         ┆ …         ┆ …         │\n",
       "│ PID0x5598 ┆ 4.0       ┆ Deceased ┆ Mitochond ┆ … ┆ 0.0       ┆ 1.0       ┆ 0.0       ┆ 0.0       │\n",
       "│           ┆           ┆          ┆ rial      ┆   ┆           ┆           ┆           ┆           │\n",
       "│           ┆           ┆          ┆ genetic   ┆   ┆           ┆           ┆           ┆           │\n",
       "│           ┆           ┆          ┆ inherita… ┆   ┆           ┆           ┆           ┆           │\n",
       "│ PID0x19cb ┆ 8.0       ┆ Alive    ┆ Multifact ┆ … ┆ 1.0       ┆ 1.0       ┆ 1.0       ┆ 0.0       │\n",
       "│           ┆           ┆          ┆ orial     ┆   ┆           ┆           ┆           ┆           │\n",
       "│           ┆           ┆          ┆ genetic   ┆   ┆           ┆           ┆           ┆           │\n",
       "│           ┆           ┆          ┆ inherit…  ┆   ┆           ┆           ┆           ┆           │\n",
       "│ PID0x3c4f ┆ 8.0       ┆ Deceased ┆ Mitochond ┆ … ┆ 0.0       ┆ 0.0       ┆ 1.0       ┆ null      │\n",
       "│           ┆           ┆          ┆ rial      ┆   ┆           ┆           ┆           ┆           │\n",
       "│           ┆           ┆          ┆ genetic   ┆   ┆           ┆           ┆           ┆           │\n",
       "│           ┆           ┆          ┆ inherita… ┆   ┆           ┆           ┆           ┆           │\n",
       "│ PID0x13a  ┆ 7.0       ┆ Alive    ┆ null      ┆ … ┆ 1.0       ┆ 1.0       ┆ 0.0       ┆ 0.0       │\n",
       "│ PID0x9332 ┆ 11.0      ┆ Deceased ┆ Multifact ┆ … ┆ 0.0       ┆ 1.0       ┆ 1.0       ┆ 1.0       │\n",
       "│           ┆           ┆          ┆ orial     ┆   ┆           ┆           ┆           ┆           │\n",
       "│           ┆           ┆          ┆ genetic   ┆   ┆           ┆           ┆           ┆           │\n",
       "│           ┆           ┆          ┆ inherit…  ┆   ┆           ┆           ┆           ┆           │\n",
       "└───────────┴───────────┴──────────┴───────────┴───┴───────────┴───────────┴───────────┴───────────┘"
      ]
     },
     "execution_count": 37,
     "metadata": {},
     "output_type": "execute_result"
    }
   ],
   "source": [
    "pl.concat([df_basic_information, df_test, df_symp], how=\"horizontal\")"
   ]
  },
  {
   "cell_type": "code",
   "execution_count": 44,
   "id": "243750f2",
   "metadata": {},
   "outputs": [],
   "source": [
    "df_test = df_datos.select(cs.starts_with(\"Test\") | pl.col(\"Patient Id\"))\n",
    "df_symp = df_datos.select(cs.starts_with(\"Symp\"))\n",
    "df_basic_information = df_datos.select(\"Patient Id\",\"Patient Age\",\"Status\",\"Genetic Disorder\")"
   ]
  },
  {
   "cell_type": "code",
   "execution_count": 46,
   "id": "ed58c854",
   "metadata": {},
   "outputs": [
    {
     "data": {
      "text/html": [
       "<div><style>\n",
       ".dataframe > thead > tr,\n",
       ".dataframe > tbody > tr {\n",
       "  text-align: right;\n",
       "  white-space: pre-wrap;\n",
       "}\n",
       "</style>\n",
       "<small>shape: (22_083, 4)</small><table border=\"1\" class=\"dataframe\"><thead><tr><th>Patient Id</th><th>Patient Age</th><th>Status</th><th>Genetic Disorder</th></tr><tr><td>str</td><td>f64</td><td>str</td><td>str</td></tr></thead><tbody><tr><td>&quot;PID0x6418&quot;</td><td>2.0</td><td>&quot;Alive&quot;</td><td>&quot;Mitochondrial genetic inherita…</td></tr><tr><td>&quot;PID0x25d5&quot;</td><td>4.0</td><td>&quot;Deceased&quot;</td><td>null</td></tr><tr><td>&quot;PID0x4a82&quot;</td><td>6.0</td><td>&quot;Alive&quot;</td><td>&quot;Multifactorial genetic inherit…</td></tr><tr><td>&quot;PID0x4ac8&quot;</td><td>12.0</td><td>&quot;Deceased&quot;</td><td>&quot;Mitochondrial genetic inherita…</td></tr><tr><td>&quot;PID0x1bf7&quot;</td><td>11.0</td><td>&quot;Alive&quot;</td><td>&quot;Multifactorial genetic inherit…</td></tr><tr><td>&hellip;</td><td>&hellip;</td><td>&hellip;</td><td>&hellip;</td></tr><tr><td>&quot;PID0x5598&quot;</td><td>4.0</td><td>&quot;Deceased&quot;</td><td>&quot;Mitochondrial genetic inherita…</td></tr><tr><td>&quot;PID0x19cb&quot;</td><td>8.0</td><td>&quot;Alive&quot;</td><td>&quot;Multifactorial genetic inherit…</td></tr><tr><td>&quot;PID0x3c4f&quot;</td><td>8.0</td><td>&quot;Deceased&quot;</td><td>&quot;Mitochondrial genetic inherita…</td></tr><tr><td>&quot;PID0x13a&quot;</td><td>7.0</td><td>&quot;Alive&quot;</td><td>null</td></tr><tr><td>&quot;PID0x9332&quot;</td><td>11.0</td><td>&quot;Deceased&quot;</td><td>&quot;Multifactorial genetic inherit…</td></tr></tbody></table></div>"
      ],
      "text/plain": [
       "shape: (22_083, 4)\n",
       "┌────────────┬─────────────┬──────────┬─────────────────────────────────┐\n",
       "│ Patient Id ┆ Patient Age ┆ Status   ┆ Genetic Disorder                │\n",
       "│ ---        ┆ ---         ┆ ---      ┆ ---                             │\n",
       "│ str        ┆ f64         ┆ str      ┆ str                             │\n",
       "╞════════════╪═════════════╪══════════╪═════════════════════════════════╡\n",
       "│ PID0x6418  ┆ 2.0         ┆ Alive    ┆ Mitochondrial genetic inherita… │\n",
       "│ PID0x25d5  ┆ 4.0         ┆ Deceased ┆ null                            │\n",
       "│ PID0x4a82  ┆ 6.0         ┆ Alive    ┆ Multifactorial genetic inherit… │\n",
       "│ PID0x4ac8  ┆ 12.0        ┆ Deceased ┆ Mitochondrial genetic inherita… │\n",
       "│ PID0x1bf7  ┆ 11.0        ┆ Alive    ┆ Multifactorial genetic inherit… │\n",
       "│ …          ┆ …           ┆ …        ┆ …                               │\n",
       "│ PID0x5598  ┆ 4.0         ┆ Deceased ┆ Mitochondrial genetic inherita… │\n",
       "│ PID0x19cb  ┆ 8.0         ┆ Alive    ┆ Multifactorial genetic inherit… │\n",
       "│ PID0x3c4f  ┆ 8.0         ┆ Deceased ┆ Mitochondrial genetic inherita… │\n",
       "│ PID0x13a   ┆ 7.0         ┆ Alive    ┆ null                            │\n",
       "│ PID0x9332  ┆ 11.0        ┆ Deceased ┆ Multifactorial genetic inherit… │\n",
       "└────────────┴─────────────┴──────────┴─────────────────────────────────┘"
      ]
     },
     "execution_count": 46,
     "metadata": {},
     "output_type": "execute_result"
    }
   ],
   "source": [
    "df_basic_information"
   ]
  },
  {
   "cell_type": "code",
   "execution_count": 48,
   "id": "b3630924",
   "metadata": {},
   "outputs": [
    {
     "ename": "DuplicateError",
     "evalue": "column with name 'Patient Id' has more than one occurrence",
     "output_type": "error",
     "traceback": [
      "\u001b[31m---------------------------------------------------------------------------\u001b[39m",
      "\u001b[31mDuplicateError\u001b[39m                            Traceback (most recent call last)",
      "\u001b[36mCell\u001b[39m\u001b[36m \u001b[39m\u001b[32mIn[48]\u001b[39m\u001b[32m, line 1\u001b[39m\n\u001b[32m----> \u001b[39m\u001b[32m1\u001b[39m \u001b[43mpl\u001b[49m\u001b[43m.\u001b[49m\u001b[43mconcat\u001b[49m\u001b[43m(\u001b[49m\u001b[43m[\u001b[49m\u001b[43mdf_test\u001b[49m\u001b[43m,\u001b[49m\u001b[43m \u001b[49m\u001b[43mdf_symp\u001b[49m\u001b[43m,\u001b[49m\u001b[43m \u001b[49m\u001b[43mdf_basic_information\u001b[49m\u001b[43m]\u001b[49m\u001b[43m,\u001b[49m\u001b[43m \u001b[49m\u001b[43mhow\u001b[49m\u001b[43m=\u001b[49m\u001b[33;43m\"\u001b[39;49m\u001b[33;43mhorizontal\u001b[39;49m\u001b[33;43m\"\u001b[39;49m\u001b[43m)\u001b[49m\n",
      "\u001b[36mFile \u001b[39m\u001b[32m~/Documentos/Magister/data-visualization-notebooks/.venv/lib/python3.12/site-packages/polars/functions/eager.py:254\u001b[39m, in \u001b[36mconcat\u001b[39m\u001b[34m(items, how, rechunk, parallel)\u001b[39m\n\u001b[32m    245\u001b[39m     out = wrap_ldf(\n\u001b[32m    246\u001b[39m         plr.concat_lf_diagonal(\n\u001b[32m    247\u001b[39m             [df.lazy() \u001b[38;5;28;01mfor\u001b[39;00m df \u001b[38;5;129;01min\u001b[39;00m elems],\n\u001b[32m   (...)\u001b[39m\u001b[32m    251\u001b[39m         )\n\u001b[32m    252\u001b[39m     ).collect(optimizations=QueryOptFlags._eager())\n\u001b[32m    253\u001b[39m \u001b[38;5;28;01melif\u001b[39;00m how == \u001b[33m\"\u001b[39m\u001b[33mhorizontal\u001b[39m\u001b[33m\"\u001b[39m:\n\u001b[32m--> \u001b[39m\u001b[32m254\u001b[39m     out = wrap_df(\u001b[43mplr\u001b[49m\u001b[43m.\u001b[49m\u001b[43mconcat_df_horizontal\u001b[49m\u001b[43m(\u001b[49m\u001b[43melems\u001b[49m\u001b[43m)\u001b[49m)\n\u001b[32m    255\u001b[39m \u001b[38;5;28;01melse\u001b[39;00m:\n\u001b[32m    256\u001b[39m     allowed = \u001b[33m\"\u001b[39m\u001b[33m, \u001b[39m\u001b[33m\"\u001b[39m.join(\u001b[38;5;28mrepr\u001b[39m(m) \u001b[38;5;28;01mfor\u001b[39;00m m \u001b[38;5;129;01min\u001b[39;00m get_args(ConcatMethod))\n",
      "\u001b[31mDuplicateError\u001b[39m: column with name 'Patient Id' has more than one occurrence"
     ]
    }
   ],
   "source": [
    "pl.concat([df_test, df_symp, df_basic_information], how=\"horizontal\")"
   ]
  },
  {
   "cell_type": "code",
   "execution_count": null,
   "id": "f251d440",
   "metadata": {},
   "outputs": [],
   "source": []
  }
 ],
 "metadata": {
  "kernelspec": {
   "display_name": "data-visualization-notebooks",
   "language": "python",
   "name": "python3"
  },
  "language_info": {
   "codemirror_mode": {
    "name": "ipython",
    "version": 3
   },
   "file_extension": ".py",
   "mimetype": "text/x-python",
   "name": "python",
   "nbconvert_exporter": "python",
   "pygments_lexer": "ipython3",
   "version": "3.12.6"
  }
 },
 "nbformat": 4,
 "nbformat_minor": 5
}
