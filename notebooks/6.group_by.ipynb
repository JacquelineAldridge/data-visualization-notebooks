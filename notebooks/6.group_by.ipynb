{
 "cells": [
  {
   "cell_type": "code",
   "execution_count": 10,
   "id": "f98b5d8c",
   "metadata": {},
   "outputs": [],
   "source": [
    "import polars as pl\n",
    "from polars import selectors as cs"
   ]
  },
  {
   "cell_type": "code",
   "execution_count": 4,
   "id": "2995039f",
   "metadata": {},
   "outputs": [],
   "source": [
    "df_datos = pl.read_csv(\"../train.csv\")"
   ]
  },
  {
   "cell_type": "code",
   "execution_count": 5,
   "id": "a0ee7743",
   "metadata": {},
   "outputs": [
    {
     "data": {
      "text/html": [
       "<div><style>\n",
       ".dataframe > thead > tr,\n",
       ".dataframe > tbody > tr {\n",
       "  text-align: right;\n",
       "  white-space: pre-wrap;\n",
       "}\n",
       "</style>\n",
       "<small>shape: (5, 45)</small><table border=\"1\" class=\"dataframe\"><thead><tr><th>Patient Id</th><th>Patient Age</th><th>Genes in mother&#x27;s side</th><th>Inherited from father</th><th>Maternal gene</th><th>Paternal gene</th><th>Blood cell count (mcL)</th><th>Patient First Name</th><th>Family Name</th><th>Father&#x27;s name</th><th>Mother&#x27;s age</th><th>Father&#x27;s age</th><th>Institute Name</th><th>Location of Institute</th><th>Status</th><th>Respiratory Rate (breaths/min)</th><th>Heart Rate (rates/min</th><th>Test 1</th><th>Test 2</th><th>Test 3</th><th>Test 4</th><th>Test 5</th><th>Parental consent</th><th>Follow-up</th><th>Gender</th><th>Birth asphyxia</th><th>Autopsy shows birth defect (if applicable)</th><th>Place of birth</th><th>Folic acid details (peri-conceptional)</th><th>H/O serious maternal illness</th><th>H/O radiation exposure (x-ray)</th><th>H/O substance abuse</th><th>Assisted conception IVF/ART</th><th>History of anomalies in previous pregnancies</th><th>No. of previous abortion</th><th>Birth defects</th><th>White Blood cell count (thousand per microliter)</th><th>Blood test result</th><th>Symptom 1</th><th>Symptom 2</th><th>Symptom 3</th><th>Symptom 4</th><th>Symptom 5</th><th>Genetic Disorder</th><th>Disorder Subclass</th></tr><tr><td>str</td><td>f64</td><td>str</td><td>str</td><td>str</td><td>str</td><td>f64</td><td>str</td><td>str</td><td>str</td><td>f64</td><td>f64</td><td>str</td><td>str</td><td>str</td><td>str</td><td>str</td><td>f64</td><td>f64</td><td>f64</td><td>f64</td><td>f64</td><td>str</td><td>str</td><td>str</td><td>str</td><td>str</td><td>str</td><td>str</td><td>str</td><td>str</td><td>str</td><td>str</td><td>str</td><td>f64</td><td>str</td><td>f64</td><td>str</td><td>f64</td><td>f64</td><td>f64</td><td>f64</td><td>f64</td><td>str</td><td>str</td></tr></thead><tbody><tr><td>&quot;PID0x6418&quot;</td><td>2.0</td><td>&quot;Yes&quot;</td><td>&quot;No&quot;</td><td>&quot;Yes&quot;</td><td>&quot;No&quot;</td><td>4.760603</td><td>&quot;Richard&quot;</td><td>null</td><td>&quot;Larre&quot;</td><td>null</td><td>null</td><td>&quot;Boston Specialty &amp; Rehabilitat…</td><td>&quot;55 FRUIT ST\n",
       "CENTRAL, MA 02114\n",
       "…</td><td>&quot;Alive&quot;</td><td>&quot;Normal (30-60)&quot;</td><td>&quot;Normal&quot;</td><td>0.0</td><td>null</td><td>null</td><td>1.0</td><td>0.0</td><td>&quot;Yes&quot;</td><td>&quot;High&quot;</td><td>null</td><td>null</td><td>&quot;Not applicable&quot;</td><td>&quot;Institute&quot;</td><td>&quot;No&quot;</td><td>null</td><td>&quot;No&quot;</td><td>&quot;No&quot;</td><td>&quot;No&quot;</td><td>&quot;Yes&quot;</td><td>null</td><td>null</td><td>9.857562</td><td>null</td><td>1.0</td><td>1.0</td><td>1.0</td><td>1.0</td><td>1.0</td><td>&quot;Mitochondrial genetic inherita…</td><td>&quot;Leber&#x27;s hereditary optic neuro…</td></tr><tr><td>&quot;PID0x25d5&quot;</td><td>4.0</td><td>&quot;Yes&quot;</td><td>&quot;Yes&quot;</td><td>&quot;No&quot;</td><td>&quot;No&quot;</td><td>4.910669</td><td>&quot;Mike&quot;</td><td>null</td><td>&quot;Brycen&quot;</td><td>null</td><td>23.0</td><td>&quot;St. Margaret&#x27;s Hospital For Wo…</td><td>&quot;1515 COMMONWEALTH AV\n",
       "ALLSTON/B…</td><td>&quot;Deceased&quot;</td><td>&quot;Tachypnea&quot;</td><td>&quot;Normal&quot;</td><td>null</td><td>0.0</td><td>0.0</td><td>1.0</td><td>0.0</td><td>&quot;Yes&quot;</td><td>&quot;High&quot;</td><td>null</td><td>&quot;No&quot;</td><td>&quot;None&quot;</td><td>null</td><td>&quot;Yes&quot;</td><td>&quot;Yes&quot;</td><td>&quot;Not applicable&quot;</td><td>&quot;Not applicable&quot;</td><td>&quot;No&quot;</td><td>&quot;Yes&quot;</td><td>null</td><td>&quot;Multiple&quot;</td><td>5.52256</td><td>&quot;normal&quot;</td><td>1.0</td><td>null</td><td>1.0</td><td>1.0</td><td>0.0</td><td>null</td><td>&quot;Cystic fibrosis&quot;</td></tr><tr><td>&quot;PID0x4a82&quot;</td><td>6.0</td><td>&quot;Yes&quot;</td><td>&quot;No&quot;</td><td>&quot;No&quot;</td><td>&quot;No&quot;</td><td>4.893297</td><td>&quot;Kimberly&quot;</td><td>null</td><td>&quot;Nashon&quot;</td><td>41.0</td><td>22.0</td><td>null</td><td>&quot;-&quot;</td><td>&quot;Alive&quot;</td><td>&quot;Normal (30-60)&quot;</td><td>&quot;Tachycardia&quot;</td><td>0.0</td><td>0.0</td><td>0.0</td><td>1.0</td><td>0.0</td><td>&quot;Yes&quot;</td><td>&quot;Low&quot;</td><td>null</td><td>&quot;No record&quot;</td><td>&quot;Not applicable&quot;</td><td>null</td><td>&quot;Yes&quot;</td><td>&quot;No&quot;</td><td>&quot;Yes&quot;</td><td>null</td><td>&quot;Yes&quot;</td><td>&quot;Yes&quot;</td><td>4.0</td><td>&quot;Singular&quot;</td><td>null</td><td>&quot;normal&quot;</td><td>0.0</td><td>1.0</td><td>1.0</td><td>1.0</td><td>1.0</td><td>&quot;Multifactorial genetic inherit…</td><td>&quot;Diabetes&quot;</td></tr><tr><td>&quot;PID0x4ac8&quot;</td><td>12.0</td><td>&quot;Yes&quot;</td><td>&quot;No&quot;</td><td>&quot;Yes&quot;</td><td>&quot;No&quot;</td><td>4.70528</td><td>&quot;Jeffery&quot;</td><td>&quot;Hoelscher&quot;</td><td>&quot;Aayaan&quot;</td><td>21.0</td><td>null</td><td>null</td><td>&quot;55 FRUIT ST\n",
       "CENTRAL, MA 02114\n",
       "…</td><td>&quot;Deceased&quot;</td><td>&quot;Tachypnea&quot;</td><td>&quot;Normal&quot;</td><td>0.0</td><td>0.0</td><td>0.0</td><td>1.0</td><td>0.0</td><td>&quot;Yes&quot;</td><td>&quot;High&quot;</td><td>&quot;Male&quot;</td><td>&quot;Not available&quot;</td><td>&quot;No&quot;</td><td>&quot;Institute&quot;</td><td>&quot;No&quot;</td><td>&quot;Yes&quot;</td><td>&quot;-&quot;</td><td>&quot;Not applicable&quot;</td><td>null</td><td>&quot;Yes&quot;</td><td>1.0</td><td>&quot;Singular&quot;</td><td>7.919321</td><td>&quot;inconclusive&quot;</td><td>0.0</td><td>0.0</td><td>1.0</td><td>0.0</td><td>0.0</td><td>&quot;Mitochondrial genetic inherita…</td><td>&quot;Leigh syndrome&quot;</td></tr><tr><td>&quot;PID0x1bf7&quot;</td><td>11.0</td><td>&quot;Yes&quot;</td><td>&quot;No&quot;</td><td>null</td><td>&quot;Yes&quot;</td><td>4.720703</td><td>&quot;Johanna&quot;</td><td>&quot;Stutzman&quot;</td><td>&quot;Suave&quot;</td><td>32.0</td><td>null</td><td>&quot;Carney Hospital&quot;</td><td>&quot;300 LONGWOOD AV\n",
       "FENWAY/KENMORE…</td><td>&quot;Alive&quot;</td><td>&quot;Tachypnea&quot;</td><td>&quot;Tachycardia&quot;</td><td>0.0</td><td>0.0</td><td>0.0</td><td>1.0</td><td>0.0</td><td>null</td><td>&quot;Low&quot;</td><td>&quot;Male&quot;</td><td>&quot;Not available&quot;</td><td>&quot;Not applicable&quot;</td><td>&quot;Institute&quot;</td><td>&quot;No&quot;</td><td>&quot;Yes&quot;</td><td>&quot;-&quot;</td><td>&quot;Not applicable&quot;</td><td>&quot;Yes&quot;</td><td>&quot;No&quot;</td><td>4.0</td><td>&quot;Multiple&quot;</td><td>4.09821</td><td>null</td><td>0.0</td><td>0.0</td><td>0.0</td><td>0.0</td><td>null</td><td>&quot;Multifactorial genetic inherit…</td><td>&quot;Cancer&quot;</td></tr></tbody></table></div>"
      ],
      "text/plain": [
       "shape: (5, 45)\n",
       "┌───────────┬───────────┬───────────┬───────────┬───┬───────────┬───────────┬───────────┬──────────┐\n",
       "│ Patient   ┆ Patient   ┆ Genes in  ┆ Inherited ┆ … ┆ Symptom 4 ┆ Symptom 5 ┆ Genetic   ┆ Disorder │\n",
       "│ Id        ┆ Age       ┆ mother's  ┆ from      ┆   ┆ ---       ┆ ---       ┆ Disorder  ┆ Subclass │\n",
       "│ ---       ┆ ---       ┆ side      ┆ father    ┆   ┆ f64       ┆ f64       ┆ ---       ┆ ---      │\n",
       "│ str       ┆ f64       ┆ ---       ┆ ---       ┆   ┆           ┆           ┆ str       ┆ str      │\n",
       "│           ┆           ┆ str       ┆ str       ┆   ┆           ┆           ┆           ┆          │\n",
       "╞═══════════╪═══════════╪═══════════╪═══════════╪═══╪═══════════╪═══════════╪═══════════╪══════════╡\n",
       "│ PID0x6418 ┆ 2.0       ┆ Yes       ┆ No        ┆ … ┆ 1.0       ┆ 1.0       ┆ Mitochond ┆ Leber's  │\n",
       "│           ┆           ┆           ┆           ┆   ┆           ┆           ┆ rial      ┆ heredita │\n",
       "│           ┆           ┆           ┆           ┆   ┆           ┆           ┆ genetic   ┆ ry optic │\n",
       "│           ┆           ┆           ┆           ┆   ┆           ┆           ┆ inherita… ┆ neuro…   │\n",
       "│ PID0x25d5 ┆ 4.0       ┆ Yes       ┆ Yes       ┆ … ┆ 1.0       ┆ 0.0       ┆ null      ┆ Cystic   │\n",
       "│           ┆           ┆           ┆           ┆   ┆           ┆           ┆           ┆ fibrosis │\n",
       "│ PID0x4a82 ┆ 6.0       ┆ Yes       ┆ No        ┆ … ┆ 1.0       ┆ 1.0       ┆ Multifact ┆ Diabetes │\n",
       "│           ┆           ┆           ┆           ┆   ┆           ┆           ┆ orial     ┆          │\n",
       "│           ┆           ┆           ┆           ┆   ┆           ┆           ┆ genetic   ┆          │\n",
       "│           ┆           ┆           ┆           ┆   ┆           ┆           ┆ inherit…  ┆          │\n",
       "│ PID0x4ac8 ┆ 12.0      ┆ Yes       ┆ No        ┆ … ┆ 0.0       ┆ 0.0       ┆ Mitochond ┆ Leigh    │\n",
       "│           ┆           ┆           ┆           ┆   ┆           ┆           ┆ rial      ┆ syndrome │\n",
       "│           ┆           ┆           ┆           ┆   ┆           ┆           ┆ genetic   ┆          │\n",
       "│           ┆           ┆           ┆           ┆   ┆           ┆           ┆ inherita… ┆          │\n",
       "│ PID0x1bf7 ┆ 11.0      ┆ Yes       ┆ No        ┆ … ┆ 0.0       ┆ null      ┆ Multifact ┆ Cancer   │\n",
       "│           ┆           ┆           ┆           ┆   ┆           ┆           ┆ orial     ┆          │\n",
       "│           ┆           ┆           ┆           ┆   ┆           ┆           ┆ genetic   ┆          │\n",
       "│           ┆           ┆           ┆           ┆   ┆           ┆           ┆ inherit…  ┆          │\n",
       "└───────────┴───────────┴───────────┴───────────┴───┴───────────┴───────────┴───────────┴──────────┘"
      ]
     },
     "execution_count": 5,
     "metadata": {},
     "output_type": "execute_result"
    }
   ],
   "source": [
    "df_datos.head()"
   ]
  },
  {
   "cell_type": "code",
   "execution_count": 6,
   "id": "706dc813",
   "metadata": {},
   "outputs": [
    {
     "data": {
      "text/html": [
       "<div><style>\n",
       ".dataframe > thead > tr,\n",
       ".dataframe > tbody > tr {\n",
       "  text-align: right;\n",
       "  white-space: pre-wrap;\n",
       "}\n",
       "</style>\n",
       "<small>shape: (28, 2)</small><table border=\"1\" class=\"dataframe\"><thead><tr><th>Institute Name</th><th>len</th></tr><tr><td>str</td><td>u32</td></tr></thead><tbody><tr><td>&quot;Carney Hospital&quot;</td><td>357</td></tr><tr><td>null</td><td>5106</td></tr><tr><td>&quot;Arbour Hospital&quot;</td><td>327</td></tr><tr><td>&quot;Dana-farber Cancer Institute&quot;</td><td>323</td></tr><tr><td>&quot;Not applicable&quot;</td><td>8440</td></tr><tr><td>&hellip;</td><td>&hellip;</td></tr><tr><td>&quot;New England Medical Center&quot;</td><td>350</td></tr><tr><td>&quot;Boston City Hospital&quot;</td><td>330</td></tr><tr><td>&quot;Brigham And Women&#x27;s Hospital&quot;</td><td>334</td></tr><tr><td>&quot;Faulkner Hospital&quot;</td><td>325</td></tr><tr><td>&quot;Hebrew Rehabilitation Center&quot;</td><td>349</td></tr></tbody></table></div>"
      ],
      "text/plain": [
       "shape: (28, 2)\n",
       "┌──────────────────────────────┬──────┐\n",
       "│ Institute Name               ┆ len  │\n",
       "│ ---                          ┆ ---  │\n",
       "│ str                          ┆ u32  │\n",
       "╞══════════════════════════════╪══════╡\n",
       "│ Carney Hospital              ┆ 357  │\n",
       "│ null                         ┆ 5106 │\n",
       "│ Arbour Hospital              ┆ 327  │\n",
       "│ Dana-farber Cancer Institute ┆ 323  │\n",
       "│ Not applicable               ┆ 8440 │\n",
       "│ …                            ┆ …    │\n",
       "│ New England Medical Center   ┆ 350  │\n",
       "│ Boston City Hospital         ┆ 330  │\n",
       "│ Brigham And Women's Hospital ┆ 334  │\n",
       "│ Faulkner Hospital            ┆ 325  │\n",
       "│ Hebrew Rehabilitation Center ┆ 349  │\n",
       "└──────────────────────────────┴──────┘"
      ]
     },
     "execution_count": 6,
     "metadata": {},
     "output_type": "execute_result"
    }
   ],
   "source": [
    "df_datos.group_by(\"Institute Name\").len()"
   ]
  },
  {
   "cell_type": "code",
   "execution_count": 8,
   "id": "d13cab3e",
   "metadata": {},
   "outputs": [
    {
     "data": {
      "text/html": [
       "<div><style>\n",
       ".dataframe > thead > tr,\n",
       ".dataframe > tbody > tr {\n",
       "  text-align: right;\n",
       "  white-space: pre-wrap;\n",
       "}\n",
       "</style>\n",
       "<small>shape: (28, 2)</small><table border=\"1\" class=\"dataframe\"><thead><tr><th>Institute Name</th><th>len</th></tr><tr><td>str</td><td>u32</td></tr></thead><tbody><tr><td>&quot;Not applicable&quot;</td><td>8440</td></tr><tr><td>null</td><td>5106</td></tr><tr><td>&quot;Franciscan Children&#x27;s&nbsp;&nbsp;Hospita…</td><td>363</td></tr><tr><td>&quot;Carney Hospital&quot;</td><td>357</td></tr><tr><td>&quot;New England Medical Center&quot;</td><td>350</td></tr><tr><td>&hellip;</td><td>&hellip;</td></tr><tr><td>&quot;Beth Israel Deaconess Medical …</td><td>315</td></tr><tr><td>&quot;Jewish Memorial Hospital&quot;</td><td>315</td></tr><tr><td>&quot;Lemuel Shattuck Hospital&quot;</td><td>313</td></tr><tr><td>&quot;Va Hospital&quot;</td><td>312</td></tr><tr><td>&quot;St. Elizabeth&#x27;s Hospital&quot;</td><td>302</td></tr></tbody></table></div>"
      ],
      "text/plain": [
       "shape: (28, 2)\n",
       "┌─────────────────────────────────┬──────┐\n",
       "│ Institute Name                  ┆ len  │\n",
       "│ ---                             ┆ ---  │\n",
       "│ str                             ┆ u32  │\n",
       "╞═════════════════════════════════╪══════╡\n",
       "│ Not applicable                  ┆ 8440 │\n",
       "│ null                            ┆ 5106 │\n",
       "│ Franciscan Children's  Hospita… ┆ 363  │\n",
       "│ Carney Hospital                 ┆ 357  │\n",
       "│ New England Medical Center      ┆ 350  │\n",
       "│ …                               ┆ …    │\n",
       "│ Beth Israel Deaconess Medical … ┆ 315  │\n",
       "│ Jewish Memorial Hospital        ┆ 315  │\n",
       "│ Lemuel Shattuck Hospital        ┆ 313  │\n",
       "│ Va Hospital                     ┆ 312  │\n",
       "│ St. Elizabeth's Hospital        ┆ 302  │\n",
       "└─────────────────────────────────┴──────┘"
      ]
     },
     "execution_count": 8,
     "metadata": {},
     "output_type": "execute_result"
    }
   ],
   "source": [
    "df_datos.group_by(\"Institute Name\").len().sort(\"len\", descending=True)"
   ]
  },
  {
   "cell_type": "code",
   "execution_count": 11,
   "id": "7ebac375",
   "metadata": {},
   "outputs": [
    {
     "data": {
      "text/html": [
       "<div><style>\n",
       ".dataframe > thead > tr,\n",
       ".dataframe > tbody > tr {\n",
       "  text-align: right;\n",
       "  white-space: pre-wrap;\n",
       "}\n",
       "</style>\n",
       "<small>shape: (28, 16)</small><table border=\"1\" class=\"dataframe\"><thead><tr><th>Patient Age</th><th>Blood cell count (mcL)</th><th>Mother&#x27;s age</th><th>Father&#x27;s age</th><th>Test 1</th><th>Test 2</th><th>Test 3</th><th>Test 4</th><th>Test 5</th><th>No. of previous abortion</th><th>White Blood cell count (thousand per microliter)</th><th>Symptom 1</th><th>Symptom 2</th><th>Symptom 3</th><th>Symptom 4</th><th>Symptom 5</th></tr><tr><td>f64</td><td>f64</td><td>f64</td><td>f64</td><td>f64</td><td>f64</td><td>f64</td><td>f64</td><td>f64</td><td>f64</td><td>f64</td><td>f64</td><td>f64</td><td>f64</td><td>f64</td><td>f64</td></tr></thead><tbody><tr><td>7.341297</td><td>4.912475</td><td>34.098712</td><td>42.394958</td><td>0.0</td><td>0.0</td><td>0.0</td><td>1.0</td><td>0.0</td><td>2.091549</td><td>7.432985</td><td>0.555957</td><td>0.559859</td><td>0.565836</td><td>0.505338</td><td>0.489583</td></tr><tr><td>6.884013</td><td>4.903406</td><td>34.325203</td><td>43.494118</td><td>0.0</td><td>0.0</td><td>0.0</td><td>1.0</td><td>0.0</td><td>2.019355</td><td>7.239527</td><td>0.602606</td><td>0.542208</td><td>0.534202</td><td>0.542208</td><td>0.46732</td></tr><tr><td>6.765432</td><td>4.915034</td><td>33.981752</td><td>42.760148</td><td>0.0</td><td>0.0</td><td>0.0</td><td>1.0</td><td>0.0</td><td>2.06875</td><td>7.531429</td><td>0.608696</td><td>0.571885</td><td>0.558282</td><td>0.533123</td><td>0.490446</td></tr><tr><td>6.98209</td><td>4.896929</td><td>35.033457</td><td>41.488462</td><td>0.0</td><td>0.0</td><td>0.0</td><td>1.0</td><td>0.0</td><td>2.021807</td><td>7.541203</td><td>0.628125</td><td>0.584906</td><td>0.506452</td><td>0.51735</td><td>0.404984</td></tr><tr><td>6.725424</td><td>4.906483</td><td>34.377193</td><td>41.078512</td><td>0.0</td><td>0.0</td><td>0.0</td><td>1.0</td><td>0.0</td><td>1.919861</td><td>7.163307</td><td>0.569966</td><td>0.53169</td><td>0.556314</td><td>0.467128</td><td>0.441781</td></tr><tr><td>&hellip;</td><td>&hellip;</td><td>&hellip;</td><td>&hellip;</td><td>&hellip;</td><td>&hellip;</td><td>&hellip;</td><td>&hellip;</td><td>&hellip;</td><td>&hellip;</td><td>&hellip;</td><td>&hellip;</td><td>&hellip;</td><td>&hellip;</td><td>&hellip;</td><td>&hellip;</td></tr><tr><td>6.55848</td><td>4.905817</td><td>35.035336</td><td>41.311828</td><td>0.0</td><td>0.0</td><td>0.0</td><td>1.0</td><td>0.0</td><td>2.070122</td><td>7.474219</td><td>0.585586</td><td>0.536873</td><td>0.531532</td><td>0.449704</td><td>0.428135</td></tr><tr><td>6.990964</td><td>4.894765</td><td>33.430108</td><td>42.419476</td><td>0.0</td><td>0.0</td><td>0.0</td><td>1.0</td><td>0.0</td><td>2.009404</td><td>7.506551</td><td>0.603659</td><td>0.593272</td><td>0.512346</td><td>0.498452</td><td>0.448916</td></tr><tr><td>6.916107</td><td>4.8919</td><td>34.036585</td><td>43.8107</td><td>0.0</td><td>0.0</td><td>0.0</td><td>1.0</td><td>0.0</td><td>2.023649</td><td>7.586492</td><td>0.599327</td><td>0.511706</td><td>0.546667</td><td>0.50173</td><td>0.474747</td></tr><tr><td>7.151703</td><td>4.901022</td><td>35.266423</td><td>42.104869</td><td>0.0</td><td>0.0</td><td>0.0</td><td>1.0</td><td>0.0</td><td>2.13125</td><td>7.520269</td><td>0.567742</td><td>0.55</td><td>0.5</td><td>0.480645</td><td>0.456869</td></tr><tr><td>6.999783</td><td>4.896953</td><td>34.459363</td><td>41.677244</td><td>0.0</td><td>0.0</td><td>0.0</td><td>1.0</td><td>0.0</td><td>2.017472</td><td>7.521158</td><td>0.590546</td><td>0.554564</td><td>0.525289</td><td>0.493182</td><td>0.458845</td></tr></tbody></table></div>"
      ],
      "text/plain": [
       "shape: (28, 16)\n",
       "┌───────────┬───────────┬───────────┬───────────┬───┬───────────┬───────────┬───────────┬──────────┐\n",
       "│ Patient   ┆ Blood     ┆ Mother's  ┆ Father's  ┆ … ┆ Symptom 2 ┆ Symptom 3 ┆ Symptom 4 ┆ Symptom  │\n",
       "│ Age       ┆ cell      ┆ age       ┆ age       ┆   ┆ ---       ┆ ---       ┆ ---       ┆ 5        │\n",
       "│ ---       ┆ count     ┆ ---       ┆ ---       ┆   ┆ f64       ┆ f64       ┆ f64       ┆ ---      │\n",
       "│ f64       ┆ (mcL)     ┆ f64       ┆ f64       ┆   ┆           ┆           ┆           ┆ f64      │\n",
       "│           ┆ ---       ┆           ┆           ┆   ┆           ┆           ┆           ┆          │\n",
       "│           ┆ f64       ┆           ┆           ┆   ┆           ┆           ┆           ┆          │\n",
       "╞═══════════╪═══════════╪═══════════╪═══════════╪═══╪═══════════╪═══════════╪═══════════╪══════════╡\n",
       "│ 7.341297  ┆ 4.912475  ┆ 34.098712 ┆ 42.394958 ┆ … ┆ 0.559859  ┆ 0.565836  ┆ 0.505338  ┆ 0.489583 │\n",
       "│ 6.884013  ┆ 4.903406  ┆ 34.325203 ┆ 43.494118 ┆ … ┆ 0.542208  ┆ 0.534202  ┆ 0.542208  ┆ 0.46732  │\n",
       "│ 6.765432  ┆ 4.915034  ┆ 33.981752 ┆ 42.760148 ┆ … ┆ 0.571885  ┆ 0.558282  ┆ 0.533123  ┆ 0.490446 │\n",
       "│ 6.98209   ┆ 4.896929  ┆ 35.033457 ┆ 41.488462 ┆ … ┆ 0.584906  ┆ 0.506452  ┆ 0.51735   ┆ 0.404984 │\n",
       "│ 6.725424  ┆ 4.906483  ┆ 34.377193 ┆ 41.078512 ┆ … ┆ 0.53169   ┆ 0.556314  ┆ 0.467128  ┆ 0.441781 │\n",
       "│ …         ┆ …         ┆ …         ┆ …         ┆ … ┆ …         ┆ …         ┆ …         ┆ …        │\n",
       "│ 6.55848   ┆ 4.905817  ┆ 35.035336 ┆ 41.311828 ┆ … ┆ 0.536873  ┆ 0.531532  ┆ 0.449704  ┆ 0.428135 │\n",
       "│ 6.990964  ┆ 4.894765  ┆ 33.430108 ┆ 42.419476 ┆ … ┆ 0.593272  ┆ 0.512346  ┆ 0.498452  ┆ 0.448916 │\n",
       "│ 6.916107  ┆ 4.8919    ┆ 34.036585 ┆ 43.8107   ┆ … ┆ 0.511706  ┆ 0.546667  ┆ 0.50173   ┆ 0.474747 │\n",
       "│ 7.151703  ┆ 4.901022  ┆ 35.266423 ┆ 42.104869 ┆ … ┆ 0.55      ┆ 0.5       ┆ 0.480645  ┆ 0.456869 │\n",
       "│ 6.999783  ┆ 4.896953  ┆ 34.459363 ┆ 41.677244 ┆ … ┆ 0.554564  ┆ 0.525289  ┆ 0.493182  ┆ 0.458845 │\n",
       "└───────────┴───────────┴───────────┴───────────┴───┴───────────┴───────────┴───────────┴──────────┘"
      ]
     },
     "execution_count": 11,
     "metadata": {},
     "output_type": "execute_result"
    }
   ],
   "source": [
    "df_datos.group_by(\"Institute Name\").mean().select(cs.numeric())"
   ]
  },
  {
   "cell_type": "code",
   "execution_count": 14,
   "id": "85f98c26",
   "metadata": {},
   "outputs": [
    {
     "data": {
      "text/html": [
       "<div><style>\n",
       ".dataframe > thead > tr,\n",
       ".dataframe > tbody > tr {\n",
       "  text-align: right;\n",
       "  white-space: pre-wrap;\n",
       "}\n",
       "</style>\n",
       "<small>shape: (28, 2)</small><table border=\"1\" class=\"dataframe\"><thead><tr><th>Institute Name</th><th>count</th></tr><tr><td>str</td><td>u32</td></tr></thead><tbody><tr><td>&quot;Dana-farber Cancer Institute&quot;</td><td>323</td></tr><tr><td>&quot;Massachusetts Eye &amp; Ear Infirm…</td><td>337</td></tr><tr><td>&quot;Massachusetts General Hospital&quot;</td><td>321</td></tr><tr><td>&quot;Jewish Memorial Hospital&quot;</td><td>315</td></tr><tr><td>&quot;Shriners Burns Institute&quot;</td><td>341</td></tr><tr><td>&hellip;</td><td>&hellip;</td></tr><tr><td>&quot;Boston City Hospital&quot;</td><td>330</td></tr><tr><td>&quot;St. Elizabeth&#x27;s Hospital&quot;</td><td>302</td></tr><tr><td>&quot;Arbour Hospital&quot;</td><td>327</td></tr><tr><td>&quot;Lemuel Shattuck Hospital&quot;</td><td>313</td></tr><tr><td>&quot;Brigham And Women&#x27;s Hospital&quot;</td><td>334</td></tr></tbody></table></div>"
      ],
      "text/plain": [
       "shape: (28, 2)\n",
       "┌─────────────────────────────────┬───────┐\n",
       "│ Institute Name                  ┆ count │\n",
       "│ ---                             ┆ ---   │\n",
       "│ str                             ┆ u32   │\n",
       "╞═════════════════════════════════╪═══════╡\n",
       "│ Dana-farber Cancer Institute    ┆ 323   │\n",
       "│ Massachusetts Eye & Ear Infirm… ┆ 337   │\n",
       "│ Massachusetts General Hospital  ┆ 321   │\n",
       "│ Jewish Memorial Hospital        ┆ 315   │\n",
       "│ Shriners Burns Institute        ┆ 341   │\n",
       "│ …                               ┆ …     │\n",
       "│ Boston City Hospital            ┆ 330   │\n",
       "│ St. Elizabeth's Hospital        ┆ 302   │\n",
       "│ Arbour Hospital                 ┆ 327   │\n",
       "│ Lemuel Shattuck Hospital        ┆ 313   │\n",
       "│ Brigham And Women's Hospital    ┆ 334   │\n",
       "└─────────────────────────────────┴───────┘"
      ]
     },
     "execution_count": 14,
     "metadata": {},
     "output_type": "execute_result"
    }
   ],
   "source": [
    "df_datos.group_by(\"Institute Name\").agg(count = pl.len())"
   ]
  },
  {
   "cell_type": "code",
   "execution_count": 17,
   "id": "6405212e",
   "metadata": {},
   "outputs": [
    {
     "data": {
      "text/html": [
       "<div><style>\n",
       ".dataframe > thead > tr,\n",
       ".dataframe > tbody > tr {\n",
       "  text-align: right;\n",
       "  white-space: pre-wrap;\n",
       "}\n",
       "</style>\n",
       "<small>shape: (56, 3)</small><table border=\"1\" class=\"dataframe\"><thead><tr><th>Institute Name</th><th>Status</th><th>len</th></tr><tr><td>str</td><td>str</td><td>u32</td></tr></thead><tbody><tr><td>null</td><td>&quot;Deceased&quot;</td><td>2542</td></tr><tr><td>null</td><td>&quot;Alive&quot;</td><td>2564</td></tr><tr><td>&quot;Arbour Hospital&quot;</td><td>&quot;Alive&quot;</td><td>165</td></tr><tr><td>&quot;Arbour Hospital&quot;</td><td>&quot;Deceased&quot;</td><td>162</td></tr><tr><td>&quot;Beth Israel Deaconess Medical …</td><td>&quot;Deceased&quot;</td><td>165</td></tr><tr><td>&hellip;</td><td>&hellip;</td><td>&hellip;</td></tr><tr><td>&quot;St. Margaret&#x27;s Hospital For Wo…</td><td>&quot;Deceased&quot;</td><td>172</td></tr><tr><td>&quot;VA Hospital&quot;</td><td>&quot;Deceased&quot;</td><td>180</td></tr><tr><td>&quot;VA Hospital&quot;</td><td>&quot;Alive&quot;</td><td>164</td></tr><tr><td>&quot;Va Hospital&quot;</td><td>&quot;Deceased&quot;</td><td>167</td></tr><tr><td>&quot;Va Hospital&quot;</td><td>&quot;Alive&quot;</td><td>145</td></tr></tbody></table></div>"
      ],
      "text/plain": [
       "shape: (56, 3)\n",
       "┌─────────────────────────────────┬──────────┬──────┐\n",
       "│ Institute Name                  ┆ Status   ┆ len  │\n",
       "│ ---                             ┆ ---      ┆ ---  │\n",
       "│ str                             ┆ str      ┆ u32  │\n",
       "╞═════════════════════════════════╪══════════╪══════╡\n",
       "│ null                            ┆ Deceased ┆ 2542 │\n",
       "│ null                            ┆ Alive    ┆ 2564 │\n",
       "│ Arbour Hospital                 ┆ Alive    ┆ 165  │\n",
       "│ Arbour Hospital                 ┆ Deceased ┆ 162  │\n",
       "│ Beth Israel Deaconess Medical … ┆ Deceased ┆ 165  │\n",
       "│ …                               ┆ …        ┆ …    │\n",
       "│ St. Margaret's Hospital For Wo… ┆ Deceased ┆ 172  │\n",
       "│ VA Hospital                     ┆ Deceased ┆ 180  │\n",
       "│ VA Hospital                     ┆ Alive    ┆ 164  │\n",
       "│ Va Hospital                     ┆ Deceased ┆ 167  │\n",
       "│ Va Hospital                     ┆ Alive    ┆ 145  │\n",
       "└─────────────────────────────────┴──────────┴──────┘"
      ]
     },
     "execution_count": 17,
     "metadata": {},
     "output_type": "execute_result"
    }
   ],
   "source": [
    "df_datos.group_by(\"Institute Name\",\"Status\").agg(pl.len()).sort(\"Institute Name\")"
   ]
  },
  {
   "cell_type": "code",
   "execution_count": 18,
   "id": "752d10ff",
   "metadata": {},
   "outputs": [
    {
     "data": {
      "text/html": [
       "<div><style>\n",
       ".dataframe > thead > tr,\n",
       ".dataframe > tbody > tr {\n",
       "  text-align: right;\n",
       "  white-space: pre-wrap;\n",
       "}\n",
       "</style>\n",
       "<small>shape: (56, 3)</small><table border=\"1\" class=\"dataframe\"><thead><tr><th>Institute Name</th><th>Status</th><th>len</th></tr><tr><td>str</td><td>str</td><td>u32</td></tr></thead><tbody><tr><td>null</td><td>&quot;Alive&quot;</td><td>2564</td></tr><tr><td>null</td><td>&quot;Deceased&quot;</td><td>2542</td></tr><tr><td>&quot;Arbour Hospital&quot;</td><td>&quot;Alive&quot;</td><td>165</td></tr><tr><td>&quot;Arbour Hospital&quot;</td><td>&quot;Deceased&quot;</td><td>162</td></tr><tr><td>&quot;Beth Israel Deaconess Medical …</td><td>&quot;Deceased&quot;</td><td>165</td></tr><tr><td>&hellip;</td><td>&hellip;</td><td>&hellip;</td></tr><tr><td>&quot;St. Margaret&#x27;s Hospital For Wo…</td><td>&quot;Deceased&quot;</td><td>172</td></tr><tr><td>&quot;VA Hospital&quot;</td><td>&quot;Deceased&quot;</td><td>180</td></tr><tr><td>&quot;VA Hospital&quot;</td><td>&quot;Alive&quot;</td><td>164</td></tr><tr><td>&quot;Va Hospital&quot;</td><td>&quot;Deceased&quot;</td><td>167</td></tr><tr><td>&quot;Va Hospital&quot;</td><td>&quot;Alive&quot;</td><td>145</td></tr></tbody></table></div>"
      ],
      "text/plain": [
       "shape: (56, 3)\n",
       "┌─────────────────────────────────┬──────────┬──────┐\n",
       "│ Institute Name                  ┆ Status   ┆ len  │\n",
       "│ ---                             ┆ ---      ┆ ---  │\n",
       "│ str                             ┆ str      ┆ u32  │\n",
       "╞═════════════════════════════════╪══════════╪══════╡\n",
       "│ null                            ┆ Alive    ┆ 2564 │\n",
       "│ null                            ┆ Deceased ┆ 2542 │\n",
       "│ Arbour Hospital                 ┆ Alive    ┆ 165  │\n",
       "│ Arbour Hospital                 ┆ Deceased ┆ 162  │\n",
       "│ Beth Israel Deaconess Medical … ┆ Deceased ┆ 165  │\n",
       "│ …                               ┆ …        ┆ …    │\n",
       "│ St. Margaret's Hospital For Wo… ┆ Deceased ┆ 172  │\n",
       "│ VA Hospital                     ┆ Deceased ┆ 180  │\n",
       "│ VA Hospital                     ┆ Alive    ┆ 164  │\n",
       "│ Va Hospital                     ┆ Deceased ┆ 167  │\n",
       "│ Va Hospital                     ┆ Alive    ┆ 145  │\n",
       "└─────────────────────────────────┴──────────┴──────┘"
      ]
     },
     "execution_count": 18,
     "metadata": {},
     "output_type": "execute_result"
    }
   ],
   "source": [
    "df_datos.group_by([\"Institute Name\",\"Status\"]).agg(pl.len()).sort(\"Institute Name\")"
   ]
  },
  {
   "cell_type": "code",
   "execution_count": 21,
   "id": "ab11bfad",
   "metadata": {},
   "outputs": [
    {
     "data": {
      "text/plain": [
       "<polars.dataframe.group_by.GroupBy at 0x771c51782900>"
      ]
     },
     "execution_count": 21,
     "metadata": {},
     "output_type": "execute_result"
    }
   ],
   "source": [
    "df_datos.group_by(\"Status\")"
   ]
  },
  {
   "cell_type": "code",
   "execution_count": 25,
   "id": "83839aed",
   "metadata": {},
   "outputs": [
    {
     "data": {
      "text/html": [
       "<div><style>\n",
       ".dataframe > thead > tr,\n",
       ".dataframe > tbody > tr {\n",
       "  text-align: right;\n",
       "  white-space: pre-wrap;\n",
       "}\n",
       "</style>\n",
       "<small>shape: (2, 4)</small><table border=\"1\" class=\"dataframe\"><thead><tr><th>Status</th><th>Patient Age</th><th>len</th><th>Blood cell count (mcL)</th></tr><tr><td>str</td><td>f64</td><td>u32</td><td>f64</td></tr></thead><tbody><tr><td>&quot;Alive&quot;</td><td>7.001636</td><td>11083</td><td>4.235727</td></tr><tr><td>&quot;Deceased&quot;</td><td>6.946312</td><td>11000</td><td>4.092727</td></tr></tbody></table></div>"
      ],
      "text/plain": [
       "shape: (2, 4)\n",
       "┌──────────┬─────────────┬───────┬────────────────────────┐\n",
       "│ Status   ┆ Patient Age ┆ len   ┆ Blood cell count (mcL) │\n",
       "│ ---      ┆ ---         ┆ ---   ┆ ---                    │\n",
       "│ str      ┆ f64         ┆ u32   ┆ f64                    │\n",
       "╞══════════╪═════════════╪═══════╪════════════════════════╡\n",
       "│ Alive    ┆ 7.001636    ┆ 11083 ┆ 4.235727               │\n",
       "│ Deceased ┆ 6.946312    ┆ 11000 ┆ 4.092727               │\n",
       "└──────────┴─────────────┴───────┴────────────────────────┘"
      ]
     },
     "execution_count": 25,
     "metadata": {},
     "output_type": "execute_result"
    }
   ],
   "source": [
    "df_datos.group_by(\"Status\").agg( pl.col(\"Patient Age\").mean())\n",
    "df_datos.group_by(\"Status\").agg( pl.col(\"Patient Age\").mean(), pl.len(), pl.col(\"Blood cell count (mcL)\").min())"
   ]
  },
  {
   "cell_type": "code",
   "execution_count": 24,
   "id": "d1b49031",
   "metadata": {},
   "outputs": [
    {
     "data": {
      "text/html": [
       "<div><style>\n",
       ".dataframe > thead > tr,\n",
       ".dataframe > tbody > tr {\n",
       "  text-align: right;\n",
       "  white-space: pre-wrap;\n",
       "}\n",
       "</style>\n",
       "<small>shape: (22_083, 45)</small><table border=\"1\" class=\"dataframe\"><thead><tr><th>Patient Id</th><th>Patient Age</th><th>Genes in mother&#x27;s side</th><th>Inherited from father</th><th>Maternal gene</th><th>Paternal gene</th><th>Blood cell count (mcL)</th><th>Patient First Name</th><th>Family Name</th><th>Father&#x27;s name</th><th>Mother&#x27;s age</th><th>Father&#x27;s age</th><th>Institute Name</th><th>Location of Institute</th><th>Status</th><th>Respiratory Rate (breaths/min)</th><th>Heart Rate (rates/min</th><th>Test 1</th><th>Test 2</th><th>Test 3</th><th>Test 4</th><th>Test 5</th><th>Parental consent</th><th>Follow-up</th><th>Gender</th><th>Birth asphyxia</th><th>Autopsy shows birth defect (if applicable)</th><th>Place of birth</th><th>Folic acid details (peri-conceptional)</th><th>H/O serious maternal illness</th><th>H/O radiation exposure (x-ray)</th><th>H/O substance abuse</th><th>Assisted conception IVF/ART</th><th>History of anomalies in previous pregnancies</th><th>No. of previous abortion</th><th>Birth defects</th><th>White Blood cell count (thousand per microliter)</th><th>Blood test result</th><th>Symptom 1</th><th>Symptom 2</th><th>Symptom 3</th><th>Symptom 4</th><th>Symptom 5</th><th>Genetic Disorder</th><th>Disorder Subclass</th></tr><tr><td>str</td><td>f64</td><td>str</td><td>str</td><td>str</td><td>str</td><td>f64</td><td>str</td><td>str</td><td>str</td><td>f64</td><td>f64</td><td>str</td><td>str</td><td>str</td><td>str</td><td>str</td><td>f64</td><td>f64</td><td>f64</td><td>f64</td><td>f64</td><td>str</td><td>str</td><td>str</td><td>str</td><td>str</td><td>str</td><td>str</td><td>str</td><td>str</td><td>str</td><td>str</td><td>str</td><td>f64</td><td>str</td><td>f64</td><td>str</td><td>f64</td><td>f64</td><td>f64</td><td>f64</td><td>f64</td><td>str</td><td>str</td></tr></thead><tbody><tr><td>&quot;PID0x6418&quot;</td><td>2.0</td><td>&quot;Yes&quot;</td><td>&quot;No&quot;</td><td>&quot;Yes&quot;</td><td>&quot;No&quot;</td><td>4.760603</td><td>&quot;Richard&quot;</td><td>null</td><td>&quot;Larre&quot;</td><td>null</td><td>null</td><td>&quot;Boston Specialty &amp; Rehabilitat…</td><td>&quot;55 FRUIT ST\n",
       "CENTRAL, MA 02114\n",
       "…</td><td>&quot;Alive&quot;</td><td>&quot;Normal (30-60)&quot;</td><td>&quot;Normal&quot;</td><td>0.0</td><td>null</td><td>null</td><td>1.0</td><td>0.0</td><td>&quot;Yes&quot;</td><td>&quot;High&quot;</td><td>null</td><td>null</td><td>&quot;Not applicable&quot;</td><td>&quot;Institute&quot;</td><td>&quot;No&quot;</td><td>null</td><td>&quot;No&quot;</td><td>&quot;No&quot;</td><td>&quot;No&quot;</td><td>&quot;Yes&quot;</td><td>null</td><td>null</td><td>9.857562</td><td>null</td><td>1.0</td><td>1.0</td><td>1.0</td><td>1.0</td><td>1.0</td><td>&quot;Mitochondrial genetic inherita…</td><td>&quot;Leber&#x27;s hereditary optic neuro…</td></tr><tr><td>&quot;PID0x25d5&quot;</td><td>4.0</td><td>&quot;Yes&quot;</td><td>&quot;Yes&quot;</td><td>&quot;No&quot;</td><td>&quot;No&quot;</td><td>4.910669</td><td>&quot;Mike&quot;</td><td>null</td><td>&quot;Brycen&quot;</td><td>null</td><td>23.0</td><td>&quot;St. Margaret&#x27;s Hospital For Wo…</td><td>&quot;1515 COMMONWEALTH AV\n",
       "ALLSTON/B…</td><td>&quot;Deceased&quot;</td><td>&quot;Tachypnea&quot;</td><td>&quot;Normal&quot;</td><td>null</td><td>0.0</td><td>0.0</td><td>1.0</td><td>0.0</td><td>&quot;Yes&quot;</td><td>&quot;High&quot;</td><td>null</td><td>&quot;No&quot;</td><td>&quot;None&quot;</td><td>null</td><td>&quot;Yes&quot;</td><td>&quot;Yes&quot;</td><td>&quot;Not applicable&quot;</td><td>&quot;Not applicable&quot;</td><td>&quot;No&quot;</td><td>&quot;Yes&quot;</td><td>null</td><td>&quot;Multiple&quot;</td><td>5.52256</td><td>&quot;normal&quot;</td><td>1.0</td><td>null</td><td>1.0</td><td>1.0</td><td>0.0</td><td>null</td><td>&quot;Cystic fibrosis&quot;</td></tr><tr><td>&quot;PID0x4a82&quot;</td><td>6.0</td><td>&quot;Yes&quot;</td><td>&quot;No&quot;</td><td>&quot;No&quot;</td><td>&quot;No&quot;</td><td>4.893297</td><td>&quot;Kimberly&quot;</td><td>null</td><td>&quot;Nashon&quot;</td><td>41.0</td><td>22.0</td><td>null</td><td>&quot;-&quot;</td><td>&quot;Alive&quot;</td><td>&quot;Normal (30-60)&quot;</td><td>&quot;Tachycardia&quot;</td><td>0.0</td><td>0.0</td><td>0.0</td><td>1.0</td><td>0.0</td><td>&quot;Yes&quot;</td><td>&quot;Low&quot;</td><td>null</td><td>&quot;No record&quot;</td><td>&quot;Not applicable&quot;</td><td>null</td><td>&quot;Yes&quot;</td><td>&quot;No&quot;</td><td>&quot;Yes&quot;</td><td>null</td><td>&quot;Yes&quot;</td><td>&quot;Yes&quot;</td><td>4.0</td><td>&quot;Singular&quot;</td><td>null</td><td>&quot;normal&quot;</td><td>0.0</td><td>1.0</td><td>1.0</td><td>1.0</td><td>1.0</td><td>&quot;Multifactorial genetic inherit…</td><td>&quot;Diabetes&quot;</td></tr><tr><td>&quot;PID0x4ac8&quot;</td><td>12.0</td><td>&quot;Yes&quot;</td><td>&quot;No&quot;</td><td>&quot;Yes&quot;</td><td>&quot;No&quot;</td><td>4.70528</td><td>&quot;Jeffery&quot;</td><td>&quot;Hoelscher&quot;</td><td>&quot;Aayaan&quot;</td><td>21.0</td><td>null</td><td>null</td><td>&quot;55 FRUIT ST\n",
       "CENTRAL, MA 02114\n",
       "…</td><td>&quot;Deceased&quot;</td><td>&quot;Tachypnea&quot;</td><td>&quot;Normal&quot;</td><td>0.0</td><td>0.0</td><td>0.0</td><td>1.0</td><td>0.0</td><td>&quot;Yes&quot;</td><td>&quot;High&quot;</td><td>&quot;Male&quot;</td><td>&quot;Not available&quot;</td><td>&quot;No&quot;</td><td>&quot;Institute&quot;</td><td>&quot;No&quot;</td><td>&quot;Yes&quot;</td><td>&quot;-&quot;</td><td>&quot;Not applicable&quot;</td><td>null</td><td>&quot;Yes&quot;</td><td>1.0</td><td>&quot;Singular&quot;</td><td>7.919321</td><td>&quot;inconclusive&quot;</td><td>0.0</td><td>0.0</td><td>1.0</td><td>0.0</td><td>0.0</td><td>&quot;Mitochondrial genetic inherita…</td><td>&quot;Leigh syndrome&quot;</td></tr><tr><td>&quot;PID0x1bf7&quot;</td><td>11.0</td><td>&quot;Yes&quot;</td><td>&quot;No&quot;</td><td>null</td><td>&quot;Yes&quot;</td><td>4.720703</td><td>&quot;Johanna&quot;</td><td>&quot;Stutzman&quot;</td><td>&quot;Suave&quot;</td><td>32.0</td><td>null</td><td>&quot;Carney Hospital&quot;</td><td>&quot;300 LONGWOOD AV\n",
       "FENWAY/KENMORE…</td><td>&quot;Alive&quot;</td><td>&quot;Tachypnea&quot;</td><td>&quot;Tachycardia&quot;</td><td>0.0</td><td>0.0</td><td>0.0</td><td>1.0</td><td>0.0</td><td>null</td><td>&quot;Low&quot;</td><td>&quot;Male&quot;</td><td>&quot;Not available&quot;</td><td>&quot;Not applicable&quot;</td><td>&quot;Institute&quot;</td><td>&quot;No&quot;</td><td>&quot;Yes&quot;</td><td>&quot;-&quot;</td><td>&quot;Not applicable&quot;</td><td>&quot;Yes&quot;</td><td>&quot;No&quot;</td><td>4.0</td><td>&quot;Multiple&quot;</td><td>4.09821</td><td>null</td><td>0.0</td><td>0.0</td><td>0.0</td><td>0.0</td><td>null</td><td>&quot;Multifactorial genetic inherit…</td><td>&quot;Cancer&quot;</td></tr><tr><td>&hellip;</td><td>&hellip;</td><td>&hellip;</td><td>&hellip;</td><td>&hellip;</td><td>&hellip;</td><td>&hellip;</td><td>&hellip;</td><td>&hellip;</td><td>&hellip;</td><td>&hellip;</td><td>&hellip;</td><td>&hellip;</td><td>&hellip;</td><td>&hellip;</td><td>&hellip;</td><td>&hellip;</td><td>&hellip;</td><td>&hellip;</td><td>&hellip;</td><td>&hellip;</td><td>&hellip;</td><td>&hellip;</td><td>&hellip;</td><td>&hellip;</td><td>&hellip;</td><td>&hellip;</td><td>&hellip;</td><td>&hellip;</td><td>&hellip;</td><td>&hellip;</td><td>&hellip;</td><td>&hellip;</td><td>&hellip;</td><td>&hellip;</td><td>&hellip;</td><td>&hellip;</td><td>&hellip;</td><td>&hellip;</td><td>&hellip;</td><td>&hellip;</td><td>&hellip;</td><td>&hellip;</td><td>&hellip;</td><td>&hellip;</td></tr><tr><td>&quot;PID0x5598&quot;</td><td>4.0</td><td>&quot;Yes&quot;</td><td>&quot;Yes&quot;</td><td>&quot;Yes&quot;</td><td>&quot;No&quot;</td><td>5.258298</td><td>&quot;Lynn&quot;</td><td>null</td><td>&quot;Alhassane&quot;</td><td>35.0</td><td>64.0</td><td>&quot;Franciscan Children&#x27;s&nbsp;&nbsp;Hospita…</td><td>&quot;1153 CENTRE ST\n",
       "JAMAICA PLAIN, …</td><td>&quot;Deceased&quot;</td><td>&quot;Normal (30-60)&quot;</td><td>&quot;Tachycardia&quot;</td><td>null</td><td>0.0</td><td>null</td><td>1.0</td><td>0.0</td><td>&quot;Yes&quot;</td><td>&quot;High&quot;</td><td>&quot;Female&quot;</td><td>&quot;No&quot;</td><td>&quot;No&quot;</td><td>&quot;Institute&quot;</td><td>null</td><td>&quot;No&quot;</td><td>&quot;Not applicable&quot;</td><td>&quot;No&quot;</td><td>&quot;Yes&quot;</td><td>&quot;No&quot;</td><td>3.0</td><td>&quot;Multiple&quot;</td><td>6.584811</td><td>&quot;inconclusive&quot;</td><td>0.0</td><td>0.0</td><td>1.0</td><td>0.0</td><td>0.0</td><td>&quot;Mitochondrial genetic inherita…</td><td>&quot;Leigh syndrome&quot;</td></tr><tr><td>&quot;PID0x19cb&quot;</td><td>8.0</td><td>&quot;No&quot;</td><td>&quot;Yes&quot;</td><td>&quot;No&quot;</td><td>&quot;Yes&quot;</td><td>4.97422</td><td>&quot;Matthew&quot;</td><td>&quot;Farley&quot;</td><td>&quot;Dartanion&quot;</td><td>null</td><td>56.0</td><td>&quot;Faulkner Hospital&quot;</td><td>&quot;170 MORTON ST\n",
       "ROSLINDALE, MA 0…</td><td>&quot;Alive&quot;</td><td>&quot;Normal (30-60)&quot;</td><td>&quot;Normal&quot;</td><td>null</td><td>0.0</td><td>null</td><td>1.0</td><td>null</td><td>null</td><td>&quot;High&quot;</td><td>&quot;Ambiguous&quot;</td><td>&quot;No&quot;</td><td>&quot;Not applicable&quot;</td><td>&quot;Institute&quot;</td><td>&quot;Yes&quot;</td><td>&quot;Yes&quot;</td><td>&quot;No&quot;</td><td>&quot;-&quot;</td><td>&quot;Yes&quot;</td><td>&quot;No&quot;</td><td>2.0</td><td>&quot;Multiple&quot;</td><td>7.041556</td><td>&quot;inconclusive&quot;</td><td>1.0</td><td>1.0</td><td>1.0</td><td>1.0</td><td>0.0</td><td>&quot;Multifactorial genetic inherit…</td><td>&quot;Diabetes&quot;</td></tr><tr><td>&quot;PID0x3c4f&quot;</td><td>8.0</td><td>&quot;Yes&quot;</td><td>&quot;No&quot;</td><td>&quot;Yes&quot;</td><td>&quot;No&quot;</td><td>5.18647</td><td>&quot;John&quot;</td><td>null</td><td>&quot;Cavani&quot;</td><td>35.0</td><td>51.0</td><td>&quot;Not applicable&quot;</td><td>&quot;-&quot;</td><td>&quot;Deceased&quot;</td><td>&quot;Tachypnea&quot;</td><td>&quot;Normal&quot;</td><td>0.0</td><td>0.0</td><td>0.0</td><td>1.0</td><td>null</td><td>&quot;Yes&quot;</td><td>&quot;High&quot;</td><td>&quot;Male&quot;</td><td>&quot;No&quot;</td><td>&quot;None&quot;</td><td>&quot;Home&quot;</td><td>&quot;No&quot;</td><td>&quot;No&quot;</td><td>null</td><td>&quot;No&quot;</td><td>&quot;No&quot;</td><td>&quot;No&quot;</td><td>2.0</td><td>&quot;Singular&quot;</td><td>7.715464</td><td>&quot;normal&quot;</td><td>0.0</td><td>0.0</td><td>0.0</td><td>1.0</td><td>null</td><td>&quot;Mitochondrial genetic inherita…</td><td>&quot;Mitochondrial myopathy&quot;</td></tr><tr><td>&quot;PID0x13a&quot;</td><td>7.0</td><td>&quot;Yes&quot;</td><td>&quot;No&quot;</td><td>&quot;Yes&quot;</td><td>&quot;Yes&quot;</td><td>4.858543</td><td>&quot;Sharon&quot;</td><td>null</td><td>&quot;Bomer&quot;</td><td>19.0</td><td>null</td><td>&quot;Not applicable&quot;</td><td>&quot;-&quot;</td><td>&quot;Alive&quot;</td><td>&quot;Tachypnea&quot;</td><td>&quot;Tachycardia&quot;</td><td>0.0</td><td>0.0</td><td>0.0</td><td>1.0</td><td>0.0</td><td>&quot;Yes&quot;</td><td>&quot;High&quot;</td><td>&quot;Male&quot;</td><td>&quot;No record&quot;</td><td>&quot;Not applicable&quot;</td><td>&quot;Home&quot;</td><td>&quot;Yes&quot;</td><td>&quot;Yes&quot;</td><td>&quot;-&quot;</td><td>&quot;Yes&quot;</td><td>&quot;Yes&quot;</td><td>&quot;No&quot;</td><td>1.0</td><td>&quot;Multiple&quot;</td><td>8.43767</td><td>&quot;abnormal&quot;</td><td>1.0</td><td>1.0</td><td>1.0</td><td>0.0</td><td>0.0</td><td>null</td><td>&quot;Leigh syndrome&quot;</td></tr><tr><td>&quot;PID0x9332&quot;</td><td>11.0</td><td>&quot;Yes&quot;</td><td>&quot;No&quot;</td><td>&quot;No&quot;</td><td>&quot;No&quot;</td><td>4.738067</td><td>&quot;Andrew&quot;</td><td>&quot;Mose&quot;</td><td>&quot;Eban&quot;</td><td>32.0</td><td>62.0</td><td>&quot;Hebrew Rehabilitation Center&quot;</td><td>&quot;300 LONGWOOD AV\n",
       "FENWAY/KENMORE…</td><td>&quot;Deceased&quot;</td><td>&quot;Normal (30-60)&quot;</td><td>&quot;Normal&quot;</td><td>0.0</td><td>0.0</td><td>0.0</td><td>1.0</td><td>0.0</td><td>&quot;Yes&quot;</td><td>&quot;High&quot;</td><td>&quot;Female&quot;</td><td>&quot;Yes&quot;</td><td>&quot;None&quot;</td><td>&quot;Institute&quot;</td><td>&quot;Yes&quot;</td><td>&quot;Yes&quot;</td><td>&quot;Not applicable&quot;</td><td>&quot;No&quot;</td><td>&quot;Yes&quot;</td><td>&quot;Yes&quot;</td><td>4.0</td><td>&quot;Singular&quot;</td><td>11.188371</td><td>&quot;normal&quot;</td><td>1.0</td><td>0.0</td><td>1.0</td><td>1.0</td><td>1.0</td><td>&quot;Multifactorial genetic inherit…</td><td>&quot;Diabetes&quot;</td></tr></tbody></table></div>"
      ],
      "text/plain": [
       "shape: (22_083, 45)\n",
       "┌───────────┬───────────┬───────────┬───────────┬───┬───────────┬───────────┬───────────┬──────────┐\n",
       "│ Patient   ┆ Patient   ┆ Genes in  ┆ Inherited ┆ … ┆ Symptom 4 ┆ Symptom 5 ┆ Genetic   ┆ Disorder │\n",
       "│ Id        ┆ Age       ┆ mother's  ┆ from      ┆   ┆ ---       ┆ ---       ┆ Disorder  ┆ Subclass │\n",
       "│ ---       ┆ ---       ┆ side      ┆ father    ┆   ┆ f64       ┆ f64       ┆ ---       ┆ ---      │\n",
       "│ str       ┆ f64       ┆ ---       ┆ ---       ┆   ┆           ┆           ┆ str       ┆ str      │\n",
       "│           ┆           ┆ str       ┆ str       ┆   ┆           ┆           ┆           ┆          │\n",
       "╞═══════════╪═══════════╪═══════════╪═══════════╪═══╪═══════════╪═══════════╪═══════════╪══════════╡\n",
       "│ PID0x6418 ┆ 2.0       ┆ Yes       ┆ No        ┆ … ┆ 1.0       ┆ 1.0       ┆ Mitochond ┆ Leber's  │\n",
       "│           ┆           ┆           ┆           ┆   ┆           ┆           ┆ rial      ┆ heredita │\n",
       "│           ┆           ┆           ┆           ┆   ┆           ┆           ┆ genetic   ┆ ry optic │\n",
       "│           ┆           ┆           ┆           ┆   ┆           ┆           ┆ inherita… ┆ neuro…   │\n",
       "│ PID0x25d5 ┆ 4.0       ┆ Yes       ┆ Yes       ┆ … ┆ 1.0       ┆ 0.0       ┆ null      ┆ Cystic   │\n",
       "│           ┆           ┆           ┆           ┆   ┆           ┆           ┆           ┆ fibrosis │\n",
       "│ PID0x4a82 ┆ 6.0       ┆ Yes       ┆ No        ┆ … ┆ 1.0       ┆ 1.0       ┆ Multifact ┆ Diabetes │\n",
       "│           ┆           ┆           ┆           ┆   ┆           ┆           ┆ orial     ┆          │\n",
       "│           ┆           ┆           ┆           ┆   ┆           ┆           ┆ genetic   ┆          │\n",
       "│           ┆           ┆           ┆           ┆   ┆           ┆           ┆ inherit…  ┆          │\n",
       "│ PID0x4ac8 ┆ 12.0      ┆ Yes       ┆ No        ┆ … ┆ 0.0       ┆ 0.0       ┆ Mitochond ┆ Leigh    │\n",
       "│           ┆           ┆           ┆           ┆   ┆           ┆           ┆ rial      ┆ syndrome │\n",
       "│           ┆           ┆           ┆           ┆   ┆           ┆           ┆ genetic   ┆          │\n",
       "│           ┆           ┆           ┆           ┆   ┆           ┆           ┆ inherita… ┆          │\n",
       "│ PID0x1bf7 ┆ 11.0      ┆ Yes       ┆ No        ┆ … ┆ 0.0       ┆ null      ┆ Multifact ┆ Cancer   │\n",
       "│           ┆           ┆           ┆           ┆   ┆           ┆           ┆ orial     ┆          │\n",
       "│           ┆           ┆           ┆           ┆   ┆           ┆           ┆ genetic   ┆          │\n",
       "│           ┆           ┆           ┆           ┆   ┆           ┆           ┆ inherit…  ┆          │\n",
       "│ …         ┆ …         ┆ …         ┆ …         ┆ … ┆ …         ┆ …         ┆ …         ┆ …        │\n",
       "│ PID0x5598 ┆ 4.0       ┆ Yes       ┆ Yes       ┆ … ┆ 0.0       ┆ 0.0       ┆ Mitochond ┆ Leigh    │\n",
       "│           ┆           ┆           ┆           ┆   ┆           ┆           ┆ rial      ┆ syndrome │\n",
       "│           ┆           ┆           ┆           ┆   ┆           ┆           ┆ genetic   ┆          │\n",
       "│           ┆           ┆           ┆           ┆   ┆           ┆           ┆ inherita… ┆          │\n",
       "│ PID0x19cb ┆ 8.0       ┆ No        ┆ Yes       ┆ … ┆ 1.0       ┆ 0.0       ┆ Multifact ┆ Diabetes │\n",
       "│           ┆           ┆           ┆           ┆   ┆           ┆           ┆ orial     ┆          │\n",
       "│           ┆           ┆           ┆           ┆   ┆           ┆           ┆ genetic   ┆          │\n",
       "│           ┆           ┆           ┆           ┆   ┆           ┆           ┆ inherit…  ┆          │\n",
       "│ PID0x3c4f ┆ 8.0       ┆ Yes       ┆ No        ┆ … ┆ 1.0       ┆ null      ┆ Mitochond ┆ Mitochon │\n",
       "│           ┆           ┆           ┆           ┆   ┆           ┆           ┆ rial      ┆ drial    │\n",
       "│           ┆           ┆           ┆           ┆   ┆           ┆           ┆ genetic   ┆ myopathy │\n",
       "│           ┆           ┆           ┆           ┆   ┆           ┆           ┆ inherita… ┆          │\n",
       "│ PID0x13a  ┆ 7.0       ┆ Yes       ┆ No        ┆ … ┆ 0.0       ┆ 0.0       ┆ null      ┆ Leigh    │\n",
       "│           ┆           ┆           ┆           ┆   ┆           ┆           ┆           ┆ syndrome │\n",
       "│ PID0x9332 ┆ 11.0      ┆ Yes       ┆ No        ┆ … ┆ 1.0       ┆ 1.0       ┆ Multifact ┆ Diabetes │\n",
       "│           ┆           ┆           ┆           ┆   ┆           ┆           ┆ orial     ┆          │\n",
       "│           ┆           ┆           ┆           ┆   ┆           ┆           ┆ genetic   ┆          │\n",
       "│           ┆           ┆           ┆           ┆   ┆           ┆           ┆ inherit…  ┆          │\n",
       "└───────────┴───────────┴───────────┴───────────┴───┴───────────┴───────────┴───────────┴──────────┘"
      ]
     },
     "execution_count": 24,
     "metadata": {},
     "output_type": "execute_result"
    }
   ],
   "source": [
    "df_datos"
   ]
  },
  {
   "cell_type": "code",
   "execution_count": 27,
   "id": "3fc8aac2",
   "metadata": {},
   "outputs": [
    {
     "data": {
      "text/html": [
       "<div><style>\n",
       ".dataframe > thead > tr,\n",
       ".dataframe > tbody > tr {\n",
       "  text-align: right;\n",
       "  white-space: pre-wrap;\n",
       "}\n",
       "</style>\n",
       "<small>shape: (2, 4)</small><table border=\"1\" class=\"dataframe\"><thead><tr><th>Status</th><th>Patient Age</th><th>len</th><th>Blood cell count (mcL)</th></tr><tr><td>str</td><td>f64</td><td>u32</td><td>f64</td></tr></thead><tbody><tr><td>&quot;Alive&quot;</td><td>7.001636</td><td>11083</td><td>4.235727</td></tr><tr><td>&quot;Deceased&quot;</td><td>6.946312</td><td>11000</td><td>4.092727</td></tr></tbody></table></div>"
      ],
      "text/plain": [
       "shape: (2, 4)\n",
       "┌──────────┬─────────────┬───────┬────────────────────────┐\n",
       "│ Status   ┆ Patient Age ┆ len   ┆ Blood cell count (mcL) │\n",
       "│ ---      ┆ ---         ┆ ---   ┆ ---                    │\n",
       "│ str      ┆ f64         ┆ u32   ┆ f64                    │\n",
       "╞══════════╪═════════════╪═══════╪════════════════════════╡\n",
       "│ Alive    ┆ 7.001636    ┆ 11083 ┆ 4.235727               │\n",
       "│ Deceased ┆ 6.946312    ┆ 11000 ┆ 4.092727               │\n",
       "└──────────┴─────────────┴───────┴────────────────────────┘"
      ]
     },
     "execution_count": 27,
     "metadata": {},
     "output_type": "execute_result"
    }
   ],
   "source": [
    "(df_datos\n",
    " .group_by(\"Status\")\n",
    " .agg(pl.col(\"Patient Age\").mean(), \n",
    "       pl.len(), \n",
    "       pl.col(\"Blood cell count (mcL)\").min())\n",
    " \n",
    " )"
   ]
  },
  {
   "cell_type": "code",
   "execution_count": 28,
   "id": "f68bcffa",
   "metadata": {},
   "outputs": [
    {
     "data": {
      "text/html": [
       "<div><style>\n",
       ".dataframe > thead > tr,\n",
       ".dataframe > tbody > tr {\n",
       "  text-align: right;\n",
       "  white-space: pre-wrap;\n",
       "}\n",
       "</style>\n",
       "<small>shape: (2, 2)</small><table border=\"1\" class=\"dataframe\"><thead><tr><th>Status</th><th>Patient Age</th></tr><tr><td>str</td><td>f64</td></tr></thead><tbody><tr><td>&quot;Alive&quot;</td><td>7.001636</td></tr><tr><td>&quot;Deceased&quot;</td><td>6.946312</td></tr></tbody></table></div>"
      ],
      "text/plain": [
       "shape: (2, 2)\n",
       "┌──────────┬─────────────┐\n",
       "│ Status   ┆ Patient Age │\n",
       "│ ---      ┆ ---         │\n",
       "│ str      ┆ f64         │\n",
       "╞══════════╪═════════════╡\n",
       "│ Alive    ┆ 7.001636    │\n",
       "│ Deceased ┆ 6.946312    │\n",
       "└──────────┴─────────────┘"
      ]
     },
     "execution_count": 28,
     "metadata": {},
     "output_type": "execute_result"
    }
   ],
   "source": [
    "(df_datos\n",
    " .group_by(\"Status\")\n",
    " .agg(pl.col(\"Patient Age\").mean())\n",
    " \n",
    " )"
   ]
  },
  {
   "cell_type": "code",
   "execution_count": 29,
   "id": "55805cd8",
   "metadata": {},
   "outputs": [
    {
     "data": {
      "text/html": [
       "<div><style>\n",
       ".dataframe > thead > tr,\n",
       ".dataframe > tbody > tr {\n",
       "  text-align: right;\n",
       "  white-space: pre-wrap;\n",
       "}\n",
       "</style>\n",
       "<small>shape: (2, 2)</small><table border=\"1\" class=\"dataframe\"><thead><tr><th>Status</th><th>Patient Age</th></tr><tr><td>str</td><td>f64</td></tr></thead><tbody><tr><td>&quot;Alive&quot;</td><td>0.0</td></tr><tr><td>&quot;Deceased&quot;</td><td>0.0</td></tr></tbody></table></div>"
      ],
      "text/plain": [
       "shape: (2, 2)\n",
       "┌──────────┬─────────────┐\n",
       "│ Status   ┆ Patient Age │\n",
       "│ ---      ┆ ---         │\n",
       "│ str      ┆ f64         │\n",
       "╞══════════╪═════════════╡\n",
       "│ Alive    ┆ 0.0         │\n",
       "│ Deceased ┆ 0.0         │\n",
       "└──────────┴─────────────┘"
      ]
     },
     "execution_count": 29,
     "metadata": {},
     "output_type": "execute_result"
    }
   ],
   "source": [
    "(df_datos\n",
    " .group_by(\"Status\")\n",
    " .agg(pl.col(\"Patient Age\").min())\n",
    " \n",
    " )"
   ]
  },
  {
   "cell_type": "code",
   "execution_count": 31,
   "id": "bccfbcf0",
   "metadata": {},
   "outputs": [
    {
     "data": {
      "text/html": [
       "<div><style>\n",
       ".dataframe > thead > tr,\n",
       ".dataframe > tbody > tr {\n",
       "  text-align: right;\n",
       "  white-space: pre-wrap;\n",
       "}\n",
       "</style>\n",
       "<small>shape: (2, 4)</small><table border=\"1\" class=\"dataframe\"><thead><tr><th>Status</th><th>mean_age</th><th>min_age</th><th>max_age</th></tr><tr><td>str</td><td>f64</td><td>f64</td><td>f64</td></tr></thead><tbody><tr><td>&quot;Deceased&quot;</td><td>6.946312</td><td>0.0</td><td>14.0</td></tr><tr><td>&quot;Alive&quot;</td><td>7.001636</td><td>0.0</td><td>14.0</td></tr></tbody></table></div>"
      ],
      "text/plain": [
       "shape: (2, 4)\n",
       "┌──────────┬──────────┬─────────┬─────────┐\n",
       "│ Status   ┆ mean_age ┆ min_age ┆ max_age │\n",
       "│ ---      ┆ ---      ┆ ---     ┆ ---     │\n",
       "│ str      ┆ f64      ┆ f64     ┆ f64     │\n",
       "╞══════════╪══════════╪═════════╪═════════╡\n",
       "│ Deceased ┆ 6.946312 ┆ 0.0     ┆ 14.0    │\n",
       "│ Alive    ┆ 7.001636 ┆ 0.0     ┆ 14.0    │\n",
       "└──────────┴──────────┴─────────┴─────────┘"
      ]
     },
     "execution_count": 31,
     "metadata": {},
     "output_type": "execute_result"
    }
   ],
   "source": [
    "(df_datos\n",
    " .group_by(\"Status\")\n",
    " .agg(mean_age = pl.col(\"Patient Age\").mean(),\n",
    "      min_age = pl.col(\"Patient Age\").min(),\n",
    "      max_age = pl.col(\"Patient Age\").max()\n",
    "      )\n",
    " )"
   ]
  },
  {
   "cell_type": "code",
   "execution_count": 34,
   "id": "3930dc8a",
   "metadata": {},
   "outputs": [
    {
     "data": {
      "text/html": [
       "<div><style>\n",
       ".dataframe > thead > tr,\n",
       ".dataframe > tbody > tr {\n",
       "  text-align: right;\n",
       "  white-space: pre-wrap;\n",
       "}\n",
       "</style>\n",
       "<small>shape: (2, 4)</small><table border=\"1\" class=\"dataframe\"><thead><tr><th>Status</th><th>blood_cell_mean</th><th>blood_cell_min</th><th>blood_cell_max</th></tr><tr><td>str</td><td>f64</td><td>f64</td><td>f64</td></tr></thead><tbody><tr><td>&quot;Deceased&quot;</td><td>4.89824</td><td>4.092727</td><td>5.592451</td></tr><tr><td>&quot;Alive&quot;</td><td>4.899498</td><td>4.235727</td><td>5.609829</td></tr></tbody></table></div>"
      ],
      "text/plain": [
       "shape: (2, 4)\n",
       "┌──────────┬─────────────────┬────────────────┬────────────────┐\n",
       "│ Status   ┆ blood_cell_mean ┆ blood_cell_min ┆ blood_cell_max │\n",
       "│ ---      ┆ ---             ┆ ---            ┆ ---            │\n",
       "│ str      ┆ f64             ┆ f64            ┆ f64            │\n",
       "╞══════════╪═════════════════╪════════════════╪════════════════╡\n",
       "│ Deceased ┆ 4.89824         ┆ 4.092727       ┆ 5.592451       │\n",
       "│ Alive    ┆ 4.899498        ┆ 4.235727       ┆ 5.609829       │\n",
       "└──────────┴─────────────────┴────────────────┴────────────────┘"
      ]
     },
     "execution_count": 34,
     "metadata": {},
     "output_type": "execute_result"
    }
   ],
   "source": [
    "(df_datos\n",
    " .group_by(\"Status\")\n",
    " .agg(blood_cell_mean = pl.col(\"Blood cell count (mcL)\").mean(),\n",
    "      blood_cell_min = pl.col(\"Blood cell count (mcL)\").min(),\n",
    "      blood_cell_max = pl.col(\"Blood cell count (mcL)\").max()\n",
    "      )\n",
    " )"
   ]
  },
  {
   "cell_type": "code",
   "execution_count": 37,
   "id": "1307e350",
   "metadata": {},
   "outputs": [
    {
     "data": {
      "text/html": [
       "<div><style>\n",
       ".dataframe > thead > tr,\n",
       ".dataframe > tbody > tr {\n",
       "  text-align: right;\n",
       "  white-space: pre-wrap;\n",
       "}\n",
       "</style>\n",
       "<small>shape: (8, 4)</small><table border=\"1\" class=\"dataframe\"><thead><tr><th>Status</th><th>Genetic Disorder</th><th>len</th><th>symp_posititve</th></tr><tr><td>str</td><td>str</td><td>u32</td><td>u32</td></tr></thead><tbody><tr><td>&quot;Alive&quot;</td><td>&quot;Multifactorial genetic inherit…</td><td>1022</td><td>685</td></tr><tr><td>&quot;Alive&quot;</td><td>&quot;Single-gene inheritance diseas…</td><td>3856</td><td>1985</td></tr><tr><td>&quot;Deceased&quot;</td><td>&quot;Single-gene inheritance diseas…</td><td>3808</td><td>1977</td></tr><tr><td>&quot;Deceased&quot;</td><td>&quot;Mitochondrial genetic inherita…</td><td>5069</td><td>2598</td></tr><tr><td>&quot;Deceased&quot;</td><td>null</td><td>1074</td><td>555</td></tr><tr><td>&quot;Deceased&quot;</td><td>&quot;Multifactorial genetic inherit…</td><td>1049</td><td>721</td></tr><tr><td>&quot;Alive&quot;</td><td>&quot;Mitochondrial genetic inherita…</td><td>5133</td><td>2725</td></tr><tr><td>&quot;Alive&quot;</td><td>null</td><td>1072</td><td>561</td></tr></tbody></table></div>"
      ],
      "text/plain": [
       "shape: (8, 4)\n",
       "┌──────────┬─────────────────────────────────┬──────┬────────────────┐\n",
       "│ Status   ┆ Genetic Disorder                ┆ len  ┆ symp_posititve │\n",
       "│ ---      ┆ ---                             ┆ ---  ┆ ---            │\n",
       "│ str      ┆ str                             ┆ u32  ┆ u32            │\n",
       "╞══════════╪═════════════════════════════════╪══════╪════════════════╡\n",
       "│ Alive    ┆ Multifactorial genetic inherit… ┆ 1022 ┆ 685            │\n",
       "│ Alive    ┆ Single-gene inheritance diseas… ┆ 3856 ┆ 1985           │\n",
       "│ Deceased ┆ Single-gene inheritance diseas… ┆ 3808 ┆ 1977           │\n",
       "│ Deceased ┆ Mitochondrial genetic inherita… ┆ 5069 ┆ 2598           │\n",
       "│ Deceased ┆ null                            ┆ 1074 ┆ 555            │\n",
       "│ Deceased ┆ Multifactorial genetic inherit… ┆ 1049 ┆ 721            │\n",
       "│ Alive    ┆ Mitochondrial genetic inherita… ┆ 5133 ┆ 2725           │\n",
       "│ Alive    ┆ null                            ┆ 1072 ┆ 561            │\n",
       "└──────────┴─────────────────────────────────┴──────┴────────────────┘"
      ]
     },
     "execution_count": 37,
     "metadata": {},
     "output_type": "execute_result"
    }
   ],
   "source": [
    "(df_datos\n",
    " .group_by(\"Status\",\"Genetic Disorder\")\n",
    " .agg(pl.len(),\n",
    "      symp_posititve = (pl.col(\"Symptom 1\") == 1).sum()\n",
    "      )\n",
    " )"
   ]
  },
  {
   "cell_type": "code",
   "execution_count": 38,
   "id": "f63a0318",
   "metadata": {},
   "outputs": [
    {
     "data": {
      "text/html": [
       "<div><style>\n",
       ".dataframe > thead > tr,\n",
       ".dataframe > tbody > tr {\n",
       "  text-align: right;\n",
       "  white-space: pre-wrap;\n",
       "}\n",
       "</style>\n",
       "<small>shape: (22_083, 45)</small><table border=\"1\" class=\"dataframe\"><thead><tr><th>Patient Id</th><th>Patient Age</th><th>Genes in mother&#x27;s side</th><th>Inherited from father</th><th>Maternal gene</th><th>Paternal gene</th><th>Blood cell count (mcL)</th><th>Patient First Name</th><th>Family Name</th><th>Father&#x27;s name</th><th>Mother&#x27;s age</th><th>Father&#x27;s age</th><th>Institute Name</th><th>Location of Institute</th><th>Status</th><th>Respiratory Rate (breaths/min)</th><th>Heart Rate (rates/min</th><th>Test 1</th><th>Test 2</th><th>Test 3</th><th>Test 4</th><th>Test 5</th><th>Parental consent</th><th>Follow-up</th><th>Gender</th><th>Birth asphyxia</th><th>Autopsy shows birth defect (if applicable)</th><th>Place of birth</th><th>Folic acid details (peri-conceptional)</th><th>H/O serious maternal illness</th><th>H/O radiation exposure (x-ray)</th><th>H/O substance abuse</th><th>Assisted conception IVF/ART</th><th>History of anomalies in previous pregnancies</th><th>No. of previous abortion</th><th>Birth defects</th><th>White Blood cell count (thousand per microliter)</th><th>Blood test result</th><th>Symptom 1</th><th>Symptom 2</th><th>Symptom 3</th><th>Symptom 4</th><th>Symptom 5</th><th>Genetic Disorder</th><th>Disorder Subclass</th></tr><tr><td>str</td><td>f64</td><td>str</td><td>str</td><td>str</td><td>str</td><td>f64</td><td>str</td><td>str</td><td>str</td><td>f64</td><td>f64</td><td>str</td><td>str</td><td>str</td><td>str</td><td>str</td><td>f64</td><td>f64</td><td>f64</td><td>f64</td><td>f64</td><td>str</td><td>str</td><td>str</td><td>str</td><td>str</td><td>str</td><td>str</td><td>str</td><td>str</td><td>str</td><td>str</td><td>str</td><td>f64</td><td>str</td><td>f64</td><td>str</td><td>f64</td><td>f64</td><td>f64</td><td>f64</td><td>f64</td><td>str</td><td>str</td></tr></thead><tbody><tr><td>&quot;PID0x6418&quot;</td><td>2.0</td><td>&quot;Yes&quot;</td><td>&quot;No&quot;</td><td>&quot;Yes&quot;</td><td>&quot;No&quot;</td><td>4.760603</td><td>&quot;Richard&quot;</td><td>null</td><td>&quot;Larre&quot;</td><td>null</td><td>null</td><td>&quot;Boston Specialty &amp; Rehabilitat…</td><td>&quot;55 FRUIT ST\n",
       "CENTRAL, MA 02114\n",
       "…</td><td>&quot;Alive&quot;</td><td>&quot;Normal (30-60)&quot;</td><td>&quot;Normal&quot;</td><td>0.0</td><td>null</td><td>null</td><td>1.0</td><td>0.0</td><td>&quot;Yes&quot;</td><td>&quot;High&quot;</td><td>null</td><td>null</td><td>&quot;Not applicable&quot;</td><td>&quot;Institute&quot;</td><td>&quot;No&quot;</td><td>null</td><td>&quot;No&quot;</td><td>&quot;No&quot;</td><td>&quot;No&quot;</td><td>&quot;Yes&quot;</td><td>null</td><td>null</td><td>9.857562</td><td>null</td><td>1.0</td><td>1.0</td><td>1.0</td><td>1.0</td><td>1.0</td><td>&quot;Mitochondrial genetic inherita…</td><td>&quot;Leber&#x27;s hereditary optic neuro…</td></tr><tr><td>&quot;PID0x25d5&quot;</td><td>4.0</td><td>&quot;Yes&quot;</td><td>&quot;Yes&quot;</td><td>&quot;No&quot;</td><td>&quot;No&quot;</td><td>4.910669</td><td>&quot;Mike&quot;</td><td>null</td><td>&quot;Brycen&quot;</td><td>null</td><td>23.0</td><td>&quot;St. Margaret&#x27;s Hospital For Wo…</td><td>&quot;1515 COMMONWEALTH AV\n",
       "ALLSTON/B…</td><td>&quot;Deceased&quot;</td><td>&quot;Tachypnea&quot;</td><td>&quot;Normal&quot;</td><td>null</td><td>0.0</td><td>0.0</td><td>1.0</td><td>0.0</td><td>&quot;Yes&quot;</td><td>&quot;High&quot;</td><td>null</td><td>&quot;No&quot;</td><td>&quot;None&quot;</td><td>null</td><td>&quot;Yes&quot;</td><td>&quot;Yes&quot;</td><td>&quot;Not applicable&quot;</td><td>&quot;Not applicable&quot;</td><td>&quot;No&quot;</td><td>&quot;Yes&quot;</td><td>null</td><td>&quot;Multiple&quot;</td><td>5.52256</td><td>&quot;normal&quot;</td><td>1.0</td><td>null</td><td>1.0</td><td>1.0</td><td>0.0</td><td>null</td><td>&quot;Cystic fibrosis&quot;</td></tr><tr><td>&quot;PID0x4a82&quot;</td><td>6.0</td><td>&quot;Yes&quot;</td><td>&quot;No&quot;</td><td>&quot;No&quot;</td><td>&quot;No&quot;</td><td>4.893297</td><td>&quot;Kimberly&quot;</td><td>null</td><td>&quot;Nashon&quot;</td><td>41.0</td><td>22.0</td><td>null</td><td>&quot;-&quot;</td><td>&quot;Alive&quot;</td><td>&quot;Normal (30-60)&quot;</td><td>&quot;Tachycardia&quot;</td><td>0.0</td><td>0.0</td><td>0.0</td><td>1.0</td><td>0.0</td><td>&quot;Yes&quot;</td><td>&quot;Low&quot;</td><td>null</td><td>&quot;No record&quot;</td><td>&quot;Not applicable&quot;</td><td>null</td><td>&quot;Yes&quot;</td><td>&quot;No&quot;</td><td>&quot;Yes&quot;</td><td>null</td><td>&quot;Yes&quot;</td><td>&quot;Yes&quot;</td><td>4.0</td><td>&quot;Singular&quot;</td><td>null</td><td>&quot;normal&quot;</td><td>0.0</td><td>1.0</td><td>1.0</td><td>1.0</td><td>1.0</td><td>&quot;Multifactorial genetic inherit…</td><td>&quot;Diabetes&quot;</td></tr><tr><td>&quot;PID0x4ac8&quot;</td><td>12.0</td><td>&quot;Yes&quot;</td><td>&quot;No&quot;</td><td>&quot;Yes&quot;</td><td>&quot;No&quot;</td><td>4.70528</td><td>&quot;Jeffery&quot;</td><td>&quot;Hoelscher&quot;</td><td>&quot;Aayaan&quot;</td><td>21.0</td><td>null</td><td>null</td><td>&quot;55 FRUIT ST\n",
       "CENTRAL, MA 02114\n",
       "…</td><td>&quot;Deceased&quot;</td><td>&quot;Tachypnea&quot;</td><td>&quot;Normal&quot;</td><td>0.0</td><td>0.0</td><td>0.0</td><td>1.0</td><td>0.0</td><td>&quot;Yes&quot;</td><td>&quot;High&quot;</td><td>&quot;Male&quot;</td><td>&quot;Not available&quot;</td><td>&quot;No&quot;</td><td>&quot;Institute&quot;</td><td>&quot;No&quot;</td><td>&quot;Yes&quot;</td><td>&quot;-&quot;</td><td>&quot;Not applicable&quot;</td><td>null</td><td>&quot;Yes&quot;</td><td>1.0</td><td>&quot;Singular&quot;</td><td>7.919321</td><td>&quot;inconclusive&quot;</td><td>0.0</td><td>0.0</td><td>1.0</td><td>0.0</td><td>0.0</td><td>&quot;Mitochondrial genetic inherita…</td><td>&quot;Leigh syndrome&quot;</td></tr><tr><td>&quot;PID0x1bf7&quot;</td><td>11.0</td><td>&quot;Yes&quot;</td><td>&quot;No&quot;</td><td>null</td><td>&quot;Yes&quot;</td><td>4.720703</td><td>&quot;Johanna&quot;</td><td>&quot;Stutzman&quot;</td><td>&quot;Suave&quot;</td><td>32.0</td><td>null</td><td>&quot;Carney Hospital&quot;</td><td>&quot;300 LONGWOOD AV\n",
       "FENWAY/KENMORE…</td><td>&quot;Alive&quot;</td><td>&quot;Tachypnea&quot;</td><td>&quot;Tachycardia&quot;</td><td>0.0</td><td>0.0</td><td>0.0</td><td>1.0</td><td>0.0</td><td>null</td><td>&quot;Low&quot;</td><td>&quot;Male&quot;</td><td>&quot;Not available&quot;</td><td>&quot;Not applicable&quot;</td><td>&quot;Institute&quot;</td><td>&quot;No&quot;</td><td>&quot;Yes&quot;</td><td>&quot;-&quot;</td><td>&quot;Not applicable&quot;</td><td>&quot;Yes&quot;</td><td>&quot;No&quot;</td><td>4.0</td><td>&quot;Multiple&quot;</td><td>4.09821</td><td>null</td><td>0.0</td><td>0.0</td><td>0.0</td><td>0.0</td><td>null</td><td>&quot;Multifactorial genetic inherit…</td><td>&quot;Cancer&quot;</td></tr><tr><td>&hellip;</td><td>&hellip;</td><td>&hellip;</td><td>&hellip;</td><td>&hellip;</td><td>&hellip;</td><td>&hellip;</td><td>&hellip;</td><td>&hellip;</td><td>&hellip;</td><td>&hellip;</td><td>&hellip;</td><td>&hellip;</td><td>&hellip;</td><td>&hellip;</td><td>&hellip;</td><td>&hellip;</td><td>&hellip;</td><td>&hellip;</td><td>&hellip;</td><td>&hellip;</td><td>&hellip;</td><td>&hellip;</td><td>&hellip;</td><td>&hellip;</td><td>&hellip;</td><td>&hellip;</td><td>&hellip;</td><td>&hellip;</td><td>&hellip;</td><td>&hellip;</td><td>&hellip;</td><td>&hellip;</td><td>&hellip;</td><td>&hellip;</td><td>&hellip;</td><td>&hellip;</td><td>&hellip;</td><td>&hellip;</td><td>&hellip;</td><td>&hellip;</td><td>&hellip;</td><td>&hellip;</td><td>&hellip;</td><td>&hellip;</td></tr><tr><td>&quot;PID0x5598&quot;</td><td>4.0</td><td>&quot;Yes&quot;</td><td>&quot;Yes&quot;</td><td>&quot;Yes&quot;</td><td>&quot;No&quot;</td><td>5.258298</td><td>&quot;Lynn&quot;</td><td>null</td><td>&quot;Alhassane&quot;</td><td>35.0</td><td>64.0</td><td>&quot;Franciscan Children&#x27;s&nbsp;&nbsp;Hospita…</td><td>&quot;1153 CENTRE ST\n",
       "JAMAICA PLAIN, …</td><td>&quot;Deceased&quot;</td><td>&quot;Normal (30-60)&quot;</td><td>&quot;Tachycardia&quot;</td><td>null</td><td>0.0</td><td>null</td><td>1.0</td><td>0.0</td><td>&quot;Yes&quot;</td><td>&quot;High&quot;</td><td>&quot;Female&quot;</td><td>&quot;No&quot;</td><td>&quot;No&quot;</td><td>&quot;Institute&quot;</td><td>null</td><td>&quot;No&quot;</td><td>&quot;Not applicable&quot;</td><td>&quot;No&quot;</td><td>&quot;Yes&quot;</td><td>&quot;No&quot;</td><td>3.0</td><td>&quot;Multiple&quot;</td><td>6.584811</td><td>&quot;inconclusive&quot;</td><td>0.0</td><td>0.0</td><td>1.0</td><td>0.0</td><td>0.0</td><td>&quot;Mitochondrial genetic inherita…</td><td>&quot;Leigh syndrome&quot;</td></tr><tr><td>&quot;PID0x19cb&quot;</td><td>8.0</td><td>&quot;No&quot;</td><td>&quot;Yes&quot;</td><td>&quot;No&quot;</td><td>&quot;Yes&quot;</td><td>4.97422</td><td>&quot;Matthew&quot;</td><td>&quot;Farley&quot;</td><td>&quot;Dartanion&quot;</td><td>null</td><td>56.0</td><td>&quot;Faulkner Hospital&quot;</td><td>&quot;170 MORTON ST\n",
       "ROSLINDALE, MA 0…</td><td>&quot;Alive&quot;</td><td>&quot;Normal (30-60)&quot;</td><td>&quot;Normal&quot;</td><td>null</td><td>0.0</td><td>null</td><td>1.0</td><td>null</td><td>null</td><td>&quot;High&quot;</td><td>&quot;Ambiguous&quot;</td><td>&quot;No&quot;</td><td>&quot;Not applicable&quot;</td><td>&quot;Institute&quot;</td><td>&quot;Yes&quot;</td><td>&quot;Yes&quot;</td><td>&quot;No&quot;</td><td>&quot;-&quot;</td><td>&quot;Yes&quot;</td><td>&quot;No&quot;</td><td>2.0</td><td>&quot;Multiple&quot;</td><td>7.041556</td><td>&quot;inconclusive&quot;</td><td>1.0</td><td>1.0</td><td>1.0</td><td>1.0</td><td>0.0</td><td>&quot;Multifactorial genetic inherit…</td><td>&quot;Diabetes&quot;</td></tr><tr><td>&quot;PID0x3c4f&quot;</td><td>8.0</td><td>&quot;Yes&quot;</td><td>&quot;No&quot;</td><td>&quot;Yes&quot;</td><td>&quot;No&quot;</td><td>5.18647</td><td>&quot;John&quot;</td><td>null</td><td>&quot;Cavani&quot;</td><td>35.0</td><td>51.0</td><td>&quot;Not applicable&quot;</td><td>&quot;-&quot;</td><td>&quot;Deceased&quot;</td><td>&quot;Tachypnea&quot;</td><td>&quot;Normal&quot;</td><td>0.0</td><td>0.0</td><td>0.0</td><td>1.0</td><td>null</td><td>&quot;Yes&quot;</td><td>&quot;High&quot;</td><td>&quot;Male&quot;</td><td>&quot;No&quot;</td><td>&quot;None&quot;</td><td>&quot;Home&quot;</td><td>&quot;No&quot;</td><td>&quot;No&quot;</td><td>null</td><td>&quot;No&quot;</td><td>&quot;No&quot;</td><td>&quot;No&quot;</td><td>2.0</td><td>&quot;Singular&quot;</td><td>7.715464</td><td>&quot;normal&quot;</td><td>0.0</td><td>0.0</td><td>0.0</td><td>1.0</td><td>null</td><td>&quot;Mitochondrial genetic inherita…</td><td>&quot;Mitochondrial myopathy&quot;</td></tr><tr><td>&quot;PID0x13a&quot;</td><td>7.0</td><td>&quot;Yes&quot;</td><td>&quot;No&quot;</td><td>&quot;Yes&quot;</td><td>&quot;Yes&quot;</td><td>4.858543</td><td>&quot;Sharon&quot;</td><td>null</td><td>&quot;Bomer&quot;</td><td>19.0</td><td>null</td><td>&quot;Not applicable&quot;</td><td>&quot;-&quot;</td><td>&quot;Alive&quot;</td><td>&quot;Tachypnea&quot;</td><td>&quot;Tachycardia&quot;</td><td>0.0</td><td>0.0</td><td>0.0</td><td>1.0</td><td>0.0</td><td>&quot;Yes&quot;</td><td>&quot;High&quot;</td><td>&quot;Male&quot;</td><td>&quot;No record&quot;</td><td>&quot;Not applicable&quot;</td><td>&quot;Home&quot;</td><td>&quot;Yes&quot;</td><td>&quot;Yes&quot;</td><td>&quot;-&quot;</td><td>&quot;Yes&quot;</td><td>&quot;Yes&quot;</td><td>&quot;No&quot;</td><td>1.0</td><td>&quot;Multiple&quot;</td><td>8.43767</td><td>&quot;abnormal&quot;</td><td>1.0</td><td>1.0</td><td>1.0</td><td>0.0</td><td>0.0</td><td>null</td><td>&quot;Leigh syndrome&quot;</td></tr><tr><td>&quot;PID0x9332&quot;</td><td>11.0</td><td>&quot;Yes&quot;</td><td>&quot;No&quot;</td><td>&quot;No&quot;</td><td>&quot;No&quot;</td><td>4.738067</td><td>&quot;Andrew&quot;</td><td>&quot;Mose&quot;</td><td>&quot;Eban&quot;</td><td>32.0</td><td>62.0</td><td>&quot;Hebrew Rehabilitation Center&quot;</td><td>&quot;300 LONGWOOD AV\n",
       "FENWAY/KENMORE…</td><td>&quot;Deceased&quot;</td><td>&quot;Normal (30-60)&quot;</td><td>&quot;Normal&quot;</td><td>0.0</td><td>0.0</td><td>0.0</td><td>1.0</td><td>0.0</td><td>&quot;Yes&quot;</td><td>&quot;High&quot;</td><td>&quot;Female&quot;</td><td>&quot;Yes&quot;</td><td>&quot;None&quot;</td><td>&quot;Institute&quot;</td><td>&quot;Yes&quot;</td><td>&quot;Yes&quot;</td><td>&quot;Not applicable&quot;</td><td>&quot;No&quot;</td><td>&quot;Yes&quot;</td><td>&quot;Yes&quot;</td><td>4.0</td><td>&quot;Singular&quot;</td><td>11.188371</td><td>&quot;normal&quot;</td><td>1.0</td><td>0.0</td><td>1.0</td><td>1.0</td><td>1.0</td><td>&quot;Multifactorial genetic inherit…</td><td>&quot;Diabetes&quot;</td></tr></tbody></table></div>"
      ],
      "text/plain": [
       "shape: (22_083, 45)\n",
       "┌───────────┬───────────┬───────────┬───────────┬───┬───────────┬───────────┬───────────┬──────────┐\n",
       "│ Patient   ┆ Patient   ┆ Genes in  ┆ Inherited ┆ … ┆ Symptom 4 ┆ Symptom 5 ┆ Genetic   ┆ Disorder │\n",
       "│ Id        ┆ Age       ┆ mother's  ┆ from      ┆   ┆ ---       ┆ ---       ┆ Disorder  ┆ Subclass │\n",
       "│ ---       ┆ ---       ┆ side      ┆ father    ┆   ┆ f64       ┆ f64       ┆ ---       ┆ ---      │\n",
       "│ str       ┆ f64       ┆ ---       ┆ ---       ┆   ┆           ┆           ┆ str       ┆ str      │\n",
       "│           ┆           ┆ str       ┆ str       ┆   ┆           ┆           ┆           ┆          │\n",
       "╞═══════════╪═══════════╪═══════════╪═══════════╪═══╪═══════════╪═══════════╪═══════════╪══════════╡\n",
       "│ PID0x6418 ┆ 2.0       ┆ Yes       ┆ No        ┆ … ┆ 1.0       ┆ 1.0       ┆ Mitochond ┆ Leber's  │\n",
       "│           ┆           ┆           ┆           ┆   ┆           ┆           ┆ rial      ┆ heredita │\n",
       "│           ┆           ┆           ┆           ┆   ┆           ┆           ┆ genetic   ┆ ry optic │\n",
       "│           ┆           ┆           ┆           ┆   ┆           ┆           ┆ inherita… ┆ neuro…   │\n",
       "│ PID0x25d5 ┆ 4.0       ┆ Yes       ┆ Yes       ┆ … ┆ 1.0       ┆ 0.0       ┆ null      ┆ Cystic   │\n",
       "│           ┆           ┆           ┆           ┆   ┆           ┆           ┆           ┆ fibrosis │\n",
       "│ PID0x4a82 ┆ 6.0       ┆ Yes       ┆ No        ┆ … ┆ 1.0       ┆ 1.0       ┆ Multifact ┆ Diabetes │\n",
       "│           ┆           ┆           ┆           ┆   ┆           ┆           ┆ orial     ┆          │\n",
       "│           ┆           ┆           ┆           ┆   ┆           ┆           ┆ genetic   ┆          │\n",
       "│           ┆           ┆           ┆           ┆   ┆           ┆           ┆ inherit…  ┆          │\n",
       "│ PID0x4ac8 ┆ 12.0      ┆ Yes       ┆ No        ┆ … ┆ 0.0       ┆ 0.0       ┆ Mitochond ┆ Leigh    │\n",
       "│           ┆           ┆           ┆           ┆   ┆           ┆           ┆ rial      ┆ syndrome │\n",
       "│           ┆           ┆           ┆           ┆   ┆           ┆           ┆ genetic   ┆          │\n",
       "│           ┆           ┆           ┆           ┆   ┆           ┆           ┆ inherita… ┆          │\n",
       "│ PID0x1bf7 ┆ 11.0      ┆ Yes       ┆ No        ┆ … ┆ 0.0       ┆ null      ┆ Multifact ┆ Cancer   │\n",
       "│           ┆           ┆           ┆           ┆   ┆           ┆           ┆ orial     ┆          │\n",
       "│           ┆           ┆           ┆           ┆   ┆           ┆           ┆ genetic   ┆          │\n",
       "│           ┆           ┆           ┆           ┆   ┆           ┆           ┆ inherit…  ┆          │\n",
       "│ …         ┆ …         ┆ …         ┆ …         ┆ … ┆ …         ┆ …         ┆ …         ┆ …        │\n",
       "│ PID0x5598 ┆ 4.0       ┆ Yes       ┆ Yes       ┆ … ┆ 0.0       ┆ 0.0       ┆ Mitochond ┆ Leigh    │\n",
       "│           ┆           ┆           ┆           ┆   ┆           ┆           ┆ rial      ┆ syndrome │\n",
       "│           ┆           ┆           ┆           ┆   ┆           ┆           ┆ genetic   ┆          │\n",
       "│           ┆           ┆           ┆           ┆   ┆           ┆           ┆ inherita… ┆          │\n",
       "│ PID0x19cb ┆ 8.0       ┆ No        ┆ Yes       ┆ … ┆ 1.0       ┆ 0.0       ┆ Multifact ┆ Diabetes │\n",
       "│           ┆           ┆           ┆           ┆   ┆           ┆           ┆ orial     ┆          │\n",
       "│           ┆           ┆           ┆           ┆   ┆           ┆           ┆ genetic   ┆          │\n",
       "│           ┆           ┆           ┆           ┆   ┆           ┆           ┆ inherit…  ┆          │\n",
       "│ PID0x3c4f ┆ 8.0       ┆ Yes       ┆ No        ┆ … ┆ 1.0       ┆ null      ┆ Mitochond ┆ Mitochon │\n",
       "│           ┆           ┆           ┆           ┆   ┆           ┆           ┆ rial      ┆ drial    │\n",
       "│           ┆           ┆           ┆           ┆   ┆           ┆           ┆ genetic   ┆ myopathy │\n",
       "│           ┆           ┆           ┆           ┆   ┆           ┆           ┆ inherita… ┆          │\n",
       "│ PID0x13a  ┆ 7.0       ┆ Yes       ┆ No        ┆ … ┆ 0.0       ┆ 0.0       ┆ null      ┆ Leigh    │\n",
       "│           ┆           ┆           ┆           ┆   ┆           ┆           ┆           ┆ syndrome │\n",
       "│ PID0x9332 ┆ 11.0      ┆ Yes       ┆ No        ┆ … ┆ 1.0       ┆ 1.0       ┆ Multifact ┆ Diabetes │\n",
       "│           ┆           ┆           ┆           ┆   ┆           ┆           ┆ orial     ┆          │\n",
       "│           ┆           ┆           ┆           ┆   ┆           ┆           ┆ genetic   ┆          │\n",
       "│           ┆           ┆           ┆           ┆   ┆           ┆           ┆ inherit…  ┆          │\n",
       "└───────────┴───────────┴───────────┴───────────┴───┴───────────┴───────────┴───────────┴──────────┘"
      ]
     },
     "execution_count": 38,
     "metadata": {},
     "output_type": "execute_result"
    }
   ],
   "source": [
    "df_datos"
   ]
  },
  {
   "cell_type": "markdown",
   "id": "7da7686d",
   "metadata": {},
   "source": [
    "### Over"
   ]
  },
  {
   "cell_type": "code",
   "execution_count": 41,
   "id": "c1083b8f",
   "metadata": {},
   "outputs": [
    {
     "data": {
      "text/html": [
       "<div><style>\n",
       ".dataframe > thead > tr,\n",
       ".dataframe > tbody > tr {\n",
       "  text-align: right;\n",
       "  white-space: pre-wrap;\n",
       "}\n",
       "</style>\n",
       "<small>shape: (4, 1)</small><table border=\"1\" class=\"dataframe\"><thead><tr><th>Genetic Disorder</th></tr><tr><td>str</td></tr></thead><tbody><tr><td>null</td></tr><tr><td>&quot;Mitochondrial genetic inherita…</td></tr><tr><td>&quot;Multifactorial genetic inherit…</td></tr><tr><td>&quot;Single-gene inheritance diseas…</td></tr></tbody></table></div>"
      ],
      "text/plain": [
       "shape: (4, 1)\n",
       "┌─────────────────────────────────┐\n",
       "│ Genetic Disorder                │\n",
       "│ ---                             │\n",
       "│ str                             │\n",
       "╞═════════════════════════════════╡\n",
       "│ null                            │\n",
       "│ Mitochondrial genetic inherita… │\n",
       "│ Multifactorial genetic inherit… │\n",
       "│ Single-gene inheritance diseas… │\n",
       "└─────────────────────────────────┘"
      ]
     },
     "execution_count": 41,
     "metadata": {},
     "output_type": "execute_result"
    }
   ],
   "source": [
    "df_datos.select(\"Genetic Disorder\").unique()"
   ]
  },
  {
   "cell_type": "code",
   "execution_count": 42,
   "id": "c5bff860",
   "metadata": {},
   "outputs": [
    {
     "data": {
      "text/html": [
       "<div><style>\n",
       ".dataframe > thead > tr,\n",
       ".dataframe > tbody > tr {\n",
       "  text-align: right;\n",
       "  white-space: pre-wrap;\n",
       "}\n",
       "</style>\n",
       "<small>shape: (4, 2)</small><table border=\"1\" class=\"dataframe\"><thead><tr><th>Genetic Disorder</th><th>len</th></tr><tr><td>str</td><td>u32</td></tr></thead><tbody><tr><td>&quot;Single-gene inheritance diseas…</td><td>7664</td></tr><tr><td>&quot;Multifactorial genetic inherit…</td><td>2071</td></tr><tr><td>null</td><td>2146</td></tr><tr><td>&quot;Mitochondrial genetic inherita…</td><td>10202</td></tr></tbody></table></div>"
      ],
      "text/plain": [
       "shape: (4, 2)\n",
       "┌─────────────────────────────────┬───────┐\n",
       "│ Genetic Disorder                ┆ len   │\n",
       "│ ---                             ┆ ---   │\n",
       "│ str                             ┆ u32   │\n",
       "╞═════════════════════════════════╪═══════╡\n",
       "│ Single-gene inheritance diseas… ┆ 7664  │\n",
       "│ Multifactorial genetic inherit… ┆ 2071  │\n",
       "│ null                            ┆ 2146  │\n",
       "│ Mitochondrial genetic inherita… ┆ 10202 │\n",
       "└─────────────────────────────────┴───────┘"
      ]
     },
     "execution_count": 42,
     "metadata": {},
     "output_type": "execute_result"
    }
   ],
   "source": [
    "df_datos.group_by(\"Genetic Disorder\").len()"
   ]
  },
  {
   "cell_type": "code",
   "execution_count": 43,
   "id": "853a3d48",
   "metadata": {},
   "outputs": [
    {
     "data": {
      "text/html": [
       "<div><style>\n",
       ".dataframe > thead > tr,\n",
       ".dataframe > tbody > tr {\n",
       "  text-align: right;\n",
       "  white-space: pre-wrap;\n",
       "}\n",
       "</style>\n",
       "<small>shape: (22_083, 46)</small><table border=\"1\" class=\"dataframe\"><thead><tr><th>Patient Id</th><th>Patient Age</th><th>Genes in mother&#x27;s side</th><th>Inherited from father</th><th>Maternal gene</th><th>Paternal gene</th><th>Blood cell count (mcL)</th><th>Patient First Name</th><th>Family Name</th><th>Father&#x27;s name</th><th>Mother&#x27;s age</th><th>Father&#x27;s age</th><th>Institute Name</th><th>Location of Institute</th><th>Status</th><th>Respiratory Rate (breaths/min)</th><th>Heart Rate (rates/min</th><th>Test 1</th><th>Test 2</th><th>Test 3</th><th>Test 4</th><th>Test 5</th><th>Parental consent</th><th>Follow-up</th><th>Gender</th><th>Birth asphyxia</th><th>Autopsy shows birth defect (if applicable)</th><th>Place of birth</th><th>Folic acid details (peri-conceptional)</th><th>H/O serious maternal illness</th><th>H/O radiation exposure (x-ray)</th><th>H/O substance abuse</th><th>Assisted conception IVF/ART</th><th>History of anomalies in previous pregnancies</th><th>No. of previous abortion</th><th>Birth defects</th><th>White Blood cell count (thousand per microliter)</th><th>Blood test result</th><th>Symptom 1</th><th>Symptom 2</th><th>Symptom 3</th><th>Symptom 4</th><th>Symptom 5</th><th>Genetic Disorder</th><th>Disorder Subclass</th><th>patients_per_disorder</th></tr><tr><td>str</td><td>f64</td><td>str</td><td>str</td><td>str</td><td>str</td><td>f64</td><td>str</td><td>str</td><td>str</td><td>f64</td><td>f64</td><td>str</td><td>str</td><td>str</td><td>str</td><td>str</td><td>f64</td><td>f64</td><td>f64</td><td>f64</td><td>f64</td><td>str</td><td>str</td><td>str</td><td>str</td><td>str</td><td>str</td><td>str</td><td>str</td><td>str</td><td>str</td><td>str</td><td>str</td><td>f64</td><td>str</td><td>f64</td><td>str</td><td>f64</td><td>f64</td><td>f64</td><td>f64</td><td>f64</td><td>str</td><td>str</td><td>u32</td></tr></thead><tbody><tr><td>&quot;PID0x6418&quot;</td><td>2.0</td><td>&quot;Yes&quot;</td><td>&quot;No&quot;</td><td>&quot;Yes&quot;</td><td>&quot;No&quot;</td><td>4.760603</td><td>&quot;Richard&quot;</td><td>null</td><td>&quot;Larre&quot;</td><td>null</td><td>null</td><td>&quot;Boston Specialty &amp; Rehabilitat…</td><td>&quot;55 FRUIT ST\n",
       "CENTRAL, MA 02114\n",
       "…</td><td>&quot;Alive&quot;</td><td>&quot;Normal (30-60)&quot;</td><td>&quot;Normal&quot;</td><td>0.0</td><td>null</td><td>null</td><td>1.0</td><td>0.0</td><td>&quot;Yes&quot;</td><td>&quot;High&quot;</td><td>null</td><td>null</td><td>&quot;Not applicable&quot;</td><td>&quot;Institute&quot;</td><td>&quot;No&quot;</td><td>null</td><td>&quot;No&quot;</td><td>&quot;No&quot;</td><td>&quot;No&quot;</td><td>&quot;Yes&quot;</td><td>null</td><td>null</td><td>9.857562</td><td>null</td><td>1.0</td><td>1.0</td><td>1.0</td><td>1.0</td><td>1.0</td><td>&quot;Mitochondrial genetic inherita…</td><td>&quot;Leber&#x27;s hereditary optic neuro…</td><td>10202</td></tr><tr><td>&quot;PID0x25d5&quot;</td><td>4.0</td><td>&quot;Yes&quot;</td><td>&quot;Yes&quot;</td><td>&quot;No&quot;</td><td>&quot;No&quot;</td><td>4.910669</td><td>&quot;Mike&quot;</td><td>null</td><td>&quot;Brycen&quot;</td><td>null</td><td>23.0</td><td>&quot;St. Margaret&#x27;s Hospital For Wo…</td><td>&quot;1515 COMMONWEALTH AV\n",
       "ALLSTON/B…</td><td>&quot;Deceased&quot;</td><td>&quot;Tachypnea&quot;</td><td>&quot;Normal&quot;</td><td>null</td><td>0.0</td><td>0.0</td><td>1.0</td><td>0.0</td><td>&quot;Yes&quot;</td><td>&quot;High&quot;</td><td>null</td><td>&quot;No&quot;</td><td>&quot;None&quot;</td><td>null</td><td>&quot;Yes&quot;</td><td>&quot;Yes&quot;</td><td>&quot;Not applicable&quot;</td><td>&quot;Not applicable&quot;</td><td>&quot;No&quot;</td><td>&quot;Yes&quot;</td><td>null</td><td>&quot;Multiple&quot;</td><td>5.52256</td><td>&quot;normal&quot;</td><td>1.0</td><td>null</td><td>1.0</td><td>1.0</td><td>0.0</td><td>null</td><td>&quot;Cystic fibrosis&quot;</td><td>2146</td></tr><tr><td>&quot;PID0x4a82&quot;</td><td>6.0</td><td>&quot;Yes&quot;</td><td>&quot;No&quot;</td><td>&quot;No&quot;</td><td>&quot;No&quot;</td><td>4.893297</td><td>&quot;Kimberly&quot;</td><td>null</td><td>&quot;Nashon&quot;</td><td>41.0</td><td>22.0</td><td>null</td><td>&quot;-&quot;</td><td>&quot;Alive&quot;</td><td>&quot;Normal (30-60)&quot;</td><td>&quot;Tachycardia&quot;</td><td>0.0</td><td>0.0</td><td>0.0</td><td>1.0</td><td>0.0</td><td>&quot;Yes&quot;</td><td>&quot;Low&quot;</td><td>null</td><td>&quot;No record&quot;</td><td>&quot;Not applicable&quot;</td><td>null</td><td>&quot;Yes&quot;</td><td>&quot;No&quot;</td><td>&quot;Yes&quot;</td><td>null</td><td>&quot;Yes&quot;</td><td>&quot;Yes&quot;</td><td>4.0</td><td>&quot;Singular&quot;</td><td>null</td><td>&quot;normal&quot;</td><td>0.0</td><td>1.0</td><td>1.0</td><td>1.0</td><td>1.0</td><td>&quot;Multifactorial genetic inherit…</td><td>&quot;Diabetes&quot;</td><td>2071</td></tr><tr><td>&quot;PID0x4ac8&quot;</td><td>12.0</td><td>&quot;Yes&quot;</td><td>&quot;No&quot;</td><td>&quot;Yes&quot;</td><td>&quot;No&quot;</td><td>4.70528</td><td>&quot;Jeffery&quot;</td><td>&quot;Hoelscher&quot;</td><td>&quot;Aayaan&quot;</td><td>21.0</td><td>null</td><td>null</td><td>&quot;55 FRUIT ST\n",
       "CENTRAL, MA 02114\n",
       "…</td><td>&quot;Deceased&quot;</td><td>&quot;Tachypnea&quot;</td><td>&quot;Normal&quot;</td><td>0.0</td><td>0.0</td><td>0.0</td><td>1.0</td><td>0.0</td><td>&quot;Yes&quot;</td><td>&quot;High&quot;</td><td>&quot;Male&quot;</td><td>&quot;Not available&quot;</td><td>&quot;No&quot;</td><td>&quot;Institute&quot;</td><td>&quot;No&quot;</td><td>&quot;Yes&quot;</td><td>&quot;-&quot;</td><td>&quot;Not applicable&quot;</td><td>null</td><td>&quot;Yes&quot;</td><td>1.0</td><td>&quot;Singular&quot;</td><td>7.919321</td><td>&quot;inconclusive&quot;</td><td>0.0</td><td>0.0</td><td>1.0</td><td>0.0</td><td>0.0</td><td>&quot;Mitochondrial genetic inherita…</td><td>&quot;Leigh syndrome&quot;</td><td>10202</td></tr><tr><td>&quot;PID0x1bf7&quot;</td><td>11.0</td><td>&quot;Yes&quot;</td><td>&quot;No&quot;</td><td>null</td><td>&quot;Yes&quot;</td><td>4.720703</td><td>&quot;Johanna&quot;</td><td>&quot;Stutzman&quot;</td><td>&quot;Suave&quot;</td><td>32.0</td><td>null</td><td>&quot;Carney Hospital&quot;</td><td>&quot;300 LONGWOOD AV\n",
       "FENWAY/KENMORE…</td><td>&quot;Alive&quot;</td><td>&quot;Tachypnea&quot;</td><td>&quot;Tachycardia&quot;</td><td>0.0</td><td>0.0</td><td>0.0</td><td>1.0</td><td>0.0</td><td>null</td><td>&quot;Low&quot;</td><td>&quot;Male&quot;</td><td>&quot;Not available&quot;</td><td>&quot;Not applicable&quot;</td><td>&quot;Institute&quot;</td><td>&quot;No&quot;</td><td>&quot;Yes&quot;</td><td>&quot;-&quot;</td><td>&quot;Not applicable&quot;</td><td>&quot;Yes&quot;</td><td>&quot;No&quot;</td><td>4.0</td><td>&quot;Multiple&quot;</td><td>4.09821</td><td>null</td><td>0.0</td><td>0.0</td><td>0.0</td><td>0.0</td><td>null</td><td>&quot;Multifactorial genetic inherit…</td><td>&quot;Cancer&quot;</td><td>2071</td></tr><tr><td>&hellip;</td><td>&hellip;</td><td>&hellip;</td><td>&hellip;</td><td>&hellip;</td><td>&hellip;</td><td>&hellip;</td><td>&hellip;</td><td>&hellip;</td><td>&hellip;</td><td>&hellip;</td><td>&hellip;</td><td>&hellip;</td><td>&hellip;</td><td>&hellip;</td><td>&hellip;</td><td>&hellip;</td><td>&hellip;</td><td>&hellip;</td><td>&hellip;</td><td>&hellip;</td><td>&hellip;</td><td>&hellip;</td><td>&hellip;</td><td>&hellip;</td><td>&hellip;</td><td>&hellip;</td><td>&hellip;</td><td>&hellip;</td><td>&hellip;</td><td>&hellip;</td><td>&hellip;</td><td>&hellip;</td><td>&hellip;</td><td>&hellip;</td><td>&hellip;</td><td>&hellip;</td><td>&hellip;</td><td>&hellip;</td><td>&hellip;</td><td>&hellip;</td><td>&hellip;</td><td>&hellip;</td><td>&hellip;</td><td>&hellip;</td><td>&hellip;</td></tr><tr><td>&quot;PID0x5598&quot;</td><td>4.0</td><td>&quot;Yes&quot;</td><td>&quot;Yes&quot;</td><td>&quot;Yes&quot;</td><td>&quot;No&quot;</td><td>5.258298</td><td>&quot;Lynn&quot;</td><td>null</td><td>&quot;Alhassane&quot;</td><td>35.0</td><td>64.0</td><td>&quot;Franciscan Children&#x27;s&nbsp;&nbsp;Hospita…</td><td>&quot;1153 CENTRE ST\n",
       "JAMAICA PLAIN, …</td><td>&quot;Deceased&quot;</td><td>&quot;Normal (30-60)&quot;</td><td>&quot;Tachycardia&quot;</td><td>null</td><td>0.0</td><td>null</td><td>1.0</td><td>0.0</td><td>&quot;Yes&quot;</td><td>&quot;High&quot;</td><td>&quot;Female&quot;</td><td>&quot;No&quot;</td><td>&quot;No&quot;</td><td>&quot;Institute&quot;</td><td>null</td><td>&quot;No&quot;</td><td>&quot;Not applicable&quot;</td><td>&quot;No&quot;</td><td>&quot;Yes&quot;</td><td>&quot;No&quot;</td><td>3.0</td><td>&quot;Multiple&quot;</td><td>6.584811</td><td>&quot;inconclusive&quot;</td><td>0.0</td><td>0.0</td><td>1.0</td><td>0.0</td><td>0.0</td><td>&quot;Mitochondrial genetic inherita…</td><td>&quot;Leigh syndrome&quot;</td><td>10202</td></tr><tr><td>&quot;PID0x19cb&quot;</td><td>8.0</td><td>&quot;No&quot;</td><td>&quot;Yes&quot;</td><td>&quot;No&quot;</td><td>&quot;Yes&quot;</td><td>4.97422</td><td>&quot;Matthew&quot;</td><td>&quot;Farley&quot;</td><td>&quot;Dartanion&quot;</td><td>null</td><td>56.0</td><td>&quot;Faulkner Hospital&quot;</td><td>&quot;170 MORTON ST\n",
       "ROSLINDALE, MA 0…</td><td>&quot;Alive&quot;</td><td>&quot;Normal (30-60)&quot;</td><td>&quot;Normal&quot;</td><td>null</td><td>0.0</td><td>null</td><td>1.0</td><td>null</td><td>null</td><td>&quot;High&quot;</td><td>&quot;Ambiguous&quot;</td><td>&quot;No&quot;</td><td>&quot;Not applicable&quot;</td><td>&quot;Institute&quot;</td><td>&quot;Yes&quot;</td><td>&quot;Yes&quot;</td><td>&quot;No&quot;</td><td>&quot;-&quot;</td><td>&quot;Yes&quot;</td><td>&quot;No&quot;</td><td>2.0</td><td>&quot;Multiple&quot;</td><td>7.041556</td><td>&quot;inconclusive&quot;</td><td>1.0</td><td>1.0</td><td>1.0</td><td>1.0</td><td>0.0</td><td>&quot;Multifactorial genetic inherit…</td><td>&quot;Diabetes&quot;</td><td>2071</td></tr><tr><td>&quot;PID0x3c4f&quot;</td><td>8.0</td><td>&quot;Yes&quot;</td><td>&quot;No&quot;</td><td>&quot;Yes&quot;</td><td>&quot;No&quot;</td><td>5.18647</td><td>&quot;John&quot;</td><td>null</td><td>&quot;Cavani&quot;</td><td>35.0</td><td>51.0</td><td>&quot;Not applicable&quot;</td><td>&quot;-&quot;</td><td>&quot;Deceased&quot;</td><td>&quot;Tachypnea&quot;</td><td>&quot;Normal&quot;</td><td>0.0</td><td>0.0</td><td>0.0</td><td>1.0</td><td>null</td><td>&quot;Yes&quot;</td><td>&quot;High&quot;</td><td>&quot;Male&quot;</td><td>&quot;No&quot;</td><td>&quot;None&quot;</td><td>&quot;Home&quot;</td><td>&quot;No&quot;</td><td>&quot;No&quot;</td><td>null</td><td>&quot;No&quot;</td><td>&quot;No&quot;</td><td>&quot;No&quot;</td><td>2.0</td><td>&quot;Singular&quot;</td><td>7.715464</td><td>&quot;normal&quot;</td><td>0.0</td><td>0.0</td><td>0.0</td><td>1.0</td><td>null</td><td>&quot;Mitochondrial genetic inherita…</td><td>&quot;Mitochondrial myopathy&quot;</td><td>10202</td></tr><tr><td>&quot;PID0x13a&quot;</td><td>7.0</td><td>&quot;Yes&quot;</td><td>&quot;No&quot;</td><td>&quot;Yes&quot;</td><td>&quot;Yes&quot;</td><td>4.858543</td><td>&quot;Sharon&quot;</td><td>null</td><td>&quot;Bomer&quot;</td><td>19.0</td><td>null</td><td>&quot;Not applicable&quot;</td><td>&quot;-&quot;</td><td>&quot;Alive&quot;</td><td>&quot;Tachypnea&quot;</td><td>&quot;Tachycardia&quot;</td><td>0.0</td><td>0.0</td><td>0.0</td><td>1.0</td><td>0.0</td><td>&quot;Yes&quot;</td><td>&quot;High&quot;</td><td>&quot;Male&quot;</td><td>&quot;No record&quot;</td><td>&quot;Not applicable&quot;</td><td>&quot;Home&quot;</td><td>&quot;Yes&quot;</td><td>&quot;Yes&quot;</td><td>&quot;-&quot;</td><td>&quot;Yes&quot;</td><td>&quot;Yes&quot;</td><td>&quot;No&quot;</td><td>1.0</td><td>&quot;Multiple&quot;</td><td>8.43767</td><td>&quot;abnormal&quot;</td><td>1.0</td><td>1.0</td><td>1.0</td><td>0.0</td><td>0.0</td><td>null</td><td>&quot;Leigh syndrome&quot;</td><td>2146</td></tr><tr><td>&quot;PID0x9332&quot;</td><td>11.0</td><td>&quot;Yes&quot;</td><td>&quot;No&quot;</td><td>&quot;No&quot;</td><td>&quot;No&quot;</td><td>4.738067</td><td>&quot;Andrew&quot;</td><td>&quot;Mose&quot;</td><td>&quot;Eban&quot;</td><td>32.0</td><td>62.0</td><td>&quot;Hebrew Rehabilitation Center&quot;</td><td>&quot;300 LONGWOOD AV\n",
       "FENWAY/KENMORE…</td><td>&quot;Deceased&quot;</td><td>&quot;Normal (30-60)&quot;</td><td>&quot;Normal&quot;</td><td>0.0</td><td>0.0</td><td>0.0</td><td>1.0</td><td>0.0</td><td>&quot;Yes&quot;</td><td>&quot;High&quot;</td><td>&quot;Female&quot;</td><td>&quot;Yes&quot;</td><td>&quot;None&quot;</td><td>&quot;Institute&quot;</td><td>&quot;Yes&quot;</td><td>&quot;Yes&quot;</td><td>&quot;Not applicable&quot;</td><td>&quot;No&quot;</td><td>&quot;Yes&quot;</td><td>&quot;Yes&quot;</td><td>4.0</td><td>&quot;Singular&quot;</td><td>11.188371</td><td>&quot;normal&quot;</td><td>1.0</td><td>0.0</td><td>1.0</td><td>1.0</td><td>1.0</td><td>&quot;Multifactorial genetic inherit…</td><td>&quot;Diabetes&quot;</td><td>2071</td></tr></tbody></table></div>"
      ],
      "text/plain": [
       "shape: (22_083, 46)\n",
       "┌───────────┬───────────┬───────────┬───────────┬───┬───────────┬───────────┬───────────┬──────────┐\n",
       "│ Patient   ┆ Patient   ┆ Genes in  ┆ Inherited ┆ … ┆ Symptom 5 ┆ Genetic   ┆ Disorder  ┆ patients │\n",
       "│ Id        ┆ Age       ┆ mother's  ┆ from      ┆   ┆ ---       ┆ Disorder  ┆ Subclass  ┆ _per_dis │\n",
       "│ ---       ┆ ---       ┆ side      ┆ father    ┆   ┆ f64       ┆ ---       ┆ ---       ┆ order    │\n",
       "│ str       ┆ f64       ┆ ---       ┆ ---       ┆   ┆           ┆ str       ┆ str       ┆ ---      │\n",
       "│           ┆           ┆ str       ┆ str       ┆   ┆           ┆           ┆           ┆ u32      │\n",
       "╞═══════════╪═══════════╪═══════════╪═══════════╪═══╪═══════════╪═══════════╪═══════════╪══════════╡\n",
       "│ PID0x6418 ┆ 2.0       ┆ Yes       ┆ No        ┆ … ┆ 1.0       ┆ Mitochond ┆ Leber's   ┆ 10202    │\n",
       "│           ┆           ┆           ┆           ┆   ┆           ┆ rial      ┆ hereditar ┆          │\n",
       "│           ┆           ┆           ┆           ┆   ┆           ┆ genetic   ┆ y optic   ┆          │\n",
       "│           ┆           ┆           ┆           ┆   ┆           ┆ inherita… ┆ neuro…    ┆          │\n",
       "│ PID0x25d5 ┆ 4.0       ┆ Yes       ┆ Yes       ┆ … ┆ 0.0       ┆ null      ┆ Cystic    ┆ 2146     │\n",
       "│           ┆           ┆           ┆           ┆   ┆           ┆           ┆ fibrosis  ┆          │\n",
       "│ PID0x4a82 ┆ 6.0       ┆ Yes       ┆ No        ┆ … ┆ 1.0       ┆ Multifact ┆ Diabetes  ┆ 2071     │\n",
       "│           ┆           ┆           ┆           ┆   ┆           ┆ orial     ┆           ┆          │\n",
       "│           ┆           ┆           ┆           ┆   ┆           ┆ genetic   ┆           ┆          │\n",
       "│           ┆           ┆           ┆           ┆   ┆           ┆ inherit…  ┆           ┆          │\n",
       "│ PID0x4ac8 ┆ 12.0      ┆ Yes       ┆ No        ┆ … ┆ 0.0       ┆ Mitochond ┆ Leigh     ┆ 10202    │\n",
       "│           ┆           ┆           ┆           ┆   ┆           ┆ rial      ┆ syndrome  ┆          │\n",
       "│           ┆           ┆           ┆           ┆   ┆           ┆ genetic   ┆           ┆          │\n",
       "│           ┆           ┆           ┆           ┆   ┆           ┆ inherita… ┆           ┆          │\n",
       "│ PID0x1bf7 ┆ 11.0      ┆ Yes       ┆ No        ┆ … ┆ null      ┆ Multifact ┆ Cancer    ┆ 2071     │\n",
       "│           ┆           ┆           ┆           ┆   ┆           ┆ orial     ┆           ┆          │\n",
       "│           ┆           ┆           ┆           ┆   ┆           ┆ genetic   ┆           ┆          │\n",
       "│           ┆           ┆           ┆           ┆   ┆           ┆ inherit…  ┆           ┆          │\n",
       "│ …         ┆ …         ┆ …         ┆ …         ┆ … ┆ …         ┆ …         ┆ …         ┆ …        │\n",
       "│ PID0x5598 ┆ 4.0       ┆ Yes       ┆ Yes       ┆ … ┆ 0.0       ┆ Mitochond ┆ Leigh     ┆ 10202    │\n",
       "│           ┆           ┆           ┆           ┆   ┆           ┆ rial      ┆ syndrome  ┆          │\n",
       "│           ┆           ┆           ┆           ┆   ┆           ┆ genetic   ┆           ┆          │\n",
       "│           ┆           ┆           ┆           ┆   ┆           ┆ inherita… ┆           ┆          │\n",
       "│ PID0x19cb ┆ 8.0       ┆ No        ┆ Yes       ┆ … ┆ 0.0       ┆ Multifact ┆ Diabetes  ┆ 2071     │\n",
       "│           ┆           ┆           ┆           ┆   ┆           ┆ orial     ┆           ┆          │\n",
       "│           ┆           ┆           ┆           ┆   ┆           ┆ genetic   ┆           ┆          │\n",
       "│           ┆           ┆           ┆           ┆   ┆           ┆ inherit…  ┆           ┆          │\n",
       "│ PID0x3c4f ┆ 8.0       ┆ Yes       ┆ No        ┆ … ┆ null      ┆ Mitochond ┆ Mitochond ┆ 10202    │\n",
       "│           ┆           ┆           ┆           ┆   ┆           ┆ rial      ┆ rial      ┆          │\n",
       "│           ┆           ┆           ┆           ┆   ┆           ┆ genetic   ┆ myopathy  ┆          │\n",
       "│           ┆           ┆           ┆           ┆   ┆           ┆ inherita… ┆           ┆          │\n",
       "│ PID0x13a  ┆ 7.0       ┆ Yes       ┆ No        ┆ … ┆ 0.0       ┆ null      ┆ Leigh     ┆ 2146     │\n",
       "│           ┆           ┆           ┆           ┆   ┆           ┆           ┆ syndrome  ┆          │\n",
       "│ PID0x9332 ┆ 11.0      ┆ Yes       ┆ No        ┆ … ┆ 1.0       ┆ Multifact ┆ Diabetes  ┆ 2071     │\n",
       "│           ┆           ┆           ┆           ┆   ┆           ┆ orial     ┆           ┆          │\n",
       "│           ┆           ┆           ┆           ┆   ┆           ┆ genetic   ┆           ┆          │\n",
       "│           ┆           ┆           ┆           ┆   ┆           ┆ inherit…  ┆           ┆          │\n",
       "└───────────┴───────────┴───────────┴───────────┴───┴───────────┴───────────┴───────────┴──────────┘"
      ]
     },
     "execution_count": 43,
     "metadata": {},
     "output_type": "execute_result"
    }
   ],
   "source": [
    "df_datos.with_columns(patients_per_disorder = pl.len().over(\"Genetic Disorder\"))"
   ]
  },
  {
   "cell_type": "code",
   "execution_count": 44,
   "id": "f8ca8692",
   "metadata": {},
   "outputs": [
    {
     "data": {
      "text/html": [
       "<div><style>\n",
       ".dataframe > thead > tr,\n",
       ".dataframe > tbody > tr {\n",
       "  text-align: right;\n",
       "  white-space: pre-wrap;\n",
       "}\n",
       "</style>\n",
       "<small>shape: (22_083, 3)</small><table border=\"1\" class=\"dataframe\"><thead><tr><th>Patient Id</th><th>Genetic Disorder</th><th>patients_per_disorder</th></tr><tr><td>str</td><td>str</td><td>u32</td></tr></thead><tbody><tr><td>&quot;PID0x6418&quot;</td><td>&quot;Mitochondrial genetic inherita…</td><td>10202</td></tr><tr><td>&quot;PID0x25d5&quot;</td><td>null</td><td>2146</td></tr><tr><td>&quot;PID0x4a82&quot;</td><td>&quot;Multifactorial genetic inherit…</td><td>2071</td></tr><tr><td>&quot;PID0x4ac8&quot;</td><td>&quot;Mitochondrial genetic inherita…</td><td>10202</td></tr><tr><td>&quot;PID0x1bf7&quot;</td><td>&quot;Multifactorial genetic inherit…</td><td>2071</td></tr><tr><td>&hellip;</td><td>&hellip;</td><td>&hellip;</td></tr><tr><td>&quot;PID0x5598&quot;</td><td>&quot;Mitochondrial genetic inherita…</td><td>10202</td></tr><tr><td>&quot;PID0x19cb&quot;</td><td>&quot;Multifactorial genetic inherit…</td><td>2071</td></tr><tr><td>&quot;PID0x3c4f&quot;</td><td>&quot;Mitochondrial genetic inherita…</td><td>10202</td></tr><tr><td>&quot;PID0x13a&quot;</td><td>null</td><td>2146</td></tr><tr><td>&quot;PID0x9332&quot;</td><td>&quot;Multifactorial genetic inherit…</td><td>2071</td></tr></tbody></table></div>"
      ],
      "text/plain": [
       "shape: (22_083, 3)\n",
       "┌────────────┬─────────────────────────────────┬───────────────────────┐\n",
       "│ Patient Id ┆ Genetic Disorder                ┆ patients_per_disorder │\n",
       "│ ---        ┆ ---                             ┆ ---                   │\n",
       "│ str        ┆ str                             ┆ u32                   │\n",
       "╞════════════╪═════════════════════════════════╪═══════════════════════╡\n",
       "│ PID0x6418  ┆ Mitochondrial genetic inherita… ┆ 10202                 │\n",
       "│ PID0x25d5  ┆ null                            ┆ 2146                  │\n",
       "│ PID0x4a82  ┆ Multifactorial genetic inherit… ┆ 2071                  │\n",
       "│ PID0x4ac8  ┆ Mitochondrial genetic inherita… ┆ 10202                 │\n",
       "│ PID0x1bf7  ┆ Multifactorial genetic inherit… ┆ 2071                  │\n",
       "│ …          ┆ …                               ┆ …                     │\n",
       "│ PID0x5598  ┆ Mitochondrial genetic inherita… ┆ 10202                 │\n",
       "│ PID0x19cb  ┆ Multifactorial genetic inherit… ┆ 2071                  │\n",
       "│ PID0x3c4f  ┆ Mitochondrial genetic inherita… ┆ 10202                 │\n",
       "│ PID0x13a   ┆ null                            ┆ 2146                  │\n",
       "│ PID0x9332  ┆ Multifactorial genetic inherit… ┆ 2071                  │\n",
       "└────────────┴─────────────────────────────────┴───────────────────────┘"
      ]
     },
     "execution_count": 44,
     "metadata": {},
     "output_type": "execute_result"
    }
   ],
   "source": [
    "(df_datos\n",
    " .with_columns(patients_per_disorder = pl.len().over(\"Genetic Disorder\"))\n",
    " .select(\"Patient Id\",\"Genetic Disorder\",\"patients_per_disorder\")\n",
    " \n",
    " )"
   ]
  },
  {
   "cell_type": "code",
   "execution_count": 46,
   "id": "35116045",
   "metadata": {},
   "outputs": [
    {
     "data": {
      "text/html": [
       "<div><style>\n",
       ".dataframe > thead > tr,\n",
       ".dataframe > tbody > tr {\n",
       "  text-align: right;\n",
       "  white-space: pre-wrap;\n",
       "}\n",
       "</style>\n",
       "<small>shape: (22_083, 3)</small><table border=\"1\" class=\"dataframe\"><thead><tr><th>Patient Id</th><th>Blood cell count (mcL)</th><th>blood_cell_count_mean</th></tr><tr><td>str</td><td>f64</td><td>f64</td></tr></thead><tbody><tr><td>&quot;PID0x6418&quot;</td><td>4.760603</td><td>4.898871</td></tr><tr><td>&quot;PID0x25d5&quot;</td><td>4.910669</td><td>4.898871</td></tr><tr><td>&quot;PID0x4a82&quot;</td><td>4.893297</td><td>4.898871</td></tr><tr><td>&quot;PID0x4ac8&quot;</td><td>4.70528</td><td>4.898871</td></tr><tr><td>&quot;PID0x1bf7&quot;</td><td>4.720703</td><td>4.898871</td></tr><tr><td>&hellip;</td><td>&hellip;</td><td>&hellip;</td></tr><tr><td>&quot;PID0x5598&quot;</td><td>5.258298</td><td>4.898871</td></tr><tr><td>&quot;PID0x19cb&quot;</td><td>4.97422</td><td>4.898871</td></tr><tr><td>&quot;PID0x3c4f&quot;</td><td>5.18647</td><td>4.898871</td></tr><tr><td>&quot;PID0x13a&quot;</td><td>4.858543</td><td>4.898871</td></tr><tr><td>&quot;PID0x9332&quot;</td><td>4.738067</td><td>4.898871</td></tr></tbody></table></div>"
      ],
      "text/plain": [
       "shape: (22_083, 3)\n",
       "┌────────────┬────────────────────────┬───────────────────────┐\n",
       "│ Patient Id ┆ Blood cell count (mcL) ┆ blood_cell_count_mean │\n",
       "│ ---        ┆ ---                    ┆ ---                   │\n",
       "│ str        ┆ f64                    ┆ f64                   │\n",
       "╞════════════╪════════════════════════╪═══════════════════════╡\n",
       "│ PID0x6418  ┆ 4.760603               ┆ 4.898871              │\n",
       "│ PID0x25d5  ┆ 4.910669               ┆ 4.898871              │\n",
       "│ PID0x4a82  ┆ 4.893297               ┆ 4.898871              │\n",
       "│ PID0x4ac8  ┆ 4.70528                ┆ 4.898871              │\n",
       "│ PID0x1bf7  ┆ 4.720703               ┆ 4.898871              │\n",
       "│ …          ┆ …                      ┆ …                     │\n",
       "│ PID0x5598  ┆ 5.258298               ┆ 4.898871              │\n",
       "│ PID0x19cb  ┆ 4.97422                ┆ 4.898871              │\n",
       "│ PID0x3c4f  ┆ 5.18647                ┆ 4.898871              │\n",
       "│ PID0x13a   ┆ 4.858543               ┆ 4.898871              │\n",
       "│ PID0x9332  ┆ 4.738067               ┆ 4.898871              │\n",
       "└────────────┴────────────────────────┴───────────────────────┘"
      ]
     },
     "execution_count": 46,
     "metadata": {},
     "output_type": "execute_result"
    }
   ],
   "source": [
    "df_datos.with_columns(blood_cell_count_mean = pl.col(\"Blood cell count (mcL)\").mean()).select(\"Patient Id\",\"Blood cell count (mcL)\",\"blood_cell_count_mean\")"
   ]
  },
  {
   "cell_type": "code",
   "execution_count": null,
   "id": "1f21a555",
   "metadata": {},
   "outputs": [
    {
     "data": {
      "text/html": [
       "<div><style>\n",
       ".dataframe > thead > tr,\n",
       ".dataframe > tbody > tr {\n",
       "  text-align: right;\n",
       "  white-space: pre-wrap;\n",
       "}\n",
       "</style>\n",
       "<small>shape: (22_083, 4)</small><table border=\"1\" class=\"dataframe\"><thead><tr><th>Patient Id</th><th>Blood cell count (mcL)</th><th>blood_cell_count_mean</th><th>Status</th></tr><tr><td>str</td><td>f64</td><td>f64</td><td>str</td></tr></thead><tbody><tr><td>&quot;PID0x6418&quot;</td><td>4.760603</td><td>4.899498</td><td>&quot;Alive&quot;</td></tr><tr><td>&quot;PID0x25d5&quot;</td><td>4.910669</td><td>4.89824</td><td>&quot;Deceased&quot;</td></tr><tr><td>&quot;PID0x4a82&quot;</td><td>4.893297</td><td>4.899498</td><td>&quot;Alive&quot;</td></tr><tr><td>&quot;PID0x4ac8&quot;</td><td>4.70528</td><td>4.89824</td><td>&quot;Deceased&quot;</td></tr><tr><td>&quot;PID0x1bf7&quot;</td><td>4.720703</td><td>4.899498</td><td>&quot;Alive&quot;</td></tr><tr><td>&hellip;</td><td>&hellip;</td><td>&hellip;</td><td>&hellip;</td></tr><tr><td>&quot;PID0x5598&quot;</td><td>5.258298</td><td>4.89824</td><td>&quot;Deceased&quot;</td></tr><tr><td>&quot;PID0x19cb&quot;</td><td>4.97422</td><td>4.899498</td><td>&quot;Alive&quot;</td></tr><tr><td>&quot;PID0x3c4f&quot;</td><td>5.18647</td><td>4.89824</td><td>&quot;Deceased&quot;</td></tr><tr><td>&quot;PID0x13a&quot;</td><td>4.858543</td><td>4.899498</td><td>&quot;Alive&quot;</td></tr><tr><td>&quot;PID0x9332&quot;</td><td>4.738067</td><td>4.89824</td><td>&quot;Deceased&quot;</td></tr></tbody></table></div>"
      ],
      "text/plain": [
       "shape: (22_083, 4)\n",
       "┌────────────┬────────────────────────┬───────────────────────┬──────────┐\n",
       "│ Patient Id ┆ Blood cell count (mcL) ┆ blood_cell_count_mean ┆ Status   │\n",
       "│ ---        ┆ ---                    ┆ ---                   ┆ ---      │\n",
       "│ str        ┆ f64                    ┆ f64                   ┆ str      │\n",
       "╞════════════╪════════════════════════╪═══════════════════════╪══════════╡\n",
       "│ PID0x6418  ┆ 4.760603               ┆ 4.899498              ┆ Alive    │\n",
       "│ PID0x25d5  ┆ 4.910669               ┆ 4.89824               ┆ Deceased │\n",
       "│ PID0x4a82  ┆ 4.893297               ┆ 4.899498              ┆ Alive    │\n",
       "│ PID0x4ac8  ┆ 4.70528                ┆ 4.89824               ┆ Deceased │\n",
       "│ PID0x1bf7  ┆ 4.720703               ┆ 4.899498              ┆ Alive    │\n",
       "│ …          ┆ …                      ┆ …                     ┆ …        │\n",
       "│ PID0x5598  ┆ 5.258298               ┆ 4.89824               ┆ Deceased │\n",
       "│ PID0x19cb  ┆ 4.97422                ┆ 4.899498              ┆ Alive    │\n",
       "│ PID0x3c4f  ┆ 5.18647                ┆ 4.89824               ┆ Deceased │\n",
       "│ PID0x13a   ┆ 4.858543               ┆ 4.899498              ┆ Alive    │\n",
       "│ PID0x9332  ┆ 4.738067               ┆ 4.89824               ┆ Deceased │\n",
       "└────────────┴────────────────────────┴───────────────────────┴──────────┘"
      ]
     },
     "execution_count": 47,
     "metadata": {},
     "output_type": "execute_result"
    }
   ],
   "source": [
    "(df_datos\n",
    " .with_columns(blood_cell_count_mean = pl.col(\"Blood cell count (mcL)\").mean().over(\"Status\"))\n",
    " .select(\"Patient Id\",\"Blood cell count (mcL)\",\"blood_cell_count_mean\",\"Status\"))"
   ]
  },
  {
   "cell_type": "code",
   "execution_count": 51,
   "id": "2199441d",
   "metadata": {},
   "outputs": [],
   "source": [
    "df_datos = (df_datos\n",
    " .select(\"Patient Id\",\"Patient Age\")\n",
    " .with_columns(patient_age_count = pl.len().over(\"Patient Age\"))\n",
    " \n",
    " )"
   ]
  },
  {
   "cell_type": "code",
   "execution_count": 52,
   "id": "1f2cf0f6",
   "metadata": {},
   "outputs": [
    {
     "data": {
      "text/html": [
       "<div><style>\n",
       ".dataframe > thead > tr,\n",
       ".dataframe > tbody > tr {\n",
       "  text-align: right;\n",
       "  white-space: pre-wrap;\n",
       "}\n",
       "</style>\n",
       "<small>shape: (22_083, 3)</small><table border=\"1\" class=\"dataframe\"><thead><tr><th>Patient Id</th><th>Patient Age</th><th>patient_age_count</th></tr><tr><td>str</td><td>f64</td><td>u32</td></tr></thead><tbody><tr><td>&quot;PID0x6418&quot;</td><td>2.0</td><td>1396</td></tr><tr><td>&quot;PID0x25d5&quot;</td><td>4.0</td><td>1435</td></tr><tr><td>&quot;PID0x4a82&quot;</td><td>6.0</td><td>1374</td></tr><tr><td>&quot;PID0x4ac8&quot;</td><td>12.0</td><td>1435</td></tr><tr><td>&quot;PID0x1bf7&quot;</td><td>11.0</td><td>1353</td></tr><tr><td>&hellip;</td><td>&hellip;</td><td>&hellip;</td></tr><tr><td>&quot;PID0x5598&quot;</td><td>4.0</td><td>1435</td></tr><tr><td>&quot;PID0x19cb&quot;</td><td>8.0</td><td>1340</td></tr><tr><td>&quot;PID0x3c4f&quot;</td><td>8.0</td><td>1340</td></tr><tr><td>&quot;PID0x13a&quot;</td><td>7.0</td><td>1351</td></tr><tr><td>&quot;PID0x9332&quot;</td><td>11.0</td><td>1353</td></tr></tbody></table></div>"
      ],
      "text/plain": [
       "shape: (22_083, 3)\n",
       "┌────────────┬─────────────┬───────────────────┐\n",
       "│ Patient Id ┆ Patient Age ┆ patient_age_count │\n",
       "│ ---        ┆ ---         ┆ ---               │\n",
       "│ str        ┆ f64         ┆ u32               │\n",
       "╞════════════╪═════════════╪═══════════════════╡\n",
       "│ PID0x6418  ┆ 2.0         ┆ 1396              │\n",
       "│ PID0x25d5  ┆ 4.0         ┆ 1435              │\n",
       "│ PID0x4a82  ┆ 6.0         ┆ 1374              │\n",
       "│ PID0x4ac8  ┆ 12.0        ┆ 1435              │\n",
       "│ PID0x1bf7  ┆ 11.0        ┆ 1353              │\n",
       "│ …          ┆ …           ┆ …                 │\n",
       "│ PID0x5598  ┆ 4.0         ┆ 1435              │\n",
       "│ PID0x19cb  ┆ 8.0         ┆ 1340              │\n",
       "│ PID0x3c4f  ┆ 8.0         ┆ 1340              │\n",
       "│ PID0x13a   ┆ 7.0         ┆ 1351              │\n",
       "│ PID0x9332  ┆ 11.0        ┆ 1353              │\n",
       "└────────────┴─────────────┴───────────────────┘"
      ]
     },
     "execution_count": 52,
     "metadata": {},
     "output_type": "execute_result"
    }
   ],
   "source": [
    "df_datos"
   ]
  },
  {
   "cell_type": "code",
   "execution_count": 57,
   "id": "02c50af6",
   "metadata": {},
   "outputs": [
    {
     "data": {
      "text/html": [
       "<div><style>\n",
       ".dataframe > thead > tr,\n",
       ".dataframe > tbody > tr {\n",
       "  text-align: right;\n",
       "  white-space: pre-wrap;\n",
       "}\n",
       "</style>\n",
       "<small>shape: (22_083, 4)</small><table border=\"1\" class=\"dataframe\"><thead><tr><th>Patient Id</th><th>Patient Age</th><th>patient_age_count</th><th>percentage_patient_age</th></tr><tr><td>str</td><td>f64</td><td>u32</td><td>f64</td></tr></thead><tbody><tr><td>&quot;PID0x6418&quot;</td><td>2.0</td><td>1396</td><td>6.321605</td></tr><tr><td>&quot;PID0x25d5&quot;</td><td>4.0</td><td>1435</td><td>6.498211</td></tr><tr><td>&quot;PID0x4a82&quot;</td><td>6.0</td><td>1374</td><td>6.221981</td></tr><tr><td>&quot;PID0x4ac8&quot;</td><td>12.0</td><td>1435</td><td>6.498211</td></tr><tr><td>&quot;PID0x1bf7&quot;</td><td>11.0</td><td>1353</td><td>6.126885</td></tr><tr><td>&hellip;</td><td>&hellip;</td><td>&hellip;</td><td>&hellip;</td></tr><tr><td>&quot;PID0x5598&quot;</td><td>4.0</td><td>1435</td><td>6.498211</td></tr><tr><td>&quot;PID0x19cb&quot;</td><td>8.0</td><td>1340</td><td>6.068016</td></tr><tr><td>&quot;PID0x3c4f&quot;</td><td>8.0</td><td>1340</td><td>6.068016</td></tr><tr><td>&quot;PID0x13a&quot;</td><td>7.0</td><td>1351</td><td>6.117828</td></tr><tr><td>&quot;PID0x9332&quot;</td><td>11.0</td><td>1353</td><td>6.126885</td></tr></tbody></table></div>"
      ],
      "text/plain": [
       "shape: (22_083, 4)\n",
       "┌────────────┬─────────────┬───────────────────┬────────────────────────┐\n",
       "│ Patient Id ┆ Patient Age ┆ patient_age_count ┆ percentage_patient_age │\n",
       "│ ---        ┆ ---         ┆ ---               ┆ ---                    │\n",
       "│ str        ┆ f64         ┆ u32               ┆ f64                    │\n",
       "╞════════════╪═════════════╪═══════════════════╪════════════════════════╡\n",
       "│ PID0x6418  ┆ 2.0         ┆ 1396              ┆ 6.321605               │\n",
       "│ PID0x25d5  ┆ 4.0         ┆ 1435              ┆ 6.498211               │\n",
       "│ PID0x4a82  ┆ 6.0         ┆ 1374              ┆ 6.221981               │\n",
       "│ PID0x4ac8  ┆ 12.0        ┆ 1435              ┆ 6.498211               │\n",
       "│ PID0x1bf7  ┆ 11.0        ┆ 1353              ┆ 6.126885               │\n",
       "│ …          ┆ …           ┆ …                 ┆ …                      │\n",
       "│ PID0x5598  ┆ 4.0         ┆ 1435              ┆ 6.498211               │\n",
       "│ PID0x19cb  ┆ 8.0         ┆ 1340              ┆ 6.068016               │\n",
       "│ PID0x3c4f  ┆ 8.0         ┆ 1340              ┆ 6.068016               │\n",
       "│ PID0x13a   ┆ 7.0         ┆ 1351              ┆ 6.117828               │\n",
       "│ PID0x9332  ┆ 11.0        ┆ 1353              ┆ 6.126885               │\n",
       "└────────────┴─────────────┴───────────────────┴────────────────────────┘"
      ]
     },
     "execution_count": 57,
     "metadata": {},
     "output_type": "execute_result"
    }
   ],
   "source": [
    "df_datos.with_columns(percentage_patient_age = (pl.col(\"patient_age_count\") / pl.col(\"Patient Age\").len())*100)"
   ]
  },
  {
   "cell_type": "code",
   "execution_count": null,
   "id": "633ba637",
   "metadata": {},
   "outputs": [],
   "source": []
  }
 ],
 "metadata": {
  "kernelspec": {
   "display_name": "data-visualization-notebooks",
   "language": "python",
   "name": "python3"
  },
  "language_info": {
   "codemirror_mode": {
    "name": "ipython",
    "version": 3
   },
   "file_extension": ".py",
   "mimetype": "text/x-python",
   "name": "python",
   "nbconvert_exporter": "python",
   "pygments_lexer": "ipython3",
   "version": "3.12.6"
  }
 },
 "nbformat": 4,
 "nbformat_minor": 5
}
