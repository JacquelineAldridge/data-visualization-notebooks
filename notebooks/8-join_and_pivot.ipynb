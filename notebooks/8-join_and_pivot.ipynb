{
 "cells": [
  {
   "cell_type": "code",
   "execution_count": 1,
   "id": "535d6bf6",
   "metadata": {},
   "outputs": [],
   "source": [
    "import polars as pl\n",
    "from polars import selectors as cs"
   ]
  },
  {
   "cell_type": "code",
   "execution_count": 8,
   "id": "3b57ccba",
   "metadata": {},
   "outputs": [
    {
     "data": {
      "text/plain": [
       "polars.config.Config"
      ]
     },
     "execution_count": 8,
     "metadata": {},
     "output_type": "execute_result"
    }
   ],
   "source": [
    "pl.Config.set_tbl_rows(30)"
   ]
  },
  {
   "cell_type": "code",
   "execution_count": 3,
   "id": "f0ab61f1",
   "metadata": {},
   "outputs": [],
   "source": [
    "df_datos = pl.read_csv(\"../data/dataset.csv\")"
   ]
  },
  {
   "cell_type": "code",
   "execution_count": 9,
   "id": "cbf9a9eb",
   "metadata": {},
   "outputs": [
    {
     "data": {
      "text/html": [
       "<div><style>\n",
       ".dataframe > thead > tr,\n",
       ".dataframe > tbody > tr {\n",
       "  text-align: right;\n",
       "  white-space: pre-wrap;\n",
       "}\n",
       "</style>\n",
       "<small>shape: (14, 4)</small><table border=\"1\" class=\"dataframe\"><thead><tr><th>Disorder Subclass</th><th>Status</th><th>patients</th><th>mean_age</th></tr><tr><td>str</td><td>str</td><td>u32</td><td>f64</td></tr></thead><tbody><tr><td>&quot;Alzheimer&#x27;s&quot;</td><td>&quot;Alive&quot;</td><td>77</td><td>6.506667</td></tr><tr><td>&quot;Diabetes&quot;</td><td>&quot;Deceased&quot;</td><td>921</td><td>6.760465</td></tr><tr><td>&quot;Tay-Sachs&quot;</td><td>&quot;Deceased&quot;</td><td>1433</td><td>6.988848</td></tr><tr><td>&quot;Leigh syndrome&quot;</td><td>&quot;Alive&quot;</td><td>2625</td><td>6.902399</td></tr><tr><td>&quot;Leigh syndrome&quot;</td><td>&quot;Deceased&quot;</td><td>2535</td><td>6.971332</td></tr><tr><td>&quot;Hemochromatosis&quot;</td><td>&quot;Alive&quot;</td><td>668</td><td>6.863422</td></tr><tr><td>&quot;Hemochromatosis&quot;</td><td>&quot;Deceased&quot;</td><td>687</td><td>6.88748</td></tr><tr><td>&quot;Mitochondrial myopathy&quot;</td><td>&quot;Alive&quot;</td><td>2182</td><td>6.989816</td></tr><tr><td>&quot;Diabetes&quot;</td><td>&quot;Alive&quot;</td><td>896</td><td>6.986779</td></tr><tr><td>&quot;Alzheimer&#x27;s&quot;</td><td>&quot;Deceased&quot;</td><td>75</td><td>6.60274</td></tr><tr><td>&quot;Leber&#x27;s hereditary optic neuro…</td><td>&quot;Deceased&quot;</td><td>325</td><td>6.53871</td></tr><tr><td>&quot;Mitochondrial myopathy&quot;</td><td>&quot;Deceased&quot;</td><td>2223</td><td>6.915385</td></tr><tr><td>&quot;Cystic fibrosis&quot;</td><td>&quot;Alive&quot;</td><td>1787</td><td>6.989863</td></tr><tr><td>&quot;Cystic fibrosis&quot;</td><td>&quot;Deceased&quot;</td><td>1661</td><td>6.908387</td></tr></tbody></table></div>"
      ],
      "text/plain": [
       "shape: (14, 4)\n",
       "┌─────────────────────────────────┬──────────┬──────────┬──────────┐\n",
       "│ Disorder Subclass               ┆ Status   ┆ patients ┆ mean_age │\n",
       "│ ---                             ┆ ---      ┆ ---      ┆ ---      │\n",
       "│ str                             ┆ str      ┆ u32      ┆ f64      │\n",
       "╞═════════════════════════════════╪══════════╪══════════╪══════════╡\n",
       "│ Alzheimer's                     ┆ Alive    ┆ 77       ┆ 6.506667 │\n",
       "│ Diabetes                        ┆ Deceased ┆ 921      ┆ 6.760465 │\n",
       "│ Tay-Sachs                       ┆ Deceased ┆ 1433     ┆ 6.988848 │\n",
       "│ Leigh syndrome                  ┆ Alive    ┆ 2625     ┆ 6.902399 │\n",
       "│ Leigh syndrome                  ┆ Deceased ┆ 2535     ┆ 6.971332 │\n",
       "│ Hemochromatosis                 ┆ Alive    ┆ 668      ┆ 6.863422 │\n",
       "│ Hemochromatosis                 ┆ Deceased ┆ 687      ┆ 6.88748  │\n",
       "│ Mitochondrial myopathy          ┆ Alive    ┆ 2182     ┆ 6.989816 │\n",
       "│ Diabetes                        ┆ Alive    ┆ 896      ┆ 6.986779 │\n",
       "│ Alzheimer's                     ┆ Deceased ┆ 75       ┆ 6.60274  │\n",
       "│ Leber's hereditary optic neuro… ┆ Deceased ┆ 325      ┆ 6.53871  │\n",
       "│ Mitochondrial myopathy          ┆ Deceased ┆ 2223     ┆ 6.915385 │\n",
       "│ Cystic fibrosis                 ┆ Alive    ┆ 1787     ┆ 6.989863 │\n",
       "│ Cystic fibrosis                 ┆ Deceased ┆ 1661     ┆ 6.908387 │\n",
       "└─────────────────────────────────┴──────────┴──────────┴──────────┘"
      ]
     },
     "execution_count": 9,
     "metadata": {},
     "output_type": "execute_result"
    }
   ],
   "source": [
    "df_subclass_stats = (\n",
    "    df_datos.group_by(\"Disorder Subclass\", \"Status\")\n",
    "    .agg(\n",
    "        patients = pl.len(),\n",
    "        mean_age = pl.col(\"Patient Age\").mean(),\n",
    "    )\n",
    "    .drop_nulls()\n",
    "    .filter(pl.col(\"mean_age\") < 7)\n",
    ")\n",
    "df_subclass_stats"
   ]
  },
  {
   "cell_type": "code",
   "execution_count": 7,
   "id": "b8b09e7b",
   "metadata": {},
   "outputs": [
    {
     "data": {
      "text/html": [
       "<div><style>\n",
       ".dataframe > thead > tr,\n",
       ".dataframe > tbody > tr {\n",
       "  text-align: right;\n",
       "  white-space: pre-wrap;\n",
       "}\n",
       "</style>\n",
       "<small>shape: (8, 7)</small><table border=\"1\" class=\"dataframe\"><thead><tr><th>Disorder Subclass</th><th>Status</th><th>Symptom 1</th><th>Symptom 2</th><th>Symptom 3</th><th>Symptom 4</th><th>Symptom 5</th></tr><tr><td>str</td><td>str</td><td>f64</td><td>f64</td><td>f64</td><td>f64</td><td>f64</td></tr></thead><tbody><tr><td>&quot;Mitochondrial myopathy&quot;</td><td>&quot;Deceased&quot;</td><td>0.5295</td><td>0.459929</td><td>0.428571</td><td>0.404423</td><td>0.314115</td></tr><tr><td>&quot;Cancer&quot;</td><td>&quot;Deceased&quot;</td><td>0.1875</td><td>0.045455</td><td>0.071429</td><td>0.022222</td><td>0.0</td></tr><tr><td>&quot;Cancer&quot;</td><td>&quot;Alive&quot;</td><td>0.222222</td><td>0.139535</td><td>0.125</td><td>0.02381</td><td>0.023256</td></tr><tr><td>&quot;Hemochromatosis&quot;</td><td>&quot;Alive&quot;</td><td>0.403941</td><td>0.319865</td><td>0.245066</td><td>0.153213</td><td>0.110922</td></tr><tr><td>&quot;Mitochondrial myopathy&quot;</td><td>&quot;Alive&quot;</td><td>0.549669</td><td>0.485485</td><td>0.420181</td><td>0.382915</td><td>0.328463</td></tr><tr><td>&quot;Tay-Sachs&quot;</td><td>&quot;Deceased&quot;</td><td>0.47288</td><td>0.39429</td><td>0.341258</td><td>0.273006</td><td>0.203019</td></tr><tr><td>&quot;Tay-Sachs&quot;</td><td>&quot;Alive&quot;</td><td>0.461298</td><td>0.360695</td><td>0.367888</td><td>0.276899</td><td>0.189507</td></tr><tr><td>&quot;Hemochromatosis&quot;</td><td>&quot;Deceased&quot;</td><td>0.381476</td><td>0.280702</td><td>0.235484</td><td>0.177496</td><td>0.112721</td></tr></tbody></table></div>"
      ],
      "text/plain": [
       "shape: (8, 7)\n",
       "┌────────────────────────┬──────────┬───────────┬───────────┬───────────┬───────────┬───────────┐\n",
       "│ Disorder Subclass      ┆ Status   ┆ Symptom 1 ┆ Symptom 2 ┆ Symptom 3 ┆ Symptom 4 ┆ Symptom 5 │\n",
       "│ ---                    ┆ ---      ┆ ---       ┆ ---       ┆ ---       ┆ ---       ┆ ---       │\n",
       "│ str                    ┆ str      ┆ f64       ┆ f64       ┆ f64       ┆ f64       ┆ f64       │\n",
       "╞════════════════════════╪══════════╪═══════════╪═══════════╪═══════════╪═══════════╪═══════════╡\n",
       "│ Mitochondrial myopathy ┆ Deceased ┆ 0.5295    ┆ 0.459929  ┆ 0.428571  ┆ 0.404423  ┆ 0.314115  │\n",
       "│ Cancer                 ┆ Deceased ┆ 0.1875    ┆ 0.045455  ┆ 0.071429  ┆ 0.022222  ┆ 0.0       │\n",
       "│ Cancer                 ┆ Alive    ┆ 0.222222  ┆ 0.139535  ┆ 0.125     ┆ 0.02381   ┆ 0.023256  │\n",
       "│ Hemochromatosis        ┆ Alive    ┆ 0.403941  ┆ 0.319865  ┆ 0.245066  ┆ 0.153213  ┆ 0.110922  │\n",
       "│ Mitochondrial myopathy ┆ Alive    ┆ 0.549669  ┆ 0.485485  ┆ 0.420181  ┆ 0.382915  ┆ 0.328463  │\n",
       "│ Tay-Sachs              ┆ Deceased ┆ 0.47288   ┆ 0.39429   ┆ 0.341258  ┆ 0.273006  ┆ 0.203019  │\n",
       "│ Tay-Sachs              ┆ Alive    ┆ 0.461298  ┆ 0.360695  ┆ 0.367888  ┆ 0.276899  ┆ 0.189507  │\n",
       "│ Hemochromatosis        ┆ Deceased ┆ 0.381476  ┆ 0.280702  ┆ 0.235484  ┆ 0.177496  ┆ 0.112721  │\n",
       "└────────────────────────┴──────────┴───────────┴───────────┴───────────┴───────────┴───────────┘"
      ]
     },
     "execution_count": 7,
     "metadata": {},
     "output_type": "execute_result"
    }
   ],
   "source": [
    "df_subclass_symptoms = (\n",
    "    df_datos.select(cs.by_name(\"Disorder Subclass\", \"Status\"), cs.starts_with(\"Symptom\"))\n",
    "    .group_by(\"Disorder Subclass\", \"Status\")\n",
    "    .agg(cs.starts_with(\"Symptom\").mean())\n",
    "    .filter(\n",
    "        ~pl.col(\"Disorder Subclass\").is_null(),\n",
    "        pl.sum_horizontal(cs.starts_with(\"Symptom\")) < 2.5\n",
    "    )\n",
    ")\n",
    "df_subclass_symptoms"
   ]
  },
  {
   "cell_type": "code",
   "execution_count": 12,
   "id": "4d0bb562",
   "metadata": {},
   "outputs": [
    {
     "data": {
      "text/html": [
       "<div><style>\n",
       ".dataframe > thead > tr,\n",
       ".dataframe > tbody > tr {\n",
       "  text-align: right;\n",
       "  white-space: pre-wrap;\n",
       "}\n",
       "</style>\n",
       "<small>shape: (5, 9)</small><table border=\"1\" class=\"dataframe\"><thead><tr><th>Disorder Subclass</th><th>Status</th><th>patients</th><th>mean_age</th><th>Symptom 1</th><th>Symptom 2</th><th>Symptom 3</th><th>Symptom 4</th><th>Symptom 5</th></tr><tr><td>str</td><td>str</td><td>u32</td><td>f64</td><td>f64</td><td>f64</td><td>f64</td><td>f64</td><td>f64</td></tr></thead><tbody><tr><td>&quot;Tay-Sachs&quot;</td><td>&quot;Deceased&quot;</td><td>1433</td><td>6.988848</td><td>0.47288</td><td>0.39429</td><td>0.341258</td><td>0.273006</td><td>0.203019</td></tr><tr><td>&quot;Hemochromatosis&quot;</td><td>&quot;Alive&quot;</td><td>668</td><td>6.863422</td><td>0.403941</td><td>0.319865</td><td>0.245066</td><td>0.153213</td><td>0.110922</td></tr><tr><td>&quot;Hemochromatosis&quot;</td><td>&quot;Deceased&quot;</td><td>687</td><td>6.88748</td><td>0.381476</td><td>0.280702</td><td>0.235484</td><td>0.177496</td><td>0.112721</td></tr><tr><td>&quot;Mitochondrial myopathy&quot;</td><td>&quot;Alive&quot;</td><td>2182</td><td>6.989816</td><td>0.549669</td><td>0.485485</td><td>0.420181</td><td>0.382915</td><td>0.328463</td></tr><tr><td>&quot;Mitochondrial myopathy&quot;</td><td>&quot;Deceased&quot;</td><td>2223</td><td>6.915385</td><td>0.5295</td><td>0.459929</td><td>0.428571</td><td>0.404423</td><td>0.314115</td></tr></tbody></table></div>"
      ],
      "text/plain": [
       "shape: (5, 9)\n",
       "┌─────────────┬──────────┬──────────┬──────────┬───┬───────────┬───────────┬───────────┬───────────┐\n",
       "│ Disorder    ┆ Status   ┆ patients ┆ mean_age ┆ … ┆ Symptom 2 ┆ Symptom 3 ┆ Symptom 4 ┆ Symptom 5 │\n",
       "│ Subclass    ┆ ---      ┆ ---      ┆ ---      ┆   ┆ ---       ┆ ---       ┆ ---       ┆ ---       │\n",
       "│ ---         ┆ str      ┆ u32      ┆ f64      ┆   ┆ f64       ┆ f64       ┆ f64       ┆ f64       │\n",
       "│ str         ┆          ┆          ┆          ┆   ┆           ┆           ┆           ┆           │\n",
       "╞═════════════╪══════════╪══════════╪══════════╪═══╪═══════════╪═══════════╪═══════════╪═══════════╡\n",
       "│ Tay-Sachs   ┆ Deceased ┆ 1433     ┆ 6.988848 ┆ … ┆ 0.39429   ┆ 0.341258  ┆ 0.273006  ┆ 0.203019  │\n",
       "│ Hemochromat ┆ Alive    ┆ 668      ┆ 6.863422 ┆ … ┆ 0.319865  ┆ 0.245066  ┆ 0.153213  ┆ 0.110922  │\n",
       "│ osis        ┆          ┆          ┆          ┆   ┆           ┆           ┆           ┆           │\n",
       "│ Hemochromat ┆ Deceased ┆ 687      ┆ 6.88748  ┆ … ┆ 0.280702  ┆ 0.235484  ┆ 0.177496  ┆ 0.112721  │\n",
       "│ osis        ┆          ┆          ┆          ┆   ┆           ┆           ┆           ┆           │\n",
       "│ Mitochondri ┆ Alive    ┆ 2182     ┆ 6.989816 ┆ … ┆ 0.485485  ┆ 0.420181  ┆ 0.382915  ┆ 0.328463  │\n",
       "│ al myopathy ┆          ┆          ┆          ┆   ┆           ┆           ┆           ┆           │\n",
       "│ Mitochondri ┆ Deceased ┆ 2223     ┆ 6.915385 ┆ … ┆ 0.459929  ┆ 0.428571  ┆ 0.404423  ┆ 0.314115  │\n",
       "│ al myopathy ┆          ┆          ┆          ┆   ┆           ┆           ┆           ┆           │\n",
       "└─────────────┴──────────┴──────────┴──────────┴───┴───────────┴───────────┴───────────┴───────────┘"
      ]
     },
     "execution_count": 12,
     "metadata": {},
     "output_type": "execute_result"
    }
   ],
   "source": [
    "df_subclass_stats.join(df_subclass_symptoms, on=[\"Disorder Subclass\", \"Status\"])"
   ]
  },
  {
   "cell_type": "code",
   "execution_count": 13,
   "id": "090bf06d",
   "metadata": {},
   "outputs": [
    {
     "data": {
      "text/html": [
       "<div><style>\n",
       ".dataframe > thead > tr,\n",
       ".dataframe > tbody > tr {\n",
       "  text-align: right;\n",
       "  white-space: pre-wrap;\n",
       "}\n",
       "</style>\n",
       "<small>shape: (14, 9)</small><table border=\"1\" class=\"dataframe\"><thead><tr><th>Disorder Subclass</th><th>Status</th><th>patients</th><th>mean_age</th><th>Symptom 1</th><th>Symptom 2</th><th>Symptom 3</th><th>Symptom 4</th><th>Symptom 5</th></tr><tr><td>str</td><td>str</td><td>u32</td><td>f64</td><td>f64</td><td>f64</td><td>f64</td><td>f64</td><td>f64</td></tr></thead><tbody><tr><td>&quot;Alzheimer&#x27;s&quot;</td><td>&quot;Alive&quot;</td><td>77</td><td>6.506667</td><td>null</td><td>null</td><td>null</td><td>null</td><td>null</td></tr><tr><td>&quot;Diabetes&quot;</td><td>&quot;Deceased&quot;</td><td>921</td><td>6.760465</td><td>null</td><td>null</td><td>null</td><td>null</td><td>null</td></tr><tr><td>&quot;Tay-Sachs&quot;</td><td>&quot;Deceased&quot;</td><td>1433</td><td>6.988848</td><td>0.47288</td><td>0.39429</td><td>0.341258</td><td>0.273006</td><td>0.203019</td></tr><tr><td>&quot;Leigh syndrome&quot;</td><td>&quot;Alive&quot;</td><td>2625</td><td>6.902399</td><td>null</td><td>null</td><td>null</td><td>null</td><td>null</td></tr><tr><td>&quot;Leigh syndrome&quot;</td><td>&quot;Deceased&quot;</td><td>2535</td><td>6.971332</td><td>null</td><td>null</td><td>null</td><td>null</td><td>null</td></tr><tr><td>&quot;Hemochromatosis&quot;</td><td>&quot;Alive&quot;</td><td>668</td><td>6.863422</td><td>0.403941</td><td>0.319865</td><td>0.245066</td><td>0.153213</td><td>0.110922</td></tr><tr><td>&quot;Hemochromatosis&quot;</td><td>&quot;Deceased&quot;</td><td>687</td><td>6.88748</td><td>0.381476</td><td>0.280702</td><td>0.235484</td><td>0.177496</td><td>0.112721</td></tr><tr><td>&quot;Mitochondrial myopathy&quot;</td><td>&quot;Alive&quot;</td><td>2182</td><td>6.989816</td><td>0.549669</td><td>0.485485</td><td>0.420181</td><td>0.382915</td><td>0.328463</td></tr><tr><td>&quot;Diabetes&quot;</td><td>&quot;Alive&quot;</td><td>896</td><td>6.986779</td><td>null</td><td>null</td><td>null</td><td>null</td><td>null</td></tr><tr><td>&quot;Alzheimer&#x27;s&quot;</td><td>&quot;Deceased&quot;</td><td>75</td><td>6.60274</td><td>null</td><td>null</td><td>null</td><td>null</td><td>null</td></tr><tr><td>&quot;Leber&#x27;s hereditary optic neuro…</td><td>&quot;Deceased&quot;</td><td>325</td><td>6.53871</td><td>null</td><td>null</td><td>null</td><td>null</td><td>null</td></tr><tr><td>&quot;Mitochondrial myopathy&quot;</td><td>&quot;Deceased&quot;</td><td>2223</td><td>6.915385</td><td>0.5295</td><td>0.459929</td><td>0.428571</td><td>0.404423</td><td>0.314115</td></tr><tr><td>&quot;Cystic fibrosis&quot;</td><td>&quot;Alive&quot;</td><td>1787</td><td>6.989863</td><td>null</td><td>null</td><td>null</td><td>null</td><td>null</td></tr><tr><td>&quot;Cystic fibrosis&quot;</td><td>&quot;Deceased&quot;</td><td>1661</td><td>6.908387</td><td>null</td><td>null</td><td>null</td><td>null</td><td>null</td></tr></tbody></table></div>"
      ],
      "text/plain": [
       "shape: (14, 9)\n",
       "┌─────────────┬──────────┬──────────┬──────────┬───┬───────────┬───────────┬───────────┬───────────┐\n",
       "│ Disorder    ┆ Status   ┆ patients ┆ mean_age ┆ … ┆ Symptom 2 ┆ Symptom 3 ┆ Symptom 4 ┆ Symptom 5 │\n",
       "│ Subclass    ┆ ---      ┆ ---      ┆ ---      ┆   ┆ ---       ┆ ---       ┆ ---       ┆ ---       │\n",
       "│ ---         ┆ str      ┆ u32      ┆ f64      ┆   ┆ f64       ┆ f64       ┆ f64       ┆ f64       │\n",
       "│ str         ┆          ┆          ┆          ┆   ┆           ┆           ┆           ┆           │\n",
       "╞═════════════╪══════════╪══════════╪══════════╪═══╪═══════════╪═══════════╪═══════════╪═══════════╡\n",
       "│ Alzheimer's ┆ Alive    ┆ 77       ┆ 6.506667 ┆ … ┆ null      ┆ null      ┆ null      ┆ null      │\n",
       "│ Diabetes    ┆ Deceased ┆ 921      ┆ 6.760465 ┆ … ┆ null      ┆ null      ┆ null      ┆ null      │\n",
       "│ Tay-Sachs   ┆ Deceased ┆ 1433     ┆ 6.988848 ┆ … ┆ 0.39429   ┆ 0.341258  ┆ 0.273006  ┆ 0.203019  │\n",
       "│ Leigh       ┆ Alive    ┆ 2625     ┆ 6.902399 ┆ … ┆ null      ┆ null      ┆ null      ┆ null      │\n",
       "│ syndrome    ┆          ┆          ┆          ┆   ┆           ┆           ┆           ┆           │\n",
       "│ Leigh       ┆ Deceased ┆ 2535     ┆ 6.971332 ┆ … ┆ null      ┆ null      ┆ null      ┆ null      │\n",
       "│ syndrome    ┆          ┆          ┆          ┆   ┆           ┆           ┆           ┆           │\n",
       "│ Hemochromat ┆ Alive    ┆ 668      ┆ 6.863422 ┆ … ┆ 0.319865  ┆ 0.245066  ┆ 0.153213  ┆ 0.110922  │\n",
       "│ osis        ┆          ┆          ┆          ┆   ┆           ┆           ┆           ┆           │\n",
       "│ Hemochromat ┆ Deceased ┆ 687      ┆ 6.88748  ┆ … ┆ 0.280702  ┆ 0.235484  ┆ 0.177496  ┆ 0.112721  │\n",
       "│ osis        ┆          ┆          ┆          ┆   ┆           ┆           ┆           ┆           │\n",
       "│ Mitochondri ┆ Alive    ┆ 2182     ┆ 6.989816 ┆ … ┆ 0.485485  ┆ 0.420181  ┆ 0.382915  ┆ 0.328463  │\n",
       "│ al myopathy ┆          ┆          ┆          ┆   ┆           ┆           ┆           ┆           │\n",
       "│ Diabetes    ┆ Alive    ┆ 896      ┆ 6.986779 ┆ … ┆ null      ┆ null      ┆ null      ┆ null      │\n",
       "│ Alzheimer's ┆ Deceased ┆ 75       ┆ 6.60274  ┆ … ┆ null      ┆ null      ┆ null      ┆ null      │\n",
       "│ Leber's     ┆ Deceased ┆ 325      ┆ 6.53871  ┆ … ┆ null      ┆ null      ┆ null      ┆ null      │\n",
       "│ hereditary  ┆          ┆          ┆          ┆   ┆           ┆           ┆           ┆           │\n",
       "│ optic       ┆          ┆          ┆          ┆   ┆           ┆           ┆           ┆           │\n",
       "│ neuro…      ┆          ┆          ┆          ┆   ┆           ┆           ┆           ┆           │\n",
       "│ Mitochondri ┆ Deceased ┆ 2223     ┆ 6.915385 ┆ … ┆ 0.459929  ┆ 0.428571  ┆ 0.404423  ┆ 0.314115  │\n",
       "│ al myopathy ┆          ┆          ┆          ┆   ┆           ┆           ┆           ┆           │\n",
       "│ Cystic      ┆ Alive    ┆ 1787     ┆ 6.989863 ┆ … ┆ null      ┆ null      ┆ null      ┆ null      │\n",
       "│ fibrosis    ┆          ┆          ┆          ┆   ┆           ┆           ┆           ┆           │\n",
       "│ Cystic      ┆ Deceased ┆ 1661     ┆ 6.908387 ┆ … ┆ null      ┆ null      ┆ null      ┆ null      │\n",
       "│ fibrosis    ┆          ┆          ┆          ┆   ┆           ┆           ┆           ┆           │\n",
       "└─────────────┴──────────┴──────────┴──────────┴───┴───────────┴───────────┴───────────┴───────────┘"
      ]
     },
     "execution_count": 13,
     "metadata": {},
     "output_type": "execute_result"
    }
   ],
   "source": [
    "df_subclass_stats.join(\n",
    "    df_subclass_symptoms,\n",
    "    on=[\"Disorder Subclass\", \"Status\"],\n",
    "    how=\"left\",\n",
    ")"
   ]
  },
  {
   "cell_type": "code",
   "execution_count": 22,
   "id": "425f0cd8",
   "metadata": {},
   "outputs": [
    {
     "data": {
      "text/html": [
       "<div><style>\n",
       ".dataframe > thead > tr,\n",
       ".dataframe > tbody > tr {\n",
       "  text-align: right;\n",
       "  white-space: pre-wrap;\n",
       "}\n",
       "</style>\n",
       "<small>shape: (8, 9)</small><table border=\"1\" class=\"dataframe\"><thead><tr><th>patients</th><th>mean_age</th><th>Disorder Subclass</th><th>Status</th><th>Symptom 1</th><th>Symptom 2</th><th>Symptom 3</th><th>Symptom 4</th><th>Symptom 5</th></tr><tr><td>u32</td><td>f64</td><td>str</td><td>str</td><td>f64</td><td>f64</td><td>f64</td><td>f64</td><td>f64</td></tr></thead><tbody><tr><td>2223</td><td>6.915385</td><td>&quot;Mitochondrial myopathy&quot;</td><td>&quot;Deceased&quot;</td><td>0.5295</td><td>0.459929</td><td>0.428571</td><td>0.404423</td><td>0.314115</td></tr><tr><td>null</td><td>null</td><td>&quot;Cancer&quot;</td><td>&quot;Deceased&quot;</td><td>0.1875</td><td>0.045455</td><td>0.071429</td><td>0.022222</td><td>0.0</td></tr><tr><td>null</td><td>null</td><td>&quot;Cancer&quot;</td><td>&quot;Alive&quot;</td><td>0.222222</td><td>0.139535</td><td>0.125</td><td>0.02381</td><td>0.023256</td></tr><tr><td>668</td><td>6.863422</td><td>&quot;Hemochromatosis&quot;</td><td>&quot;Alive&quot;</td><td>0.403941</td><td>0.319865</td><td>0.245066</td><td>0.153213</td><td>0.110922</td></tr><tr><td>2182</td><td>6.989816</td><td>&quot;Mitochondrial myopathy&quot;</td><td>&quot;Alive&quot;</td><td>0.549669</td><td>0.485485</td><td>0.420181</td><td>0.382915</td><td>0.328463</td></tr><tr><td>1433</td><td>6.988848</td><td>&quot;Tay-Sachs&quot;</td><td>&quot;Deceased&quot;</td><td>0.47288</td><td>0.39429</td><td>0.341258</td><td>0.273006</td><td>0.203019</td></tr><tr><td>null</td><td>null</td><td>&quot;Tay-Sachs&quot;</td><td>&quot;Alive&quot;</td><td>0.461298</td><td>0.360695</td><td>0.367888</td><td>0.276899</td><td>0.189507</td></tr><tr><td>687</td><td>6.88748</td><td>&quot;Hemochromatosis&quot;</td><td>&quot;Deceased&quot;</td><td>0.381476</td><td>0.280702</td><td>0.235484</td><td>0.177496</td><td>0.112721</td></tr></tbody></table></div>"
      ],
      "text/plain": [
       "shape: (8, 9)\n",
       "┌──────────┬──────────┬─────────────┬──────────┬───┬───────────┬───────────┬───────────┬───────────┐\n",
       "│ patients ┆ mean_age ┆ Disorder    ┆ Status   ┆ … ┆ Symptom 2 ┆ Symptom 3 ┆ Symptom 4 ┆ Symptom 5 │\n",
       "│ ---      ┆ ---      ┆ Subclass    ┆ ---      ┆   ┆ ---       ┆ ---       ┆ ---       ┆ ---       │\n",
       "│ u32      ┆ f64      ┆ ---         ┆ str      ┆   ┆ f64       ┆ f64       ┆ f64       ┆ f64       │\n",
       "│          ┆          ┆ str         ┆          ┆   ┆           ┆           ┆           ┆           │\n",
       "╞══════════╪══════════╪═════════════╪══════════╪═══╪═══════════╪═══════════╪═══════════╪═══════════╡\n",
       "│ 2223     ┆ 6.915385 ┆ Mitochondri ┆ Deceased ┆ … ┆ 0.459929  ┆ 0.428571  ┆ 0.404423  ┆ 0.314115  │\n",
       "│          ┆          ┆ al myopathy ┆          ┆   ┆           ┆           ┆           ┆           │\n",
       "│ null     ┆ null     ┆ Cancer      ┆ Deceased ┆ … ┆ 0.045455  ┆ 0.071429  ┆ 0.022222  ┆ 0.0       │\n",
       "│ null     ┆ null     ┆ Cancer      ┆ Alive    ┆ … ┆ 0.139535  ┆ 0.125     ┆ 0.02381   ┆ 0.023256  │\n",
       "│ 668      ┆ 6.863422 ┆ Hemochromat ┆ Alive    ┆ … ┆ 0.319865  ┆ 0.245066  ┆ 0.153213  ┆ 0.110922  │\n",
       "│          ┆          ┆ osis        ┆          ┆   ┆           ┆           ┆           ┆           │\n",
       "│ 2182     ┆ 6.989816 ┆ Mitochondri ┆ Alive    ┆ … ┆ 0.485485  ┆ 0.420181  ┆ 0.382915  ┆ 0.328463  │\n",
       "│          ┆          ┆ al myopathy ┆          ┆   ┆           ┆           ┆           ┆           │\n",
       "│ 1433     ┆ 6.988848 ┆ Tay-Sachs   ┆ Deceased ┆ … ┆ 0.39429   ┆ 0.341258  ┆ 0.273006  ┆ 0.203019  │\n",
       "│ null     ┆ null     ┆ Tay-Sachs   ┆ Alive    ┆ … ┆ 0.360695  ┆ 0.367888  ┆ 0.276899  ┆ 0.189507  │\n",
       "│ 687      ┆ 6.88748  ┆ Hemochromat ┆ Deceased ┆ … ┆ 0.280702  ┆ 0.235484  ┆ 0.177496  ┆ 0.112721  │\n",
       "│          ┆          ┆ osis        ┆          ┆   ┆           ┆           ┆           ┆           │\n",
       "└──────────┴──────────┴─────────────┴──────────┴───┴───────────┴───────────┴───────────┴───────────┘"
      ]
     },
     "execution_count": 22,
     "metadata": {},
     "output_type": "execute_result"
    }
   ],
   "source": [
    "df_subclass_stats.join(\n",
    "    df_subclass_symptoms,\n",
    "    on=[\"Disorder Subclass\", \"Status\"],\n",
    "    how=\"right\",\n",
    ")"
   ]
  },
  {
   "cell_type": "code",
   "execution_count": 24,
   "id": "7eecd5d9",
   "metadata": {},
   "outputs": [
    {
     "data": {
      "text/html": [
       "<div><style>\n",
       ".dataframe > thead > tr,\n",
       ".dataframe > tbody > tr {\n",
       "  text-align: right;\n",
       "  white-space: pre-wrap;\n",
       "}\n",
       "</style>\n",
       "<small>shape: (17, 9)</small><table border=\"1\" class=\"dataframe\"><thead><tr><th>Disorder Subclass</th><th>Status</th><th>patients</th><th>mean_age</th><th>Symptom 1</th><th>Symptom 2</th><th>Symptom 3</th><th>Symptom 4</th><th>Symptom 5</th></tr><tr><td>str</td><td>str</td><td>u32</td><td>f64</td><td>f64</td><td>f64</td><td>f64</td><td>f64</td><td>f64</td></tr></thead><tbody><tr><td>&quot;Alzheimer&#x27;s&quot;</td><td>&quot;Alive&quot;</td><td>77</td><td>6.506667</td><td>null</td><td>null</td><td>null</td><td>null</td><td>null</td></tr><tr><td>&quot;Diabetes&quot;</td><td>&quot;Deceased&quot;</td><td>921</td><td>6.760465</td><td>null</td><td>null</td><td>null</td><td>null</td><td>null</td></tr><tr><td>&quot;Tay-Sachs&quot;</td><td>&quot;Deceased&quot;</td><td>1433</td><td>6.988848</td><td>0.47288</td><td>0.39429</td><td>0.341258</td><td>0.273006</td><td>0.203019</td></tr><tr><td>&quot;Leigh syndrome&quot;</td><td>&quot;Alive&quot;</td><td>2625</td><td>6.902399</td><td>null</td><td>null</td><td>null</td><td>null</td><td>null</td></tr><tr><td>&quot;Leigh syndrome&quot;</td><td>&quot;Deceased&quot;</td><td>2535</td><td>6.971332</td><td>null</td><td>null</td><td>null</td><td>null</td><td>null</td></tr><tr><td>&quot;Hemochromatosis&quot;</td><td>&quot;Alive&quot;</td><td>668</td><td>6.863422</td><td>0.403941</td><td>0.319865</td><td>0.245066</td><td>0.153213</td><td>0.110922</td></tr><tr><td>&quot;Hemochromatosis&quot;</td><td>&quot;Deceased&quot;</td><td>687</td><td>6.88748</td><td>0.381476</td><td>0.280702</td><td>0.235484</td><td>0.177496</td><td>0.112721</td></tr><tr><td>&quot;Mitochondrial myopathy&quot;</td><td>&quot;Alive&quot;</td><td>2182</td><td>6.989816</td><td>0.549669</td><td>0.485485</td><td>0.420181</td><td>0.382915</td><td>0.328463</td></tr><tr><td>&quot;Diabetes&quot;</td><td>&quot;Alive&quot;</td><td>896</td><td>6.986779</td><td>null</td><td>null</td><td>null</td><td>null</td><td>null</td></tr><tr><td>&quot;Alzheimer&#x27;s&quot;</td><td>&quot;Deceased&quot;</td><td>75</td><td>6.60274</td><td>null</td><td>null</td><td>null</td><td>null</td><td>null</td></tr><tr><td>&quot;Leber&#x27;s hereditary optic neuro…</td><td>&quot;Deceased&quot;</td><td>325</td><td>6.53871</td><td>null</td><td>null</td><td>null</td><td>null</td><td>null</td></tr><tr><td>&quot;Mitochondrial myopathy&quot;</td><td>&quot;Deceased&quot;</td><td>2223</td><td>6.915385</td><td>0.5295</td><td>0.459929</td><td>0.428571</td><td>0.404423</td><td>0.314115</td></tr><tr><td>&quot;Cystic fibrosis&quot;</td><td>&quot;Alive&quot;</td><td>1787</td><td>6.989863</td><td>null</td><td>null</td><td>null</td><td>null</td><td>null</td></tr><tr><td>&quot;Cystic fibrosis&quot;</td><td>&quot;Deceased&quot;</td><td>1661</td><td>6.908387</td><td>null</td><td>null</td><td>null</td><td>null</td><td>null</td></tr><tr><td>&quot;Cancer&quot;</td><td>&quot;Deceased&quot;</td><td>null</td><td>null</td><td>0.1875</td><td>0.045455</td><td>0.071429</td><td>0.022222</td><td>0.0</td></tr><tr><td>&quot;Tay-Sachs&quot;</td><td>&quot;Alive&quot;</td><td>null</td><td>null</td><td>0.461298</td><td>0.360695</td><td>0.367888</td><td>0.276899</td><td>0.189507</td></tr><tr><td>&quot;Cancer&quot;</td><td>&quot;Alive&quot;</td><td>null</td><td>null</td><td>0.222222</td><td>0.139535</td><td>0.125</td><td>0.02381</td><td>0.023256</td></tr></tbody></table></div>"
      ],
      "text/plain": [
       "shape: (17, 9)\n",
       "┌─────────────┬──────────┬──────────┬──────────┬───┬───────────┬───────────┬───────────┬───────────┐\n",
       "│ Disorder    ┆ Status   ┆ patients ┆ mean_age ┆ … ┆ Symptom 2 ┆ Symptom 3 ┆ Symptom 4 ┆ Symptom 5 │\n",
       "│ Subclass    ┆ ---      ┆ ---      ┆ ---      ┆   ┆ ---       ┆ ---       ┆ ---       ┆ ---       │\n",
       "│ ---         ┆ str      ┆ u32      ┆ f64      ┆   ┆ f64       ┆ f64       ┆ f64       ┆ f64       │\n",
       "│ str         ┆          ┆          ┆          ┆   ┆           ┆           ┆           ┆           │\n",
       "╞═════════════╪══════════╪══════════╪══════════╪═══╪═══════════╪═══════════╪═══════════╪═══════════╡\n",
       "│ Alzheimer's ┆ Alive    ┆ 77       ┆ 6.506667 ┆ … ┆ null      ┆ null      ┆ null      ┆ null      │\n",
       "│ Diabetes    ┆ Deceased ┆ 921      ┆ 6.760465 ┆ … ┆ null      ┆ null      ┆ null      ┆ null      │\n",
       "│ Tay-Sachs   ┆ Deceased ┆ 1433     ┆ 6.988848 ┆ … ┆ 0.39429   ┆ 0.341258  ┆ 0.273006  ┆ 0.203019  │\n",
       "│ Leigh       ┆ Alive    ┆ 2625     ┆ 6.902399 ┆ … ┆ null      ┆ null      ┆ null      ┆ null      │\n",
       "│ syndrome    ┆          ┆          ┆          ┆   ┆           ┆           ┆           ┆           │\n",
       "│ Leigh       ┆ Deceased ┆ 2535     ┆ 6.971332 ┆ … ┆ null      ┆ null      ┆ null      ┆ null      │\n",
       "│ syndrome    ┆          ┆          ┆          ┆   ┆           ┆           ┆           ┆           │\n",
       "│ Hemochromat ┆ Alive    ┆ 668      ┆ 6.863422 ┆ … ┆ 0.319865  ┆ 0.245066  ┆ 0.153213  ┆ 0.110922  │\n",
       "│ osis        ┆          ┆          ┆          ┆   ┆           ┆           ┆           ┆           │\n",
       "│ Hemochromat ┆ Deceased ┆ 687      ┆ 6.88748  ┆ … ┆ 0.280702  ┆ 0.235484  ┆ 0.177496  ┆ 0.112721  │\n",
       "│ osis        ┆          ┆          ┆          ┆   ┆           ┆           ┆           ┆           │\n",
       "│ Mitochondri ┆ Alive    ┆ 2182     ┆ 6.989816 ┆ … ┆ 0.485485  ┆ 0.420181  ┆ 0.382915  ┆ 0.328463  │\n",
       "│ al myopathy ┆          ┆          ┆          ┆   ┆           ┆           ┆           ┆           │\n",
       "│ Diabetes    ┆ Alive    ┆ 896      ┆ 6.986779 ┆ … ┆ null      ┆ null      ┆ null      ┆ null      │\n",
       "│ Alzheimer's ┆ Deceased ┆ 75       ┆ 6.60274  ┆ … ┆ null      ┆ null      ┆ null      ┆ null      │\n",
       "│ Leber's     ┆ Deceased ┆ 325      ┆ 6.53871  ┆ … ┆ null      ┆ null      ┆ null      ┆ null      │\n",
       "│ hereditary  ┆          ┆          ┆          ┆   ┆           ┆           ┆           ┆           │\n",
       "│ optic       ┆          ┆          ┆          ┆   ┆           ┆           ┆           ┆           │\n",
       "│ neuro…      ┆          ┆          ┆          ┆   ┆           ┆           ┆           ┆           │\n",
       "│ Mitochondri ┆ Deceased ┆ 2223     ┆ 6.915385 ┆ … ┆ 0.459929  ┆ 0.428571  ┆ 0.404423  ┆ 0.314115  │\n",
       "│ al myopathy ┆          ┆          ┆          ┆   ┆           ┆           ┆           ┆           │\n",
       "│ Cystic      ┆ Alive    ┆ 1787     ┆ 6.989863 ┆ … ┆ null      ┆ null      ┆ null      ┆ null      │\n",
       "│ fibrosis    ┆          ┆          ┆          ┆   ┆           ┆           ┆           ┆           │\n",
       "│ Cystic      ┆ Deceased ┆ 1661     ┆ 6.908387 ┆ … ┆ null      ┆ null      ┆ null      ┆ null      │\n",
       "│ fibrosis    ┆          ┆          ┆          ┆   ┆           ┆           ┆           ┆           │\n",
       "│ Cancer      ┆ Deceased ┆ null     ┆ null     ┆ … ┆ 0.045455  ┆ 0.071429  ┆ 0.022222  ┆ 0.0       │\n",
       "│ Tay-Sachs   ┆ Alive    ┆ null     ┆ null     ┆ … ┆ 0.360695  ┆ 0.367888  ┆ 0.276899  ┆ 0.189507  │\n",
       "│ Cancer      ┆ Alive    ┆ null     ┆ null     ┆ … ┆ 0.139535  ┆ 0.125     ┆ 0.02381   ┆ 0.023256  │\n",
       "└─────────────┴──────────┴──────────┴──────────┴───┴───────────┴───────────┴───────────┴───────────┘"
      ]
     },
     "execution_count": 24,
     "metadata": {},
     "output_type": "execute_result"
    }
   ],
   "source": [
    "df_subclass_stats.join(\n",
    "    df_subclass_symptoms,\n",
    "    on=[\"Disorder Subclass\", \"Status\"],\n",
    "    how=\"full\",\n",
    "    coalesce=True,\n",
    ")"
   ]
  },
  {
   "cell_type": "code",
   "execution_count": null,
   "id": "d6f4d382",
   "metadata": {},
   "outputs": [],
   "source": []
  },
  {
   "cell_type": "code",
   "execution_count": 27,
   "id": "60c9297f",
   "metadata": {},
   "outputs": [
    {
     "data": {
      "text/html": [
       "<div><style>\n",
       ".dataframe > thead > tr,\n",
       ".dataframe > tbody > tr {\n",
       "  text-align: right;\n",
       "  white-space: pre-wrap;\n",
       "}\n",
       "</style>\n",
       "<small>shape: (5, 4)</small><table border=\"1\" class=\"dataframe\"><thead><tr><th>Disorder Subclass</th><th>Status</th><th>patients</th><th>mean_age</th></tr><tr><td>str</td><td>str</td><td>u32</td><td>f64</td></tr></thead><tbody><tr><td>&quot;Tay-Sachs&quot;</td><td>&quot;Deceased&quot;</td><td>1433</td><td>6.988848</td></tr><tr><td>&quot;Hemochromatosis&quot;</td><td>&quot;Alive&quot;</td><td>668</td><td>6.863422</td></tr><tr><td>&quot;Hemochromatosis&quot;</td><td>&quot;Deceased&quot;</td><td>687</td><td>6.88748</td></tr><tr><td>&quot;Mitochondrial myopathy&quot;</td><td>&quot;Alive&quot;</td><td>2182</td><td>6.989816</td></tr><tr><td>&quot;Mitochondrial myopathy&quot;</td><td>&quot;Deceased&quot;</td><td>2223</td><td>6.915385</td></tr></tbody></table></div>"
      ],
      "text/plain": [
       "shape: (5, 4)\n",
       "┌────────────────────────┬──────────┬──────────┬──────────┐\n",
       "│ Disorder Subclass      ┆ Status   ┆ patients ┆ mean_age │\n",
       "│ ---                    ┆ ---      ┆ ---      ┆ ---      │\n",
       "│ str                    ┆ str      ┆ u32      ┆ f64      │\n",
       "╞════════════════════════╪══════════╪══════════╪══════════╡\n",
       "│ Tay-Sachs              ┆ Deceased ┆ 1433     ┆ 6.988848 │\n",
       "│ Hemochromatosis        ┆ Alive    ┆ 668      ┆ 6.863422 │\n",
       "│ Hemochromatosis        ┆ Deceased ┆ 687      ┆ 6.88748  │\n",
       "│ Mitochondrial myopathy ┆ Alive    ┆ 2182     ┆ 6.989816 │\n",
       "│ Mitochondrial myopathy ┆ Deceased ┆ 2223     ┆ 6.915385 │\n",
       "└────────────────────────┴──────────┴──────────┴──────────┘"
      ]
     },
     "execution_count": 27,
     "metadata": {},
     "output_type": "execute_result"
    }
   ],
   "source": [
    "df_subclass_stats.join(\n",
    "    df_subclass_symptoms,\n",
    "    on=[\"Disorder Subclass\", \"Status\"],\n",
    "    how=\"semi\"\n",
    ")"
   ]
  },
  {
   "cell_type": "code",
   "execution_count": 30,
   "id": "4654abb6",
   "metadata": {},
   "outputs": [
    {
     "data": {
      "text/html": [
       "<div><style>\n",
       ".dataframe > thead > tr,\n",
       ".dataframe > tbody > tr {\n",
       "  text-align: right;\n",
       "  white-space: pre-wrap;\n",
       "}\n",
       "</style>\n",
       "<small>shape: (9, 4)</small><table border=\"1\" class=\"dataframe\"><thead><tr><th>Disorder Subclass</th><th>Status</th><th>patients</th><th>mean_age</th></tr><tr><td>str</td><td>str</td><td>u32</td><td>f64</td></tr></thead><tbody><tr><td>&quot;Alzheimer&#x27;s&quot;</td><td>&quot;Alive&quot;</td><td>77</td><td>6.506667</td></tr><tr><td>&quot;Diabetes&quot;</td><td>&quot;Deceased&quot;</td><td>921</td><td>6.760465</td></tr><tr><td>&quot;Leigh syndrome&quot;</td><td>&quot;Alive&quot;</td><td>2625</td><td>6.902399</td></tr><tr><td>&quot;Leigh syndrome&quot;</td><td>&quot;Deceased&quot;</td><td>2535</td><td>6.971332</td></tr><tr><td>&quot;Diabetes&quot;</td><td>&quot;Alive&quot;</td><td>896</td><td>6.986779</td></tr><tr><td>&quot;Alzheimer&#x27;s&quot;</td><td>&quot;Deceased&quot;</td><td>75</td><td>6.60274</td></tr><tr><td>&quot;Leber&#x27;s hereditary optic neuro…</td><td>&quot;Deceased&quot;</td><td>325</td><td>6.53871</td></tr><tr><td>&quot;Cystic fibrosis&quot;</td><td>&quot;Alive&quot;</td><td>1787</td><td>6.989863</td></tr><tr><td>&quot;Cystic fibrosis&quot;</td><td>&quot;Deceased&quot;</td><td>1661</td><td>6.908387</td></tr></tbody></table></div>"
      ],
      "text/plain": [
       "shape: (9, 4)\n",
       "┌─────────────────────────────────┬──────────┬──────────┬──────────┐\n",
       "│ Disorder Subclass               ┆ Status   ┆ patients ┆ mean_age │\n",
       "│ ---                             ┆ ---      ┆ ---      ┆ ---      │\n",
       "│ str                             ┆ str      ┆ u32      ┆ f64      │\n",
       "╞═════════════════════════════════╪══════════╪══════════╪══════════╡\n",
       "│ Alzheimer's                     ┆ Alive    ┆ 77       ┆ 6.506667 │\n",
       "│ Diabetes                        ┆ Deceased ┆ 921      ┆ 6.760465 │\n",
       "│ Leigh syndrome                  ┆ Alive    ┆ 2625     ┆ 6.902399 │\n",
       "│ Leigh syndrome                  ┆ Deceased ┆ 2535     ┆ 6.971332 │\n",
       "│ Diabetes                        ┆ Alive    ┆ 896      ┆ 6.986779 │\n",
       "│ Alzheimer's                     ┆ Deceased ┆ 75       ┆ 6.60274  │\n",
       "│ Leber's hereditary optic neuro… ┆ Deceased ┆ 325      ┆ 6.53871  │\n",
       "│ Cystic fibrosis                 ┆ Alive    ┆ 1787     ┆ 6.989863 │\n",
       "│ Cystic fibrosis                 ┆ Deceased ┆ 1661     ┆ 6.908387 │\n",
       "└─────────────────────────────────┴──────────┴──────────┴──────────┘"
      ]
     },
     "execution_count": 30,
     "metadata": {},
     "output_type": "execute_result"
    }
   ],
   "source": [
    "df_subclass_stats.join(\n",
    "    df_subclass_symptoms,\n",
    "    on=[\"Disorder Subclass\", \"Status\"],\n",
    "    how=\"anti\"\n",
    ")"
   ]
  },
  {
   "cell_type": "code",
   "execution_count": null,
   "id": "7401ce5d",
   "metadata": {},
   "outputs": [],
   "source": []
  },
  {
   "cell_type": "code",
   "execution_count": 55,
   "id": "0b4faff5",
   "metadata": {},
   "outputs": [],
   "source": [
    "df_long = (\n",
    "    df_datos.group_by(\"Patient Age\", \"Disorder Subclass\")\n",
    "    .agg(\n",
    "        patients=pl.len(),\n",
    "        mean_rbc=pl.col(\"Blood cell count (mcL)\").mean(),\n",
    "    )\n",
    "    .drop_nulls()\n",
    "    .sort(\"Patient Age\")\n",
    ")"
   ]
  },
  {
   "cell_type": "code",
   "execution_count": 56,
   "id": "2e686ef1",
   "metadata": {},
   "outputs": [
    {
     "data": {
      "text/html": [
       "<div><style>\n",
       ".dataframe > thead > tr,\n",
       ".dataframe > tbody > tr {\n",
       "  text-align: right;\n",
       "  white-space: pre-wrap;\n",
       "}\n",
       "</style>\n",
       "<small>shape: (135, 4)</small><table border=\"1\" class=\"dataframe\"><thead><tr><th>Patient Age</th><th>Disorder Subclass</th><th>patients</th><th>mean_rbc</th></tr><tr><td>f64</td><td>str</td><td>u32</td><td>f64</td></tr></thead><tbody><tr><td>0.0</td><td>&quot;Leigh syndrome&quot;</td><td>333</td><td>4.891196</td></tr><tr><td>0.0</td><td>&quot;Leber&#x27;s hereditary optic neuro…</td><td>56</td><td>4.894919</td></tr><tr><td>0.0</td><td>&quot;Hemochromatosis&quot;</td><td>81</td><td>4.887838</td></tr><tr><td>0.0</td><td>&quot;Cystic fibrosis&quot;</td><td>229</td><td>4.904924</td></tr><tr><td>0.0</td><td>&quot;Mitochondrial myopathy&quot;</td><td>269</td><td>4.889203</td></tr><tr><td>0.0</td><td>&quot;Diabetes&quot;</td><td>124</td><td>4.890575</td></tr><tr><td>0.0</td><td>&quot;Cancer&quot;</td><td>3</td><td>5.003845</td></tr><tr><td>0.0</td><td>&quot;Alzheimer&#x27;s&quot;</td><td>13</td><td>4.83956</td></tr><tr><td>0.0</td><td>&quot;Tay-Sachs&quot;</td><td>159</td><td>4.917336</td></tr><tr><td>1.0</td><td>&quot;Leigh syndrome&quot;</td><td>326</td><td>4.897949</td></tr><tr><td>1.0</td><td>&quot;Mitochondrial myopathy&quot;</td><td>269</td><td>4.887815</td></tr><tr><td>1.0</td><td>&quot;Cystic fibrosis&quot;</td><td>230</td><td>4.887964</td></tr><tr><td>1.0</td><td>&quot;Leber&#x27;s hereditary optic neuro…</td><td>34</td><td>4.86463</td></tr><tr><td>1.0</td><td>&quot;Tay-Sachs&quot;</td><td>164</td><td>4.910093</td></tr><tr><td>1.0</td><td>&quot;Hemochromatosis&quot;</td><td>78</td><td>4.923496</td></tr><tr><td>&hellip;</td><td>&hellip;</td><td>&hellip;</td><td>&hellip;</td></tr><tr><td>13.0</td><td>&quot;Diabetes&quot;</td><td>109</td><td>4.868558</td></tr><tr><td>13.0</td><td>&quot;Leigh syndrome&quot;</td><td>307</td><td>4.913311</td></tr><tr><td>13.0</td><td>&quot;Hemochromatosis&quot;</td><td>71</td><td>4.893412</td></tr><tr><td>13.0</td><td>&quot;Alzheimer&#x27;s&quot;</td><td>6</td><td>4.945038</td></tr><tr><td>13.0</td><td>&quot;Tay-Sachs&quot;</td><td>194</td><td>4.887098</td></tr><tr><td>13.0</td><td>&quot;Mitochondrial myopathy&quot;</td><td>276</td><td>4.88203</td></tr><tr><td>14.0</td><td>&quot;Hemochromatosis&quot;</td><td>76</td><td>4.897871</td></tr><tr><td>14.0</td><td>&quot;Diabetes&quot;</td><td>119</td><td>4.91271</td></tr><tr><td>14.0</td><td>&quot;Cancer&quot;</td><td>9</td><td>4.839857</td></tr><tr><td>14.0</td><td>&quot;Alzheimer&#x27;s&quot;</td><td>8</td><td>4.919378</td></tr><tr><td>14.0</td><td>&quot;Tay-Sachs&quot;</td><td>176</td><td>4.919789</td></tr><tr><td>14.0</td><td>&quot;Cystic fibrosis&quot;</td><td>203</td><td>4.89452</td></tr><tr><td>14.0</td><td>&quot;Leigh syndrome&quot;</td><td>316</td><td>4.91065</td></tr><tr><td>14.0</td><td>&quot;Leber&#x27;s hereditary optic neuro…</td><td>40</td><td>4.910821</td></tr><tr><td>14.0</td><td>&quot;Mitochondrial myopathy&quot;</td><td>241</td><td>4.90207</td></tr></tbody></table></div>"
      ],
      "text/plain": [
       "shape: (135, 4)\n",
       "┌─────────────┬─────────────────────────────────┬──────────┬──────────┐\n",
       "│ Patient Age ┆ Disorder Subclass               ┆ patients ┆ mean_rbc │\n",
       "│ ---         ┆ ---                             ┆ ---      ┆ ---      │\n",
       "│ f64         ┆ str                             ┆ u32      ┆ f64      │\n",
       "╞═════════════╪═════════════════════════════════╪══════════╪══════════╡\n",
       "│ 0.0         ┆ Leigh syndrome                  ┆ 333      ┆ 4.891196 │\n",
       "│ 0.0         ┆ Leber's hereditary optic neuro… ┆ 56       ┆ 4.894919 │\n",
       "│ 0.0         ┆ Hemochromatosis                 ┆ 81       ┆ 4.887838 │\n",
       "│ 0.0         ┆ Cystic fibrosis                 ┆ 229      ┆ 4.904924 │\n",
       "│ 0.0         ┆ Mitochondrial myopathy          ┆ 269      ┆ 4.889203 │\n",
       "│ 0.0         ┆ Diabetes                        ┆ 124      ┆ 4.890575 │\n",
       "│ 0.0         ┆ Cancer                          ┆ 3        ┆ 5.003845 │\n",
       "│ 0.0         ┆ Alzheimer's                     ┆ 13       ┆ 4.83956  │\n",
       "│ 0.0         ┆ Tay-Sachs                       ┆ 159      ┆ 4.917336 │\n",
       "│ 1.0         ┆ Leigh syndrome                  ┆ 326      ┆ 4.897949 │\n",
       "│ 1.0         ┆ Mitochondrial myopathy          ┆ 269      ┆ 4.887815 │\n",
       "│ 1.0         ┆ Cystic fibrosis                 ┆ 230      ┆ 4.887964 │\n",
       "│ 1.0         ┆ Leber's hereditary optic neuro… ┆ 34       ┆ 4.86463  │\n",
       "│ 1.0         ┆ Tay-Sachs                       ┆ 164      ┆ 4.910093 │\n",
       "│ 1.0         ┆ Hemochromatosis                 ┆ 78       ┆ 4.923496 │\n",
       "│ …           ┆ …                               ┆ …        ┆ …        │\n",
       "│ 13.0        ┆ Diabetes                        ┆ 109      ┆ 4.868558 │\n",
       "│ 13.0        ┆ Leigh syndrome                  ┆ 307      ┆ 4.913311 │\n",
       "│ 13.0        ┆ Hemochromatosis                 ┆ 71       ┆ 4.893412 │\n",
       "│ 13.0        ┆ Alzheimer's                     ┆ 6        ┆ 4.945038 │\n",
       "│ 13.0        ┆ Tay-Sachs                       ┆ 194      ┆ 4.887098 │\n",
       "│ 13.0        ┆ Mitochondrial myopathy          ┆ 276      ┆ 4.88203  │\n",
       "│ 14.0        ┆ Hemochromatosis                 ┆ 76       ┆ 4.897871 │\n",
       "│ 14.0        ┆ Diabetes                        ┆ 119      ┆ 4.91271  │\n",
       "│ 14.0        ┆ Cancer                          ┆ 9        ┆ 4.839857 │\n",
       "│ 14.0        ┆ Alzheimer's                     ┆ 8        ┆ 4.919378 │\n",
       "│ 14.0        ┆ Tay-Sachs                       ┆ 176      ┆ 4.919789 │\n",
       "│ 14.0        ┆ Cystic fibrosis                 ┆ 203      ┆ 4.89452  │\n",
       "│ 14.0        ┆ Leigh syndrome                  ┆ 316      ┆ 4.91065  │\n",
       "│ 14.0        ┆ Leber's hereditary optic neuro… ┆ 40       ┆ 4.910821 │\n",
       "│ 14.0        ┆ Mitochondrial myopathy          ┆ 241      ┆ 4.90207  │\n",
       "└─────────────┴─────────────────────────────────┴──────────┴──────────┘"
      ]
     },
     "execution_count": 56,
     "metadata": {},
     "output_type": "execute_result"
    }
   ],
   "source": [
    "df_long"
   ]
  },
  {
   "cell_type": "code",
   "execution_count": 57,
   "id": "367c4105",
   "metadata": {},
   "outputs": [
    {
     "data": {
      "text/html": [
       "<div><style>\n",
       ".dataframe > thead > tr,\n",
       ".dataframe > tbody > tr {\n",
       "  text-align: right;\n",
       "  white-space: pre-wrap;\n",
       "}\n",
       "</style>\n",
       "<small>shape: (9, 16)</small><table border=\"1\" class=\"dataframe\"><thead><tr><th>Disorder Subclass</th><th>0.0</th><th>1.0</th><th>2.0</th><th>3.0</th><th>4.0</th><th>5.0</th><th>6.0</th><th>7.0</th><th>8.0</th><th>9.0</th><th>10.0</th><th>11.0</th><th>12.0</th><th>13.0</th><th>14.0</th></tr><tr><td>str</td><td>u32</td><td>u32</td><td>u32</td><td>u32</td><td>u32</td><td>u32</td><td>u32</td><td>u32</td><td>u32</td><td>u32</td><td>u32</td><td>u32</td><td>u32</td><td>u32</td><td>u32</td></tr></thead><tbody><tr><td>&quot;Leigh syndrome&quot;</td><td>333</td><td>326</td><td>316</td><td>327</td><td>335</td><td>328</td><td>320</td><td>344</td><td>300</td><td>330</td><td>301</td><td>309</td><td>339</td><td>307</td><td>316</td></tr><tr><td>&quot;Leber&#x27;s hereditary optic neuro…</td><td>56</td><td>34</td><td>51</td><td>41</td><td>30</td><td>41</td><td>33</td><td>44</td><td>41</td><td>41</td><td>52</td><td>33</td><td>28</td><td>43</td><td>40</td></tr><tr><td>&quot;Hemochromatosis&quot;</td><td>81</td><td>78</td><td>105</td><td>91</td><td>82</td><td>80</td><td>91</td><td>77</td><td>95</td><td>85</td><td>81</td><td>78</td><td>97</td><td>71</td><td>76</td></tr><tr><td>&quot;Cystic fibrosis&quot;</td><td>229</td><td>230</td><td>187</td><td>232</td><td>218</td><td>212</td><td>219</td><td>219</td><td>202</td><td>207</td><td>210</td><td>209</td><td>219</td><td>231</td><td>203</td></tr><tr><td>&quot;Mitochondrial myopathy&quot;</td><td>269</td><td>269</td><td>297</td><td>273</td><td>292</td><td>282</td><td>268</td><td>277</td><td>259</td><td>299</td><td>266</td><td>283</td><td>291</td><td>276</td><td>241</td></tr><tr><td>&quot;Diabetes&quot;</td><td>124</td><td>122</td><td>111</td><td>113</td><td>124</td><td>118</td><td>106</td><td>100</td><td>114</td><td>108</td><td>110</td><td>113</td><td>101</td><td>109</td><td>119</td></tr><tr><td>&quot;Cancer&quot;</td><td>3</td><td>1</td><td>8</td><td>6</td><td>13</td><td>6</td><td>7</td><td>4</td><td>8</td><td>5</td><td>4</td><td>4</td><td>6</td><td>8</td><td>9</td></tr><tr><td>&quot;Alzheimer&#x27;s&quot;</td><td>13</td><td>5</td><td>9</td><td>13</td><td>15</td><td>10</td><td>16</td><td>6</td><td>9</td><td>8</td><td>14</td><td>6</td><td>10</td><td>6</td><td>8</td></tr><tr><td>&quot;Tay-Sachs&quot;</td><td>159</td><td>164</td><td>190</td><td>164</td><td>186</td><td>193</td><td>178</td><td>163</td><td>178</td><td>203</td><td>150</td><td>181</td><td>185</td><td>194</td><td>176</td></tr></tbody></table></div>"
      ],
      "text/plain": [
       "shape: (9, 16)\n",
       "┌─────────────────────────────────┬─────┬─────┬─────┬───┬──────┬──────┬──────┬──────┐\n",
       "│ Disorder Subclass               ┆ 0.0 ┆ 1.0 ┆ 2.0 ┆ … ┆ 11.0 ┆ 12.0 ┆ 13.0 ┆ 14.0 │\n",
       "│ ---                             ┆ --- ┆ --- ┆ --- ┆   ┆ ---  ┆ ---  ┆ ---  ┆ ---  │\n",
       "│ str                             ┆ u32 ┆ u32 ┆ u32 ┆   ┆ u32  ┆ u32  ┆ u32  ┆ u32  │\n",
       "╞═════════════════════════════════╪═════╪═════╪═════╪═══╪══════╪══════╪══════╪══════╡\n",
       "│ Leigh syndrome                  ┆ 333 ┆ 326 ┆ 316 ┆ … ┆ 309  ┆ 339  ┆ 307  ┆ 316  │\n",
       "│ Leber's hereditary optic neuro… ┆ 56  ┆ 34  ┆ 51  ┆ … ┆ 33   ┆ 28   ┆ 43   ┆ 40   │\n",
       "│ Hemochromatosis                 ┆ 81  ┆ 78  ┆ 105 ┆ … ┆ 78   ┆ 97   ┆ 71   ┆ 76   │\n",
       "│ Cystic fibrosis                 ┆ 229 ┆ 230 ┆ 187 ┆ … ┆ 209  ┆ 219  ┆ 231  ┆ 203  │\n",
       "│ Mitochondrial myopathy          ┆ 269 ┆ 269 ┆ 297 ┆ … ┆ 283  ┆ 291  ┆ 276  ┆ 241  │\n",
       "│ Diabetes                        ┆ 124 ┆ 122 ┆ 111 ┆ … ┆ 113  ┆ 101  ┆ 109  ┆ 119  │\n",
       "│ Cancer                          ┆ 3   ┆ 1   ┆ 8   ┆ … ┆ 4    ┆ 6    ┆ 8    ┆ 9    │\n",
       "│ Alzheimer's                     ┆ 13  ┆ 5   ┆ 9   ┆ … ┆ 6    ┆ 10   ┆ 6    ┆ 8    │\n",
       "│ Tay-Sachs                       ┆ 159 ┆ 164 ┆ 190 ┆ … ┆ 181  ┆ 185  ┆ 194  ┆ 176  │\n",
       "└─────────────────────────────────┴─────┴─────┴─────┴───┴──────┴──────┴──────┴──────┘"
      ]
     },
     "execution_count": 57,
     "metadata": {},
     "output_type": "execute_result"
    }
   ],
   "source": [
    "df_long.pivot(\n",
    "    index=\"Disorder Subclass\",\n",
    "    on=\"Patient Age\",\n",
    "    values=\"patients\"\n",
    ")"
   ]
  },
  {
   "cell_type": "code",
   "execution_count": 59,
   "id": "3ca67287",
   "metadata": {},
   "outputs": [
    {
     "data": {
      "text/html": [
       "<div><style>\n",
       ".dataframe > thead > tr,\n",
       ".dataframe > tbody > tr {\n",
       "  text-align: right;\n",
       "  white-space: pre-wrap;\n",
       "}\n",
       "</style>\n",
       "<small>shape: (268, 5)</small><table border=\"1\" class=\"dataframe\"><thead><tr><th>Patient Age</th><th>Disorder Subclass</th><th>Status</th><th>patients</th><th>mean_rbc</th></tr><tr><td>f64</td><td>str</td><td>str</td><td>u32</td><td>f64</td></tr></thead><tbody><tr><td>0.0</td><td>&quot;Cancer&quot;</td><td>&quot;Alive&quot;</td><td>2</td><td>4.875913</td></tr><tr><td>0.0</td><td>&quot;Leigh syndrome&quot;</td><td>&quot;Alive&quot;</td><td>181</td><td>4.898793</td></tr><tr><td>0.0</td><td>&quot;Leber&#x27;s hereditary optic neuro…</td><td>&quot;Alive&quot;</td><td>30</td><td>4.881612</td></tr><tr><td>0.0</td><td>&quot;Cancer&quot;</td><td>&quot;Deceased&quot;</td><td>1</td><td>5.25971</td></tr><tr><td>0.0</td><td>&quot;Mitochondrial myopathy&quot;</td><td>&quot;Deceased&quot;</td><td>135</td><td>4.893105</td></tr><tr><td>0.0</td><td>&quot;Alzheimer&#x27;s&quot;</td><td>&quot;Deceased&quot;</td><td>7</td><td>4.871179</td></tr><tr><td>0.0</td><td>&quot;Mitochondrial myopathy&quot;</td><td>&quot;Alive&quot;</td><td>134</td><td>4.885272</td></tr><tr><td>0.0</td><td>&quot;Diabetes&quot;</td><td>&quot;Alive&quot;</td><td>55</td><td>4.872227</td></tr><tr><td>0.0</td><td>&quot;Leigh syndrome&quot;</td><td>&quot;Deceased&quot;</td><td>152</td><td>4.882149</td></tr><tr><td>0.0</td><td>&quot;Cystic fibrosis&quot;</td><td>&quot;Deceased&quot;</td><td>109</td><td>4.891926</td></tr><tr><td>0.0</td><td>&quot;Hemochromatosis&quot;</td><td>&quot;Deceased&quot;</td><td>33</td><td>4.89139</td></tr><tr><td>0.0</td><td>&quot;Tay-Sachs&quot;</td><td>&quot;Deceased&quot;</td><td>84</td><td>4.917584</td></tr><tr><td>0.0</td><td>&quot;Hemochromatosis&quot;</td><td>&quot;Alive&quot;</td><td>48</td><td>4.885396</td></tr><tr><td>0.0</td><td>&quot;Leber&#x27;s hereditary optic neuro…</td><td>&quot;Deceased&quot;</td><td>26</td><td>4.910273</td></tr><tr><td>0.0</td><td>&quot;Alzheimer&#x27;s&quot;</td><td>&quot;Alive&quot;</td><td>6</td><td>4.802671</td></tr><tr><td>&hellip;</td><td>&hellip;</td><td>&hellip;</td><td>&hellip;</td><td>&hellip;</td></tr><tr><td>14.0</td><td>&quot;Diabetes&quot;</td><td>&quot;Alive&quot;</td><td>60</td><td>4.920596</td></tr><tr><td>14.0</td><td>&quot;Leigh syndrome&quot;</td><td>&quot;Deceased&quot;</td><td>155</td><td>4.914452</td></tr><tr><td>14.0</td><td>&quot;Alzheimer&#x27;s&quot;</td><td>&quot;Deceased&quot;</td><td>5</td><td>4.921417</td></tr><tr><td>14.0</td><td>&quot;Cancer&quot;</td><td>&quot;Deceased&quot;</td><td>5</td><td>4.872837</td></tr><tr><td>14.0</td><td>&quot;Hemochromatosis&quot;</td><td>&quot;Deceased&quot;</td><td>36</td><td>4.868458</td></tr><tr><td>14.0</td><td>&quot;Tay-Sachs&quot;</td><td>&quot;Deceased&quot;</td><td>87</td><td>4.922312</td></tr><tr><td>14.0</td><td>&quot;Mitochondrial myopathy&quot;</td><td>&quot;Deceased&quot;</td><td>124</td><td>4.898111</td></tr><tr><td>14.0</td><td>&quot;Cystic fibrosis&quot;</td><td>&quot;Deceased&quot;</td><td>86</td><td>4.894498</td></tr><tr><td>14.0</td><td>&quot;Leber&#x27;s hereditary optic neuro…</td><td>&quot;Deceased&quot;</td><td>15</td><td>4.89541</td></tr><tr><td>14.0</td><td>&quot;Mitochondrial myopathy&quot;</td><td>&quot;Alive&quot;</td><td>117</td><td>4.906266</td></tr><tr><td>14.0</td><td>&quot;Tay-Sachs&quot;</td><td>&quot;Alive&quot;</td><td>89</td><td>4.917323</td></tr><tr><td>14.0</td><td>&quot;Cancer&quot;</td><td>&quot;Alive&quot;</td><td>4</td><td>4.798632</td></tr><tr><td>14.0</td><td>&quot;Hemochromatosis&quot;</td><td>&quot;Alive&quot;</td><td>40</td><td>4.924342</td></tr><tr><td>14.0</td><td>&quot;Alzheimer&#x27;s&quot;</td><td>&quot;Alive&quot;</td><td>3</td><td>4.91598</td></tr><tr><td>14.0</td><td>&quot;Leigh syndrome&quot;</td><td>&quot;Alive&quot;</td><td>161</td><td>4.906991</td></tr></tbody></table></div>"
      ],
      "text/plain": [
       "shape: (268, 5)\n",
       "┌─────────────┬─────────────────────────────────┬──────────┬──────────┬──────────┐\n",
       "│ Patient Age ┆ Disorder Subclass               ┆ Status   ┆ patients ┆ mean_rbc │\n",
       "│ ---         ┆ ---                             ┆ ---      ┆ ---      ┆ ---      │\n",
       "│ f64         ┆ str                             ┆ str      ┆ u32      ┆ f64      │\n",
       "╞═════════════╪═════════════════════════════════╪══════════╪══════════╪══════════╡\n",
       "│ 0.0         ┆ Cancer                          ┆ Alive    ┆ 2        ┆ 4.875913 │\n",
       "│ 0.0         ┆ Leigh syndrome                  ┆ Alive    ┆ 181      ┆ 4.898793 │\n",
       "│ 0.0         ┆ Leber's hereditary optic neuro… ┆ Alive    ┆ 30       ┆ 4.881612 │\n",
       "│ 0.0         ┆ Cancer                          ┆ Deceased ┆ 1        ┆ 5.25971  │\n",
       "│ 0.0         ┆ Mitochondrial myopathy          ┆ Deceased ┆ 135      ┆ 4.893105 │\n",
       "│ 0.0         ┆ Alzheimer's                     ┆ Deceased ┆ 7        ┆ 4.871179 │\n",
       "│ 0.0         ┆ Mitochondrial myopathy          ┆ Alive    ┆ 134      ┆ 4.885272 │\n",
       "│ 0.0         ┆ Diabetes                        ┆ Alive    ┆ 55       ┆ 4.872227 │\n",
       "│ 0.0         ┆ Leigh syndrome                  ┆ Deceased ┆ 152      ┆ 4.882149 │\n",
       "│ 0.0         ┆ Cystic fibrosis                 ┆ Deceased ┆ 109      ┆ 4.891926 │\n",
       "│ 0.0         ┆ Hemochromatosis                 ┆ Deceased ┆ 33       ┆ 4.89139  │\n",
       "│ 0.0         ┆ Tay-Sachs                       ┆ Deceased ┆ 84       ┆ 4.917584 │\n",
       "│ 0.0         ┆ Hemochromatosis                 ┆ Alive    ┆ 48       ┆ 4.885396 │\n",
       "│ 0.0         ┆ Leber's hereditary optic neuro… ┆ Deceased ┆ 26       ┆ 4.910273 │\n",
       "│ 0.0         ┆ Alzheimer's                     ┆ Alive    ┆ 6        ┆ 4.802671 │\n",
       "│ …           ┆ …                               ┆ …        ┆ …        ┆ …        │\n",
       "│ 14.0        ┆ Diabetes                        ┆ Alive    ┆ 60       ┆ 4.920596 │\n",
       "│ 14.0        ┆ Leigh syndrome                  ┆ Deceased ┆ 155      ┆ 4.914452 │\n",
       "│ 14.0        ┆ Alzheimer's                     ┆ Deceased ┆ 5        ┆ 4.921417 │\n",
       "│ 14.0        ┆ Cancer                          ┆ Deceased ┆ 5        ┆ 4.872837 │\n",
       "│ 14.0        ┆ Hemochromatosis                 ┆ Deceased ┆ 36       ┆ 4.868458 │\n",
       "│ 14.0        ┆ Tay-Sachs                       ┆ Deceased ┆ 87       ┆ 4.922312 │\n",
       "│ 14.0        ┆ Mitochondrial myopathy          ┆ Deceased ┆ 124      ┆ 4.898111 │\n",
       "│ 14.0        ┆ Cystic fibrosis                 ┆ Deceased ┆ 86       ┆ 4.894498 │\n",
       "│ 14.0        ┆ Leber's hereditary optic neuro… ┆ Deceased ┆ 15       ┆ 4.89541  │\n",
       "│ 14.0        ┆ Mitochondrial myopathy          ┆ Alive    ┆ 117      ┆ 4.906266 │\n",
       "│ 14.0        ┆ Tay-Sachs                       ┆ Alive    ┆ 89       ┆ 4.917323 │\n",
       "│ 14.0        ┆ Cancer                          ┆ Alive    ┆ 4        ┆ 4.798632 │\n",
       "│ 14.0        ┆ Hemochromatosis                 ┆ Alive    ┆ 40       ┆ 4.924342 │\n",
       "│ 14.0        ┆ Alzheimer's                     ┆ Alive    ┆ 3        ┆ 4.91598  │\n",
       "│ 14.0        ┆ Leigh syndrome                  ┆ Alive    ┆ 161      ┆ 4.906991 │\n",
       "└─────────────┴─────────────────────────────────┴──────────┴──────────┴──────────┘"
      ]
     },
     "execution_count": 59,
     "metadata": {},
     "output_type": "execute_result"
    }
   ],
   "source": [
    "df_long2 = (\n",
    "    df_datos.group_by(\"Patient Age\", \"Disorder Subclass\", \"Status\")\n",
    "    .agg(\n",
    "        patients=pl.len(),\n",
    "        mean_rbc=pl.col(\"Blood cell count (mcL)\").mean(),\n",
    "    )\n",
    "    .drop_nulls()\n",
    "    .sort(\"Patient Age\")\n",
    ")\n",
    "df_long2"
   ]
  },
  {
   "cell_type": "code",
   "execution_count": 62,
   "id": "76f660fb",
   "metadata": {},
   "outputs": [
    {
     "data": {
      "text/html": [
       "<div><style>\n",
       ".dataframe > thead > tr,\n",
       ".dataframe > tbody > tr {\n",
       "  text-align: right;\n",
       "  white-space: pre-wrap;\n",
       "}\n",
       "</style>\n",
       "<small>shape: (18, 17)</small><table border=\"1\" class=\"dataframe\"><thead><tr><th>Disorder Subclass</th><th>Status</th><th>0.0</th><th>1.0</th><th>2.0</th><th>3.0</th><th>4.0</th><th>5.0</th><th>6.0</th><th>7.0</th><th>8.0</th><th>9.0</th><th>10.0</th><th>11.0</th><th>12.0</th><th>13.0</th><th>14.0</th></tr><tr><td>str</td><td>str</td><td>u32</td><td>u32</td><td>u32</td><td>u32</td><td>u32</td><td>u32</td><td>u32</td><td>u32</td><td>u32</td><td>u32</td><td>u32</td><td>u32</td><td>u32</td><td>u32</td><td>u32</td></tr></thead><tbody><tr><td>&quot;Cancer&quot;</td><td>&quot;Alive&quot;</td><td>2</td><td>null</td><td>4</td><td>1</td><td>6</td><td>4</td><td>3</td><td>null</td><td>3</td><td>4</td><td>3</td><td>3</td><td>4</td><td>2</td><td>4</td></tr><tr><td>&quot;Leigh syndrome&quot;</td><td>&quot;Alive&quot;</td><td>181</td><td>154</td><td>165</td><td>173</td><td>179</td><td>163</td><td>160</td><td>162</td><td>153</td><td>169</td><td>155</td><td>165</td><td>166</td><td>153</td><td>161</td></tr><tr><td>&quot;Leber&#x27;s hereditary optic neuro…</td><td>&quot;Alive&quot;</td><td>30</td><td>17</td><td>23</td><td>18</td><td>9</td><td>21</td><td>10</td><td>24</td><td>22</td><td>22</td><td>22</td><td>16</td><td>15</td><td>24</td><td>25</td></tr><tr><td>&quot;Cancer&quot;</td><td>&quot;Deceased&quot;</td><td>1</td><td>1</td><td>4</td><td>5</td><td>7</td><td>2</td><td>4</td><td>4</td><td>5</td><td>1</td><td>1</td><td>1</td><td>2</td><td>6</td><td>5</td></tr><tr><td>&quot;Mitochondrial myopathy&quot;</td><td>&quot;Deceased&quot;</td><td>135</td><td>136</td><td>150</td><td>151</td><td>154</td><td>122</td><td>132</td><td>139</td><td>132</td><td>155</td><td>139</td><td>132</td><td>152</td><td>127</td><td>124</td></tr><tr><td>&quot;Alzheimer&#x27;s&quot;</td><td>&quot;Deceased&quot;</td><td>7</td><td>2</td><td>3</td><td>7</td><td>7</td><td>7</td><td>5</td><td>3</td><td>5</td><td>5</td><td>10</td><td>1</td><td>5</td><td>1</td><td>5</td></tr><tr><td>&quot;Mitochondrial myopathy&quot;</td><td>&quot;Alive&quot;</td><td>134</td><td>133</td><td>147</td><td>122</td><td>138</td><td>160</td><td>136</td><td>138</td><td>127</td><td>144</td><td>127</td><td>151</td><td>139</td><td>149</td><td>117</td></tr><tr><td>&quot;Diabetes&quot;</td><td>&quot;Alive&quot;</td><td>55</td><td>57</td><td>57</td><td>47</td><td>63</td><td>54</td><td>54</td><td>55</td><td>62</td><td>52</td><td>59</td><td>59</td><td>47</td><td>51</td><td>60</td></tr><tr><td>&quot;Leigh syndrome&quot;</td><td>&quot;Deceased&quot;</td><td>152</td><td>172</td><td>151</td><td>154</td><td>156</td><td>165</td><td>160</td><td>182</td><td>147</td><td>161</td><td>146</td><td>144</td><td>173</td><td>154</td><td>155</td></tr><tr><td>&quot;Cystic fibrosis&quot;</td><td>&quot;Deceased&quot;</td><td>109</td><td>110</td><td>94</td><td>110</td><td>104</td><td>96</td><td>107</td><td>111</td><td>109</td><td>103</td><td>95</td><td>96</td><td>104</td><td>116</td><td>86</td></tr><tr><td>&quot;Hemochromatosis&quot;</td><td>&quot;Deceased&quot;</td><td>33</td><td>37</td><td>53</td><td>47</td><td>38</td><td>48</td><td>47</td><td>44</td><td>45</td><td>42</td><td>47</td><td>33</td><td>48</td><td>33</td><td>36</td></tr><tr><td>&quot;Tay-Sachs&quot;</td><td>&quot;Deceased&quot;</td><td>84</td><td>79</td><td>106</td><td>80</td><td>94</td><td>104</td><td>88</td><td>84</td><td>86</td><td>110</td><td>78</td><td>84</td><td>96</td><td>85</td><td>87</td></tr><tr><td>&quot;Hemochromatosis&quot;</td><td>&quot;Alive&quot;</td><td>48</td><td>41</td><td>52</td><td>44</td><td>44</td><td>32</td><td>44</td><td>33</td><td>50</td><td>43</td><td>34</td><td>45</td><td>49</td><td>38</td><td>40</td></tr><tr><td>&quot;Leber&#x27;s hereditary optic neuro…</td><td>&quot;Deceased&quot;</td><td>26</td><td>17</td><td>28</td><td>23</td><td>21</td><td>20</td><td>23</td><td>20</td><td>19</td><td>19</td><td>30</td><td>17</td><td>13</td><td>19</td><td>15</td></tr><tr><td>&quot;Alzheimer&#x27;s&quot;</td><td>&quot;Alive&quot;</td><td>6</td><td>3</td><td>6</td><td>6</td><td>8</td><td>3</td><td>11</td><td>3</td><td>4</td><td>3</td><td>4</td><td>5</td><td>5</td><td>5</td><td>3</td></tr><tr><td>&quot;Tay-Sachs&quot;</td><td>&quot;Alive&quot;</td><td>75</td><td>85</td><td>84</td><td>84</td><td>92</td><td>89</td><td>90</td><td>79</td><td>92</td><td>93</td><td>72</td><td>97</td><td>89</td><td>109</td><td>89</td></tr><tr><td>&quot;Diabetes&quot;</td><td>&quot;Deceased&quot;</td><td>69</td><td>65</td><td>54</td><td>66</td><td>61</td><td>64</td><td>52</td><td>45</td><td>52</td><td>56</td><td>51</td><td>54</td><td>54</td><td>58</td><td>59</td></tr><tr><td>&quot;Cystic fibrosis&quot;</td><td>&quot;Alive&quot;</td><td>120</td><td>120</td><td>93</td><td>122</td><td>114</td><td>116</td><td>112</td><td>108</td><td>93</td><td>104</td><td>115</td><td>113</td><td>115</td><td>115</td><td>117</td></tr></tbody></table></div>"
      ],
      "text/plain": [
       "shape: (18, 17)\n",
       "┌─────────────────────────────────┬──────────┬─────┬──────┬───┬──────┬──────┬──────┬──────┐\n",
       "│ Disorder Subclass               ┆ Status   ┆ 0.0 ┆ 1.0  ┆ … ┆ 11.0 ┆ 12.0 ┆ 13.0 ┆ 14.0 │\n",
       "│ ---                             ┆ ---      ┆ --- ┆ ---  ┆   ┆ ---  ┆ ---  ┆ ---  ┆ ---  │\n",
       "│ str                             ┆ str      ┆ u32 ┆ u32  ┆   ┆ u32  ┆ u32  ┆ u32  ┆ u32  │\n",
       "╞═════════════════════════════════╪══════════╪═════╪══════╪═══╪══════╪══════╪══════╪══════╡\n",
       "│ Cancer                          ┆ Alive    ┆ 2   ┆ null ┆ … ┆ 3    ┆ 4    ┆ 2    ┆ 4    │\n",
       "│ Leigh syndrome                  ┆ Alive    ┆ 181 ┆ 154  ┆ … ┆ 165  ┆ 166  ┆ 153  ┆ 161  │\n",
       "│ Leber's hereditary optic neuro… ┆ Alive    ┆ 30  ┆ 17   ┆ … ┆ 16   ┆ 15   ┆ 24   ┆ 25   │\n",
       "│ Cancer                          ┆ Deceased ┆ 1   ┆ 1    ┆ … ┆ 1    ┆ 2    ┆ 6    ┆ 5    │\n",
       "│ Mitochondrial myopathy          ┆ Deceased ┆ 135 ┆ 136  ┆ … ┆ 132  ┆ 152  ┆ 127  ┆ 124  │\n",
       "│ Alzheimer's                     ┆ Deceased ┆ 7   ┆ 2    ┆ … ┆ 1    ┆ 5    ┆ 1    ┆ 5    │\n",
       "│ Mitochondrial myopathy          ┆ Alive    ┆ 134 ┆ 133  ┆ … ┆ 151  ┆ 139  ┆ 149  ┆ 117  │\n",
       "│ Diabetes                        ┆ Alive    ┆ 55  ┆ 57   ┆ … ┆ 59   ┆ 47   ┆ 51   ┆ 60   │\n",
       "│ Leigh syndrome                  ┆ Deceased ┆ 152 ┆ 172  ┆ … ┆ 144  ┆ 173  ┆ 154  ┆ 155  │\n",
       "│ Cystic fibrosis                 ┆ Deceased ┆ 109 ┆ 110  ┆ … ┆ 96   ┆ 104  ┆ 116  ┆ 86   │\n",
       "│ Hemochromatosis                 ┆ Deceased ┆ 33  ┆ 37   ┆ … ┆ 33   ┆ 48   ┆ 33   ┆ 36   │\n",
       "│ Tay-Sachs                       ┆ Deceased ┆ 84  ┆ 79   ┆ … ┆ 84   ┆ 96   ┆ 85   ┆ 87   │\n",
       "│ Hemochromatosis                 ┆ Alive    ┆ 48  ┆ 41   ┆ … ┆ 45   ┆ 49   ┆ 38   ┆ 40   │\n",
       "│ Leber's hereditary optic neuro… ┆ Deceased ┆ 26  ┆ 17   ┆ … ┆ 17   ┆ 13   ┆ 19   ┆ 15   │\n",
       "│ Alzheimer's                     ┆ Alive    ┆ 6   ┆ 3    ┆ … ┆ 5    ┆ 5    ┆ 5    ┆ 3    │\n",
       "│ Tay-Sachs                       ┆ Alive    ┆ 75  ┆ 85   ┆ … ┆ 97   ┆ 89   ┆ 109  ┆ 89   │\n",
       "│ Diabetes                        ┆ Deceased ┆ 69  ┆ 65   ┆ … ┆ 54   ┆ 54   ┆ 58   ┆ 59   │\n",
       "│ Cystic fibrosis                 ┆ Alive    ┆ 120 ┆ 120  ┆ … ┆ 113  ┆ 115  ┆ 115  ┆ 117  │\n",
       "└─────────────────────────────────┴──────────┴─────┴──────┴───┴──────┴──────┴──────┴──────┘"
      ]
     },
     "execution_count": 62,
     "metadata": {},
     "output_type": "execute_result"
    }
   ],
   "source": [
    "df_long2.pivot(\n",
    "    index=[\"Disorder Subclass\", \"Status\"],\n",
    "    on=\"Patient Age\",\n",
    "    values=\"patients\"\n",
    ")"
   ]
  },
  {
   "cell_type": "code",
   "execution_count": 63,
   "id": "e10e4104",
   "metadata": {},
   "outputs": [
    {
     "data": {
      "text/html": [
       "<div><style>\n",
       ".dataframe > thead > tr,\n",
       ".dataframe > tbody > tr {\n",
       "  text-align: right;\n",
       "  white-space: pre-wrap;\n",
       "}\n",
       "</style>\n",
       "<small>shape: (9, 16)</small><table border=\"1\" class=\"dataframe\"><thead><tr><th>Disorder Subclass</th><th>0.0</th><th>1.0</th><th>2.0</th><th>3.0</th><th>4.0</th><th>5.0</th><th>6.0</th><th>7.0</th><th>8.0</th><th>9.0</th><th>10.0</th><th>11.0</th><th>12.0</th><th>13.0</th><th>14.0</th></tr><tr><td>str</td><td>u32</td><td>u32</td><td>u32</td><td>u32</td><td>u32</td><td>u32</td><td>u32</td><td>u32</td><td>u32</td><td>u32</td><td>u32</td><td>u32</td><td>u32</td><td>u32</td><td>u32</td></tr></thead><tbody><tr><td>&quot;Cancer&quot;</td><td>3</td><td>1</td><td>8</td><td>6</td><td>13</td><td>6</td><td>7</td><td>4</td><td>8</td><td>5</td><td>4</td><td>4</td><td>6</td><td>8</td><td>9</td></tr><tr><td>&quot;Leigh syndrome&quot;</td><td>333</td><td>326</td><td>316</td><td>327</td><td>335</td><td>328</td><td>320</td><td>344</td><td>300</td><td>330</td><td>301</td><td>309</td><td>339</td><td>307</td><td>316</td></tr><tr><td>&quot;Leber&#x27;s hereditary optic neuro…</td><td>56</td><td>34</td><td>51</td><td>41</td><td>30</td><td>41</td><td>33</td><td>44</td><td>41</td><td>41</td><td>52</td><td>33</td><td>28</td><td>43</td><td>40</td></tr><tr><td>&quot;Mitochondrial myopathy&quot;</td><td>269</td><td>269</td><td>297</td><td>273</td><td>292</td><td>282</td><td>268</td><td>277</td><td>259</td><td>299</td><td>266</td><td>283</td><td>291</td><td>276</td><td>241</td></tr><tr><td>&quot;Alzheimer&#x27;s&quot;</td><td>13</td><td>5</td><td>9</td><td>13</td><td>15</td><td>10</td><td>16</td><td>6</td><td>9</td><td>8</td><td>14</td><td>6</td><td>10</td><td>6</td><td>8</td></tr><tr><td>&quot;Diabetes&quot;</td><td>124</td><td>122</td><td>111</td><td>113</td><td>124</td><td>118</td><td>106</td><td>100</td><td>114</td><td>108</td><td>110</td><td>113</td><td>101</td><td>109</td><td>119</td></tr><tr><td>&quot;Cystic fibrosis&quot;</td><td>229</td><td>230</td><td>187</td><td>232</td><td>218</td><td>212</td><td>219</td><td>219</td><td>202</td><td>207</td><td>210</td><td>209</td><td>219</td><td>231</td><td>203</td></tr><tr><td>&quot;Hemochromatosis&quot;</td><td>81</td><td>78</td><td>105</td><td>91</td><td>82</td><td>80</td><td>91</td><td>77</td><td>95</td><td>85</td><td>81</td><td>78</td><td>97</td><td>71</td><td>76</td></tr><tr><td>&quot;Tay-Sachs&quot;</td><td>159</td><td>164</td><td>190</td><td>164</td><td>186</td><td>193</td><td>178</td><td>163</td><td>178</td><td>203</td><td>150</td><td>181</td><td>185</td><td>194</td><td>176</td></tr></tbody></table></div>"
      ],
      "text/plain": [
       "shape: (9, 16)\n",
       "┌─────────────────────────────────┬─────┬─────┬─────┬───┬──────┬──────┬──────┬──────┐\n",
       "│ Disorder Subclass               ┆ 0.0 ┆ 1.0 ┆ 2.0 ┆ … ┆ 11.0 ┆ 12.0 ┆ 13.0 ┆ 14.0 │\n",
       "│ ---                             ┆ --- ┆ --- ┆ --- ┆   ┆ ---  ┆ ---  ┆ ---  ┆ ---  │\n",
       "│ str                             ┆ u32 ┆ u32 ┆ u32 ┆   ┆ u32  ┆ u32  ┆ u32  ┆ u32  │\n",
       "╞═════════════════════════════════╪═════╪═════╪═════╪═══╪══════╪══════╪══════╪══════╡\n",
       "│ Cancer                          ┆ 3   ┆ 1   ┆ 8   ┆ … ┆ 4    ┆ 6    ┆ 8    ┆ 9    │\n",
       "│ Leigh syndrome                  ┆ 333 ┆ 326 ┆ 316 ┆ … ┆ 309  ┆ 339  ┆ 307  ┆ 316  │\n",
       "│ Leber's hereditary optic neuro… ┆ 56  ┆ 34  ┆ 51  ┆ … ┆ 33   ┆ 28   ┆ 43   ┆ 40   │\n",
       "│ Mitochondrial myopathy          ┆ 269 ┆ 269 ┆ 297 ┆ … ┆ 283  ┆ 291  ┆ 276  ┆ 241  │\n",
       "│ Alzheimer's                     ┆ 13  ┆ 5   ┆ 9   ┆ … ┆ 6    ┆ 10   ┆ 6    ┆ 8    │\n",
       "│ Diabetes                        ┆ 124 ┆ 122 ┆ 111 ┆ … ┆ 113  ┆ 101  ┆ 109  ┆ 119  │\n",
       "│ Cystic fibrosis                 ┆ 229 ┆ 230 ┆ 187 ┆ … ┆ 209  ┆ 219  ┆ 231  ┆ 203  │\n",
       "│ Hemochromatosis                 ┆ 81  ┆ 78  ┆ 105 ┆ … ┆ 78   ┆ 97   ┆ 71   ┆ 76   │\n",
       "│ Tay-Sachs                       ┆ 159 ┆ 164 ┆ 190 ┆ … ┆ 181  ┆ 185  ┆ 194  ┆ 176  │\n",
       "└─────────────────────────────────┴─────┴─────┴─────┴───┴──────┴──────┴──────┴──────┘"
      ]
     },
     "execution_count": 63,
     "metadata": {},
     "output_type": "execute_result"
    }
   ],
   "source": [
    "df_long2.pivot(\n",
    "    index=\"Disorder Subclass\",\n",
    "    on=\"Patient Age\",\n",
    "    values=\"patients\",\n",
    "    aggregate_function=\"sum\"\n",
    ")"
   ]
  },
  {
   "cell_type": "code",
   "execution_count": null,
   "id": "3c6fcd14",
   "metadata": {},
   "outputs": [],
   "source": []
  }
 ],
 "metadata": {
  "kernelspec": {
   "display_name": "data-visualization-notebooks",
   "language": "python",
   "name": "python3"
  },
  "language_info": {
   "codemirror_mode": {
    "name": "ipython",
    "version": 3
   },
   "file_extension": ".py",
   "mimetype": "text/x-python",
   "name": "python",
   "nbconvert_exporter": "python",
   "pygments_lexer": "ipython3",
   "version": "3.13.7"
  }
 },
 "nbformat": 4,
 "nbformat_minor": 5
}
