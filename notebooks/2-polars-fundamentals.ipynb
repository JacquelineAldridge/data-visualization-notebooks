{
 "cells": [
  {
   "cell_type": "code",
   "execution_count": 17,
   "id": "2d746725",
   "metadata": {},
   "outputs": [],
   "source": [
    "import polars as pl\n",
    "from polars import selectors as cs"
   ]
  },
  {
   "cell_type": "code",
   "execution_count": 18,
   "id": "c982f58f",
   "metadata": {},
   "outputs": [],
   "source": [
    "df_datos = pl.read_csv(\"../data/dataset.csv\", separator=\",\")"
   ]
  },
  {
   "cell_type": "markdown",
   "id": "cd751b78",
   "metadata": {},
   "source": [
    "# Inspección básica"
   ]
  },
  {
   "cell_type": "code",
   "execution_count": 19,
   "id": "411c002f",
   "metadata": {},
   "outputs": [
    {
     "data": {
      "text/html": [
       "<div><style>\n",
       ".dataframe > thead > tr,\n",
       ".dataframe > tbody > tr {\n",
       "  text-align: right;\n",
       "  white-space: pre-wrap;\n",
       "}\n",
       "</style>\n",
       "<small>shape: (5, 45)</small><table border=\"1\" class=\"dataframe\"><thead><tr><th>Patient Id</th><th>Patient Age</th><th>Genes in mother&#x27;s side</th><th>Inherited from father</th><th>Maternal gene</th><th>Paternal gene</th><th>Blood cell count (mcL)</th><th>Patient First Name</th><th>Family Name</th><th>Father&#x27;s name</th><th>Mother&#x27;s age</th><th>Father&#x27;s age</th><th>Institute Name</th><th>Location of Institute</th><th>Status</th><th>Respiratory Rate (breaths/min)</th><th>Heart Rate (rates/min</th><th>Test 1</th><th>Test 2</th><th>Test 3</th><th>Test 4</th><th>Test 5</th><th>Parental consent</th><th>Follow-up</th><th>Gender</th><th>Birth asphyxia</th><th>Autopsy shows birth defect (if applicable)</th><th>Place of birth</th><th>Folic acid details (peri-conceptional)</th><th>H/O serious maternal illness</th><th>H/O radiation exposure (x-ray)</th><th>H/O substance abuse</th><th>Assisted conception IVF/ART</th><th>History of anomalies in previous pregnancies</th><th>No. of previous abortion</th><th>Birth defects</th><th>White Blood cell count (thousand per microliter)</th><th>Blood test result</th><th>Symptom 1</th><th>Symptom 2</th><th>Symptom 3</th><th>Symptom 4</th><th>Symptom 5</th><th>Genetic Disorder</th><th>Disorder Subclass</th></tr><tr><td>str</td><td>f64</td><td>str</td><td>str</td><td>str</td><td>str</td><td>f64</td><td>str</td><td>str</td><td>str</td><td>f64</td><td>f64</td><td>str</td><td>str</td><td>str</td><td>str</td><td>str</td><td>f64</td><td>f64</td><td>f64</td><td>f64</td><td>f64</td><td>str</td><td>str</td><td>str</td><td>str</td><td>str</td><td>str</td><td>str</td><td>str</td><td>str</td><td>str</td><td>str</td><td>str</td><td>f64</td><td>str</td><td>f64</td><td>str</td><td>f64</td><td>f64</td><td>f64</td><td>f64</td><td>f64</td><td>str</td><td>str</td></tr></thead><tbody><tr><td>&quot;PID0x6418&quot;</td><td>2.0</td><td>&quot;Yes&quot;</td><td>&quot;No&quot;</td><td>&quot;Yes&quot;</td><td>&quot;No&quot;</td><td>4.760603</td><td>&quot;Richard&quot;</td><td>null</td><td>&quot;Larre&quot;</td><td>null</td><td>null</td><td>&quot;Boston Specialty &amp; Rehabilitat…</td><td>&quot;55 FRUIT ST\n",
       "CENTRAL, MA 02114\n",
       "…</td><td>&quot;Alive&quot;</td><td>&quot;Normal (30-60)&quot;</td><td>&quot;Normal&quot;</td><td>0.0</td><td>null</td><td>null</td><td>1.0</td><td>0.0</td><td>&quot;Yes&quot;</td><td>&quot;High&quot;</td><td>null</td><td>null</td><td>&quot;Not applicable&quot;</td><td>&quot;Institute&quot;</td><td>&quot;No&quot;</td><td>null</td><td>&quot;No&quot;</td><td>&quot;No&quot;</td><td>&quot;No&quot;</td><td>&quot;Yes&quot;</td><td>null</td><td>null</td><td>9.857562</td><td>null</td><td>1.0</td><td>1.0</td><td>1.0</td><td>1.0</td><td>1.0</td><td>&quot;Mitochondrial genetic inherita…</td><td>&quot;Leber&#x27;s hereditary optic neuro…</td></tr><tr><td>&quot;PID0x25d5&quot;</td><td>4.0</td><td>&quot;Yes&quot;</td><td>&quot;Yes&quot;</td><td>&quot;No&quot;</td><td>&quot;No&quot;</td><td>4.910669</td><td>&quot;Mike&quot;</td><td>null</td><td>&quot;Brycen&quot;</td><td>null</td><td>23.0</td><td>&quot;St. Margaret&#x27;s Hospital For Wo…</td><td>&quot;1515 COMMONWEALTH AV\n",
       "ALLSTON/B…</td><td>&quot;Deceased&quot;</td><td>&quot;Tachypnea&quot;</td><td>&quot;Normal&quot;</td><td>null</td><td>0.0</td><td>0.0</td><td>1.0</td><td>0.0</td><td>&quot;Yes&quot;</td><td>&quot;High&quot;</td><td>null</td><td>&quot;No&quot;</td><td>&quot;None&quot;</td><td>null</td><td>&quot;Yes&quot;</td><td>&quot;Yes&quot;</td><td>&quot;Not applicable&quot;</td><td>&quot;Not applicable&quot;</td><td>&quot;No&quot;</td><td>&quot;Yes&quot;</td><td>null</td><td>&quot;Multiple&quot;</td><td>5.52256</td><td>&quot;normal&quot;</td><td>1.0</td><td>null</td><td>1.0</td><td>1.0</td><td>0.0</td><td>null</td><td>&quot;Cystic fibrosis&quot;</td></tr><tr><td>&quot;PID0x4a82&quot;</td><td>6.0</td><td>&quot;Yes&quot;</td><td>&quot;No&quot;</td><td>&quot;No&quot;</td><td>&quot;No&quot;</td><td>4.893297</td><td>&quot;Kimberly&quot;</td><td>null</td><td>&quot;Nashon&quot;</td><td>41.0</td><td>22.0</td><td>null</td><td>&quot;-&quot;</td><td>&quot;Alive&quot;</td><td>&quot;Normal (30-60)&quot;</td><td>&quot;Tachycardia&quot;</td><td>0.0</td><td>0.0</td><td>0.0</td><td>1.0</td><td>0.0</td><td>&quot;Yes&quot;</td><td>&quot;Low&quot;</td><td>null</td><td>&quot;No record&quot;</td><td>&quot;Not applicable&quot;</td><td>null</td><td>&quot;Yes&quot;</td><td>&quot;No&quot;</td><td>&quot;Yes&quot;</td><td>null</td><td>&quot;Yes&quot;</td><td>&quot;Yes&quot;</td><td>4.0</td><td>&quot;Singular&quot;</td><td>null</td><td>&quot;normal&quot;</td><td>0.0</td><td>1.0</td><td>1.0</td><td>1.0</td><td>1.0</td><td>&quot;Multifactorial genetic inherit…</td><td>&quot;Diabetes&quot;</td></tr><tr><td>&quot;PID0x4ac8&quot;</td><td>12.0</td><td>&quot;Yes&quot;</td><td>&quot;No&quot;</td><td>&quot;Yes&quot;</td><td>&quot;No&quot;</td><td>4.70528</td><td>&quot;Jeffery&quot;</td><td>&quot;Hoelscher&quot;</td><td>&quot;Aayaan&quot;</td><td>21.0</td><td>null</td><td>null</td><td>&quot;55 FRUIT ST\n",
       "CENTRAL, MA 02114\n",
       "…</td><td>&quot;Deceased&quot;</td><td>&quot;Tachypnea&quot;</td><td>&quot;Normal&quot;</td><td>0.0</td><td>0.0</td><td>0.0</td><td>1.0</td><td>0.0</td><td>&quot;Yes&quot;</td><td>&quot;High&quot;</td><td>&quot;Male&quot;</td><td>&quot;Not available&quot;</td><td>&quot;No&quot;</td><td>&quot;Institute&quot;</td><td>&quot;No&quot;</td><td>&quot;Yes&quot;</td><td>&quot;-&quot;</td><td>&quot;Not applicable&quot;</td><td>null</td><td>&quot;Yes&quot;</td><td>1.0</td><td>&quot;Singular&quot;</td><td>7.919321</td><td>&quot;inconclusive&quot;</td><td>0.0</td><td>0.0</td><td>1.0</td><td>0.0</td><td>0.0</td><td>&quot;Mitochondrial genetic inherita…</td><td>&quot;Leigh syndrome&quot;</td></tr><tr><td>&quot;PID0x1bf7&quot;</td><td>11.0</td><td>&quot;Yes&quot;</td><td>&quot;No&quot;</td><td>null</td><td>&quot;Yes&quot;</td><td>4.720703</td><td>&quot;Johanna&quot;</td><td>&quot;Stutzman&quot;</td><td>&quot;Suave&quot;</td><td>32.0</td><td>null</td><td>&quot;Carney Hospital&quot;</td><td>&quot;300 LONGWOOD AV\n",
       "FENWAY/KENMORE…</td><td>&quot;Alive&quot;</td><td>&quot;Tachypnea&quot;</td><td>&quot;Tachycardia&quot;</td><td>0.0</td><td>0.0</td><td>0.0</td><td>1.0</td><td>0.0</td><td>null</td><td>&quot;Low&quot;</td><td>&quot;Male&quot;</td><td>&quot;Not available&quot;</td><td>&quot;Not applicable&quot;</td><td>&quot;Institute&quot;</td><td>&quot;No&quot;</td><td>&quot;Yes&quot;</td><td>&quot;-&quot;</td><td>&quot;Not applicable&quot;</td><td>&quot;Yes&quot;</td><td>&quot;No&quot;</td><td>4.0</td><td>&quot;Multiple&quot;</td><td>4.09821</td><td>null</td><td>0.0</td><td>0.0</td><td>0.0</td><td>0.0</td><td>null</td><td>&quot;Multifactorial genetic inherit…</td><td>&quot;Cancer&quot;</td></tr></tbody></table></div>"
      ],
      "text/plain": [
       "shape: (5, 45)\n",
       "┌───────────┬───────────┬───────────┬───────────┬───┬───────────┬───────────┬───────────┬──────────┐\n",
       "│ Patient   ┆ Patient   ┆ Genes in  ┆ Inherited ┆ … ┆ Symptom 4 ┆ Symptom 5 ┆ Genetic   ┆ Disorder │\n",
       "│ Id        ┆ Age       ┆ mother's  ┆ from      ┆   ┆ ---       ┆ ---       ┆ Disorder  ┆ Subclass │\n",
       "│ ---       ┆ ---       ┆ side      ┆ father    ┆   ┆ f64       ┆ f64       ┆ ---       ┆ ---      │\n",
       "│ str       ┆ f64       ┆ ---       ┆ ---       ┆   ┆           ┆           ┆ str       ┆ str      │\n",
       "│           ┆           ┆ str       ┆ str       ┆   ┆           ┆           ┆           ┆          │\n",
       "╞═══════════╪═══════════╪═══════════╪═══════════╪═══╪═══════════╪═══════════╪═══════════╪══════════╡\n",
       "│ PID0x6418 ┆ 2.0       ┆ Yes       ┆ No        ┆ … ┆ 1.0       ┆ 1.0       ┆ Mitochond ┆ Leber's  │\n",
       "│           ┆           ┆           ┆           ┆   ┆           ┆           ┆ rial      ┆ heredita │\n",
       "│           ┆           ┆           ┆           ┆   ┆           ┆           ┆ genetic   ┆ ry optic │\n",
       "│           ┆           ┆           ┆           ┆   ┆           ┆           ┆ inherita… ┆ neuro…   │\n",
       "│ PID0x25d5 ┆ 4.0       ┆ Yes       ┆ Yes       ┆ … ┆ 1.0       ┆ 0.0       ┆ null      ┆ Cystic   │\n",
       "│           ┆           ┆           ┆           ┆   ┆           ┆           ┆           ┆ fibrosis │\n",
       "│ PID0x4a82 ┆ 6.0       ┆ Yes       ┆ No        ┆ … ┆ 1.0       ┆ 1.0       ┆ Multifact ┆ Diabetes │\n",
       "│           ┆           ┆           ┆           ┆   ┆           ┆           ┆ orial     ┆          │\n",
       "│           ┆           ┆           ┆           ┆   ┆           ┆           ┆ genetic   ┆          │\n",
       "│           ┆           ┆           ┆           ┆   ┆           ┆           ┆ inherit…  ┆          │\n",
       "│ PID0x4ac8 ┆ 12.0      ┆ Yes       ┆ No        ┆ … ┆ 0.0       ┆ 0.0       ┆ Mitochond ┆ Leigh    │\n",
       "│           ┆           ┆           ┆           ┆   ┆           ┆           ┆ rial      ┆ syndrome │\n",
       "│           ┆           ┆           ┆           ┆   ┆           ┆           ┆ genetic   ┆          │\n",
       "│           ┆           ┆           ┆           ┆   ┆           ┆           ┆ inherita… ┆          │\n",
       "│ PID0x1bf7 ┆ 11.0      ┆ Yes       ┆ No        ┆ … ┆ 0.0       ┆ null      ┆ Multifact ┆ Cancer   │\n",
       "│           ┆           ┆           ┆           ┆   ┆           ┆           ┆ orial     ┆          │\n",
       "│           ┆           ┆           ┆           ┆   ┆           ┆           ┆ genetic   ┆          │\n",
       "│           ┆           ┆           ┆           ┆   ┆           ┆           ┆ inherit…  ┆          │\n",
       "└───────────┴───────────┴───────────┴───────────┴───┴───────────┴───────────┴───────────┴──────────┘"
      ]
     },
     "execution_count": 19,
     "metadata": {},
     "output_type": "execute_result"
    }
   ],
   "source": [
    "df_datos.head()"
   ]
  },
  {
   "cell_type": "code",
   "execution_count": 20,
   "id": "0a1a13be",
   "metadata": {},
   "outputs": [
    {
     "data": {
      "text/html": [
       "<div><style>\n",
       ".dataframe > thead > tr,\n",
       ".dataframe > tbody > tr {\n",
       "  text-align: right;\n",
       "  white-space: pre-wrap;\n",
       "}\n",
       "</style>\n",
       "<small>shape: (3, 45)</small><table border=\"1\" class=\"dataframe\"><thead><tr><th>Patient Id</th><th>Patient Age</th><th>Genes in mother&#x27;s side</th><th>Inherited from father</th><th>Maternal gene</th><th>Paternal gene</th><th>Blood cell count (mcL)</th><th>Patient First Name</th><th>Family Name</th><th>Father&#x27;s name</th><th>Mother&#x27;s age</th><th>Father&#x27;s age</th><th>Institute Name</th><th>Location of Institute</th><th>Status</th><th>Respiratory Rate (breaths/min)</th><th>Heart Rate (rates/min</th><th>Test 1</th><th>Test 2</th><th>Test 3</th><th>Test 4</th><th>Test 5</th><th>Parental consent</th><th>Follow-up</th><th>Gender</th><th>Birth asphyxia</th><th>Autopsy shows birth defect (if applicable)</th><th>Place of birth</th><th>Folic acid details (peri-conceptional)</th><th>H/O serious maternal illness</th><th>H/O radiation exposure (x-ray)</th><th>H/O substance abuse</th><th>Assisted conception IVF/ART</th><th>History of anomalies in previous pregnancies</th><th>No. of previous abortion</th><th>Birth defects</th><th>White Blood cell count (thousand per microliter)</th><th>Blood test result</th><th>Symptom 1</th><th>Symptom 2</th><th>Symptom 3</th><th>Symptom 4</th><th>Symptom 5</th><th>Genetic Disorder</th><th>Disorder Subclass</th></tr><tr><td>str</td><td>f64</td><td>str</td><td>str</td><td>str</td><td>str</td><td>f64</td><td>str</td><td>str</td><td>str</td><td>f64</td><td>f64</td><td>str</td><td>str</td><td>str</td><td>str</td><td>str</td><td>f64</td><td>f64</td><td>f64</td><td>f64</td><td>f64</td><td>str</td><td>str</td><td>str</td><td>str</td><td>str</td><td>str</td><td>str</td><td>str</td><td>str</td><td>str</td><td>str</td><td>str</td><td>f64</td><td>str</td><td>f64</td><td>str</td><td>f64</td><td>f64</td><td>f64</td><td>f64</td><td>f64</td><td>str</td><td>str</td></tr></thead><tbody><tr><td>&quot;PID0x8cf2&quot;</td><td>0.0</td><td>&quot;No&quot;</td><td>&quot;No&quot;</td><td>&quot;No&quot;</td><td>&quot;No&quot;</td><td>5.245807</td><td>&quot;Travis&quot;</td><td>&quot;Brassil&quot;</td><td>&quot;Lasean&quot;</td><td>31.0</td><td>50.0</td><td>&quot;Not applicable&quot;</td><td>&quot;-&quot;</td><td>&quot;Deceased&quot;</td><td>&quot;Normal (30-60)&quot;</td><td>&quot;Normal&quot;</td><td>0.0</td><td>0.0</td><td>0.0</td><td>1.0</td><td>0.0</td><td>&quot;Yes&quot;</td><td>&quot;High&quot;</td><td>&quot;Male&quot;</td><td>&quot;Yes&quot;</td><td>&quot;No&quot;</td><td>&quot;Home&quot;</td><td>&quot;No&quot;</td><td>&quot;No&quot;</td><td>&quot;-&quot;</td><td>&quot;Yes&quot;</td><td>&quot;Yes&quot;</td><td>&quot;Yes&quot;</td><td>4.0</td><td>&quot;Multiple&quot;</td><td>3.0</td><td>&quot;slightly abnormal&quot;</td><td>1.0</td><td>0.0</td><td>0.0</td><td>0.0</td><td>0.0</td><td>&quot;Single-gene inheritance diseas…</td><td>&quot;Hemochromatosis&quot;</td></tr><tr><td>&quot;PID0x1614&quot;</td><td>12.0</td><td>&quot;No&quot;</td><td>&quot;No&quot;</td><td>&quot;No&quot;</td><td>&quot;No&quot;</td><td>4.961475</td><td>&quot;Billy&quot;</td><td>null</td><td>&quot;Jahleel&quot;</td><td>null</td><td>null</td><td>&quot;Not applicable&quot;</td><td>&quot;-&quot;</td><td>&quot;Deceased&quot;</td><td>&quot;Tachypnea&quot;</td><td>&quot;Normal&quot;</td><td>0.0</td><td>0.0</td><td>null</td><td>1.0</td><td>0.0</td><td>&quot;Yes&quot;</td><td>&quot;Low&quot;</td><td>null</td><td>&quot;Not available&quot;</td><td>&quot;None&quot;</td><td>&quot;Home&quot;</td><td>&quot;Yes&quot;</td><td>null</td><td>&quot;-&quot;</td><td>null</td><td>&quot;Yes&quot;</td><td>&quot;No&quot;</td><td>4.0</td><td>null</td><td>4.139689</td><td>&quot;normal&quot;</td><td>0.0</td><td>0.0</td><td>1.0</td><td>0.0</td><td>0.0</td><td>&quot;Single-gene inheritance diseas…</td><td>&quot;Hemochromatosis&quot;</td></tr><tr><td>&quot;PID0x5948&quot;</td><td>14.0</td><td>&quot;Yes&quot;</td><td>&quot;Yes&quot;</td><td>null</td><td>&quot;Yes&quot;</td><td>4.576285</td><td>&quot;Francisco&quot;</td><td>null</td><td>&quot;Ragnar&quot;</td><td>null</td><td>null</td><td>null</td><td>&quot;75 FRANCIS ST\n",
       "FENWAY/KENMORE, …</td><td>&quot;Alive&quot;</td><td>&quot;Tachypnea&quot;</td><td>&quot;Tachycardia&quot;</td><td>0.0</td><td>null</td><td>0.0</td><td>1.0</td><td>0.0</td><td>&quot;Yes&quot;</td><td>null</td><td>null</td><td>&quot;No&quot;</td><td>&quot;Not applicable&quot;</td><td>&quot;Institute&quot;</td><td>&quot;Yes&quot;</td><td>&quot;Yes&quot;</td><td>&quot;-&quot;</td><td>&quot;Yes&quot;</td><td>&quot;Yes&quot;</td><td>&quot;No&quot;</td><td>null</td><td>&quot;Multiple&quot;</td><td>6.874303</td><td>&quot;normal&quot;</td><td>1.0</td><td>0.0</td><td>null</td><td>0.0</td><td>1.0</td><td>&quot;Single-gene inheritance diseas…</td><td>&quot;Cystic fibrosis&quot;</td></tr></tbody></table></div>"
      ],
      "text/plain": [
       "shape: (3, 45)\n",
       "┌───────────┬───────────┬───────────┬───────────┬───┬───────────┬───────────┬───────────┬──────────┐\n",
       "│ Patient   ┆ Patient   ┆ Genes in  ┆ Inherited ┆ … ┆ Symptom 4 ┆ Symptom 5 ┆ Genetic   ┆ Disorder │\n",
       "│ Id        ┆ Age       ┆ mother's  ┆ from      ┆   ┆ ---       ┆ ---       ┆ Disorder  ┆ Subclass │\n",
       "│ ---       ┆ ---       ┆ side      ┆ father    ┆   ┆ f64       ┆ f64       ┆ ---       ┆ ---      │\n",
       "│ str       ┆ f64       ┆ ---       ┆ ---       ┆   ┆           ┆           ┆ str       ┆ str      │\n",
       "│           ┆           ┆ str       ┆ str       ┆   ┆           ┆           ┆           ┆          │\n",
       "╞═══════════╪═══════════╪═══════════╪═══════════╪═══╪═══════════╪═══════════╪═══════════╪══════════╡\n",
       "│ PID0x8cf2 ┆ 0.0       ┆ No        ┆ No        ┆ … ┆ 0.0       ┆ 0.0       ┆ Single-ge ┆ Hemochro │\n",
       "│           ┆           ┆           ┆           ┆   ┆           ┆           ┆ ne inheri ┆ matosis  │\n",
       "│           ┆           ┆           ┆           ┆   ┆           ┆           ┆ tance     ┆          │\n",
       "│           ┆           ┆           ┆           ┆   ┆           ┆           ┆ diseas…   ┆          │\n",
       "│ PID0x1614 ┆ 12.0      ┆ No        ┆ No        ┆ … ┆ 0.0       ┆ 0.0       ┆ Single-ge ┆ Hemochro │\n",
       "│           ┆           ┆           ┆           ┆   ┆           ┆           ┆ ne inheri ┆ matosis  │\n",
       "│           ┆           ┆           ┆           ┆   ┆           ┆           ┆ tance     ┆          │\n",
       "│           ┆           ┆           ┆           ┆   ┆           ┆           ┆ diseas…   ┆          │\n",
       "│ PID0x5948 ┆ 14.0      ┆ Yes       ┆ Yes       ┆ … ┆ 0.0       ┆ 1.0       ┆ Single-ge ┆ Cystic   │\n",
       "│           ┆           ┆           ┆           ┆   ┆           ┆           ┆ ne inheri ┆ fibrosis │\n",
       "│           ┆           ┆           ┆           ┆   ┆           ┆           ┆ tance     ┆          │\n",
       "│           ┆           ┆           ┆           ┆   ┆           ┆           ┆ diseas…   ┆          │\n",
       "└───────────┴───────────┴───────────┴───────────┴───┴───────────┴───────────┴───────────┴──────────┘"
      ]
     },
     "execution_count": 20,
     "metadata": {},
     "output_type": "execute_result"
    }
   ],
   "source": [
    "df_datos.sample(n = 3)"
   ]
  },
  {
   "cell_type": "code",
   "execution_count": 21,
   "id": "e18a6e03",
   "metadata": {},
   "outputs": [
    {
     "name": "stdout",
     "output_type": "stream",
     "text": [
      "Rows: 22083\n",
      "Columns: 45\n",
      "$ Patient Id                                       <str> 'PID0x6418', 'PID0x25d5', 'PID0x4a82', 'PID0x4ac8', 'PID0x1bf7', 'PID0x44fe', 'PID0x28de', 'PID0x4f8f', 'PID0x8ce3', 'PID0x8660'\n",
      "$ Patient Age                                      <f64> 2.0, 4.0, 6.0, 12.0, 11.0, 14.0, 3.0, 3.0, 11.0, 4.0\n",
      "$ Genes in mother's side                           <str> 'Yes', 'Yes', 'Yes', 'Yes', 'Yes', 'Yes', 'Yes', 'No', 'No', 'No'\n",
      "$ Inherited from father                            <str> 'No', 'Yes', 'No', 'No', 'No', 'No', 'No', 'No', 'No', 'Yes'\n",
      "$ Maternal gene                                    <str> 'Yes', 'No', 'No', 'Yes', None, 'Yes', 'Yes', 'Yes', 'Yes', 'Yes'\n",
      "$ Paternal gene                                    <str> 'No', 'No', 'No', 'No', 'Yes', 'No', 'Yes', 'Yes', 'No', 'Yes'\n",
      "$ Blood cell count (mcL)                           <f64> 4.760603085632425, 4.910669059571037, 4.8932974275730095, 4.705280392049416, 4.720702714375907, 5.1031884409228745, 4.901079650369585, 4.964816114066661, 5.20905799917528, 4.752271706141302\n",
      "$ Patient First Name                               <str> 'Richard', 'Mike', 'Kimberly', 'Jeffery', 'Johanna', 'Richard', 'Mary', 'Emma', 'Willie', 'John'\n",
      "$ Family Name                                      <str> None, None, None, 'Hoelscher', 'Stutzman', None, None, 'Bryant', 'Camacho', 'Sandoval'\n",
      "$ Father's name                                    <str> 'Larre', 'Brycen', 'Nashon', 'Aayaan', 'Suave', 'Coleston', 'Aydun', 'Keng', 'Tr', 'Gregori'\n",
      "$ Mother's age                                     <f64> None, None, 41.0, 21.0, 32.0, None, None, 40.0, 45.0, 44.0\n",
      "$ Father's age                                     <f64> None, 23.0, 22.0, None, None, None, 63.0, None, 44.0, 42.0\n",
      "$ Institute Name                                   <str> 'Boston Specialty & Rehabilitation Hospital', \"St. Margaret's Hospital For Women\", None, None, 'Carney Hospital', 'Massachusetts General Hospital', 'Not applicable', 'Not applicable', 'Lemuel Shattuck Hospital', 'Shriners Burns Institute'\n",
      "$ Location of Institute                            <str> '55 FRUIT ST\\nCENTRAL, MA 02114\\n(42.36247485742686, -71.06924724545246)', '1515 COMMONWEALTH AV\\nALLSTON/BRIGHTON, MA 02135\\n(42.34665771451756, -71.14136122385321)', '-', '55 FRUIT ST\\nCENTRAL, MA 02114\\n(42.36247485742686, -71.06924724545246)', '300 LONGWOOD AV\\nFENWAY/KENMORE, MA 02115\\n(42.337592548462226, -71.10472284437952)', '55 FRUIT ST\\nCENTRAL, MA 02114\\n(42.36247485742686, -71.06924724545246)', '-', '-', '125 NASHUA ST\\nCENTRAL, MA 02114\\n(42.36764789068138, -71.06564730220646)', '1200 Centre St\\nRoslindale, MA 02131\\n(42.29738386053219, -71.13150465441208)'\n",
      "$ Status                                           <str> 'Alive', 'Deceased', 'Alive', 'Deceased', 'Alive', 'Deceased', 'Alive', 'Alive', 'Alive', 'Alive'\n",
      "$ Respiratory Rate (breaths/min)                   <str> 'Normal (30-60)', 'Tachypnea', 'Normal (30-60)', 'Tachypnea', 'Tachypnea', None, 'Normal (30-60)', 'Tachypnea', 'Tachypnea', 'Tachypnea'\n",
      "$ Heart Rate (rates/min                            <str> 'Normal', 'Normal', 'Tachycardia', 'Normal', 'Tachycardia', 'Normal', None, 'Normal', 'Tachycardia', 'Tachycardia'\n",
      "$ Test 1                                           <f64> 0.0, None, 0.0, 0.0, 0.0, 0.0, None, 0.0, 0.0, 0.0\n",
      "$ Test 2                                           <f64> None, 0.0, 0.0, 0.0, 0.0, 0.0, 0.0, 0.0, 0.0, 0.0\n",
      "$ Test 3                                           <f64> None, 0.0, 0.0, 0.0, 0.0, 0.0, 0.0, None, 0.0, 0.0\n",
      "$ Test 4                                           <f64> 1.0, 1.0, 1.0, 1.0, 1.0, 1.0, 1.0, 1.0, 1.0, 1.0\n",
      "$ Test 5                                           <f64> 0.0, 0.0, 0.0, 0.0, 0.0, 0.0, 0.0, 0.0, 0.0, 0.0\n",
      "$ Parental consent                                 <str> 'Yes', 'Yes', 'Yes', 'Yes', None, 'Yes', None, 'Yes', 'Yes', 'Yes'\n",
      "$ Follow-up                                        <str> 'High', 'High', 'Low', 'High', 'Low', 'Low', 'Low', 'Low', 'Low', 'Low'\n",
      "$ Gender                                           <str> None, None, None, 'Male', 'Male', 'Female', 'Male', None, 'Male', 'Male'\n",
      "$ Birth asphyxia                                   <str> None, 'No', 'No record', 'Not available', 'Not available', 'Not available', 'No record', 'No record', 'Yes', 'No'\n",
      "$ Autopsy shows birth defect (if applicable)       <str> 'Not applicable', 'None', 'Not applicable', 'No', 'Not applicable', 'None', 'Not applicable', 'Not applicable', 'Not applicable', 'Not applicable'\n",
      "$ Place of birth                                   <str> 'Institute', None, None, 'Institute', 'Institute', 'Institute', 'Home', 'Home', 'Institute', 'Institute'\n",
      "$ Folic acid details (peri-conceptional)           <str> 'No', 'Yes', 'Yes', 'No', 'No', 'No', None, 'Yes', 'Yes', 'Yes'\n",
      "$ H/O serious maternal illness                     <str> None, 'Yes', 'No', 'Yes', 'Yes', 'No', 'Yes', 'Yes', 'Yes', 'No'\n",
      "$ H/O radiation exposure (x-ray)                   <str> 'No', 'Not applicable', 'Yes', '-', '-', 'No', 'No', 'No', 'No', 'No'\n",
      "$ H/O substance abuse                              <str> 'No', 'Not applicable', None, 'Not applicable', 'Not applicable', 'No', 'Not applicable', '-', 'No', 'No'\n",
      "$ Assisted conception IVF/ART                      <str> 'No', 'No', 'Yes', None, 'Yes', None, 'Yes', 'No', 'No', 'Yes'\n",
      "$ History of anomalies in previous pregnancies     <str> 'Yes', 'Yes', 'Yes', 'Yes', 'No', 'No', 'No', 'Yes', 'Yes', 'Yes'\n",
      "$ No. of previous abortion                         <f64> None, None, 4.0, 1.0, 4.0, 0.0, 3.0, 1.0, 0.0, 1.0\n",
      "$ Birth defects                                    <str> None, 'Multiple', 'Singular', 'Singular', 'Multiple', 'Multiple', 'Multiple', 'Singular', 'Multiple', 'Multiple'\n",
      "$ White Blood cell count (thousand per microliter) <f64> 9.857562482195815, 5.522559926086473, None, 7.919320981493317, 4.098210272243849, 10.27223038958957, 6.825974323855865, 9.836351500269854, 6.669552178444405, 6.397701725889903\n",
      "$ Blood test result                                <str> None, 'normal', 'normal', 'inconclusive', None, 'normal', 'normal', 'inconclusive', 'slightly abnormal', 'abnormal'\n",
      "$ Symptom 1                                        <f64> 1.0, 1.0, 0.0, 0.0, 0.0, 1.0, 0.0, 0.0, 1.0, 0.0\n",
      "$ Symptom 2                                        <f64> 1.0, None, 1.0, 0.0, 0.0, 0.0, 0.0, 0.0, 1.0, 0.0\n",
      "$ Symptom 3                                        <f64> 1.0, 1.0, 1.0, 1.0, 0.0, 0.0, 0.0, 1.0, 1.0, 1.0\n",
      "$ Symptom 4                                        <f64> 1.0, 1.0, 1.0, 0.0, 0.0, 1.0, 0.0, None, 0.0, 1.0\n",
      "$ Symptom 5                                        <f64> 1.0, 0.0, 1.0, 0.0, None, 0.0, 0.0, 0.0, 1.0, 1.0\n",
      "$ Genetic Disorder                                 <str> 'Mitochondrial genetic inheritance disorders', None, 'Multifactorial genetic inheritance disorders', 'Mitochondrial genetic inheritance disorders', 'Multifactorial genetic inheritance disorders', 'Single-gene inheritance diseases', 'Single-gene inheritance diseases', 'Single-gene inheritance diseases', 'Mitochondrial genetic inheritance disorders', 'Multifactorial genetic inheritance disorders'\n",
      "$ Disorder Subclass                                <str> \"Leber's hereditary optic neuropathy\", 'Cystic fibrosis', 'Diabetes', 'Leigh syndrome', 'Cancer', 'Cystic fibrosis', 'Tay-Sachs', 'Tay-Sachs', 'Leigh syndrome', 'Diabetes'\n",
      "\n"
     ]
    }
   ],
   "source": [
    "df_datos.glimpse()"
   ]
  },
  {
   "cell_type": "code",
   "execution_count": 22,
   "id": "6a1338e1",
   "metadata": {},
   "outputs": [
    {
     "data": {
      "text/plain": [
       "22083"
      ]
     },
     "execution_count": 22,
     "metadata": {},
     "output_type": "execute_result"
    }
   ],
   "source": [
    "df_size = df_datos.shape\n",
    "df_size[0]  # o df_datos.width"
   ]
  },
  {
   "cell_type": "code",
   "execution_count": 23,
   "id": "4a2afde8",
   "metadata": {},
   "outputs": [
    {
     "data": {
      "text/plain": [
       "['Patient Id',\n",
       " 'Patient Age',\n",
       " \"Genes in mother's side\",\n",
       " 'Inherited from father',\n",
       " 'Maternal gene']"
      ]
     },
     "execution_count": 23,
     "metadata": {},
     "output_type": "execute_result"
    }
   ],
   "source": [
    "df_datos.columns[:5]"
   ]
  },
  {
   "cell_type": "code",
   "execution_count": 24,
   "id": "4d5048ee",
   "metadata": {},
   "outputs": [
    {
     "data": {
      "text/plain": [
       "Schema([('Patient Id', String),\n",
       "        ('Patient Age', Float64),\n",
       "        (\"Genes in mother's side\", String),\n",
       "        ('Inherited from father', String),\n",
       "        ('Maternal gene', String),\n",
       "        ('Paternal gene', String),\n",
       "        ('Blood cell count (mcL)', Float64),\n",
       "        ('Patient First Name', String),\n",
       "        ('Family Name', String),\n",
       "        (\"Father's name\", String),\n",
       "        (\"Mother's age\", Float64),\n",
       "        (\"Father's age\", Float64),\n",
       "        ('Institute Name', String),\n",
       "        ('Location of Institute', String),\n",
       "        ('Status', String),\n",
       "        ('Respiratory Rate (breaths/min)', String),\n",
       "        ('Heart Rate (rates/min', String),\n",
       "        ('Test 1', Float64),\n",
       "        ('Test 2', Float64),\n",
       "        ('Test 3', Float64),\n",
       "        ('Test 4', Float64),\n",
       "        ('Test 5', Float64),\n",
       "        ('Parental consent', String),\n",
       "        ('Follow-up', String),\n",
       "        ('Gender', String),\n",
       "        ('Birth asphyxia', String),\n",
       "        ('Autopsy shows birth defect (if applicable)', String),\n",
       "        ('Place of birth', String),\n",
       "        ('Folic acid details (peri-conceptional)', String),\n",
       "        ('H/O serious maternal illness', String),\n",
       "        ('H/O radiation exposure (x-ray)', String),\n",
       "        ('H/O substance abuse', String),\n",
       "        ('Assisted conception IVF/ART', String),\n",
       "        ('History of anomalies in previous pregnancies', String),\n",
       "        ('No. of previous abortion', Float64),\n",
       "        ('Birth defects', String),\n",
       "        ('White Blood cell count (thousand per microliter)', Float64),\n",
       "        ('Blood test result', String),\n",
       "        ('Symptom 1', Float64),\n",
       "        ('Symptom 2', Float64),\n",
       "        ('Symptom 3', Float64),\n",
       "        ('Symptom 4', Float64),\n",
       "        ('Symptom 5', Float64),\n",
       "        ('Genetic Disorder', String),\n",
       "        ('Disorder Subclass', String)])"
      ]
     },
     "execution_count": 24,
     "metadata": {},
     "output_type": "execute_result"
    }
   ],
   "source": [
    "df_datos.schema"
   ]
  },
  {
   "cell_type": "code",
   "execution_count": 25,
   "id": "04a1a936",
   "metadata": {},
   "outputs": [
    {
     "data": {
      "text/html": [
       "<div><style>\n",
       ".dataframe > thead > tr,\n",
       ".dataframe > tbody > tr {\n",
       "  text-align: right;\n",
       "  white-space: pre-wrap;\n",
       "}\n",
       "</style>\n",
       "<small>shape: (8, 46)</small><table border=\"1\" class=\"dataframe\"><thead><tr><th>statistic</th><th>Patient Id</th><th>Patient Age</th><th>Genes in mother&#x27;s side</th><th>Inherited from father</th><th>Maternal gene</th><th>Paternal gene</th><th>Blood cell count (mcL)</th><th>Patient First Name</th><th>Family Name</th><th>Father&#x27;s name</th><th>Mother&#x27;s age</th><th>Father&#x27;s age</th><th>Institute Name</th><th>Location of Institute</th><th>Status</th><th>Respiratory Rate (breaths/min)</th><th>Heart Rate (rates/min</th><th>Test 1</th><th>Test 2</th><th>Test 3</th><th>Test 4</th><th>Test 5</th><th>Parental consent</th><th>Follow-up</th><th>Gender</th><th>Birth asphyxia</th><th>Autopsy shows birth defect (if applicable)</th><th>Place of birth</th><th>Folic acid details (peri-conceptional)</th><th>H/O serious maternal illness</th><th>H/O radiation exposure (x-ray)</th><th>H/O substance abuse</th><th>Assisted conception IVF/ART</th><th>History of anomalies in previous pregnancies</th><th>No. of previous abortion</th><th>Birth defects</th><th>White Blood cell count (thousand per microliter)</th><th>Blood test result</th><th>Symptom 1</th><th>Symptom 2</th><th>Symptom 3</th><th>Symptom 4</th><th>Symptom 5</th><th>Genetic Disorder</th><th>Disorder Subclass</th></tr><tr><td>str</td><td>str</td><td>f64</td><td>str</td><td>str</td><td>str</td><td>str</td><td>f64</td><td>str</td><td>str</td><td>str</td><td>f64</td><td>f64</td><td>str</td><td>str</td><td>str</td><td>str</td><td>str</td><td>f64</td><td>f64</td><td>f64</td><td>f64</td><td>f64</td><td>str</td><td>str</td><td>str</td><td>str</td><td>str</td><td>str</td><td>str</td><td>str</td><td>str</td><td>str</td><td>str</td><td>str</td><td>f64</td><td>str</td><td>f64</td><td>str</td><td>f64</td><td>f64</td><td>f64</td><td>f64</td><td>f64</td><td>str</td><td>str</td></tr></thead><tbody><tr><td>&quot;count&quot;</td><td>&quot;22083&quot;</td><td>20656.0</td><td>&quot;22083&quot;</td><td>&quot;21777&quot;</td><td>&quot;19273&quot;</td><td>&quot;22083&quot;</td><td>22083.0</td><td>&quot;22083&quot;</td><td>&quot;12392&quot;</td><td>&quot;22083&quot;</td><td>16047.0</td><td>16097.0</td><td>&quot;16977&quot;</td><td>&quot;22083&quot;</td><td>&quot;22083&quot;</td><td>&quot;19934&quot;</td><td>&quot;19970&quot;</td><td>19956.0</td><td>19931.0</td><td>19936.0</td><td>19943.0</td><td>19913.0</td><td>&quot;19958&quot;</td><td>&quot;19917&quot;</td><td>&quot;19910&quot;</td><td>&quot;19944&quot;</td><td>&quot;21057&quot;</td><td>&quot;19959&quot;</td><td>&quot;19966&quot;</td><td>&quot;19931&quot;</td><td>&quot;19930&quot;</td><td>&quot;19888&quot;</td><td>&quot;19961&quot;</td><td>&quot;19911&quot;</td><td>19921.0</td><td>&quot;19929&quot;</td><td>19935.0</td><td>&quot;19938&quot;</td><td>19928.0</td><td>19861.0</td><td>19982.0</td><td>19970.0</td><td>19930.0</td><td>&quot;19937&quot;</td><td>&quot;19915&quot;</td></tr><tr><td>&quot;null_count&quot;</td><td>&quot;0&quot;</td><td>1427.0</td><td>&quot;0&quot;</td><td>&quot;306&quot;</td><td>&quot;2810&quot;</td><td>&quot;0&quot;</td><td>0.0</td><td>&quot;0&quot;</td><td>&quot;9691&quot;</td><td>&quot;0&quot;</td><td>6036.0</td><td>5986.0</td><td>&quot;5106&quot;</td><td>&quot;0&quot;</td><td>&quot;0&quot;</td><td>&quot;2149&quot;</td><td>&quot;2113&quot;</td><td>2127.0</td><td>2152.0</td><td>2147.0</td><td>2140.0</td><td>2170.0</td><td>&quot;2125&quot;</td><td>&quot;2166&quot;</td><td>&quot;2173&quot;</td><td>&quot;2139&quot;</td><td>&quot;1026&quot;</td><td>&quot;2124&quot;</td><td>&quot;2117&quot;</td><td>&quot;2152&quot;</td><td>&quot;2153&quot;</td><td>&quot;2195&quot;</td><td>&quot;2122&quot;</td><td>&quot;2172&quot;</td><td>2162.0</td><td>&quot;2154&quot;</td><td>2148.0</td><td>&quot;2145&quot;</td><td>2155.0</td><td>2222.0</td><td>2101.0</td><td>2113.0</td><td>2153.0</td><td>&quot;2146&quot;</td><td>&quot;2168&quot;</td></tr><tr><td>&quot;mean&quot;</td><td>null</td><td>6.974148</td><td>null</td><td>null</td><td>null</td><td>null</td><td>4.898871</td><td>null</td><td>null</td><td>null</td><td>34.526454</td><td>41.972852</td><td>null</td><td>null</td><td>null</td><td>null</td><td>null</td><td>0.0</td><td>0.0</td><td>0.0</td><td>1.0</td><td>0.0</td><td>null</td><td>null</td><td>null</td><td>null</td><td>null</td><td>null</td><td>null</td><td>null</td><td>null</td><td>null</td><td>null</td><td>null</td><td>2.003062</td><td>null</td><td>7.486224</td><td>null</td><td>0.592483</td><td>0.551886</td><td>0.536233</td><td>0.497747</td><td>0.461917</td><td>null</td><td>null</td></tr><tr><td>&quot;std&quot;</td><td>null</td><td>4.319475</td><td>null</td><td>null</td><td>null</td><td>null</td><td>0.199663</td><td>null</td><td>null</td><td>null</td><td>9.852598</td><td>13.035501</td><td>null</td><td>null</td><td>null</td><td>null</td><td>null</td><td>0.0</td><td>0.0</td><td>0.0</td><td>0.0</td><td>0.0</td><td>null</td><td>null</td><td>null</td><td>null</td><td>null</td><td>null</td><td>null</td><td>null</td><td>null</td><td>null</td><td>null</td><td>null</td><td>1.411919</td><td>null</td><td>2.653393</td><td>null</td><td>0.491385</td><td>0.497313</td><td>0.498698</td><td>0.500007</td><td>0.49856</td><td>null</td><td>null</td></tr><tr><td>&quot;min&quot;</td><td>&quot;PID0x1&quot;</td><td>0.0</td><td>&quot;No&quot;</td><td>&quot;No&quot;</td><td>&quot;No&quot;</td><td>&quot;No&quot;</td><td>4.092727</td><td>&quot;Aaron&quot;</td><td>&quot;Aaron&quot;</td><td>&quot;Aaban&quot;</td><td>18.0</td><td>20.0</td><td>&quot;Arbour Hospital&quot;</td><td>&quot;-&quot;</td><td>&quot;Alive&quot;</td><td>&quot;Normal (30-60)&quot;</td><td>&quot;Normal&quot;</td><td>0.0</td><td>0.0</td><td>0.0</td><td>1.0</td><td>0.0</td><td>&quot;Yes&quot;</td><td>&quot;High&quot;</td><td>&quot;Ambiguous&quot;</td><td>&quot;No&quot;</td><td>&quot;No&quot;</td><td>&quot;Home&quot;</td><td>&quot;No&quot;</td><td>&quot;No&quot;</td><td>&quot;-&quot;</td><td>&quot;-&quot;</td><td>&quot;No&quot;</td><td>&quot;No&quot;</td><td>0.0</td><td>&quot;Multiple&quot;</td><td>3.0</td><td>&quot;abnormal&quot;</td><td>0.0</td><td>0.0</td><td>0.0</td><td>0.0</td><td>0.0</td><td>&quot;Mitochondrial genetic inherita…</td><td>&quot;Alzheimer&#x27;s&quot;</td></tr><tr><td>&quot;5%&quot;</td><td>null</td><td>0.0</td><td>null</td><td>null</td><td>null</td><td>null</td><td>4.570275</td><td>null</td><td>null</td><td>null</td><td>19.0</td><td>22.0</td><td>null</td><td>null</td><td>null</td><td>null</td><td>null</td><td>0.0</td><td>0.0</td><td>0.0</td><td>1.0</td><td>0.0</td><td>null</td><td>null</td><td>null</td><td>null</td><td>null</td><td>null</td><td>null</td><td>null</td><td>null</td><td>null</td><td>null</td><td>null</td><td>0.0</td><td>null</td><td>3.0</td><td>null</td><td>0.0</td><td>0.0</td><td>0.0</td><td>0.0</td><td>0.0</td><td>null</td><td>null</td></tr><tr><td>&quot;95%&quot;</td><td>null</td><td>14.0</td><td>null</td><td>null</td><td>null</td><td>null</td><td>5.228654</td><td>null</td><td>null</td><td>null</td><td>50.0</td><td>62.0</td><td>null</td><td>null</td><td>null</td><td>null</td><td>null</td><td>0.0</td><td>0.0</td><td>0.0</td><td>1.0</td><td>0.0</td><td>null</td><td>null</td><td>null</td><td>null</td><td>null</td><td>null</td><td>null</td><td>null</td><td>null</td><td>null</td><td>null</td><td>null</td><td>4.0</td><td>null</td><td>12.0</td><td>null</td><td>1.0</td><td>1.0</td><td>1.0</td><td>1.0</td><td>1.0</td><td>null</td><td>null</td></tr><tr><td>&quot;max&quot;</td><td>&quot;PID0xffe&quot;</td><td>14.0</td><td>&quot;Yes&quot;</td><td>&quot;Yes&quot;</td><td>&quot;Yes&quot;</td><td>&quot;Yes&quot;</td><td>5.609829</td><td>&quot;Zulma&quot;</td><td>&quot;Zywiec&quot;</td><td>&quot;Zzyzx&quot;</td><td>51.0</td><td>64.0</td><td>&quot;Va Hospital&quot;</td><td>&quot;90 CUSHING AV\n",
       "DORCHESTER, MA 0…</td><td>&quot;Deceased&quot;</td><td>&quot;Tachypnea&quot;</td><td>&quot;Tachycardia&quot;</td><td>0.0</td><td>0.0</td><td>0.0</td><td>1.0</td><td>0.0</td><td>&quot;Yes&quot;</td><td>&quot;Low&quot;</td><td>&quot;Male&quot;</td><td>&quot;Yes&quot;</td><td>&quot;Yes&quot;</td><td>&quot;Institute&quot;</td><td>&quot;Yes&quot;</td><td>&quot;Yes&quot;</td><td>&quot;Yes&quot;</td><td>&quot;Yes&quot;</td><td>&quot;Yes&quot;</td><td>&quot;Yes&quot;</td><td>4.0</td><td>&quot;Singular&quot;</td><td>12.0</td><td>&quot;slightly abnormal&quot;</td><td>1.0</td><td>1.0</td><td>1.0</td><td>1.0</td><td>1.0</td><td>&quot;Single-gene inheritance diseas…</td><td>&quot;Tay-Sachs&quot;</td></tr></tbody></table></div>"
      ],
      "text/plain": [
       "shape: (8, 46)\n",
       "┌───────────┬───────────┬───────────┬───────────┬───┬───────────┬───────────┬───────────┬──────────┐\n",
       "│ statistic ┆ Patient   ┆ Patient   ┆ Genes in  ┆ … ┆ Symptom 4 ┆ Symptom 5 ┆ Genetic   ┆ Disorder │\n",
       "│ ---       ┆ Id        ┆ Age       ┆ mother's  ┆   ┆ ---       ┆ ---       ┆ Disorder  ┆ Subclass │\n",
       "│ str       ┆ ---       ┆ ---       ┆ side      ┆   ┆ f64       ┆ f64       ┆ ---       ┆ ---      │\n",
       "│           ┆ str       ┆ f64       ┆ ---       ┆   ┆           ┆           ┆ str       ┆ str      │\n",
       "│           ┆           ┆           ┆ str       ┆   ┆           ┆           ┆           ┆          │\n",
       "╞═══════════╪═══════════╪═══════════╪═══════════╪═══╪═══════════╪═══════════╪═══════════╪══════════╡\n",
       "│ count     ┆ 22083     ┆ 20656.0   ┆ 22083     ┆ … ┆ 19970.0   ┆ 19930.0   ┆ 19937     ┆ 19915    │\n",
       "│ null_coun ┆ 0         ┆ 1427.0    ┆ 0         ┆ … ┆ 2113.0    ┆ 2153.0    ┆ 2146      ┆ 2168     │\n",
       "│ t         ┆           ┆           ┆           ┆   ┆           ┆           ┆           ┆          │\n",
       "│ mean      ┆ null      ┆ 6.974148  ┆ null      ┆ … ┆ 0.497747  ┆ 0.461917  ┆ null      ┆ null     │\n",
       "│ std       ┆ null      ┆ 4.319475  ┆ null      ┆ … ┆ 0.500007  ┆ 0.49856   ┆ null      ┆ null     │\n",
       "│ min       ┆ PID0x1    ┆ 0.0       ┆ No        ┆ … ┆ 0.0       ┆ 0.0       ┆ Mitochond ┆ Alzheime │\n",
       "│           ┆           ┆           ┆           ┆   ┆           ┆           ┆ rial      ┆ r's      │\n",
       "│           ┆           ┆           ┆           ┆   ┆           ┆           ┆ genetic   ┆          │\n",
       "│           ┆           ┆           ┆           ┆   ┆           ┆           ┆ inherita… ┆          │\n",
       "│ 5%        ┆ null      ┆ 0.0       ┆ null      ┆ … ┆ 0.0       ┆ 0.0       ┆ null      ┆ null     │\n",
       "│ 95%       ┆ null      ┆ 14.0      ┆ null      ┆ … ┆ 1.0       ┆ 1.0       ┆ null      ┆ null     │\n",
       "│ max       ┆ PID0xffe  ┆ 14.0      ┆ Yes       ┆ … ┆ 1.0       ┆ 1.0       ┆ Single-ge ┆ Tay-Sach │\n",
       "│           ┆           ┆           ┆           ┆   ┆           ┆           ┆ ne inheri ┆ s        │\n",
       "│           ┆           ┆           ┆           ┆   ┆           ┆           ┆ tance     ┆          │\n",
       "│           ┆           ┆           ┆           ┆   ┆           ┆           ┆ diseas…   ┆          │\n",
       "└───────────┴───────────┴───────────┴───────────┴───┴───────────┴───────────┴───────────┴──────────┘"
      ]
     },
     "execution_count": 25,
     "metadata": {},
     "output_type": "execute_result"
    }
   ],
   "source": [
    "df_datos.describe(percentiles=[0.05, 0.95])"
   ]
  },
  {
   "cell_type": "markdown",
   "id": "67d5ab18",
   "metadata": {},
   "source": [
    "# Selección de columnas"
   ]
  },
  {
   "cell_type": "code",
   "execution_count": 26,
   "id": "c345ac92",
   "metadata": {},
   "outputs": [
    {
     "data": {
      "text/html": [
       "<div><style>\n",
       ".dataframe > thead > tr,\n",
       ".dataframe > tbody > tr {\n",
       "  text-align: right;\n",
       "  white-space: pre-wrap;\n",
       "}\n",
       "</style>\n",
       "<small>shape: (22_083, 3)</small><table border=\"1\" class=\"dataframe\"><thead><tr><th>Patient Id</th><th>Patient Age</th><th>Status</th></tr><tr><td>str</td><td>f64</td><td>str</td></tr></thead><tbody><tr><td>&quot;PID0x6418&quot;</td><td>2.0</td><td>&quot;Alive&quot;</td></tr><tr><td>&quot;PID0x25d5&quot;</td><td>4.0</td><td>&quot;Deceased&quot;</td></tr><tr><td>&quot;PID0x4a82&quot;</td><td>6.0</td><td>&quot;Alive&quot;</td></tr><tr><td>&quot;PID0x4ac8&quot;</td><td>12.0</td><td>&quot;Deceased&quot;</td></tr><tr><td>&quot;PID0x1bf7&quot;</td><td>11.0</td><td>&quot;Alive&quot;</td></tr><tr><td>&hellip;</td><td>&hellip;</td><td>&hellip;</td></tr><tr><td>&quot;PID0x5598&quot;</td><td>4.0</td><td>&quot;Deceased&quot;</td></tr><tr><td>&quot;PID0x19cb&quot;</td><td>8.0</td><td>&quot;Alive&quot;</td></tr><tr><td>&quot;PID0x3c4f&quot;</td><td>8.0</td><td>&quot;Deceased&quot;</td></tr><tr><td>&quot;PID0x13a&quot;</td><td>7.0</td><td>&quot;Alive&quot;</td></tr><tr><td>&quot;PID0x9332&quot;</td><td>11.0</td><td>&quot;Deceased&quot;</td></tr></tbody></table></div>"
      ],
      "text/plain": [
       "shape: (22_083, 3)\n",
       "┌────────────┬─────────────┬──────────┐\n",
       "│ Patient Id ┆ Patient Age ┆ Status   │\n",
       "│ ---        ┆ ---         ┆ ---      │\n",
       "│ str        ┆ f64         ┆ str      │\n",
       "╞════════════╪═════════════╪══════════╡\n",
       "│ PID0x6418  ┆ 2.0         ┆ Alive    │\n",
       "│ PID0x25d5  ┆ 4.0         ┆ Deceased │\n",
       "│ PID0x4a82  ┆ 6.0         ┆ Alive    │\n",
       "│ PID0x4ac8  ┆ 12.0        ┆ Deceased │\n",
       "│ PID0x1bf7  ┆ 11.0        ┆ Alive    │\n",
       "│ …          ┆ …           ┆ …        │\n",
       "│ PID0x5598  ┆ 4.0         ┆ Deceased │\n",
       "│ PID0x19cb  ┆ 8.0         ┆ Alive    │\n",
       "│ PID0x3c4f  ┆ 8.0         ┆ Deceased │\n",
       "│ PID0x13a   ┆ 7.0         ┆ Alive    │\n",
       "│ PID0x9332  ┆ 11.0        ┆ Deceased │\n",
       "└────────────┴─────────────┴──────────┘"
      ]
     },
     "execution_count": 26,
     "metadata": {},
     "output_type": "execute_result"
    }
   ],
   "source": [
    "df_datos.select(\"Patient Id\", \"Patient Age\", \"Status\")"
   ]
  },
  {
   "cell_type": "code",
   "execution_count": 27,
   "id": "9ac246e4",
   "metadata": {},
   "outputs": [],
   "source": [
    "df_datos_numericos = df_datos.select(cs.by_name(\"Patient Id\") | cs.numeric())"
   ]
  },
  {
   "cell_type": "code",
   "execution_count": 28,
   "id": "154b7f8c",
   "metadata": {},
   "outputs": [
    {
     "data": {
      "text/html": [
       "<div><style>\n",
       ".dataframe > thead > tr,\n",
       ".dataframe > tbody > tr {\n",
       "  text-align: right;\n",
       "  white-space: pre-wrap;\n",
       "}\n",
       "</style>\n",
       "<small>shape: (16_510, 17)</small><table border=\"1\" class=\"dataframe\"><thead><tr><th>Patient Id</th><th>Patient Age</th><th>Blood cell count (mcL)</th><th>Mother&#x27;s age</th><th>Father&#x27;s age</th><th>Test 1</th><th>Test 2</th><th>Test 3</th><th>Test 4</th><th>Test 5</th><th>No. of previous abortion</th><th>White Blood cell count (thousand per microliter)</th><th>Symptom 1</th><th>Symptom 2</th><th>Symptom 3</th><th>Symptom 4</th><th>Symptom 5</th></tr><tr><td>str</td><td>f64</td><td>f64</td><td>f64</td><td>f64</td><td>f64</td><td>f64</td><td>f64</td><td>f64</td><td>f64</td><td>f64</td><td>f64</td><td>f64</td><td>f64</td><td>f64</td><td>f64</td><td>f64</td></tr></thead><tbody><tr><td>&quot;PID0x25d5&quot;</td><td>4.0</td><td>4.910669</td><td>null</td><td>23.0</td><td>null</td><td>0.0</td><td>0.0</td><td>1.0</td><td>0.0</td><td>null</td><td>5.52256</td><td>1.0</td><td>null</td><td>1.0</td><td>1.0</td><td>0.0</td></tr><tr><td>&quot;PID0x4a82&quot;</td><td>6.0</td><td>4.893297</td><td>41.0</td><td>22.0</td><td>0.0</td><td>0.0</td><td>0.0</td><td>1.0</td><td>0.0</td><td>4.0</td><td>null</td><td>0.0</td><td>1.0</td><td>1.0</td><td>1.0</td><td>1.0</td></tr><tr><td>&quot;PID0x4ac8&quot;</td><td>12.0</td><td>4.70528</td><td>21.0</td><td>null</td><td>0.0</td><td>0.0</td><td>0.0</td><td>1.0</td><td>0.0</td><td>1.0</td><td>7.919321</td><td>0.0</td><td>0.0</td><td>1.0</td><td>0.0</td><td>0.0</td></tr><tr><td>&quot;PID0x1bf7&quot;</td><td>11.0</td><td>4.720703</td><td>32.0</td><td>null</td><td>0.0</td><td>0.0</td><td>0.0</td><td>1.0</td><td>0.0</td><td>4.0</td><td>4.09821</td><td>0.0</td><td>0.0</td><td>0.0</td><td>0.0</td><td>null</td></tr><tr><td>&quot;PID0x44fe&quot;</td><td>14.0</td><td>5.103188</td><td>null</td><td>null</td><td>0.0</td><td>0.0</td><td>0.0</td><td>1.0</td><td>0.0</td><td>0.0</td><td>10.27223</td><td>1.0</td><td>0.0</td><td>0.0</td><td>1.0</td><td>0.0</td></tr><tr><td>&hellip;</td><td>&hellip;</td><td>&hellip;</td><td>&hellip;</td><td>&hellip;</td><td>&hellip;</td><td>&hellip;</td><td>&hellip;</td><td>&hellip;</td><td>&hellip;</td><td>&hellip;</td><td>&hellip;</td><td>&hellip;</td><td>&hellip;</td><td>&hellip;</td><td>&hellip;</td><td>&hellip;</td></tr><tr><td>&quot;PID0x5598&quot;</td><td>4.0</td><td>5.258298</td><td>35.0</td><td>64.0</td><td>null</td><td>0.0</td><td>null</td><td>1.0</td><td>0.0</td><td>3.0</td><td>6.584811</td><td>0.0</td><td>0.0</td><td>1.0</td><td>0.0</td><td>0.0</td></tr><tr><td>&quot;PID0x19cb&quot;</td><td>8.0</td><td>4.97422</td><td>null</td><td>56.0</td><td>null</td><td>0.0</td><td>null</td><td>1.0</td><td>null</td><td>2.0</td><td>7.041556</td><td>1.0</td><td>1.0</td><td>1.0</td><td>1.0</td><td>0.0</td></tr><tr><td>&quot;PID0x3c4f&quot;</td><td>8.0</td><td>5.18647</td><td>35.0</td><td>51.0</td><td>0.0</td><td>0.0</td><td>0.0</td><td>1.0</td><td>null</td><td>2.0</td><td>7.715464</td><td>0.0</td><td>0.0</td><td>0.0</td><td>1.0</td><td>null</td></tr><tr><td>&quot;PID0x13a&quot;</td><td>7.0</td><td>4.858543</td><td>19.0</td><td>null</td><td>0.0</td><td>0.0</td><td>0.0</td><td>1.0</td><td>0.0</td><td>1.0</td><td>8.43767</td><td>1.0</td><td>1.0</td><td>1.0</td><td>0.0</td><td>0.0</td></tr><tr><td>&quot;PID0x9332&quot;</td><td>11.0</td><td>4.738067</td><td>32.0</td><td>62.0</td><td>0.0</td><td>0.0</td><td>0.0</td><td>1.0</td><td>0.0</td><td>4.0</td><td>11.188371</td><td>1.0</td><td>0.0</td><td>1.0</td><td>1.0</td><td>1.0</td></tr></tbody></table></div>"
      ],
      "text/plain": [
       "shape: (16_510, 17)\n",
       "┌───────────┬───────────┬───────────┬───────────┬───┬───────────┬───────────┬───────────┬──────────┐\n",
       "│ Patient   ┆ Patient   ┆ Blood     ┆ Mother's  ┆ … ┆ Symptom 2 ┆ Symptom 3 ┆ Symptom 4 ┆ Symptom  │\n",
       "│ Id        ┆ Age       ┆ cell      ┆ age       ┆   ┆ ---       ┆ ---       ┆ ---       ┆ 5        │\n",
       "│ ---       ┆ ---       ┆ count     ┆ ---       ┆   ┆ f64       ┆ f64       ┆ f64       ┆ ---      │\n",
       "│ str       ┆ f64       ┆ (mcL)     ┆ f64       ┆   ┆           ┆           ┆           ┆ f64      │\n",
       "│           ┆           ┆ ---       ┆           ┆   ┆           ┆           ┆           ┆          │\n",
       "│           ┆           ┆ f64       ┆           ┆   ┆           ┆           ┆           ┆          │\n",
       "╞═══════════╪═══════════╪═══════════╪═══════════╪═══╪═══════════╪═══════════╪═══════════╪══════════╡\n",
       "│ PID0x25d5 ┆ 4.0       ┆ 4.910669  ┆ null      ┆ … ┆ null      ┆ 1.0       ┆ 1.0       ┆ 0.0      │\n",
       "│ PID0x4a82 ┆ 6.0       ┆ 4.893297  ┆ 41.0      ┆ … ┆ 1.0       ┆ 1.0       ┆ 1.0       ┆ 1.0      │\n",
       "│ PID0x4ac8 ┆ 12.0      ┆ 4.70528   ┆ 21.0      ┆ … ┆ 0.0       ┆ 1.0       ┆ 0.0       ┆ 0.0      │\n",
       "│ PID0x1bf7 ┆ 11.0      ┆ 4.720703  ┆ 32.0      ┆ … ┆ 0.0       ┆ 0.0       ┆ 0.0       ┆ null     │\n",
       "│ PID0x44fe ┆ 14.0      ┆ 5.103188  ┆ null      ┆ … ┆ 0.0       ┆ 0.0       ┆ 1.0       ┆ 0.0      │\n",
       "│ …         ┆ …         ┆ …         ┆ …         ┆ … ┆ …         ┆ …         ┆ …         ┆ …        │\n",
       "│ PID0x5598 ┆ 4.0       ┆ 5.258298  ┆ 35.0      ┆ … ┆ 0.0       ┆ 1.0       ┆ 0.0       ┆ 0.0      │\n",
       "│ PID0x19cb ┆ 8.0       ┆ 4.97422   ┆ null      ┆ … ┆ 1.0       ┆ 1.0       ┆ 1.0       ┆ 0.0      │\n",
       "│ PID0x3c4f ┆ 8.0       ┆ 5.18647   ┆ 35.0      ┆ … ┆ 0.0       ┆ 0.0       ┆ 1.0       ┆ null     │\n",
       "│ PID0x13a  ┆ 7.0       ┆ 4.858543  ┆ 19.0      ┆ … ┆ 1.0       ┆ 1.0       ┆ 0.0       ┆ 0.0      │\n",
       "│ PID0x9332 ┆ 11.0      ┆ 4.738067  ┆ 32.0      ┆ … ┆ 0.0       ┆ 1.0       ┆ 1.0       ┆ 1.0      │\n",
       "└───────────┴───────────┴───────────┴───────────┴───┴───────────┴───────────┴───────────┴──────────┘"
      ]
     },
     "execution_count": 28,
     "metadata": {},
     "output_type": "execute_result"
    }
   ],
   "source": [
    "df_datos_numericos.filter(\n",
    "    pl.col(\"Patient Age\") > 2.0 \n",
    ")"
   ]
  },
  {
   "cell_type": "code",
   "execution_count": 29,
   "id": "2b847425",
   "metadata": {},
   "outputs": [
    {
     "data": {
      "text/html": [
       "<div><style>\n",
       ".dataframe > thead > tr,\n",
       ".dataframe > tbody > tr {\n",
       "  text-align: right;\n",
       "  white-space: pre-wrap;\n",
       "}\n",
       "</style>\n",
       "<small>shape: (28, 1)</small><table border=\"1\" class=\"dataframe\"><thead><tr><th>Institute Name</th></tr><tr><td>str</td></tr></thead><tbody><tr><td>&quot;Franciscan Children&#x27;s&nbsp;&nbsp;Hospita…</td></tr><tr><td>&quot;Boston Medical Center&quot;</td></tr><tr><td>&quot;Beth Israel Deaconess Medical …</td></tr><tr><td>&quot;Brigham And Women&#x27;s Hospital&quot;</td></tr><tr><td>&quot;Carney Hospital&quot;</td></tr><tr><td>&hellip;</td></tr><tr><td>&quot;Boston Specialty &amp; Rehabilitat…</td></tr><tr><td>&quot;Jewish Memorial Hospital&quot;</td></tr><tr><td>&quot;Hebrew Rehabilitation Center&quot;</td></tr><tr><td>&quot;Faulkner Hospital&quot;</td></tr><tr><td>&quot;Kindred Hospital&quot;</td></tr></tbody></table></div>"
      ],
      "text/plain": [
       "shape: (28, 1)\n",
       "┌─────────────────────────────────┐\n",
       "│ Institute Name                  │\n",
       "│ ---                             │\n",
       "│ str                             │\n",
       "╞═════════════════════════════════╡\n",
       "│ Franciscan Children's  Hospita… │\n",
       "│ Boston Medical Center           │\n",
       "│ Beth Israel Deaconess Medical … │\n",
       "│ Brigham And Women's Hospital    │\n",
       "│ Carney Hospital                 │\n",
       "│ …                               │\n",
       "│ Boston Specialty & Rehabilitat… │\n",
       "│ Jewish Memorial Hospital        │\n",
       "│ Hebrew Rehabilitation Center    │\n",
       "│ Faulkner Hospital               │\n",
       "│ Kindred Hospital                │\n",
       "└─────────────────────────────────┘"
      ]
     },
     "execution_count": 29,
     "metadata": {},
     "output_type": "execute_result"
    }
   ],
   "source": [
    "df_datos.select(\"Institute Name\").unique()"
   ]
  },
  {
   "cell_type": "code",
   "execution_count": 30,
   "id": "57b8fa7e",
   "metadata": {},
   "outputs": [
    {
     "data": {
      "text/html": [
       "<div><style>\n",
       ".dataframe > thead > tr,\n",
       ".dataframe > tbody > tr {\n",
       "  text-align: right;\n",
       "  white-space: pre-wrap;\n",
       "}\n",
       "</style>\n",
       "<small>shape: (1, 2)</small><table border=\"1\" class=\"dataframe\"><thead><tr><th>Mother&#x27;s age</th><th>Father&#x27;s age</th></tr><tr><td>f64</td><td>f64</td></tr></thead><tbody><tr><td>34.526454</td><td>41.972852</td></tr></tbody></table></div>"
      ],
      "text/plain": [
       "shape: (1, 2)\n",
       "┌──────────────┬──────────────┐\n",
       "│ Mother's age ┆ Father's age │\n",
       "│ ---          ┆ ---          │\n",
       "│ f64          ┆ f64          │\n",
       "╞══════════════╪══════════════╡\n",
       "│ 34.526454    ┆ 41.972852    │\n",
       "└──────────────┴──────────────┘"
      ]
     },
     "execution_count": 30,
     "metadata": {},
     "output_type": "execute_result"
    }
   ],
   "source": [
    "df_datos.select(cs.ends_with(\"age\")).mean()"
   ]
  }
 ],
 "metadata": {
  "kernelspec": {
   "display_name": "class-working",
   "language": "python",
   "name": "python3"
  },
  "language_info": {
   "codemirror_mode": {
    "name": "ipython",
    "version": 3
   },
   "file_extension": ".py",
   "mimetype": "text/x-python",
   "name": "python",
   "nbconvert_exporter": "python",
   "pygments_lexer": "ipython3",
   "version": "3.12.7"
  }
 },
 "nbformat": 4,
 "nbformat_minor": 5
}
